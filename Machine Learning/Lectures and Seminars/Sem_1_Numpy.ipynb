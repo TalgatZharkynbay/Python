{
  "cells": [
    {
      "cell_type": "markdown",
      "metadata": {
        "id": "JV_DFHwgFLxt"
      },
      "source": [
        "# Machine Learning\n",
        "\n",
        "## HSE, 2024-25"
      ]
    },
    {
      "cell_type": "markdown",
      "metadata": {
        "id": "4g9bZIi-YdZz"
      },
      "source": [
        "# Seminar 1. Numpy"
      ]
    },
    {
      "cell_type": "markdown",
      "metadata": {
        "id": "ha48nfcnYdZ6"
      },
      "source": [
        "All numpy documentation - http://www.numpy.org/"
      ]
    },
    {
      "cell_type": "markdown",
      "source": [
        "![Numpy.JPG](data:image/jpeg;base64,/9j/4AAQSkZJRgABAQEAYABgAAD/4REARXhpZgAATU0AKgAAAAgABAE7AAIAAAAaAAAISodpAAQAAAABAAAIZJydAAEAAAAcAAAQ3OocAAcAAAgMAAAAPgAAAAAc6gAAAAgAAAAAAAAAAAAAAAAAAAAAAAAAAAAAAAAAAAAAAAAAAAAAAAAAAAAAAAAAAAAAAAAAAAAAAAAAAAAAAAAAAAAAAAAAAAAAAAAAAAAAAAAAAAAAAAAAAAAAAAAAAAAAAAAAAAAAAAAAAAAAAAAAAAAAAAAAAAAAAAAAAAAAAAAAAAAAAAAAAAAAAAAAAAAAAAAAAAAAAAAAAAAAAAAAAAAAAAAAAAAAAAAAAAAAAAAAAAAAAAAAAAAAAAAAAAAAAAAAAAAAAAAAAAAAAAAAAAAAAAAAAAAAAAAAAAAAAAAAAAAAAAAAAAAAAAAAAAAAAAAAAAAAAAAAAAAAAAAAAAAAAAAAAAAAAAAAAAAAAAAAAAAAAAAAAAAAAAAAAAAAAAAAAAAAAAAAAAAAAAAAAAAAAAAAAAAAAAAAAAAAAAAAAAAAAAAAAAAAAAAAAAAAAAAAAAAAAAAAAAAAAAAAAAAAAAAAAAAAAAAAAAAAAAAAAAAAAAAAAAAAAAAAAAAAAAAAAAAAAAAAAAAAAAAAAAAAAAAAAAAAAAAAAAAAAAAAAAAAAAAAAAAAAAAAAAAAAAAAAAAAAAAAAAAAAAAAAAAAAAAAAAAAAAAAAAAAAAAAAAAAAAAAAAAAAAAAAAAAAAAAAAAAAAAAAAAAAAAAAAAAAAAAAAAAAAAAAAAAAAAAAAAAAAAAAAAAAAAAAAAAAAAAAAAAAAAAAAAAAAAAAAAAAAAAAAAAAAAAAAAAAAAAAAAAAAAAAAAAAAAAAAAAAAAAAAAAAAAAAAAAAAAAAAAAAAAAAAAAAAAAAAAAAAAAAAAAAAAAAAAAAAAAAAAAAAAAAAAAAAAAAAAAAAAAAAAAAAAAAAAAAAAAAAAAAAAAAAAAAAAAAAAAAAAAAAAAAAAAAAAAAAAAAAAAAAAAAAAAAAAAAAAAAAAAAAAAAAAAAAAAAAAAAAAAAAAAAAAAAAAAAAAAAAAAAAAAAAAAAAAAAAAAAAAAAAAAAAAAAAAAAAAAAAAAAAAAAAAAAAAAAAAAAAAAAAAAAAAAAAAAAAAAAAAAAAAAAAAAAAAAAAAAAAAAAAAAAAAAAAAAAAAAAAAAAAAAAAAAAAAAAAAAAAAAAAAAAAAAAAAAAAAAAAAAAAAAAAAAAAAAAAAAAAAAAAAAAAAAAAAAAAAAAAAAAAAAAAAAAAAAAAAAAAAAAAAAAAAAAAAAAAAAAAAAAAAAAAAAAAAAAAAAAAAAAAAAAAAAAAAAAAAAAAAAAAAAAAAAAAAAAAAAAAAAAAAAAAAAAAAAAAAAAAAAAAAAAAAAAAAAAAAAAAAAAAAAAAAAAAAAAAAAAAAAAAAAAAAAAAAAAAAAAAAAAAAAAAAAAAAAAAAAAAAAAAAAAAAAAAAAAAAAAAAAAAAAAAAAAAAAAAAAAAAAAAAAAAAAAAAAAAAAAAAAAAAAAAAAAAAAAAAAAAAAAAAAAAAAAAAAAAAAAAAAAAAAAAAAAAAAAAAAAAAAAAAAAAAAAAAAAAAAAAAAAAAAAAAAAAAAAAAAAAAAAAAAAAAAAAAAAAAAAAAAAAAAAAAAAAAAAAAAAAAAAAAAAAAAAAAAAAAAAAAAAAAAAAAAAAAAAAAAAAAAAAAAAAAAAAAAAAAAAAAAAAAAAAAAAAAAAAAAAAAAAAAAAAAAAAAAAAAAAAAAAAAAAAAAAAAAAAAAAAAAAAAAAAAAAAAAAAAAAAAAAAAAAAAAAAAAAAAAAAAAAAAAAAAAAAAAAAAAAAAAAAAAAAAAAAAAAAAAAAAAAAAAAAAAAAAAAAAAAAAAAAAAAAAAAAAAAAAAAAAAAAAAAAAAAAAAAAAAAAAAAAAAAAAAAAAAAAAAAAAAAAAAAAAAAAAAAAAAAAAAAAAAAAAAAAAAAAAAAAAAAAAAAAAAAAAAAAAAAAAAAAAAAAAAAAAAAAAAAAAAAAAAAAAAAAAAAAAAAAAAAAAAAAAAAAAAAAAAAAAAAAAAAAAAAAAAAAAAAAAAAAAAAAAAAAAAAAAAAAAAAAAAAAAAAAAAAAAAAAAAAAAAAAAAAAAAAAAAAAAAAAAAAAAAAAAAAAAAAAAAAAAAAAAAAAAAAAAAAAAAAAAAAAAAAAAAAAAAAAAAAAAAAAAAAAAAAAAAAAAAAAAAAAAAAAAAAAAAAAAAAAAAAAAAAAAAAAAAAAAAAAAAAAAAAAAAAAAAAAAAAAAAAAAAAAAAAAAAAAAAAAAAAAAAAAAAAAAAAAAAAAAAAAAAAAAAAAAAAAAAAAAAAAAAAAAAAAAAAAAAAAAAAAAAAAAAAAAAAAAAAAAAAAAAAAAAAAAAAAAAAAAAAAAAAAAAAAAAAAAAAAAAAAAAAAAAAAAAAAAAAAAAAAAAAAAAAAAAAAAAAAAAAAAAAAAAAAAAAAAAAAAAAAAAAAAAAAAAAAAAAAAAAAAAAAAAAAAAAAAAAAAAAAAAAAAAAAAAAAAAAAAAAAAAAAAAAAAAAAAAAAAAAAAAAAAAAAAAAAAAAAAAAAAAAAAAAAAAAAAAAAAAAAAAAAAAAAAAAAAAAAAAAAAAAAAAAAAAAAAAAAAAAAAAAAAAAAAAAAAAAAAAAAAAAAAAAAAAAAAAAAAAAAAAAAAAAAAAAAAAAAAAAAAAAAAAAAAAAAAAAAAAAAAAAAAAAAAAAAAAAAAAAAAAAAAAAAAAAAAAAAAAAAAAAAAAAAAAAAAAAAAAAAAAAAAAAAAAAAAAAAAAAAAAAAAAAAAAAAAAAAAAAAAAANCu0YDQuNC5INCh0LDQvdC+0YfQutC40L0AAAWQAwACAAAAFAAAELKQBAACAAAAFAAAEMaSkQACAAAAAzM5AACSkgACAAAAAzM5AADqHAAHAAAIDAAACKYAAAAAHOoAAAAIAAAAAAAAAAAAAAAAAAAAAAAAAAAAAAAAAAAAAAAAAAAAAAAAAAAAAAAAAAAAAAAAAAAAAAAAAAAAAAAAAAAAAAAAAAAAAAAAAAAAAAAAAAAAAAAAAAAAAAAAAAAAAAAAAAAAAAAAAAAAAAAAAAAAAAAAAAAAAAAAAAAAAAAAAAAAAAAAAAAAAAAAAAAAAAAAAAAAAAAAAAAAAAAAAAAAAAAAAAAAAAAAAAAAAAAAAAAAAAAAAAAAAAAAAAAAAAAAAAAAAAAAAAAAAAAAAAAAAAAAAAAAAAAAAAAAAAAAAAAAAAAAAAAAAAAAAAAAAAAAAAAAAAAAAAAAAAAAAAAAAAAAAAAAAAAAAAAAAAAAAAAAAAAAAAAAAAAAAAAAAAAAAAAAAAAAAAAAAAAAAAAAAAAAAAAAAAAAAAAAAAAAAAAAAAAAAAAAAAAAAAAAAAAAAAAAAAAAAAAAAAAAAAAAAAAAAAAAAAAAAAAAAAAAAAAAAAAAAAAAAAAAAAAAAAAAAAAAAAAAAAAAAAAAAAAAAAAAAAAAAAAAAAAAAAAAAAAAAAAAAAAAAAAAAAAAAAAAAAAAAAAAAAAAAAAAAAAAAAAAAAAAAAAAAAAAAAAAAAAAAAAAAAAAAAAAAAAAAAAAAAAAAAAAAAAAAAAAAAAAAAAAAAAAAAAAAAAAAAAAAAAAAAAAAAAAAAAAAAAAAAAAAAAAAAAAAAAAAAAAAAAAAAAAAAAAAAAAAAAAAAAAAAAAAAAAAAAAAAAAAAAAAAAAAAAAAAAAAAAAAAAAAAAAAAAAAAAAAAAAAAAAAAAAAAAAAAAAAAAAAAAAAAAAAAAAAAAAAAAAAAAAAAAAAAAAAAAAAAAAAAAAAAAAAAAAAAAAAAAAAAAAAAAAAAAAAAAAAAAAAAAAAAAAAAAAAAAAAAAAAAAAAAAAAAAAAAAAAAAAAAAAAAAAAAAAAAAAAAAAAAAAAAAAAAAAAAAAAAAAAAAAAAAAAAAAAAAAAAAAAAAAAAAAAAAAAAAAAAAAAAAAAAAAAAAAAAAAAAAAAAAAAAAAAAAAAAAAAAAAAAAAAAAAAAAAAAAAAAAAAAAAAAAAAAAAAAAAAAAAAAAAAAAAAAAAAAAAAAAAAAAAAAAAAAAAAAAAAAAAAAAAAAAAAAAAAAAAAAAAAAAAAAAAAAAAAAAAAAAAAAAAAAAAAAAAAAAAAAAAAAAAAAAAAAAAAAAAAAAAAAAAAAAAAAAAAAAAAAAAAAAAAAAAAAAAAAAAAAAAAAAAAAAAAAAAAAAAAAAAAAAAAAAAAAAAAAAAAAAAAAAAAAAAAAAAAAAAAAAAAAAAAAAAAAAAAAAAAAAAAAAAAAAAAAAAAAAAAAAAAAAAAAAAAAAAAAAAAAAAAAAAAAAAAAAAAAAAAAAAAAAAAAAAAAAAAAAAAAAAAAAAAAAAAAAAAAAAAAAAAAAAAAAAAAAAAAAAAAAAAAAAAAAAAAAAAAAAAAAAAAAAAAAAAAAAAAAAAAAAAAAAAAAAAAAAAAAAAAAAAAAAAAAAAAAAAAAAAAAAAAAAAAAAAAAAAAAAAAAAAAAAAAAAAAAAAAAAAAAAAAAAAAAAAAAAAAAAAAAAAAAAAAAAAAAAAAAAAAAAAAAAAAAAAAAAAAAAAAAAAAAAAAAAAAAAAAAAAAAAAAAAAAAAAAAAAAAAAAAAAAAAAAAAAAAAAAAAAAAAAAAAAAAAAAAAAAAAAAAAAAAAAAAAAAAAAAAAAAAAAAAAAAAAAAAAAAAAAAAAAAAAAAAAAAAAAAAAAAAAAAAAAAAAAAAAAAAAAAAAAAAAAAAAAAAAAAAAAAAAAAAAAAAAAAAAAAAAAAAAAAAAAAAAAAAAAAAAAAAAAAAAAAAAAAAAAAAAAAAAAAAAAAAAAAAAAAAAAAAAAAAAAAAAAAAAAAAAAAAAAAAAAAAAAAAAAAAAAAAAAAAAAAAAAAAAAAAAAAAAAAAAAAAAAAAAAAAAAAAAAAAAAAAAAAAAAAAAAAAAAAAAAAAAAAAAAAAAAAAAAAAAAAAAAAAAAAAAAAAAAAAAAAAAAAAAAAAAAAAAAAAAAAAAAAAAAAAAAAAAAAAAAAAAAAAAAAAAAAAAAAAAAAAAAAAAAAAAAAAAAAAAAAAAAAAAAAAAAAAAAAAAAAAAAAAAAAAAAAAAAAAAAAAAAAAAAAAAAAAAAAAAAAAAAAAAAAAAAAAAAAAAAAAAAAAAAAAAAAAAAAAAAAAAAAAAAAAAAAAAAAAAAAAAAAAAAAAAAAAAAAAAAAAAAAAAAAAAAAAAAAAAAAAAAAAAAAAAAAAAAAAAAAAAAAAAAAAAAAAAAAAAAAAAAAAAAAAAAAAAAAAAAAAAAAAAAAAAAAAAAAAAAAAAAAAAAAAAAAAAAAAAAAAAAAAAAAAAAAAAAAAAAAAAAAAAAAAAAAAAAAAAAAAAAAAAAAAAAAAAAAAAAAAAAAAAAAAAAAAAAAAAAAAAAAAAAAAAAAAAAAAAAAAAAAAAAAAAAAAAAAAAAAAAAAAAAAAAAAAAAAAAAAAAAAAAAAAAAAAAAAAAAAAAAAAAAAAAAAAAAAAAAAAAAAAAAAAAAAAAAAAAAAAAAAAAAAAAAAAAAAAAAAAAAAAAAAAAAAAAAAAAAAAAAAAAAAAAAAAAAAAAAAAAAAAAAAAAAAAAAAAAAAAAAAAAAAAAAAAAAAAAAAAAAAAAAAAAAAAAAAAAAAAAAAAAAAAAAAAAAAAAAAAAAAAAAAAAAAAyMDIzOjA0OjIzIDE3OjM1OjUxADIwMjM6MDQ6MjMgMTc6MzU6NTEAAAAuBEAEOAQ5BCAAIQQwBD0EPgRHBDoEOAQ9BAAA/+ELLGh0dHA6Ly9ucy5hZG9iZS5jb20veGFwLzEuMC8APD94cGFja2V0IGJlZ2luPSfvu78nIGlkPSdXNU0wTXBDZWhpSHpyZVN6TlRjemtjOWQnPz4NCjx4OnhtcG1ldGEgeG1sbnM6eD0iYWRvYmU6bnM6bWV0YS8iPjxyZGY6UkRGIHhtbG5zOnJkZj0iaHR0cDovL3d3dy53My5vcmcvMTk5OS8wMi8yMi1yZGYtc3ludGF4LW5zIyI+PHJkZjpEZXNjcmlwdGlvbiByZGY6YWJvdXQ9InV1aWQ6ZmFmNWJkZDUtYmEzZC0xMWRhLWFkMzEtZDMzZDc1MTgyZjFiIiB4bWxuczpkYz0iaHR0cDovL3B1cmwub3JnL2RjL2VsZW1lbnRzLzEuMS8iLz48cmRmOkRlc2NyaXB0aW9uIHJkZjphYm91dD0idXVpZDpmYWY1YmRkNS1iYTNkLTExZGEtYWQzMS1kMzNkNzUxODJmMWIiIHhtbG5zOnhtcD0iaHR0cDovL25zLmFkb2JlLmNvbS94YXAvMS4wLyI+PHhtcDpDcmVhdGVEYXRlPjIwMjMtMDQtMjNUMTc6MzU6NTEuMzk0PC94bXA6Q3JlYXRlRGF0ZT48L3JkZjpEZXNjcmlwdGlvbj48cmRmOkRlc2NyaXB0aW9uIHJkZjphYm91dD0idXVpZDpmYWY1YmRkNS1iYTNkLTExZGEtYWQzMS1kMzNkNzUxODJmMWIiIHhtbG5zOmRjPSJodHRwOi8vcHVybC5vcmcvZGMvZWxlbWVudHMvMS4xLyI+PGRjOmNyZWF0b3I+PHJkZjpTZXEgeG1sbnM6cmRmPSJodHRwOi8vd3d3LnczLm9yZy8xOTk5LzAyLzIyLXJkZi1zeW50YXgtbnMjIj48cmRmOmxpPtCu0YDQuNC5INCh0LDQvdC+0YfQutC40L08L3JkZjpsaT48L3JkZjpTZXE+DQoJCQk8L2RjOmNyZWF0b3I+PC9yZGY6RGVzY3JpcHRpb24+PC9yZGY6UkRGPjwveDp4bXBtZXRhPg0KICAgICAgICAgICAgICAgICAgICAgICAgICAgICAgICAgICAgICAgICAgICAgICAgICAgICAgICAgICAgICAgICAgICAgICAgICAgICAgICAgICAgICAgICAgICAgICAgICAgIAogICAgICAgICAgICAgICAgICAgICAgICAgICAgICAgICAgICAgICAgICAgICAgICAgICAgICAgICAgICAgICAgICAgICAgICAgICAgICAgICAgICAgICAgICAgICAgICAgICAgCiAgICAgICAgICAgICAgICAgICAgICAgICAgICAgICAgICAgICAgICAgICAgICAgICAgICAgICAgICAgICAgICAgICAgICAgICAgICAgICAgICAgICAgICAgICAgICAgICAgICAKICAgICAgICAgICAgICAgICAgICAgICAgICAgICAgICAgICAgICAgICAgICAgICAgICAgICAgICAgICAgICAgICAgICAgICAgICAgICAgICAgICAgICAgICAgICAgICAgICAgIAogICAgICAgICAgICAgICAgICAgICAgICAgICAgICAgICAgICAgICAgICAgICAgICAgICAgICAgICAgICAgICAgICAgICAgICAgICAgICAgICAgICAgICAgICAgICAgICAgICAgCiAgICAgICAgICAgICAgICAgICAgICAgICAgICAgICAgICAgICAgICAgICAgICAgICAgICAgICAgICAgICAgICAgICAgICAgICAgICAgICAgICAgICAgICAgICAgICAgICAgICAKICAgICAgICAgICAgICAgICAgICAgICAgICAgICAgICAgICAgICAgICAgICAgICAgICAgICAgICAgICAgICAgICAgICAgICAgICAgICAgICAgICAgICAgICAgICAgICAgICAgIAogICAgICAgICAgICAgICAgICAgICAgICAgICAgICAgICAgICAgICAgICAgICAgICAgICAgICAgICAgICAgICAgICAgICAgICAgICAgICAgICAgICAgICAgICAgICAgICAgICAgCiAgICAgICAgICAgICAgICAgICAgICAgICAgICAgICAgICAgICAgICAgICAgICAgICAgICAgICAgICAgICAgICAgICAgICAgICAgICAgICAgICAgICAgICAgICAgICAgICAgICAKICAgICAgICAgICAgICAgICAgICAgICAgICAgICAgICAgICAgICAgICAgICAgICAgICAgICAgICAgICAgICAgICAgICAgICAgICAgICAgICAgICAgICAgICAgICAgICAgICAgIAogICAgICAgICAgICAgICAgICAgICAgICAgICAgICAgICAgICAgICAgICAgICAgICAgICAgICAgICAgICAgICAgICAgICAgICAgICAgICAgICAgICAgICAgICAgICAgICAgICAgCiAgICAgICAgICAgICAgICAgICAgICAgICAgICAgICAgICAgICAgICAgICAgICAgICAgICAgICAgICAgICAgICAgICAgICAgICAgICAgICAgICAgICAgICAgICAgICAgICAgICAKICAgICAgICAgICAgICAgICAgICAgICAgICAgICAgICAgICAgICAgICAgICAgICAgICAgICAgICAgICAgICAgICAgICAgICAgICAgICAgICAgICAgICAgICAgICAgICAgICAgIAogICAgICAgICAgICAgICAgICAgICAgICAgICAgICAgICAgICAgICAgICAgICAgICAgICAgICAgICAgICAgICAgICAgICAgICAgICAgICAgICAgICAgICAgICAgICAgICAgICAgCiAgICAgICAgICAgICAgICAgICAgICAgICAgICAgICAgICAgICAgICAgICAgICAgICAgICAgICAgICAgICAgICAgICAgICAgICAgICAgICAgICAgICAgICAgICAgICAgICAgICAKICAgICAgICAgICAgICAgICAgICAgICAgICAgICAgICAgICAgICAgICAgICAgICAgICAgICAgICAgICAgICAgICAgICAgICAgICAgICAgICAgICAgICAgICAgICAgICAgICAgIAogICAgICAgICAgICAgICAgICAgICAgICAgICAgICAgICAgICAgICAgICAgICAgICAgICAgICAgICAgICAgICAgICAgICAgICAgICAgICAgICAgICAgICAgICAgICAgICAgICAgCiAgICAgICAgICAgICAgICAgICAgICAgICAgICAgICAgICAgICAgICAgICAgICAgICAgICAgICAgICAgICAgICAgICAgICAgICAgICAgICAgICAgICAgICAgICAgICAgICAgICAKICAgICAgICAgICAgICAgICAgICAgICAgICAgICAgICAgICAgICAgICAgICAgICAgICAgICAgICAgICAgICAgICAgICAgICAgICAgICAgICAgICAgICAgICAgICAgICAgICAgIAogICAgICAgICAgICAgICAgICAgICAgICAgICAgICAgICAgICAgICAgICAgICAgICAgICAgICAgICAgICAgICAgICAgICAgICAgICAgICAgICAgICAgICAgICAgICAgICAgICAgCiAgICAgICAgICAgICAgICAgICAgICAgICAgICA8P3hwYWNrZXQgZW5kPSd3Jz8+/9sAQwAHBQUGBQQHBgUGCAcHCAoRCwoJCQoVDxAMERgVGhkYFRgXGx4nIRsdJR0XGCIuIiUoKSssKxogLzMvKjInKisq/9sAQwEHCAgKCQoUCwsUKhwYHCoqKioqKioqKioqKioqKioqKioqKioqKioqKioqKioqKioqKioqKioqKioqKioqKioq/8AAEQgBHAIMAwEiAAIRAQMRAf/EAB8AAAEFAQEBAQEBAAAAAAAAAAABAgMEBQYHCAkKC//EALUQAAIBAwMCBAMFBQQEAAABfQECAwAEEQUSITFBBhNRYQcicRQygZGhCCNCscEVUtHwJDNicoIJChYXGBkaJSYnKCkqNDU2Nzg5OkNERUZHSElKU1RVVldYWVpjZGVmZ2hpanN0dXZ3eHl6g4SFhoeIiYqSk5SVlpeYmZqio6Slpqeoqaqys7S1tre4ubrCw8TFxsfIycrS09TV1tfY2drh4uPk5ebn6Onq8fLz9PX29/j5+v/EAB8BAAMBAQEBAQEBAQEAAAAAAAABAgMEBQYHCAkKC//EALURAAIBAgQEAwQHBQQEAAECdwABAgMRBAUhMQYSQVEHYXETIjKBCBRCkaGxwQkjM1LwFWJy0QoWJDThJfEXGBkaJicoKSo1Njc4OTpDREVGR0hJSlNUVVZXWFlaY2RlZmdoaWpzdHV2d3h5eoKDhIWGh4iJipKTlJWWl5iZmqKjpKWmp6ipqrKztLW2t7i5usLDxMXGx8jJytLT1NXW19jZ2uLj5OXm5+jp6vLz9PX29/j5+v/aAAwDAQACEQMRAD8A+kaKKKACiiigAooooAKKKKACiiigAooooAKKKKACiiigAooooAKKKKACiiigAooooAKKKKACiiigAooooAKKKKACiiigAooooAKKKKACiiigAooooAKKKKACiiigAooooAKKKKACiiigAooooAKKKKACiiigAooooAKKKKACiiigAooooAKKKKACiiigAooooAKKKKACiiigAooooAKKKKACiiigAooooAKKKKACiiigAooooAKKKKACiiigAooooAKKKKACiiigAooooAKKKKACiiigAooooAKKKKACiiigAooooAKKKKACiiigAooooAKKKKACiiigAooooAKKKKACiiigAooooAKKKKACiiigAooooAKKKKACiiigAooooAKKKKACiiigAooooAKKKKACiiigAooooAKKKKACiiigAooooAKKKKACiiigAooooAKKKKACiiigAooooAKKKKACiiigAooooAKKKKACiiigAooooAKKKKACiiigAooooAKKKKACiiigAooooAKKKKACiiigAooooAKKKKACiiigAooooAKKKKACiiigAooooAKKKKACiiigAooooAKKKKACiiigAooooAKKKKACiiigAooooAKKKKACiiigAooooAKKKKACiiigAooooAKKKKACiiigAooooAKKKKACiiigAooooAKKKKACiiigAooooAKKKKACiiigAooooAKKKKACiiigAooooAKKKKACiiigAooooAKKKKACiiigAooooAKKKKACiiigAooooAKKKKACiiigAooooAKKKKACiiigAooooAKKKKACiiigAooooAKKKKACiiigAooooAKKKKACiiigAooooAKKKKACiiigAooooAKKKKACiiigAooooAKKKKACiiigAooooAKKKKACiiigAooooAKKKKACiiigAooooAKKKKACiiigAooooAKKKKACiiigAooooAKKKKACiiigAooooAKKKKACiiigAooooAKKKKACiiigAooooAKKKKACiiigAooooAKKKKACiiigAooooAKKKKACiiigAooooAKKKKACiiigAooooAKKKKACiiigAooooAKKKKACiiigAooooAKKKKACiiigAooooAKKKKACiiigAooooAKKKKACiiigAooooAKKKKACiiigAooooAKKKKACiiigAorD1nxbpejbo5JfPuF48mLkg+56D+dcZP8AETVnvllgSGKBf+WBXduHueufpiuinhqlRXSOOtjaNF2bu/I7TWfFmmaLmOaTzrgf8sYuSPqegrlI/iTeC/Ly2cRtTwIlJ3L77u5/CtWz13QvGCpZ6paeXdMMIGGef9lxyPoahHw1thqG430htOvl7Rv+m7p+OK6IRo0041Vr/WxyVZ4ms1LDyTj5frc6LSPEmm62oFnPibGTDJ8rj8O/4ZrVrjb7xFo3hJHsNIsw9yvDgAgA/wC0x5P+elYtj8RdShuma/iiuIXOdijYU+h/xz9az+rTn70Fp5m316nTtCrK7622PTKKytI8SabrSgWc4EuMmGT5XH4d/wAM1q1yyi4uzR3wnGa5ou6CiiipKCiiigAooooAKKKKACiiigAooooAKKKKACiiigAooooAKKKKACiiigAooooAKKKKACiiigAooooAKKKKACiiigAooooAKKKKACiiigAooooAKKKKACiiigAooooAKKKKACiiigAooooAKKKKACsvxJqE2leHLy/tdvm26b1DjIOCOD7VqVg+N/8AkSNV/wCuB/mK1opOpFPuiZu0WzntM8U+HfHHl2WrWn2a/b5Uz3P+y4/kf1qT/hWifb8/2g32TrjZ+8+men4/pXj8E0ltcRzwsUkjYOjDsQcg19E+HtXj13QbXUIsZlT51H8Ljhh+derjKUsLaVJ+6/wPNp06WJf72OqOfudb0Dwej2ml2wmuwMOF65/2nP8AIfpXODx9rX9ofaN8Xl9Ps+z5Mfzz75ro7rW/C+varc6RrCpb3lvK0KvKdu7BwCr/AND+tQJ8N7aO9aS4v3NmoyF2gN+LdMe+PyrGHsoL98nd99b+hjWp4lySotcq7aW9SzZ6zofjNVs9Rsyl3j5QQSR/uuOn44qBfhvaR3zSTX0hs1GdmAG/FumPfFPufFOg+G4GtdCt0nkHBMf3c+79W/X61JqWoTar8MJr25CiSUZIQYAxNgY/AVn+8i1yXjFuxX7maftbSnFN6eXmMufFOg+GoGtdDt0nkHB8r7uf9p+rfr9a661laezhlcANJGrEDpkjNeE17np//IMtf+uKf+giliqMaaVt2VgMROtKSeiWyRYooorgPWCiiigAooooAKKKKACiiigAooooAKKKKAKmrTyW2i3s8DbZYreR0bGcEKSDzXyf/wALw+If/Qw/+SVv/wDG6+rNe/5FzUv+vSX/ANANfCtdNCKad0cOKlKLVme//C34432pa3Ho3jWeKQ3JC296I1jw/ZXC4GD2OBzXvVfAwJBBBwR0Ir6e+CfxO/4SbTV0DWps6taJ+6kY/wDHxGO/+8O/r19aKtO3vIMPXb92R63RRRXMdxyvxL1m/wDD/wAO9U1PSJ/s95bopjl2K+0lgOjAg8H0r5u/4Xh8Q/8AoYf/ACSt/wD43X0H8ZP+SS63/wBcl/8AQ1r4+rqoxTjqjz8VOUZqzPpb4F+O/EfjK81pPEmo/bFtY4TCPIjj2li+fuKM9B1r2Ovnv9mT/kIeIv8ArlB/N6+hKyqpKbsdOHbdNNhRRRWRuFFFFABRRRQAUUUUAFFFFABRRRQAUUUUAFFFFABXz58Xfif4v8L/ABCuNM0LV/stmkMbLH9mhfBIyeWQn9a+g6+UPj5/yVi7/wCveH/0GtqKTlqc2Jk4wumU/wDheHxD/wChh/8AJK3/APjdH/C8PiH/ANDD/wCSVv8A/G64Gut0H4XeMPE2jxapoej/AGqzlLBJftUKZKnB4Zweo9K6nGC3SPPU6stE2acfxy+ISOGbXVkH91rKDB/JBW/pf7R/ii1kUapYaffxD721Wic/8CBIH/fNc3L8FPiDDGXfw65CjJCXUDH8g5JrjL7T7zS7x7TUrWa0uIzh4poyjL+BpctOWxXPWhu2fWXgn4xeGvGciWiyNpupPwLW6IG8+iN0b6cH2rv6+B1ZkYMhKspyCDgg19R/BD4iz+LdGl0nWJfM1PT1BErdZougJ9x0P4VhUpcqujroYjnfLLc9VooornOwKKKKACiiigAooooAKwfG/wDyJGq/9cD/ADFb1YPjf/kSNV/64H+Yrah/Fj6oip8DPA4Ld7jzBECzRxmQgDsOv5DJ/CvQPhPr32fUJtGnf93c/vIcno4HI/ED/wAdrF+G0aS+N7eOVQyPFKrKRwQUORVPXtNuPB3jBktyV8iQT2rnuucr9fQ/Q19PX5azlh3va6PJp3glUXch8X/8jlq3/X1J/OvRpf8AkjVn/wBc4/8A0OvMNdvV1HXby9Rdq3MhlC56bucfrXrVhptxq/wq0+ztAvmyRpjccAANkmuXGe7Spc3Rr8hxTkqij1TPOa9K02wm1T4XxWdqFMsoIXccD/XEn9BUNt4T0Pw7ALrxBdJO45CvwmfQL1b/ADxWtqGtj/hCJtU0f9yAuIcoPlG/b06etcNet7TlUF1WvQxwuG9jzuq/svTrYybbwnofh2AXfiC6SeTqFfhM+gXq3+eK7O3dJLWJ4l2xsgKrjGBjgV4bc3U95O013M80rdWdsmvbtP8A+QZa/wDXFP8A0EVji6copOTu2dGX1oTco042S+/5liiiiuA9YKKKKACiiigAooooAKKKKACiiigAooooAoa9/wAi5qX/AF6S/wDoBr4Vr7q17/kXNS/69Jf/AEA18K11YfZnn4zdBVnTtRutJ1KC/wBPmaC6t3EkUiHBUireh+H77xFLdw6XH509rbNcmIfedVIDAep5zj2NZfSuk4tVqfZPw28fWvj3w0t2mIr+DCXdvn7jf3h/snqPyrsK+JvBXi++8E+JoNV09iyqds8GcLNH3U/0PY19j+HtfsfE+g22raVL5ltcJuHqp7qfQg8VxVafK7rY9WhW9orPc5n4yf8AJJdb/wCuS/8Aoa18fV9g/GT/AJJLrf8A1yX/ANDWvj6tqHwnLi/jR7r+zJ/yEPEX/XKD+b19ATzw2tvJPcypDDGpZ5JGCqoHUkngCvn/APZk/wCQh4i/65QfzevZvHP/ACIOuf8AXjL/AOgGsautQ6cO7UUxP+E98If9DXon/gxh/wDiqtaf4q8P6tdi10rXdMvrggsIba8jkcgdThSTXw3Xp37P3/JVof8Ar0m/kKuVFJXuZQxUpSSsfVdVNR1XT9Hthcatf2tjAWCiW6mWNc+mWIGat15R+0T/AMk1i/6/o/5NWEVd2OucuWLkdx/wnvhD/oa9E/8ABjD/APFVoaZruk62sjaNqllqAiIEhtLhJdmemdpOK+Fa+g/2Zf8Ajw1//rrD/Jq2nRUY3uc1LEOc+Vo91ZgqlmICgZJJ6Vg/8J74Q/6GvRP/AAYw/wDxVbF9/wAg+4/65N/I18G1NOmp3Lr1nStZH3fp+p2GrW32jSr22vYM4822lWRc/VSRVLXPFWg+Gow+u6ta2O4ZVJZBvYey9T+Ar5K8EfETVfAcOprpKq730QRTIcrE4PDhehOCRXNX+oXeqX0t5qNzLdXMrbnllYszH6mrVDXV6GTxfu6LU+v9P+LngTU7oW9r4jthITgeejwgn/edQP1rsVZXUMhDKwyCDkEV8D17B8Jfi/8A8Ivpt5pXiOaSeyhgaWyycsrj/lkD6Ht6UTo2V4jp4q7tM+k7u8trC1e5vriK2gQZeWZwir9SeBXH3nxi8A2Mxjn8RwMwOMwRSTD80Uivl/xj451rxvqrXesXLeUGPk2qHEcI9APX3PJrnKcaCtqyJYt391H21onjrwv4ikEWja5Z3MzdIRJtkP8AwBsH9K36+B1ZkcOjFWU5BBwQa+jvgZ8T7rXSfDPiCdp7yKMva3Mhy0qDqjHuR1z1I+lTOjyq6NaWJ53yyPaq+UPj5/yVi7/694f/AEGvq+vlD4+f8lYu/wDr3h/9BpUPiHiv4Z5rX1p8B/8AkkOm/wDXWf8A9GtXyXX1p8B/+SQ6b/11n/8ARrVrX+E5sJ/E+R6LXmfxy8I2mu+A7rVfKVb/AEtPOjmA+YoD8yk+mOfqK9Mrj/ixfw6f8K9dedgvnWrQJnuz/KB+tcsG1JWO+ok4O58bV3XwZ1OTTPitpBQ4W5ZreT3VlP8AUCuFrsPhPbvdfFXQUjBJW53njoFBJ/lXfL4WeRT+NH1je+LvDem3j2uo+IdKtLmP78M97Gjr35UtkVAPHnhAkAeKtEJPQDUYf/iq8d/aP8KbLix8T2sfEg+zXRA7jlGP4ZH5V4PXNCkpRvc7qmIlCTjY+945UmiWSF1kjcZV1OQw9QadXi/7Ofidr7w7e6BcylpbBxLAGOf3Tdh9GB/OvaKxlHldjqpzU4qQE4GTwKw5fG/hSCVop/E+jRyIcMj6hECp9CC1cp8c/EraB8OZ4beUx3OpOLZCpwQvVz+Qx+NfJta06XMrswrYj2cuVI+47DxX4d1W7W10zX9LvbhgSsNveRyOQOuFBJrWrwb9m/wtthv/ABPcx8ufstqSO3VyPxwPwNe81nOKjKyNqUnOPMwqrqWnw6rps9jdbvJnTY+w4OParVFSm07o0aurHn2g/D258N+M7a+trhbmxCuCW+V0ypAyOh+o/KrnxN8Pf2t4f+326ZubHL8Dlo/4h+HX8DXa0jKHUq4DKRggjIIrq+t1HVjVlujH2MeRwWzPmGvaLTULjS/hNZXVk4SZYUVWIBxlsd65TxZ8NLzTpJbzRAbq0yWMIH7yIemP4h9Oa6OVW/4U7ZptO7ZGMY5zvr18XVp14U3F3V0ecozpRn0dmcRc3U95O013M80rdWdsmu9QFvhBhQSSpAA7/vqxNG8CalqO2W7H2KA85kHzkey/44r0nTNNh0rTIbGAs0cIOC/JOTnP5muLFVoLlUejuc+Bw1V80pqykmvvPNtG8CalqO2S7H2KA85kHzkey/44r1GCIQW8cSnIjQKCe+Bin0Vw1q86r949XD4Wnh17u7CiiisDqCiiigAooooAKKKKACiiigAooooAKKKKAKGvf8i5qX/XpL/6Aa+Fa+6te/5FzUv+vSX/ANANfCtdWH2Z5+M3R6l+zz/yVL/txl/mtanxx+GP9iXr+JtCgP8AZ9y+buJBxBIf4v8AdJ/I/Wsv9nn/AJKl/wBuMv8ANa+obyzt9QsprS8iWa3nQxyRsMhlIwRSqTcKlx0aaqUbM+DK9F+EXxJk8D679lv3Z9GvWAnXP+pboJB/X2+lUvij8PJ/AXiMxxLJJpV0S1pOwzx3Qn1H6jmuHro0nE5PepT80fX/AMX5Y5/g/rEsLrJHJCjI6nIYF1wQa+QK9F0L4jMfhbrPg7WnLobfdp8zEnaQwPln29PyrzqopxcU0zSvUVRqSPdf2ZP+Qh4i/wCuUH83r2bxz/yIOuf9eMv/AKAa8Z/Zk/5CHiL/AK5QfzevZvHP/Ig65/14y/8AoBrnqfxDso/wfvPiSvTv2fv+SrQ/9ek38hXmNenfs/f8lWh/69Jv5Cuqp8DOCl/ER9V15R+0T/yTWL/r+j/k1er15R+0T/yTWL/r+j/k1cVP40epW/hs+Xa+g/2Zf+PDX/8ArrD/ACavnyvoP9mX/jw1/wD66w/yauut8DPOw38VHt99/wAg+4/65N/I18G195X3/IPuP+uTfyNfBtZ4fqb4z7Jt+DtAXxT4x03RXnNul5NsaULuKjBJwPXAr6u0n4U+CtI09bWPw9ZXWB80t5EJpGPrubOPwwK+afhF/wAla0D/AK+D/wCgNX2NSryadkPCxi4ttHzB8dPh9pnhHULHUdBh+zWl9uSS3BJVHXByuegIPT2ryWvoz9pj/kW9E/6+3/8AQK+c62pNuGpzYiKjUaR6/wDA34bab4te71jxBEbiztJBFFbEkLI+MktjqACOPevZ9b+E/g3WdLktBoNlZOyny57OFYnRuxyuM/Q5Fct+zl/yT27/AOv5/wD0Fa9crmqSlz7ndRpx9mro+ENTsZNL1a7sJjmS1meFjjGSrEZ/StXwJqb6P4+0W9jODHeRg/7rHaf0JpfHv/JQtd/6/pf/AEI1n6B/yMmmf9fcX/oYrs3iebtLQ+6a+UPj5/yVi7/694f/AEGvq+vlD4+f8lYu/wDr3h/9BrkofEejiv4Z5rXuHw0+NPh3wb4EtNF1Sy1SW5geRme3ijZDucsMFnB6H0rw+iuqUVJWZ58KkoO8T6Zl/aT8KCMmHS9Zd+weKJQfx8w/yryH4j/FTU/iDNFA0AsNNgbdHao+4s39524yfwwK4SrFlYXmo3It9PtZ7uZukUEZdj+A5qY04xd0XKtUmrMr17l+zn4Rll1O68U3UZWCFDb2pP8AG5+8R9Bx+JrO8DfADWNWuIrzxaG0uxBDG3yDPKPTH8A+vPtX0fp2nWmkabBYabAlva26BI4kGAoFZ1aityo3w9B83NIzfGPh2LxV4R1DR58D7TERGxH3XHKn8CBXxNdW0tleTWtyhSaCRo5FPZgcEV96V8ufH/wp/YnjddWto9trqq7yQOBKOGH48H86ihLXlLxULrmRzvwn8S/8Ix8RtOuZH221w/2af02vxn8Dg19i18DglWBU4I5BHavsfwJ4wh1n4X2mvXUgzb2zC6Po8Yw354z+NVXjsycJPeLPE/2h/EX9peOINIhfdDpkOHAPHmPyePYba8qsrSbUL6CztEMk88ixxqO7E4FWNd1WXXNfvtUuCTJdzvKc9snIH4DivSv2fvCv9seNX1i4TNtpSblJHBlbhfyGT+VbfBA5tatX1PojwpoEPhjwpp+j24GLWEKxH8TdWP4nNbFFFefueulZWQUUUUDCiiigApojQAAIoAJYADv1z+tOooAKKKKACiiigAooooAKKKKACiiigAooooAKKKKACiiigAooooAoa9/yLmpf9ekv/oBr4Vr7q17/AJFzUv8Ar0l/9ANfCtdWH2Z5+M3R6l+zz/yVL/txl/mtfU9fLH7PP/JUv+3GX+a19T1nW+M2wv8ADMXxb4WsPGPhy40jVF/dyjKSD70Tjow9xXxx4p8M3/hHxDc6RqsZWWFvlfHyyJ2cexr7hrg/ir8OoPHnh4mBVTVrNS1pL03esZ9j+hopVOV2ew8RR51dbnyFRUt1az2V3La3cTQzwuUkjcYKsOoNRV2nlHuv7Mn/ACEPEX/XKD+b17N45/5EHXP+vGX/ANANeM/syf8AIQ8Rf9coP5vXumv2B1Tw5qNivW5tpIh9SpAriqfxD1aGtH7z4Wr079n7/kq0P/XpN/IV5pLE8EzxSqVkjYqynsRwRXR/D3xSPBvjex1iVGeCNik6qOTGwwce46/hXXNXi0jzqbUZps+068o/aJ/5JrF/1/R/yauuh+JvgqeyW6XxPpqoV3bZLhVcf8APzZ9sV4n8ZvixpXi7T49C8PxvPbRzCWS8cFQxAIAVTzjnqcfSuOnGXMtD0q1SPs3qeN19B/sy/wDHhr//AF1h/k1fPlfQf7Mv/Hhr/wD11h/k1dNb4GcOG/io9vvv+Qfcf9cm/ka+Da+8r7/kH3H/AFyb+Rr4NrPD9TfGfZOz+EX/ACVrQP8Ar4P/AKA1fY1fHPwi/wCStaB/18H/ANAavsapr/Ei8J8D9TxL9pj/AJFvRP8Ar7f/ANAr5zr6M/aY/wCRb0T/AK+3/wDQK+c62o/Ac2J/is+nf2cv+Se3f/X8/wD6CteuV5H+zl/yT27/AOv5/wD0Fa9crlqfGz0KP8NHxN49/wCSha7/ANf0v/oRrP0D/kZNM/6+4v8A0MVoePf+Sha7/wBf0v8A6Eaz9A/5GTTP+vuL/wBDFdy+E8l/GfdNfKHx8/5Kxd/9e8P/AKDX1fXyh8fP+SsXf/XvD/6DXJQ+I9HFfwzzWvp34LeE/Duq/C3T7vVNA0u9uXkmDTXFnHI7YkYDLMCelfMVfWnwH/5JDpv/AF1n/wDRrVtWdonLhUnPXsdRH4H8JxOHi8L6MjDoy6fECP8Ax2ti3tbe0j8u0gigT+7EgUfkKlorju2emklsFFFFIYVxHxc8Kf8ACWfD28giTdd2g+1W3HO5RyPxGRXb0EZGDyKadncmUVJWZ8DV1+h+OJ9H+HOveGkLZ1KSMxnsq9JB7ZAX9am+LPhU+E/iDe20UZSzuT9ptvTa3UfgciuKr0NJK543vQk0FfYHwh8Lf8Ir8O7KKWPZd3g+1XHHO5hwD9FwK+cfhT4WPiz4hWFpIm61gb7Tc8cbF5x+JwPxr7HAAAA4A6VhXl9k7MJDebCiiiuU7wooooAKKKKACiiigAooooAKKKKACiiigAooooAKKKKACiiigAooooAKKKKACiiigChr3/Iual/16S/+gGvhWvveSNJY2jlRXRwVZWGQwPUEVhf8IH4Q/wChU0T/AMF0P/xNbU6igc1ai6lrM+d/2ef+Spf9uMv81r6nrK07wv4f0i6+06ToWm2NxtK+bbWccb4PUZUA4rVqakud3Lo03TjysKKKKzNjxX45fDD+17aTxToMDNfwr/pkEYyZkH8YH94D8x9K+cOlffNY114N8MX1w0974c0m4mc5aSWxidm+pK5reFblVmclXDKcuaOh4p+zJ/yEPEX/AFyg/m9fQlZ+meH9G0RpG0bSLHT2lAEhtLZIt+OmdoGcZNaFZzlzSub0oOEFFnzZ8bPhbd6bq9x4m0G2abT7ljJdRxLk27nq2B/CeuexrxmvvkjIwa5PVvhd4K1uZptQ8O2hkY5Z4d0JY+pMZXNbQrWVmc1TC8zvFnxlXeeHPhH4i1/w1fa20DWdrb27S26yod90wGcKvXHv+Wa+lNH+Gng3Qpll03w9ZpKhyskqmZlPqC5JBrqaJV/5RQwn8zPgbpX0H+zL/wAeGv8A/XWH+TV63P4K8K3U7z3PhnR5pZDl5JLCJmY+pJXmrmmaFpOiLIujaXZaeJSDILS3SLfjpnaBmlOspRtYqlh3CfNcsX3/ACD7j/rk38jXwbX3wyhlKsAVIwQR1rB/4QPwh/0Kmif+C6H/AOJqadRQuXXourazPlj4Rf8AJWtA/wCvg/8AoDV9jVjWfg/wzp93HdWHh3SbW4iOY5obGNHQ+oYLkVs1NSfO7lUabpxszxL9pj/kW9E/6+3/APQK+c6+7NT0XStajSPWdMs9QSM7kW7t1lCn1AYHFZv/AAgfhD/oVNE/8F0P/wATWkKqjG1jKrh3OfMmcF+zl/yT27/6/n/9BWvXKqabpOnaNbm30jT7WwhZtxjtYViUn1woAzVusZPmlc6aceWKifE3j3/koWu/9f0v/oRrP0D/AJGTTP8Ar7i/9DFfZ1x4K8LXdxJcXXhrR5ppGLPJJYRMzk9SSVyTTY/A3hOKRZIvC+io6EMrLp8QKkdCDtro9urWscbwsua9zdr5Q+Pn/JWLv/r3h/8AQa+r6qz6Xp91KZbmxtppD1eSFWJ/Eisac+R3OmtT9pGx8IV9afAf/kkOm/8AXWf/ANGtXb/2HpP/AEC7L/wHT/CrUFvDaxCK2hjhjHISNQoH4CrqVedWsZ0aDpyvckooorA6gooooAKKKKAPFv2krDT38MaZfTSBL+K4McK4yZEIyw+gwD/+uvm+vRPjX4w/4Snx5NBbSb7HTM28ODwzA/O34nj8K47w3ok/iTxLYaRa58y7mWPI/hHc/gMmu+muWGp5FZqdR2Pof9nnwt/ZfhGfXbmPFxqb4jJHIiXgfmcn8q9fqtpthBpWmW1hZoI4LaJYo1HYAYFWa4pS5pXPUpx5IqIUUUVJYUUUUAFFFFABRRRQAUUUUAFFFFABRRRQAUUUUAFFFFABRRRQAUUUUAFFFFABRRRQAUUUUAFFFFABRRRQAUUUUAFFFFABRRRQAUUUUAFFFFABRRRQAUUUUAFFFFABRRRQAUUUUAFFFFABRRRQAUUUUAFFFFABXF/FbxePB/gO7uonC3tyPs9qO+9h978Bk12lUNT0LSdbWNdZ0uy1ARklBd26S7M9cbgcU42T1Jkm4tI+FiSzEsSSTkk969z/AGcfCZlv73xPdRHy4V+zWpI6sfvkfQYH4mvZv+ED8If9Cpon/guh/wDia2re2gs7dILSGOCFBhI4kCqo9gOBW863NGyOWnhuSXM2S0UUVznYFFFFABRRRQAUUUUAFFFFABRRRQAUUUUAFFFFABRRRQAUUUUAFFFFABRRRQAUUUUAFFFFABRRRQAUUUUAFFFFABRRRQAUUUUAFFFFABRRRQAUUUUAFFFFABRRRQAUUUUAFFFFABRRRQAUUUUAFFFFABRRRQAUUUUAFFFFABRRRQAUUUUAFFFFABRRRQAUUUUAFFFFABRRRQAUUUUAFFFFABRRRQAUUUUAFFFFABRRRQAUUUUAFFFFABRRRQAUUUUAFFFFABRRRQAUUUUAFFFFABRRRQAUUUUAFFFFABRRRQAUUUUAFFFFABRRRQAUUUUAFFFFABRRRQAUUUUAFFFFABRRRQAUUUUAFFFFABRRRQAUUUUAFFFFABRRRQAUUUUAFFFFABRRRQAUUUUAFFFFABRRRQAUUUUAFFFFABRRRQAUUUUAFFFFABRRRQAUUUUAFFFFABRRRQAUUUUAFFFFABRRRQAUUUUAFFFFABRRRQAUUUUAFFFFABRRRQAUUUUAFFFFABRRRQAUUUUAFFFFABRRRQAUUUUAFFFFABRRRQAUUUUAFFFFABRRRQAUUUUAFFFFABRRRQAUUUUAFFFFABRRRQAUUUUAFFFFABRRRQAUUUUAFFFFABRRRQAUUUUAFFFFABRRRQAUUUUAFFFFABRRRQAUUUUAFFFFABRRRQAUUUUAFFFFABRRRQAUUUUAFFFFABRRRQAUUUUAFFFFABRRRQAUUUUAFFFFABRRRQAUUUUAf//Z)"
      ],
      "metadata": {
        "id": "A9TXBmHYizgS"
      }
    },
    {
      "cell_type": "markdown",
      "metadata": {
        "id": "cpppnUEEYdZ7"
      },
      "source": [
        "The numpy library is a useful tool for working with multidimensional arrays with the ability to vectorize calculations. Let's consider the basic things that we can do with it."
      ]
    },
    {
      "cell_type": "code",
      "execution_count": null,
      "metadata": {
        "id": "fiaMEZOzYdZ7"
      },
      "outputs": [],
      "source": [
        "import numpy as np"
      ]
    },
    {
      "cell_type": "code",
      "execution_count": null,
      "metadata": {
        "id": "eixtgTmdYdZ9"
      },
      "outputs": [],
      "source": [
        "vec = np.array([[1, 2], [3, 4], [5, 6]])"
      ]
    },
    {
      "cell_type": "code",
      "execution_count": null,
      "metadata": {
        "id": "dyie-GryYdZ9",
        "colab": {
          "base_uri": "https://localhost:8080/"
        },
        "outputId": "58cc2f06-ee73-4237-9682-e7b573a2d22d"
      },
      "outputs": [
        {
          "output_type": "execute_result",
          "data": {
            "text/plain": [
              "array([[1, 2],\n",
              "       [3, 4],\n",
              "       [5, 6]])"
            ]
          },
          "metadata": {},
          "execution_count": 3
        }
      ],
      "source": [
        "vec"
      ]
    },
    {
      "cell_type": "code",
      "execution_count": null,
      "metadata": {
        "id": "9bh27DowYdZ-",
        "colab": {
          "base_uri": "https://localhost:8080/"
        },
        "outputId": "0aa0bfb6-9c9f-420b-8bda-85be63a8e2c6"
      },
      "outputs": [
        {
          "output_type": "stream",
          "name": "stdout",
          "text": [
            "[[1 2]\n",
            " [3 4]\n",
            " [5 6]]\n"
          ]
        }
      ],
      "source": [
        "print(vec)"
      ]
    },
    {
      "cell_type": "markdown",
      "metadata": {
        "id": "Iy6KZLvnYdZ_"
      },
      "source": [
        "What are we working with?"
      ]
    },
    {
      "cell_type": "code",
      "execution_count": null,
      "metadata": {
        "id": "039UO90AYdZ_",
        "colab": {
          "base_uri": "https://localhost:8080/"
        },
        "outputId": "2018e7b1-7064-49f7-ad7a-d11cb32f640e"
      },
      "outputs": [
        {
          "output_type": "execute_result",
          "data": {
            "text/plain": [
              "dtype('int64')"
            ]
          },
          "metadata": {},
          "execution_count": 5
        }
      ],
      "source": [
        "vec.dtype"
      ]
    },
    {
      "cell_type": "code",
      "execution_count": null,
      "metadata": {
        "id": "Pn8GrJGGYdaA",
        "colab": {
          "base_uri": "https://localhost:8080/"
        },
        "outputId": "6f3c4530-f785-42da-ccd0-1597f28c7c90"
      },
      "outputs": [
        {
          "output_type": "execute_result",
          "data": {
            "text/plain": [
              "numpy.ndarray"
            ]
          },
          "metadata": {},
          "execution_count": 4
        }
      ],
      "source": [
        "type(vec)"
      ]
    },
    {
      "cell_type": "markdown",
      "metadata": {
        "id": "Gyi1C67VYdaA"
      },
      "source": [
        "Array size:"
      ]
    },
    {
      "cell_type": "code",
      "execution_count": null,
      "metadata": {
        "id": "--cj4uSTYdaB",
        "colab": {
          "base_uri": "https://localhost:8080/"
        },
        "outputId": "5ce83dfd-621b-4f0d-8761-a2af9c73c29a"
      },
      "outputs": [
        {
          "output_type": "execute_result",
          "data": {
            "text/plain": [
              "(3, 2)"
            ]
          },
          "metadata": {},
          "execution_count": 7
        }
      ],
      "source": [
        "vec.shape"
      ]
    },
    {
      "cell_type": "markdown",
      "metadata": {
        "id": "A35lnwNvYdaB"
      },
      "source": [
        "Number of dimensions:"
      ]
    },
    {
      "cell_type": "code",
      "execution_count": null,
      "metadata": {
        "id": "1zwF8k-XYdaB",
        "colab": {
          "base_uri": "https://localhost:8080/"
        },
        "outputId": "130ffdb0-1b1a-47d0-deff-709769202a31"
      },
      "outputs": [
        {
          "output_type": "execute_result",
          "data": {
            "text/plain": [
              "2"
            ]
          },
          "metadata": {},
          "execution_count": 8
        }
      ],
      "source": [
        "vec.ndim"
      ]
    },
    {
      "cell_type": "markdown",
      "metadata": {
        "id": "qOJaV7yeYdaB"
      },
      "source": [
        "Some functions have an `axis` parameter that allows the function to be applied along different axes - in this case, along rows or columns:"
      ]
    },
    {
      "cell_type": "code",
      "execution_count": null,
      "metadata": {
        "id": "P63Pk4WqYdaC",
        "colab": {
          "base_uri": "https://localhost:8080/"
        },
        "outputId": "ca329f43-4cd1-4d61-f15b-a93653646515"
      },
      "outputs": [
        {
          "output_type": "execute_result",
          "data": {
            "text/plain": [
              "21"
            ]
          },
          "metadata": {},
          "execution_count": 9
        }
      ],
      "source": [
        "np.sum(vec)"
      ]
    },
    {
      "cell_type": "code",
      "execution_count": null,
      "metadata": {
        "id": "cT_PIlFBYdaC",
        "colab": {
          "base_uri": "https://localhost:8080/"
        },
        "outputId": "49e874c3-a716-42f5-dd41-fd7d07e0e464"
      },
      "outputs": [
        {
          "output_type": "execute_result",
          "data": {
            "text/plain": [
              "array([ 9, 12])"
            ]
          },
          "metadata": {},
          "execution_count": 10
        }
      ],
      "source": [
        "np.sum(vec, axis=0)"
      ]
    },
    {
      "cell_type": "code",
      "execution_count": null,
      "metadata": {
        "id": "SZ2B5fneYdaC",
        "colab": {
          "base_uri": "https://localhost:8080/"
        },
        "outputId": "a7941e3e-2c83-479e-d2e1-9793e15569c3"
      },
      "outputs": [
        {
          "output_type": "execute_result",
          "data": {
            "text/plain": [
              "array([ 3,  7, 11])"
            ]
          },
          "metadata": {},
          "execution_count": 11
        }
      ],
      "source": [
        "np.sum(vec, axis=1)"
      ]
    },
    {
      "cell_type": "code",
      "execution_count": null,
      "metadata": {
        "id": "31X-08q3YdaC",
        "colab": {
          "base_uri": "https://localhost:8080/"
        },
        "outputId": "2c630065-f78e-4f64-9945-efd0133183b3"
      },
      "outputs": [
        {
          "output_type": "execute_result",
          "data": {
            "text/plain": [
              "21"
            ]
          },
          "metadata": {},
          "execution_count": 12
        }
      ],
      "source": [
        "vec.sum()"
      ]
    },
    {
      "cell_type": "markdown",
      "metadata": {
        "id": "jIKaAYhcYdaD"
      },
      "source": [
        "Transposing the array:"
      ]
    },
    {
      "cell_type": "code",
      "execution_count": null,
      "metadata": {
        "id": "3O7giHNLYdaD",
        "colab": {
          "base_uri": "https://localhost:8080/"
        },
        "outputId": "0d1bb040-bf20-4a62-8ed3-af36d9cad36d"
      },
      "outputs": [
        {
          "output_type": "execute_result",
          "data": {
            "text/plain": [
              "array([[1, 3, 5],\n",
              "       [2, 4, 6]])"
            ]
          },
          "metadata": {},
          "execution_count": 13
        }
      ],
      "source": [
        "vec.T"
      ]
    },
    {
      "cell_type": "code",
      "execution_count": null,
      "metadata": {
        "id": "t1JybhXyYdaD",
        "colab": {
          "base_uri": "https://localhost:8080/"
        },
        "outputId": "92966443-7f8c-4f67-b0b0-57ac93f84d4d"
      },
      "outputs": [
        {
          "output_type": "execute_result",
          "data": {
            "text/plain": [
              "array([[1, 3, 5],\n",
              "       [2, 4, 6]])"
            ]
          },
          "metadata": {},
          "execution_count": 14
        }
      ],
      "source": [
        "vec.transpose()"
      ]
    },
    {
      "cell_type": "markdown",
      "metadata": {
        "id": "SVoc3oj9YdaD"
      },
      "source": [
        "Note that the `vec` variable has not changed!"
      ]
    },
    {
      "cell_type": "code",
      "execution_count": null,
      "metadata": {
        "id": "KPXZS7YlYdaE",
        "colab": {
          "base_uri": "https://localhost:8080/"
        },
        "outputId": "fa0ade45-3f74-403d-cd83-ebe6541639f6"
      },
      "outputs": [
        {
          "output_type": "execute_result",
          "data": {
            "text/plain": [
              "array([[1, 2],\n",
              "       [3, 4],\n",
              "       [5, 6]])"
            ]
          },
          "metadata": {},
          "execution_count": 15
        }
      ],
      "source": [
        "vec"
      ]
    },
    {
      "cell_type": "markdown",
      "metadata": {
        "id": "fiOFIXPKYdaE"
      },
      "source": [
        "Arrays can be resized:"
      ]
    },
    {
      "cell_type": "code",
      "execution_count": null,
      "metadata": {
        "id": "SqGJdUUgYdaE"
      },
      "outputs": [],
      "source": [
        "vec.reshape(2, 3)"
      ]
    },
    {
      "cell_type": "code",
      "execution_count": null,
      "metadata": {
        "id": "4NtO_PW_YdaE"
      },
      "outputs": [],
      "source": [
        "vec.reshape(-1, 3)"
      ]
    },
    {
      "cell_type": "code",
      "execution_count": null,
      "metadata": {
        "id": "KE6-peB4YdaF"
      },
      "outputs": [],
      "source": [
        "vec.reshape(2, -1)"
      ]
    },
    {
      "cell_type": "markdown",
      "metadata": {
        "id": "6jUxCTfMYdaF"
      },
      "source": [
        "Indexing (slicing):"
      ]
    },
    {
      "cell_type": "code",
      "execution_count": null,
      "metadata": {
        "id": "Vd_TsBzXYdaF"
      },
      "outputs": [],
      "source": [
        "vec[:, 1]"
      ]
    },
    {
      "cell_type": "code",
      "execution_count": null,
      "metadata": {
        "id": "EhwjTbBsYdaF"
      },
      "outputs": [],
      "source": [
        "vec[2, :]"
      ]
    },
    {
      "cell_type": "code",
      "execution_count": null,
      "metadata": {
        "id": "CYbhCY-DYdaF"
      },
      "outputs": [],
      "source": [
        "vec[1:2, 0]"
      ]
    },
    {
      "cell_type": "code",
      "execution_count": null,
      "metadata": {
        "id": "A7ZFn6YtYdaF"
      },
      "outputs": [],
      "source": [
        "vec[::2, :]"
      ]
    },
    {
      "cell_type": "markdown",
      "metadata": {
        "id": "qrsWh86SrH4J"
      },
      "source": [
        "And finally - arithmetic operations!"
      ]
    },
    {
      "cell_type": "code",
      "execution_count": null,
      "metadata": {
        "id": "jx0q14OkrH4J",
        "colab": {
          "base_uri": "https://localhost:8080/"
        },
        "outputId": "6a1f1bde-18ef-4483-ce70-b5e737d9932e"
      },
      "outputs": [
        {
          "output_type": "execute_result",
          "data": {
            "text/plain": [
              "array([[2, 3],\n",
              "       [4, 5],\n",
              "       [6, 7]])"
            ]
          },
          "metadata": {},
          "execution_count": 16
        }
      ],
      "source": [
        "vec + 1"
      ]
    },
    {
      "cell_type": "code",
      "execution_count": null,
      "metadata": {
        "id": "zh1u3583rH4K",
        "colab": {
          "base_uri": "https://localhost:8080/"
        },
        "outputId": "9dff46f1-9b10-4d59-f58c-29275148483d"
      },
      "outputs": [
        {
          "output_type": "execute_result",
          "data": {
            "text/plain": [
              "array([[ 2,  4],\n",
              "       [ 6,  8],\n",
              "       [10, 12]])"
            ]
          },
          "metadata": {},
          "execution_count": 17
        }
      ],
      "source": [
        "vec * 2"
      ]
    },
    {
      "cell_type": "code",
      "execution_count": null,
      "metadata": {
        "id": "82dAX2qqrH4K",
        "colab": {
          "base_uri": "https://localhost:8080/"
        },
        "outputId": "6f18d1f1-b035-4df3-b746-c7dde09a9e98"
      },
      "outputs": [
        {
          "output_type": "execute_result",
          "data": {
            "text/plain": [
              "array([[ 1,  4],\n",
              "       [ 9, 16],\n",
              "       [25, 36]])"
            ]
          },
          "metadata": {},
          "execution_count": 18
        }
      ],
      "source": [
        "vec ** 2"
      ]
    },
    {
      "cell_type": "code",
      "execution_count": null,
      "metadata": {
        "id": "TI6Lq3pgrH4K",
        "colab": {
          "base_uri": "https://localhost:8080/"
        },
        "outputId": "6a9c0112-add0-4a7b-8af9-cdbb184f17a8"
      },
      "outputs": [
        {
          "output_type": "execute_result",
          "data": {
            "text/plain": [
              "array([[ 2,  6],\n",
              "       [12, 20],\n",
              "       [30, 42]])"
            ]
          },
          "metadata": {},
          "execution_count": 19
        }
      ],
      "source": [
        "vec + vec ** 2"
      ]
    },
    {
      "cell_type": "code",
      "execution_count": null,
      "metadata": {
        "id": "aXtNuYf6rH4K",
        "colab": {
          "base_uri": "https://localhost:8080/"
        },
        "outputId": "ac03a008-796c-474c-8b1f-5900cc551159"
      },
      "outputs": [
        {
          "output_type": "execute_result",
          "data": {
            "text/plain": [
              "array([[  1,   8],\n",
              "       [ 27,  64],\n",
              "       [125, 216]])"
            ]
          },
          "metadata": {},
          "execution_count": 20
        }
      ],
      "source": [
        "vec * vec ** 2"
      ]
    },
    {
      "cell_type": "code",
      "execution_count": null,
      "metadata": {
        "id": "1GhM7wr6rH4L",
        "colab": {
          "base_uri": "https://localhost:8080/"
        },
        "outputId": "2e68cec7-67b9-46e8-be00-5bb66ee1f667"
      },
      "outputs": [
        {
          "output_type": "execute_result",
          "data": {
            "text/plain": [
              "array([[ 0.84147098,  0.90929743],\n",
              "       [ 0.14112001, -0.7568025 ],\n",
              "       [-0.95892427, -0.2794155 ]])"
            ]
          },
          "metadata": {},
          "execution_count": 21
        }
      ],
      "source": [
        "np.sin(vec)"
      ]
    },
    {
      "cell_type": "markdown",
      "metadata": {
        "id": "MQdjpHnTrH4M"
      },
      "source": [
        "Matrix multiplication:"
      ]
    },
    {
      "cell_type": "code",
      "source": [
        "vec"
      ],
      "metadata": {
        "colab": {
          "base_uri": "https://localhost:8080/"
        },
        "id": "kgPjkRNbW3GH",
        "outputId": "dc8b8ca0-e9e7-4e6b-9273-d476525333be"
      },
      "execution_count": null,
      "outputs": [
        {
          "output_type": "execute_result",
          "data": {
            "text/plain": [
              "array([[1, 2],\n",
              "       [3, 4],\n",
              "       [5, 6]])"
            ]
          },
          "metadata": {},
          "execution_count": 22
        }
      ]
    },
    {
      "cell_type": "code",
      "execution_count": null,
      "metadata": {
        "id": "TT7Qz_qVrH4M",
        "colab": {
          "base_uri": "https://localhost:8080/",
          "height": 141
        },
        "outputId": "d2907294-e686-4d76-add8-1a69b7ec6105"
      },
      "outputs": [
        {
          "output_type": "error",
          "ename": "ValueError",
          "evalue": "shapes (3,2) and (3,2) not aligned: 2 (dim 1) != 3 (dim 0)",
          "traceback": [
            "\u001b[0;31m---------------------------------------------------------------------------\u001b[0m",
            "\u001b[0;31mValueError\u001b[0m                                Traceback (most recent call last)",
            "\u001b[0;32m<ipython-input-23-a5fdf433713b>\u001b[0m in \u001b[0;36m<cell line: 0>\u001b[0;34m()\u001b[0m\n\u001b[0;32m----> 1\u001b[0;31m \u001b[0mvec\u001b[0m\u001b[0;34m.\u001b[0m\u001b[0mdot\u001b[0m\u001b[0;34m(\u001b[0m\u001b[0mvec\u001b[0m \u001b[0;34m**\u001b[0m \u001b[0;36m2\u001b[0m\u001b[0;34m)\u001b[0m\u001b[0;34m\u001b[0m\u001b[0;34m\u001b[0m\u001b[0m\n\u001b[0m",
            "\u001b[0;31mValueError\u001b[0m: shapes (3,2) and (3,2) not aligned: 2 (dim 1) != 3 (dim 0)"
          ]
        }
      ],
      "source": [
        "vec.dot(vec ** 2)"
      ]
    },
    {
      "cell_type": "code",
      "execution_count": null,
      "metadata": {
        "id": "tUXi93LUrH4M",
        "colab": {
          "base_uri": "https://localhost:8080/"
        },
        "outputId": "cd9c13ee-81c5-4bcd-f2f4-fd0925847624"
      },
      "outputs": [
        {
          "output_type": "execute_result",
          "data": {
            "text/plain": [
              "array([[  9,  41,  97],\n",
              "       [ 19,  91, 219],\n",
              "       [ 29, 141, 341]])"
            ]
          },
          "metadata": {},
          "execution_count": 24
        }
      ],
      "source": [
        "vec.dot((vec ** 2).T)"
      ]
    },
    {
      "cell_type": "code",
      "execution_count": null,
      "metadata": {
        "id": "YYZrd9XKrH4M"
      },
      "outputs": [],
      "source": [
        "vec @ (vec ** 2).T"
      ]
    },
    {
      "cell_type": "markdown",
      "metadata": {
        "id": "DCspe2aPrH4M"
      },
      "source": [
        "Useful features:"
      ]
    },
    {
      "cell_type": "code",
      "execution_count": null,
      "metadata": {
        "id": "f0nA9QYLrH4M",
        "colab": {
          "base_uri": "https://localhost:8080/"
        },
        "outputId": "211093a8-5e67-4090-a529-27ff8e2dccac"
      },
      "outputs": [
        {
          "output_type": "execute_result",
          "data": {
            "text/plain": [
              "array([[1, 2],\n",
              "       [3, 4],\n",
              "       [5, 6]])"
            ]
          },
          "metadata": {},
          "execution_count": 29
        }
      ],
      "source": [
        "vec"
      ]
    },
    {
      "cell_type": "code",
      "execution_count": null,
      "metadata": {
        "id": "tiHdqFvfrH4N",
        "colab": {
          "base_uri": "https://localhost:8080/"
        },
        "outputId": "a896a325-4d99-4691-f9ad-a7e36644a7f1"
      },
      "outputs": [
        {
          "output_type": "execute_result",
          "data": {
            "text/plain": [
              "array([[0],\n",
              "       [1],\n",
              "       [2]])"
            ]
          },
          "metadata": {},
          "execution_count": 32
        }
      ],
      "source": [
        "np.arange(3).reshape(3, 1)"
      ]
    },
    {
      "cell_type": "code",
      "execution_count": null,
      "metadata": {
        "id": "-07XMV47rH4N",
        "colab": {
          "base_uri": "https://localhost:8080/"
        },
        "outputId": "1a85f130-7059-4174-9199-adba0f1cb924"
      },
      "outputs": [
        {
          "output_type": "execute_result",
          "data": {
            "text/plain": [
              "array([[1, 2],\n",
              "       [4, 5],\n",
              "       [7, 8]])"
            ]
          },
          "metadata": {},
          "execution_count": 27
        }
      ],
      "source": [
        "vec + np.arange(3).reshape(3, 1)"
      ]
    },
    {
      "cell_type": "markdown",
      "metadata": {
        "id": "2gx5YuPsrH4N"
      },
      "source": [
        "Boolean arrays:"
      ]
    },
    {
      "cell_type": "code",
      "execution_count": null,
      "metadata": {
        "id": "pP3A65BLrH4N",
        "colab": {
          "base_uri": "https://localhost:8080/"
        },
        "outputId": "9ae16a84-3869-4856-b8e8-1f300ffedff3"
      },
      "outputs": [
        {
          "output_type": "stream",
          "name": "stdout",
          "text": [
            "[[False  True]\n",
            " [False  True]\n",
            " [False  True]]\n"
          ]
        }
      ],
      "source": [
        "is_even = vec % 2 == 0\n",
        "print(is_even)"
      ]
    },
    {
      "cell_type": "code",
      "execution_count": null,
      "metadata": {
        "id": "AjAQyUAirH4N",
        "colab": {
          "base_uri": "https://localhost:8080/"
        },
        "outputId": "00991dfa-5f90-4634-bf18-f68659c04578"
      },
      "outputs": [
        {
          "output_type": "execute_result",
          "data": {
            "text/plain": [
              "3"
            ]
          },
          "metadata": {},
          "execution_count": 29
        }
      ],
      "source": [
        "np.sum(is_even)"
      ]
    },
    {
      "cell_type": "markdown",
      "metadata": {
        "id": "khtek9iYrH4N"
      },
      "source": [
        "Boolean arrays allow you to pull elements with True from an array of the same size"
      ]
    },
    {
      "cell_type": "code",
      "execution_count": null,
      "metadata": {
        "id": "9UzJfWf6rH4N",
        "colab": {
          "base_uri": "https://localhost:8080/"
        },
        "outputId": "57e4b747-7558-4381-e929-8515220d16fd"
      },
      "outputs": [
        {
          "output_type": "execute_result",
          "data": {
            "text/plain": [
              "array([3, 4, 5, 6])"
            ]
          },
          "metadata": {},
          "execution_count": 37
        }
      ],
      "source": [
        "vec[vec ** 2 > 10 - 2 * vec]"
      ]
    },
    {
      "cell_type": "markdown",
      "metadata": {
        "id": "-zAwAOYcrH4O"
      },
      "source": [
        "Sometimes it is useful to create custom arrays. An array of zeros:"
      ]
    },
    {
      "cell_type": "code",
      "execution_count": null,
      "metadata": {
        "id": "6mLoZ_YzrH4O",
        "colab": {
          "base_uri": "https://localhost:8080/"
        },
        "outputId": "26b11512-3f6b-4a61-8f4a-eba801f22556"
      },
      "outputs": [
        {
          "output_type": "execute_result",
          "data": {
            "text/plain": [
              "array([[0, 0, 0],\n",
              "       [0, 0, 0]], dtype=int8)"
            ]
          },
          "metadata": {},
          "execution_count": 41
        }
      ],
      "source": [
        "np.zeros((2, 3), dtype = np.int8)"
      ]
    },
    {
      "cell_type": "markdown",
      "metadata": {
        "id": "q8eA_0V3rH4O"
      },
      "source": [
        "Array of ones:"
      ]
    },
    {
      "cell_type": "code",
      "execution_count": null,
      "metadata": {
        "id": "Vv-om1-yrH4O",
        "colab": {
          "base_uri": "https://localhost:8080/"
        },
        "outputId": "5dd9b599-d8d6-4ee2-cb3f-3d30715a5b5f"
      },
      "outputs": [
        {
          "output_type": "execute_result",
          "data": {
            "text/plain": [
              "array([[1., 1.],\n",
              "       [1., 1.],\n",
              "       [1., 1.]])"
            ]
          },
          "metadata": {},
          "execution_count": 42
        }
      ],
      "source": [
        "np.ones((3, 2))"
      ]
    },
    {
      "cell_type": "markdown",
      "metadata": {
        "id": "VvQI65dhrH4O"
      },
      "source": [
        "Identity Matrix:"
      ]
    },
    {
      "cell_type": "code",
      "execution_count": null,
      "metadata": {
        "id": "Q8CZ7doDrH4O",
        "colab": {
          "base_uri": "https://localhost:8080/"
        },
        "outputId": "94176d82-c8b7-4b50-cf3a-a76d4514aa63"
      },
      "outputs": [
        {
          "output_type": "execute_result",
          "data": {
            "text/plain": [
              "array([[1., 0., 0., 0., 0.],\n",
              "       [0., 1., 0., 0., 0.],\n",
              "       [0., 0., 1., 0., 0.],\n",
              "       [0., 0., 0., 1., 0.],\n",
              "       [0., 0., 0., 0., 1.]])"
            ]
          },
          "metadata": {},
          "execution_count": 33
        }
      ],
      "source": [
        "np.identity(5)"
      ]
    },
    {
      "cell_type": "markdown",
      "metadata": {
        "id": "Uahe3tparH4P"
      },
      "source": [
        "Arrays can be combined:"
      ]
    },
    {
      "cell_type": "code",
      "execution_count": null,
      "metadata": {
        "id": "bdTiHOPVrH4P",
        "colab": {
          "base_uri": "https://localhost:8080/"
        },
        "outputId": "951e32ba-7f17-4f50-b871-7e8b46e3a814"
      },
      "outputs": [
        {
          "output_type": "execute_result",
          "data": {
            "text/plain": [
              "array([[1, 2],\n",
              "       [3, 4],\n",
              "       [5, 6]])"
            ]
          },
          "metadata": {},
          "execution_count": 43
        }
      ],
      "source": [
        "vec"
      ]
    },
    {
      "cell_type": "code",
      "execution_count": null,
      "metadata": {
        "id": "YiE81OQzrH4P",
        "colab": {
          "base_uri": "https://localhost:8080/"
        },
        "outputId": "e8d675ea-324c-47cc-d9f8-296d02300a91"
      },
      "outputs": [
        {
          "output_type": "execute_result",
          "data": {
            "text/plain": [
              "array([[1., 2., 0., 0.],\n",
              "       [3., 4., 0., 0.],\n",
              "       [5., 6., 0., 0.]])"
            ]
          },
          "metadata": {},
          "execution_count": 44
        }
      ],
      "source": [
        "np.hstack((vec, np.zeros(vec.shape)))"
      ]
    },
    {
      "cell_type": "code",
      "execution_count": null,
      "metadata": {
        "id": "s5NFNT6WrH4P",
        "colab": {
          "base_uri": "https://localhost:8080/"
        },
        "outputId": "f45fc758-3a74-45d2-edc7-12c5e7a4c094"
      },
      "outputs": [
        {
          "output_type": "execute_result",
          "data": {
            "text/plain": [
              "array([[1., 2.],\n",
              "       [3., 4.],\n",
              "       [5., 6.],\n",
              "       [0., 0.],\n",
              "       [0., 0.],\n",
              "       [0., 0.]])"
            ]
          },
          "metadata": {},
          "execution_count": 45
        }
      ],
      "source": [
        "np.vstack((vec, np.zeros(vec.shape)))"
      ]
    },
    {
      "cell_type": "markdown",
      "metadata": {
        "id": "k18_nph1rH4P"
      },
      "source": [
        "Random number generation:"
      ]
    },
    {
      "cell_type": "code",
      "execution_count": null,
      "metadata": {
        "id": "8E276n0prH4P",
        "colab": {
          "base_uri": "https://localhost:8080/"
        },
        "outputId": "b2201140-2ec5-4940-f560-8449220c93fc"
      },
      "outputs": [
        {
          "output_type": "execute_result",
          "data": {
            "text/plain": [
              "array([[0.53745159, 0.63013453, 0.23809656],\n",
              "       [0.59300328, 0.78939339, 0.65501251]])"
            ]
          },
          "metadata": {},
          "execution_count": 63
        }
      ],
      "source": [
        "np.random.rand(2, 3)"
      ]
    },
    {
      "cell_type": "code",
      "execution_count": null,
      "metadata": {
        "id": "c8Kt1FvIrH4P",
        "colab": {
          "base_uri": "https://localhost:8080/"
        },
        "outputId": "20bcad4f-6e0c-47fd-c21a-4c7978c88451"
      },
      "outputs": [
        {
          "output_type": "execute_result",
          "data": {
            "text/plain": [
              "array([[0.24409392, 0.69660845, 0.9798046 ],\n",
              "       [0.45551907, 0.55582415, 0.47690902]])"
            ]
          },
          "metadata": {},
          "execution_count": 72
        }
      ],
      "source": [
        "np.random.seed(22012025)\n",
        "np.random.rand(2, 3)"
      ]
    },
    {
      "cell_type": "code",
      "execution_count": null,
      "metadata": {
        "id": "bsosNw0frH4Q",
        "colab": {
          "base_uri": "https://localhost:8080/"
        },
        "outputId": "8d38aa25-c76f-434e-fd2f-aeac4b419227"
      },
      "outputs": [
        {
          "output_type": "execute_result",
          "data": {
            "text/plain": [
              "array([[-1.87639508,  0.49250508],\n",
              "       [ 1.15453591, -0.91645997],\n",
              "       [-0.34605805, -0.54965773]])"
            ]
          },
          "metadata": {},
          "execution_count": 2
        }
      ],
      "source": [
        "np.random.randn(3, 2)"
      ]
    },
    {
      "cell_type": "code",
      "execution_count": null,
      "metadata": {
        "id": "rxbVOoM7rH4Q",
        "colab": {
          "base_uri": "https://localhost:8080/"
        },
        "outputId": "a38fd2f0-68c1-4663-f180-b63ec55946a5"
      },
      "outputs": [
        {
          "output_type": "execute_result",
          "data": {
            "text/plain": [
              "array([[104572.47757325,  89775.91818155],\n",
              "       [ 73857.34979021,  53615.56556028],\n",
              "       [150384.53224932,  95635.70816703]])"
            ]
          },
          "metadata": {},
          "execution_count": 73
        }
      ],
      "source": [
        "np.random.normal(100000, 25000, size=(3, 2))"
      ]
    },
    {
      "cell_type": "code",
      "execution_count": null,
      "metadata": {
        "id": "NeyNb7RirH4Q",
        "colab": {
          "base_uri": "https://localhost:8080/"
        },
        "outputId": "95e76a09-602c-4e51-dea2-0aabb28872df"
      },
      "outputs": [
        {
          "output_type": "execute_result",
          "data": {
            "text/plain": [
              "array([[6, 8],\n",
              "       [6, 6],\n",
              "       [4, 6]])"
            ]
          },
          "metadata": {},
          "execution_count": 75
        }
      ],
      "source": [
        "np.random.randint(1, 10, size=(3, 2))"
      ]
    },
    {
      "cell_type": "markdown",
      "metadata": {
        "id": "3jxiJMlorH4Q"
      },
      "source": [
        "Why do we use `numpy` at all?"
      ]
    },
    {
      "cell_type": "code",
      "execution_count": null,
      "metadata": {
        "id": "4cit_wgQrH4Q"
      },
      "outputs": [],
      "source": [
        "n = 3000\n",
        "A = np.random.rand(n, n)\n",
        "B = np.random.rand(n, n)"
      ]
    },
    {
      "cell_type": "code",
      "source": [
        "from tqdm import tqdm"
      ],
      "metadata": {
        "id": "DhkVMfdTnyHV"
      },
      "execution_count": null,
      "outputs": []
    },
    {
      "cell_type": "code",
      "execution_count": null,
      "metadata": {
        "id": "btagfA4OrH4R",
        "colab": {
          "base_uri": "https://localhost:8080/",
          "height": 141
        },
        "outputId": "1fcc77a3-6bf6-473c-df45-c8f01d535d33"
      },
      "outputs": [
        {
          "output_type": "stream",
          "name": "stderr",
          "text": [
            "  0%|          | 4/3000 [00:40<8:25:09, 10.12s/it]\n"
          ]
        },
        {
          "output_type": "error",
          "ename": "KeyboardInterrupt",
          "evalue": "",
          "traceback": [
            "\u001b[0;31m---------------------------------------------------------------------------\u001b[0m",
            "\u001b[0;31mKeyboardInterrupt\u001b[0m                         Traceback (most recent call last)",
            "\u001b[0;32m<timed exec>\u001b[0m in \u001b[0;36m<module>\u001b[0;34m\u001b[0m\n",
            "\u001b[0;31mKeyboardInterrupt\u001b[0m: "
          ]
        }
      ],
      "source": [
        "%%time\n",
        "C = np.zeros((n, n))\n",
        "for i in tqdm(range(n)):\n",
        "    for j in range(n):\n",
        "        for k in range(n):\n",
        "            C[i, j] += A[i, k] * B[k, j]"
      ]
    },
    {
      "cell_type": "code",
      "execution_count": null,
      "metadata": {
        "id": "w4QeozC_rH4R",
        "colab": {
          "base_uri": "https://localhost:8080/"
        },
        "outputId": "75de26ba-cc1a-4a4e-a1ca-a0c7b8dad6b4"
      },
      "outputs": [
        {
          "output_type": "stream",
          "name": "stdout",
          "text": [
            "CPU times: user 3.26 s, sys: 139 ms, total: 3.4 s\n",
            "Wall time: 1.79 s\n"
          ]
        }
      ],
      "source": [
        "%%time\n",
        "C = A @ B"
      ]
    },
    {
      "cell_type": "markdown",
      "metadata": {
        "id": "aeKANJT1rH4R"
      },
      "source": [
        "### Tasks for independent solution"
      ]
    },
    {
      "cell_type": "markdown",
      "metadata": {
        "id": "gC5nAiH_rH4R"
      },
      "source": [
        "1. Flip a one-dimensional array (make it so that its elements go in reverse order).\n",
        "2. Find the largest odd element in an array.\n",
        "3. Replace all odd array elements with your favorite number.\n",
        "4. Create an array of the first n odd numbers, written in descending order. For example, if `n=5`, then the answer would be `array([9, 7, 5, 3, 1])`. *Functions that may be useful in solving: `.arange()`*\n",
        "5. Calculate the closest and farthest numbers to the given number in the given array of numbers. For example, if the input is an array `array([0, 1, 2, 3, 4])` and the number 1.33, then the answer is `(1, 4)`. _Functions that may be useful in solving: `.abs()`, `.argmax()`, `.argmin()`_\n",
        "6. Calculate the antiderivative of the given polynomial (take your favorite number as a constant). For example, if the input is an array of coefficients `array([4, 6, 0, 1])`, which corresponds to the polynomial $4x^3 + 6x^2 + 1$, then the output is an array of coefficients `array([1, 2, 0, 1, -2])`, which corresponds to the polynomial $x^4 + 2x^3 + x - 2$. _Functions that may be useful in solving: `.append()`_\n",
        "7. Using step 6, calculate the first derivative for a given polynomial at a given point."
      ]
    },
    {
      "cell_type": "code",
      "execution_count": null,
      "metadata": {
        "id": "0bu36NfQrH4S"
      },
      "outputs": [],
      "source": [
        "# ┌(▼▼メ)┘ └(メ▼▼)┐"
      ]
    },
    {
      "cell_type": "code",
      "source": [
        "#1\n",
        "vec = np.array([4, 3, 1, 1, 5, 12, 11, 6])\n",
        "vec[::-1]"
      ],
      "metadata": {
        "id": "61X6nKOovm8e",
        "colab": {
          "base_uri": "https://localhost:8080/"
        },
        "outputId": "38e2f462-5ae3-47ef-89c1-a7ef36992a3d"
      },
      "execution_count": null,
      "outputs": [
        {
          "output_type": "execute_result",
          "data": {
            "text/plain": [
              "array([ 6, 11, 12,  5,  1,  1,  3,  4])"
            ]
          },
          "metadata": {},
          "execution_count": 85
        }
      ]
    },
    {
      "cell_type": "code",
      "source": [
        "#2\n",
        "vec[vec % 2 == 1].max()"
      ],
      "metadata": {
        "colab": {
          "base_uri": "https://localhost:8080/"
        },
        "id": "1BTTsF1HHLJJ",
        "outputId": "1f5f5d92-1fc4-4a63-9829-52e5b9b8bac1"
      },
      "execution_count": null,
      "outputs": [
        {
          "output_type": "execute_result",
          "data": {
            "text/plain": [
              "11"
            ]
          },
          "metadata": {},
          "execution_count": 86
        }
      ]
    },
    {
      "cell_type": "code",
      "source": [
        "#3\n",
        "vec[vec % 2 == 1] = 11\n",
        "vec"
      ],
      "metadata": {
        "colab": {
          "base_uri": "https://localhost:8080/"
        },
        "id": "OSiuUP93Hbvp",
        "outputId": "1492e328-0d44-4e43-82d2-e5ddf39cf69c"
      },
      "execution_count": null,
      "outputs": [
        {
          "output_type": "execute_result",
          "data": {
            "text/plain": [
              "array([ 4, 11, 11, 11, 11, 12, 11,  6])"
            ]
          },
          "metadata": {},
          "execution_count": 87
        }
      ]
    },
    {
      "cell_type": "code",
      "source": [
        "#4\n",
        "n = int(input())\n",
        "np.arange(2 * n - 1, 0, -2)"
      ],
      "metadata": {
        "colab": {
          "base_uri": "https://localhost:8080/"
        },
        "id": "v1bNjgFyHjqg",
        "outputId": "4e518081-91bc-4cd3-9304-8b46853c8760"
      },
      "execution_count": null,
      "outputs": [
        {
          "name": "stdout",
          "output_type": "stream",
          "text": [
            "5\n"
          ]
        },
        {
          "output_type": "execute_result",
          "data": {
            "text/plain": [
              "array([9, 7, 5, 3, 1])"
            ]
          },
          "metadata": {},
          "execution_count": 88
        }
      ]
    },
    {
      "cell_type": "code",
      "source": [
        "#5\n",
        "vec = np.array([0, 1, 2, 3, 4])\n",
        "n = 1.33\n",
        "dist = np.abs(vec - n)\n",
        "mini = np.argmin(dist)\n",
        "maxi = np.argmax(dist)\n",
        "vec[mini], vec[maxi]"
      ],
      "metadata": {
        "colab": {
          "base_uri": "https://localhost:8080/"
        },
        "id": "ftrLrUaxHxMg",
        "outputId": "1b8eb8e6-09fc-4dfb-db67-dc75cdcbf6bb"
      },
      "execution_count": null,
      "outputs": [
        {
          "output_type": "execute_result",
          "data": {
            "text/plain": [
              "(1, 4)"
            ]
          },
          "metadata": {},
          "execution_count": 90
        }
      ]
    },
    {
      "cell_type": "code",
      "source": [],
      "metadata": {
        "id": "8GiE70T5IUcC"
      },
      "execution_count": null,
      "outputs": []
    }
  ],
  "metadata": {
    "kernelspec": {
      "display_name": "Python 3",
      "language": "python",
      "name": "python3"
    },
    "language_info": {
      "codemirror_mode": {
        "name": "ipython",
        "version": 3
      },
      "file_extension": ".py",
      "mimetype": "text/x-python",
      "name": "python",
      "nbconvert_exporter": "python",
      "pygments_lexer": "ipython3",
      "version": "3.6.7"
    },
    "colab": {
      "provenance": []
    }
  },
  "nbformat": 4,
  "nbformat_minor": 0
}