{
  "cells": [
    {
      "cell_type": "markdown",
      "metadata": {
        "id": "kmR0IBowrBPV"
      },
      "source": [
        "# Machine Learning\n",
        "\n",
        "## HSE, 2024-25"
      ]
    },
    {
      "cell_type": "markdown",
      "metadata": {
        "id": "fdTH3pxXFLxw"
      },
      "source": [
        "### Home Assignment #1. Numpy Library"
      ]
    },
    {
      "cell_type": "markdown",
      "metadata": {
        "id": "Sk5URBvkFLxx"
      },
      "source": [
        "The assignment was completed by: Talgat Zharkynbay"
      ]
    },
    {
      "cell_type": "markdown",
      "metadata": {
        "id": "kqVyveO4FLxx"
      },
      "source": [
        "### General information"
      ]
    },
    {
      "cell_type": "markdown",
      "metadata": {
        "id": "2A0wmBWwFLxx"
      },
      "source": [
        "__Publication date:__ 26.01.2025\n",
        "\n",
        "__Deadline:__ 04:00 05.02.2025"
      ]
    },
    {
      "cell_type": "markdown",
      "metadata": {
        "id": "qK8Ari9eFLxz"
      },
      "source": [
        "### Grading and penalties\n",
        "\n",
        "Each task is assessed with 2 points.\n",
        "\n",
        "The grade for HA is calculated according to the following formula:\n",
        "\n",
        "$$\n",
        "s_{\\text{numpy}} \\times 1/2 ,\n",
        "$$\n",
        "\n",
        "where $s_{\\text{numpy}}$  — is the number of points you have scored in total on the tasks.\n",
        "\n",
        "\n",
        "Submitting a task late will incur a penalty of 1 point per day on the final grade for the task, but the delay cannot be more than 3 days."
      ]
    },
    {
      "cell_type": "markdown",
      "metadata": {
        "id": "nEGThfK6FLx0"
      },
      "source": [
        "__WARNING!__ Homework must be completed independently. Assistance from classmates or third parties in solving homework assignments is not permitted. \"Similar\" solutions are considered plagiarism, and all involved students—including those who copied—will receive no credit for it. The use of generative models (such as ChatGPT and others) in solving homework assignments, beyond using them for reference and educational purposes, to generate assignment code, is considered plagiarism, and such homework will be graded as 0 points."
      ]
    },
    {
      "cell_type": "markdown",
      "metadata": {
        "id": "zNja-u8vFLx0"
      },
      "source": [
        "### Submission format"
      ]
    },
    {
      "cell_type": "markdown",
      "metadata": {
        "id": "_H-cf8uaFLx0"
      },
      "source": [
        "The format of uploading file will be announced closer to the deadline. You need to upload a file with the extension .ipynb (Python notebook)"
      ]
    },
    {
      "cell_type": "markdown",
      "metadata": {
        "id": "TEVawss2FLxy"
      },
      "source": [
        "### About the assignment"
      ]
    },
    {
      "cell_type": "markdown",
      "metadata": {
        "id": "NXNpYAFdFLxz"
      },
      "source": [
        "In this homework assignment, you will practice in using numpy library!"
      ]
    },
    {
      "cell_type": "code",
      "execution_count": 1,
      "metadata": {
        "collapsed": true,
        "id": "4gsWSgTIFLx1",
        "jupyter": {
          "outputs_hidden": true
        }
      },
      "outputs": [],
      "source": [
        "import numpy as np"
      ]
    },
    {
      "cell_type": "markdown",
      "metadata": {
        "id": "ApiPWJygFLx2"
      },
      "source": [
        "In all problems it is necessary to write the solution code inside the function and check its work by calling the function for the data from the text of the problem.\n",
        "\n",
        "When solving problems, it is forbidden to use loops (`for`, `while`) and the `if` operator.\n",
        "\n",
        "Wherever arrays or matrices are encountered, it is implied that it is `numpy.array`."
      ]
    },
    {
      "cell_type": "markdown",
      "metadata": {
        "id": "8fc_z7yNFLx2"
      },
      "source": [
        "### 1"
      ]
    },
    {
      "cell_type": "markdown",
      "metadata": {
        "id": "ETNlMgiZFLx3"
      },
      "source": [
        "Write a function that returns a rounded weighted sum of grades based on given grades and weights. You can calculate the grade for the course :) Let us consider an example, that exam weight is 0.4, homework weight is 0.39 and class weight is 0.21. For example, if the exam is written at 6, homework is 9, and the grade for the attendance is 8, the final grade will be excellent - 8."
      ]
    },
    {
      "cell_type": "code",
      "execution_count": 2,
      "metadata": {
        "id": "VDEhJbQ-FLx3"
      },
      "outputs": [],
      "source": [
        "def result_mark(weights, marks):\n",
        "    # your code here\n",
        "    return round(np.sum(np.multiply(weights, marks)), 0)"
      ]
    },
    {
      "cell_type": "code",
      "execution_count": 3,
      "metadata": {
        "id": "NcaSNNLNFLx3"
      },
      "outputs": [
        {
          "data": {
            "text/plain": [
              "8.0"
            ]
          },
          "execution_count": 3,
          "metadata": {},
          "output_type": "execute_result"
        }
      ],
      "source": [
        "weights = np.array([0.4, 0.39, 0.21])\n",
        "marks = np.array([6, 9, 8])\n",
        "result_mark(weights, marks)"
      ]
    },
    {
      "cell_type": "markdown",
      "metadata": {
        "id": "J0V1vikQFLx3"
      },
      "source": [
        "### 2"
      ]
    },
    {
      "cell_type": "markdown",
      "metadata": {
        "id": "-7GYYXZ-FLx4"
      },
      "source": [
        "Write a function that changes every third (starting from 0) value of an array of integers to a given number. For example, if the input is an array `array([3, 5, 1, 0, -3, 22, 213436])` and the number `-111`, the output should be an array `array([-111, 5, 1, -111, -3, 22, -111])`."
      ]
    },
    {
      "cell_type": "code",
      "execution_count": 4,
      "metadata": {
        "collapsed": true,
        "id": "bCl2jHbqFLx4",
        "jupyter": {
          "outputs_hidden": true
        }
      },
      "outputs": [],
      "source": [
        "def change_array(array, number):\n",
        "    # your code here\n",
        "    array[::3] = number\n",
        "    return array"
      ]
    },
    {
      "cell_type": "code",
      "execution_count": 5,
      "metadata": {
        "collapsed": true,
        "id": "Gpq8NhDLFLx4",
        "jupyter": {
          "outputs_hidden": true
        }
      },
      "outputs": [
        {
          "data": {
            "text/plain": [
              "array([-111,    5,    1, -111,   -3,   22, -111])"
            ]
          },
          "execution_count": 5,
          "metadata": {},
          "output_type": "execute_result"
        }
      ],
      "source": [
        "array = np.array([3, 5, 1, 0, -3, 22, 213436])\n",
        "number = -111\n",
        "change_array(array, number)"
      ]
    },
    {
      "cell_type": "markdown",
      "metadata": {
        "id": "Sal1bM6RFLx4"
      },
      "source": [
        "### 3"
      ]
    },
    {
      "cell_type": "markdown",
      "metadata": {
        "id": "au8Az2JjFLx5"
      },
      "source": [
        "Write a function that gives indices of \"close\" elements of given arrays, namely those pairs of elements whose modulus of difference does not exceed a given value. For example, if the input is an array `array([1.5, 0.5, 2, -4.1, -3, 6, -1])`, an array `array([1.2, 0.5, 1, -4, 3, 0, -1.2])` and the number `0. 5`, then the output should be an array `array([0, 1, 3, 6])` (_**important: not `tuple`, but a one-dimensional array of type `numpy.ndarray` (i.e. `.ndim` from it equals 1)!**_)."
      ]
    },
    {
      "cell_type": "code",
      "execution_count": 14,
      "metadata": {
        "collapsed": true,
        "id": "WacJagotFLx5",
        "jupyter": {
          "outputs_hidden": true
        }
      },
      "outputs": [],
      "source": [
        "def find_close(array1, array2, precision):\n",
        "    # your code here\n",
        "    temp_array = np.abs(np.subtract(array1, array2))\n",
        "    return np.where(temp_array <= precision)[0]"
      ]
    },
    {
      "cell_type": "code",
      "execution_count": 15,
      "metadata": {
        "collapsed": true,
        "id": "zFLktJlAFLx5",
        "jupyter": {
          "outputs_hidden": true
        }
      },
      "outputs": [
        {
          "data": {
            "text/plain": [
              "array([0, 1, 3, 6], dtype=int64)"
            ]
          },
          "execution_count": 15,
          "metadata": {},
          "output_type": "execute_result"
        }
      ],
      "source": [
        "array1 = np.array([1.5, 0.5, 2, -4.1, -3, 6, -1])\n",
        "array2 = np.array([1.2, 0.5, 1, -4, 3, 0, -1.2])\n",
        "precision = 0.5\n",
        "find_close(array1, array2, precision)"
      ]
    },
    {
      "cell_type": "markdown",
      "metadata": {
        "id": "vIuNrOzMFLx6"
      },
      "source": [
        "### 4"
      ]
    },
    {
      "cell_type": "markdown",
      "metadata": {
        "id": "ygLvIXXaFLx6"
      },
      "source": [
        "Write a function that makes a block matrix of four blocks, where each block is a given matrix. For example, if the input is a matrix\n",
        "$$\n",
        "\\begin{pmatrix}\n",
        "0 & 1 & 2\\\\\n",
        "3 & 4 & 5\\\\\n",
        "\\end{pmatrix},\n",
        "$$\n",
        "then the answer is the matrix\n",
        "$$\n",
        "\\begin{pmatrix}\n",
        "0 & 1 & 2 & 0 & 1 & 2\\\\\n",
        "3 & 4 & 5 & 3 & 4 & 5\\\\\n",
        "0 & 1 & 2 & 0 & 1 & 2\\\\\n",
        "3 & 4 & 5 & 3 & 4 & 5\\\\\n",
        "\\end{pmatrix}\n",
        "$$"
      ]
    },
    {
      "cell_type": "code",
      "execution_count": 16,
      "metadata": {
        "collapsed": true,
        "id": "3ZSvD5CbFLx6",
        "jupyter": {
          "outputs_hidden": true
        }
      },
      "outputs": [],
      "source": [
        "def block_matrix(block):\n",
        "    # your code here\n",
        "    block = np.matrix(block)\n",
        "    block = np.concatenate((block, block), axis = 1)\n",
        "    block = np.concatenate((block, block), axis = 0)\n",
        "    return block"
      ]
    },
    {
      "cell_type": "code",
      "execution_count": 17,
      "metadata": {
        "collapsed": true,
        "id": "x2zSnETKFLx6",
        "jupyter": {
          "outputs_hidden": true
        }
      },
      "outputs": [
        {
          "data": {
            "text/plain": [
              "matrix([[0, 1, 2, 0, 1, 2],\n",
              "        [3, 4, 5, 3, 4, 5],\n",
              "        [0, 1, 2, 0, 1, 2],\n",
              "        [3, 4, 5, 3, 4, 5]])"
            ]
          },
          "execution_count": 17,
          "metadata": {},
          "output_type": "execute_result"
        }
      ],
      "source": [
        "block = np.array([[0, 1, 2], [3, 4, 5]])\n",
        "block_matrix(block)"
      ]
    },
    {
      "cell_type": "markdown",
      "metadata": {
        "id": "4Bjhe8y1FLx7"
      },
      "source": [
        "### 5"
      ]
    },
    {
      "cell_type": "markdown",
      "metadata": {
        "id": "-U82db8IFLx7"
      },
      "source": [
        "Write a function that computes the product of all non-zero diagonal elements on the diagonals of a given square matrix. For example, if the input is a matrix\n",
        "$$\n",
        "\\begin{pmatrix}\n",
        "0 & 1 & 2\\\\\n",
        "3 & 4 & 5\\\\\n",
        "6 & 7 & 8\\\\\n",
        "\\end{pmatrix},\n",
        "$$\n",
        "then the answer is 32."
      ]
    },
    {
      "cell_type": "code",
      "execution_count": 18,
      "metadata": {
        "collapsed": true,
        "id": "KXSqcJtDFLx7",
        "jupyter": {
          "outputs_hidden": true
        }
      },
      "outputs": [],
      "source": [
        "def diag_prod(matrix):\n",
        "    # your code here\n",
        "    i = np.identity(matrix.shape[0])\n",
        "    res = matrix * i\n",
        "    return np.prod(res[res != 0])"
      ]
    },
    {
      "cell_type": "code",
      "execution_count": 19,
      "metadata": {
        "collapsed": true,
        "id": "tVMMGkuwFLx7",
        "jupyter": {
          "outputs_hidden": true
        }
      },
      "outputs": [
        {
          "data": {
            "text/plain": [
              "32.0"
            ]
          },
          "execution_count": 19,
          "metadata": {},
          "output_type": "execute_result"
        }
      ],
      "source": [
        "matrix = np.array([[0, 1, 2], [3, 4, 5], [6, 7, 8]])\n",
        "diag_prod(matrix)"
      ]
    },
    {
      "cell_type": "markdown",
      "metadata": {
        "id": "N4x5oKBqFLx8"
      },
      "source": [
        "### 6"
      ]
    },
    {
      "cell_type": "markdown",
      "metadata": {
        "id": "X_KxN00rFLx8"
      },
      "source": [
        "To improve the performance of some machine learning algorithms, it can be useful to use [data normalization](https://vk.cc/8xmfQk) to bring the features in a sample to the same scale - namely, subtract the mean of its values from each column and divide by their standard deviation. Write a function that normalizes the input matrix (column by column). For example, if the input matrix is\n",
        "$$\n",
        "\\begin{pmatrix}\n",
        "1 & 4 & 4200\\\\\n",
        "0 & 10 & 5000\\\\\n",
        "1 & 2 & 1000\\\\\n",
        "\\end{pmatrix},\n",
        "$$\n",
        "then the result with accuracy to hundredths will be the matrix\n",
        "$$\n",
        "\\begin{pmatrix}\n",
        "0.71 & -0.39 & 0.46\\\\\n",
        "-1.41 & 1.37 & 0.93\\\\\n",
        "0.71 & -0.98 & -1.39\\\\\n",
        "\\end{pmatrix}\n",
        "$$\n",
        "\n",
        "_Hint. Keep in mind that you should not get any nan in your matrix. Think in what case they can occur and how to get around this problem._\n"
      ]
    },
    {
      "cell_type": "code",
      "execution_count": 40,
      "metadata": {
        "collapsed": true,
        "id": "8-1UM3LqFLx8",
        "jupyter": {
          "outputs_hidden": true
        }
      },
      "outputs": [],
      "source": [
        "def normalize(matrix):\n",
        "    # your code here\n",
        "    return np.round((matrix - np.nanmean(matrix, axis = 0))/(np.nanstd(matrix, axis = 0)), 2)"
      ]
    },
    {
      "cell_type": "code",
      "execution_count": 41,
      "metadata": {
        "collapsed": true,
        "id": "5s0nCZJNFLx8",
        "jupyter": {
          "outputs_hidden": true
        }
      },
      "outputs": [
        {
          "data": {
            "text/plain": [
              "array([[ 0.71, -0.39,  0.46],\n",
              "       [-1.41,  1.37,  0.93],\n",
              "       [ 0.71, -0.98, -1.39]])"
            ]
          },
          "execution_count": 41,
          "metadata": {},
          "output_type": "execute_result"
        }
      ],
      "source": [
        "matrix = np.array([[1, 4, 4200], [0, 10, 5000], [1, 2, 1000]])\n",
        "normalize(matrix)"
      ]
    },
    {
      "cell_type": "markdown",
      "metadata": {
        "id": "GGezY0NEFLx9"
      },
      "source": [
        "### 7"
      ]
    },
    {
      "cell_type": "markdown",
      "metadata": {
        "id": "yBWZF7a5FLx9"
      },
      "source": [
        "Write a function that calculates some primal of the given polynomial (take your favorite number as a constant). For example, if the input is an array of coefficients `array([4, 6, 0, 1])` corresponding to the polynomial $4x^3 + 6x^2 + 1$, the output is an array of coefficients `array([1, 2, 0, 1, -2])` corresponding to the polynomial $x^4 + 2x^3 + x - 2$."
      ]
    },
    {
      "cell_type": "code",
      "execution_count": 63,
      "metadata": {
        "collapsed": true,
        "id": "IWU9ISN_FLx9",
        "jupyter": {
          "outputs_hidden": true
        }
      },
      "outputs": [],
      "source": [
        "def antiderivative(coefs):\n",
        "    # your code here\n",
        "    max_stepen = coefs.shape[0]\n",
        "    dividers = np.arange(max_stepen, 0, -1)\n",
        "    res = coefs / dividers\n",
        "    res = np.append(res, -2) # let this be my favourite constant number\n",
        "    return res"
      ]
    },
    {
      "cell_type": "code",
      "execution_count": 64,
      "metadata": {
        "collapsed": true,
        "id": "9G2gNNZxFLx9",
        "jupyter": {
          "outputs_hidden": true
        }
      },
      "outputs": [
        {
          "data": {
            "text/plain": [
              "array([ 1.,  2.,  0.,  1., -2.])"
            ]
          },
          "execution_count": 64,
          "metadata": {},
          "output_type": "execute_result"
        }
      ],
      "source": [
        "coefs = np.array([4, 6, 0, 1])\n",
        "antiderivative(coefs)"
      ]
    },
    {
      "cell_type": "markdown",
      "metadata": {
        "id": "6LtnZ4T1FLx9"
      },
      "source": [
        "### 8"
      ]
    },
    {
      "cell_type": "markdown",
      "metadata": {
        "id": "vGq8Aao0FLx-"
      },
      "source": [
        "Write a function that makes the given [triangular](https://en.wikipedia.org/wiki/Triangular_matrix) matrix symmetric. For example, if the input is a matrix\n",
        "$$\n",
        "\\begin{pmatrix}\n",
        "1 & 2 & 3 & 4\\\\\n",
        "0 & 5 & 6 & 7\\\\\n",
        "0 & 0 & 8 & 9\\\\\n",
        "0 & 0 & 0 & 10\\\\\n",
        "\\end{pmatrix},\n",
        "$$\n",
        "then the output should be the matrix\n",
        "$$\n",
        "\\begin{pmatrix}\n",
        "1 & 2 & 3 & 4\\\\\n",
        "2 & 5 & 6 & 7\\\\\n",
        "3 & 6 & 8 & 9\\\\\n",
        "4 & 7 & 9 & 10\\\\\n",
        "\\end{pmatrix}.\n",
        "$$"
      ]
    },
    {
      "cell_type": "code",
      "execution_count": null,
      "metadata": {
        "collapsed": true,
        "id": "X9YCwhUxFLx-",
        "jupyter": {
          "outputs_hidden": true
        }
      },
      "outputs": [],
      "source": [
        "def make_symmetric(matrix):\n",
        "    # your code here\n",
        "    return (np.abs(matrix-matrix.T)+np.identity(matrix.shape[0])*matrix).astype(int)"
      ]
    },
    {
      "cell_type": "code",
      "execution_count": 16,
      "metadata": {
        "collapsed": true,
        "id": "ShNVSsM-FLx-",
        "jupyter": {
          "outputs_hidden": true
        }
      },
      "outputs": [
        {
          "data": {
            "text/plain": [
              "array([[ 1,  2,  3,  4],\n",
              "       [ 2,  5,  6,  7],\n",
              "       [ 3,  6,  8,  9],\n",
              "       [ 4,  7,  9, 10]])"
            ]
          },
          "execution_count": 16,
          "metadata": {},
          "output_type": "execute_result"
        }
      ],
      "source": [
        "matrix = np.array([[1, 2, 3, 4], [0, 5, 6, 7], [0, 0, 8, 9], [0, 0, 0, 10]])\n",
        "make_symmetric(matrix)"
      ]
    },
    {
      "cell_type": "markdown",
      "metadata": {
        "id": "JV_y8k8rFLx-"
      },
      "source": [
        "### 9"
      ]
    },
    {
      "cell_type": "markdown",
      "metadata": {
        "id": "7pX12jtoFLx_"
      },
      "source": [
        "Write a function that creates a rectangular matrix of m equal rows filled with consecutive natural numbers from a to b inclusive in ascending order. For example, if m = 5, a = 3, b = 10, the output will be the matrix\n",
        "$$\n",
        "\\begin{pmatrix}\n",
        "3 & 4 & 5 & 6 & 7 & 8 & 9 & 10\\\\\n",
        "3 & 4 & 5 & 6 & 7 & 8 & 9 & 10\\\\\n",
        "3 & 4 & 5 & 6 & 7 & 8 & 9 & 10\\\\\n",
        "3 & 4 & 5 & 6 & 7 & 8 & 9 & 10\\\\\n",
        "3 & 4 & 5 & 6 & 7 & 8 & 9 & 10\\\\\n",
        "\\end{pmatrix}\n",
        "$$"
      ]
    },
    {
      "cell_type": "code",
      "execution_count": 48,
      "metadata": {
        "collapsed": true,
        "id": "g2yZmQ4gFLx_",
        "jupyter": {
          "outputs_hidden": true
        }
      },
      "outputs": [],
      "source": [
        "def construct_matrix(m, a, b):\n",
        "    # your code here\n",
        "    matrix = np.zeros((m, (b-3)+1))\n",
        "    matrix[:, :] = np.arange(a, b+1)\n",
        "    return matrix.astype(int)"
      ]
    },
    {
      "cell_type": "code",
      "execution_count": 49,
      "metadata": {
        "collapsed": true,
        "id": "bsaKjkvOFLx_",
        "jupyter": {
          "outputs_hidden": true
        }
      },
      "outputs": [
        {
          "data": {
            "text/plain": [
              "array([[ 3,  4,  5,  6,  7,  8,  9, 10],\n",
              "       [ 3,  4,  5,  6,  7,  8,  9, 10],\n",
              "       [ 3,  4,  5,  6,  7,  8,  9, 10],\n",
              "       [ 3,  4,  5,  6,  7,  8,  9, 10],\n",
              "       [ 3,  4,  5,  6,  7,  8,  9, 10]])"
            ]
          },
          "execution_count": 49,
          "metadata": {},
          "output_type": "execute_result"
        }
      ],
      "source": [
        "m = 5\n",
        "a = 3\n",
        "b = 10\n",
        "construct_matrix(m, a, b)"
      ]
    },
    {
      "cell_type": "markdown",
      "metadata": {
        "id": "G9vWLQZWFLx_"
      },
      "source": [
        "### 10"
      ]
    },
    {
      "cell_type": "markdown",
      "metadata": {
        "id": "USWqm0x7FLx_"
      },
      "source": [
        "Write a function that computes the [cosine proximity](https://en.wikipedia.org/wiki/Cosine_similarity) of two vectors. For example, if the vectors `array([-2, 1, 0, -5, 4, 3, -3])` and `array([0, 2, -2, 10, 6, 0, 0])` are given as input, the answer is -0.25."
      ]
    },
    {
      "cell_type": "code",
      "execution_count": 57,
      "metadata": {
        "collapsed": true,
        "id": "48XiDQTBFLyA",
        "jupyter": {
          "outputs_hidden": true
        }
      },
      "outputs": [],
      "source": [
        "def cosine_similarity(vec1, vec2):\n",
        "    # your code here\n",
        "    return np.sum(vec1 * vec2)/(np.sqrt(np.sum(vec1 **2)) * np.sqrt(np.sum(vec2 **2)))"
      ]
    },
    {
      "cell_type": "code",
      "execution_count": 58,
      "metadata": {
        "collapsed": true,
        "id": "YmEsEYHrFLyA",
        "jupyter": {
          "outputs_hidden": true
        }
      },
      "outputs": [
        {
          "data": {
            "text/plain": [
              "-0.25"
            ]
          },
          "execution_count": 58,
          "metadata": {},
          "output_type": "execute_result"
        }
      ],
      "source": [
        "vec1 = np.array([-2, 1, 0, -5, 4, 3, -3])\n",
        "vec2 = np.array([0, 2, -2, 10, 6, 0, 0])\n",
        "cosine_similarity(vec1, vec2)"
      ]
    },
    {
      "cell_type": "code",
      "execution_count": null,
      "metadata": {},
      "outputs": [],
      "source": []
    }
  ],
  "metadata": {
    "colab": {
      "provenance": []
    },
    "kernelspec": {
      "display_name": "Python 3",
      "language": "python",
      "name": "python3"
    },
    "language_info": {
      "codemirror_mode": {
        "name": "ipython",
        "version": 3
      },
      "file_extension": ".py",
      "mimetype": "text/x-python",
      "name": "python",
      "nbconvert_exporter": "python",
      "pygments_lexer": "ipython3",
      "version": "3.11.9"
    }
  },
  "nbformat": 4,
  "nbformat_minor": 0
}
