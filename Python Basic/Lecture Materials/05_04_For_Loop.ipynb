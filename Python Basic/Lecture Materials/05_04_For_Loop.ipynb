{
  "nbformat": 4,
  "nbformat_minor": 0,
  "metadata": {
    "kernelspec": {
      "display_name": "Python 3",
      "language": "python",
      "name": "python3"
    },
    "language_info": {
      "codemirror_mode": {
        "name": "ipython",
        "version": 3
      },
      "file_extension": ".py",
      "mimetype": "text/x-python",
      "name": "python",
      "nbconvert_exporter": "python",
      "pygments_lexer": "ipython3",
      "version": "3.7.6"
    },
    "colab": {
      "provenance": []
    }
  },
  "cells": [
    {
      "cell_type": "markdown",
      "metadata": {
        "id": "9mRz_MapaW7O"
      },
      "source": [
        "## `For` loop"
      ]
    },
    {
      "cell_type": "markdown",
      "metadata": {
        "id": "1IrV-dR5aW7Q"
      },
      "source": [
        "Let's go back to our shopping list."
      ]
    },
    {
      "cell_type": "code",
      "metadata": {
        "id": "woMUVHNMaW7R",
        "colab": {
          "base_uri": "https://localhost:8080/"
        },
        "outputId": "f171d647-77b1-4890-a58c-8bdf4f301a95"
      },
      "source": [
        "shopping_list = ['bread', 'milk', 'pelmeni']\n",
        "print('We need to buy:', *shopping_list) # Prints the elements of the list."
      ],
      "execution_count": null,
      "outputs": [
        {
          "output_type": "stream",
          "text": [
            "We need to buy: bread milk pelmeni\n"
          ],
          "name": "stdout"
        }
      ]
    },
    {
      "cell_type": "markdown",
      "metadata": {
        "id": "P2hg5qC_aW7Z"
      },
      "source": [
        "Ok, via `*` operator we can print elements in our list. But what if we want to perform the same instruction to all elements within a list? E.g. to print a string 'We need to buy <item>' for each item in our shopping list."
      ]
    },
    {
      "cell_type": "code",
      "metadata": {
        "id": "TgZNn1eoecm-",
        "colab": {
          "base_uri": "https://localhost:8080/"
        },
        "outputId": "03880de3-8ceb-40fd-d515-6bdc501d6d7b"
      },
      "source": [
        "print(f'We need to buy: {shopping_list[0]}')\n",
        "print(f'We need to buy: {shopping_list[1]}')\n",
        "print(f'We need to buy: {shopping_list[2]}')"
      ],
      "execution_count": null,
      "outputs": [
        {
          "output_type": "stream",
          "text": [
            "We need to buy: bread\n",
            "We need to buy: milk\n",
            "We need to buy: pelmeni\n"
          ],
          "name": "stdout"
        }
      ]
    },
    {
      "cell_type": "markdown",
      "metadata": {
        "id": "3cD6J5g3ebpi"
      },
      "source": [
        "Even with three elements it looks like too much of work. But what if we have hundreds of elements?"
      ]
    },
    {
      "cell_type": "markdown",
      "metadata": {
        "id": "AiQGPa4ePJRD"
      },
      "source": [
        "Like it is often a case in Python, there is a tool which will help us to deal with a situation like this. We can use `for` loop to go through list's elements:\n"
      ]
    },
    {
      "cell_type": "markdown",
      "metadata": {
        "id": "40FNUExFaW7f"
      },
      "source": [
        "    for <item> in <list, tuple or string>:\n",
        "        <instructions to perform on item>"
      ]
    },
    {
      "cell_type": "code",
      "metadata": {
        "id": "bGJEjMdfPRX6",
        "colab": {
          "base_uri": "https://localhost:8080/"
        },
        "outputId": "fa7aff12-0937-43d9-ecf2-3ac25f5069d0"
      },
      "source": [
        "shopping_list = ['bread', 'milk', 'pelmeni']\n",
        "\n",
        "for thing in shopping_list:\n",
        "# go through `shopping_list` and copy each object to a `thing` variable:\n",
        "    print(thing) # print contents of `thing` variable"
      ],
      "execution_count": null,
      "outputs": [
        {
          "output_type": "stream",
          "text": [
            "bread\n",
            "milk\n",
            "pelmeni\n"
          ],
          "name": "stdout"
        }
      ]
    },
    {
      "cell_type": "markdown",
      "metadata": {
        "id": "JYtBRo-ZaW7g"
      },
      "source": [
        "`for` loop creates a variable (`thing` in our example). This variable may be called anything. This variable is created withing a loop but exists outside it as well. In our case `thing` will contain the last item that was assigned to it. Let's check it!"
      ]
    },
    {
      "cell_type": "code",
      "metadata": {
        "id": "gB1Ifk9jaW7h",
        "colab": {
          "base_uri": "https://localhost:8080/"
        },
        "outputId": "79889c70-277d-4052-c7f7-98af8034ee10"
      },
      "source": [
        "print(thing) # checking what is inside `thing` variable"
      ],
      "execution_count": null,
      "outputs": [
        {
          "output_type": "stream",
          "text": [
            "pelmeni\n"
          ],
          "name": "stdout"
        }
      ]
    },
    {
      "cell_type": "markdown",
      "metadata": {
        "id": "3am17U4IEFIY"
      },
      "source": [
        "Don't be surprised if you see two `for` loops in a row where the variable is called the same. Usually it is a technical variable and there is no much use for it outside of a loop."
      ]
    },
    {
      "cell_type": "markdown",
      "metadata": {
        "id": "TQUvVdh-FZTs"
      },
      "source": [
        "Of course we can do something more interesting then just printing things. Let's enumerate our shopping list."
      ]
    },
    {
      "cell_type": "code",
      "metadata": {
        "id": "Mfe77s1FFYe1",
        "colab": {
          "base_uri": "https://localhost:8080/"
        },
        "outputId": "2c3f3cda-d0ee-4e35-ba4a-8a37b3f23bcd"
      },
      "source": [
        "shopping_list = ['bread', 'milk', 'pelmeni']\n",
        "\n",
        "number = 1 # creating a variable with an index\n",
        "for thing in shopping_list:\n",
        "    print(number, thing) # printing an index and an item\n",
        "    number += 1 # updating an index by 1"
      ],
      "execution_count": null,
      "outputs": [
        {
          "output_type": "stream",
          "text": [
            "1 bread\n",
            "2 milk\n",
            "3 pelmeni\n"
          ],
          "name": "stdout"
        }
      ]
    },
    {
      "cell_type": "markdown",
      "metadata": {
        "id": "sb3GxsmnEuHT"
      },
      "source": [
        "`For` loop works not only with lists. We can also use it for strings and tuples. And later we will learn about other data types where it can be also applied."
      ]
    }
  ]
}