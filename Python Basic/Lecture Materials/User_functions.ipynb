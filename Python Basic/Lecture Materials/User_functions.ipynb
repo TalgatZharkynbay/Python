{
  "nbformat": 4,
  "nbformat_minor": 0,
  "metadata": {
    "colab": {
      "provenance": []
    },
    "kernelspec": {
      "name": "python3",
      "display_name": "Python 3"
    },
    "language_info": {
      "name": "python"
    }
  },
  "cells": [
    {
      "cell_type": "markdown",
      "metadata": {
        "id": "-nBdaS_uPN1q"
      },
      "source": [
        "# User-defined functions in Python\n",
        "\n",
        "We use a lot of functions when we are programming. But often it is useful to define user's functions. Let's find out how to do that.\n",
        "\n",
        "``` python\n",
        "def name_of_the_function(arguments):\n",
        "  *some instructions*\n",
        "  return result\n",
        "```\n",
        "\n",
        "Above there is the schema for the function creation.\n",
        "* You need the keyword `def` to define your own function.\n",
        "* You need to name it with the same restrictions applicable to variables names: you cannot use spaces within the name; the name cannot start with a digit; it should not be the same as the name of existing Python's functions.\n",
        "* Then in parentheses you specify the number of parameters (arguments) that your function will take and to which local variables they will be assigned.\n",
        "* Then there is an indented block after the colon where you can specify any instructions you want.\n",
        "* The line with a keyword `return` is not mandatory per se, but you will have to write it if you want to use the result of function later (e.g. to assign it to a variable or to use in conditional statement, etc.).\n",
        "* We shouldn't call a function before defining one! It would lead to an error.\n",
        "\n",
        "Let's define our very first function."
      ]
    },
    {
      "cell_type": "markdown",
      "metadata": {
        "id": "dpXQ6hBeQ9cv"
      },
      "source": [
        "Our function would be named `currency_converter`. It will take a number as an argument and will assign it to a `rub` variable. It will covert rubles to dollars according to an exchange rate 74.73 rubles per one dollar."
      ]
    },
    {
      "cell_type": "code",
      "metadata": {
        "colab": {
          "base_uri": "https://localhost:8080/"
        },
        "id": "_8cGs1tTN8XS",
        "outputId": "9b3405bc-078b-4a89-ee67-a944e6cddf60"
      },
      "source": [
        "def currency_converter(rub): # defining a function\n",
        "  dollars = rub / 74.73\n",
        "\n",
        "my_rubs = 200\n",
        "print(currency_converter(my_rubs)) # calling a function"
      ],
      "execution_count": null,
      "outputs": [
        {
          "output_type": "stream",
          "text": [
            "None\n"
          ],
          "name": "stdout"
        }
      ]
    },
    {
      "cell_type": "markdown",
      "metadata": {
        "id": "zcwT_8BhRXrX"
      },
      "source": [
        "Hm, the code above produced nothing. Why? Because we did not get our function to return any result. Maybe we have to print `dollars` variable to get it?"
      ]
    },
    {
      "cell_type": "code",
      "metadata": {
        "colab": {
          "base_uri": "https://localhost:8080/",
          "height": 164
        },
        "id": "1yONsgB0RTjH",
        "outputId": "c28d414b-5a94-4a81-ee1f-f794059148a0"
      },
      "source": [
        "print(dollars)"
      ],
      "execution_count": null,
      "outputs": [
        {
          "output_type": "error",
          "ename": "NameError",
          "evalue": "ignored",
          "traceback": [
            "\u001b[0;31m---------------------------------------------------------------------------\u001b[0m",
            "\u001b[0;31mNameError\u001b[0m                                 Traceback (most recent call last)",
            "\u001b[0;32m<ipython-input-3-8ad14883a932>\u001b[0m in \u001b[0;36m<module>\u001b[0;34m()\u001b[0m\n\u001b[0;32m----> 1\u001b[0;31m \u001b[0mprint\u001b[0m\u001b[0;34m(\u001b[0m\u001b[0mdollars\u001b[0m\u001b[0;34m)\u001b[0m\u001b[0;34m\u001b[0m\u001b[0;34m\u001b[0m\u001b[0m\n\u001b[0m",
            "\u001b[0;31mNameError\u001b[0m: name 'dollars' is not defined"
          ]
        }
      ]
    },
    {
      "cell_type": "markdown",
      "metadata": {
        "id": "8nXwH-r0RU7n"
      },
      "source": [
        "An error. The thing is that all the variables that we define within a function are called `local` variables because they don't exist outside of it. So the only way to get something out of function is to `return` it. Let's try adding new line to our function."
      ]
    },
    {
      "cell_type": "code",
      "metadata": {
        "colab": {
          "base_uri": "https://localhost:8080/"
        },
        "id": "duDaq5_ORyrL",
        "outputId": "3c0f3e8d-e4d4-458f-a130-a13abf9e1c3c"
      },
      "source": [
        "def currency_converter(rub):\n",
        "  dollars = rub / 74.73\n",
        "  return round(dollars, 2) # return the variable value rounded to 2 digits after the dot\n",
        "\n",
        "my_rubs = 200\n",
        "print(currency_converter(my_rubs))"
      ],
      "execution_count": null,
      "outputs": [
        {
          "output_type": "stream",
          "text": [
            "2.68\n"
          ],
          "name": "stdout"
        }
      ]
    },
    {
      "cell_type": "markdown",
      "metadata": {
        "id": "BmG9HILySAOk"
      },
      "source": [
        "Amazing! We can even assign the result produced by a function to a variable if we need to.\n",
        "\n",
        "Now let's speak about the parameters. We've specified that our function `currency_converter` takes one argument. What will happen if we try to pass no arguments or two arguments?"
      ]
    },
    {
      "cell_type": "code",
      "metadata": {
        "colab": {
          "base_uri": "https://localhost:8080/",
          "height": 164
        },
        "id": "5mBO1sFyR7Cb",
        "outputId": "22b4775d-b19e-41da-d390-6d6c687b9d06"
      },
      "source": [
        "print(currency_converter()) # error saying that 1 argument is required"
      ],
      "execution_count": null,
      "outputs": [
        {
          "output_type": "error",
          "ename": "TypeError",
          "evalue": "ignored",
          "traceback": [
            "\u001b[0;31m---------------------------------------------------------------------------\u001b[0m",
            "\u001b[0;31mTypeError\u001b[0m                                 Traceback (most recent call last)",
            "\u001b[0;32m<ipython-input-6-bd0dc22fbb0d>\u001b[0m in \u001b[0;36m<module>\u001b[0;34m()\u001b[0m\n\u001b[0;32m----> 1\u001b[0;31m \u001b[0mprint\u001b[0m\u001b[0;34m(\u001b[0m\u001b[0mcurrency_converter\u001b[0m\u001b[0;34m(\u001b[0m\u001b[0;34m)\u001b[0m\u001b[0;34m)\u001b[0m \u001b[0;31m# error saying that 1 argument is required\u001b[0m\u001b[0;34m\u001b[0m\u001b[0;34m\u001b[0m\u001b[0m\n\u001b[0m",
            "\u001b[0;31mTypeError\u001b[0m: currency_converter() missing 1 required positional argument: 'rub'"
          ]
        }
      ]
    },
    {
      "cell_type": "code",
      "metadata": {
        "colab": {
          "base_uri": "https://localhost:8080/",
          "height": 182
        },
        "id": "4KBGQtwtSg8g",
        "outputId": "a32c60d8-19f3-4dc5-9961-8fe6ef18a671"
      },
      "source": [
        "print(currency_converter(200, 10)) # error saying that there are too many arguments"
      ],
      "execution_count": null,
      "outputs": [
        {
          "output_type": "error",
          "ename": "TypeError",
          "evalue": "ignored",
          "traceback": [
            "\u001b[0;31m---------------------------------------------------------------------------\u001b[0m",
            "\u001b[0;31mTypeError\u001b[0m                                 Traceback (most recent call last)",
            "\u001b[0;32m<ipython-input-7-a858b65657c3>\u001b[0m in \u001b[0;36m<module>\u001b[0;34m()\u001b[0m\n\u001b[0;32m----> 1\u001b[0;31m \u001b[0mprint\u001b[0m\u001b[0;34m(\u001b[0m\u001b[0mcurrency_converter\u001b[0m\u001b[0;34m(\u001b[0m\u001b[0;36m200\u001b[0m\u001b[0;34m,\u001b[0m \u001b[0;36m10\u001b[0m\u001b[0;34m)\u001b[0m\u001b[0;34m)\u001b[0m \u001b[0;31m# error saying that one argument is one too many\u001b[0m\u001b[0;34m\u001b[0m\u001b[0;34m\u001b[0m\u001b[0m\n\u001b[0m",
            "\u001b[0;31mTypeError\u001b[0m: currency_converter() takes 1 positional argument but 2 were given"
          ]
        }
      ]
    },
    {
      "cell_type": "markdown",
      "metadata": {
        "id": "Oeh8Xz0VS0No"
      },
      "source": [
        "So basically when designing a function you specify the number of arguments it will take. You can specify more than one! You can even specify an indefinite amount of arguments. You can read about it [here](https://www.geeksforgeeks.org/args-kwargs-python/#:~:text=The%20special%20syntax%20*args%20in,used%20with%20the%20word%20args.). But once specified you cannot pass different amount of arguments to your function. Too less or too many would lead to an error.\n",
        "\n",
        "But how does Python know that our argument should be a number? It actually does not. You can try to pass a string to `currency_converter` and Python will throw an error that it cannot divide a string by a float when it comes to a calculation."
      ]
    },
    {
      "cell_type": "code",
      "metadata": {
        "colab": {
          "base_uri": "https://localhost:8080/",
          "height": 302
        },
        "id": "GiIDQfFnSySp",
        "outputId": "5ecbbb62-950a-481b-b812-ec7da4416a4a"
      },
      "source": [
        "print(currency_converter('100'))"
      ],
      "execution_count": null,
      "outputs": [
        {
          "output_type": "error",
          "ename": "TypeError",
          "evalue": "ignored",
          "traceback": [
            "\u001b[0;31m---------------------------------------------------------------------------\u001b[0m",
            "\u001b[0;31mTypeError\u001b[0m                                 Traceback (most recent call last)",
            "\u001b[0;32m<ipython-input-8-2b1b6821595a>\u001b[0m in \u001b[0;36m<module>\u001b[0;34m()\u001b[0m\n\u001b[0;32m----> 1\u001b[0;31m \u001b[0mprint\u001b[0m\u001b[0;34m(\u001b[0m\u001b[0mcurrency_converter\u001b[0m\u001b[0;34m(\u001b[0m\u001b[0;34m'100'\u001b[0m\u001b[0;34m)\u001b[0m\u001b[0;34m)\u001b[0m\u001b[0;34m\u001b[0m\u001b[0;34m\u001b[0m\u001b[0m\n\u001b[0m",
            "\u001b[0;32m<ipython-input-5-3baa9bcf6f9c>\u001b[0m in \u001b[0;36mcurrency_converter\u001b[0;34m(rub)\u001b[0m\n\u001b[1;32m      1\u001b[0m \u001b[0;32mdef\u001b[0m \u001b[0mcurrency_converter\u001b[0m\u001b[0;34m(\u001b[0m\u001b[0mrub\u001b[0m\u001b[0;34m)\u001b[0m\u001b[0;34m:\u001b[0m\u001b[0;34m\u001b[0m\u001b[0;34m\u001b[0m\u001b[0m\n\u001b[0;32m----> 2\u001b[0;31m   \u001b[0mdollars\u001b[0m \u001b[0;34m=\u001b[0m \u001b[0mrub\u001b[0m \u001b[0;34m/\u001b[0m \u001b[0;36m74.73\u001b[0m\u001b[0;34m\u001b[0m\u001b[0;34m\u001b[0m\u001b[0m\n\u001b[0m\u001b[1;32m      3\u001b[0m   \u001b[0;32mreturn\u001b[0m \u001b[0mround\u001b[0m\u001b[0;34m(\u001b[0m\u001b[0mdollars\u001b[0m\u001b[0;34m,\u001b[0m \u001b[0;36m2\u001b[0m\u001b[0;34m)\u001b[0m \u001b[0;31m# return the variable value rounded to 2 numbers after the dot\u001b[0m\u001b[0;34m\u001b[0m\u001b[0;34m\u001b[0m\u001b[0m\n\u001b[1;32m      4\u001b[0m \u001b[0;34m\u001b[0m\u001b[0m\n\u001b[1;32m      5\u001b[0m \u001b[0mmy_rubs\u001b[0m \u001b[0;34m=\u001b[0m \u001b[0;36m200\u001b[0m\u001b[0;34m\u001b[0m\u001b[0;34m\u001b[0m\u001b[0m\n",
            "\u001b[0;31mTypeError\u001b[0m: unsupported operand type(s) for /: 'str' and 'float'"
          ]
        }
      ]
    },
    {
      "cell_type": "markdown",
      "metadata": {
        "id": "CdrjxfgPTrp3"
      },
      "source": [
        "However, in some cases you may end up with functions that will be able to perfrorm the needed instructions to the 'wrong' datatype. So watch for this. Basically, the data type of function arguments is restricted only by the instructions that you specify inside the function.\n",
        "\n",
        "Assume that you wrote a function that you were planning to use to add two numbers together. However, it will work with two strings and even with two lists since `+` operator can be used for those data types as well."
      ]
    },
    {
      "cell_type": "code",
      "metadata": {
        "colab": {
          "base_uri": "https://localhost:8080/"
        },
        "id": "1OaQ5VWgTqnt",
        "outputId": "54bf1520-3acc-4257-e3c6-2ff43913e8ad"
      },
      "source": [
        "def sum_a_b(a, b):\n",
        "  return a + b\n",
        "\n",
        "print(sum_a_b(10, 4)) # sums two integers\n",
        "print(sum_a_b('10', '4')) # concatenates two strings\n",
        "print(sum_a_b([2, 4], ['cat', 'dog'])) # concatenates two lists"
      ],
      "execution_count": null,
      "outputs": [
        {
          "output_type": "stream",
          "text": [
            "14\n",
            "104\n",
            "[2, 4, 'cat', 'dog']\n"
          ],
          "name": "stdout"
        }
      ]
    },
    {
      "cell_type": "markdown",
      "metadata": {
        "id": "WOqFfeRkURje"
      },
      "source": [
        "By the way, we've just specified the function that takes two arguments! `sum_a_b` will throw an error if you will try to pass any number of argument that is not two.\n",
        "\n",
        "We can also specify a **default value** for an argument. In that case that default value would be used if that argument is not passed when calling the function.\n",
        "\n",
        "In the example `currency_converter_2` takes two arguments — amount of rubles and the exchange rate. If the rate is not passed, then default rate (74.73) would be used."
      ]
    },
    {
      "cell_type": "code",
      "metadata": {
        "colab": {
          "base_uri": "https://localhost:8080/"
        },
        "id": "9h9NyN4qUDRJ",
        "outputId": "4924ced4-c1c2-4ab9-ceb4-360d3fcd7ff4"
      },
      "source": [
        "def currency_converter_2(rub, rate=74.73): # specifying a default value\n",
        "  return round(rub / rate, 2)\n",
        "\n",
        "print(currency_converter_2(100, 70))\n",
        "print(currency_converter_2(100, 30))\n",
        "print(currency_converter_2(200)) # converting with a default rate"
      ],
      "execution_count": null,
      "outputs": [
        {
          "output_type": "stream",
          "text": [
            "1.43\n",
            "3.33\n",
            "2.68\n"
          ],
          "name": "stdout"
        }
      ]
    },
    {
      "cell_type": "markdown",
      "metadata": {
        "id": "pFF0RQp6XgT_"
      },
      "source": [
        "There can be also the functions with no arguments and with no `return` keyword. Such functions are more exotic and are usually used to debug the code or check the progress when running the programs."
      ]
    },
    {
      "cell_type": "code",
      "metadata": {
        "colab": {
          "base_uri": "https://localhost:8080/"
        },
        "id": "mbGwxkr1Xuac",
        "outputId": "cde29b1b-6db2-4216-b173-ce3136394987"
      },
      "source": [
        "def info():\n",
        "  print(f'The file was downloaded {cnt} times today')\n",
        "\n",
        "cnt = 17 # some global variable that would be accessed within a function\n",
        "info() # not using print() because function returns nothing and prints info by itself"
      ],
      "execution_count": null,
      "outputs": [
        {
          "output_type": "stream",
          "text": [
            "The file was downloaded 17 times today\n"
          ],
          "name": "stdout"
        }
      ]
    },
    {
      "cell_type": "markdown",
      "metadata": {
        "id": "p1s66RRbVISH"
      },
      "source": [
        "When to define your own function? Sometimes it is just neat to pack lengthy instructions that are expected to be called several times throughout a project into the short name. In other cases we need to define a function to pass it to other functions.\n",
        "\n",
        "E.g. let's write our own function to use with `map()`. Imagine that we have a list of ages of the respondents to the questionnaire. But some of them by mistake wrote the year of birth. Let's write a function that will check whether the age or YoB was inputted, and then convert the latter in the age by deducting it from the current year."
      ]
    },
    {
      "cell_type": "code",
      "metadata": {
        "colab": {
          "base_uri": "https://localhost:8080/"
        },
        "id": "VwFF5qxdVCJk",
        "outputId": "cbc86399-287a-420b-933e-fe4b8c40d440"
      },
      "source": [
        "def get_age(number):\n",
        "  if number > 1000: # checking that number is indeed YoB and not age\n",
        "    return 2021 - number # if yes then calculate the age\n",
        "  return number # if no then return number (age) unchanged\n",
        "\n",
        "answers = [26, 2005, 31, 15, 2003]\n",
        "print(list(map(get_age, answers)))"
      ],
      "execution_count": null,
      "outputs": [
        {
          "output_type": "stream",
          "text": [
            "[26, 16, 31, 15, 18]\n"
          ],
          "name": "stdout"
        }
      ]
    },
    {
      "cell_type": "markdown",
      "metadata": {
        "id": "91UuKdIVWC-M"
      },
      "source": [
        "In the example above we didn't use `else`. We actually could but it would be redundant. When a function hits `return`, it exits, no other code within that function would be executed. That is why we can bypass `else` in this case.\n",
        "\n",
        "We can also call a function within a function. Let's make our example a bit more complicated. Let's say that we are not interested in the age per se, but rather to see whether the respondent is a minor or not. Let's define the second function that would call `get_age()` within itself."
      ]
    },
    {
      "cell_type": "code",
      "metadata": {
        "colab": {
          "base_uri": "https://localhost:8080/"
        },
        "id": "PXwwOHfXWCay",
        "outputId": "00617df6-91c6-4680-b103-c51c71b6659e"
      },
      "source": [
        "def get_age(number): # defining the first function\n",
        "  if number > 1000:\n",
        "    return 2021 - number\n",
        "  return number\n",
        "\n",
        "def is_minor(age): # defining the second function that does the `minor check`\n",
        "  if get_age(age) >= 18: # before the comparison function get_age is called\n",
        "    return 'Not minor'\n",
        "  return 'Minor'\n",
        "\n",
        "answers = [26, 2005, 31, 15, 2003]\n",
        "print(list(map(is_minor, answers)))"
      ],
      "execution_count": null,
      "outputs": [
        {
          "output_type": "stream",
          "text": [
            "['Not minor', 'Minor', 'Not minor', 'Minor', 'Not minor']\n"
          ],
          "name": "stdout"
        }
      ]
    },
    {
      "cell_type": "markdown",
      "metadata": {
        "id": "M6KCr3mNYMiS"
      },
      "source": [
        "## Modules\n",
        "\n",
        "In the future we will use not only standard Python functions and our very own functions, but we will also import different `modules` — collections of the functions and variables to solve particular problems.\n",
        "\n",
        "To import a module we use `import` keyword and then specify a module name to import. Sometimes we will have to download the module first, but not now.\n",
        "\n",
        "Then to call a function or a variable from a module we will have to type a module's name, then put a dot and then call a function. All the functions and variables available in the module we can find in documentation. Below are few examples."
      ]
    },
    {
      "cell_type": "markdown",
      "metadata": {
        "id": "tHhA8AB9ZCgl"
      },
      "source": [
        "### Module math\n",
        "\n",
        "Collection of the most basic math functions and variables. Documentation is [here](https://docs.python.org/3/library/math.html)."
      ]
    },
    {
      "cell_type": "code",
      "metadata": {
        "colab": {
          "base_uri": "https://localhost:8080/"
        },
        "id": "lq45jutYW5AH",
        "outputId": "a302d7dd-9882-4488-d183-0419344420a5"
      },
      "source": [
        "import math # importing math\n",
        "\n",
        "print(math.log(10)) # calling logarithm function from math\n",
        "print(math.sqrt(10)) # calling square root function\n",
        "print(math.pi) # calling pi variable"
      ],
      "execution_count": null,
      "outputs": [
        {
          "output_type": "stream",
          "text": [
            "2.302585092994046\n",
            "3.1622776601683795\n",
            "3.141592653589793\n"
          ],
          "name": "stdout"
        }
      ]
    },
    {
      "cell_type": "markdown",
      "metadata": {
        "id": "NaLfSq9IZbWX"
      },
      "source": [
        "### Module calendar\n",
        "\n",
        "Collection of the basic calendar and dates related functions and variables. More [here](https://docs.python.org/3/library/calendar.html?highlight=calendar#module-calendar)."
      ]
    },
    {
      "cell_type": "code",
      "metadata": {
        "colab": {
          "base_uri": "https://localhost:8080/"
        },
        "id": "DkhUu8mmYRjQ",
        "outputId": "7f73946d-0a65-4f88-ae10-efbd63ab0341"
      },
      "source": [
        "import calendar\n",
        "print(calendar.weekday(2021,5,2)) # calling a function that\n",
        "                                  # returns index of day of a week for a given date"
      ],
      "execution_count": null,
      "outputs": [
        {
          "output_type": "stream",
          "text": [
            "6\n"
          ],
          "name": "stdout"
        }
      ]
    },
    {
      "cell_type": "markdown",
      "metadata": {
        "id": "KV26cYgNZvnl"
      },
      "source": [
        "### Module string\n",
        "\n",
        "Formatting string operations and useful string variables. More [here](https://docs.python.org/3/library/string.html?highlight=string#module-string).\n",
        "\n",
        "Let's do a small example and clean the text from the punctuation symbols using the imported variable that contains all of them."
      ]
    },
    {
      "cell_type": "code",
      "metadata": {
        "colab": {
          "base_uri": "https://localhost:8080/"
        },
        "id": "WCZiA6QBYTDB",
        "outputId": "aa969368-4e63-4cf9-cc2f-c973e4f6b504"
      },
      "source": [
        "import string\n",
        "print(string.punctuation) # punctiation variable consists all basic punctuation symbols\n",
        "text = \"hi, it's me!\" # our text to clean\n",
        "clean_text = '' # initiating an empty string to store a clean text\n",
        "for symbol in text:\n",
        "  if symbol not in string.punctuation: # if the symbol is not a punctuation then add it to the clean_text\n",
        "    clean_text += symbol\n",
        "\n",
        "print(clean_text) # print the text without punctuation"
      ],
      "execution_count": null,
      "outputs": [
        {
          "output_type": "stream",
          "text": [
            "!\"#$%&'()*+,-./:;<=>?@[\\]^_`{|}~\n",
            "hi its me\n"
          ],
          "name": "stdout"
        }
      ]
    }
  ]
}