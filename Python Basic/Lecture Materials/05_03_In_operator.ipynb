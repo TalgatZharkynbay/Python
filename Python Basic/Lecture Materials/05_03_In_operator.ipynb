{
  "nbformat": 4,
  "nbformat_minor": 0,
  "metadata": {
    "kernelspec": {
      "display_name": "Python 3",
      "language": "python",
      "name": "python3"
    },
    "language_info": {
      "codemirror_mode": {
        "name": "ipython",
        "version": 3
      },
      "file_extension": ".py",
      "mimetype": "text/x-python",
      "name": "python",
      "nbconvert_exporter": "python",
      "pygments_lexer": "ipython3",
      "version": "3.7.6"
    },
    "colab": {
      "provenance": []
    }
  },
  "cells": [
    {
      "cell_type": "markdown",
      "metadata": {
        "id": "QUwDhJEpHZGs"
      },
      "source": [
        "## `In` operator"
      ]
    },
    {
      "cell_type": "markdown",
      "metadata": {
        "id": "7bGpxvmLHZHB"
      },
      "source": [
        "In Python we can check if something belongs to a sequence via special `in` operator. Later we will see that `in` works not only with sequences."
      ]
    },
    {
      "cell_type": "code",
      "metadata": {
        "id": "D7Kqn3BODBj0",
        "colab": {
          "base_uri": "https://localhost:8080/"
        },
        "outputId": "eb8fdb53-d2ab-439a-b680-b33d1ad21297"
      },
      "source": [
        "backpack = ['wallet', 'headphones', 'ID', 'laptop', 'book']\n",
        "print('headphones' in backpack) # checking if string `headphones` belongs to a list `backpack`"
      ],
      "execution_count": null,
      "outputs": [
        {
          "output_type": "stream",
          "text": [
            "True\n"
          ],
          "name": "stdout"
        }
      ]
    },
    {
      "cell_type": "markdown",
      "metadata": {
        "id": "VGNdTlsdFnZO"
      },
      "source": [
        "`In` operator returns a boolean value depending on whether our condition is True or not. Here we are checking a condition that *something belongs to a list*.\n",
        "\n",
        "Also we can use `in` with a logical `not` to check a condition that *something does not belong to a list*."
      ]
    },
    {
      "cell_type": "code",
      "metadata": {
        "id": "z8UVHRrTGAM-",
        "colab": {
          "base_uri": "https://localhost:8080/"
        },
        "outputId": "60597cf8-8446-4b02-d97e-58befbdc8806"
      },
      "source": [
        "backpack = ['wallet', 'headphones', 'ID', 'laptop', 'book']\n",
        "print('headphones' not in backpack)   # gives us False, 'headpones' belongs to `backpack`\n",
        "print('trasportation card' not in backpack)  # gives us False, 'transportation card' is not in `backpack`"
      ],
      "execution_count": null,
      "outputs": [
        {
          "output_type": "stream",
          "text": [
            "False\n",
            "True\n"
          ],
          "name": "stdout"
        }
      ]
    },
    {
      "cell_type": "markdown",
      "metadata": {
        "id": "l9bvH5OHHZHF"
      },
      "source": [
        "Since `in` opeator gives us a logical variable, we can use it within an `if-statement`.\n",
        "\n",
        "A statement `if ... in` could be written like this:\n",
        "\n",
        "    if <item to check> in <list, tuple or string>:\n",
        "        <instructions if an item belongs to a sequence>"
      ]
    },
    {
      "cell_type": "markdown",
      "metadata": {
        "id": "tWFZmNUhTA8K"
      },
      "source": [
        "Let's check an example. On our way to the university let's listen to music if we've packed headphones or read the book if we have not."
      ]
    },
    {
      "cell_type": "code",
      "metadata": {
        "id": "I0NN14dbTFfn",
        "colab": {
          "base_uri": "https://localhost:8080/"
        },
        "outputId": "f07a2bac-55fd-43a2-97cb-eb86cbd849e4"
      },
      "source": [
        "backpack = ['wallet', 'headphones', 'ID', 'laptop', 'book']\n",
        "\n",
        "if 'headphones' in backpack:\n",
        "    print('Listen to music')\n",
        "else:\n",
        "    print('Read a book')"
      ],
      "execution_count": null,
      "outputs": [
        {
          "output_type": "stream",
          "text": [
            "Listen to music\n"
          ],
          "name": "stdout"
        }
      ]
    },
    {
      "cell_type": "markdown",
      "metadata": {
        "id": "Fyc96S35HZHF"
      },
      "source": [
        "A statement `if ... not in` works vice versa:\n",
        "\n",
        "    if <item to check> not in <list, tuple or string>:\n",
        "        <instructions if an item does not belong to a sequence>\n",
        "\n",
        "Remember our example with breakfast when we've been talking about `if statements`. Let's change it to use with lists. Now we will not ask for a number of eggs, but will check if there are eggs in our list."
      ]
    },
    {
      "cell_type": "code",
      "metadata": {
        "colab": {
          "base_uri": "https://localhost:8080/"
        },
        "id": "DFrl0L5d0qAa",
        "outputId": "e1035049-5544-4b6b-fdca-66f9b8e925cb"
      },
      "source": [
        "fridge = input('What do we have in the fridge?').split()\n",
        "print(fridge) # printing the things that we have\n",
        "\n",
        "if \"eggs\" not in fridge:\n",
        "  print('Going to the cafe')\n",
        "else:\n",
        "  print('Cooking at home')"
      ],
      "execution_count": null,
      "outputs": [
        {
          "output_type": "stream",
          "text": [
            "What do we have in the fridge?eggs milk bread\n",
            "['eggs', 'milk', 'bread']\n",
            "Cooking at home\n"
          ],
          "name": "stdout"
        }
      ]
    },
    {
      "cell_type": "markdown",
      "metadata": {
        "id": "H8ZXDf25HZHL"
      },
      "source": [
        "The same statements would work with tuples and strings. Let's check that an inputted word contains a particular letter."
      ]
    },
    {
      "cell_type": "code",
      "metadata": {
        "id": "n_IDcGoYHZHM",
        "colab": {
          "base_uri": "https://localhost:8080/"
        },
        "outputId": "6c79fe3a-d246-40fb-e264-79e73de01d7d"
      },
      "source": [
        "word = input('Input an word: ')\n",
        "letter = input('Input a letter: ')\n",
        "if letter not in word: # if a letter does not belong to a word\n",
        "    print(f'\"{word}\" does not contain \"{letter}\" letter')\n",
        "else:\n",
        "    print(f'\"{word}\" contains \"{letter}\" letter')"
      ],
      "execution_count": null,
      "outputs": [
        {
          "output_type": "stream",
          "text": [
            "Input an word: dog\n",
            "Input a letter: a\n",
            "\"dog\" does not contain \"a\" letter\n"
          ],
          "name": "stdout"
        }
      ]
    },
    {
      "cell_type": "markdown",
      "metadata": {
        "id": "kDq4UjcSTeZd"
      },
      "source": [
        "Let's check that it works for tuples as well. Our program will check if the item is in the shopping list or not."
      ]
    },
    {
      "cell_type": "code",
      "metadata": {
        "id": "WV0_26XWHZHC",
        "colab": {
          "base_uri": "https://localhost:8080/"
        },
        "outputId": "ae1eb55d-4a11-43eb-ed93-143c2d16e6ba"
      },
      "source": [
        "shopping_tuple = ('bread', 'milk', 'pelmeni')\n",
        "thing = input('What to check? ')\n",
        "\n",
        "if thing in shopping_tuple: # if list contains this element\n",
        "    print('Didn\\'t forget!')\n",
        "else:\n",
        "    print('Forgot :(')"
      ],
      "execution_count": null,
      "outputs": [
        {
          "output_type": "stream",
          "text": [
            "What to check? bread\n",
            "Didn't forget!\n"
          ],
          "name": "stdout"
        }
      ]
    },
    {
      "cell_type": "markdown",
      "metadata": {
        "id": "dR4S0uz5Twpk"
      },
      "source": [
        "Let's make it more complex. Now we will check several items until the user inputs an 'end' string.\n"
      ]
    },
    {
      "cell_type": "code",
      "metadata": {
        "id": "fkXbWnNwHZHH",
        "colab": {
          "base_uri": "https://localhost:8080/"
        },
        "outputId": "90c4c048-cdd9-4ab8-e42e-e40d1af241b1"
      },
      "source": [
        "shopping_tuple = ('bread', 'milk', 'pelmeni')\n",
        "thing = input('What to check? ')\n",
        "while thing != 'end':  # our criteria to exit the loop\n",
        "    if thing in shopping_tuple:\n",
        "        print('Didn\\'t forget!')\n",
        "    else:\n",
        "        print('Forgot :(')\n",
        "    thing = input('What to check? ')"
      ],
      "execution_count": null,
      "outputs": [
        {
          "output_type": "stream",
          "text": [
            "What to check? bread\n",
            "Didn't forget!\n",
            "What to check? end\n"
          ],
          "name": "stdout"
        }
      ]
    }
  ]
}