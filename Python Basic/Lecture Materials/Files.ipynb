{
  "nbformat": 4,
  "nbformat_minor": 0,
  "metadata": {
    "colab": {
      "provenance": []
    },
    "kernelspec": {
      "name": "python3",
      "display_name": "Python 3"
    },
    "language_info": {
      "name": "python"
    }
  },
  "cells": [
    {
      "cell_type": "markdown",
      "source": [
        "# Working with Files in Python"
      ],
      "metadata": {
        "id": "w4Kc0iYu2CYz"
      }
    },
    {
      "cell_type": "markdown",
      "source": [
        "Reading and writing data to files using Python is pretty straightforward. To do this, you must first open files in the appropriate mode.\n",
        "\n",
        "`open()` takes a filename (e.g. some `.txt` file) and a mode as its arguments. `r` opens the file in read only mode. To write data to a file, pass in `w` as an argument instead, to append new text use `a`. In the following syntax, when you're finished with working with the file, you need to close it, applying the corresponding method."
      ],
      "metadata": {
        "id": "Hz2n8K2E2GXP"
      }
    },
    {
      "cell_type": "code",
      "metadata": {
        "id": "yNCbFR8Q-sCA"
      },
      "source": [
        "fh = open('test_file.txt', mode='w') # w - write, .csv = comma separated values\n",
        "fh.write('Hi!')\n",
        "fh.close()"
      ],
      "execution_count": null,
      "outputs": []
    },
    {
      "cell_type": "code",
      "metadata": {
        "id": "QAwu8gUKEl6w"
      },
      "source": [
        "fh = open('test_file.txt', mode='a') # a - append\n",
        "fh.write('How are you?')\n",
        "fh.close()"
      ],
      "execution_count": null,
      "outputs": []
    },
    {
      "cell_type": "markdown",
      "source": [
        "Let's try to write several lines into our file using `\\n`"
      ],
      "metadata": {
        "id": "6yCjKvtK3VA9"
      }
    },
    {
      "cell_type": "code",
      "metadata": {
        "id": "NvC-b1V2Fr_x"
      },
      "source": [
        "# file handle, infile\n",
        "fh = open('new_test_file.txt', mode='w')\n",
        "fh.write('Hi!\\n')\n",
        "fh.write('How are you?\\n')\n",
        "fh.write('Fine! Thank you!')\n",
        "fh.close()"
      ],
      "execution_count": null,
      "outputs": []
    },
    {
      "cell_type": "markdown",
      "source": [
        "If you have already some data stored in a list, for example, you may write information into the file using for loop."
      ],
      "metadata": {
        "id": "ccqvu71s32Mu"
      }
    },
    {
      "cell_type": "code",
      "metadata": {
        "id": "R1OyhtwZGVx2"
      },
      "source": [
        "students = ['Anna', 'Maria', 'Alexandra']\n",
        "fh = open('students.txt', mode='w')\n",
        "for name in students:\n",
        "  fh.write(name + '\\n')\n",
        "fh.close()"
      ],
      "execution_count": null,
      "outputs": []
    },
    {
      "cell_type": "markdown",
      "source": [
        "Usually, it's better to define the encoding which you use for writing/reading the file in order not to get encoding problems. `UTF-8` is one of the most commonly used encodings, and Python often defaults to using it. UTF stands for “Unicode Transformation Format”, and the '8' means that 8-bit values are used in the encoding. (There are also `UTF-16` and `UTF-32` encodings, but they are less frequently used than `UTF-8`.)"
      ],
      "metadata": {
        "id": "yJUEzvzv4RBI"
      }
    },
    {
      "cell_type": "code",
      "metadata": {
        "id": "u_f2Xbj9HLco"
      },
      "source": [
        "fh = open('students.txt', mode='r', encoding='utf8') # r - reading\n",
        "x = fh.read()\n",
        "fh.close()"
      ],
      "execution_count": null,
      "outputs": []
    },
    {
      "cell_type": "code",
      "metadata": {
        "colab": {
          "base_uri": "https://localhost:8080/"
        },
        "id": "IvtzZVqiIItA",
        "outputId": "b107c5c1-ce86-4263-8b43-ae1a9b9ff968"
      },
      "source": [
        "fh = open('students.txt', mode='r', encoding='utf8')\n",
        "for item in fh:\n",
        "  print(item, end='')\n",
        "  print('*'*10)\n",
        "fh.close()"
      ],
      "execution_count": null,
      "outputs": [
        {
          "output_type": "stream",
          "name": "stdout",
          "text": [
            "Anna\n",
            "**********\n",
            "Maria\n",
            "**********\n",
            "Alexandra\n",
            "**********\n"
          ]
        }
      ]
    },
    {
      "cell_type": "markdown",
      "source": [
        "Here’s an example of how to use Python’s “with open(…) as …” pattern to open a text file and read its contents. It's more convenient to use this snippet of code as you don't need to close the file. “with open(…) as …” context manager will do it automatically."
      ],
      "metadata": {
        "id": "yrMUAPcI2v_o"
      }
    },
    {
      "cell_type": "code",
      "metadata": {
        "colab": {
          "base_uri": "https://localhost:8080/"
        },
        "id": "_4OM89fkJQeg",
        "outputId": "6547ce32-d2d0-4db4-9a73-7e208837a9c2"
      },
      "source": [
        "with open('students.txt') as fh:\n",
        "  print(fh.read())"
      ],
      "execution_count": null,
      "outputs": [
        {
          "output_type": "stream",
          "name": "stdout",
          "text": [
            "Anna\n",
            "Maria\n",
            "Alexandra\n",
            "\n"
          ]
        }
      ]
    },
    {
      "cell_type": "code",
      "metadata": {
        "colab": {
          "base_uri": "https://localhost:8080/"
        },
        "id": "2bKFfJBuKBvT",
        "outputId": "6fa64efa-330a-4f85-f7d4-b353cf268079"
      },
      "source": [
        "with open('students.txt') as fh:\n",
        "  st = fh.readlines()\n",
        "\n",
        "for item in st:\n",
        "  print('Name:', item.strip())"
      ],
      "execution_count": null,
      "outputs": [
        {
          "output_type": "stream",
          "name": "stdout",
          "text": [
            "Name: Anna\n",
            "Name: Maria\n",
            "Name: Alexandra\n"
          ]
        }
      ]
    },
    {
      "cell_type": "markdown",
      "source": [
        "Read file `eng_students.csv` and print each line."
      ],
      "metadata": {
        "id": "0pj2HKrzOpUH"
      }
    },
    {
      "cell_type": "code",
      "source": [
        "with open('eng_students.csv') as fh:\n",
        "    for line in fh:\n",
        "        print(line)"
      ],
      "metadata": {
        "colab": {
          "base_uri": "https://localhost:8080/"
        },
        "id": "X00t1l2MOKbT",
        "outputId": "f5ede468-6a67-4228-e989-a1fddb427e7e"
      },
      "execution_count": null,
      "outputs": [
        {
          "output_type": "stream",
          "name": "stdout",
          "text": [
            "Name Surname;EMAIL;Test;Total\n",
            "\n",
            "Ivan Ivanov;ivanov@hse.ru;5;6\n",
            "\n",
            "Petr Petrov;petrov@hse.ru;8;10\n",
            "\n",
            "Maria Kuznetsova;kuznetsova@hse.ru;7;8\n",
            "\n",
            "Tatiana Smirnova;smirnova@hse.ru;3;9\n",
            "\n",
            "Kamil Akmetov;akhmetov@hse.ru;8;6\n",
            "\n",
            "Sofia Sonina;sonina@hse.ru;10;10\n",
            "\n",
            "Andrey Andreev;andreev@hse.ru;2;4\n",
            "\n",
            "Aina Khismatullina;khismatullina@hse.ru;3;3\n",
            "\n",
            "Semen Semenov;semenov@hse.ru;5;8\n",
            "\n",
            "Makar Makarov;makarov@hse.ru;9;6\n",
            "\n",
            "Vasilisa Vasilieva;vasilieva@hse.ru;5;7\n",
            "\n",
            "Korney Korneev;korneev@hse.ru;4;1\n",
            "\n",
            "Timofey Timofeev;timofeev@hse.ru;8;9\n",
            "\n",
            "Ekaterina Katina;katina@hse.ru;5;4\n",
            "\n",
            "Elena Lenina;lenina@hse.ru;6;6\n"
          ]
        }
      ]
    },
    {
      "cell_type": "markdown",
      "source": [
        "Read file `eng_students.csv` and display the message `<NAME> did not pass the course` for all students who did not pass the course."
      ],
      "metadata": {
        "id": "UwY5LpH5O8cj"
      }
    },
    {
      "cell_type": "code",
      "source": [
        "with open('eng_students.csv') as fh:\n",
        "    for line in fh:\n",
        "        if 'Total' not in line:\n",
        "            grade = int(line.split(';')[-1])\n",
        "            name = line.split(';')[0]\n",
        "            if grade < 4:\n",
        "                print(f'{name} did not pass the course')"
      ],
      "metadata": {
        "colab": {
          "base_uri": "https://localhost:8080/"
        },
        "id": "tJjc4kzDPIEx",
        "outputId": "feebdfe3-c0a6-4c01-a0eb-fd17d316bee7"
      },
      "execution_count": null,
      "outputs": [
        {
          "output_type": "stream",
          "name": "stdout",
          "text": [
            "Aina Khismatullina did not pass the course\n",
            "Korney Korneev did not pass the course\n"
          ]
        }
      ]
    },
    {
      "cell_type": "markdown",
      "source": [
        "Read file `eng_students.csv` and write lines for students who did not pass the test into `students_not_passed.csv`"
      ],
      "metadata": {
        "id": "kAkFUnbTOwQD"
      }
    },
    {
      "cell_type": "code",
      "metadata": {
        "id": "LoYsv2DlKYGQ"
      },
      "source": [
        "with open('eng_students.csv') as fh:\n",
        "  with open('students_not_passed.csv', 'w') as fh2:\n",
        "    for line in fh:\n",
        "        if 'Total' not in line:\n",
        "            grade = int(line.split(';')[-2])\n",
        "            if grade < 4:\n",
        "                fh2.write(line)"
      ],
      "execution_count": null,
      "outputs": []
    },
    {
      "cell_type": "markdown",
      "source": [
        "Read file `eng_students.csv` and create a dictionary `grades` where keys would be final grades and values — lists of students who got those final grades."
      ],
      "metadata": {
        "id": "8yMXiH0iPZP-"
      }
    },
    {
      "cell_type": "code",
      "source": [
        "grades = {}\n",
        "\n",
        "with open('eng_students.csv') as fh:\n",
        "    for line in fh:\n",
        "        if 'Total' not in line:\n",
        "            grade = int(line.split(';')[-1])\n",
        "            name = line.split(';')[0]\n",
        "            if grade not in grades:\n",
        "                grades[grade] = [name]\n",
        "            else:\n",
        "                grades[grade].append(name)\n",
        "\n",
        "print(grades)"
      ],
      "metadata": {
        "colab": {
          "base_uri": "https://localhost:8080/"
        },
        "id": "q8-ygKaZOSv0",
        "outputId": "4b753f31-1edb-4fb2-e7cb-1192af0ca459"
      },
      "execution_count": null,
      "outputs": [
        {
          "output_type": "stream",
          "name": "stdout",
          "text": [
            "{6: ['Ivan Ivanov', 'Kamil Akmetov', 'Makar Makarov', 'Elena Lenina'], 10: ['Petr Petrov', 'Sofia Sonina'], 8: ['Maria Kuznetsova', 'Semen Semenov'], 9: ['Tatiana Smirnova', 'Timofey Timofeev'], 4: ['Andrey Andreev', 'Ekaterina Katina'], 3: ['Aina Khismatullina'], 7: ['Vasilisa Vasilieva'], 1: ['Korney Korneev']}\n"
          ]
        }
      ]
    },
    {
      "cell_type": "markdown",
      "source": [
        "Read file `eng_students.csv` and create a dictionary `grades` where keys would be final grades and values — lists of students who got those final grades.\n",
        "\n",
        "Then write the info in a new file `grades.txt` in the following format\n",
        "```\n",
        "<GRADE 1>\n",
        "<STUDENT 1>\n",
        "<STUDENT 2>\n",
        "```\n",
        "etc.\n",
        "\n",
        "Grades should be sorted by the smallest to the greatest. Students for each grade should be sorted alphabetically."
      ],
      "metadata": {
        "id": "jM6f52FAPjPy"
      }
    },
    {
      "cell_type": "code",
      "source": [
        "grades = {}\n",
        "\n",
        "with open('eng_students.csv') as fh:\n",
        "    for line in fh:\n",
        "        if 'Total' not in line:\n",
        "            grade = int(line.split(';')[-1])\n",
        "            name = line.split(';')[0]\n",
        "            if grade not in grades:\n",
        "                grades[grade] = [name]\n",
        "            else:\n",
        "                grades[grade].append(name)\n",
        "\n",
        "with open('grades.txt', 'w') as fh:\n",
        "    for grade in sorted(grades):\n",
        "        fh.write(str(grade) + '\\n')\n",
        "        for student in sorted(grades[grade]):\n",
        "            fh.write(student + '\\n')"
      ],
      "metadata": {
        "id": "0EHjkBMMOgko"
      },
      "execution_count": null,
      "outputs": []
    }
  ]
}