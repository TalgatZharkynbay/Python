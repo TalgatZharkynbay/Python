{
  "nbformat": 4,
  "nbformat_minor": 0,
  "metadata": {
    "kernelspec": {
      "display_name": "Python 3",
      "language": "python",
      "name": "python3"
    },
    "language_info": {
      "codemirror_mode": {
        "name": "ipython",
        "version": 3
      },
      "file_extension": ".py",
      "mimetype": "text/x-python",
      "name": "python",
      "nbconvert_exporter": "python",
      "pygments_lexer": "ipython3",
      "version": "3.7.6"
    },
    "colab": {
      "provenance": []
    }
  },
  "cells": [
    {
      "cell_type": "markdown",
      "metadata": {
        "id": "fT6usK-uFpBX"
      },
      "source": [
        "## Tuple"
      ]
    },
    {
      "cell_type": "markdown",
      "metadata": {
        "id": "MuhruOtRFpBY"
      },
      "source": [
        "There is another sequence type that is very similar to lists. The major difference is that we cannot change it after we've created one. Such sequence is called a **tuple**.\n",
        "\n",
        "We can create one using usual brackets instead of square ones."
      ]
    },
    {
      "cell_type": "code",
      "metadata": {
        "id": "DVsCLGDxFpBZ",
        "colab": {
          "base_uri": "https://localhost:8080/"
        },
        "outputId": "b42e0976-3cfa-4de0-b2ac-64fc3906c563"
      },
      "source": [
        "a = (1, 2, 3, 4, 5, 6)\n",
        "print(type(a))"
      ],
      "execution_count": null,
      "outputs": [
        {
          "output_type": "stream",
          "text": [
            "<class 'tuple'>\n"
          ],
          "name": "stdout"
        }
      ]
    },
    {
      "cell_type": "markdown",
      "metadata": {
        "id": "lI3wlfLVYVcZ"
      },
      "source": [
        "## Mutable and immutable data types"
      ]
    },
    {
      "cell_type": "markdown",
      "metadata": {
        "id": "Bz11ZI2vOqd3"
      },
      "source": [
        "It was said that we cannot change a tuple. Let's find out what does it mean.\n",
        "\n",
        "Let's try to change an element withing a list."
      ]
    },
    {
      "cell_type": "code",
      "metadata": {
        "id": "o501k6_xOzyK",
        "colab": {
          "base_uri": "https://localhost:8080/"
        },
        "outputId": "1c03d40e-2f51-4f8d-f4c3-20b486b65ff7"
      },
      "source": [
        "shopping_list = ['bread', 'milk', 'ice cream', 'cheese']\n",
        "shopping_list[2] = 'chocolate'\n",
        "print(shopping_list)"
      ],
      "execution_count": null,
      "outputs": [
        {
          "output_type": "stream",
          "text": [
            "['bread', 'milk', 'chocolate', 'cheese']\n"
          ],
          "name": "stdout"
        }
      ]
    },
    {
      "cell_type": "markdown",
      "metadata": {
        "id": "FGvTS9YMFpBg"
      },
      "source": [
        "Now you see that we can assign a new element by a list index. Thus list is a **mutable data type**.\n",
        "\n",
        "But we cannot do the same with a tuple."
      ]
    },
    {
      "cell_type": "code",
      "metadata": {
        "id": "mIK0NGnlFpBg",
        "colab": {
          "base_uri": "https://localhost:8080/",
          "height": 179
        },
        "outputId": "9ed8e18d-50ad-4c4b-9b4b-de0e05e31230"
      },
      "source": [
        "shopping_tuple = ('bread', 'milk', 'ice cream', 'cheese')\n",
        "shopping_tuple[2] = 'chocolate'"
      ],
      "execution_count": null,
      "outputs": [
        {
          "output_type": "error",
          "ename": "TypeError",
          "evalue": "ignored",
          "traceback": [
            "\u001b[0;31m---------------------------------------------------------------------------\u001b[0m",
            "\u001b[0;31mTypeError\u001b[0m                                 Traceback (most recent call last)",
            "\u001b[0;32m<ipython-input-20-ab0b9faa6d80>\u001b[0m in \u001b[0;36m<module>\u001b[0;34m()\u001b[0m\n\u001b[1;32m      1\u001b[0m \u001b[0mshopping_tuple\u001b[0m \u001b[0;34m=\u001b[0m \u001b[0;34m(\u001b[0m\u001b[0;34m'bread'\u001b[0m\u001b[0;34m,\u001b[0m \u001b[0;34m'milk'\u001b[0m\u001b[0;34m,\u001b[0m \u001b[0;34m'ice cream'\u001b[0m\u001b[0;34m,\u001b[0m \u001b[0;34m'cheese'\u001b[0m\u001b[0;34m)\u001b[0m\u001b[0;34m\u001b[0m\u001b[0;34m\u001b[0m\u001b[0m\n\u001b[0;32m----> 2\u001b[0;31m \u001b[0mshopping_tuple\u001b[0m\u001b[0;34m[\u001b[0m\u001b[0;36m2\u001b[0m\u001b[0;34m]\u001b[0m \u001b[0;34m=\u001b[0m \u001b[0;34m'chocolate'\u001b[0m\u001b[0;34m\u001b[0m\u001b[0;34m\u001b[0m\u001b[0m\n\u001b[0m",
            "\u001b[0;31mTypeError\u001b[0m: 'tuple' object does not support item assignment"
          ]
        }
      ]
    },
    {
      "cell_type": "markdown",
      "metadata": {
        "id": "cr395YmyFpBl"
      },
      "source": [
        "Tuples are **immutable**. Another data type that is also immutable is string."
      ]
    },
    {
      "cell_type": "code",
      "metadata": {
        "id": "FwQcW0oYFpBl",
        "colab": {
          "base_uri": "https://localhost:8080/",
          "height": 179
        },
        "outputId": "ae320cee-d8f8-4ce8-fb7b-88a011e4d619"
      },
      "source": [
        "s = 'bread'\n",
        "s[0] = 'B'"
      ],
      "execution_count": null,
      "outputs": [
        {
          "output_type": "error",
          "ename": "TypeError",
          "evalue": "ignored",
          "traceback": [
            "\u001b[0;31m---------------------------------------------------------------------------\u001b[0m",
            "\u001b[0;31mTypeError\u001b[0m                                 Traceback (most recent call last)",
            "\u001b[0;32m<ipython-input-21-0c4bffa71fc5>\u001b[0m in \u001b[0;36m<module>\u001b[0;34m()\u001b[0m\n\u001b[1;32m      1\u001b[0m \u001b[0ms\u001b[0m \u001b[0;34m=\u001b[0m \u001b[0;34m'bread'\u001b[0m\u001b[0;34m\u001b[0m\u001b[0;34m\u001b[0m\u001b[0m\n\u001b[0;32m----> 2\u001b[0;31m \u001b[0ms\u001b[0m\u001b[0;34m[\u001b[0m\u001b[0;36m0\u001b[0m\u001b[0;34m]\u001b[0m \u001b[0;34m=\u001b[0m \u001b[0;34m'B'\u001b[0m\u001b[0;34m\u001b[0m\u001b[0;34m\u001b[0m\u001b[0m\n\u001b[0m",
            "\u001b[0;31mTypeError\u001b[0m: 'str' object does not support item assignment"
          ]
        }
      ]
    },
    {
      "cell_type": "markdown",
      "metadata": {
        "id": "WTZ6mQc5FpBp"
      },
      "source": [
        "If we really want to change an element inside the tuple we can always convert it to a list, change element, and convert it back. This situation is rather exotic, but let's check how we can do something like this.\n",
        "\n",
        "`list()` function can transform a tuple to a list, and `tuple()` vice versa. It's similar to the convertion of a string `'2'` to an integer via `int()` function.\n",
        "\n",
        "Later we will see that we can use `tuple()` and `list()` to convert some data types into tuples and lists as well."
      ]
    },
    {
      "cell_type": "code",
      "metadata": {
        "id": "n2hShLzjFpBp",
        "colab": {
          "base_uri": "https://localhost:8080/",
          "height": 34
        },
        "outputId": "8af6be6f-3d83-4e81-b46d-a5b2be3de82f"
      },
      "source": [
        "shopping_tuple = ('bread', 'milk', 'ice cream', 'cheese')\n",
        "shopping_list = list(shopping_tuple) # converting tuple to list\n",
        "shopping_list[0] = 'pelmeni'  # replacing list's element\n",
        "\n",
        "shopping_tuple = tuple(shopping_list)   # converting list with a replaced element back to tuple\n",
        "print(shopping_tuple)\n"
      ],
      "execution_count": null,
      "outputs": [
        {
          "output_type": "stream",
          "text": [
            "('батон', 'молоко', 'сметана', 'сыр', 'молоко')\n"
          ],
          "name": "stdout"
        }
      ]
    },
    {
      "cell_type": "markdown",
      "metadata": {
        "id": "P6DydUw9Xg_e"
      },
      "source": [
        "So, today we have learned about **sequences**. We know two sequence-types: **list** and **tuple**. **String** is also a sequence-like data type.\n",
        "\n",
        "Also we've learned that data types can be **mutable** or **immutable**. So far we know the only **mutable** data type, it is list.\n"
      ]
    },
    {
      "cell_type": "markdown",
      "metadata": {
        "id": "-pO824cwPG6-"
      },
      "source": [
        "## Unpacking: printing a sequence\n",
        "\n",
        "If we want to print a list without square brackets or a tuple without round ones we can use `*` operator within the `print()` function."
      ]
    },
    {
      "cell_type": "code",
      "metadata": {
        "id": "i0GsFsx4PORA",
        "colab": {
          "base_uri": "https://localhost:8080/"
        },
        "outputId": "26df56b2-a45d-4869-9864-c73c27dfc904"
      },
      "source": [
        "shopping_list = ['bread', 'milk', 'ice cream', 'cheese']\n",
        "print(*shopping_list)"
      ],
      "execution_count": null,
      "outputs": [
        {
          "output_type": "stream",
          "text": [
            "bread milk ice cream cheese\n"
          ],
          "name": "stdout"
        }
      ]
    },
    {
      "cell_type": "markdown",
      "metadata": {
        "id": "yBpHZ42hB-Qs"
      },
      "source": [
        "Star operator before `shopping_list` makes Python see it not like a list but as several indepenedent elements. Something like `print(shopping_list[0], shopping_list[1], shopping_list[2], shopping_list[3])`.\n",
        "\n",
        "This operation is called *unpacking*. Later we will see that we can use unpacking in some other situations as well."
      ]
    },
    {
      "cell_type": "code",
      "metadata": {
        "id": "rdmLXuu2CVrN",
        "colab": {
          "base_uri": "https://localhost:8080/"
        },
        "outputId": "9d32594f-42be-47e8-c828-27d754e7ef90"
      },
      "source": [
        "shopping_list = ['bread', 'milk', 'ice cream', 'cheese']\n",
        "# printing our list nicely without unpacking\n",
        "print(shopping_list[0], shopping_list[1], shopping_list[2], shopping_list[3], sep=', ')\n",
        "# the same but shorter\n",
        "print(*shopping_list, sep=', ')"
      ],
      "execution_count": null,
      "outputs": [
        {
          "output_type": "stream",
          "text": [
            "bread, milk, ice cream, cheese\n",
            "bread, milk, ice cream, cheese\n"
          ],
          "name": "stdout"
        }
      ]
    },
    {
      "cell_type": "markdown",
      "metadata": {
        "id": "4lIwqffibQCM"
      },
      "source": [
        "Please note that such syntax will not work inside an f-string."
      ]
    },
    {
      "cell_type": "code",
      "metadata": {
        "id": "Sbzr1BavbX_i",
        "colab": {
          "base_uri": "https://localhost:8080/",
          "height": 129
        },
        "outputId": "7762d118-3227-4a6f-bdd5-17278f4fe1af"
      },
      "source": [
        "print(f'Our shopping list {*shopping_list}')"
      ],
      "execution_count": null,
      "outputs": [
        {
          "output_type": "error",
          "ename": "SyntaxError",
          "evalue": "ignored",
          "traceback": [
            "\u001b[0;36m  File \u001b[0;32m\"<ipython-input-16-31e18a6b5cff>\"\u001b[0;36m, line \u001b[0;32m1\u001b[0m\n\u001b[0;31m    print(f'Наш список покупок {*shopping_list}')\u001b[0m\n\u001b[0m                                               ^\u001b[0m\n\u001b[0;31mSyntaxError\u001b[0m\u001b[0;31m:\u001b[0m can't use starred expression here\n"
          ]
        }
      ]
    },
    {
      "cell_type": "markdown",
      "metadata": {
        "id": "6nwePFXHvTiD"
      },
      "source": [
        "Same thing works with tuples as well."
      ]
    },
    {
      "cell_type": "code",
      "metadata": {
        "colab": {
          "base_uri": "https://localhost:8080/"
        },
        "id": "7wqryVPXvSzG",
        "outputId": "8a9d5609-90e7-45b2-de93-0c211ea54402"
      },
      "source": [
        "students = ('Asya', 'Masha', 'Zeinab')\n",
        "print(*students, sep=';') # print our students separated by `;`"
      ],
      "execution_count": null,
      "outputs": [
        {
          "output_type": "stream",
          "text": [
            "Asya;Masha;Zeinab\n"
          ],
          "name": "stdout"
        }
      ]
    },
    {
      "cell_type": "markdown",
      "metadata": {
        "id": "7XWArGhpHZHS"
      },
      "source": [
        " ## Concatenation of lists and tuples"
      ]
    },
    {
      "cell_type": "markdown",
      "metadata": {
        "id": "2gsoVgnwHZHT"
      },
      "source": [
        "Remember that Python allows us to glue strings together. In a smart way it is called *concatenation*."
      ]
    },
    {
      "cell_type": "code",
      "metadata": {
        "id": "pU828AgPHZHV",
        "colab": {
          "base_uri": "https://localhost:8080/"
        },
        "outputId": "0d04069c-9362-489e-8836-92b76091edb4"
      },
      "source": [
        "a = 'Cat'\n",
        "b = 'Dog'\n",
        "print(f'Just a feline canine little - {a+b}')"
      ],
      "execution_count": null,
      "outputs": [
        {
          "output_type": "stream",
          "text": [
            "Just a feline canine little - CatDog\n"
          ],
          "name": "stdout"
        }
      ]
    },
    {
      "cell_type": "markdown",
      "metadata": {
        "id": "rpbNXUz5HZHZ"
      },
      "source": [
        "In the same way we can concatenate two lists. Let's glue together two shopping lists."
      ]
    },
    {
      "cell_type": "code",
      "metadata": {
        "id": "OHpYDHUjHZHa",
        "colab": {
          "base_uri": "https://localhost:8080/"
        },
        "outputId": "963019ea-7ae7-4eb7-b382-d63fcfc3cb34"
      },
      "source": [
        "# groceries\n",
        "shopping_list_1 = ['bread', 'milk', 'pelmeni']\n",
        "# household goods\n",
        "shopping_list_2 = ['washing powder', 'soap']\n",
        "\n",
        "# all purchases\n",
        "shopping_list_all = shopping_list_1 + shopping_list_2\n",
        "\n",
        "print(*shopping_list_all, sep=', ')"
      ],
      "execution_count": null,
      "outputs": [
        {
          "output_type": "stream",
          "text": [
            "bread, milk, pelmeni, washing powder, soap\n"
          ],
          "name": "stdout"
        }
      ]
    },
    {
      "cell_type": "markdown",
      "metadata": {
        "id": "d6og4L6hHZHc"
      },
      "source": [
        "The same would work with tuples."
      ]
    },
    {
      "cell_type": "code",
      "metadata": {
        "id": "UoqsJ9M2HZHd",
        "colab": {
          "base_uri": "https://localhost:8080/"
        },
        "outputId": "8c6d408c-a723-49e3-cebd-28a7b5c9bb72"
      },
      "source": [
        "# groceries\n",
        "shopping_tuple_1 = ('bread', 'milk', 'pelmeni')\n",
        "# household goods\n",
        "shopping_tuple_2 = ('washing powder', 'soap')\n",
        "\n",
        "# all purchases\n",
        "all = shopping_tuple_1 + shopping_tuple_2\n",
        "print(*all, sep=', ')"
      ],
      "execution_count": null,
      "outputs": [
        {
          "output_type": "stream",
          "text": [
            "bread, milk, pelmeni, washing powder, soap\n"
          ],
          "name": "stdout"
        }
      ]
    }
  ]
}