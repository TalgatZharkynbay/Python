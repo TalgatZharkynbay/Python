{
  "nbformat": 4,
  "nbformat_minor": 0,
  "metadata": {
    "kernelspec": {
      "display_name": "Python 3",
      "language": "python",
      "name": "python3"
    },
    "language_info": {
      "codemirror_mode": {
        "name": "ipython",
        "version": 3
      },
      "file_extension": ".py",
      "mimetype": "text/x-python",
      "name": "python",
      "nbconvert_exporter": "python",
      "pygments_lexer": "ipython3",
      "version": "3.6.2"
    },
    "colab": {
      "provenance": []
    }
  },
  "cells": [
    {
      "cell_type": "markdown",
      "metadata": {
        "id": "jBRWw1PGNbjQ"
      },
      "source": [
        "# Loop with a condition in Python"
      ]
    },
    {
      "cell_type": "markdown",
      "metadata": {
        "id": "Y4cpdzk0NbjT"
      },
      "source": [
        "Let's see how loop with a condition can be programmed via Python.\n",
        "\n"
      ]
    },
    {
      "cell_type": "markdown",
      "metadata": {
        "id": "z_s4Zpu2NbjU"
      },
      "source": [
        "`While` loop in Python we can write like this:\n",
        "```\n",
        "while <condition>:\n",
        "   <instructions>\n",
        "```\n",
        "\n",
        "So `while` our condition is True, instructions are executed. Like with `if` statements we need a colon and an indent before the instructions which we want to repeat."
      ]
    },
    {
      "cell_type": "markdown",
      "metadata": {
        "id": "BTF4oSGpbJi3"
      },
      "source": [
        "# Example: a hungry cat\n",
        "_While the cat is meowing, it is hungry_\n",
        "\n",
        "So basically our algorithm is the following.\n",
        "\n",
        "- While the cat is meowing,\n",
        "  - giving the food.\n",
        "\n",
        "Let's code it! Please note that we need to know if the cat meows before the loop starts. Let's create a variable, where we will store `yes` if the cat is meowing right now and `no` otherwise."
      ]
    },
    {
      "cell_type": "code",
      "metadata": {
        "id": "RgbFcoPffjJr",
        "colab": {
          "base_uri": "https://localhost:8080/"
        },
        "outputId": "f4a0b6f3-1a40-4065-8b76-54718df9980a"
      },
      "source": [
        "meow = input('Is the cat meowing? yes/no ')     # let's find out if the cat meowing\n",
        "while meow == 'yes':      # while the cat is meowing\n",
        "    print('Giving food') # feeding the cat\n",
        "    meow = input('Is the cat meowing? yes/no ') # checking if the cat is still meowing"
      ],
      "execution_count": null,
      "outputs": [
        {
          "output_type": "stream",
          "text": [
            "Is the cat meowing? yes/no yes\n",
            "Giving food\n",
            "Is the cat meowing? yes/no yes\n",
            "Giving food\n",
            "Is the cat meowing? yes/no no\n"
          ],
          "name": "stdout"
        }
      ]
    },
    {
      "cell_type": "markdown",
      "metadata": {
        "id": "YbEoGOpyj7dg"
      },
      "source": [
        "We may call such a variable as `meow` a **flag variable**. Basically it signals a `while`-statement when to stop to repeat instructions.\n"
      ]
    },
    {
      "cell_type": "markdown",
      "metadata": {
        "id": "i-uiDGeSFWdq"
      },
      "source": [
        "Let's print the logical expression evaluation result in order to better understand the inner workings of the while loop."
      ]
    },
    {
      "cell_type": "code",
      "metadata": {
        "id": "FIscHRrYFVlA",
        "colab": {
          "base_uri": "https://localhost:8080/"
        },
        "outputId": "f018598c-6f6e-42fa-c0b4-beab42082506"
      },
      "source": [
        "meow = input('Is the cat meowing? yes/no ')\n",
        "print(meow == 'yes') # how does python see the logical variable before the loop\n",
        "while meow == 'yes':\n",
        "    print('Giving food')\n",
        "    meow = input('Is the cat meowing? yes/no ')\n",
        "    print(meow == 'yes') # how does python see it inside the loop"
      ],
      "execution_count": null,
      "outputs": [
        {
          "output_type": "stream",
          "text": [
            "Is the cat meowing? yes/no yes\n",
            "True\n",
            "Giving food\n",
            "Is the cat meowing? yes/no yes\n",
            "True\n",
            "Giving food\n",
            "Is the cat meowing? yes/no no\n",
            "False\n"
          ],
          "name": "stdout"
        }
      ]
    },
    {
      "cell_type": "markdown",
      "metadata": {
        "id": "TN7smesVVcfV"
      },
      "source": [
        "When `meow` was switched from True to False, the loop interations stopped."
      ]
    },
    {
      "cell_type": "markdown",
      "metadata": {
        "id": "Uy5Wjw0DCW0d"
      },
      "source": [
        "# While with if-statements. Eternal loop"
      ]
    },
    {
      "cell_type": "markdown",
      "metadata": {
        "id": "f39B8HzWNbjW"
      },
      "source": [
        "## Example: a hungry cat on a diet\n",
        "_While the cat is meowing, it is hungry. But it is on a diet, so we feed him 3 times a day tops_\n"
      ]
    },
    {
      "cell_type": "markdown",
      "metadata": {
        "id": "U4n7bZOANbjX"
      },
      "source": [
        "Let's change our algorithm to incorporate a new condition. Let's store the number of feedings into a variable `n`.\n",
        "\n",
        "1. Today cat has not eaten yet, we will set `n` to zero.\n",
        "1. While cat is meowing AND it has eaten less then 3 times:\n",
        "\t- feeding the cat,\n",
        "\t- marking that we have fed the cat by increasing `n` by one.\n",
        "    \n"
      ]
    },
    {
      "cell_type": "code",
      "metadata": {
        "colab": {
          "base_uri": "https://localhost:8080/"
        },
        "id": "7J2wZByUDVK5",
        "outputId": "6edac8f0-f404-4ffc-d226-098a1f342e52"
      },
      "source": [
        "n = 0 # setting the initial number of the times the cat was fed today\n",
        "meow = input('Is the cat meowing? yes/no ')\n",
        "while meow == 'yes' and n < 3: # checking an updated condition\n",
        "    print('Giving food')\n",
        "    n += 1 # this notation is the same as n = n + 1\n",
        "    meow = input('Is the cat meowing? yes/no ')\n",
        "\n",
        "\n",
        "print(f'We have fed the cat {n} times today.')"
      ],
      "execution_count": null,
      "outputs": [
        {
          "output_type": "stream",
          "text": [
            "Is the cat meowing? yes/no yes\n",
            "Giving food\n",
            "Is the cat meowing? yes/no yes\n",
            "Giving food\n",
            "Is the cat meowing? yes/no no\n",
            "We have fed the cat 2 times today.\n"
          ],
          "name": "stdout"
        }
      ]
    },
    {
      "cell_type": "markdown",
      "metadata": {
        "id": "yrvlK109CQDK"
      },
      "source": [
        "Let's again print a logical expression evaluation result to see how it works."
      ]
    },
    {
      "cell_type": "code",
      "metadata": {
        "colab": {
          "base_uri": "https://localhost:8080/"
        },
        "id": "k_pbD423CQDK",
        "outputId": "3f88f334-f1dc-4d58-c464-f5e533145ab9"
      },
      "source": [
        "n = 0\n",
        "meow = input('Is the cat meowing? yes/no ')\n",
        "print(meow == 'yes' and n < 3) # printing logical variable before entering a while-statement\n",
        "\n",
        "while meow == 'yes' and n < 3:\n",
        "    print('Giving food')\n",
        "    n += 1\n",
        "    meow = input('Is the cat meowing? yes/no ')\n",
        "    print(meow == 'yes' and n < 3) # printing logical variable inside the while-statement\n",
        "\n",
        "\n",
        "print(f'We have fed the cat {n} times today.')"
      ],
      "execution_count": null,
      "outputs": [
        {
          "output_type": "stream",
          "text": [
            "Is the cat meowing? yes/no yes\n",
            "True\n",
            "Giving food\n",
            "Is the cat meowing? yes/no no\n",
            "False\n",
            "We have fed the cat 1 times today.\n"
          ],
          "name": "stdout"
        }
      ]
    },
    {
      "cell_type": "markdown",
      "metadata": {
        "id": "crloBBEvII2-"
      },
      "source": [
        "So if we input 'no' for meowing, the loop would break. But what will happen if cat continues to meow? Let's also print the number of times the cat was fed to follow how it changes."
      ]
    },
    {
      "cell_type": "code",
      "metadata": {
        "id": "uku8ys_rIMEU",
        "colab": {
          "base_uri": "https://localhost:8080/"
        },
        "outputId": "e264aea2-741b-4aa2-e00c-3f77925056ca"
      },
      "source": [
        "n = 0\n",
        "meow = input('Is the cat meowing? yes/no ')\n",
        "print(meow == 'yes' and n < 3) # printing logical variable before entering a while-statement\n",
        "\n",
        "while meow == 'yes' and n < 3:\n",
        "    print('Giving food')\n",
        "    n += 1\n",
        "    print(n) # printing the number of times the cat has eaten today\n",
        "    meow = input('Is the cat meowing? yes/no ')\n",
        "    print(meow == 'yes' and n < 3) # printing logical variable inside the while-statement\n",
        "\n",
        "\n",
        "print(f'We have fed the cat {n} times today.')"
      ],
      "execution_count": null,
      "outputs": [
        {
          "output_type": "stream",
          "text": [
            "Is the cat meowing? yes/no yes\n",
            "True\n",
            "Giving food\n",
            "1\n",
            "Is the cat meowing? yes/no yes\n",
            "True\n",
            "Giving food\n",
            "2\n",
            "Is the cat meowing? yes/no yes\n",
            "True\n",
            "Giving food\n",
            "3\n",
            "Is the cat meowing? yes/no yes\n",
            "False\n",
            "We have fed the cat 3 times today.\n"
          ],
          "name": "stdout"
        }
      ]
    },
    {
      "cell_type": "markdown",
      "metadata": {
        "id": "2ERptNPhXI9Z"
      },
      "source": [
        "Cat will not be fed more than 3 times. Even if it is still meowing, we have fed it maximum number of times. And the second part of a condition (`n < 3`) became `False`. No more food today!"
      ]
    },
    {
      "cell_type": "markdown",
      "metadata": {
        "id": "-ef2rtJ0Nbjk"
      },
      "source": [
        "# Important: an eternal loop"
      ]
    },
    {
      "cell_type": "markdown",
      "metadata": {
        "id": "CigvxVbfNbjl"
      },
      "source": [
        "What will happen if we were to forget to update `n` variable?\n",
        "\n",
        "Let's imagine that cat is always meowing but we do not count how many times we have fed it. Such situation will result in an eternal loop — it will never stop! It is a mistake, please avoid it :)\n",
        "\n",
        "**To stop a loop, push a stop button (white square within the black circle) on the left of the cell when it is running**."
      ]
    },
    {
      "cell_type": "code",
      "metadata": {
        "id": "giDDG0ASfCIx"
      },
      "source": [
        "n = 0\n",
        "meow = 'yes' # cat always meows\n",
        "while meow == 'yes' and n < 3:  # condition expects that we are updating `n`\n",
        "    print('Giving food')\n",
        "    print(meow == 'yes' and n < 3)\n",
        "\n",
        "print(f'We have fed the cat {n} times today.')"
      ],
      "execution_count": null,
      "outputs": []
    },
    {
      "cell_type": "markdown",
      "metadata": {
        "id": "OFWcv8BjGj9W"
      },
      "source": [
        "It happened because the condition was always True and the loop were to never stop.\n",
        "\n",
        "However, sometimes it is useful to write an eternal loop but first we need to know how to stop via Python, not by force quit by pushing a button. We will come back to that idea a bit later."
      ]
    },
    {
      "cell_type": "markdown",
      "metadata": {
        "id": "wkcQWbKuGWWG"
      },
      "source": [
        "## Nested if-statement within a while-loop"
      ]
    },
    {
      "cell_type": "markdown",
      "metadata": {
        "id": "Bl-0a07cHwPb"
      },
      "source": [
        "We can use an if-statement whithin a `while` loop. Let's imagine that a barista in a coffehouse wants to gather statistics which beverage is more popular. Let's now update two counters based on the input that we are reading inside the loop."
      ]
    },
    {
      "cell_type": "code",
      "metadata": {
        "id": "YVUny7a_GS6j",
        "colab": {
          "base_uri": "https://localhost:8080/"
        },
        "outputId": "32babf49-84a5-4a06-eec9-4aef065330d4"
      },
      "source": [
        "order = input('Is there an order? yes/no ')\n",
        "\n",
        "coffee_cnt = 0\n",
        "tea_cnt = 0\n",
        "\n",
        "while order == 'yes':\n",
        "  drink = input('What was ordered? coffee/tea ')\n",
        "  if drink == 'coffee':\n",
        "    coffee_cnt += 1\n",
        "  else:\n",
        "    tea_cnt += 1\n",
        "  order = input('Is there an order? yes/no ')\n",
        "\n",
        "print('The coffehouse is closed for the day.')\n",
        "print('Tea ordered:', tea_cnt)\n",
        "print('Coffee ordered:', coffee_cnt)"
      ],
      "execution_count": null,
      "outputs": [
        {
          "output_type": "stream",
          "text": [
            "Is there an order? yes/no yes\n",
            "What was ordered? coffee/tea tea\n",
            "Is there an order? yes/no yes\n",
            "What was ordered? coffee/tea coffee\n",
            "Is there an order? yes/no no\n",
            "The coffehouse is closed for the day.\n",
            "Tea ordered: 1\n",
            "Coffee ordered: 1\n"
          ],
          "name": "stdout"
        }
      ]
    },
    {
      "cell_type": "markdown",
      "metadata": {
        "id": "Re955m4zKjkI"
      },
      "source": [
        "And let's try more examples. Now imagine that the same barista wants to find out what was the most expensive order today. We will read orders' amounts, but will  update our `most_exp` variable only if the new order is more expensive than those that were placed before."
      ]
    },
    {
      "cell_type": "code",
      "metadata": {
        "colab": {
          "base_uri": "https://localhost:8080/"
        },
        "id": "AJuhe9-RLFOD",
        "outputId": "468b3a4a-8aa4-4899-cce1-30199eda36c4"
      },
      "source": [
        "order = input('Is there an order? yes/no ')\n",
        "\n",
        "most_exp = 0 # we have no orders yet, so our most expensive order is 0 rub.\n",
        "\n",
        "while order == 'yes':\n",
        "  amount = int(input('What was the amount paid? '))\n",
        "  if amount > most_exp: # if the current order is more expensive than our previous most expensive order\n",
        "    most_exp = amount # update the value stored as the most expensive order\n",
        "  order = input('Is there an order? yes/no ')\n",
        "\n",
        "print('The coffehouse is closed for the day.')\n",
        "print(f'The most expensive order was {most_exp} rub')"
      ],
      "execution_count": null,
      "outputs": [
        {
          "output_type": "stream",
          "text": [
            "Is there an order? yes/no yes\n",
            "What was the amount paid? 100\n",
            "Is there an order? yes/no yes\n",
            "What was the amount paid? 150\n",
            "Is there an order? yes/no yes\n",
            "What was the amount paid? 120\n",
            "Is there an order? yes/no no\n",
            "The coffehouse is closed for the day.\n",
            "The most expensive order was 150 rub\n"
          ],
          "name": "stdout"
        }
      ]
    },
    {
      "cell_type": "markdown",
      "metadata": {
        "id": "4Sw43tnJMxpA"
      },
      "source": [
        "You can update the code above by printing the `most_exp` variable contents on each iteration to see when it is updated and when is not."
      ]
    },
    {
      "cell_type": "markdown",
      "metadata": {
        "id": "0QY4GzEHKdDN"
      },
      "source": [
        "## Breaking the loop"
      ]
    },
    {
      "cell_type": "markdown",
      "metadata": {
        "id": "wv4Dz372M-j9"
      },
      "source": [
        "Sometimes it is easier to not to come up with a complex condition for a while-loop but rather to write an eternal loop and stop it via the speacial word `break`. But note that it is not a good idea to try something like that with more comples syntax that involves a lot of nested consturctions where you can easily lose a track of what is going on. But it is completely ok to use it with simple loops.\n",
        "\n",
        "Let's go back to the example with a hungry cat. That it is how we have written it initially."
      ]
    },
    {
      "cell_type": "code",
      "metadata": {
        "colab": {
          "base_uri": "https://localhost:8080/"
        },
        "id": "tWCyGseQI9S9",
        "outputId": "b0f90fd3-e86a-4bef-c31f-be0b1723a9f8"
      },
      "source": [
        "meow = input('Is the cat meowing? yes/no ')\n",
        "while meow == 'yes':\n",
        "    print('Giving food')\n",
        "    meow = input('Is the cat meowing? yes/no ')"
      ],
      "execution_count": null,
      "outputs": [
        {
          "output_type": "stream",
          "text": [
            "Is the cat meowing? yes/no yes\n",
            "Giving food\n",
            "Is the cat meowing? yes/no no\n"
          ],
          "name": "stdout"
        }
      ]
    },
    {
      "cell_type": "markdown",
      "metadata": {
        "id": "Ziux-kbhPvk7"
      },
      "source": [
        "That is how we can re-write it using `break`"
      ]
    },
    {
      "cell_type": "code",
      "metadata": {
        "colab": {
          "base_uri": "https://localhost:8080/"
        },
        "id": "i0gLePTpPSG6",
        "outputId": "e6547195-28ca-459f-e50c-a77fa8b416d6"
      },
      "source": [
        "# such syntax sometimes is more convenient when you do not want to read\n",
        "# something before the loop\n",
        "while True: # initiating an eternal loop\n",
        "  meow = input('Is the cat meowing? yes/no ') # reading the data\n",
        "  if meow == 'no': # if cat is not meowing\n",
        "    break # stop the loop"
      ],
      "execution_count": null,
      "outputs": [
        {
          "output_type": "stream",
          "text": [
            "Is the cat meowing? yes/no yes\n",
            "Is the cat meowing? yes/no yes\n",
            "Is the cat meowing? yes/no no\n"
          ],
          "name": "stdout"
        }
      ]
    },
    {
      "cell_type": "markdown",
      "metadata": {
        "id": "0on_jgqATpUj"
      },
      "source": [
        "So basically our loop would run eternally until the nested `if` condition becomes True and thus triggers `break`."
      ]
    }
  ]
}