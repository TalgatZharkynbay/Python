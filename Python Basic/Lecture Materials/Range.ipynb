{
  "nbformat": 4,
  "nbformat_minor": 0,
  "metadata": {
    "colab": {
      "provenance": []
    },
    "kernelspec": {
      "name": "python3",
      "display_name": "Python 3"
    }
  },
  "cells": [
    {
      "cell_type": "markdown",
      "metadata": {
        "id": "sOP_gQdoAF1s"
      },
      "source": [
        "# `For` loop and `range`\n",
        "\n",
        "There are cases when we need to not simply go through the elements within a list, but to call them by index. Remember an example with an enumerated shopping list."
      ]
    },
    {
      "cell_type": "code",
      "metadata": {
        "id": "KSTLHfUypla2",
        "colab": {
          "base_uri": "https://localhost:8080/"
        },
        "outputId": "ed81a1ac-052b-4e49-bb34-9dd9c83f2ca5"
      },
      "source": [
        "shopping_list = ['bread', 'milk', 'pelmeni']\n",
        "\n",
        "number = 1\n",
        "for thing in shopping_list:\n",
        "    print(number, thing)\n",
        "    number += 1 # number = number + 1"
      ],
      "execution_count": null,
      "outputs": [
        {
          "output_type": "stream",
          "text": [
            "1 bread\n",
            "2 milk\n",
            "3 pelmeni\n"
          ],
          "name": "stdout"
        }
      ]
    },
    {
      "cell_type": "markdown",
      "metadata": {
        "id": "mRBswE5vJPs-"
      },
      "source": [
        "It would be easier to have a variable that would go from 0 to 4 and we wouldn't have to worry about updating it manually. We can actually get something like this via the `range()` function.\n",
        "\n",
        "`range()` generates a sequence of numbers in a given interval. Let's turn `range()` into a list to check what is inside."
      ]
    },
    {
      "cell_type": "code",
      "metadata": {
        "colab": {
          "base_uri": "https://localhost:8080/"
        },
        "id": "weW61Dcc-w1e",
        "outputId": "5ad8a8ad-4a60-4f29-f375-44d3467f629a"
      },
      "source": [
        "print(range(3)) # creates an interval of numbers from 0 to 3\n",
        "print(list(range(3))) # checking what is inside"
      ],
      "execution_count": null,
      "outputs": [
        {
          "output_type": "stream",
          "name": "stdout",
          "text": [
            "range(0, 3)\n",
            "[0, 1, 2]\n"
          ]
        }
      ]
    },
    {
      "cell_type": "markdown",
      "metadata": {
        "id": "9l-ZQBKq-5or"
      },
      "source": [
        "Now let's use the result of a `range()` within a loop."
      ]
    },
    {
      "cell_type": "code",
      "metadata": {
        "id": "cCrMFw5bJbII",
        "colab": {
          "base_uri": "https://localhost:8080/"
        },
        "outputId": "1e7ccb4e-7121-46e3-ef31-a8f8c407fd4e"
      },
      "source": [
        "for i in range(6):\n",
        "    print(i)"
      ],
      "execution_count": null,
      "outputs": [
        {
          "output_type": "stream",
          "name": "stdout",
          "text": [
            "0\n",
            "1\n",
            "2\n",
            "3\n",
            "4\n",
            "5\n"
          ]
        }
      ]
    },
    {
      "cell_type": "markdown",
      "metadata": {
        "id": "gsRKTPruJeE2"
      },
      "source": [
        "Here `for` loop goes from 0 (including) to 3 (excluding).\n",
        "\n",
        "We can start with other integer than 0. In this case we will need two arguments within `range()`."
      ]
    },
    {
      "cell_type": "code",
      "metadata": {
        "id": "yvRiEJUJJ12Y",
        "colab": {
          "base_uri": "https://localhost:8080/"
        },
        "outputId": "1084d100-f5b1-4e6e-c266-e735a187550e"
      },
      "source": [
        "for i in range(2,6):\n",
        "    print(i)"
      ],
      "execution_count": null,
      "outputs": [
        {
          "output_type": "stream",
          "name": "stdout",
          "text": [
            "2\n",
            "3\n",
            "4\n",
            "5\n"
          ]
        }
      ]
    },
    {
      "cell_type": "markdown",
      "metadata": {
        "id": "L9rOaIEINL6u"
      },
      "source": [
        "And, finally, we can ask Python to create an interval with a step by providing `range` with the third argument.\n",
        "\n",
        "Let's print all odd numbers from 1 to 10 (meaning each second number within this interval)."
      ]
    },
    {
      "cell_type": "code",
      "metadata": {
        "id": "W7oSLAjuNkcz",
        "colab": {
          "base_uri": "https://localhost:8080/"
        },
        "outputId": "3c57078a-a4be-4d4f-da2e-2c35aa94f9c4"
      },
      "source": [
        "for i in range(1,10,2): # step size\n",
        "    print(i)"
      ],
      "execution_count": null,
      "outputs": [
        {
          "output_type": "stream",
          "name": "stdout",
          "text": [
            "1\n",
            "3\n",
            "5\n",
            "7\n",
            "9\n"
          ]
        }
      ]
    },
    {
      "cell_type": "markdown",
      "metadata": {
        "id": "XpK3q04VCu4q"
      },
      "source": [
        "Now we know enough to use `range()` to enumerate something within `for` loop."
      ]
    },
    {
      "cell_type": "code",
      "metadata": {
        "id": "-ozJYV01CkpU",
        "colab": {
          "base_uri": "https://localhost:8080/"
        },
        "outputId": "8d1b7a54-fead-42b2-b0a0-aa9f5c2abdf7"
      },
      "source": [
        "for i in range(5):\n",
        "# for each number in interval from 0 to 5 (excluding)\n",
        "# store it to `i` variable\n",
        "  print('Hello'[i]) # print a symbol of `Hello` string with an index `i`"
      ],
      "execution_count": null,
      "outputs": [
        {
          "output_type": "stream",
          "name": "stdout",
          "text": [
            "H\n",
            "e\n",
            "l\n",
            "l\n",
            "o\n"
          ]
        }
      ]
    },
    {
      "cell_type": "markdown",
      "metadata": {
        "id": "lzLlD9zgPxzH"
      },
      "source": [
        "String `'Hello'` is quite short and it was not hard to count its length. To avoid mistakes it is better to use `len()` function to calculate the length of our sequence in hand.\n",
        "\n",
        "Even though in our example we work with a string, the same would work, of course, for lists and other data types."
      ]
    },
    {
      "cell_type": "code",
      "metadata": {
        "id": "zhQ9modUDTNS",
        "colab": {
          "base_uri": "https://localhost:8080/"
        },
        "outputId": "4dcccf03-70af-45b6-f858-67e5fbd64922"
      },
      "source": [
        "for i in range(len('Hello')):\n",
        "    print(i, 'Hello'[i]) # print index stored in `i` variable as well as a symbol with that index"
      ],
      "execution_count": null,
      "outputs": [
        {
          "output_type": "stream",
          "name": "stdout",
          "text": [
            "0 H\n",
            "1 e\n",
            "2 l\n",
            "3 l\n",
            "4 o\n"
          ]
        }
      ]
    },
    {
      "cell_type": "markdown",
      "metadata": {
        "id": "0XNrO9NRWprh"
      },
      "source": [
        "Let's update our enumeration to be human-friendly."
      ]
    },
    {
      "cell_type": "code",
      "metadata": {
        "id": "M9bRjOFOWvO4",
        "colab": {
          "base_uri": "https://localhost:8080/"
        },
        "outputId": "96c3cda6-1854-4fe6-e5c6-6ffe8e762468"
      },
      "source": [
        "for i in range(len('Hello')):\n",
        "    print(i+1, 'Hello'[i]) # update i by adding 1"
      ],
      "execution_count": null,
      "outputs": [
        {
          "output_type": "stream",
          "name": "stdout",
          "text": [
            "1 H\n",
            "2 e\n",
            "3 l\n",
            "4 l\n",
            "5 o\n"
          ]
        }
      ]
    },
    {
      "cell_type": "markdown",
      "metadata": {
        "id": "OTXgsDq9DhC8"
      },
      "source": [
        "Sometimes we can use `range()` instead of a `while` loop. Especially when we need to repeat an action for a given number of times. Let's feed a dog this time."
      ]
    },
    {
      "cell_type": "code",
      "metadata": {
        "id": "xDJflpy6Dt1q",
        "colab": {
          "base_uri": "https://localhost:8080/"
        },
        "outputId": "bf871eac-eac4-4229-c0c7-9e4f65daa974"
      },
      "source": [
        "n = 0            # setting an initial number of treats giving\n",
        "while n < 5 :   # until we give 5 treats\n",
        "    print('Giving dog a treat')   # giving a treat to a dog\n",
        "    n += 1\n",
        "print('Treats given:', n)"
      ],
      "execution_count": null,
      "outputs": [
        {
          "output_type": "stream",
          "text": [
            "Giving dog a treat\n",
            "Giving dog a treat\n",
            "Giving dog a treat\n",
            "Giving dog a treat\n",
            "Giving dog a treat\n",
            "Treats given: 5\n"
          ],
          "name": "stdout"
        }
      ]
    },
    {
      "cell_type": "markdown",
      "metadata": {
        "id": "FqwRvCzuEFJG"
      },
      "source": [
        "In case if we forget to update `n`, our dog will eat all the treats in the world. If we use `for` instead we will never make a mystake — Python will look after a number of treats for us:"
      ]
    },
    {
      "cell_type": "code",
      "metadata": {
        "id": "fJ75F4dNEoS4",
        "colab": {
          "base_uri": "https://localhost:8080/"
        },
        "outputId": "7df6f9db-3125-4d38-88d1-10e4514c3789"
      },
      "source": [
        "for n in range(5):     # Planning to give 5 treats to a dog\n",
        "    print('Giving a treat') # feeding a dog\n",
        "\n",
        "print('Treats given:', n)"
      ],
      "execution_count": null,
      "outputs": [
        {
          "output_type": "stream",
          "text": [
            "Giving a treat\n",
            "Giving a treat\n",
            "Giving a treat\n",
            "Giving a treat\n",
            "Giving a treat\n",
            "Treats given: 4\n"
          ],
          "name": "stdout"
        }
      ]
    },
    {
      "cell_type": "markdown",
      "metadata": {
        "id": "QnecKhzlFBf1"
      },
      "source": [
        "Why Python thinks that only 4 treats were given? Because to `n` numbers from 0 to 4 were assigned. Thus Python repeated instructions exactly five times, but the last number it has saved is 4."
      ]
    },
    {
      "cell_type": "code",
      "metadata": {
        "id": "bt3Y-OJcFSsX",
        "colab": {
          "base_uri": "https://localhost:8080/"
        },
        "outputId": "45dbd671-eb61-457c-a54c-a3b93cd770f4"
      },
      "source": [
        "for n in range(5):\n",
        "    print('Giving a treat')\n",
        "\n",
        "\n",
        "print('Treats given:', n+1) # correcting number of treats to be human-friendly"
      ],
      "execution_count": null,
      "outputs": [
        {
          "output_type": "stream",
          "name": "stdout",
          "text": [
            "Giving a treat\n",
            "Giving a treat\n",
            "Giving a treat\n",
            "Giving a treat\n",
            "Giving a treat\n",
            "Treats given: 5\n"
          ]
        }
      ]
    },
    {
      "cell_type": "code",
      "source": [
        "for j in range(5): # i - iterable variable\n",
        "    print(j)"
      ],
      "metadata": {
        "colab": {
          "base_uri": "https://localhost:8080/"
        },
        "id": "GS3rzP_ggOHt",
        "outputId": "1fafba82-48bd-429d-f67e-97162da29248"
      },
      "execution_count": null,
      "outputs": [
        {
          "output_type": "stream",
          "name": "stdout",
          "text": [
            "0\n",
            "1\n",
            "2\n",
            "3\n",
            "4\n"
          ]
        }
      ]
    },
    {
      "cell_type": "code",
      "source": [
        "sh_list = ['bread', 'milk']\n",
        "for i in range(len(sh_list)):\n",
        "    print(sh_list[i]) # update i by adding 1\n",
        "print(i)"
      ],
      "metadata": {
        "colab": {
          "base_uri": "https://localhost:8080/"
        },
        "id": "dykHRW13zVZo",
        "outputId": "27b59383-a66c-46b5-be9d-1f791f199f25"
      },
      "execution_count": null,
      "outputs": [
        {
          "output_type": "stream",
          "name": "stdout",
          "text": [
            "bread\n",
            "milk\n",
            "1\n"
          ]
        }
      ]
    },
    {
      "cell_type": "code",
      "source": [],
      "metadata": {
        "id": "qkbI4Q6Iz3Ux"
      },
      "execution_count": null,
      "outputs": []
    }
  ]
}