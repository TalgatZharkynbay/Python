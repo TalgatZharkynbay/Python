{
  "nbformat": 4,
  "nbformat_minor": 0,
  "metadata": {
    "colab": {
      "provenance": []
    },
    "kernelspec": {
      "name": "python3",
      "display_name": "Python 3"
    }
  },
  "cells": [
    {
      "cell_type": "markdown",
      "metadata": {
        "id": "zsoFPwfWx4zR"
      },
      "source": [
        "# Slicing\n",
        "\n",
        "We know already how to get a particular item out of a sequence. We call an item or a symbol via its index number."
      ]
    },
    {
      "cell_type": "code",
      "metadata": {
        "colab": {
          "base_uri": "https://localhost:8080/"
        },
        "id": "KWgcz9dP1ali",
        "outputId": "213a42e2-4593-484e-cb97-6868dab1aa5c"
      },
      "source": [
        "email = 'trogovich@hse.ru'\n",
        "print(email[9]) # printing the symbol stored under the index 9"
      ],
      "execution_count": null,
      "outputs": [
        {
          "output_type": "stream",
          "name": "stdout",
          "text": [
            "@\n"
          ]
        }
      ]
    },
    {
      "cell_type": "markdown",
      "metadata": {
        "id": "dWqlkLe_1jRu"
      },
      "source": [
        "But often we need not one symbol or item but rather a sequence. For such situations we can use **slicing**. A slice of a sequence returns several symbols or items which belong to the **diapason of index numbers**. We specify such a diapason using square brackets: `[10:13]`. This slice would return us a sequence of symbols or items stored under the indecies 10, 11 and 12."
      ]
    },
    {
      "cell_type": "code",
      "metadata": {
        "colab": {
          "base_uri": "https://localhost:8080/"
        },
        "id": "vgmp5TbW2O06",
        "outputId": "70e78150-3acb-4478-8c6d-89166a1c3b27"
      },
      "source": [
        "email = 'trogovich@hse.ru'\n",
        "print(email[10:13]) # element under index 13 is excluded"
      ],
      "execution_count": null,
      "outputs": [
        {
          "output_type": "stream",
          "text": [
            "hse\n"
          ],
          "name": "stdout"
        }
      ]
    },
    {
      "cell_type": "markdown",
      "metadata": {
        "id": "qOovQtb92XeT"
      },
      "source": [
        "Thus, we see that **the first index from an interval is included into a slice and the last one excluded**. Such behaviour is connected to some specifics of how our computer stores data but let's not go there. However we have to remember that feature of slicing to avoid confusion."
      ]
    },
    {
      "cell_type": "markdown",
      "metadata": {
        "id": "rlUwGhUh21fJ"
      },
      "source": [
        "If we want to get the part of the sequence up to some index we can tell Python that it should start from index 0: `[0:9]`. Or we can skip the first index entirely in that case, but Python will still know that the slice should start from the beginning."
      ]
    },
    {
      "cell_type": "code",
      "metadata": {
        "colab": {
          "base_uri": "https://localhost:8080/"
        },
        "id": "ADkWwOig3S5o",
        "outputId": "b9b7c364-b799-4d2d-f10d-50f01d2069a1"
      },
      "source": [
        "email = 'trogovich@hse.ru'\n",
        "print(email[0:9]) # gives us the slice from index 0 to index 9 (excluded)\n",
        "print(email[:9]) # result is the same"
      ],
      "execution_count": null,
      "outputs": [
        {
          "output_type": "stream",
          "text": [
            "trogovich\n",
            "trogovich\n"
          ],
          "name": "stdout"
        }
      ]
    },
    {
      "cell_type": "markdown",
      "metadata": {
        "id": "9LJgODcj3sv8"
      },
      "source": [
        "In the same manner we can get the slice from a particular index to the end of a sequence. We skip the end of the interval after a colon, but Python still knows that it should return a slice up to the end of a sequence."
      ]
    },
    {
      "cell_type": "code",
      "metadata": {
        "colab": {
          "base_uri": "https://localhost:8080/"
        },
        "id": "VtmtP7yP31fE",
        "outputId": "efcc4297-d1d3-4e10-80b8-b30812d89441"
      },
      "source": [
        "email = 'trogovich@hse.ru'\n",
        "print(email[0:9])\n",
        "print(email[9:]) # give us slice from index 9 to the end"
      ],
      "execution_count": null,
      "outputs": [
        {
          "output_type": "stream",
          "name": "stdout",
          "text": [
            "trogovich\n",
            "@hse.ru\n"
          ]
        }
      ]
    },
    {
      "cell_type": "markdown",
      "metadata": {
        "id": "g-9I26Kt4Snc"
      },
      "source": [
        "We also can use negative indices for slicing as well."
      ]
    },
    {
      "cell_type": "code",
      "metadata": {
        "colab": {
          "base_uri": "https://localhost:8080/"
        },
        "id": "QWAO554h4WhH",
        "outputId": "363ea17f-d3ba-46ba-8f34-86f1ac9eca01"
      },
      "source": [
        "email = 'trogovich@hse.ru'\n",
        "print(email[-6:]) # gives us a slice beginning at the sixth element from the end"
      ],
      "execution_count": null,
      "outputs": [
        {
          "output_type": "stream",
          "text": [
            "hse.ru\n"
          ],
          "name": "stdout"
        }
      ]
    },
    {
      "cell_type": "markdown",
      "metadata": {
        "id": "O9CczHjg4oYb"
      },
      "source": [
        "We can use `.find()` method of strings and `.index()` method of lists to make slicing more efficient. E.g. to extract login part from an email we can find the position of the `@` sign automatically instead of counting up to it."
      ]
    },
    {
      "cell_type": "code",
      "metadata": {
        "colab": {
          "base_uri": "https://localhost:8080/"
        },
        "id": "PDUjpMWW42rM",
        "outputId": "18aa8f56-9890-4d2b-b065-ffa1e6287e71"
      },
      "source": [
        "print(email.find('@')) # finding `@` index within a string\n",
        "print(email[:email.find('@')]) # slicing a string up to `@` position"
      ],
      "execution_count": null,
      "outputs": [
        {
          "output_type": "stream",
          "text": [
            "9\n",
            "trogovich\n"
          ],
          "name": "stdout"
        }
      ]
    },
    {
      "cell_type": "markdown",
      "metadata": {
        "id": "69judTaR5LEQ"
      },
      "source": [
        "Something like this is convinient when we need to apply slicing based on a position of an element that might shift.\n",
        "\n",
        "Let's extract login parts from several emails."
      ]
    },
    {
      "cell_type": "code",
      "metadata": {
        "colab": {
          "base_uri": "https://localhost:8080/"
        },
        "id": "-DW-5hYV45VW",
        "outputId": "58ef858f-45a8-401f-da55-ec11f4a96845"
      },
      "source": [
        "emails = ['trogovich@hse.ru', 'aivanov@hse.ru', 'ykim@hse.ru']\n",
        "print(emails[0][9]) # `@` is stored under index 9 for the first email\n",
        "print(emails[1][7]) # under index 7 for the second\n",
        "print(emails[2][4]) # under index 4 for the fourth"
      ],
      "execution_count": null,
      "outputs": [
        {
          "output_type": "stream",
          "text": [
            "@\n",
            "@\n",
            "@\n"
          ],
          "name": "stdout"
        }
      ]
    },
    {
      "cell_type": "markdown",
      "metadata": {
        "id": "quKmwBIz5nQ7"
      },
      "source": [
        "Indeed, end of a slice index would be different for each email. But it is a good thing that we can find"
      ]
    },
    {
      "cell_type": "code",
      "metadata": {
        "colab": {
          "base_uri": "https://localhost:8080/"
        },
        "id": "nPPf6WpK5hLC",
        "outputId": "c698f30e-45f5-4a66-d950-eb597d51244c"
      },
      "source": [
        "emails = ['trogovich@hse.ru', 'aivanov@hse.ru', 'ykim@hse.ru']\n",
        "for email in emails:\n",
        "  print(email.find('@')) # finding index of `@` for each email"
      ],
      "execution_count": null,
      "outputs": [
        {
          "output_type": "stream",
          "text": [
            "9\n",
            "7\n",
            "4\n"
          ],
          "name": "stdout"
        }
      ]
    },
    {
      "cell_type": "code",
      "metadata": {
        "colab": {
          "base_uri": "https://localhost:8080/"
        },
        "id": "Y6kk9xGa6c0Y",
        "outputId": "62671a92-c473-40d1-8333-cf7c52ac628c"
      },
      "source": [
        "emails = ['trogovich@hse.ru', 'aivanov@hse.ru', 'ykim@hse.ru']\n",
        "for email in emails:\n",
        "  print(email[:email.find('@')]) # slicing each email up to `@` position"
      ],
      "execution_count": null,
      "outputs": [
        {
          "output_type": "stream",
          "text": [
            "trogovich\n",
            "aivanov\n",
            "ykim\n"
          ],
          "name": "stdout"
        }
      ]
    },
    {
      "cell_type": "markdown",
      "metadata": {
        "id": "cYuvLkRE6oXe"
      },
      "source": [
        "There is also the third parameter of slicing that we can specify. It denotes the step. Slice `[1:10:2]` will give us every second item of a sequence beginning at index 1 and ending at index 10."
      ]
    },
    {
      "cell_type": "code",
      "metadata": {
        "colab": {
          "base_uri": "https://localhost:8080/"
        },
        "id": "jpXLSnQn6dqO",
        "outputId": "2cf9107e-f2e0-409b-9436-2b7a2c60eec1"
      },
      "source": [
        "email = 'trogovich@hse.ru'\n",
        "print(email[1:10:2])\n"
      ],
      "execution_count": null,
      "outputs": [
        {
          "output_type": "stream",
          "text": [
            "rgvc@\n",
            "tooihher\n"
          ],
          "name": "stdout"
        }
      ]
    },
    {
      "cell_type": "markdown",
      "metadata": {
        "id": "zsOOWw7r7SeN"
      },
      "source": [
        "If we skip both the beginning and the end of the slice, but specify only a step it would return us every N-th element starting from the first one."
      ]
    },
    {
      "cell_type": "code",
      "metadata": {
        "colab": {
          "base_uri": "https://localhost:8080/"
        },
        "id": "QqHEu-2j7ELd",
        "outputId": "c51b37c4-5596-4a54-f7c6-73c593972f65"
      },
      "source": [
        "print(email[::2]) # every second element\n",
        "print(email[::3]) # every third element"
      ],
      "execution_count": null,
      "outputs": [
        {
          "output_type": "stream",
          "text": [
            "tooihher\n",
            "tgi@eu\n"
          ],
          "name": "stdout"
        }
      ]
    },
    {
      "cell_type": "markdown",
      "metadata": {
        "id": "JwAhMWiJ7ekM"
      },
      "source": [
        "We can also use negative step to reverse the sequence."
      ]
    },
    {
      "cell_type": "code",
      "metadata": {
        "colab": {
          "base_uri": "https://localhost:8080/"
        },
        "id": "iK9wGjlz7R8d",
        "outputId": "f5e47cc9-e0dc-41e2-d3fc-7a149fefdc68"
      },
      "source": [
        "print(email[::-1]) # every element of a string but we go from the end via negative step\n",
        "print(email[::-2]) # every second element going from the end"
      ],
      "execution_count": null,
      "outputs": [
        {
          "output_type": "stream",
          "text": [
            "ur.esh@hcivogort\n",
            "u.s@cvgr\n"
          ],
          "name": "stdout"
        }
      ]
    },
    {
      "cell_type": "markdown",
      "metadata": {
        "id": "cJS-xc7470Wu"
      },
      "source": [
        "Everything above works not only for strings but for lists and tuples as well."
      ]
    },
    {
      "cell_type": "code",
      "metadata": {
        "colab": {
          "base_uri": "https://localhost:8080/"
        },
        "id": "w6Q9bcZf7tWF",
        "outputId": "edd18a33-91b1-4624-dde7-e9cc579513fd"
      },
      "source": [
        "emails = ['trogovich@hse.ru', 'aivanov@hse.ru', 'ykim@hse.ru']\n",
        "print(emails[1:])\n",
        "print(emails[::2])\n",
        "print(emails[::-1])"
      ],
      "execution_count": null,
      "outputs": [
        {
          "output_type": "stream",
          "name": "stdout",
          "text": [
            "['aivanov@hse.ru', 'ykim@hse.ru']\n",
            "['trogovich@hse.ru', 'ykim@hse.ru']\n",
            "['ykim@hse.ru', 'aivanov@hse.ru', 'trogovich@hse.ru']\n"
          ]
        }
      ]
    },
    {
      "cell_type": "code",
      "source": [
        "phrase = 'cat, parrot and dog'\n",
        "# print(phrase.find('a'))\n",
        "for i in range(len(phrase)):\n",
        "  if phrase[i] == 'a':\n",
        "    print(i)"
      ],
      "metadata": {
        "id": "Hz2BT1BjidMa",
        "colab": {
          "base_uri": "https://localhost:8080/"
        },
        "outputId": "39a85d94-33a0-4ecf-c14b-5f6de4fba9f4"
      },
      "execution_count": null,
      "outputs": [
        {
          "output_type": "stream",
          "name": "stdout",
          "text": [
            "1\n",
            "6\n",
            "12\n"
          ]
        }
      ]
    },
    {
      "cell_type": "code",
      "source": [
        "for i in zip('cat, parrot and dog'):\n",
        "  print(i)"
      ],
      "metadata": {
        "colab": {
          "base_uri": "https://localhost:8080/"
        },
        "id": "FmK7s5LR6KLU",
        "outputId": "5f515237-9d82-416f-e185-0e0d2a530a73"
      },
      "execution_count": null,
      "outputs": [
        {
          "output_type": "stream",
          "name": "stdout",
          "text": [
            "('c',)\n",
            "('a',)\n",
            "('t',)\n",
            "(',',)\n",
            "(' ',)\n",
            "('p',)\n",
            "('a',)\n",
            "('r',)\n",
            "('r',)\n",
            "('o',)\n",
            "('t',)\n",
            "(' ',)\n",
            "('a',)\n",
            "('n',)\n",
            "('d',)\n",
            "(' ',)\n",
            "('d',)\n",
            "('o',)\n",
            "('g',)\n"
          ]
        }
      ]
    },
    {
      "cell_type": "code",
      "source": [],
      "metadata": {
        "id": "S1VFJMoS6oyH"
      },
      "execution_count": null,
      "outputs": []
    }
  ]
}