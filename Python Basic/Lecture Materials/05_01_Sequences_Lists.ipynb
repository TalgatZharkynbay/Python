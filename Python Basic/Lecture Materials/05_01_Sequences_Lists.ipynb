{
  "nbformat": 4,
  "nbformat_minor": 0,
  "metadata": {
    "kernelspec": {
      "display_name": "Python 3",
      "language": "python",
      "name": "python3"
    },
    "language_info": {
      "codemirror_mode": {
        "name": "ipython",
        "version": 3
      },
      "file_extension": ".py",
      "mimetype": "text/x-python",
      "name": "python",
      "nbconvert_exporter": "python",
      "pygments_lexer": "ipython3",
      "version": "3.7.6"
    },
    "colab": {
      "provenance": []
    }
  },
  "cells": [
    {
      "cell_type": "markdown",
      "metadata": {
        "id": "d8ShhvetFpA7"
      },
      "source": [
        "# Intro to sequences"
      ]
    },
    {
      "cell_type": "markdown",
      "metadata": {
        "id": "RcFvlz11FpA8"
      },
      "source": [
        "It is rather convenient to store similar things together. In Python we can store some data within one structure. Some of those structures are called **sequences**."
      ]
    },
    {
      "cell_type": "markdown",
      "metadata": {
        "id": "jWhNIlbzFpA8"
      },
      "source": [
        "We already know one type of a sequence-like structure — `str` — strings.\n",
        "\n",
        "Python sees a string as a sequence of symbols, each has its own index number.\n",
        "\n",
        "But what data type can we use if we want to store together different data types?"
      ]
    },
    {
      "cell_type": "markdown",
      "metadata": {
        "id": "9h_92vUmFpA9"
      },
      "source": [
        "## List\n",
        "When we go to get some groceries, we may make a shopping list.\n",
        "\n",
        "E.g., today we need:\n",
        "bread, milk, ice cream, cheese\n",
        "\n",
        "We can store all those strings together in Python like this `['bread', 'milk', 'ice cream', 'cheese']`. `[]` here denotes a container that stores each string as a different object. Such a container is called **list**.\n",
        "\n",
        "Today we will work mainly with that shopping list example that contains only strings. But such a data type may contain anything. Let's check!"
      ]
    },
    {
      "cell_type": "code",
      "metadata": {
        "id": "-_hBk1brFpA-",
        "colab": {
          "base_uri": "https://localhost:8080/"
        },
        "outputId": "8f6ecf53-6bb7-41bd-ecaf-908630bd31f3"
      },
      "source": [
        "food_info = ['Chocolate', 1.90, 2, True]  # title, price, quantity, 'best before'\n",
        "print(type(food_info)) # checking data type"
      ],
      "execution_count": null,
      "outputs": [
        {
          "output_type": "stream",
          "text": [
            "<class 'list'>\n"
          ],
          "name": "stdout"
        }
      ]
    },
    {
      "cell_type": "markdown",
      "metadata": {
        "id": "qKlSuymef5IS"
      },
      "source": [
        "So, to create a `list` and to store it into the variable we should\n",
        "1. Create a variable\n",
        "2. Assign to it our objects listed within square brackets."
      ]
    },
    {
      "cell_type": "markdown",
      "metadata": {
        "id": "oaK5Y5JOFpBO"
      },
      "source": [
        "We may also create empty `lists`. Later we will learn how to add new elements to our lists. This is a popular solution for some problems. E.g. we might want to populate an empty list with items that correspond to some conditions."
      ]
    },
    {
      "cell_type": "code",
      "metadata": {
        "id": "-HzaePp_FpBP",
        "colab": {
          "base_uri": "https://localhost:8080/"
        },
        "outputId": "bf48dec7-674f-4fad-a0b0-fcd9bc3fa6be"
      },
      "source": [
        "# creating an empty list with []\n",
        "shopping_list = []\n",
        "print(shopping_list)\n",
        "\n",
        "# creating an empty list with list() function without arguments\n",
        "shopping_list_2 = list()\n",
        "print(shopping_list_2)"
      ],
      "execution_count": null,
      "outputs": [
        {
          "output_type": "stream",
          "text": [
            "[]\n",
            "[]\n"
          ],
          "name": "stdout"
        }
      ]
    },
    {
      "cell_type": "markdown",
      "metadata": {
        "id": "bMVkcIjtHXoF"
      },
      "source": [
        "### How to input a list?\n",
        "\n",
        "We cannot read a list from the input, but we can read the string and then transform it to a list.\n",
        "\n",
        "We can use `.split()` for the latter. This `.` point in front of `.split()` gives us an idea that `.split()` is not your usual function. E.g. we can use `print()` function with any type of data, it will print anything! But there are also some functions which scope is limited. `.split()` is one of those. We should call it only attached to a string, e.g. `'cat likes milk'.split()`. Such functions are called *methods*. We will talk more about them next time."
      ]
    },
    {
      "cell_type": "code",
      "metadata": {
        "id": "a2xfnurRIhch",
        "colab": {
          "base_uri": "https://localhost:8080/",
          "height": 53
        },
        "outputId": "00af3adc-06b7-4f6d-cdbe-cf0e06bfd9d0"
      },
      "source": [
        "s = 'a b c d e f g'     # string with letters\n",
        "alphabet = s.split()    # converting a string to a list\n",
        "print(f'String: {s}')\n",
        "print(f'List: {alphabet}')"
      ],
      "execution_count": null,
      "outputs": [
        {
          "output_type": "stream",
          "text": [
            "Строка: a b c d e f g\n",
            "Список: ['a', 'b', 'c', 'd', 'e', 'f', 'g']\n"
          ],
          "name": "stdout"
        }
      ]
    },
    {
      "cell_type": "markdown",
      "metadata": {
        "id": "7O3oOvV_c8yy"
      },
      "source": [
        "So it seems that `.split()` splits string via spaces. Let's check it!"
      ]
    },
    {
      "cell_type": "code",
      "metadata": {
        "id": "52b62ZEKdB8t",
        "colab": {
          "base_uri": "https://localhost:8080/",
          "height": 35
        },
        "outputId": "6426c4c0-639f-4546-f8db-2215838582a8"
      },
      "source": [
        "s = 'ab cde f g' # putting random spaces\n",
        "print(s.split()) # still works"
      ],
      "execution_count": null,
      "outputs": [
        {
          "output_type": "stream",
          "text": [
            "['ab', 'cde', 'f', 'g']\n"
          ],
          "name": "stdout"
        }
      ]
    },
    {
      "cell_type": "markdown",
      "metadata": {
        "id": "2N00v-uqeFsi"
      },
      "source": [
        "Actually, `.split()` by default splits the string not only by spaces, but by whitespace characters. Such as `\\n` (new line), `\\t` (tabulation), etc."
      ]
    },
    {
      "cell_type": "code",
      "metadata": {
        "id": "Q8zhUg5AeFQ_",
        "colab": {
          "base_uri": "https://localhost:8080/"
        },
        "outputId": "b42fb65a-37b4-47cf-d5ef-6761365c28d7"
      },
      "source": [
        "s = 'milk\\nchocolate\\tbread tomatoes'\n",
        "\n",
        "print(s.split()) # python splits it via all whitespaces"
      ],
      "execution_count": null,
      "outputs": [
        {
          "output_type": "stream",
          "text": [
            "['milk', 'chocolate', 'bread', 'tomatoes']\n"
          ],
          "name": "stdout"
        }
      ]
    },
    {
      "cell_type": "markdown",
      "metadata": {
        "id": "C-cLcncfI0t0"
      },
      "source": [
        "Let's try with `input()` now"
      ]
    },
    {
      "cell_type": "code",
      "metadata": {
        "id": "4F1OvzUrI3VL",
        "colab": {
          "base_uri": "https://localhost:8080/"
        },
        "outputId": "b8e2ffd8-cf43-4b5d-bc90-016cdc57a695"
      },
      "source": [
        "s = input('Input the shopping list: ') # type in things separated by spaces\n",
        "shopping_list = s.split()\n",
        "print(f'Shopping list: {shopping_list}')"
      ],
      "execution_count": null,
      "outputs": [
        {
          "output_type": "stream",
          "text": [
            "Input the shopping list: milk bread pelmeni\n",
            "Shopping list: ['milk', 'bread', 'pelmeni']\n"
          ],
          "name": "stdout"
        }
      ]
    },
    {
      "cell_type": "markdown",
      "metadata": {
        "id": "6Fgp7J31JG80"
      },
      "source": [
        "`.split()` method can split a string into a list by other separators as well. Let's input our shopping list separated by commas and call `.split()` with an argument `','`.  Thus Python will know that we want to use a different symbol rather than whitespaces as separator."
      ]
    },
    {
      "cell_type": "code",
      "metadata": {
        "id": "yZhDJ-eKJQtw",
        "colab": {
          "base_uri": "https://localhost:8080/"
        },
        "outputId": "193de133-536a-4c16-fae2-87766475bee1"
      },
      "source": [
        "s = input('Input the shopping list: ') # type in things separated by commas now\n",
        "shopping_list = s.split(',')\n",
        "print(f'Shopping list: {shopping_list}')"
      ],
      "execution_count": null,
      "outputs": [
        {
          "output_type": "stream",
          "text": [
            "Input the shopping list: milk,bread,pelmeni\n",
            "Shopping list: ['milk', 'bread', 'pelmeni']\n"
          ],
          "name": "stdout"
        }
      ]
    },
    {
      "cell_type": "markdown",
      "metadata": {
        "id": "_5G58opQJdoC"
      },
      "source": [
        "We can actually get rid of `s` variable and use `.split()` directly with `input()`:"
      ]
    },
    {
      "cell_type": "code",
      "metadata": {
        "id": "EVXoareuJdW3",
        "colab": {
          "base_uri": "https://localhost:8080/"
        },
        "outputId": "a469418d-0075-4188-974b-b54dcef625cc"
      },
      "source": [
        "shopping_list = input('Input the shopping list: ').split(',')\n",
        "print(f'Shopping list: {shopping_list}')"
      ],
      "execution_count": null,
      "outputs": [
        {
          "output_type": "stream",
          "text": [
            "Input the shopping list: milk,bread\n",
            "Shopping list: ['milk', 'bread']\n"
          ],
          "name": "stdout"
        }
      ]
    },
    {
      "cell_type": "markdown",
      "metadata": {
        "id": "3Zi-y2cRFpBB"
      },
      "source": [
        "### How to work with the elements of the sequence?\n",
        "\n",
        "Ok, let's talk how to use indices with lists."
      ]
    },
    {
      "cell_type": "code",
      "metadata": {
        "id": "rTAG4LY7FpBC",
        "colab": {
          "base_uri": "https://localhost:8080/"
        },
        "outputId": "b2b59269-63fd-48e4-a282-278bd33f6f44"
      },
      "source": [
        "# create a list for an example\n",
        "shopping_list = ['bread', 'milk', 'ice cream', 'cheese']\n",
        "print(shopping_list)"
      ],
      "execution_count": null,
      "outputs": [
        {
          "output_type": "stream",
          "text": [
            "['хлеб', 'молоко', 'сметана', 'сыр', 'молоко']\n"
          ],
          "name": "stdout"
        }
      ]
    },
    {
      "cell_type": "markdown",
      "metadata": {
        "id": "V8pEDqe0FpBH"
      },
      "source": [
        "If we look at the shopping list we can easily imagine its structure\n",
        "- bread;\n",
        "- milk;\n",
        "- ice cream;\n",
        "- cheese.\n",
        "\n",
        "We also can easily imagine numbers next to the items. The bread goes first, then milk, etc."
      ]
    },
    {
      "cell_type": "markdown",
      "metadata": {
        "id": "95EvJ1dUFpBH"
      },
      "source": [
        "\n",
        "Python also sees it numbered:\n",
        "\n",
        "    [0] bread\n",
        "    [1] milk\n",
        "    [2] ice cream\n",
        "    [3] cheese\n"
      ]
    },
    {
      "cell_type": "markdown",
      "metadata": {
        "id": "n0bkHI5NFpBI"
      },
      "source": [
        "Each element has its own index. It's actually the same like with strings."
      ]
    },
    {
      "cell_type": "code",
      "metadata": {
        "id": "bCzMA2uXC6hp",
        "colab": {
          "base_uri": "https://localhost:8080/"
        },
        "outputId": "defde195-10fc-4655-f332-60aaf8521c66"
      },
      "source": [
        "shopping_list = ['bread', 'milk', 'ice cream', 'cheese']\n",
        "s = 'Hello'\n",
        "print(shopping_list[3])     # print 3rd element of our list\n",
        "print(s[3])                 # print 3rd element of our string"
      ],
      "execution_count": null,
      "outputs": [
        {
          "output_type": "stream",
          "text": [
            "cheese\n",
            "l\n"
          ],
          "name": "stdout"
        }
      ]
    },
    {
      "cell_type": "markdown",
      "metadata": {
        "id": "Kvh_lMKLDjd8"
      },
      "source": [
        "Let's make it more interactive asking to input an index:"
      ]
    },
    {
      "cell_type": "code",
      "metadata": {
        "scrolled": true,
        "id": "Q_oNYZCrFpBI",
        "colab": {
          "base_uri": "https://localhost:8080/"
        },
        "outputId": "8ec10a8e-eac2-468c-dea6-6d0133d7db69"
      },
      "source": [
        "shopping_list = ['bread', 'milk', 'ice cream', 'cheese']\n",
        "\n",
        "i = int(input('Input an index: '))\n",
        "print(shopping_list[i]) # printing an element with index i"
      ],
      "execution_count": null,
      "outputs": [
        {
          "output_type": "stream",
          "text": [
            "Input an index: 3\n",
            "cheese\n"
          ],
          "name": "stdout"
        }
      ]
    },
    {
      "cell_type": "markdown",
      "metadata": {
        "id": "QmpVTy1mFpBL"
      },
      "source": [
        "Remember that Python counts from zero. It is not really convinient for us — humans — to count like this, so let's correct our input for a computer by subtracting one from the index we've inputted. Now Python really gives us the first element if we ask for it."
      ]
    },
    {
      "cell_type": "code",
      "metadata": {
        "id": "lrIagR6IFpBM",
        "colab": {
          "base_uri": "https://localhost:8080/"
        },
        "outputId": "1006d15d-7b37-4815-df18-f801c03d2b11"
      },
      "source": [
        "shopping_list = ['bread', 'milk', 'ice cream', 'cheese']\n",
        "\n",
        "i = int(input('Input an index: ')) - 1 # adjusting a human-index to a computer-index\n",
        "\n",
        "print(shopping_list[i]) # printing an element with index i"
      ],
      "execution_count": null,
      "outputs": [
        {
          "output_type": "stream",
          "text": [
            "Input an index: 1\n",
            "bread\n"
          ],
          "name": "stdout"
        }
      ]
    },
    {
      "cell_type": "markdown",
      "metadata": {
        "id": "YfGzeiscyOPo"
      },
      "source": [
        "And also like with the strings we can check the number of elements withing a list via `len()` function."
      ]
    },
    {
      "cell_type": "code",
      "metadata": {
        "colab": {
          "base_uri": "https://localhost:8080/"
        },
        "id": "Y3aQ1s2_yUZF",
        "outputId": "ed22c35d-3193-4caa-9c47-db96209b34a6"
      },
      "source": [
        "print(len('Hello')) # returns number of symbols withing a string\n",
        "print(len(['bread', 'milk'])) # returns number of objects withing a list"
      ],
      "execution_count": null,
      "outputs": [
        {
          "output_type": "stream",
          "text": [
            "5\n",
            "2\n"
          ],
          "name": "stdout"
        }
      ]
    }
  ]
}