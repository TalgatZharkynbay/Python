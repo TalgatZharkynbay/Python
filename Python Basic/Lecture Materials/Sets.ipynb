{
  "nbformat": 4,
  "nbformat_minor": 0,
  "metadata": {
    "colab": {
      "provenance": []
    },
    "kernelspec": {
      "name": "python3",
      "display_name": "Python 3"
    },
    "language_info": {
      "name": "python"
    }
  },
  "cells": [
    {
      "cell_type": "markdown",
      "metadata": {
        "id": "0Z2RP9JNOCQf"
      },
      "source": [
        "# Sets\n",
        "\n",
        "**Sets** are data structures that can contain only **unique immutable objects**. Sets in Python are actually very close to their prototypes — mathematical sets.\n",
        "\n",
        "To create a set we list objects inside the curly breakets.\n"
      ]
    },
    {
      "cell_type": "code",
      "metadata": {
        "colab": {
          "base_uri": "https://localhost:8080/"
        },
        "id": "QCExsVvwN0SE",
        "outputId": "095d2958-c88a-4a80-e3db-c241f43275e3"
      },
      "source": [
        "ex_list = ['cat', 'dog', 'cat'] # creating a list with []\n",
        "ex_tuple = ('cat', 'dog', 'cat') # creating a tuple with ()\n",
        "ex_set = {'cat', 'dog', 'cat'} # creating a set with {}\n",
        "print(ex_list)\n",
        "print(ex_tuple)\n",
        "print(ex_set) # note that we have only one 'cat' in our set"
      ],
      "execution_count": null,
      "outputs": [
        {
          "output_type": "stream",
          "text": [
            "['cat', 'dog', 'cat']\n",
            "('cat', 'dog', 'cat')\n",
            "{'dog', 'cat'}\n"
          ],
          "name": "stdout"
        }
      ]
    },
    {
      "cell_type": "markdown",
      "metadata": {
        "id": "wbx1_QU3OoBr"
      },
      "source": [
        "Indeed. Even though we've tried to store two `'cat'` strings in our set, only one was added. It happened because sets can store **only unique objects**.\n",
        "\n",
        "Python data type is also called `set`. Using `set()` function without arguments we can create an empty set. We can convert list to a set by passing a list as an argument."
      ]
    },
    {
      "cell_type": "code",
      "metadata": {
        "colab": {
          "base_uri": "https://localhost:8080/"
        },
        "id": "uxggX8TfPPw8",
        "outputId": "8651e63d-4237-4050-dba9-402b302227c3"
      },
      "source": [
        "empty_set = set() # creating an empty set\n",
        "example_set = set(['cat', 'dog', 'cat']) # converting a list to a set\n",
        "print(type(empty_set), empty_set)\n",
        "print(type(example_set), example_set)"
      ],
      "execution_count": null,
      "outputs": [
        {
          "output_type": "stream",
          "text": [
            "<class 'set'> set()\n",
            "<class 'set'> {'dog', 'cat'}\n"
          ],
          "name": "stdout"
        }
      ]
    },
    {
      "cell_type": "markdown",
      "metadata": {
        "id": "lYn-DtP1SVHc"
      },
      "source": [
        "In the same way we can convert strings or tuples into a set."
      ]
    },
    {
      "cell_type": "code",
      "metadata": {
        "colab": {
          "base_uri": "https://localhost:8080/"
        },
        "id": "MPx17VQvSWMo",
        "outputId": "13fb9d28-6737-40eb-99d1-3e99aa2d2359"
      },
      "source": [
        "print(set('kitty')) # set of unique symbols from a string\n",
        "print(set(('dog', 'dog'))) # set of unique objects from a tuple"
      ],
      "execution_count": null,
      "outputs": [
        {
          "output_type": "stream",
          "text": [
            "{'k', 'i', 'y', 't'}\n",
            "{'dog'}\n"
          ],
          "name": "stdout"
        }
      ]
    },
    {
      "cell_type": "markdown",
      "metadata": {
        "id": "mq5sQId0PCkW"
      },
      "source": [
        "Set can store objects of different data types but only those which are immutable."
      ]
    },
    {
      "cell_type": "code",
      "metadata": {
        "colab": {
          "base_uri": "https://localhost:8080/"
        },
        "id": "iq-f5DfaOy44",
        "outputId": "e0b26603-2fb6-4042-e923-5f5bd590eb38"
      },
      "source": [
        "example_1 = {1, 'cat', (2,4), 4.5, False}\n",
        "print(example_1)"
      ],
      "execution_count": null,
      "outputs": [
        {
          "output_type": "stream",
          "text": [
            "{False, 1, 4.5, 'cat', (2, 4)}\n"
          ],
          "name": "stdout"
        }
      ]
    },
    {
      "cell_type": "code",
      "metadata": {
        "colab": {
          "base_uri": "https://localhost:8080/",
          "height": 162
        },
        "id": "QImB4jBLOlyv",
        "outputId": "710ef6c1-0537-4707-aba3-dfa31581c2d5"
      },
      "source": [
        "example_2 = {[4, 4], 4} # trying to create a set that contains a list"
      ],
      "execution_count": null,
      "outputs": [
        {
          "output_type": "error",
          "ename": "TypeError",
          "evalue": "ignored",
          "traceback": [
            "\u001b[0;31m---------------------------------------------------------------------------\u001b[0m",
            "\u001b[0;31mTypeError\u001b[0m                                 Traceback (most recent call last)",
            "\u001b[0;32m<ipython-input-4-ca417fecfee7>\u001b[0m in \u001b[0;36m<module>\u001b[0;34m()\u001b[0m\n\u001b[0;32m----> 1\u001b[0;31m \u001b[0mexample_2\u001b[0m \u001b[0;34m=\u001b[0m \u001b[0;34m{\u001b[0m\u001b[0;34m[\u001b[0m\u001b[0;36m4\u001b[0m\u001b[0;34m,\u001b[0m \u001b[0;36m4\u001b[0m\u001b[0;34m]\u001b[0m\u001b[0;34m,\u001b[0m \u001b[0;36m4\u001b[0m\u001b[0;34m}\u001b[0m\u001b[0;34m\u001b[0m\u001b[0;34m\u001b[0m\u001b[0m\n\u001b[0m",
            "\u001b[0;31mTypeError\u001b[0m: unhashable type: 'list'"
          ]
        }
      ]
    },
    {
      "cell_type": "markdown",
      "metadata": {
        "id": "EF7kQjuvPoqO"
      },
      "source": [
        "We got an error. So far we know only two mutable data types — `list` and `set` itself. All other objects can be a part of a set."
      ]
    },
    {
      "cell_type": "markdown",
      "metadata": {
        "id": "5rKTQgjXQBjE"
      },
      "source": [
        "Set is not an ordered sequence. Python has no idea which item of a set is the first and which is the last. Thus we cannot use indexing with sets."
      ]
    },
    {
      "cell_type": "code",
      "metadata": {
        "colab": {
          "base_uri": "https://localhost:8080/",
          "height": 179
        },
        "id": "eSOHn_gwPj0T",
        "outputId": "9f4034a8-2ac2-44c1-8063-840e84f970d6"
      },
      "source": [
        "ex_set = {'cat', 'dog', 'cat'}\n",
        "ex_set[0]"
      ],
      "execution_count": null,
      "outputs": [
        {
          "output_type": "error",
          "ename": "TypeError",
          "evalue": "ignored",
          "traceback": [
            "\u001b[0;31m---------------------------------------------------------------------------\u001b[0m",
            "\u001b[0;31mTypeError\u001b[0m                                 Traceback (most recent call last)",
            "\u001b[0;32m<ipython-input-5-7440580c0d2d>\u001b[0m in \u001b[0;36m<module>\u001b[0;34m()\u001b[0m\n\u001b[1;32m      1\u001b[0m \u001b[0mex_set\u001b[0m \u001b[0;34m=\u001b[0m \u001b[0;34m{\u001b[0m\u001b[0;34m'cat'\u001b[0m\u001b[0;34m,\u001b[0m \u001b[0;34m'dog'\u001b[0m\u001b[0;34m,\u001b[0m \u001b[0;34m'cat'\u001b[0m\u001b[0;34m}\u001b[0m\u001b[0;34m\u001b[0m\u001b[0;34m\u001b[0m\u001b[0m\n\u001b[0;32m----> 2\u001b[0;31m \u001b[0mex_set\u001b[0m\u001b[0;34m[\u001b[0m\u001b[0;36m0\u001b[0m\u001b[0;34m]\u001b[0m\u001b[0;34m\u001b[0m\u001b[0;34m\u001b[0m\u001b[0m\n\u001b[0m",
            "\u001b[0;31mTypeError\u001b[0m: 'set' object is not subscriptable"
          ]
        }
      ]
    },
    {
      "cell_type": "markdown",
      "metadata": {
        "id": "ozRJL8uuQTuL"
      },
      "source": [
        "Error `'set' object is not subscriptable` means that indexing cannot be applied to a set. The only way to get items from a set is to loop through it."
      ]
    },
    {
      "cell_type": "code",
      "metadata": {
        "colab": {
          "base_uri": "https://localhost:8080/"
        },
        "id": "GHcYn8gtQSqU",
        "outputId": "2ee43c36-b592-4907-eda1-24b997b657bb"
      },
      "source": [
        "ex_set = {'cat', 'dog'}\n",
        "for item in ex_set: # looping through our set\n",
        "  print(item) # printing each item"
      ],
      "execution_count": null,
      "outputs": [
        {
          "output_type": "stream",
          "text": [
            "dog\n",
            "cat\n"
          ],
          "name": "stdout"
        }
      ]
    },
    {
      "cell_type": "markdown",
      "metadata": {
        "id": "3B94HJ2xQmpr"
      },
      "source": [
        "Speaking of other operations we already know, we can compute length of a set and we can check if something belongs to a set or if it does not."
      ]
    },
    {
      "cell_type": "code",
      "metadata": {
        "colab": {
          "base_uri": "https://localhost:8080/"
        },
        "id": "cksvYU5yQikI",
        "outputId": "996bbd7c-0659-42ce-f4cb-735697cca811"
      },
      "source": [
        "ex_set = {'cat', 'dog', 'cat'}\n",
        "print(len(ex_set)) # how many items are in the set?\n",
        "print('cat' in ex_set) # does the string 'cat' belong to a set?\n",
        "print('python' in ex_set) # what about the string 'python'?"
      ],
      "execution_count": null,
      "outputs": [
        {
          "output_type": "stream",
          "text": [
            "2\n",
            "True\n",
            "False\n"
          ],
          "name": "stdout"
        }
      ]
    },
    {
      "cell_type": "markdown",
      "metadata": {
        "id": "b9_0UHT4RDfj"
      },
      "source": [
        "Imagine that the teacher wants to check which marks did her students get and calculate some statistics."
      ]
    },
    {
      "cell_type": "code",
      "metadata": {
        "colab": {
          "base_uri": "https://localhost:8080/"
        },
        "id": "e965lQ5SQ3au",
        "outputId": "c87e65d9-2304-4768-c63c-ab59bb9beff8"
      },
      "source": [
        "marks = [10, 10, 8, 7, 4, 5, 4, 10] # marks for 8 students\n",
        "for item in marks:\n",
        "  print('Grade:', item) # printing the mark\n",
        "  print('Count:', marks.count(item)) # printing how many students got that mark\n"
      ],
      "execution_count": null,
      "outputs": [
        {
          "output_type": "stream",
          "text": [
            "Grade: 10\n",
            "Count: 3\n",
            "Grade: 10\n",
            "Count: 3\n",
            "Grade: 8\n",
            "Count: 1\n",
            "Grade: 7\n",
            "Count: 1\n",
            "Grade: 4\n",
            "Count: 2\n",
            "Grade: 5\n",
            "Count: 1\n",
            "Grade: 4\n",
            "Count: 2\n",
            "Grade: 10\n",
            "Count: 3\n"
          ],
          "name": "stdout"
        }
      ]
    },
    {
      "cell_type": "markdown",
      "metadata": {
        "id": "gEhIzkFuRW5S"
      },
      "source": [
        "Ouch! The non-unique marks were printed several times. We can convert our list to set to avoid the repetition."
      ]
    },
    {
      "cell_type": "code",
      "metadata": {
        "colab": {
          "base_uri": "https://localhost:8080/"
        },
        "id": "WySqJmXcRWY7",
        "outputId": "3a03f3f7-8add-48c6-bfd5-e85cfde89930"
      },
      "source": [
        "marks = [10, 10, 8, 7, 4, 5, 4, 10] # list of non-unique marks\n",
        "for item in set(marks): # converting our list to a set of unique marks\n",
        "  print('Grade:', item)\n",
        "  print('Count:', marks.count(item))"
      ],
      "execution_count": null,
      "outputs": [
        {
          "output_type": "stream",
          "text": [
            "Grade: 4\n",
            "Count: 2\n",
            "Grade: 5\n",
            "Count: 1\n",
            "Grade: 7\n",
            "Count: 1\n",
            "Grade: 8\n",
            "Count: 1\n",
            "Grade: 10\n",
            "Count: 3\n"
          ],
          "name": "stdout"
        }
      ]
    },
    {
      "cell_type": "markdown",
      "metadata": {
        "id": "xvGnoTZfSiqR"
      },
      "source": [
        "There are two set methods that are particularly useful for us. The fist one is `.add()`. It requires an argument — an item to add to a set.\n",
        "\n",
        "The second is `.remove()`. It requires an argument — an item to remove from a set."
      ]
    },
    {
      "cell_type": "code",
      "metadata": {
        "colab": {
          "base_uri": "https://localhost:8080/"
        },
        "id": "vcPbpKUQRsy9",
        "outputId": "631326f0-0be7-494d-b591-102747c51d7a"
      },
      "source": [
        "ex_set = {'dog', 'cat'}\n",
        "ex_set.add('python') # adding the string 'python' to a set\n",
        "print(ex_set)\n",
        "ex_set.remove('dog') # removing the stirng 'dog' from a set\n",
        "print(ex_set)"
      ],
      "execution_count": null,
      "outputs": [
        {
          "output_type": "stream",
          "text": [
            "{'dog', 'cat', 'python'}\n",
            "{'cat', 'python'}\n"
          ],
          "name": "stdout"
        }
      ]
    },
    {
      "cell_type": "markdown",
      "metadata": {
        "id": "B3li5TCgTBWU"
      },
      "source": [
        "If we were to try to remove an item that is not in the set, then we would get an error."
      ]
    },
    {
      "cell_type": "code",
      "metadata": {
        "colab": {
          "base_uri": "https://localhost:8080/",
          "height": 179
        },
        "id": "BcnLZbSHTAl4",
        "outputId": "d993bc6b-a91e-4718-9e63-76775983f109"
      },
      "source": [
        "ex_set = {'dog', 'cat'}\n",
        "ex_set.remove('python') # getting an error, there is no 'python' string in our set"
      ],
      "execution_count": null,
      "outputs": [
        {
          "output_type": "error",
          "ename": "KeyError",
          "evalue": "ignored",
          "traceback": [
            "\u001b[0;31m---------------------------------------------------------------------------\u001b[0m",
            "\u001b[0;31mKeyError\u001b[0m                                  Traceback (most recent call last)",
            "\u001b[0;32m<ipython-input-15-6e3171419eca>\u001b[0m in \u001b[0;36m<module>\u001b[0;34m()\u001b[0m\n\u001b[1;32m      1\u001b[0m \u001b[0mex_set\u001b[0m \u001b[0;34m=\u001b[0m \u001b[0;34m{\u001b[0m\u001b[0;34m'dog'\u001b[0m\u001b[0;34m,\u001b[0m \u001b[0;34m'cat'\u001b[0m\u001b[0;34m}\u001b[0m\u001b[0;34m\u001b[0m\u001b[0;34m\u001b[0m\u001b[0m\n\u001b[0;32m----> 2\u001b[0;31m \u001b[0mex_set\u001b[0m\u001b[0;34m.\u001b[0m\u001b[0mremove\u001b[0m\u001b[0;34m(\u001b[0m\u001b[0;34m'python'\u001b[0m\u001b[0;34m)\u001b[0m \u001b[0;31m# getting an error, there is no 'python' in our set\u001b[0m\u001b[0;34m\u001b[0m\u001b[0;34m\u001b[0m\u001b[0m\n\u001b[0m",
            "\u001b[0;31mKeyError\u001b[0m: 'python'"
          ]
        }
      ]
    },
    {
      "cell_type": "markdown",
      "metadata": {
        "id": "juIChLkuTPkl"
      },
      "source": [
        "Let's try to solve the following problem. For a group of people we want to find all unique languages they speak. Let's input languages' names until the string `'end'` is inputted."
      ]
    },
    {
      "cell_type": "code",
      "metadata": {
        "colab": {
          "base_uri": "https://localhost:8080/"
        },
        "id": "_som1ZSETMhI",
        "outputId": "cf5aa002-3e23-4a87-f237-b75d6f1a50d4"
      },
      "source": [
        "language = input() # reading the first language\n",
        "languages_we_speak = set() # creating an empty set\n",
        "\n",
        "while language != 'end': # starting the loop\n",
        "  languages_we_speak.add(language) # adding read language to a set\n",
        "  language = input() # reading new string\n",
        "\n",
        "print('We speak:')\n",
        "print(*languages_we_speak, sep=',') # outputting all the unique languages we speak"
      ],
      "execution_count": null,
      "outputs": [
        {
          "output_type": "stream",
          "text": [
            "english\n",
            "japanese\n",
            "english\n",
            "french\n",
            "german\n",
            "japanese\n",
            "french\n",
            "chinese\n",
            "end\n",
            "We speak:\n",
            "english,french,german,japanese,chinese\n"
          ],
          "name": "stdout"
        }
      ]
    },
    {
      "cell_type": "markdown",
      "metadata": {
        "id": "66aXm7o_Tz_N"
      },
      "source": [
        "# Set operations\n",
        "\n",
        "![](https://github.com/rogovich/Data/blob/master/img/eiler_1_eng.png?raw=true)"
      ]
    },
    {
      "cell_type": "markdown",
      "metadata": {
        "id": "aAH5bGPnXnTP"
      },
      "source": [
        "If you've ever encountered the sets before than such diagram should be familiar to you. It is called **Euler diagram**. In such diagram circles are used to represent different sets and relations between them.\n",
        "\n",
        "Let's start with an example. Imagine that you and your friend are roommates. And you are considering to take in a pet. So there is a set of pets that you like (`my_pets_list` variable, green + blue areas on the graph): chinchilla, cat, fish, and grass snake. And there is a set of pets that your friend like (`friend_pets_list`, orange + blue areas on the graph): cat, grass snake, dog, python, and chameleon.\n",
        "\n",
        "So on our diagram the blue area is an **intersection** of those two sets — pets that both of you like (cats and grass snakes). Let's find an intersection of two sets via Python. We use an operator `&` for it.\n",
        "\n",
        "For all sets' operations the result would be also a set. You can always save it to a variable if there is a need."
      ]
    },
    {
      "cell_type": "code",
      "metadata": {
        "colab": {
          "base_uri": "https://localhost:8080/"
        },
        "id": "QCHp2nS3Tpdh",
        "outputId": "efefa9db-9d60-41db-cb24-62d2803e9aac"
      },
      "source": [
        "my_pets_list = {'chinchilla', 'fish', 'grass snake', 'cat'}\n",
        "friend_pets_list = {'grass snake', 'cat', 'python', 'chameleon', 'dog'}\n",
        "print(my_pets_list & friend_pets_list) # intersection, blue area on the diagram"
      ],
      "execution_count": null,
      "outputs": [
        {
          "output_type": "stream",
          "text": [
            "{'grass snake', 'cat'}\n"
          ],
          "name": "stdout"
        }
      ]
    },
    {
      "cell_type": "markdown",
      "metadata": {
        "id": "mO1hbZC0Y86y"
      },
      "source": [
        "Then we can find a **union** — a set of pets that *at least one of you likes*. So those pets either belong to your set or your friend's set. In Python to find a union we use an operator `|`."
      ]
    },
    {
      "cell_type": "code",
      "metadata": {
        "colab": {
          "base_uri": "https://localhost:8080/"
        },
        "id": "j-_Qbz1IY7yV",
        "outputId": "ab7a1718-d5c8-4243-c62f-36650101ef1c"
      },
      "source": [
        "print(my_pets_list | friend_pets_list) # union, green + blue + orange areas on the diagram"
      ],
      "execution_count": null,
      "outputs": [
        {
          "output_type": "stream",
          "text": [
            "{'chameleon', 'dog', 'fish', 'grass snake', 'chinchilla', 'cat', 'python'}\n"
          ],
          "name": "stdout"
        }
      ]
    },
    {
      "cell_type": "markdown",
      "metadata": {
        "id": "fKFPAJptZQfd"
      },
      "source": [
        "For the union and intesection it does not matter the order in which you are passing your sets, the result would be the same. But it would matter for a **difference**. Difference is a way to find animals that you like and your friend does not like, and vice versa.\n",
        "\n",
        "To find a difference we us an `-` operator. And please pay attention to set's order."
      ]
    },
    {
      "cell_type": "code",
      "metadata": {
        "colab": {
          "base_uri": "https://localhost:8080/",
          "height": 216
        },
        "id": "Ma6Yw-SCZNpv",
        "outputId": "d708115e-d0d0-4ebd-cae7-9990085965dd"
      },
      "source": [
        "print(my_pets_list - friend_pets_list) # difference, pets that I like and my friend's does not like, green area on the diagram\n",
        "print(friend_pets_list - my_pets_list) # difference, pets that my friend like and I don't like, orange area on the diagram"
      ],
      "execution_count": null,
      "outputs": [
        {
          "output_type": "error",
          "ename": "NameError",
          "evalue": "ignored",
          "traceback": [
            "\u001b[0;31m---------------------------------------------------------------------------\u001b[0m",
            "\u001b[0;31mNameError\u001b[0m                                 Traceback (most recent call last)",
            "\u001b[0;32m<ipython-input-1-a509e39d7757>\u001b[0m in \u001b[0;36m<module>\u001b[0;34m()\u001b[0m\n\u001b[0;32m----> 1\u001b[0;31m \u001b[0mprint\u001b[0m\u001b[0;34m(\u001b[0m\u001b[0mmy_pets_list\u001b[0m \u001b[0;34m-\u001b[0m \u001b[0mfriend_pets_list\u001b[0m\u001b[0;34m)\u001b[0m \u001b[0;31m# difference, pets that I like and my friend's does not like, green area on the diagram\u001b[0m\u001b[0;34m\u001b[0m\u001b[0;34m\u001b[0m\u001b[0m\n\u001b[0m\u001b[1;32m      2\u001b[0m \u001b[0mprint\u001b[0m\u001b[0;34m(\u001b[0m\u001b[0mfriend_pets_list\u001b[0m \u001b[0;34m-\u001b[0m \u001b[0mmy_pets_list\u001b[0m\u001b[0;34m)\u001b[0m \u001b[0;31m# difference, pets that my friend like and I don't like, orange area on the diagram\u001b[0m\u001b[0;34m\u001b[0m\u001b[0;34m\u001b[0m\u001b[0m\n",
            "\u001b[0;31mNameError\u001b[0m: name 'my_pets_list' is not defined"
          ]
        }
      ]
    },
    {
      "cell_type": "markdown",
      "metadata": {
        "id": "ySy19-F3aDsj"
      },
      "source": [
        "Sometimes it would be useful to find a **symmetric difference** — objects that belong only to one of the sets. Or in other words, *objects that do not belong to an intersection of sets*."
      ]
    },
    {
      "cell_type": "code",
      "metadata": {
        "colab": {
          "base_uri": "https://localhost:8080/"
        },
        "id": "mg3YQGnyZ-Z-",
        "outputId": "b66c3965-ecc7-4df9-f9c0-8c3289ffa129"
      },
      "source": [
        "print(friend_pets_list ^ my_pets_list) # symmetric difference, green + orange areas on a chart"
      ],
      "execution_count": null,
      "outputs": [
        {
          "output_type": "stream",
          "text": [
            "{'chameleon', 'dog', 'fish', 'chinchilla', 'python'}\n"
          ],
          "name": "stdout"
        }
      ]
    },
    {
      "cell_type": "markdown",
      "metadata": {
        "id": "xa-jFf2Kagf4"
      },
      "source": [
        "Also we can perfrom several set operations in a row. But keep in mind that they are executed from left to right, and we have to control the order of operations via brackets.\n",
        "\n",
        "E.g. symmetric difference in other words is a difference between a union of two sets and its intersection. Let's compute it in this way."
      ]
    },
    {
      "cell_type": "code",
      "metadata": {
        "colab": {
          "base_uri": "https://localhost:8080/"
        },
        "id": "lXW4lOskaVJs",
        "outputId": "d1f3b2aa-c2c4-4830-810c-21dc3d1da8ff"
      },
      "source": [
        "print(my_pets_list | friend_pets_list - my_pets_list & friend_pets_list)"
      ],
      "execution_count": null,
      "outputs": [
        {
          "output_type": "stream",
          "text": [
            "{'chameleon', 'dog', 'chinchilla', 'fish', 'grass snake', 'cat', 'python'}\n"
          ],
          "name": "stdout"
        }
      ]
    },
    {
      "cell_type": "markdown",
      "metadata": {
        "id": "cA4eKHCebHqd"
      },
      "source": [
        "The result does not look like the result of the operation above. It happened because Python (1) computed an union of two sets, (2) found a difference between that union and `my_pets_list`, (3) intersected the resulting set from (2) with `friend_pets_list` set. Doesn't look like the thing we wanted. Let's help Python by putting brackets around operations we want to be performed first:"
      ]
    },
    {
      "cell_type": "code",
      "metadata": {
        "colab": {
          "base_uri": "https://localhost:8080/"
        },
        "id": "Imk-ibKcbHIm",
        "outputId": "31f90507-07cf-4b30-be75-71e92f6ed344"
      },
      "source": [
        "print((my_pets_list | friend_pets_list) - (my_pets_list & friend_pets_list)) # union - intersection"
      ],
      "execution_count": null,
      "outputs": [
        {
          "output_type": "stream",
          "text": [
            "{'chameleon', 'dog', 'fish', 'chinchilla', 'python'}\n"
          ],
          "name": "stdout"
        }
      ]
    },
    {
      "cell_type": "markdown",
      "metadata": {
        "id": "8A2gWQp7bmHv"
      },
      "source": [
        "Now we've found the symmetric difference."
      ]
    }
  ]
}