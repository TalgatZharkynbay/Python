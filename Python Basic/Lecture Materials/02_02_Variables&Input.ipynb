{
  "nbformat": 4,
  "nbformat_minor": 0,
  "metadata": {
    "kernelspec": {
      "display_name": "Python 3",
      "language": "python",
      "name": "python3"
    },
    "language_info": {
      "codemirror_mode": {
        "name": "ipython",
        "version": 3
      },
      "file_extension": ".py",
      "mimetype": "text/x-python",
      "name": "python",
      "nbconvert_exporter": "python",
      "pygments_lexer": "ipython3",
      "version": "3.7.6"
    },
    "colab": {
      "provenance": []
    }
  },
  "cells": [
    {
      "cell_type": "markdown",
      "metadata": {
        "id": "bqwj-rx7B6B2"
      },
      "source": [
        "# Variables"
      ]
    },
    {
      "cell_type": "markdown",
      "metadata": {
        "id": "GWZG-OVdd3UG"
      },
      "source": [
        "We already know how to print text via Python."
      ]
    },
    {
      "cell_type": "code",
      "metadata": {
        "id": "k2_KAMhV4u8H",
        "colab": {
          "base_uri": "https://localhost:8080/"
        },
        "outputId": "36ee6a32-0a6f-4ea4-9c37-244aaa82698e"
      },
      "source": [
        "print('Hello, world')"
      ],
      "execution_count": null,
      "outputs": [
        {
          "output_type": "stream",
          "text": [
            "Hello, world\n"
          ],
          "name": "stdout"
        }
      ]
    },
    {
      "cell_type": "markdown",
      "metadata": {
        "id": "PPBke1g3eNXP"
      },
      "source": [
        "We may notice that every time we print something via print function, Python prints it on a new line. Let's print some short poem."
      ]
    },
    {
      "cell_type": "code",
      "metadata": {
        "id": "bIWs612r4u8Q",
        "colab": {
          "base_uri": "https://localhost:8080/"
        },
        "outputId": "226e0a59-e5db-4abf-f5b9-a34ae83f176d"
      },
      "source": [
        "print('Two toads, terribly tired')\n",
        "print('Trotted along the road')\n",
        "print('Said toad number one')\n",
        "print('To the toad number two')\n",
        "print('I am tired,')\n",
        "print('And I am carrying the load')"
      ],
      "execution_count": null,
      "outputs": [
        {
          "output_type": "stream",
          "name": "stdout",
          "text": [
            "Two toads, terribly tired\n",
            "Trotted along the road\n",
            "Said toad number one\n",
            "To the toad number two\n",
            "I am tired,\n",
            "And I am carrying the load\n"
          ]
        }
      ]
    },
    {
      "cell_type": "markdown",
      "metadata": {
        "id": "GyVoQX3EhxC8"
      },
      "source": [
        "However, it is not always useful to actually print the text every time we want to use it. We can store something in the computer memory and ask computer to give us the value when we need it. Such stored values are called **variables**."
      ]
    },
    {
      "cell_type": "code",
      "metadata": {
        "id": "GxGoKLokt9LJ",
        "colab": {
          "base_uri": "https://localhost:8080/"
        },
        "outputId": "0ec1fa18-988b-4bfc-858b-ff58203f1f6b"
      },
      "source": [
        "text = 'to be' # let's store text 'to be' into the variable called `text`\n",
        "\n",
        "print(text) # print the variable contents\n",
        "print('or not')\n",
        "print(text) # and once more\n",
        "print('?')"
      ],
      "execution_count": null,
      "outputs": [
        {
          "output_type": "stream",
          "text": [
            "to be\n",
            "or not\n",
            "to be\n",
            "?\n"
          ],
          "name": "stdout"
        }
      ]
    },
    {
      "cell_type": "markdown",
      "metadata": {
        "id": "1dZ0r46JmwY5"
      },
      "source": [
        "Now let's find out how to give some information to python. Let's write a program that will help us design invitation letters to a party. This program should ask for a name of an invitee and then put it inside the text template.\n",
        "\n",
        "1. Via `input()` function we ask Python to create a prompt where we will be able to type something. After the name is typed in, we will store it in the `name` variable.\n",
        "2. Then we will ask Python to print a greeting and `name` contents on the same line.\n",
        "3. Then we will print the rest of the invintation.\n"
      ]
    },
    {
      "cell_type": "code",
      "metadata": {
        "scrolled": true,
        "id": "TCkVZCIE4u8W",
        "colab": {
          "base_uri": "https://localhost:8080/"
        },
        "outputId": "39775b72-f294-4ae4-ac8e-ec75a7a61274"
      },
      "source": [
        "name = input()\n",
        "print('Hi,', name)\n",
        "\n",
        "print(\"You're invited to the World Economics Department party on Saturday. Room 602\")\n"
      ],
      "execution_count": null,
      "outputs": [
        {
          "output_type": "stream",
          "text": [
            "Anna\n",
            "Hi, Anna\n",
            "You're invited to the World Economics Department party on Saturday. Room 602\n"
          ],
          "name": "stdout"
        }
      ]
    },
    {
      "cell_type": "markdown",
      "metadata": {
        "id": "zHtrpcgLiFw4"
      },
      "source": [
        "If we want Python to hint what it is expecting from us, we can put a hint text inside the parentheses of the `input()` function."
      ]
    },
    {
      "cell_type": "code",
      "metadata": {
        "id": "uN-uC_rL4u8e",
        "colab": {
          "base_uri": "https://localhost:8080/"
        },
        "outputId": "671ce657-ffa5-46a7-d128-4a50397e79fb"
      },
      "source": [
        "name = input('Please type in name: ') # now it will give us a hint what does it want us to type\n",
        "print('Hi,', name)\n",
        "print(\"You're invited to the World Economics Department party on Saturday. Room 602\")\n"
      ],
      "execution_count": null,
      "outputs": [
        {
          "output_type": "stream",
          "text": [
            "Please type in name: Misha\n",
            "Hi, Misha\n",
            "You're invited to the World Economics Department party on Saturday. Room 602\n"
          ],
          "name": "stdout"
        }
      ]
    },
    {
      "cell_type": "markdown",
      "metadata": {
        "id": "bOCZAuiipgKb"
      },
      "source": [
        "Please note that we have used different quotation marks in the invitation text. We've used double quotation marks to signal Python that this is the text, because we need to use single quotation mark inside the text as an apostrophe.\n",
        "\n",
        "If we use only single quotes in this case, we will get an error."
      ]
    },
    {
      "cell_type": "code",
      "metadata": {
        "id": "Posg5sFe4u8o",
        "colab": {
          "base_uri": "https://localhost:8080/",
          "height": 130
        },
        "outputId": "2ab2aab8-081b-4c56-bbf2-e580aa39d049"
      },
      "source": [
        "name = input('Please type in name: ')\n",
        "print('Hi,', name)\n",
        "\n",
        "print('You're invited to the World Economics Department party on Saturday. Room 602')\n"
      ],
      "execution_count": null,
      "outputs": [
        {
          "output_type": "error",
          "ename": "SyntaxError",
          "evalue": "ignored",
          "traceback": [
            "\u001b[0;36m  File \u001b[0;32m\"<ipython-input-8-f3eb60835596>\"\u001b[0;36m, line \u001b[0;32m4\u001b[0m\n\u001b[0;31m    print('You're invited to the World Economics Department party on Saturday. Room 602')\u001b[0m\n\u001b[0m                ^\u001b[0m\n\u001b[0;31mSyntaxError\u001b[0m\u001b[0;31m:\u001b[0m invalid syntax\n"
          ]
        }
      ]
    },
    {
      "cell_type": "markdown",
      "metadata": {
        "id": "UJV2LoB1rNnu"
      },
      "source": [
        "We can see that Python is trying to show us where excatly is the problem in the code. And also it tells us that it is a `SyntaxError: invalid syntax` error. It means that we made a mistake with some Python specific punctuation. In our case, we, unfortunately, mixed the quotation marks."
      ]
    },
    {
      "cell_type": "markdown",
      "metadata": {
        "id": "kGzqjZ6Q63aK"
      },
      "source": [
        "If we make mistake in the variable name, we will get another error. Let's try."
      ]
    },
    {
      "cell_type": "code",
      "metadata": {
        "id": "cqcNxCQv7BQm",
        "colab": {
          "base_uri": "https://localhost:8080/",
          "height": 215
        },
        "outputId": "cdb966be-9c1c-4c90-e244-c7239abe927b"
      },
      "source": [
        "name = input('Please type in name: ')\n",
        "print('Hi,', Name) # we are calling 'Name' variable instead of 'name' variable\n",
        "print(\"You're invited to the World Economics Department party on Saturday. Room 602\")\n"
      ],
      "execution_count": null,
      "outputs": [
        {
          "output_type": "stream",
          "text": [
            "Please type in name: Anna\n"
          ],
          "name": "stdout"
        },
        {
          "output_type": "error",
          "ename": "NameError",
          "evalue": "ignored",
          "traceback": [
            "\u001b[0;31m---------------------------------------------------------------------------\u001b[0m",
            "\u001b[0;31mNameError\u001b[0m                                 Traceback (most recent call last)",
            "\u001b[0;32m<ipython-input-9-95cee1ec651d>\u001b[0m in \u001b[0;36m<module>\u001b[0;34m()\u001b[0m\n\u001b[1;32m      1\u001b[0m \u001b[0mname\u001b[0m \u001b[0;34m=\u001b[0m \u001b[0minput\u001b[0m\u001b[0;34m(\u001b[0m\u001b[0;34m'Please type in name: '\u001b[0m\u001b[0;34m)\u001b[0m\u001b[0;34m\u001b[0m\u001b[0;34m\u001b[0m\u001b[0m\n\u001b[0;32m----> 2\u001b[0;31m \u001b[0mprint\u001b[0m\u001b[0;34m(\u001b[0m\u001b[0;34m'Hi,'\u001b[0m\u001b[0;34m,\u001b[0m \u001b[0mName\u001b[0m\u001b[0;34m)\u001b[0m \u001b[0;31m# we are calling 'Name' variable instead of 'name' variable\u001b[0m\u001b[0;34m\u001b[0m\u001b[0;34m\u001b[0m\u001b[0m\n\u001b[0m\u001b[1;32m      3\u001b[0m \u001b[0mprint\u001b[0m\u001b[0;34m(\u001b[0m\u001b[0;34m\"You're invited to the World Economics Department party on Saturday. Room 602\"\u001b[0m\u001b[0;34m)\u001b[0m\u001b[0;34m\u001b[0m\u001b[0;34m\u001b[0m\u001b[0m\n",
            "\u001b[0;31mNameError\u001b[0m: name 'Name' is not defined"
          ]
        }
      ]
    },
    {
      "cell_type": "markdown",
      "metadata": {
        "id": "YuW3vXNfvFxS"
      },
      "source": [
        "`NameError` is a type of error when you've mixed up variables names. In the case above we called variable `Name` which does not exist since Python is case-specififc.\n",
        "\n",
        "Another way to get an error is to start a variable name via digit. It is prohibited in Python."
      ]
    },
    {
      "cell_type": "code",
      "metadata": {
        "id": "WCejnZ_wvYqm",
        "colab": {
          "base_uri": "https://localhost:8080/",
          "height": 130
        },
        "outputId": "eb25120a-3ffc-4159-a935-2c8ee076514e"
      },
      "source": [
        "1st_name = input('Your first name: ')\n",
        "last_name = input('Your last name: ')\n",
        "print('Hi,', 1st_name, last_name)"
      ],
      "execution_count": null,
      "outputs": [
        {
          "output_type": "error",
          "ename": "SyntaxError",
          "evalue": "ignored",
          "traceback": [
            "\u001b[0;36m  File \u001b[0;32m\"<ipython-input-10-49cbb7302992>\"\u001b[0;36m, line \u001b[0;32m1\u001b[0m\n\u001b[0;31m    1st_name = input('Your first name: ')\u001b[0m\n\u001b[0m           ^\u001b[0m\n\u001b[0;31mSyntaxError\u001b[0m\u001b[0;31m:\u001b[0m invalid syntax\n"
          ]
        }
      ]
    },
    {
      "cell_type": "markdown",
      "metadata": {
        "id": "ZSBm-6StshiA"
      },
      "source": [
        "In this case we will get a `SyntaxError`."
      ]
    }
  ]
}