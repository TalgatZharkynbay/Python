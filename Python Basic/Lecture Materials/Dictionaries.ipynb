{
  "nbformat": 4,
  "nbformat_minor": 0,
  "metadata": {
    "colab": {
      "provenance": []
    },
    "kernelspec": {
      "name": "python3",
      "display_name": "Python 3"
    },
    "language_info": {
      "name": "python"
    }
  },
  "cells": [
    {
      "cell_type": "markdown",
      "metadata": {
        "id": "dg9OOsVS2Xnd"
      },
      "source": [
        "# Dictionaries\n",
        "\n",
        "It's often convenient to store objects in pairs. In such manner we store a word and its translation in a dictionary; a name and a phone number in a contact book, etc. We have such a data type in Python which will help us to store things in a similair manner. It's called **dictionary**.\n",
        "\n",
        "To create a dictionary we use curly brackets, but we list **not single objects**, but **pairs of objects**."
      ]
    },
    {
      "cell_type": "code",
      "metadata": {
        "colab": {
          "base_uri": "https://localhost:8080/"
        },
        "id": "vVlUMkIG18t0",
        "outputId": "ae1ce515-1c3c-4164-9dfb-05bf5d55c8c5"
      },
      "source": [
        "d = {'apple': 'fruit' , 'hello': 'word'}\n",
        "print(d)\n",
        "print(type(d))"
      ],
      "execution_count": null,
      "outputs": [
        {
          "output_type": "stream",
          "text": [
            "{'apple': 'fruit', 'hello': 'word'}\n",
            "<class 'dict'>\n"
          ],
          "name": "stdout"
        }
      ]
    },
    {
      "cell_type": "markdown",
      "metadata": {
        "id": "cQ7O8X-I3zqa"
      },
      "source": [
        "We see that Python indeed stores items together. *Pairs in dictionary are divided by commas, and objects within pairs are divided by colons.*\n",
        "\n",
        "In the same way as sets, dictionaries are *unordered collections of objects*. Meaning we cannot use indexing."
      ]
    },
    {
      "cell_type": "code",
      "metadata": {
        "colab": {
          "base_uri": "https://localhost:8080/",
          "height": 162
        },
        "id": "R-FoXkac3vzP",
        "outputId": "d356914e-3927-43c3-8f25-6500e17ef665"
      },
      "source": [
        "d[0] # produces an error"
      ],
      "execution_count": null,
      "outputs": [
        {
          "output_type": "error",
          "ename": "KeyError",
          "evalue": "ignored",
          "traceback": [
            "\u001b[0;31m---------------------------------------------------------------------------\u001b[0m",
            "\u001b[0;31mKeyError\u001b[0m                                  Traceback (most recent call last)",
            "\u001b[0;32m<ipython-input-3-50846420d736>\u001b[0m in \u001b[0;36m<module>\u001b[0;34m()\u001b[0m\n\u001b[0;32m----> 1\u001b[0;31m \u001b[0md\u001b[0m\u001b[0;34m[\u001b[0m\u001b[0;36m0\u001b[0m\u001b[0;34m]\u001b[0m \u001b[0;31m# produces an error\u001b[0m\u001b[0;34m\u001b[0m\u001b[0;34m\u001b[0m\u001b[0m\n\u001b[0m",
            "\u001b[0;31mKeyError\u001b[0m: 0"
          ]
        }
      ]
    },
    {
      "cell_type": "markdown",
      "metadata": {
        "id": "mgOHnSpC4ivK"
      },
      "source": [
        "But in contrast to sets, there is a way to get an item out of a dictionary. Actually, those pairs of objects are called `key:value` pairs, where the `key` part (object that goes BEFORE the colon) plays a similiar role to an index in a list or a string. Imagine that we do not simply store objects (`values`, objects that go AFTER the colon) within a dictionary, but labeling them."
      ]
    },
    {
      "cell_type": "code",
      "metadata": {
        "colab": {
          "base_uri": "https://localhost:8080/"
        },
        "id": "M_GSMdsx4foW",
        "outputId": "935f0386-e3f2-485c-c552-13ca9cf40285"
      },
      "source": [
        "d = {'apple': 'fruit' , 'hello': 'world'}\n",
        "print(d['apple']) # give me an item stored under the label 'apple'\n",
        "print(d['hello']) # give me an item stored under the label 'hello'"
      ],
      "execution_count": null,
      "outputs": [
        {
          "output_type": "stream",
          "text": [
            "fruit\n",
            "world\n"
          ],
          "name": "stdout"
        }
      ]
    },
    {
      "cell_type": "markdown",
      "metadata": {
        "id": "ng_2qLvm5S9b"
      },
      "source": [
        "So it seems that if we know the `key` we can call the `value`. Will it work other way around?"
      ]
    },
    {
      "cell_type": "code",
      "metadata": {
        "colab": {
          "base_uri": "https://localhost:8080/",
          "height": 162
        },
        "id": "AfecDVJp5Dtq",
        "outputId": "c8717dad-7f24-4465-b5a8-704f7725ee92"
      },
      "source": [
        "print(d['fruit']) # it will produce an error since 'fruit' is not a key"
      ],
      "execution_count": null,
      "outputs": [
        {
          "output_type": "error",
          "ename": "KeyError",
          "evalue": "ignored",
          "traceback": [
            "\u001b[0;31m---------------------------------------------------------------------------\u001b[0m",
            "\u001b[0;31mKeyError\u001b[0m                                  Traceback (most recent call last)",
            "\u001b[0;32m<ipython-input-13-9cff5cafa022>\u001b[0m in \u001b[0;36m<module>\u001b[0;34m()\u001b[0m\n\u001b[0;32m----> 1\u001b[0;31m \u001b[0mprint\u001b[0m\u001b[0;34m(\u001b[0m\u001b[0md\u001b[0m\u001b[0;34m[\u001b[0m\u001b[0;34m'fruit'\u001b[0m\u001b[0;34m]\u001b[0m\u001b[0;34m)\u001b[0m \u001b[0;31m# it will produce an error since 'fruit' is not a key\u001b[0m\u001b[0;34m\u001b[0m\u001b[0;34m\u001b[0m\u001b[0m\n\u001b[0m",
            "\u001b[0;31mKeyError\u001b[0m: 'fruit'"
          ]
        }
      ]
    },
    {
      "cell_type": "markdown",
      "metadata": {
        "id": "V557PpN05mbL"
      },
      "source": [
        "Thus we see that `keys` and `values` behave a bit differently and here come their features.\n",
        "\n",
        "* `Keys` can be only immutable objects. A list, a set, or a dictionary cannot be a key. But anything can be a `value`. In the future we will use a lot of dictionaries, where `values` are the lists.\n",
        "* `Keys` can be only unique whereas the `values` can be non-unique."
      ]
    },
    {
      "cell_type": "code",
      "metadata": {
        "colab": {
          "base_uri": "https://localhost:8080/"
        },
        "id": "aGWcYOXw5l2V",
        "outputId": "f42871da-c19a-4b66-9f6f-d9d911ec43d7"
      },
      "source": [
        "example_d = {'cat':'str', 1:'int', False:'bool', (7,8):'tuple', 'dog':'str'}\n",
        "print(example_d) # different data types act as keys, also note that the value 'str' are repeated twice"
      ],
      "execution_count": null,
      "outputs": [
        {
          "output_type": "stream",
          "text": [
            "{'cat': 'str', 1: 'int', False: 'bool', (7, 8): 'tuple', 'dog': 'str'}\n"
          ],
          "name": "stdout"
        }
      ]
    },
    {
      "cell_type": "markdown",
      "metadata": {
        "id": "35w8F2mF66FU"
      },
      "source": [
        "To create a new `key:value` pair we call the key from a dictionary and assign a value to it in the same manner as we've been assigning things to variables."
      ]
    },
    {
      "cell_type": "code",
      "metadata": {
        "colab": {
          "base_uri": "https://localhost:8080/"
        },
        "id": "pWFVCC1m5iWZ",
        "outputId": "f0d662eb-c3d7-43fb-ca14-72528c495781"
      },
      "source": [
        "d = {'apple': 'fruit' , 'hello': 'word'}\n",
        "d['python'] = 'programming language' # creating a new key:value pair\n",
        "print(d) # checking our dictionary"
      ],
      "execution_count": null,
      "outputs": [
        {
          "output_type": "stream",
          "text": [
            "{'apple': 'fruit', 'hello': 'word', 'python': 'programming language'}\n"
          ],
          "name": "stdout"
        }
      ]
    },
    {
      "cell_type": "markdown",
      "metadata": {
        "id": "Rd6ccEB07qnR"
      },
      "source": [
        "What will happen if we decide to assign a new value to a key that already exists in a dictionary? Since keys can be only unique it will not create a new pair of objects but rather will rewrite the value assigned to that key."
      ]
    },
    {
      "cell_type": "code",
      "metadata": {
        "colab": {
          "base_uri": "https://localhost:8080/"
        },
        "id": "4oFNjZm77nNP",
        "outputId": "3be9a238-cdac-42cc-a452-4fc901ea09de"
      },
      "source": [
        "d['hello'] = 'greeting'\n",
        "print(d) # value assigned to the key 'hello' changed to 'greeting'"
      ],
      "execution_count": null,
      "outputs": [
        {
          "output_type": "stream",
          "text": [
            "{'apple': 'fruit', 'python': 'programming language', 'hello': 'greeting'}\n"
          ],
          "name": "stdout"
        }
      ]
    },
    {
      "cell_type": "markdown",
      "metadata": {
        "id": "75KlpXEJ8P-h"
      },
      "source": [
        "If we ever need to remove `key:value` pair from a dictionary, we can do it like this:"
      ]
    },
    {
      "cell_type": "code",
      "metadata": {
        "colab": {
          "base_uri": "https://localhost:8080/"
        },
        "id": "Hs9R5gw48IVB",
        "outputId": "f6718572-ba51-4028-df3d-114a84e12144"
      },
      "source": [
        "del d['hello'] # this will delete pair 'hello': 'greeting' from a dictionary d\n",
        "print(d)"
      ],
      "execution_count": null,
      "outputs": [
        {
          "output_type": "stream",
          "text": [
            "{'apple': 'fruit', 'python': 'programming language'}\n"
          ],
          "name": "stdout"
        }
      ]
    },
    {
      "cell_type": "markdown",
      "metadata": {
        "id": "h-Xzm1708uoS"
      },
      "source": [
        "# How to create a dictionary?"
      ]
    },
    {
      "cell_type": "markdown",
      "metadata": {
        "id": "Flg9tjW_8xp1"
      },
      "source": [
        "Here are some situations when it is convenient to use a dictionary.\n",
        "Imagine that we have two lists corresponding to each other: list with students names and their GPA. It would be more convenient to store such data as an dictionary where keys would be students names and values — GPAs."
      ]
    },
    {
      "cell_type": "code",
      "metadata": {
        "colab": {
          "base_uri": "https://localhost:8080/"
        },
        "id": "wfMW7fCu8coG",
        "outputId": "76f690f3-3d56-4f24-e131-b61521183fa8"
      },
      "source": [
        "students = ['Anna', 'Li', 'Tanaka']\n",
        "gpa = [8.9, 9.2, 7.8]\n",
        "\n",
        "grades = {} # creating an empty dictionary\n",
        "for i in range(len(students)):\n",
        "  grades[students[i]] = gpa[i] # for each student creating a key within a dictionary and assigning a corresponding GPA to it\n",
        "\n",
        "print(grades)"
      ],
      "execution_count": null,
      "outputs": [
        {
          "output_type": "stream",
          "text": [
            "{'Anna': 8.9, 'Li': 9.2, 'Tanaka': 7.8}\n"
          ],
          "name": "stdout"
        }
      ]
    },
    {
      "cell_type": "markdown",
      "metadata": {
        "id": "NCdVIaGs9rGm"
      },
      "source": [
        "The second case that you would encounter often would be the situation when you are reading strings into a dictionary. Imagine that we again have the students and their GPAs, but now we don't know how many students are there and we read information line by line, written for each student in a format '{NAME} - {GPA}'."
      ]
    },
    {
      "cell_type": "code",
      "metadata": {
        "colab": {
          "base_uri": "https://localhost:8080/"
        },
        "id": "J8QAGr279iGE",
        "outputId": "1441f8b6-34e3-4e23-f43b-36a36c8a4b7e"
      },
      "source": [
        "grades = {} # creating an empty dictionary\n",
        "\n",
        "student = input()\n",
        "while student != 'end':\n",
        "  key = student.split(' - ')[0] # assigning the first part of a string to the `key` variable\n",
        "  value = float(student.split(' - ')[1]) # assigning the second part of a string to the `value` variable\n",
        "  grades[key] = value # creating a key:value pair for that student in our dictionary\n",
        "  student = input()\n",
        "\n",
        "print(grades)"
      ],
      "execution_count": null,
      "outputs": [
        {
          "output_type": "stream",
          "text": [
            "Anna - 8.9\n",
            "Li - 9.2\n",
            "Tanaka - 7.8\n",
            "end\n",
            "{'Anna': 8.9, 'Li': 9.2, 'Tanaka': 7.8}\n"
          ],
          "name": "stdout"
        }
      ]
    },
    {
      "cell_type": "markdown",
      "metadata": {
        "id": "LZMd0atU_NZg"
      },
      "source": [
        "# Operations with dictionaries\n",
        "\n",
        "We can perform many operations that we already know to a dictionary. E.g. we can check the length of a dictionary. Here the length would be the number of `key:value` pairs."
      ]
    },
    {
      "cell_type": "code",
      "metadata": {
        "colab": {
          "base_uri": "https://localhost:8080/"
        },
        "id": "OcRqzNR2-nEm",
        "outputId": "26b26407-ff68-4f26-861b-ce1014466b42"
      },
      "source": [
        "grades = {'Anna': 8.9, 'Li': 9.2, 'Tanaka': 7.8}\n",
        "print(len(grades)) # there three `key:value` pairs in our dictionary"
      ],
      "execution_count": null,
      "outputs": [
        {
          "output_type": "stream",
          "text": [
            "3\n"
          ],
          "name": "stdout"
        }
      ]
    },
    {
      "cell_type": "markdown",
      "metadata": {
        "id": "OtCcJHYd_kSB"
      },
      "source": [
        "We can also check if something belongs to a dictionary via `in` operator. But be careful, here we can check only if something belongs to the keys of a dictionary."
      ]
    },
    {
      "cell_type": "code",
      "metadata": {
        "colab": {
          "base_uri": "https://localhost:8080/"
        },
        "id": "X4sFl2Hh_PMD",
        "outputId": "a16205b2-0688-45df-bb97-2ff2b7b86da7"
      },
      "source": [
        "print('Anna' in grades) # True since 'Anna' is among the keys of a dictionary\n",
        "print(8.9 in grades) # False since `in` not checking the values"
      ],
      "execution_count": null,
      "outputs": [
        {
          "output_type": "stream",
          "text": [
            "True\n",
            "False\n"
          ],
          "name": "stdout"
        }
      ]
    },
    {
      "cell_type": "markdown",
      "metadata": {
        "id": "d54OGhlZAGow"
      },
      "source": [
        "If we want to check that something belongs to the values of a dictionary, we should use method `.values()` that produces list-like object of all values in that dictionary. There is also the method `.keys()` that works in a similiar manner, but we use it less often."
      ]
    },
    {
      "cell_type": "code",
      "metadata": {
        "colab": {
          "base_uri": "https://localhost:8080/"
        },
        "id": "_N-5bzLLAg6k",
        "outputId": "0a0ac0d8-2fe6-4f00-c6ad-5c035e8de266"
      },
      "source": [
        "print(grades.keys()) # all keys of our dictionary\n",
        "print(grades.values()) # all values of our dictionary"
      ],
      "execution_count": null,
      "outputs": [
        {
          "output_type": "stream",
          "text": [
            "dict_keys(['Anna', 'Li', 'Tanaka'])\n",
            "dict_values([8.9, 9.2, 7.8])\n"
          ],
          "name": "stdout"
        }
      ]
    },
    {
      "cell_type": "code",
      "metadata": {
        "colab": {
          "base_uri": "https://localhost:8080/"
        },
        "id": "rfWMGjHx_3_-",
        "outputId": "c750e263-8d2c-4f4c-b707-720b2bc08252"
      },
      "source": [
        "print(8.9 in grades) # False since 8.9 is not among the keys of `grades`\n",
        "print(8.9 in grades.keys()) # Basically does the same as the line above\n",
        "print(8.9 in grades.values()) # True since 8.9 actually belongs to the values of `grades`"
      ],
      "execution_count": null,
      "outputs": [
        {
          "output_type": "stream",
          "text": [
            "False\n",
            "False\n",
            "True\n"
          ],
          "name": "stdout"
        }
      ]
    },
    {
      "cell_type": "markdown",
      "metadata": {
        "id": "CeyTrwboA2l0"
      },
      "source": [
        "Imagine that we have an English-Russian dictionary stored as a Python dictionary, where the words in English are keys and the words in Russian are values. The code below is checking whether the inputted word is in English (belongs to the keys of our dictionary), in Russian (belongs to the values of our dictionary), or does not belong to a dictionary at all."
      ]
    },
    {
      "cell_type": "code",
      "metadata": {
        "colab": {
          "base_uri": "https://localhost:8080/"
        },
        "id": "AfML-MPVAtJi",
        "outputId": "4ab02df3-1327-478c-f0bb-fc87397c0f46"
      },
      "source": [
        "eng_rus = {'apple': 'яблоко', 'hello': 'привет', 'python': 'питон', 'mouse': 'мышь'}\n",
        "\n",
        "print(eng_rus.keys())\n",
        "print(eng_rus.values())\n",
        "\n",
        "word = input()\n",
        "if word in eng_rus: # if the word is among the keys\n",
        "  print('The word is in English:', word) # print that it is an English word\n",
        "elif word in eng_rus.values(): # if the word is among the values\n",
        "  print('The word is in Russian:', word) # print that it is a Russian word\n",
        "else: # if there is no such word in our dictionary\n",
        "  print('There is no such word in our dictionary.') # print that we don't have it"
      ],
      "execution_count": null,
      "outputs": [
        {
          "output_type": "stream",
          "text": [
            "dict_keys(['apple', 'hello', 'python', 'mouse'])\n",
            "dict_values(['яблоко', 'привет', 'питон', 'мышь'])\n",
            "apple\n",
            "The word is in English: apple\n"
          ],
          "name": "stdout"
        }
      ]
    },
    {
      "cell_type": "markdown",
      "metadata": {
        "id": "IuIPrMvhB0TI"
      },
      "source": [
        "We also can loop through our dictionary, but note that Python will go through all the keys."
      ]
    },
    {
      "cell_type": "code",
      "metadata": {
        "colab": {
          "base_uri": "https://localhost:8080/"
        },
        "id": "pGF02THMBkvA",
        "outputId": "30a0237e-8d0d-4ccb-ea47-96176fa01b5b"
      },
      "source": [
        "grades = {'Anna': 8.9, 'Li': 9.2, 'Tanaka': 7.8}\n",
        "\n",
        "for key in grades:\n",
        "  print(key) # this will print only student names"
      ],
      "execution_count": null,
      "outputs": [
        {
          "output_type": "stream",
          "text": [
            "Anna\n",
            "Li\n",
            "Tanaka\n"
          ],
          "name": "stdout"
        }
      ]
    },
    {
      "cell_type": "markdown",
      "metadata": {
        "id": "XhNxiUqpCD9-"
      },
      "source": [
        "However, it is easy to get values as well. We just need to call it within the loop."
      ]
    },
    {
      "cell_type": "code",
      "metadata": {
        "colab": {
          "base_uri": "https://localhost:8080/"
        },
        "id": "Cs3apzxSCAit",
        "outputId": "2d6d8ad6-0744-4411-c25c-1e30ee663aed"
      },
      "source": [
        "grades = {'Anna': 8.9, 'Li': 9.2, 'Tanaka': 7.8}\n",
        "\n",
        "for key  in grades:\n",
        "  print('Name:', key)\n",
        "  print('Grade:', grades[key]) # printing the grade assigned to the name in the `key` variable\n",
        "  print('*'*10) # printing 10 starts to separate one student from the next"
      ],
      "execution_count": null,
      "outputs": [
        {
          "output_type": "stream",
          "text": [
            "Name: Anna\n",
            "Grade: 8.9\n",
            "**********\n",
            "Name: Li\n",
            "Grade: 9.2\n",
            "**********\n",
            "Name: Tanaka\n",
            "Grade: 7.8\n",
            "**********\n"
          ],
          "name": "stdout"
        }
      ]
    },
    {
      "cell_type": "markdown",
      "metadata": {
        "id": "aqb0UwRhCgTS"
      },
      "source": [
        "Now let's add the condition. Let's print info only for those students, whose GPA is higher or equal to 8."
      ]
    },
    {
      "cell_type": "code",
      "metadata": {
        "colab": {
          "base_uri": "https://localhost:8080/"
        },
        "id": "q4o7FAYbCWtn",
        "outputId": "495d0301-036b-42cf-d3a8-226227816c0b"
      },
      "source": [
        "grades = {'Anna': 8.9, 'Li': 9.2, 'Tanaka': 7.8}\n",
        "\n",
        "for key  in grades:\n",
        "  if grades[key] >= 8: # checking GPA\n",
        "    print('Name:', key)\n",
        "    print('Grade:', grades[key])\n",
        "    print('*'*10)"
      ],
      "execution_count": null,
      "outputs": [
        {
          "output_type": "stream",
          "text": [
            "Name: Anna\n",
            "Grade: 8.9\n",
            "**********\n",
            "Name: Li\n",
            "Grade: 9.2\n",
            "**********\n"
          ],
          "name": "stdout"
        }
      ]
    },
    {
      "cell_type": "markdown",
      "metadata": {
        "id": "OfkDc1GYDAX2"
      },
      "source": [
        "Let's go back to our ENG-RUS dictionary example and now we will print the translation of the word to Russian if it was in English or to English if it was in Russian."
      ]
    },
    {
      "cell_type": "code",
      "metadata": {
        "colab": {
          "base_uri": "https://localhost:8080/"
        },
        "id": "sIotviE1DCaV",
        "outputId": "94c9d7bf-4d82-4013-e072-4182e84dc50d"
      },
      "source": [
        "eng_rus = {'apple': 'яблоко', 'hello': 'привет', 'python': 'питон', 'mouse': 'мышь'}\n",
        "\n",
        "word = input() # which word to check?\n",
        "\n",
        "if word in eng_rus: # if the word is among the keys\n",
        "  print(eng_rus[word]) # print the value assigned to it\n",
        "elif word in eng_rus.values(): # if the word is among the values\n",
        "  for item in eng_rus: # go through each key then\n",
        "    if eng_rus[item] == word: # and compare its' value to an inputted word\n",
        "      print(item) # if it is the same, then print the key to which that value is assigned\n",
        "else: # if there is no such word among both the keys and the values\n",
        "  print('No such word in the dictionary') # then print that we don't have it"
      ],
      "execution_count": null,
      "outputs": [
        {
          "output_type": "stream",
          "text": [
            "привет\n",
            "hello\n"
          ],
          "name": "stdout"
        }
      ]
    }
  ]
}