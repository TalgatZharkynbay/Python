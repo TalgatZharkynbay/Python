{
  "nbformat": 4,
  "nbformat_minor": 0,
  "metadata": {
    "kernelspec": {
      "display_name": "Python 3",
      "language": "python",
      "name": "python3"
    },
    "language_info": {
      "codemirror_mode": {
        "name": "ipython",
        "version": 3
      },
      "file_extension": ".py",
      "mimetype": "text/x-python",
      "name": "python",
      "nbconvert_exporter": "python",
      "pygments_lexer": "ipython3",
      "version": "3.7.6"
    },
    "colab": {
      "provenance": []
    }
  },
  "cells": [
    {
      "cell_type": "markdown",
      "metadata": {
        "id": "Ry0G3jEjCLnw"
      },
      "source": [
        "# Data Types"
      ]
    },
    {
      "cell_type": "markdown",
      "metadata": {
        "id": "dRcZ7syRyiz-"
      },
      "source": [
        "We, as people, constantly classify things. We can easily tell a bicycle from a car, and we know instantly how we should use them. All cars are different, but when you hear the word 'car' you have some basic understanding of what is it. This skill of typing of the world helps us to make sense of it.\n",
        "\n",
        "Python also can work with different kinds of objects and also has an abitility of typing them. The most basic of Python data types are the following:\n",
        "* *Integers*. We use them if we want to count apples (2 apples or 10 apples).\n",
        "* *Floating point numbers*. We use them when we want to buy a 1.5 liter of Coca-Cola\n",
        "* *Strings*. We use them when we want to type something or to print something."
      ]
    },
    {
      "cell_type": "markdown",
      "metadata": {
        "id": "B9AfylQa6yF_"
      },
      "source": [
        "What can computer do with integers?"
      ]
    },
    {
      "cell_type": "code",
      "metadata": {
        "id": "3KeiVJF_60wN",
        "colab": {
          "base_uri": "https://localhost:8080/"
        },
        "outputId": "132384d8-3b23-4058-e6ea-f88574008539"
      },
      "source": [
        "print(11 + 2)  # addition\n",
        "print(11 - 2)  # subtraction\n",
        "print(11 * 2)  # multiplication\n",
        "print(11 / 2)  # division"
      ],
      "execution_count": null,
      "outputs": [
        {
          "output_type": "stream",
          "text": [
            "13\n",
            "9\n",
            "22\n",
            "5.5\n"
          ],
          "name": "stdout"
        }
      ]
    },
    {
      "cell_type": "markdown",
      "metadata": {
        "id": "7ZC0ANzG8byi"
      },
      "source": [
        "Also Python can perform an integer division. We use that if we want to find out how many apples can two friends get if they divide them equally. Also we can find a reminder of such division. E.g. how many apples will be left if there were two friends and an odd number of apples."
      ]
    },
    {
      "cell_type": "code",
      "metadata": {
        "id": "6PY81ubX9e_6",
        "colab": {
          "base_uri": "https://localhost:8080/"
        },
        "outputId": "e55de49e-b1a6-4683-fbf4-c5c2e39d111f"
      },
      "source": [
        "print(11 // 2)  # Integer division — each friend will get five apples\n",
        "print(11 % 2)   # Modulo — reminder of division — one apples is left undistributed"
      ],
      "execution_count": null,
      "outputs": [
        {
          "output_type": "stream",
          "text": [
            "5\n",
            "1\n"
          ],
          "name": "stdout"
        }
      ]
    },
    {
      "cell_type": "markdown",
      "metadata": {
        "id": "XLtsP0s3EHPE"
      },
      "source": [
        "We can perform all the same operations to the floating point numbers as well.\n",
        "\n"
      ]
    },
    {
      "cell_type": "code",
      "metadata": {
        "id": "mO5QzdcWJOP1",
        "colab": {
          "base_uri": "https://localhost:8080/"
        },
        "outputId": "08bed78a-0c24-450a-93cd-62eb09f12239"
      },
      "source": [
        "print(11.5 + 2)  # addition\n",
        "print(11.5 - 2)  # subtraction\n",
        "print(11.5 * 2)  # multiplication\n",
        "print(11.5 / 2)  # division\n",
        "\n",
        "print(11.5 // 2)    # integer division\n",
        "print(11.5 % 2)     # modulo"
      ],
      "execution_count": null,
      "outputs": [
        {
          "output_type": "stream",
          "text": [
            "13.5\n",
            "9.5\n",
            "23.0\n",
            "5.75\n",
            "5.0\n",
            "1.5\n"
          ],
          "name": "stdout"
        }
      ]
    },
    {
      "cell_type": "markdown",
      "metadata": {
        "id": "UntzzYZp_nEE"
      },
      "source": [
        "Of course, Python can raise numbers to a power."
      ]
    },
    {
      "cell_type": "code",
      "metadata": {
        "id": "ySPmJ-xy_mC7",
        "colab": {
          "base_uri": "https://localhost:8080/"
        },
        "outputId": "899991f4-dbda-4bcc-ef05-bcf585fc0e55"
      },
      "source": [
        "print(3 ** 2)  # 3 to 2nd power\n",
        "print(3 ** 3)  # 3 to 3rd power\n",
        "\n",
        "print(3.5 ** 2) # 3.4 to 2nd power"
      ],
      "execution_count": null,
      "outputs": [
        {
          "output_type": "stream",
          "text": [
            "9\n",
            "27\n",
            "12.25\n"
          ],
          "name": "stdout"
        }
      ]
    },
    {
      "cell_type": "markdown",
      "metadata": {
        "id": "hCBbdClsC9dg"
      },
      "source": [
        "Ok, we get it. But what can we do with strings?"
      ]
    },
    {
      "cell_type": "code",
      "metadata": {
        "id": "SvZUTu4kDDPU",
        "colab": {
          "base_uri": "https://localhost:8080/"
        },
        "outputId": "89d505af-ef28-4b24-cef4-78aa98b3c9a2"
      },
      "source": [
        "print('Hello' + 'world')  # we can 'glue' them together\n",
        "print('Hello' + ' ' + 'world')  # if we need a space, we'll need to glue it as well\n",
        "print('Hello ' + 'world') # or put a space inside one of the strings\n",
        "\n",
        "print('OneMoreTime!' * 4)  # or we can repeat a string for N number of times"
      ],
      "execution_count": null,
      "outputs": [
        {
          "output_type": "stream",
          "text": [
            "Helloworld\n",
            "Hello world\n",
            "Hello world\n",
            "OneMoreTime!OneMoreTime!OneMoreTime!OneMoreTime!\n"
          ],
          "name": "stdout"
        }
      ]
    },
    {
      "cell_type": "markdown",
      "metadata": {
        "id": "itp2_h8ypJs6"
      },
      "source": [
        "How much is 19920630 + 1?"
      ]
    },
    {
      "cell_type": "code",
      "metadata": {
        "scrolled": false,
        "id": "7gZg9sw6Qxya",
        "colab": {
          "base_uri": "https://localhost:8080/",
          "height": 71
        },
        "outputId": "181d4a8a-34e5-4b8d-dad1-c9efe44610da"
      },
      "source": [
        "print('19920630' + '1')   # if they are strings, result would be somewhat surprising\n",
        "print(19920630 + 1)       # if they integers, we will get an integer\n",
        "print(19920630 + 1.0)     # if at least one of them is a float, we will get a float"
      ],
      "execution_count": null,
      "outputs": [
        {
          "output_type": "stream",
          "text": [
            "199206301\n",
            "19920631\n",
            "19920631.0\n"
          ],
          "name": "stdout"
        }
      ]
    },
    {
      "cell_type": "markdown",
      "metadata": {
        "id": "HohzXaFCCeQV"
      },
      "source": [
        "What will happen if we add an integer to a string?\n",
        "\n"
      ]
    },
    {
      "cell_type": "code",
      "metadata": {
        "id": "8OSJyEMpCkwD",
        "colab": {
          "base_uri": "https://localhost:8080/",
          "height": 170
        },
        "outputId": "0981396d-250e-4b1e-f739-b395cf01e242"
      },
      "source": [
        "print('19920630' + 1)"
      ],
      "execution_count": null,
      "outputs": [
        {
          "output_type": "error",
          "ename": "TypeError",
          "evalue": "ignored",
          "traceback": [
            "\u001b[0;31m---------------------------------------------------------------------------\u001b[0m",
            "\u001b[0;31mTypeError\u001b[0m                                 Traceback (most recent call last)",
            "\u001b[0;32m<ipython-input-2-30ced9093fc8>\u001b[0m in \u001b[0;36m<module>\u001b[0;34m()\u001b[0m\n\u001b[0;32m----> 1\u001b[0;31m \u001b[0mprint\u001b[0m\u001b[0;34m(\u001b[0m\u001b[0;34m'19920630'\u001b[0m \u001b[0;34m+\u001b[0m \u001b[0;36m1\u001b[0m\u001b[0;34m)\u001b[0m\u001b[0;34m\u001b[0m\u001b[0;34m\u001b[0m\u001b[0m\n\u001b[0m",
            "\u001b[0;31mTypeError\u001b[0m: must be str, not int"
          ]
        }
      ]
    },
    {
      "cell_type": "markdown",
      "metadata": {
        "id": "pBdkgqZPC0ft"
      },
      "source": [
        "`TypeError: must be str`: we will get an error. Python cannot add those two different types, it can either glue two strings together, or sum up two integers."
      ]
    },
    {
      "cell_type": "markdown",
      "metadata": {
        "id": "L-nglL5jJl6_"
      },
      "source": [
        "Let's find out how to tell Python to convert one data type to another."
      ]
    },
    {
      "cell_type": "code",
      "metadata": {
        "id": "pHEd_jLTJ9j4",
        "colab": {
          "base_uri": "https://localhost:8080/"
        },
        "outputId": "1253ccf7-5bb2-4774-d07f-00bb79fec359"
      },
      "source": [
        "a = input('Type in a number: ')\n",
        "b = input('And another one: ')\n",
        "print(a + b)"
      ],
      "execution_count": null,
      "outputs": [
        {
          "output_type": "stream",
          "text": [
            "Type in a number: 4\n",
            "And another one: 2\n",
            "42\n"
          ],
          "name": "stdout"
        }
      ]
    },
    {
      "cell_type": "markdown",
      "metadata": {
        "id": "8uXHupckAq1A"
      },
      "source": [
        "We definitely did not get a sum of two integers. Let's use a function `type() ` to find out what are the types of the values stored in the variables `a` and `b` :"
      ]
    },
    {
      "cell_type": "code",
      "metadata": {
        "id": "VjxD45oVAx3k",
        "colab": {
          "base_uri": "https://localhost:8080/"
        },
        "outputId": "579ab0a5-1ba5-4a1d-be98-f27642196203"
      },
      "source": [
        "a = input('Type in a number: ')\n",
        "b = input('And another one: ')\n",
        "print(type(a), type(b))\n",
        "print(a + b)\n"
      ],
      "execution_count": null,
      "outputs": [
        {
          "output_type": "stream",
          "text": [
            "Type in a number: 4\n",
            "And another one: 2\n",
            "<class 'str'> <class 'str'>\n",
            "42\n"
          ],
          "name": "stdout"
        }
      ]
    },
    {
      "cell_type": "markdown",
      "metadata": {
        "id": "iLUUmzFU1mYF"
      },
      "source": [
        "`str` stays for string type. Let's see how Python sees numbers."
      ]
    },
    {
      "cell_type": "code",
      "metadata": {
        "id": "GW7gJtxA1nvY",
        "colab": {
          "base_uri": "https://localhost:8080/"
        },
        "outputId": "a55452cc-7734-42e6-f141-f31c92965795"
      },
      "source": [
        "print(type(4), type(3.5))"
      ],
      "execution_count": null,
      "outputs": [
        {
          "output_type": "stream",
          "text": [
            "<class 'int'> <class 'float'>\n"
          ],
          "name": "stdout"
        }
      ]
    },
    {
      "cell_type": "markdown",
      "metadata": {
        "id": "hDYd14WX2cxk"
      },
      "source": [
        "* Integers in Python are called **int**.\n",
        "* Floating point numbers in Python are called **float**.\n",
        "* Strings are called **str**."
      ]
    },
    {
      "cell_type": "markdown",
      "metadata": {
        "id": "OVK_zfd7LMKV"
      },
      "source": [
        "When we give Python some data via `input()` it reads everything as strings. If we need to convert it to another data type, we should use `int()` for integers, and `float()` for floating point numbers.\n",
        "\n",
        "Let's add those numbers from the problem above.\n",
        "\n",
        "1. Type in the first number and store it into the variable. It will be read as a string.\n",
        "2. Convert the string to integer and re-write the variable.\n",
        "3. Read the second number, convert it to an integer and store it into the variable.\n",
        "4. Add two numbers together and print the result.\n",
        "\n"
      ]
    },
    {
      "cell_type": "code",
      "metadata": {
        "id": "aC5o0HZULd4B",
        "colab": {
          "base_uri": "https://localhost:8080/"
        },
        "outputId": "d6a71b9b-ebf0-46c7-94e2-8e5fee8c0e85"
      },
      "source": [
        "a = input('Type in a number: ')\n",
        "a = int(a)  # re-writing variable a with an int()\n",
        "b = int(input('And another: ')) # second number we will convert to int in one line\n",
        "print(a + b)"
      ],
      "execution_count": null,
      "outputs": [
        {
          "output_type": "stream",
          "text": [
            "Type in a number: 3\n",
            "And another: 2\n",
            "5\n"
          ],
          "name": "stdout"
        }
      ]
    },
    {
      "cell_type": "markdown",
      "metadata": {
        "id": "Hadogf59pVAK"
      },
      "source": [
        "## Task 1\n",
        "Let's find how much do the cake pieces weigh.\n"
      ]
    },
    {
      "cell_type": "code",
      "metadata": {
        "id": "s3pINicTQx1E"
      },
      "source": [
        "# input the number of pieces we need to divide the cake into and store it into the variable named `a`\n",
        "\n",
        "# convert contents of the variable `a` into an integer and re-write the variable `a` with an integer\n",
        "\n",
        "# input how much kilos does the entire cake weigh (floating point number),\n",
        "# convert it to float and store into the `b` variable\n",
        "\n",
        "# find out how much will the each piece weigh and store it into the `c` varaible\n",
        "\n",
        "# glue three strins together: \"One piece is \", contents of `c` variable, and ' kilos'\n",
        "# and store the result into the variable `answer`\n",
        "\n",
        "# print the variable `answer`"
      ],
      "execution_count": null,
      "outputs": []
    },
    {
      "cell_type": "markdown",
      "metadata": {
        "id": "Tf5Wq9F9t9Sc"
      },
      "source": [
        "Let's revise what we've learned."
      ]
    },
    {
      "cell_type": "code",
      "metadata": {
        "id": "6g3gW8XU7iCS",
        "colab": {
          "base_uri": "https://localhost:8080/"
        },
        "outputId": "4fdc70c5-da2c-436e-dd6c-e78231b87ff9"
      },
      "source": [
        "print('We perform the following to the integers and floats')\n",
        "print('We can add them:')\n",
        "print(5 + 7)\n",
        "print(5.5 + 6.5)\n",
        "\n",
        "print('Subtract:')\n",
        "print(5 - 7)\n",
        "print(5.5 - 7.5)\n",
        "\n",
        "print('Multiply:')\n",
        "print(5 * 7)\n",
        "print(5.5 * 7)\n",
        "\n",
        "print('Divide:')\n",
        "print(8 / 16)\n",
        "print(4.2 / 2)\n",
        "\n",
        "print('Perform integer division:')\n",
        "print(5 // 2)\n",
        "print(5.5 // 2)\n",
        "\n",
        "print('Perform modulo operation:')\n",
        "print(5 % 2)\n",
        "print(5.5 % 2)"
      ],
      "execution_count": null,
      "outputs": [
        {
          "output_type": "stream",
          "text": [
            "We perform the following to the integers and floats\n",
            "We can add them:\n",
            "12\n",
            "12.0\n",
            "Subtract:\n",
            "-2\n",
            "-2.0\n",
            "Multiply:\n",
            "35\n",
            "38.5\n",
            "Divide:\n",
            "0.5\n",
            "2.1\n",
            "Perform integer division:\n",
            "2\n",
            "2.0\n",
            "Perform modulo operation:\n",
            "1\n",
            "1.5\n"
          ],
          "name": "stdout"
        }
      ]
    },
    {
      "cell_type": "code",
      "metadata": {
        "id": "k8X1lNI48d1c",
        "colab": {
          "base_uri": "https://localhost:8080/"
        },
        "outputId": "e037d026-f069-417f-c97d-2d227fa66b62"
      },
      "source": [
        "print('To strings we can do the following')\n",
        "print('We can glue them together:')\n",
        "first = 'Hello '\n",
        "second = 'World!'\n",
        "text = first + second\n",
        "print(text)\n",
        "\n",
        "print('We can multiply them by an integer:')\n",
        "text = first * 4\n",
        "print(text)"
      ],
      "execution_count": null,
      "outputs": [
        {
          "output_type": "stream",
          "text": [
            "To strings we can do the following\n",
            "We can glue them together:\n",
            "Hello World!\n",
            "We can multiply them by an integer:\n",
            "Hello Hello Hello Hello \n"
          ],
          "name": "stdout"
        }
      ]
    }
  ]
}