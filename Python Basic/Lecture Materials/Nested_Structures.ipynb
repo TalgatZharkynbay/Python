{
  "nbformat": 4,
  "nbformat_minor": 0,
  "metadata": {
    "colab": {
      "provenance": []
    },
    "kernelspec": {
      "name": "python3",
      "display_name": "Python 3"
    },
    "language_info": {
      "name": "python"
    }
  },
  "cells": [
    {
      "cell_type": "markdown",
      "metadata": {
        "id": "sxUIBx3ypFWQ"
      },
      "source": [
        "Nested structures are not new data types. Those are just more complex structures than those that we've used already. Usually we call nested structures the lists of lists, dictionaries where the values are the lists or the sets, etc."
      ]
    },
    {
      "cell_type": "markdown",
      "metadata": {
        "id": "Bo25JXekHsn6"
      },
      "source": [
        "## Nested lists\n",
        "\n",
        "Remember, that any object can be a part of a list. So in theory we can have a list of lists, a list of tuples, a list of sets, a lists of dictionaries... Let's check an example. Imagine that we have a list that consists of two elements. The first is the list with student names, the second is the list with those students' grades."
      ]
    },
    {
      "cell_type": "code",
      "metadata": {
        "id": "DLlvhVPhsSaw",
        "colab": {
          "base_uri": "https://localhost:8080/"
        },
        "outputId": "d3a94070-8207-416f-b726-f98874807db9"
      },
      "source": [
        "students = [['Mark', 'Alice'], [8, 9]]\n",
        "print(len(students)) # checking the number of elements\n",
        "print(students[0]) # accessing the first list\n",
        "print(students[1]) # accessing the second list"
      ],
      "execution_count": null,
      "outputs": [
        {
          "output_type": "stream",
          "text": [
            "2\n",
            "['Mark', 'Alice']\n",
            "[8, 9]\n"
          ],
          "name": "stdout"
        }
      ]
    },
    {
      "cell_type": "markdown",
      "metadata": {
        "id": "TzzGRxs3pkpx"
      },
      "source": [
        "See, the number of elements is not 4 but 2, and the indexing does not give us the strings `'Marc'` and `'Alice'`, but rather the first list and the second list. That happens because Python sees that sructure as some kind of a Russian doll — there are smaller elements withing the bigger ones.\n",
        "\n",
        "However, such structures are really convenient. Imagine our example list to be like a table where the first column contains student's names and the second — their grades.\n",
        "\n",
        "Actually, with such kind of structures we can use double (triple, quadraple...) indexing. Let's access information about the first student."
      ]
    },
    {
      "cell_type": "code",
      "metadata": {
        "colab": {
          "base_uri": "https://localhost:8080/"
        },
        "id": "Bujeq2Y6pjiM",
        "outputId": "31054c86-4948-4ba1-e559-ed03cfb37973"
      },
      "source": [
        "print(students[0][0]) # the 1st student name\n",
        "print(students[1][0]) # the 1st student grade"
      ],
      "execution_count": null,
      "outputs": [
        {
          "output_type": "stream",
          "text": [
            "Mark\n",
            "8\n"
          ],
          "name": "stdout"
        }
      ]
    },
    {
      "cell_type": "markdown",
      "metadata": {
        "id": "rWubAAvqqlmT"
      },
      "source": [
        "First, we've got the bigger element in which we are interested (the list of names under the index `0`) and then the 1st student name (the element of that list under the index `0`). Then we performed the same operations for the second list.\n",
        "\n",
        "Let's try another example. Now each nested list would describe a student based on three features — name, year of birth and major. And let's try to read and add info about new student."
      ]
    },
    {
      "cell_type": "code",
      "metadata": {
        "colab": {
          "base_uri": "https://localhost:8080/"
        },
        "id": "euX47Xweqcdi",
        "outputId": "42f322a7-7ad4-4b55-a941-7c1f768dec0e"
      },
      "source": [
        "students = [['Ivan Ivanov', 2005, 'POLSCI'],\n",
        "            ['Oleg Sidorov', 2006, 'JOURN']]\n",
        "\n",
        "new_student = input().split(',') # reading info items separated by comma\n",
        "new_student[1] = int(new_student[1]) # converting year of birth into integer\n",
        "students.append(new_student) # adding info about new student to a list\n",
        "print(students)"
      ],
      "execution_count": null,
      "outputs": [
        {
          "output_type": "stream",
          "text": [
            "YuNa Kim,2004,WorldEc\n",
            "[['Ivan Ivanov', 2005, 'POLSCI'], ['Oleg Sidorov', 2006, 'JOURN'], ['YuNa Kim', 2004, 'WorldEc']]\n"
          ],
          "name": "stdout"
        }
      ]
    },
    {
      "cell_type": "markdown",
      "metadata": {
        "id": "0vhGYMEd96sP"
      },
      "source": [
        "Doesn't look too hard, yes? If you need to read information in `while` loop just do not forget to check the stop criteria and read information about the new student after you've appended the previous one to the list of lists. Look at the example below:"
      ]
    },
    {
      "cell_type": "code",
      "metadata": {
        "id": "mW9J9LJ28XN7",
        "colab": {
          "base_uri": "https://localhost:8080/"
        },
        "outputId": "9953b5b6-5470-4672-f832-929a3df802d8"
      },
      "source": [
        "students = []\n",
        "info = input()\n",
        "while info != 'END':\n",
        "  info_list = info.split(',')\n",
        "  info_list[1] = int(info_list[1])\n",
        "  students.append(info_list)\n",
        "  info = input()\n",
        "print(students)"
      ],
      "execution_count": null,
      "outputs": [
        {
          "output_type": "stream",
          "text": [
            "YuNa Kim,2004,WorldEc\n",
            "Oleg Ivanov, 2006, JOURN\n",
            "END\n",
            "[['YuNa Kim', 2004, 'WorldEc'], ['Oleg Ivanov', 2006, ' JOURN']]\n"
          ],
          "name": "stdout"
        }
      ]
    },
    {
      "cell_type": "markdown",
      "metadata": {
        "id": "pJIjLRqE_cP3"
      },
      "source": [
        "Let's go back to our initial nested list. So now we know how to read data in such a list. But how can we retrieve information from it? Actually, don't fret and just treat nested list like a usual list. Let's start with `for in range()` type of loop."
      ]
    },
    {
      "cell_type": "code",
      "metadata": {
        "colab": {
          "base_uri": "https://localhost:8080/"
        },
        "id": "3tfNltJD_pE7",
        "outputId": "491e3977-79f6-4da7-db63-5d2638baf5f4"
      },
      "source": [
        "students = [['Ivan Ivanov', 2005, 'POLSCI'],\n",
        "            ['Oleg Sidorov', 2006, 'JOURN']]\n",
        "\n",
        "for i in range(len(students)):\n",
        "  print(students[i]) # prints nested list under the index `i`"
      ],
      "execution_count": null,
      "outputs": [
        {
          "output_type": "stream",
          "text": [
            "['Ivan Ivanov', 2005, 'POLSCI']\n",
            "['Oleg Sidorov', 2006, 'JOURN']\n"
          ],
          "name": "stdout"
        }
      ]
    },
    {
      "cell_type": "markdown",
      "metadata": {
        "id": "Ji702QBO_thu"
      },
      "source": [
        "See, each nested list was printed in due time, when its index was assigned to `i` variable. Let's now output information about each student in a more fancy way."
      ]
    },
    {
      "cell_type": "code",
      "metadata": {
        "colab": {
          "base_uri": "https://localhost:8080/"
        },
        "id": "e6Vua-LF_sK8",
        "outputId": "10501965-c644-4a11-fcf3-24cfb19000cc"
      },
      "source": [
        "for i in range(len(students)):\n",
        "  print(f'Info about student #{i+1}')  # printing student's number\n",
        "  print('Name:', students[i][0])       # printing name\n",
        "  print('Age:', 2021 - students[i][1]) # calculating and printing age\n",
        "  print('Major:', students[i][2])      # printing major"
      ],
      "execution_count": null,
      "outputs": [
        {
          "output_type": "stream",
          "text": [
            "Info about student #1\n",
            "Name: YuNa Kim\n",
            "Age: 17\n",
            "Major: WorldEc\n",
            "Info about student #2\n",
            "Name: Oleg Ivanov\n",
            "Age: 15\n",
            "Major:  JOURN\n"
          ],
          "name": "stdout"
        }
      ]
    },
    {
      "cell_type": "markdown",
      "metadata": {
        "id": "ZpOqTMgMD9dB"
      },
      "source": [
        "If you don't need, let's say, a counter variable, you can go for a simple `for` loop and access nesting lists directly without using an index variable. Compare the code below to the one above."
      ]
    },
    {
      "cell_type": "code",
      "metadata": {
        "colab": {
          "base_uri": "https://localhost:8080/"
        },
        "id": "g7_eQMSRANDC",
        "outputId": "750dfec3-1ca7-4400-b711-2e592dff65d4"
      },
      "source": [
        "for item in students: # each nested list would be assigned to an `item` variable\n",
        "  print('Name:', item[0])\n",
        "  print('Age:', 2021 - item[1])\n",
        "  print('Major:', item[2])\n",
        "  print('*' * 20) # printing a divider to make out output prettier and more organized"
      ],
      "execution_count": null,
      "outputs": [
        {
          "output_type": "stream",
          "text": [
            "Name: Ivan Ivanov\n",
            "Age: 16\n",
            "Major: POLSCI\n",
            "********************\n",
            "Name: Oleg Sidorov\n",
            "Age: 15\n",
            "Major: JOURN\n",
            "********************\n"
          ],
          "name": "stdout"
        }
      ]
    },
    {
      "cell_type": "markdown",
      "metadata": {
        "id": "rIT4TmY3Flkv"
      },
      "source": [
        "Sometimes it can even be ok to use a nested `for` loop to go through the elements of nested lists. E.g. if we don't need to print all elements of our list in some fancy way."
      ]
    },
    {
      "cell_type": "code",
      "metadata": {
        "colab": {
          "base_uri": "https://localhost:8080/"
        },
        "id": "VizW_AKaFcA4",
        "outputId": "c5872e7a-8bd6-4783-d2a8-1480b785ba6d"
      },
      "source": [
        "for item in students: # each nested list would be assigned to `item`\n",
        "  for item_info in item: # each nested list element would be assigned to `item_info`\n",
        "    print(item_info)\n",
        "  print('*' * 20)"
      ],
      "execution_count": null,
      "outputs": [
        {
          "output_type": "stream",
          "text": [
            "Ivan Ivanov\n",
            "2005\n",
            "POLSCI\n",
            "********************\n",
            "Oleg Sidorov\n",
            "2006\n",
            "JOURN\n",
            "********************\n"
          ],
          "name": "stdout"
        }
      ]
    },
    {
      "cell_type": "markdown",
      "metadata": {
        "id": "cNy7YVcQGI87"
      },
      "source": [
        "Let's check another example. Now our nested lists represent grades for different students, each can have a different number of grades. Let's count how many grades of all our students are lower than 4."
      ]
    },
    {
      "cell_type": "code",
      "metadata": {
        "colab": {
          "base_uri": "https://localhost:8080/"
        },
        "id": "7uxCWjxIF_Mb",
        "outputId": "8225e888-5bc7-4140-ca13-3d145710a02e"
      },
      "source": [
        "marks = [[2,5,5], [10, 8, 3, 9], [10, 8, 4, 5]]\n",
        "\n",
        "cnt = 0 # creating a counter variable\n",
        "for item in marks: # looping through the major list\n",
        "  for mark in item: # now looping through the nested list currently stored in `item`\n",
        "    if mark < 4:\n",
        "      cnt += 1\n",
        "\n",
        "print(cnt)"
      ],
      "execution_count": null,
      "outputs": [
        {
          "output_type": "stream",
          "text": [
            "2\n"
          ],
          "name": "stdout"
        }
      ]
    },
    {
      "cell_type": "markdown",
      "metadata": {
        "id": "nzbjPiTRIcfb"
      },
      "source": [
        "Now let's calculate GPA for each of those students."
      ]
    },
    {
      "cell_type": "code",
      "metadata": {
        "colab": {
          "base_uri": "https://localhost:8080/"
        },
        "id": "a9sPebTHIvxS",
        "outputId": "c35e8cf4-4f5d-4641-e6c9-4f9d137d0915"
      },
      "source": [
        "marks = [[2,5,5], [10, 8, 3, 9], [10, 8, 4, 5]]\n",
        "\n",
        "for item in marks:\n",
        "  print(sum(item)/len(item))"
      ],
      "execution_count": null,
      "outputs": [
        {
          "output_type": "stream",
          "text": [
            "4.0\n",
            "7.5\n",
            "6.75\n"
          ],
          "name": "stdout"
        }
      ]
    },
    {
      "cell_type": "markdown",
      "metadata": {
        "id": "xk8doE81I23H"
      },
      "source": [
        "To make our output more fancy, let's use `for i in range()`:"
      ]
    },
    {
      "cell_type": "code",
      "metadata": {
        "colab": {
          "base_uri": "https://localhost:8080/"
        },
        "id": "o4g9zryFIiYF",
        "outputId": "12d2c1a0-ea4b-413f-e500-4a59a52847b6"
      },
      "source": [
        "marks = [[2,5,5], [10, 8, 3, 9], [10, 8, 4, 5]]\n",
        "\n",
        "for i in range(len(marks)):\n",
        "  print(f'Student #{i+1} GPA is: {sum(marks[i])/len(marks[i])}')"
      ],
      "execution_count": null,
      "outputs": [
        {
          "output_type": "stream",
          "text": [
            "Student #1 GPA is: 4.0\n",
            "Student #2 GPA is: 7.5\n",
            "Student #3 GPA is: 6.75\n"
          ],
          "name": "stdout"
        }
      ]
    },
    {
      "cell_type": "markdown",
      "metadata": {
        "id": "pBUblPL5HWSu"
      },
      "source": [
        "## Nested dictionary\n",
        "Now let's check an example with a nested dictionary. In dictionary only values can be dictionaries, sets or lists, not keys. Let's start with an example where keys are strings (dates) and the values are the lists of night and day temperatures for the given day.\n",
        "\n",
        "As with lists, we can simply loop through such object and retrive the information we need. We can also use double indexing passing first the key and then the index of the item in the list-value corresponding to that key.\n",
        "\n",
        "Let's for each day print the night temperature, the day temperature and the average."
      ]
    },
    {
      "cell_type": "code",
      "metadata": {
        "colab": {
          "base_uri": "https://localhost:8080/"
        },
        "id": "VRQLhDJ9G_Q8",
        "outputId": "684a5cca-5d7f-48ba-a89f-253386ba3218"
      },
      "source": [
        "temp = {'1st APR':[5, 11], '2nd APR':[4, 12]}\n",
        "\n",
        "for key in temp:\n",
        "  print(key) # printing the date\n",
        "  print('Nighttime (max):', temp[key][0], 'degrees')\n",
        "  print('Daytime (max):', temp[key][1], 'degrees')\n",
        "  print('Average:', sum(temp[key])/len(temp[key]), 'degrees')"
      ],
      "execution_count": null,
      "outputs": [
        {
          "output_type": "stream",
          "text": [
            "1st APR\n",
            "Nighttime (max): 5 degrees\n",
            "Daytime (max): 11 degrees\n",
            "Average: 8.0 degrees\n",
            "2nd APR\n",
            "Nighttime (max): 4 degrees\n",
            "Daytime (max): 12 degrees\n",
            "Average: 8.0 degrees\n"
          ],
          "name": "stdout"
        }
      ]
    },
    {
      "cell_type": "markdown",
      "metadata": {
        "id": "6ATHoHXGJKjo"
      },
      "source": [
        "Check below an example how we can read data into such kind of a dictionary."
      ]
    },
    {
      "cell_type": "code",
      "metadata": {
        "colab": {
          "base_uri": "https://localhost:8080/"
        },
        "id": "A1JrCg1cIERi",
        "outputId": "818bc5dd-c7fb-46b0-ca8e-f289f558085a"
      },
      "source": [
        "temp = {}\n",
        "info = input() # expected format of input here is '1st Mai: 10, 18'\n",
        "while info != 'END':\n",
        "  date = info.split(': ')[0]\n",
        "  temp_values = list(map(int, info.split(': ')[1].split(', ')))\n",
        "  temp[date] = temp_values\n",
        "  info = input()"
      ],
      "execution_count": null,
      "outputs": [
        {
          "output_type": "stream",
          "text": [
            "1st Mai: 10, 18\n",
            "2nd Mai: 12, 20\n",
            "END\n"
          ],
          "name": "stdout"
        }
      ]
    },
    {
      "cell_type": "markdown",
      "metadata": {
        "id": "TBo4rKnBJ0UK"
      },
      "source": [
        "Now let's solve a problem. Imagine that Ilya wants to watch an anime and he asks his friends for the recommendations. Ilya will watch the anime which was recommended by the majority of people.\n",
        "\n",
        "**INPUT FORMAT:**\n",
        "* An unknown number of lines in a format `<ANIME TITLE>: <FRIEND NAME>`\n",
        "* One friend can recommend several titles.\n",
        "\n",
        "**OUTPUT FORMAT:**\n",
        "* Title of the anime that Ilya will watch.\n"
      ]
    },
    {
      "cell_type": "markdown",
      "metadata": {
        "id": "8oKBqSdWK_hj"
      },
      "source": [
        "This is not the easiest problem, let's first read the data in the dictionary. Since one friend can recommend many animes, convenient format here would be to store the data in such dictionary where the title would be a key and the list of friends who have recommended it — a value."
      ]
    },
    {
      "cell_type": "code",
      "metadata": {
        "colab": {
          "base_uri": "https://localhost:8080/"
        },
        "id": "ka1B3IlYJw0s",
        "outputId": "f70e1fb1-8417-484c-cb6a-3674253692d8"
      },
      "source": [
        "anime = {}\n",
        "advice = input() # reading the line like \"Tenki no ko: Pasha\"\n",
        "while advice != \"END\":\n",
        "  anime_title = advice.split(': ')[0] # saving title to a variable\n",
        "  friend = advice.split(': ')[1] # retrieving a friend's name\n",
        "  if anime_title not in anime: # if such anime was not yet recommended\n",
        "    anime[anime_title] = [friend] # then create such key and assign a list consisting of one name to it\n",
        "  else: # if such anime was already recommended\n",
        "    anime[anime_title].append(friend) # than append a new friend's name to an existing list assigned to that key\n",
        "  advice = input() # read a new input\n",
        "\n",
        "print(anime) # checking our list"
      ],
      "execution_count": null,
      "outputs": [
        {
          "output_type": "stream",
          "text": [
            "Tenki no ko: Pasha\n",
            "Your lie in april: Anya\n",
            "Honey and clover: Tanya\n",
            "Honey and clover: Rostislav\n",
            "Tenki no ko: Taya\n",
            "Great pretender: Anya\n",
            "Tenki no ko: Kristina\n",
            "END\n",
            "{'Tenki no ko': ['Pasha', 'Taya', 'Kristina'], 'Your lie in april': ['Anya'], 'Honey and clover': ['Tanya', 'Rostislav'], 'Great pretender': ['Anya']}\n"
          ],
          "name": "stdout"
        }
      ]
    },
    {
      "cell_type": "markdown",
      "metadata": {
        "id": "olg2PVUiL7S9"
      },
      "source": [
        "Great! We got quite a complex structure but it will help us to solve that problem quite nicely. Now we need to get to the second part. We have to find how many friends recommended each anime and which one got the maximum number of recommendations. We can compute the length of all values (lists with recommenders names) via `map()` function and then find the maximum."
      ]
    },
    {
      "cell_type": "code",
      "metadata": {
        "colab": {
          "base_uri": "https://localhost:8080/"
        },
        "id": "B_mR1HrTLtfy",
        "outputId": "d4723754-2cd1-472b-c584-30d3ad0ad321"
      },
      "source": [
        "print(list(map(len, anime.values()))) # computing number of recommendations for each anime\n",
        "max_recs = max(map(len, anime.values())) # finding the highest number of recommendations\n",
        "print(max_recs)"
      ],
      "execution_count": null,
      "outputs": [
        {
          "output_type": "stream",
          "text": [
            "[3, 1, 2, 1]\n",
            "3\n"
          ],
          "name": "stdout"
        }
      ]
    },
    {
      "cell_type": "markdown",
      "metadata": {
        "id": "y_FH3GHwMij-"
      },
      "source": [
        "Now that we have the maximum number of recommendations, let's find the key which value has exactly the same length."
      ]
    },
    {
      "cell_type": "code",
      "metadata": {
        "colab": {
          "base_uri": "https://localhost:8080/"
        },
        "id": "xa4a1535MaXC",
        "outputId": "c1e28f85-80c9-4444-c693-6c2e4c2a98e2"
      },
      "source": [
        "for key in anime:\n",
        "  if len(anime[key]) == max_recs:\n",
        "    print(key)"
      ],
      "execution_count": null,
      "outputs": [
        {
          "output_type": "stream",
          "text": [
            "Tenki no ko\n"
          ],
          "name": "stdout"
        }
      ]
    },
    {
      "cell_type": "markdown",
      "metadata": {
        "id": "hVPSLpT5M2ks"
      },
      "source": [
        "In case if we were not to come with a `map()` function trick, we could do it in a more lengthy way."
      ]
    },
    {
      "cell_type": "code",
      "metadata": {
        "colab": {
          "base_uri": "https://localhost:8080/"
        },
        "id": "xnH6b4NUMyt-",
        "outputId": "ea1f5513-77d9-43b4-b3d1-67b267c0c230"
      },
      "source": [
        "max_recommend = 0 # initiating a counter variable\n",
        "for key in anime:\n",
        "  if len(anime[key]) > max_recommend: # if current anime has the highest number of recommendations\n",
        "    title_recommend = key # then update title of anime that Ilya will watch\n",
        "    max_recommend = len(anime[key]) # update the current maximum number of recommendations\n",
        "\n",
        "print(title_recommend)"
      ],
      "execution_count": null,
      "outputs": [
        {
          "output_type": "stream",
          "text": [
            "Tenki no ko\n"
          ],
          "name": "stdout"
        }
      ]
    },
    {
      "cell_type": "markdown",
      "metadata": {
        "id": "IS6RnIepNnEO"
      },
      "source": [
        "Now let's get the code for the problem in one place:"
      ]
    },
    {
      "cell_type": "code",
      "metadata": {
        "id": "1O5XyNHuNlpS",
        "colab": {
          "base_uri": "https://localhost:8080/"
        },
        "outputId": "aa348226-9252-4b81-928e-f9d43e6411b8"
      },
      "source": [
        "anime = {}\n",
        "advice = input() # reading the line like \"Tenki no ko: Pasha\"\n",
        "while advice != \"END\":\n",
        "  anime_title = advice.split(': ')[0] # saving title to a variable\n",
        "  friend = advice.split(': ')[1] # retrieving a friend's name\n",
        "  if anime_title not in anime: # if such anime was not yet recommended\n",
        "    anime[anime_title] = [friend] # then create such key and assign a list consisting of one name to it\n",
        "  else: # if such anime was already recommended\n",
        "    anime[anime_title].append(friend) # than append a new friend's name to an existing list assigned to that key\n",
        "  advice = input() # read a new input\n",
        "\n",
        "max_recs = max(map(len, anime.values())) # finding the maximum\n",
        "\n",
        "for key in anime:\n",
        "  if len(anime[key]) == max_recs:\n",
        "    print(key) # printing the title with the maximum number of recommendations\n"
      ],
      "execution_count": null,
      "outputs": [
        {
          "output_type": "stream",
          "text": [
            "Tenki no ko: Pasha\n",
            "Your lie in april: Anya\n",
            "Tenki no ko: Taya\n",
            "END\n",
            "Tenki no ko\n"
          ],
          "name": "stdout"
        }
      ]
    }
  ]
}