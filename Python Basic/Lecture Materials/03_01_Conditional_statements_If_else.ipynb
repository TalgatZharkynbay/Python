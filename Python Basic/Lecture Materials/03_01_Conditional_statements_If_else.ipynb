{
  "nbformat": 4,
  "nbformat_minor": 0,
  "metadata": {
    "colab": {
      "provenance": []
    },
    "kernelspec": {
      "display_name": "Python 3",
      "language": "python",
      "name": "python3"
    },
    "language_info": {
      "codemirror_mode": {
        "name": "ipython",
        "version": 3
      },
      "file_extension": ".py",
      "mimetype": "text/x-python",
      "name": "python",
      "nbconvert_exporter": "python",
      "pygments_lexer": "ipython3",
      "version": "3.7.6"
    }
  },
  "cells": [
    {
      "cell_type": "markdown",
      "metadata": {
        "id": "I5vVn9-Zitxh"
      },
      "source": [
        "## Conditional statements in Python. If-else operators"
      ]
    },
    {
      "cell_type": "markdown",
      "metadata": {
        "id": "99bn-xBCitxi"
      },
      "source": [
        "Let's take a look how to write a conditional statement in Python."
      ]
    },
    {
      "cell_type": "markdown",
      "metadata": {
        "id": "wMkRjeNDitxk"
      },
      "source": [
        "### Logical variables\n",
        "\n",
        "Let's talk about the logic of our actions if we were to cook eggs for breakfast.\n",
        "\n",
        "*If there are no eggs in the refrigerator -- we go to the grocery store*\n",
        "\n",
        "Block diagram for this scenario would be something like this.\n",
        "\n",
        "<img src=\"https://github.com/rogovich/Data/blob/master/img/Coursera_English/1_eng.png?raw=true\" width=\"300\">\n",
        "\n",
        "Here we use a condititon <*If there are no eggs in the refrigerator*>.\n",
        "\n",
        "Then there are two courses of action:\n",
        "* There are really no eggs and then our *condition is True*\n",
        "* There are some eggs and then our *condition is False*.\n",
        "\n",
        "So bacically our condition can be only in one of two states. Either True or False.\n",
        "\n",
        "Such data type which can be only True or False are called **boolean data type** or **booleans**.\n"
      ]
    },
    {
      "cell_type": "code",
      "metadata": {
        "colab": {
          "base_uri": "https://localhost:8080/"
        },
        "id": "LLqYSJeGPJuu",
        "outputId": "6d9f0688-abdb-427b-bc81-514004100d21"
      },
      "source": [
        "print(type(True))\n",
        "x = False\n",
        "print(type(x))"
      ],
      "execution_count": null,
      "outputs": [
        {
          "output_type": "stream",
          "text": [
            "<class 'bool'>\n",
            "<class 'bool'>\n"
          ],
          "name": "stdout"
        }
      ]
    },
    {
      "cell_type": "markdown",
      "metadata": {
        "id": "n5PJIuzMitxl"
      },
      "source": [
        "### Comparison operators in Python\n",
        "How do we check whether the condition <*There are no eggs in the refrigerator*> is True of False? How can we write such a condition in Python?\n",
        "\n",
        "We can express this statement numerically. *No eggs* basically means that eggs quantity is zero.\n",
        "\n",
        "```\n",
        "If <eggs quantity = 0>, then <we go to the grocery store>\n",
        "```\n",
        "\n",
        "But this statement is not entirely correct. Instead of `=` operator, which in Python is used for a variable assignment, we should use `==`. `eggs quantity = 0` whould mean `put the label to an integer 0`. If we want to compare variable contents to 0 we should write it diffirently.\n",
        "\n",
        "```\n",
        "If <eggs quantity == 0>, then <we go to the grocery store>\n",
        "```\n",
        "\n",
        "Are there other comparison operators? Yes!\n",
        "\n",
        "- **>** – greater than;\n",
        "- **<** – less than;\n",
        "- **==** – equal to;\n",
        "- **>=** – greater than or equal to;\n",
        "- **>=** – less than or equal to;\n",
        "- **!=** – not equal to.\n",
        "\n",
        "If we are using any of those operators, the result always will be a boolean value (True of False).\n",
        "\n",
        "Let's check!"
      ]
    },
    {
      "cell_type": "code",
      "metadata": {
        "id": "izZIVbLbitxm",
        "colab": {
          "base_uri": "https://localhost:8080/"
        },
        "outputId": "905c4e74-d61f-45bc-b5ad-6fb35788e507"
      },
      "source": [
        "print(10 == 10) # ten is equal to ten. It is true!"
      ],
      "execution_count": null,
      "outputs": [
        {
          "output_type": "stream",
          "text": [
            "True\n"
          ],
          "name": "stdout"
        }
      ]
    },
    {
      "cell_type": "markdown",
      "metadata": {
        "id": "hhrYfePRitxt"
      },
      "source": [
        "We can also compare results of calculations."
      ]
    },
    {
      "cell_type": "code",
      "metadata": {
        "id": "pnvRXPq7itxu",
        "colab": {
          "base_uri": "https://localhost:8080/"
        },
        "outputId": "53b6ebf3-d39f-4e65-adfe-613ecdadf286"
      },
      "source": [
        "print(9 + 1 == 10)"
      ],
      "execution_count": null,
      "outputs": [
        {
          "output_type": "stream",
          "text": [
            "True\n"
          ],
          "name": "stdout"
        }
      ]
    },
    {
      "cell_type": "markdown",
      "metadata": {
        "id": "2hwcvW5sitxz"
      },
      "source": [
        "Let's try something that would give us False"
      ]
    },
    {
      "cell_type": "code",
      "metadata": {
        "id": "9xVvr3seitx0",
        "colab": {
          "base_uri": "https://localhost:8080/"
        },
        "outputId": "c6012103-6797-4f43-a40f-867d9ad637e5"
      },
      "source": [
        "print(10 > 10) # ten is not greater than ten"
      ],
      "execution_count": null,
      "outputs": [
        {
          "output_type": "stream",
          "text": [
            "False\n"
          ],
          "name": "stdout"
        }
      ]
    },
    {
      "cell_type": "markdown",
      "metadata": {
        "id": "pret5ysFitx5"
      },
      "source": [
        "Boolean variables in Python will be defined as **bool**"
      ]
    },
    {
      "cell_type": "code",
      "metadata": {
        "id": "KKthXd3kitx5",
        "colab": {
          "base_uri": "https://localhost:8080/"
        },
        "outputId": "d3a1cf03-f154-4cf6-f89f-ddf715e985f2"
      },
      "source": [
        "print(type(10 > 10))"
      ],
      "execution_count": null,
      "outputs": [
        {
          "output_type": "stream",
          "text": [
            "<class 'bool'>\n"
          ],
          "name": "stdout"
        }
      ]
    },
    {
      "cell_type": "code",
      "metadata": {
        "id": "ARdmLMfJitx_",
        "colab": {
          "base_uri": "https://localhost:8080/"
        },
        "outputId": "93acc997-e028-42f0-a717-5f2b8158ec9c"
      },
      "source": [
        "print(type(True))"
      ],
      "execution_count": null,
      "outputs": [
        {
          "output_type": "stream",
          "text": [
            "<class 'bool'>\n"
          ],
          "name": "stdout"
        }
      ]
    },
    {
      "cell_type": "markdown",
      "metadata": {
        "id": "0nh0BVPstCdl"
      },
      "source": [
        "### Operator If"
      ]
    },
    {
      "cell_type": "markdown",
      "metadata": {
        "id": "mWQAE62tityF"
      },
      "source": [
        "Now let's try to realise conditional statement in Python.\n",
        "\n",
        "Statement *If \\<condition is True\\>, then \\<some instructions\\>* can be written like this:\n",
        "\n",
        "```\n",
        "if <condition>:\n",
        "    <instructions when the condition is True>\n",
        "```\n",
        "Here a *condition* always would be some logical value or expression that can result in one.\n",
        "\n",
        "Now we know how to write up our breakfast example in Python.\n",
        "\n",
        "<img src=\"https://github.com/rogovich/Data/blob/master/img/Coursera_English/if_eng.png?raw=true\" width=\"200\">\n"
      ]
    },
    {
      "cell_type": "code",
      "metadata": {
        "id": "-UFM-zepityH",
        "colab": {
          "base_uri": "https://localhost:8080/"
        },
        "outputId": "17912105-f8cf-46ed-9c0e-e55a1c7935b2"
      },
      "source": [
        "eggs = int(input('How many eggs are in the refrigerator? '))   # stroring eggs quantity into the variable `eggs`\n",
        "if eggs == 0:       # checking if we have any eggs\n",
        "    print('Going to the store!')  # printing something if our condition is True\n",
        "\n",
        "print('Cooking eggs sunny-side-up!')"
      ],
      "execution_count": null,
      "outputs": [
        {
          "output_type": "stream",
          "text": [
            "How many eggs are in the refrigerator? 0\n",
            "Going to the store!\n",
            "Cooking eggs sunny-side-up\n"
          ],
          "name": "stdout"
        }
      ]
    },
    {
      "cell_type": "markdown",
      "metadata": {
        "id": "q4ekgdVhityM"
      },
      "source": [
        "So, instructions will be executed then and only then if our condition after the *if* operator is True.\n",
        "\n",
        "Please note, that instructions that are executed only when condition is True are written with an indent. This way Python knows that these instructions are relevant only to the present conditional statement.\n",
        "\n",
        "Now let's change our example a bit. Let's assume that we need no less than tree eggs to cook the breakfast.\n",
        "\n",
        "<img src=\"https://github.com/rogovich/Data/blob/master/img/Coursera_English/if-2_eng.png?raw=true\" width=\"200\">"
      ]
    },
    {
      "cell_type": "code",
      "metadata": {
        "id": "1w07LEtGsEqu",
        "colab": {
          "base_uri": "https://localhost:8080/"
        },
        "outputId": "48f6861c-3cda-44de-b79e-2f85fac55b33"
      },
      "source": [
        "eggs = int(input('How many eggs are there in the refrigerator? '))\n",
        "if eggs < 3:       # checking that we have enough eggs\n",
        "    print('Going to the store!')\n",
        "\n",
        "print('Cooking eggs sunny-side-up!')"
      ],
      "execution_count": null,
      "outputs": [
        {
          "output_type": "stream",
          "text": [
            "How many eggs are in the refrigerator? 4\n",
            "Cooking eggs sunny-side-up\n"
          ],
          "name": "stdout"
        }
      ]
    },
    {
      "cell_type": "markdown",
      "metadata": {
        "id": "4LUXOxpLmIYn"
      },
      "source": [
        "### Operator Else"
      ]
    },
    {
      "cell_type": "markdown",
      "metadata": {
        "id": "s7D2MEYwtCdt"
      },
      "source": [
        "But what if we do not want to go shopping but rather want to have breakfast in the cafe nearby?\n",
        "\n",
        "Now, let's write a statement that tells us whether we can prepare breakfast at home or should we go out.\n",
        "\n",
        "Now we have two different actions and cooking does not depend anymore on shopping.\n",
        "\n",
        "Let's try to implement this with the second `if` statement."
      ]
    },
    {
      "cell_type": "code",
      "metadata": {
        "id": "H8DnEk9hityN",
        "colab": {
          "base_uri": "https://localhost:8080/"
        },
        "outputId": "c8248983-470d-47b1-b5d3-3418f3328faf"
      },
      "source": [
        "eggs = int(input('How many eggs are there in the refrigerator? '))\n",
        "# first conditional statement\n",
        "if eggs >= 3:\n",
        "    print('Cooking eggs sunny-side-up!')\n",
        "# second conditional statement\n",
        "if eggs < 3:\n",
        "    print('Going to the cafe!')"
      ],
      "execution_count": null,
      "outputs": [
        {
          "output_type": "stream",
          "text": [
            "How many eggs are in the refrigerator? 2\n",
            "Going to the cafe\n"
          ],
          "name": "stdout"
        }
      ]
    },
    {
      "cell_type": "markdown",
      "metadata": {
        "id": "TEMnTlLYityR"
      },
      "source": [
        "However in this case those two statements are **mutually exclusive**. Either we have 3 or more eggs, or we have less than 3 eggs.\n",
        "\n",
        "In such situtations it is easier to use the operator `else`.\n",
        "```\n",
        "if <condition>:\n",
        "    <instructions when condition is True>\n",
        "else:\n",
        "    <instructions when condition is False>\n",
        "```  \n",
        "Instructions written after `else` would be executed then and only then if condition after `if` is False.\n",
        "\n",
        "Look at the updated diagram for our problem.\n",
        "\n",
        "<img src=\"https://github.com/rogovich/Data/blob/master/img/Coursera_English/else_eng.png?raw=true\" width=\"300\">\n"
      ]
    },
    {
      "cell_type": "code",
      "metadata": {
        "id": "nZkeESIoityS",
        "colab": {
          "base_uri": "https://localhost:8080/"
        },
        "outputId": "8b0d4cac-a090-4f33-f2b0-b7927a1936b1"
      },
      "source": [
        "eggs = int(input('How many eggs are there in the refrigerator? '))\n",
        "if eggs >= 3:\n",
        "    print('Cooking eggs sunny-side-up!')\n",
        "# replacing second conditional statement via else\n",
        "else:\n",
        "    print('Going to the cafe!')"
      ],
      "execution_count": null,
      "outputs": [
        {
          "output_type": "stream",
          "text": [
            "How many eggs are in the refrigerator? 3\n",
            "Cooking eggs sunny-side-up!\n"
          ],
          "name": "stdout"
        }
      ]
    },
    {
      "cell_type": "markdown",
      "metadata": {
        "id": "vgFywxH1nVzC"
      },
      "source": [
        "Now one conditional statement can handle two conditions."
      ]
    },
    {
      "cell_type": "markdown",
      "metadata": {
        "id": "U4fl4XdGityW"
      },
      "source": [
        "### Nested If statements\n",
        "\n",
        "Sometimes we need to check more than one statement. We actually can put one `if` statement within the other. This would be called *nested if statements*.\n",
        "\n",
        "Please pay attention to the indents within such structures.\n",
        "\n",
        "Let's check for milk if we have eggs. If there is some milk let's cook an omelet.\n",
        "\n",
        "<img src=\"https://github.com/rogovich/Data/blob/master/img/Coursera_English/nested-if_eng.png?raw=true\" width=\"350\">"
      ]
    },
    {
      "cell_type": "code",
      "metadata": {
        "colab": {
          "base_uri": "https://localhost:8080/"
        },
        "id": "OdL6x360v_yz",
        "outputId": "5133db34-b12c-4a77-e2a5-7481a19a511e"
      },
      "source": [
        "eggs = int(input('How many eggs are there in the refrigerator? '))\n",
        "# if...else statement\n",
        "if eggs >= 3:\n",
        "    print('Cooking at home!')\n",
        "    milk = input('Is there any milk? Yes or No. ')\n",
        "    # nested if statement\n",
        "    if milk == 'Yes':\n",
        "        print('Cooking an omelet!') # this is an instruction within nested if statement\n",
        "                                    # so we use a double indent\n",
        "else:\n",
        "    print('Going to the cafe!') # insturctions if we have less than 3 eggs"
      ],
      "execution_count": null,
      "outputs": [
        {
          "output_type": "stream",
          "text": [
            "How many eggs are in the refrigerator? 3\n",
            "Cooking at home!\n",
            "Is there any milk? Yes or No. Yes\n",
            "Cooking an omelet!\n"
          ],
          "name": "stdout"
        }
      ]
    },
    {
      "cell_type": "markdown",
      "metadata": {
        "id": "C-Mrz67Nityb"
      },
      "source": [
        "`If...else` statement also can be nested. Let's cook either eggs sunny side up or an omelet.\n",
        "\n",
        "<img src=\"https://github.com/rogovich/Data/blob/master/img/Coursera_English/nested-if-else_eng.png?raw=true\" width=\"400\">"
      ]
    },
    {
      "cell_type": "code",
      "metadata": {
        "id": "qOXVEk1yityc",
        "colab": {
          "base_uri": "https://localhost:8080/"
        },
        "outputId": "2132b7e8-6a13-45dc-ace4-e47fb572136d"
      },
      "source": [
        "eggs = int(input('How many eggs are there in the refrigerator? '))\n",
        "# if...else statement\n",
        "if eggs >= 3:\n",
        "    print('Cooking at home!')\n",
        "    milk = input('Is there any milk? Yes or No. ')\n",
        "    # nested if...else statement\n",
        "    if milk == 'Yes':\n",
        "        print('Cooking an omelet!')\n",
        "    else:\n",
        "        print('Cooking eggs sunny-side-up!') # instructions if we do not have any milk\n",
        "else:\n",
        "    print('Going to the cafe!') # insturctions if we have less than 3 eggs"
      ],
      "execution_count": null,
      "outputs": [
        {
          "output_type": "stream",
          "text": [
            "How many eggs are in the refrigerator? 4\n",
            "Cooking at home!\n",
            "Is there any milk? Yes or No. No\n",
            "Cooking eggs sunny-side-up!\n"
          ],
          "name": "stdout"
        }
      ]
    },
    {
      "cell_type": "code",
      "metadata": {
        "id": "uEpe0hRmxOf3"
      },
      "source": [],
      "execution_count": null,
      "outputs": []
    }
  ]
}