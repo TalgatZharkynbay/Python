{
  "nbformat": 4,
  "nbformat_minor": 0,
  "metadata": {
    "colab": {
      "provenance": []
    },
    "kernelspec": {
      "name": "python3",
      "display_name": "Python 3"
    }
  },
  "cells": [
    {
      "cell_type": "markdown",
      "metadata": {
        "id": "H9pnqSUHKa6v"
      },
      "source": [
        "# Nested `for` loops"
      ]
    },
    {
      "cell_type": "markdown",
      "metadata": {
        "id": "bAaLM_hKMcBF"
      },
      "source": [
        "Sometimes we need to go through two lists simultaneously. E.g. let's print a part of a multiplication table for number 2, 3 and 4.\n",
        "\n",
        "* We will first go through the list of [2, 3, 4]\n",
        "* For each of the number in our list we will multiply it by numbers from 1 to 9.\n"
      ]
    },
    {
      "cell_type": "code",
      "source": [
        "for b in range(1,10):\n",
        "  print(b)"
      ],
      "metadata": {
        "colab": {
          "base_uri": "https://localhost:8080/"
        },
        "id": "_m35Ukg4ciNO",
        "outputId": "4d951beb-847a-4103-e0d0-b10df467d3b0"
      },
      "execution_count": null,
      "outputs": [
        {
          "output_type": "stream",
          "name": "stdout",
          "text": [
            "1\n",
            "2\n",
            "3\n",
            "4\n",
            "5\n",
            "6\n",
            "7\n",
            "8\n",
            "9\n"
          ]
        }
      ]
    },
    {
      "cell_type": "code",
      "metadata": {
        "id": "LZ0Q2o_iO9zB",
        "colab": {
          "base_uri": "https://localhost:8080/"
        },
        "outputId": "85865d34-bf7e-457b-97ff-0a560f6713d8"
      },
      "source": [
        "for a in [2,3,4]:\n",
        "    for b in range(1,10):\n",
        "        print(f'{a}*{b} = {a*b}')\n",
        "    print('-'*10) # printing an end-line for the multiplications for the given number\n",
        "    #break   # Let's exit a loop for now after we finish multiplying by 2"
      ],
      "execution_count": null,
      "outputs": [
        {
          "output_type": "stream",
          "name": "stdout",
          "text": [
            "2*1 = 2\n",
            "2*2 = 4\n",
            "2*3 = 6\n",
            "2*4 = 8\n",
            "2*5 = 10\n",
            "2*6 = 12\n",
            "2*7 = 14\n",
            "2*8 = 16\n",
            "2*9 = 18\n",
            "----------\n",
            "3*1 = 3\n",
            "3*2 = 6\n",
            "3*3 = 9\n",
            "3*4 = 12\n",
            "3*5 = 15\n",
            "3*6 = 18\n",
            "3*7 = 21\n",
            "3*8 = 24\n",
            "3*9 = 27\n",
            "----------\n",
            "4*1 = 4\n",
            "4*2 = 8\n",
            "4*3 = 12\n",
            "4*4 = 16\n",
            "4*5 = 20\n",
            "4*6 = 24\n",
            "4*7 = 28\n",
            "4*8 = 32\n",
            "4*9 = 36\n",
            "----------\n"
          ]
        }
      ]
    },
    {
      "cell_type": "markdown",
      "metadata": {
        "id": "IRVAPJtMSyGZ"
      },
      "source": [
        "So, what has happened? Integer 2 was assigned to a variable `a`. Then we've started the second loop, where we had multiplied contents of `a` variable by all numbers in an interval from 1 to 9. Then we've printed ten dashes to indicate that we had finished with that number.\n",
        "\n",
        "If we were not to exit our loop via break, it would do the same for 3 and then for 4."
      ]
    },
    {
      "cell_type": "code",
      "metadata": {
        "id": "A2Qj3Z0ATDtf",
        "colab": {
          "base_uri": "https://localhost:8080/"
        },
        "outputId": "ff70ac04-463f-4291-c326-adbbe6ddaf13"
      },
      "source": [
        "for a in [2,3,4]:\n",
        "    for b in range(1,10):\n",
        "        print(f'{a}*{b} = {a*b}')\n",
        "    print('-'*10)"
      ],
      "execution_count": null,
      "outputs": [
        {
          "output_type": "stream",
          "text": [
            "2*1 = 2\n",
            "2*2 = 4\n",
            "2*3 = 6\n",
            "2*4 = 8\n",
            "2*5 = 10\n",
            "2*6 = 12\n",
            "2*7 = 14\n",
            "2*8 = 16\n",
            "2*9 = 18\n",
            "----------\n",
            "3*1 = 3\n",
            "3*2 = 6\n",
            "3*3 = 9\n",
            "3*4 = 12\n",
            "3*5 = 15\n",
            "3*6 = 18\n",
            "3*7 = 21\n",
            "3*8 = 24\n",
            "3*9 = 27\n",
            "----------\n",
            "4*1 = 4\n",
            "4*2 = 8\n",
            "4*3 = 12\n",
            "4*4 = 16\n",
            "4*5 = 20\n",
            "4*6 = 24\n",
            "4*7 = 28\n",
            "4*8 = 32\n",
            "4*9 = 36\n",
            "----------\n"
          ],
          "name": "stdout"
        }
      ]
    },
    {
      "cell_type": "markdown",
      "metadata": {
        "id": "q4QXl-UDOX6L"
      },
      "source": [
        "Nested loops might be useful not only in problems with numbers. Let's print a party invitation for several students."
      ]
    },
    {
      "cell_type": "code",
      "metadata": {
        "id": "ljjmHnnbXc2M",
        "colab": {
          "base_uri": "https://localhost:8080/"
        },
        "outputId": "71859d13-9cf8-43db-ed5d-aa59f18fd38f"
      },
      "source": [
        "students = ('Anna', 'Dima', 'Shushanik', 'Yu Na') # tuple of our students\n",
        "date = input('Date: ')\n",
        "time = input('Time: ')\n",
        "\n",
        "for name in students: # for each student print the following invintation\n",
        "  print(f'Hi, {name}!\\nYou are invited to a party on {date} at {time}. Waiting for you!\\n\\n')\n"
      ],
      "execution_count": null,
      "outputs": [
        {
          "output_type": "stream",
          "text": [
            "Date: 23.02\n",
            "Time: 17:00\n",
            "Hi, Anna!\n",
            "You are invited to a party on 23.02 at 17:00. Waiting for you!\n",
            "\n",
            "\n",
            "Hi, Dima!\n",
            "You are invited to a party on 23.02 at 17:00. Waiting for you!\n",
            "\n",
            "\n",
            "Hi, Shushanik!\n",
            "You are invited to a party on 23.02 at 17:00. Waiting for you!\n",
            "\n",
            "\n",
            "Hi, Yu Na!\n",
            "You are invited to a party on 23.02 at 17:00. Waiting for you!\n",
            "\n",
            "\n"
          ],
          "name": "stdout"
        }
      ]
    },
    {
      "cell_type": "markdown",
      "metadata": {
        "id": "CxgH2rPJPbWv"
      },
      "source": [
        "Now imagine that we want print that invitation in Russian as well. Let's create a tuple with two invitation texts."
      ]
    },
    {
      "cell_type": "code",
      "metadata": {
        "id": "pHmJCTooPJBY",
        "colab": {
          "base_uri": "https://localhost:8080/"
        },
        "outputId": "93fb8ca0-6e94-48fc-fc8e-6679edffffd8"
      },
      "source": [
        "students = ('Anna', 'Dima', 'Shushanik', 'Yu Na') # tuple of our students\n",
        "date = input('Date: ')\n",
        "time = input('Time: ')\n",
        "\n",
        "for name in students:\n",
        "  texts = (f'Hi, {name}!\\nYou are invited to a party on {date} at {time}. Waiting for you!\\n\\n',\n",
        "           f'Привет, {name}!\\nВечеринка пройдет {date} в {time}. Очень ждем!\\n\\n')\n",
        "  for text in texts: # for each student print each invitation\n",
        "    print(text)\n"
      ],
      "execution_count": null,
      "outputs": [
        {
          "output_type": "stream",
          "text": [
            "Date: 23.02\n",
            "Time: 17:00\n",
            "Hi, Anna!\n",
            "You are invited to a party on 23.02 at 17:00. Waiting for you!\n",
            "\n",
            "\n",
            "Привет, Anna!\n",
            "Вечеринка пройдет 23.02 в 17:00. Очень ждем!\n",
            "\n",
            "\n",
            "Hi, Dima!\n",
            "You are invited to a party on 23.02 at 17:00. Waiting for you!\n",
            "\n",
            "\n",
            "Привет, Dima!\n",
            "Вечеринка пройдет 23.02 в 17:00. Очень ждем!\n",
            "\n",
            "\n",
            "Hi, Shushanik!\n",
            "You are invited to a party on 23.02 at 17:00. Waiting for you!\n",
            "\n",
            "\n",
            "Привет, Shushanik!\n",
            "Вечеринка пройдет 23.02 в 17:00. Очень ждем!\n",
            "\n",
            "\n",
            "Hi, Yu Na!\n",
            "You are invited to a party on 23.02 at 17:00. Waiting for you!\n",
            "\n",
            "\n",
            "Привет, Yu Na!\n",
            "Вечеринка пройдет 23.02 в 17:00. Очень ждем!\n",
            "\n",
            "\n"
          ],
          "name": "stdout"
        }
      ]
    },
    {
      "cell_type": "markdown",
      "metadata": {
        "id": "-kxhLTgrJBzg"
      },
      "source": [
        "Sometimes there are also situations when we need `for in range()` to connect three sequences. Imagine that we want to print a receipt in a book store. We have a list of prices for the purchased books, titles for those books and, finally, quantities."
      ]
    },
    {
      "cell_type": "code",
      "metadata": {
        "id": "WB_s6F7GKvVB",
        "colab": {
          "base_uri": "https://localhost:8080/"
        },
        "outputId": "48e03376-f0e9-4b03-9518-c815347647b9"
      },
      "source": [
        "prices = [422, 382, 3544]\n",
        "goods = ['Harry Potter and FOR Loop', 'X-Men against Doctor Tuple', 'Learning Python. Vol.1']\n",
        "amount = [1, 1, 3]\n",
        "for i in range(len(goods)): # [0, 1, 2]\n",
        "    print(f\"{goods[i]}\\n{amount[i]} x {prices[i]}\")\n",
        "    print(f\"Total: {amount[i] * prices[i]} ₽\")"
      ],
      "execution_count": null,
      "outputs": [
        {
          "output_type": "stream",
          "name": "stdout",
          "text": [
            "Harry Potter and FOR Loop\n",
            "1 x 422\n",
            "Total: 422 ₽\n",
            "X-Men against Doctor Tuple\n",
            "1 x 382\n",
            "Total: 382 ₽\n",
            "Learning Python. Vol.1\n",
            "3 x 3544\n",
            "Total: 10632 ₽\n"
          ]
        }
      ]
    },
    {
      "cell_type": "code",
      "source": [
        "for i in zip(prices, goods, amount):\n",
        "  print(type(i))\n",
        "  print(i)"
      ],
      "metadata": {
        "colab": {
          "base_uri": "https://localhost:8080/"
        },
        "id": "UOWggWGK20T-",
        "outputId": "e5f62d92-744a-4f4c-cfa4-24e312d1245c"
      },
      "execution_count": null,
      "outputs": [
        {
          "output_type": "stream",
          "name": "stdout",
          "text": [
            "<class 'tuple'>\n",
            "(422, 'Harry Potter and FOR Loop', 1)\n",
            "<class 'tuple'>\n",
            "(382, 'X-Men against Doctor Tuple', 1)\n",
            "<class 'tuple'>\n",
            "(3544, 'Learning Python. Vol.1', 3)\n"
          ]
        }
      ]
    },
    {
      "cell_type": "code",
      "source": [
        "for i in range(len(goods)):\n",
        "  print(i)"
      ],
      "metadata": {
        "colab": {
          "base_uri": "https://localhost:8080/"
        },
        "id": "4FShMafqdw3Q",
        "outputId": "05fdd3fb-b971-43ce-a9c5-907f2ece3342"
      },
      "execution_count": null,
      "outputs": [
        {
          "output_type": "stream",
          "name": "stdout",
          "text": [
            "0\n",
            "1\n",
            "2\n"
          ]
        }
      ]
    },
    {
      "cell_type": "code",
      "source": [],
      "metadata": {
        "id": "ELUfgS5Ad3f3"
      },
      "execution_count": null,
      "outputs": []
    }
  ]
}