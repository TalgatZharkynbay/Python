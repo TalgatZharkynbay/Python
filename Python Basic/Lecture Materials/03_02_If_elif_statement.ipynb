{
  "nbformat": 4,
  "nbformat_minor": 0,
  "metadata": {
    "colab": {
      "provenance": []
    },
    "kernelspec": {
      "display_name": "Python 3",
      "language": "python",
      "name": "python3"
    },
    "language_info": {
      "codemirror_mode": {
        "name": "ipython",
        "version": 3
      },
      "file_extension": ".py",
      "mimetype": "text/x-python",
      "name": "python",
      "nbconvert_exporter": "python",
      "pygments_lexer": "ipython3",
      "version": "3.7.6"
    }
  },
  "cells": [
    {
      "cell_type": "markdown",
      "metadata": {
        "id": "yTVKx_G2CE5c"
      },
      "source": [
        "## If...elif statement"
      ]
    },
    {
      "cell_type": "markdown",
      "metadata": {
        "id": "m7d63ay6CE5d"
      },
      "source": [
        "In the previous examples we used `if` statement and if it was not True we also used `else`. But often enough we need to check several conditions.\n",
        "\n",
        "Imagine, you come to a coffehouse and you need to choose a beverage."
      ]
    },
    {
      "cell_type": "markdown",
      "metadata": {
        "id": "rOXRo5B2CE58"
      },
      "source": [
        "A barista asks you do you want tea or coffee."
      ]
    },
    {
      "cell_type": "code",
      "metadata": {
        "id": "m4nkwJ5FCE64",
        "colab": {
          "base_uri": "https://localhost:8080/"
        },
        "outputId": "66595a94-d19f-46b0-b784-60981930952d"
      },
      "source": [
        "drink = input('Do you want tea or coffee? ')\n",
        "if drink == 'tea':\n",
        "    print('It costs 100 rubles.')\n",
        "if drink == 'coffee':\n",
        "    print('It costs 150 rubles.')"
      ],
      "execution_count": null,
      "outputs": [
        {
          "output_type": "stream",
          "text": [
            "Do you want tea or coffee? coffee\n",
            "It costs 150 rubles.\n"
          ],
          "name": "stdout"
        }
      ]
    },
    {
      "cell_type": "markdown",
      "metadata": {
        "id": "BLnGCjm0CE7W"
      },
      "source": [
        "If we ask for something different, a barista will tell us that they do not serve it."
      ]
    },
    {
      "cell_type": "code",
      "metadata": {
        "id": "GuBAryBTCE7X",
        "colab": {
          "base_uri": "https://localhost:8080/"
        },
        "outputId": "cdb63b93-88db-489e-c748-ecf03b6260bd"
      },
      "source": [
        "drink = input('Do you want tea or coffee? ')\n",
        "\n",
        "if drink == 'tea':\n",
        "    print('It costs 100 rubles.')\n",
        "if drink == 'coffee':\n",
        "    print('It costs 150 rubles.')\n",
        "else:\n",
        "    print('Sorry, we do not have this.')"
      ],
      "execution_count": null,
      "outputs": [
        {
          "output_type": "stream",
          "text": [
            "Do you want tea or coffee? tea\n",
            "It costs 100 rubles.\n",
            "Sorry, we do not have this.\n"
          ],
          "name": "stdout"
        }
      ]
    },
    {
      "cell_type": "markdown",
      "metadata": {
        "id": "Fc4vZSeDCE7-"
      },
      "source": [
        "Oops!\n",
        "We asked for a drink that is on the menu, but our program still gave us 'Sorry, we do not have this' line.\n",
        "\n",
        "It happened because those `if` statements are independent from each other. And the first statement is evaluated separately from the second one. If we type in 'tea' we still get to the `if`-coffee statement and then get to its `else` part since condition is False ('tea' is not 'coffee').\n",
        "\n",
        "Check the updated block diagram.\n",
        "\n",
        "<img src=\"https://github.com/rogovich/Data/blob/master/img/Coursera_English/double-if_eng.png?raw=true\" width=\"350\">\n",
        "\n",
        "So it seems that we need to learn how to check several conditions within one `if` statement. The operator `elif` will help us with those.\n",
        "\n",
        "So, let's summarise:\n",
        "\n",
        "* **if** lets us execute instructions based on condition (will be executed only if True)\n",
        "* **if...else** lets us execute two different sets of instructions based on conditon (either True or False)\n",
        "* **if...elif...else** lets us execute several conditions consectuvely within one `if` statement. We can have more than one `elif` statement.\n"
      ]
    },
    {
      "cell_type": "markdown",
      "metadata": {
        "id": "WGS_0brbCE-C"
      },
      "source": [
        "There is an updated diagram with `elif` statement.\n",
        "\n",
        "<img src=\"https://github.com/rogovich/Data/blob/master/img/Coursera_English/if-elif_eng.png?raw=true\" width=\"350\">\n",
        "\n",
        "Let's fix our example."
      ]
    },
    {
      "cell_type": "code",
      "metadata": {
        "colab": {
          "base_uri": "https://localhost:8080/"
        },
        "id": "_3mEjQ4t1blW",
        "outputId": "e1b4d5b8-08d1-48e6-a7c6-bfabf14e948c"
      },
      "source": [
        "drink = input('Do you want tea or coffee? ')\n",
        "if drink == 'tea':\n",
        "    print('It costs 100 rubles.')\n",
        "elif drink == 'coffee': # this condition will be checked only if the first failed (was False)\n",
        "    print('It costs 150 rubles.')\n",
        "else: # we will get to the else-instructions only if all the conditions above have failed\n",
        "    print('Sorry, we do not have this.')"
      ],
      "execution_count": null,
      "outputs": [
        {
          "output_type": "stream",
          "text": [
            "Do you want tea or coffee? juice\n",
            "Sorry, we do not have this.\n"
          ],
          "name": "stdout"
        }
      ]
    },
    {
      "cell_type": "markdown",
      "metadata": {
        "id": "RZWLSxAsCE_v"
      },
      "source": [
        "Great, it's alive!\n",
        "\n",
        "Now *conditions are checked consecutively, each one is checked only if the previous one has failed*. When we tried to use different `if` statements, *each condition was checked independently*.\n"
      ]
    },
    {
      "cell_type": "markdown",
      "metadata": {
        "id": "_mvgPa2Dyfpr"
      },
      "source": [
        "Of course `if...elif...else` statement also can be nested. Let's make our program more complex by allowing different kind of coffee."
      ]
    },
    {
      "cell_type": "code",
      "metadata": {
        "colab": {
          "base_uri": "https://localhost:8080/"
        },
        "id": "x3XvNMUM2QI1",
        "outputId": "6d653575-2874-4081-c4d4-55bd40755e97"
      },
      "source": [
        "drink = input('Do you want tea or coffee? ')\n",
        "if drink == 'tea':\n",
        "    print('It costs 100 rubles.')\n",
        "elif drink == 'coffee':\n",
        "    coffee = input('Which coffee do you want? We have espresso, cafe late, and cappuccino. ')\n",
        "    if coffee == 'espresso':\n",
        "        print('It costs 90 rubles.')\n",
        "    elif coffee == 'cafe late':\n",
        "        print('It costs 150 rubles.')\n",
        "    elif coffee == 'cappuccino':\n",
        "        print('It costs 200 rubles.')\n",
        "    else:\n",
        "        print('Sorry, we do not have such coffee.') # we get this line if we input the wrong type of coffee\n",
        "else:\n",
        "    print('Sorry, we do not have this.') # we get this if we input the wrong type of beverage"
      ],
      "execution_count": null,
      "outputs": [
        {
          "output_type": "stream",
          "text": [
            "Do you want tea or coffee? coffee\n",
            "Which coffee do you want? We have espresso, cafe late, and cappuccino. lungo\n",
            "Sorry, we do not have such coffee.\n"
          ],
          "name": "stdout"
        }
      ]
    },
    {
      "cell_type": "markdown",
      "metadata": {
        "id": "bNG0fU7CxDyl"
      },
      "source": [
        "# Task 1\n",
        "Add to the program above the following:\n",
        "\n",
        "1. Allow for different tea options (e.g. black, green and ice tea)\n",
        "2. For cappuccino ask if the customer wants small or big cup."
      ]
    }
  ]
}