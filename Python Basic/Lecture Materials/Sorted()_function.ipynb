{
  "nbformat": 4,
  "nbformat_minor": 0,
  "metadata": {
    "colab": {
      "provenance": []
    },
    "kernelspec": {
      "name": "python3",
      "display_name": "Python 3"
    },
    "language_info": {
      "name": "python"
    }
  },
  "cells": [
    {
      "cell_type": "markdown",
      "metadata": {
        "id": "RZiP3PvYDxV5"
      },
      "source": [
        "# Sorting in Python\n",
        "\n",
        "We often have a need to sort different things: numbers in ascending order, words in alphabetical order, etc. And it's only natural that in Python there is a function that can perform sorting. The function's name is `sorted()`."
      ]
    },
    {
      "cell_type": "code",
      "metadata": {
        "colab": {
          "base_uri": "https://localhost:8080/"
        },
        "id": "V4Je7husDCob",
        "outputId": "67cbd204-aef6-4367-c8e3-f561179895c6"
      },
      "source": [
        "marks = [8.4, 9, 10, 4, 5]\n",
        "print(sorted(marks))"
      ],
      "execution_count": null,
      "outputs": [
        {
          "output_type": "stream",
          "text": [
            "[4, 5, 8.4, 9, 10]\n"
          ],
          "name": "stdout"
        }
      ]
    },
    {
      "cell_type": "markdown",
      "metadata": {
        "id": "WX01jLJmEOoV"
      },
      "source": [
        "As you see, we've passed a list with numbers `marks` to the function `sorted()` and got the list of sorted numbers in ascending order.\n",
        "\n",
        "If we want to sort something in descending order, then we should assign `True` to a `reverse` parameter of `sorted()` function."
      ]
    },
    {
      "cell_type": "code",
      "metadata": {
        "colab": {
          "base_uri": "https://localhost:8080/"
        },
        "id": "fJo3n261EGa4",
        "outputId": "abd3c413-4baa-4241-8927-dec9673cabd0"
      },
      "source": [
        "print(sorted(marks, reverse=True)) # sorting our list in descending order"
      ],
      "execution_count": null,
      "outputs": [
        {
          "output_type": "stream",
          "text": [
            "[10, 9, 8.4, 5, 4]\n"
          ],
          "name": "stdout"
        }
      ]
    },
    {
      "cell_type": "markdown",
      "metadata": {
        "id": "i0hIVsxwEqNT"
      },
      "source": [
        "In the previous example we've sorted a list. However, we can also sort sets, tuples, and even dictionaries. But note, that no matter the datatype we sort, `sorted()` will always return a list."
      ]
    },
    {
      "cell_type": "code",
      "metadata": {
        "colab": {
          "base_uri": "https://localhost:8080/"
        },
        "id": "ZWWgQkYsElm_",
        "outputId": "1aa35fdf-51c8-4d68-8e49-a6547ba686fd"
      },
      "source": [
        "# sorted() always returns a list!\n",
        "print(sorted('tanya')) # got a list of sorted symbols\n",
        "print(sorted((8, 5, 2)))\n",
        "print(sorted({5, 7, 2}))\n",
        "print(sorted({'cat':4, 'dog':100})) # here we got the list of sorted dictionary's keys"
      ],
      "execution_count": null,
      "outputs": [
        {
          "output_type": "stream",
          "text": [
            "['a', 'a', 'n', 't', 'y']\n",
            "[2, 5, 8]\n",
            "[2, 5, 7]\n",
            "['cat', 'dog']\n"
          ],
          "name": "stdout"
        }
      ]
    },
    {
      "cell_type": "markdown",
      "metadata": {
        "id": "nBiPPYykFX6M"
      },
      "source": [
        "We've just seen that `sorted()` can also sort symbols and they appear in the alphabetical order. But how Python knows what is alphabetical order?"
      ]
    },
    {
      "cell_type": "code",
      "metadata": {
        "colab": {
          "base_uri": "https://localhost:8080/"
        },
        "id": "r6RxUt6eE-s0",
        "outputId": "4d270606-bdb6-45c8-b1d1-25aaf1888b33"
      },
      "source": [
        "print(sorted(['python', 'dog', 'parrot'])) # sorting only-letters strings in lower case\n",
        "print(sorted(['!','Python', '4', 'anaconda'])) # sorting diffirent strings + mixed case"
      ],
      "execution_count": null,
      "outputs": [
        {
          "output_type": "stream",
          "text": [
            "['dog', 'parrot', 'python']\n",
            "['!', '4', 'Python', 'anaconda']\n"
          ],
          "name": "stdout"
        }
      ]
    },
    {
      "cell_type": "markdown",
      "metadata": {
        "id": "p7782slFF5ni"
      },
      "source": [
        "Actually, Python has no idea what is an alphabet. But Python has an access to the code chart. Let's have a look at [ASCII](https://en.wikipedia.org/wiki/ASCII) code chart below. It is a code chart that consists of 128 most popular symbols and latin letters — most of them you can find on your keyboard. Many other code charts (e.g. [Unicode](https://en.wikipedia.org/wiki/UTF-8) that must be familiar to you) are extensions of ASCII chart. And the logic described below would apply to all those as well.  \n",
        "\n",
        "![](https://upload.wikimedia.org/wikipedia/commons/thumb/4/4f/ASCII_Code_Chart.svg/369px-ASCII_Code_Chart.svg.png)\n",
        "\n",
        "If you look at chart you will notice that symbols are placed one after another — from left to right, line by line. So Python has no idea about alphabet, but it rather looks for the symbol position in the code chart. If the first symbol of the string appears there earlier than the first symbol of the other string, then the former is sorted in front of the latter. If  the symbols are the same, Python compares the second ones, etc.\n",
        "\n",
        "Let's sort another list of mixed strings. Check positions of the symbols in the chart above to see why Python sorted the strings this way."
      ]
    },
    {
      "cell_type": "code",
      "metadata": {
        "colab": {
          "base_uri": "https://localhost:8080/"
        },
        "id": "s98DZITCFmTB",
        "outputId": "ef00531a-79e9-46c7-a672-e1e97d34024e"
      },
      "source": [
        "print(sorted(['python', 'dog', 'parrot', '2', '[', 'Parrot', '!', '\\n', '{']))"
      ],
      "execution_count": null,
      "outputs": [
        {
          "output_type": "stream",
          "text": [
            "['\\n', '!', '2', 'Parrot', '[', 'dog', 'parrot', 'python', '{']\n"
          ],
          "name": "stdout"
        }
      ]
    },
    {
      "cell_type": "markdown",
      "metadata": {
        "id": "R0tOW9uPREPH"
      },
      "source": [
        "## `key` parameter"
      ]
    },
    {
      "cell_type": "markdown",
      "metadata": {
        "id": "ro21AJC5JJxZ"
      },
      "source": [
        "The most problematic thing when sorting strings is that all capital case symbols go before lower-case in those code charts. Meaning that Python will always sort words starting with an upper-case letter in front of those starting with lower-case letters."
      ]
    },
    {
      "cell_type": "code",
      "metadata": {
        "colab": {
          "base_uri": "https://localhost:8080/"
        },
        "id": "H0VKrdCyJAxj",
        "outputId": "d6271a00-cca1-47a8-894f-7509204167d4"
      },
      "source": [
        "print(sorted(['ivanov', 'Romanova', 'aramov', 'Lebedeva']))"
      ],
      "execution_count": null,
      "outputs": [
        {
          "output_type": "stream",
          "text": [
            "['Lebedeva', 'Romanova', 'aramov', 'ivanov']\n"
          ],
          "name": "stdout"
        }
      ]
    },
    {
      "cell_type": "markdown",
      "metadata": {
        "id": "YXC2HnxeMZR3"
      },
      "source": [
        "It could be sometimes problematic when we doing some kind of text analysis. However, there are ways to deal with it. First, we can bring all our strings to lower case with a help of `map()` and then sort that object."
      ]
    },
    {
      "cell_type": "code",
      "metadata": {
        "colab": {
          "base_uri": "https://localhost:8080/"
        },
        "id": "hfRruU0kMYmV",
        "outputId": "1db133b2-3b3a-4dd6-80c4-3faaf6f65476"
      },
      "source": [
        "students = ['ivanov', 'Romanova', 'aramov', 'Lebedeva']\n",
        "print(sorted(map(str.lower, students)))"
      ],
      "execution_count": null,
      "outputs": [
        {
          "output_type": "stream",
          "text": [
            "['aramov', 'ivanov', 'lebedeva', 'romanova']\n"
          ],
          "name": "stdout"
        }
      ]
    },
    {
      "cell_type": "markdown",
      "metadata": {
        "id": "TLTKlLBWNMx1"
      },
      "source": [
        "However, in that case we've lost the upper-case. And often it is an important information. In Python there is a way to sort mixed-case strings disregarding the case. Let's use for it `key` parameter of `sorted()`."
      ]
    },
    {
      "cell_type": "code",
      "metadata": {
        "colab": {
          "base_uri": "https://localhost:8080/"
        },
        "id": "WLey9uLUNJET",
        "outputId": "80dd95b1-a926-4dec-999e-5b9c566ab886"
      },
      "source": [
        "print(sorted(students, key=str.lower))"
      ],
      "execution_count": null,
      "outputs": [
        {
          "output_type": "stream",
          "text": [
            "['aramov', 'ivanov', 'Lebedeva', 'Rogovich']\n"
          ],
          "name": "stdout"
        }
      ]
    },
    {
      "cell_type": "markdown",
      "metadata": {
        "id": "KDFPKS77Nfxt"
      },
      "source": [
        "Indeed, Python has sorted our strings not case-sensetive, but preserved the case. How did it happen? You see, one assigns a function to `key` parameter. Then Python will apply that function to all elements of your collection and remebers the correspondence between the original objects and the changed objects. Then it will sort the changed objects, but as a final result will give you a list of the correspondent ORIGINAL objects sorted in that order. Fuh, sounds complicated! But bear with me.\n",
        "\n",
        "In our example Python brought all the strings to lower case, then sorted those lower-case strings and then gave us the list of original strings sorted in that order.\n",
        "\n",
        "Let's check another example where `key` might be useful. Imagine that you read a sequence of dates and you have to print them in chronological order."
      ]
    },
    {
      "cell_type": "code",
      "metadata": {
        "colab": {
          "base_uri": "https://localhost:8080/"
        },
        "id": "0-Glf5e8NfPg",
        "outputId": "3a9d09ee-91ea-4812-926e-a7922452346b"
      },
      "source": [
        "dates = ['1', '8', '11', '20', '24', '2']\n",
        "print(*sorted(dates))"
      ],
      "execution_count": null,
      "outputs": [
        {
          "output_type": "stream",
          "text": [
            "1 11 2 20 24 8\n"
          ],
          "name": "stdout"
        }
      ]
    },
    {
      "cell_type": "markdown",
      "metadata": {
        "id": "fi2NnjJrO-VV"
      },
      "source": [
        "Oops, looks not exactly correct. Since our dates are strings, Python sorted them as strings according to the code chart. And the 'word' '20' goes before '8', since '2' appears earlier than '8' in that chart. To solve the problem correctly you should either convert all strings to numbers before sorting or you can use `key` parameter with `int` function!"
      ]
    },
    {
      "cell_type": "code",
      "metadata": {
        "colab": {
          "base_uri": "https://localhost:8080/"
        },
        "id": "3ywJeyxDO9Wk",
        "outputId": "4ef1a23b-da6b-4665-f577-680381c6e483"
      },
      "source": [
        "dates = ['1', '8', '11', '20', '24', '2']\n",
        "# both lines of code below produce the similiar result\n",
        "print(*sorted(map(int, dates)))\n",
        "print(*sorted(dates, key=int))"
      ],
      "execution_count": null,
      "outputs": [
        {
          "output_type": "stream",
          "text": [
            "1 2 8 11 20 24\n",
            "1 2 8 11 20 24\n"
          ],
          "name": "stdout"
        }
      ]
    },
    {
      "cell_type": "markdown",
      "metadata": {
        "id": "0p4bwNFAPrF5"
      },
      "source": [
        "Also `key` works for `min()` and `max()` functions. We are already familiar with those."
      ]
    },
    {
      "cell_type": "code",
      "metadata": {
        "colab": {
          "base_uri": "https://localhost:8080/"
        },
        "id": "SPM5Ti4cPj9W",
        "outputId": "9ec6c16a-9cd2-4289-bf9b-5c28eed7b96a"
      },
      "source": [
        "students = ['ivanov', 'Romanova', 'aramov', 'Lebedeva']\n",
        "print(min(students)) # among 'L', 'R', 'a' and 'i', capital 'L' is the earliest symbol\n",
        "print(min(students, key=str.lower)) # among 'l', 'r', 'a' and 'i', lower case 'a' is the earliest symbol\n",
        "print(max(students)) # among 'L', 'R', 'a' and 'i', lower 'i' is the latest symbol\n",
        "print(max(students, key=str.lower)) # among 'l', 'r', 'a' and 'i', lower 'r'\n",
        "                                    # is the latest symbol, originial string is returned"
      ],
      "execution_count": null,
      "outputs": [
        {
          "output_type": "stream",
          "text": [
            "Lebedeva\n",
            "aramov\n",
            "ivanov\n",
            "Romanova\n"
          ],
          "name": "stdout"
        }
      ]
    },
    {
      "cell_type": "markdown",
      "metadata": {
        "id": "NFaKRX5ERMKJ"
      },
      "source": [
        "## Sorting dictionaries\n",
        "\n",
        "Things become a bit tricky when it comes to the sorting of dictionaries. Imagine that we have a dictionary where the keys are students surnames and the values are their marks. Let's sort our dictionary."
      ]
    },
    {
      "cell_type": "code",
      "metadata": {
        "colab": {
          "base_uri": "https://localhost:8080/"
        },
        "id": "hRoj6ywrRN8W",
        "outputId": "c083497d-bafd-4560-ffc8-06d6d2fcec85"
      },
      "source": [
        "marks = {'Romanova': 8, 'Kim': 7, 'Suzuki': 9, 'Ivanov': 9}\n",
        "print(sorted(marks))"
      ],
      "execution_count": null,
      "outputs": [
        {
          "output_type": "stream",
          "text": [
            "['Ivanov', 'Kim', 'Romanova', 'Suzuki']\n"
          ],
          "name": "stdout"
        }
      ]
    },
    {
      "cell_type": "markdown",
      "metadata": {
        "id": "m-k0tKNFRyoR"
      },
      "source": [
        "When we sort a dictionary we get a sorted list of keys. Meaning if we want to work with our dictionary sorted according the order of keys (numerical of alphabetical), it is very easy to implement. Let's print surnames of our students in alphabetical order as well as their corresponding grades."
      ]
    },
    {
      "cell_type": "code",
      "metadata": {
        "colab": {
          "base_uri": "https://localhost:8080/"
        },
        "id": "JYfx74cMRkjk",
        "outputId": "d08c9db9-40d4-4fbb-cd7c-69fd8c33b89c"
      },
      "source": [
        "for key in sorted(marks): # looping through the sorted list of dictionary's keys\n",
        "  print(key, marks[key]) # printing the key and the corresponding value"
      ],
      "execution_count": null,
      "outputs": [
        {
          "output_type": "stream",
          "text": [
            "Ivanov 9\n",
            "Kim 7\n",
            "Romanova 8\n",
            "Suzuki 9\n"
          ],
          "name": "stdout"
        }
      ]
    },
    {
      "cell_type": "markdown",
      "metadata": {
        "id": "Baw8cCQwSZnK"
      },
      "source": [
        "You see? Easy! But how can we sort our dictionary according to the values? Actually there is no simple way to do it. However, it is possible. Remember, there is a method of the dictionary called `.values()` that returns us the list-like object of all dictionary values? It can be sorted!"
      ]
    },
    {
      "cell_type": "code",
      "metadata": {
        "colab": {
          "base_uri": "https://localhost:8080/"
        },
        "id": "HWic55obSVTn",
        "outputId": "2c712a8e-0664-4e76-c9fe-62ab00d73736"
      },
      "source": [
        "print(marks.values()) # all values of our dictionary\n",
        "print(sorted(marks.values())) # list of sorted values"
      ],
      "execution_count": null,
      "outputs": [
        {
          "output_type": "stream",
          "text": [
            "dict_values([8, 7, 9, 9])\n",
            "[7, 8, 9, 9]\n"
          ],
          "name": "stdout"
        }
      ]
    },
    {
      "cell_type": "markdown",
      "metadata": {
        "id": "MP0IBYZKS-FP"
      },
      "source": [
        "Great! We've got a list of sorted values. Now the tricky part. We can loop through that sorted list, but then what?"
      ]
    },
    {
      "cell_type": "code",
      "metadata": {
        "colab": {
          "base_uri": "https://localhost:8080/"
        },
        "id": "VjQHaqxNS828",
        "outputId": "5262057d-6f46-417b-d039-fe80626b5757"
      },
      "source": [
        "for value in sorted(marks.values()):\n",
        "  print(value)"
      ],
      "execution_count": null,
      "outputs": [
        {
          "output_type": "stream",
          "text": [
            "7\n",
            "8\n",
            "9\n",
            "9\n"
          ],
          "name": "stdout"
        }
      ]
    },
    {
      "cell_type": "markdown",
      "metadata": {
        "id": "Jdmv1_LCnkrF"
      },
      "source": [
        "Actually, for each value we can start the second loop. We can go through all keys of our dictionary and check whether the value corresponding to that key is the same that we are intersted in. Mind that this double-loop algorithm is not always the best practice when it comes to a big data since it executes A LOT OF operations. But for small cases it is just fine."
      ]
    },
    {
      "cell_type": "code",
      "metadata": {
        "colab": {
          "base_uri": "https://localhost:8080/"
        },
        "id": "RPyRgBuqmG6j",
        "outputId": "b16bf02f-8962-4a80-e80d-882b61c6299d"
      },
      "source": [
        "for value in sorted(marks.values()):\n",
        "  print(value)\n",
        "  for key in marks: # starting the nested loop\n",
        "    if marks[key] == value: # if the key's value matches the value of interest\n",
        "      print(key) # then print the key\n"
      ],
      "execution_count": null,
      "outputs": [
        {
          "output_type": "stream",
          "text": [
            "7\n",
            "Kim\n",
            "8\n",
            "Romanova\n",
            "9\n",
            "Suzuki\n",
            "Ivanov\n",
            "9\n",
            "Suzuki\n",
            "Ivanov\n"
          ],
          "name": "stdout"
        }
      ]
    },
    {
      "cell_type": "markdown",
      "metadata": {
        "id": "svJaD7nBqw9-"
      },
      "source": [
        "Works almost fine. What is left is to get rid of the repeating information for people that got 9s. It was output twice because we got two similiar values in our dictionary. Let's get rid of all not unique values by converting the object with values into a set before sorting."
      ]
    },
    {
      "cell_type": "code",
      "metadata": {
        "colab": {
          "base_uri": "https://localhost:8080/"
        },
        "id": "SleZxh1RqviM",
        "outputId": "de6820c7-2926-4bd3-ab47-8c60106779de"
      },
      "source": [
        "for value in sorted(set(marks.values())): # converting marks.values() to a set\n",
        "  print(value)\n",
        "  for key in marks:\n",
        "    if marks[key] == value:\n",
        "      print(key)"
      ],
      "execution_count": null,
      "outputs": [
        {
          "output_type": "stream",
          "text": [
            "7\n",
            "Kim\n",
            "8\n",
            "Romanova\n",
            "9\n",
            "Suzuki\n",
            "Ivanov\n"
          ],
          "name": "stdout"
        }
      ]
    },
    {
      "cell_type": "markdown",
      "metadata": {
        "id": "D7ws7ixJrKw9"
      },
      "source": [
        "And the final touch. What if we want surnames of people who got the same grade to be sorted in alphabetical order? We can loop through the sorted dictionary then!"
      ]
    },
    {
      "cell_type": "code",
      "metadata": {
        "colab": {
          "base_uri": "https://localhost:8080/"
        },
        "id": "NarHnfA0rJjM",
        "outputId": "4ec8d93b-adb7-4d8b-a933-87fc014d59a9"
      },
      "source": [
        "for value in sorted(set(marks.values())):\n",
        "  print(value)\n",
        "  for key in sorted(marks): # looping throught the sorted list of keys\n",
        "    if marks[key] == value:\n",
        "      print(key)"
      ],
      "execution_count": null,
      "outputs": [
        {
          "output_type": "stream",
          "text": [
            "7\n",
            "Kim\n",
            "8\n",
            "Romanova\n",
            "9\n",
            "Ivanov\n",
            "Suzuki\n"
          ],
          "name": "stdout"
        }
      ]
    },
    {
      "cell_type": "markdown",
      "metadata": {
        "id": "XyTJxlA7rcGp"
      },
      "source": [
        "Now it's perfect! By the way, in the similiar manner we can find keys corresponding to the minimum or to the maximum value in the dictionary."
      ]
    },
    {
      "cell_type": "code",
      "metadata": {
        "colab": {
          "base_uri": "https://localhost:8080/"
        },
        "id": "-B2egvy8ra_m",
        "outputId": "c19e7386-2997-41fb-bddd-29d2b224142a"
      },
      "source": [
        "max_mark = max(marks.values()) # finding the highest mark\n",
        "\n",
        "print(f'The highest grade is {max_mark}')\n",
        "print('Students who got the highest grade:')\n",
        "for key in sorted(marks):\n",
        "  if marks[key] == max_mark:\n",
        "    print(key)"
      ],
      "execution_count": null,
      "outputs": [
        {
          "output_type": "stream",
          "text": [
            "The highest grade is 9\n",
            "Students who got the highest grade:\n",
            "Ivanov\n",
            "Suzuki\n"
          ],
          "name": "stdout"
        }
      ]
    },
    {
      "cell_type": "markdown",
      "source": [
        "# Practice\n",
        "\n",
        "1. Print exams' and its dates in alphabetical order (A -> Z) by the name of the course.\n",
        "2. Print exams' and its dates in reversed alphabetical order (Z -> A) by the name of the course.\n",
        "3. Print exams and and its dates in chronological order from the earliest to the latest.\n",
        "4. Print exams and and its dates in chronological order from the latest to the earliest.\n",
        "5. Display the earliest exam's date and its course name.\n",
        "6. Display the latest exam's date and its course name.\n",
        "7. For each date print the exams that will be held on this day. If there are several exams, print then in alphabetical order. E.g.\n",
        "```\n",
        "21-06-2022\n",
        "Chinese\n",
        "Japanese\n",
        "Korean\n",
        "25-06-2002\n",
        "English\n",
        "```"
      ],
      "metadata": {
        "id": "GDv7mdWDzxAV"
      }
    },
    {
      "cell_type": "code",
      "source": [
        "exam_dates = {'Economics': '18-06-2022',\n",
        "              'Japanese': '21-06-2022',\n",
        "              'Korean': '21-06-2022',\n",
        "              'Chinese': '21-06-2022',\n",
        "              'English': '25-06-2022',\n",
        "              'Programming in Python': '27-06-2022',\n",
        "              'Regional Studies': '28-07-2022'}"
      ],
      "metadata": {
        "id": "Cx8onA1tzv1F"
      },
      "execution_count": null,
      "outputs": []
    },
    {
      "cell_type": "code",
      "source": [],
      "metadata": {
        "id": "-3cUE2NI0-X0"
      },
      "execution_count": null,
      "outputs": []
    },
    {
      "cell_type": "code",
      "source": [],
      "metadata": {
        "id": "8vaEJe7G0XE1"
      },
      "execution_count": null,
      "outputs": []
    }
  ]
}