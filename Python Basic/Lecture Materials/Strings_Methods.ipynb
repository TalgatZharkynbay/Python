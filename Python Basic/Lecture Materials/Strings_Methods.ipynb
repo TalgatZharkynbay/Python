{
  "nbformat": 4,
  "nbformat_minor": 0,
  "metadata": {
    "colab": {
      "provenance": []
    },
    "kernelspec": {
      "name": "python3",
      "display_name": "Python 3"
    }
  },
  "cells": [
    {
      "cell_type": "markdown",
      "metadata": {
        "id": "tJCEkjo3ecBp"
      },
      "source": [
        "# Strings methods\n",
        "\n",
        "We often find ourselves in the situation when we need to clean the text data. Or maybe we even need to look into it to find some patterns.\n",
        "\n",
        "We can solve a lot of text related problems with a help of *string methods*. Those belong to a family of functions that can be applied only to strings and use `.` syntax.\n",
        "\n",
        "We know already one of such methods. We used `.split()` methods to turn structured strings into lists of elements."
      ]
    },
    {
      "cell_type": "code",
      "metadata": {
        "id": "-YEnbaP5QWag",
        "colab": {
          "base_uri": "https://localhost:8080/"
        },
        "outputId": "7f8bca79-01bd-436b-e4b3-f140689ebdb9"
      },
      "source": [
        "s = 'one two three four five'\n",
        "numbers = s.split()\n",
        "# string - immutable data type => assign result of applying the method into the variable\n",
        "print(numbers)"
      ],
      "execution_count": null,
      "outputs": [
        {
          "output_type": "stream",
          "name": "stdout",
          "text": [
            "['one', 'two', 'three', 'four', 'five']\n"
          ]
        }
      ]
    },
    {
      "cell_type": "markdown",
      "metadata": {
        "id": "RHiey6j1W9OE"
      },
      "source": [
        "Not only strings have methods. In the future we will talk about lists' methogs. Also we will learn about some new data structures, and they also will have its own methods."
      ]
    },
    {
      "cell_type": "markdown",
      "metadata": {
        "id": "BIg_AWgabAC0"
      },
      "source": [
        "## .lower() and .upper()\n",
        "\n",
        "Often we need to bring the entire string to either lower case or upper case. E.g. when we want to compare strings and we do not care for the case in which they are written. Methods `.lower()` and `.upper()` do not require arguments."
      ]
    },
    {
      "cell_type": "code",
      "source": [
        "pet = 'Cat'\n",
        "pet = pet.lower()\n",
        "print(pet)"
      ],
      "metadata": {
        "colab": {
          "base_uri": "https://localhost:8080/"
        },
        "id": "QQNx59Uujpx9",
        "outputId": "f9040d21-3e5e-41de-f01f-45a10abeddda"
      },
      "execution_count": null,
      "outputs": [
        {
          "output_type": "stream",
          "name": "stdout",
          "text": [
            "cat\n"
          ]
        }
      ]
    },
    {
      "cell_type": "code",
      "metadata": {
        "colab": {
          "base_uri": "https://localhost:8080/"
        },
        "id": "LbqtKCv5b2W7",
        "outputId": "44903bb6-b472-4afd-8879-cc65a3e7f64b"
      },
      "source": [
        "print('Cat'.lower()) # brings the entire string to a lower case\n",
        "print('Cat123'.upper()) # brings the entire string to an upper case"
      ],
      "execution_count": null,
      "outputs": [
        {
          "output_type": "stream",
          "name": "stdout",
          "text": [
            "cat\n",
            "CAT123\n"
          ]
        }
      ]
    },
    {
      "cell_type": "markdown",
      "metadata": {
        "id": "ciX2QwZDdirC"
      },
      "source": [
        "We see that both methods return strings. However, they both do not change the original string but return a changed copy. Let's see for ourselves with a variable."
      ]
    },
    {
      "cell_type": "code",
      "metadata": {
        "colab": {
          "base_uri": "https://localhost:8080/"
        },
        "id": "af_WFyDRdhhq",
        "outputId": "8ca5ca3b-762b-46f8-c14f-005fcc4f6465"
      },
      "source": [
        "example = 'cat'\n",
        "print(example.upper()) # prints a changed copy of a string\n",
        "print(example) # original string is unchanged"
      ],
      "execution_count": null,
      "outputs": [
        {
          "output_type": "stream",
          "name": "stdout",
          "text": [
            "CAT\n",
            "cat\n"
          ]
        }
      ]
    },
    {
      "cell_type": "markdown",
      "metadata": {
        "id": "sgD2KuOMeAlP"
      },
      "source": [
        "If we need to work with a changed string, we should save it into a variable."
      ]
    },
    {
      "cell_type": "code",
      "metadata": {
        "colab": {
          "base_uri": "https://localhost:8080/"
        },
        "id": "F-wmTstWeBMe",
        "outputId": "0775104c-b8f2-4326-ec30-59c46e60492c"
      },
      "source": [
        "example = 'cat'\n",
        "example_up = example.upper()\n",
        "print(example_up) # changed string is stored in the variable"
      ],
      "execution_count": null,
      "outputs": [
        {
          "output_type": "stream",
          "name": "stdout",
          "text": [
            "CAT\n"
          ]
        }
      ]
    },
    {
      "cell_type": "markdown",
      "metadata": {
        "id": "1tDe0f8QcDeF"
      },
      "source": [
        "Let's check how case might affect our programs. Imagine that we need to find all the 'cat' strings among our variables."
      ]
    },
    {
      "cell_type": "code",
      "metadata": {
        "colab": {
          "base_uri": "https://localhost:8080/"
        },
        "id": "xYc3xBYIbWwj",
        "outputId": "3739f9cf-4b7a-499f-a14d-fc41830acdc9"
      },
      "source": [
        "example_1 = 'cat'\n",
        "example_2 = 'CaT'\n",
        "print(example_1 == 'cat') # True because case is the same\n",
        "print(example_2 == 'cat') # False because there are upper case letters in the example\n",
        "print(example_2.lower() == 'cat') # True because we brought our string to a lower case\n",
        "                                  # first and only then compared it to the 'cat'"
      ],
      "execution_count": null,
      "outputs": [
        {
          "output_type": "stream",
          "text": [
            "True\n",
            "False\n",
            "True\n"
          ],
          "name": "stdout"
        }
      ]
    },
    {
      "cell_type": "markdown",
      "metadata": {
        "id": "NgmdpSiIlZwx"
      },
      "source": [
        "## .strip()\n",
        "\n",
        "Very often we end up with the strings that have unwanted symbols. E.g. end of a line symbol or spaces. Those symbols might affect work of our programs. However we can easily remove those via method `.strip()`.\n",
        "\n",
        "This method by default returns a string stripped of any white spaces from left and right. In this case argument is not needed.\n",
        "\n",
        "Like the methods above `.strip()` doesn't change a string and produces a copy."
      ]
    },
    {
      "cell_type": "code",
      "metadata": {
        "colab": {
          "base_uri": "https://localhost:8080/"
        },
        "id": "HiIhA2DamATO",
        "outputId": "2857e210-d687-4667-f40c-4116ebfd1662"
      },
      "source": [
        "example_3 = '   cat\\n' # string 'cat' with three spaces on the left and a newline symbol on the right\n",
        "print(example_3.strip()) # string with all whitespaces stripped\n",
        "print(example_3) # see how those whitespaces affect the output of the original string"
      ],
      "execution_count": null,
      "outputs": [
        {
          "output_type": "stream",
          "name": "stdout",
          "text": [
            "cat\n",
            "   cat\n",
            "\n"
          ]
        }
      ]
    },
    {
      "cell_type": "markdown",
      "metadata": {
        "id": "Rl1bzc0Xmk8Q"
      },
      "source": [
        "However, we can strip not only whitespaces but any characters if we specify so via an argument."
      ]
    },
    {
      "cell_type": "code",
      "metadata": {
        "colab": {
          "base_uri": "https://localhost:8080/"
        },
        "id": "5tH6vhJimshy",
        "outputId": "ae15e98a-d774-46c8-9eeb-eb77e5c4e451"
      },
      "source": [
        "example_4 = 'https://www.hse.ru'\n",
        "print(example_4.strip('https://')) # stripped all the characters that we passed as an argument\n",
        "\n",
        "# please note that strip does not look for a sequence but rather for any of those characters\n",
        "# on the both ends of the string. Let's try with `https://` written backwards.\n",
        "print(example_4.strip('//:sptth')) # result is the same!"
      ],
      "execution_count": null,
      "outputs": [
        {
          "output_type": "stream",
          "name": "stdout",
          "text": [
            "www.hse.ru\n",
            "www.hse.ru\n"
          ]
        }
      ]
    },
    {
      "cell_type": "markdown",
      "metadata": {
        "id": "xm6SfWZ-npWZ"
      },
      "source": [
        "If you want to strip something from the left end or from the right end of a string only, then use `.lstrip()` or `.rstrip()`."
      ]
    },
    {
      "cell_type": "code",
      "metadata": {
        "colab": {
          "base_uri": "https://localhost:8080/"
        },
        "id": "pvvp8fprno6Y",
        "outputId": "715900df-7d12-4c32-baba-c50687da536d"
      },
      "source": [
        "example_5 = 'company_name.com'\n",
        "print(example_5.strip('.com')) # strips any of those characters from BOTH ends of a string\n",
        "print(example_5.rstrip('.com')) # strips any of those characters from the RIGHT end of a string\n",
        "print(example_5.lstrip('.com')) # strips any of those characters from the LEFT end of a string"
      ],
      "execution_count": null,
      "outputs": [
        {
          "output_type": "stream",
          "text": [
            "pany_name\n",
            "company_name\n",
            "pany_name.com\n"
          ],
          "name": "stdout"
        }
      ]
    },
    {
      "cell_type": "markdown",
      "metadata": {
        "id": "m4eCqSO4ov7Q"
      },
      "source": [
        "## .replace()\n",
        "Another very useful method. We use it to change something in the string. `.replace()` requires two arguments: what string to replace and with what string to replace. Remember, that string is an immutable data type and we cannot replace its characters via assignment operation.\n",
        "\n",
        "Let's create a more secure password by replacing `a` with `@` and `o` with `0`."
      ]
    },
    {
      "cell_type": "code",
      "metadata": {
        "colab": {
          "base_uri": "https://localhost:8080/"
        },
        "id": "eYLiHVY9pWCa",
        "outputId": "469d5263-f45f-4f74-eaaf-02417537e840"
      },
      "source": [
        "password = 'password'\n",
        "print(password.replace('a', '@')) # replacing 'a' with '@'\n",
        "print(password.replace('o', '0')) # replacing 'o' with '0'\n",
        "print(password.replace('s', '0'))"
      ],
      "execution_count": null,
      "outputs": [
        {
          "output_type": "stream",
          "name": "stdout",
          "text": [
            "p@ssword\n",
            "passw0rd\n",
            "pa00word\n"
          ]
        }
      ]
    },
    {
      "cell_type": "markdown",
      "metadata": {
        "id": "vdILVAkjqdmB"
      },
      "source": [
        "As you see `.replace()` does not change the initial string but also returns a copy. Do not forget to save the result into a variable if you want to continue to work with a changed string."
      ]
    },
    {
      "cell_type": "code",
      "metadata": {
        "colab": {
          "base_uri": "https://localhost:8080/"
        },
        "id": "Ije2aZqKqhWg",
        "outputId": "cd7fe01c-f09d-45e7-fbcc-449e97f913ae"
      },
      "source": [
        "password = 'password'\n",
        "password = password.replace('a', '@')\n",
        "password = password.replace('a', '@')\n",
        "print(password) # variable contents are updated"
      ],
      "execution_count": null,
      "outputs": [
        {
          "output_type": "stream",
          "name": "stdout",
          "text": [
            "p@ssword\n"
          ]
        }
      ]
    },
    {
      "cell_type": "markdown",
      "metadata": {
        "id": "8iP0bpNko3b6"
      },
      "source": [
        "We can also can use something called **chain syntax** to achieve the same result. With methods we can perform several operations in one line of code, one is chained to another."
      ]
    },
    {
      "cell_type": "code",
      "metadata": {
        "colab": {
          "base_uri": "https://localhost:8080/"
        },
        "id": "S04cNkDXq7_R",
        "outputId": "51c9b7fe-b410-4d46-c4c8-f1ec9a9c1227"
      },
      "source": [
        "password = 'password'\n",
        "# first, replace `a` with `@`, then replace `o` with `0`,\n",
        "# then bring the entire string to upper case,\n",
        "# and finally, strip the symbol `D` from the string\n",
        "password = password.replace('a', '@').replace('o', '0').upper().strip('D')\n",
        "print(password)"
      ],
      "execution_count": null,
      "outputs": [
        {
          "output_type": "stream",
          "text": [
            "P@SSW0R\n"
          ],
          "name": "stdout"
        }
      ]
    },
    {
      "cell_type": "markdown",
      "metadata": {
        "id": "sDUWnSu8r3yR"
      },
      "source": [
        "## .count()\n",
        "This method for a change does not produce a copy of string with some alterations, but counts occurencies of something within a string. `.count()` requires one argument: a symbol or a sequence of symbols to count.\n"
      ]
    },
    {
      "cell_type": "code",
      "metadata": {
        "colab": {
          "base_uri": "https://localhost:8080/"
        },
        "id": "Sk-H6JYIsPUe",
        "outputId": "eccbb3f6-b6d1-4def-a85e-7dfed381924c"
      },
      "source": [
        "example_6 = 'The cat jumps on another cat in the mirror. THIS CAT IS SO FUNNY!'\n",
        "print(example_6.count('cat')) # how many times 'cat' appears in our string?\n",
        "print(example_6.lower().count('cat')) # will it change if we bring our string to lower case?"
      ],
      "execution_count": null,
      "outputs": [
        {
          "output_type": "stream",
          "name": "stdout",
          "text": [
            "2\n",
            "3\n"
          ]
        }
      ]
    },
    {
      "cell_type": "markdown",
      "metadata": {
        "id": "7sn9L44TuE2Q"
      },
      "source": [
        "## .find()\n",
        "\n",
        "Another useful method is `.find()` that takes a substring as an argument and returns an index for the first occurence of that substring in our main string."
      ]
    },
    {
      "cell_type": "code",
      "metadata": {
        "colab": {
          "base_uri": "https://localhost:8080/"
        },
        "id": "CyNHi-C_uYHu",
        "outputId": "3fe7976d-0078-4c6a-f624-f35052701273"
      },
      "source": [
        "example_7 = 'www.hse.ru'\n",
        "print(example_7.find('.')) # returns an index for the first dot"
      ],
      "execution_count": null,
      "outputs": [
        {
          "output_type": "stream",
          "text": [
            "3\n"
          ],
          "name": "stdout"
        }
      ]
    },
    {
      "cell_type": "markdown",
      "metadata": {
        "id": "HOXUi3lWugt8"
      },
      "source": [
        "If we want to find the LAST occurence of the symbol or of the sequence within a list, we can use `.rfind()` (find from the right)."
      ]
    },
    {
      "cell_type": "code",
      "metadata": {
        "colab": {
          "base_uri": "https://localhost:8080/"
        },
        "id": "3ACAar_-uuuI",
        "outputId": "a9a7f0bf-51bf-46ef-9512-a942963f2de7"
      },
      "source": [
        "example_7 = 'www.hse.ru'\n",
        "print(example_7.rfind('.')) # returns an index for the last dot"
      ],
      "execution_count": null,
      "outputs": [
        {
          "output_type": "stream",
          "text": [
            "7\n"
          ],
          "name": "stdout"
        }
      ]
    },
    {
      "cell_type": "markdown",
      "metadata": {
        "id": "oS9dp8aEuxtm"
      },
      "source": [
        "If our main string does not containt such symbols, the both methods will return `-1`."
      ]
    },
    {
      "cell_type": "code",
      "metadata": {
        "colab": {
          "base_uri": "https://localhost:8080/"
        },
        "id": "01VkKYZXuxJ7",
        "outputId": "ba65dbda-4907-4830-cb3a-cd9b6c7c77af"
      },
      "source": [
        "example_7 = 'www.hse.ru'\n",
        "print(example_7.rfind('@'))"
      ],
      "execution_count": null,
      "outputs": [
        {
          "output_type": "stream",
          "text": [
            "-1\n"
          ],
          "name": "stdout"
        }
      ]
    },
    {
      "cell_type": "markdown",
      "metadata": {
        "id": "VBagF2Jnu8EN"
      },
      "source": [
        "It might come handy if we are looking for the strings with some particular characters."
      ]
    },
    {
      "cell_type": "markdown",
      "metadata": {
        "id": "gKqOOqVgcZyp"
      },
      "source": [
        "## .startswith() and .endswith()\n",
        "\n",
        "Methods `.startswith()` and `.endswith()` allow us to check whether the string starts or ends with the particular symbol or the sequence of symbols. Both methods require one argument — a particular string that we are checking. Those methods return boolean data — True/False."
      ]
    },
    {
      "cell_type": "code",
      "metadata": {
        "colab": {
          "base_uri": "https://localhost:8080/"
        },
        "id": "jOIonPsNdNfm",
        "outputId": "3b965a08-62f1-4c0e-a474-ce1cee574487"
      },
      "source": [
        "id_1 = 'BE193'\n",
        "id_2 = 'ME194'\n",
        "\n",
        "print(id_1.startswith('BE')) # True because 1st id starts via the sequence of symbols 'BE'\n",
        "print(id_2.startswith('BE')) # False because 2nd id does not start via the sequence of symbols 'BE'\n",
        "print(id_2.endswith('194')) # True because 2nd id ends via the sequence of symbols '194'"
      ],
      "execution_count": null,
      "outputs": [
        {
          "output_type": "stream",
          "text": [
            "True\n",
            "False\n",
            "True\n"
          ],
          "name": "stdout"
        }
      ]
    },
    {
      "cell_type": "markdown",
      "metadata": {
        "id": "60yUqTxUejax"
      },
      "source": [
        "Since those methods return boolean value, we can use them in if-statement or in while-loop.\n",
        "\n",
        "Let's imagine that we have a list of websites and want to print only websites in '.com' zone (their addresses end with '.com' string)."
      ]
    },
    {
      "cell_type": "code",
      "metadata": {
        "colab": {
          "base_uri": "https://localhost:8080/"
        },
        "id": "qz3yUuKXfmvB",
        "outputId": "00ae69b5-2818-4eb8-deeb-ec8fc1a5084e"
      },
      "source": [
        "websites = ['www.hse.ru', 'www.ceu.edu', 'www.apple.com', 'www.facebook.com']\n",
        "\n",
        "for item in websites:\n",
        "  if item.endswith('.com'): # checking that the website satisfies a condition\n",
        "    print(item)"
      ],
      "execution_count": null,
      "outputs": [
        {
          "output_type": "stream",
          "text": [
            "www.apple.com\n",
            "www.facebook.com\n"
          ],
          "name": "stdout"
        }
      ]
    },
    {
      "cell_type": "markdown",
      "metadata": {
        "id": "SfKzL_dEgGwg"
      },
      "source": [
        "## .is methods family\n",
        "\n",
        "There are methods that allow us to check wether the string consists **only** of particular characters. Those are especially useful when you want to check that the string is of correct format. All those methods do not require arguments.\n",
        "\n",
        "`.isdigit()` allows us to check whether the string consists only of digits."
      ]
    },
    {
      "cell_type": "code",
      "metadata": {
        "colab": {
          "base_uri": "https://localhost:8080/"
        },
        "id": "VWIVEG-XgFW1",
        "outputId": "f2c4bda0-b93b-49ff-cf46-52b65550fed6"
      },
      "source": [
        "print('ID-142'.isdigit()) # False since there are some non-digit characters\n",
        "print('142'.isdigit()) # True since there are only digits"
      ],
      "execution_count": null,
      "outputs": [
        {
          "output_type": "stream",
          "name": "stdout",
          "text": [
            "False\n",
            "True\n"
          ]
        }
      ]
    },
    {
      "cell_type": "markdown",
      "metadata": {
        "id": "KqRCkayhhGb5"
      },
      "source": [
        "`.isalpha()` is checking that the string cosists only of letters."
      ]
    },
    {
      "cell_type": "code",
      "metadata": {
        "colab": {
          "base_uri": "https://localhost:8080/"
        },
        "id": "lGwl3RE2hGGC",
        "outputId": "386395d0-05e1-4f93-a6f4-66fd7c46da72"
      },
      "source": [
        "print('ID142'.isalpha()) # False since there are some non-letter characters\n",
        "print('ID'.isalpha()) # True since there are only letters"
      ],
      "execution_count": null,
      "outputs": [
        {
          "output_type": "stream",
          "name": "stdout",
          "text": [
            "False\n",
            "True\n"
          ]
        }
      ]
    },
    {
      "cell_type": "markdown",
      "metadata": {
        "id": "a-n2rK-uhaEW"
      },
      "source": [
        "`.isalnum()` is the mix of the two above. It check whether the string consists of only digits or letters. It will also return `True` if there are only letters or digits in the string."
      ]
    },
    {
      "cell_type": "code",
      "metadata": {
        "colab": {
          "base_uri": "https://localhost:8080/"
        },
        "id": "BuR52eDPhlOs",
        "outputId": "c95cf23c-092c-4f53-d901-e8af23d64a3b"
      },
      "source": [
        "print('ID-142'.isalnum()) # False since there is a dash\n",
        "print('ID142'.isalnum()) # True since there are only allowed symbols (letters AND digits)\n",
        "print('ID'.isalnum()) # True since there are only allowed symbols (letters)\n",
        "print('142'.isalnum())  # True since there are only allowed symbols (digits)"
      ],
      "execution_count": null,
      "outputs": [
        {
          "output_type": "stream",
          "name": "stdout",
          "text": [
            "False\n",
            "True\n",
            "True\n",
            "True\n"
          ]
        }
      ]
    },
    {
      "cell_type": "markdown",
      "metadata": {
        "id": "U4r7TxMDinC4"
      },
      "source": [
        "`.islower()` and `.isupper()` work in a similair manner and check whether all letters in the string are lower case or upper case correspondingly."
      ]
    },
    {
      "cell_type": "code",
      "source": [
        "\"二\".isdigit()"
      ],
      "metadata": {
        "colab": {
          "base_uri": "https://localhost:8080/"
        },
        "id": "8ZN9piFu-xUo",
        "outputId": "b1e379ef-25d7-4e6c-e254-20fd42f15d1d"
      },
      "execution_count": null,
      "outputs": [
        {
          "output_type": "execute_result",
          "data": {
            "text/plain": [
              "False"
            ]
          },
          "metadata": {},
          "execution_count": 12
        }
      ]
    },
    {
      "cell_type": "code",
      "metadata": {
        "colab": {
          "base_uri": "https://localhost:8080/"
        },
        "id": "U_D7REwdje0D",
        "outputId": "e6ca40c6-27dd-4aad-95a5-03bb3ea44d03"
      },
      "source": [
        "print('id154'.islower()) # True since all letters are lower case\n",
        "print('ID154'.isupper()) # True since all letters are upper case\n",
        "print('Id154'.islower()) # False since `I` is upper case\n",
        "print('Id154'.isupper()) # False since `d` is lower case"
      ],
      "execution_count": null,
      "outputs": [
        {
          "output_type": "stream",
          "text": [
            "True\n",
            "True\n",
            "False\n",
            "False\n"
          ],
          "name": "stdout"
        }
      ]
    },
    {
      "cell_type": "markdown",
      "metadata": {
        "id": "-qOZ1lIaj-Ii"
      },
      "source": [
        "Since those methods return boolean values we can use them in logical expressions and combine them with a logical `not`.\n",
        "\n",
        "Imagine that we need to check if the password is secure enough. The password should contain a mix of lower and upper case letters or no letters at all. The last bit doesn't sound much secure, but let's not make our life more complex as it is :)."
      ]
    },
    {
      "cell_type": "code",
      "metadata": {
        "colab": {
          "base_uri": "https://localhost:8080/"
        },
        "id": "9-pUWZRnkUmw",
        "outputId": "a2091986-4ad6-443f-8762-47cde666371d"
      },
      "source": [
        "passwords = ['ilovepython123', 'ILOVEPYTHON123', 'IlovePYTHON123', '123456']\n",
        "\n",
        "for item in passwords:\n",
        "  print('Your password:', item)\n",
        "  if item.islower(): # checking if the entire password is lower case\n",
        "    print('Please add upper case letters to your password.')\n",
        "  elif item.isupper(): # checking if the entire password is upper case\n",
        "    print('Please add lower case letters to your password.')\n",
        "  # if both conditions above have failed it means that our password contains\n",
        "  # a mix of letters or no letters at all, in both cases it is valid\n",
        "  else:\n",
        "    print('Your password is valid.')\n",
        "  print('-'*10) # printing 10 dashes to make the output prettier"
      ],
      "execution_count": null,
      "outputs": [
        {
          "output_type": "stream",
          "text": [
            "Your password: ilovepython123\n",
            "Please add upper case letters to your password.\n",
            "----------\n",
            "Your password: ILOVEPYTHON123\n",
            "Please add lower case letters to your password.\n",
            "----------\n",
            "Your password: IlovePYTHON123\n",
            "Your password is valid.\n",
            "----------\n",
            "Your password: 123456\n",
            "Your password is valid.\n",
            "----------\n"
          ],
          "name": "stdout"
        }
      ]
    },
    {
      "cell_type": "markdown",
      "metadata": {
        "id": "nhQyfEIL-YuG"
      },
      "source": [
        "## .join()"
      ]
    },
    {
      "cell_type": "markdown",
      "metadata": {
        "id": "8n3rfnW0-YuG"
      },
      "source": [
        "The last for today but not the least is method `.join()`. It mirrors the `.split()` method. It can convert a list of strings into the string separated by a divider.\n",
        "\n",
        "We should call that method from a string that we want to use as a separator and as an argument we pass the list of strings."
      ]
    },
    {
      "cell_type": "code",
      "source": [
        "sh_list = [['milk', 'bread', 'oranges'], ['water', 'apple']]\n",
        "for i in sh_list:\n",
        "  print('; '.join(i))"
      ],
      "metadata": {
        "colab": {
          "base_uri": "https://localhost:8080/"
        },
        "id": "5Z0a8jPqAIfL",
        "outputId": "2c14a79b-6414-40ca-a7d8-2321961fd1ac"
      },
      "execution_count": null,
      "outputs": [
        {
          "output_type": "stream",
          "name": "stdout",
          "text": [
            "milk; bread; oranges\n",
            "water; apple\n"
          ]
        }
      ]
    },
    {
      "cell_type": "code",
      "source": [
        "'; '.join(sh_list)"
      ],
      "metadata": {
        "id": "guhrkAUVAW9F",
        "outputId": "6e0327e2-9266-481d-cdc3-f9f3e4b9665f",
        "colab": {
          "base_uri": "https://localhost:8080/",
          "height": 147
        }
      },
      "execution_count": null,
      "outputs": [
        {
          "output_type": "error",
          "ename": "TypeError",
          "evalue": "sequence item 0: expected str instance, list found",
          "traceback": [
            "\u001b[0;31m---------------------------------------------------------------------------\u001b[0m",
            "\u001b[0;31mTypeError\u001b[0m                                 Traceback (most recent call last)",
            "\u001b[0;32m<ipython-input-17-b498b68be6e1>\u001b[0m in \u001b[0;36m<cell line: 1>\u001b[0;34m()\u001b[0m\n\u001b[0;32m----> 1\u001b[0;31m \u001b[0;34m'; '\u001b[0m\u001b[0;34m.\u001b[0m\u001b[0mjoin\u001b[0m\u001b[0;34m(\u001b[0m\u001b[0msh_list\u001b[0m\u001b[0;34m)\u001b[0m\u001b[0;34m\u001b[0m\u001b[0;34m\u001b[0m\u001b[0m\n\u001b[0m",
            "\u001b[0;31mTypeError\u001b[0m: sequence item 0: expected str instance, list found"
          ]
        }
      ]
    },
    {
      "cell_type": "code",
      "metadata": {
        "id": "4uwNN9hW-YuH",
        "colab": {
          "base_uri": "https://localhost:8080/"
        },
        "outputId": "50b77b9a-7dcc-4e11-b1e8-2a932799673d"
      },
      "source": [
        "shopping_list = ['milk', 'bread', 'oranges']\n",
        "print(', '.join(shopping_list)) # please turn our list to string where elements separated by a comma and a space"
      ],
      "execution_count": null,
      "outputs": [
        {
          "output_type": "stream",
          "text": [
            "milk, bread, oranges\n"
          ],
          "name": "stdout"
        }
      ]
    },
    {
      "cell_type": "markdown",
      "metadata": {
        "id": "CA4bMr3A-BnG"
      },
      "source": [
        "We can use `.join()` method prodcut in `f-strings`. But please be careful and do not forget to use different quotation marks for the divider then."
      ]
    },
    {
      "cell_type": "markdown",
      "source": [],
      "metadata": {
        "id": "rEtstv4dnmJ6"
      }
    },
    {
      "cell_type": "code",
      "metadata": {
        "colab": {
          "base_uri": "https://localhost:8080/"
        },
        "id": "ghnJ8l-f-BKs",
        "outputId": "8649e4fe-c75d-45bf-c444-dfa4a5c434b8"
      },
      "source": [
        "shopping_list = ['milk', 'bread', 'oranges']\n",
        "print(f'Shopping list: {\", \".join(shopping_list)}.') # used double quotes for the divider"
      ],
      "execution_count": null,
      "outputs": [
        {
          "output_type": "stream",
          "name": "stdout",
          "text": [
            "Shopping list: milk, bread, oranges.\n"
          ]
        }
      ]
    },
    {
      "cell_type": "markdown",
      "metadata": {
        "id": "mdjjQSNYSUIN"
      },
      "source": [
        "If there is something but strings within a list, Python will throw an error."
      ]
    },
    {
      "cell_type": "code",
      "metadata": {
        "id": "KXQMzwY_SX7G",
        "colab": {
          "base_uri": "https://localhost:8080/",
          "height": 147
        },
        "outputId": "900073c2-0bfe-49a2-d09c-45df89878e5c"
      },
      "source": [
        "',  '.join(['Hello', 5])"
      ],
      "execution_count": null,
      "outputs": [
        {
          "output_type": "error",
          "ename": "TypeError",
          "evalue": "sequence item 1: expected str instance, int found",
          "traceback": [
            "\u001b[0;31m---------------------------------------------------------------------------\u001b[0m",
            "\u001b[0;31mTypeError\u001b[0m                                 Traceback (most recent call last)",
            "\u001b[0;32m<ipython-input-14-d83f2a11beb4>\u001b[0m in \u001b[0;36m<cell line: 1>\u001b[0;34m()\u001b[0m\n\u001b[0;32m----> 1\u001b[0;31m \u001b[0;34m',  '\u001b[0m\u001b[0;34m.\u001b[0m\u001b[0mjoin\u001b[0m\u001b[0;34m(\u001b[0m\u001b[0;34m[\u001b[0m\u001b[0;34m'Hello'\u001b[0m\u001b[0;34m,\u001b[0m \u001b[0;36m5\u001b[0m\u001b[0;34m]\u001b[0m\u001b[0;34m)\u001b[0m\u001b[0;34m\u001b[0m\u001b[0;34m\u001b[0m\u001b[0m\n\u001b[0m",
            "\u001b[0;31mTypeError\u001b[0m: sequence item 1: expected str instance, int found"
          ]
        }
      ]
    },
    {
      "cell_type": "code",
      "source": [
        "',  '.join(['Hello', '5'])"
      ],
      "metadata": {
        "colab": {
          "base_uri": "https://localhost:8080/",
          "height": 36
        },
        "id": "BKj4uhVX_m5B",
        "outputId": "7ab176ad-1ba7-481e-b080-5eeb46e110d9"
      },
      "execution_count": null,
      "outputs": [
        {
          "output_type": "execute_result",
          "data": {
            "text/plain": [
              "'Hello,  5'"
            ],
            "application/vnd.google.colaboratory.intrinsic+json": {
              "type": "string"
            }
          },
          "metadata": {},
          "execution_count": 15
        }
      ]
    },
    {
      "cell_type": "markdown",
      "metadata": {
        "id": "fXaiABqTC9qX"
      },
      "source": [
        "Full list of methods you can find in the [Python official documentation](https://docs.python.org/3/library/stdtypes.html#str.isalnum)."
      ]
    }
  ]
}