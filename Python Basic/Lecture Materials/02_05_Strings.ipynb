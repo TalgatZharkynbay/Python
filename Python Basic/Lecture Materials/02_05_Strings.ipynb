{
  "nbformat": 4,
  "nbformat_minor": 0,
  "metadata": {
    "colab": {
      "provenance": []
    },
    "kernelspec": {
      "name": "python3",
      "display_name": "Python 3"
    }
  },
  "cells": [
    {
      "cell_type": "markdown",
      "metadata": {
        "id": "Jb2tAxb8DcWV"
      },
      "source": [
        "# Strings and symbols"
      ]
    },
    {
      "cell_type": "markdown",
      "metadata": {
        "id": "jwYPKP_fwaBz"
      },
      "source": [
        "Python can work with strings one symbol at a time.\n",
        "\n",
        "We can put square brackets after the string and put there an order number of a symbol that we want to work with. But we should keep in mind that Python counts from 0. So the first letter is stored under the index 0."
      ]
    },
    {
      "cell_type": "code",
      "metadata": {
        "id": "lae2kV_kwICB",
        "colab": {
          "base_uri": "https://localhost:8080/"
        },
        "outputId": "4ca1bad1-7e91-4ed5-dcdc-864cb9b97c6e"
      },
      "source": [
        "print('Hello'[0]) # prints us the first letter"
      ],
      "execution_count": null,
      "outputs": [
        {
          "output_type": "stream",
          "text": [
            "H\n"
          ],
          "name": "stdout"
        }
      ]
    },
    {
      "cell_type": "code",
      "metadata": {
        "id": "yhnJoghZ9Rt7",
        "colab": {
          "base_uri": "https://localhost:8080/"
        },
        "outputId": "b40a016f-ae79-4fd7-8899-d4b9baffb557"
      },
      "source": [
        "print('Hello'[1]) # and now the second"
      ],
      "execution_count": null,
      "outputs": [
        {
          "output_type": "stream",
          "text": [
            "e\n"
          ],
          "name": "stdout"
        }
      ]
    },
    {
      "cell_type": "code",
      "metadata": {
        "id": "9o8QZIz-9UF0",
        "colab": {
          "base_uri": "https://localhost:8080/"
        },
        "outputId": "0ca4c0b0-d44b-44a4-e6fd-ee5dc4b16a6e"
      },
      "source": [
        "print('Hello'[2])"
      ],
      "execution_count": null,
      "outputs": [
        {
          "output_type": "stream",
          "text": [
            "l\n"
          ],
          "name": "stdout"
        }
      ]
    },
    {
      "cell_type": "code",
      "metadata": {
        "id": "DUE_ALgV9WNb",
        "colab": {
          "base_uri": "https://localhost:8080/",
          "height": 53
        },
        "outputId": "d06fbf72-2c6c-4aff-b981-ccd8fc75529f"
      },
      "source": [
        "print('Hello'[3])\n",
        "print('Hello'[4])"
      ],
      "execution_count": null,
      "outputs": [
        {
          "output_type": "stream",
          "text": [
            "l\n",
            "o\n"
          ],
          "name": "stdout"
        }
      ]
    },
    {
      "cell_type": "markdown",
      "metadata": {
        "id": "JL7xCoQEww8x"
      },
      "source": [
        "We can also store a string inside the variable and still be able to access its symbols."
      ]
    },
    {
      "cell_type": "code",
      "metadata": {
        "id": "QSedjSSVw6_X",
        "colab": {
          "base_uri": "https://localhost:8080/"
        },
        "outputId": "4b57f119-c027-403a-859c-054fef79a657"
      },
      "source": [
        "s = 'Hello'\n",
        "print(s[0]) # prints the first symbol of the string that is stored in 's' variable\n",
        "print(s[1])\n",
        "print(s[2])\n",
        "print(s[3])\n",
        "print(s[4])\n",
        "print(s) # prints the entire string"
      ],
      "execution_count": null,
      "outputs": [
        {
          "output_type": "stream",
          "text": [
            "H\n",
            "e\n",
            "l\n",
            "l\n",
            "o\n",
            "Hello\n"
          ],
          "name": "stdout"
        }
      ]
    },
    {
      "cell_type": "markdown",
      "metadata": {
        "id": "_uE0Vb8GxFRt"
      },
      "source": [
        "You may notice, that all those commands did not affect the string 'Hello' itself. So basically when we call `print(s[2])`, computer does not delete other symbols, but simply shows the only one that corresponds to that **index**."
      ]
    },
    {
      "cell_type": "markdown",
      "metadata": {
        "id": "NU2j4Jvwj6Zg"
      },
      "source": [
        "We can find out how many symbols there are in the string if we call function `len()`"
      ]
    },
    {
      "cell_type": "code",
      "metadata": {
        "id": "9NVtJ2wRj_rv",
        "colab": {
          "base_uri": "https://localhost:8080/"
        },
        "outputId": "6710419c-5e94-4a08-c6e8-0ef88a51d9bd"
      },
      "source": [
        "print(len('Hello'))"
      ],
      "execution_count": null,
      "outputs": [
        {
          "output_type": "stream",
          "text": [
            "5\n"
          ],
          "name": "stdout"
        }
      ]
    },
    {
      "cell_type": "markdown",
      "metadata": {
        "id": "SsjluhTULGTB"
      },
      "source": [
        "What will happen if we put into the brackets a very large index?"
      ]
    },
    {
      "cell_type": "code",
      "metadata": {
        "id": "hkaLF79qLFzk",
        "colab": {
          "base_uri": "https://localhost:8080/",
          "height": 181
        },
        "outputId": "0a030b23-14a3-494a-f27c-cdf76dcdc568"
      },
      "source": [
        "s = 'Hello'\n",
        "print(s[10])  # should print the 11-s symbol of the string 'Hello' but it simply does not exist"
      ],
      "execution_count": null,
      "outputs": [
        {
          "output_type": "error",
          "ename": "IndexError",
          "evalue": "ignored",
          "traceback": [
            "\u001b[0;31m---------------------------------------------------------------------------\u001b[0m",
            "\u001b[0;31mIndexError\u001b[0m                                Traceback (most recent call last)",
            "\u001b[0;32m<ipython-input-7-bd9df5b728b3>\u001b[0m in \u001b[0;36m<module>\u001b[0;34m()\u001b[0m\n\u001b[1;32m      1\u001b[0m \u001b[0ms\u001b[0m \u001b[0;34m=\u001b[0m \u001b[0;34m'Hello'\u001b[0m\u001b[0;34m\u001b[0m\u001b[0;34m\u001b[0m\u001b[0m\n\u001b[0;32m----> 2\u001b[0;31m \u001b[0mprint\u001b[0m\u001b[0;34m(\u001b[0m\u001b[0ms\u001b[0m\u001b[0;34m[\u001b[0m\u001b[0;36m10\u001b[0m\u001b[0;34m]\u001b[0m\u001b[0;34m)\u001b[0m  \u001b[0;31m# print the 11-s symbol of the string 'Hello' which is simply does not exist\u001b[0m\u001b[0;34m\u001b[0m\u001b[0;34m\u001b[0m\u001b[0m\n\u001b[0m",
            "\u001b[0;31mIndexError\u001b[0m: string index out of range"
          ]
        }
      ]
    },
    {
      "cell_type": "markdown",
      "metadata": {
        "id": "TpjgY9xULtBI"
      },
      "source": [
        "Will get an error `IndexError: string index out of range`, which simply tells us that our index is out of range."
      ]
    },
    {
      "cell_type": "markdown",
      "metadata": {
        "id": "8LTXYn5YL6Ly"
      },
      "source": [
        "Can we use a negative index?"
      ]
    },
    {
      "cell_type": "code",
      "metadata": {
        "id": "zAeyZpeZL-Iu",
        "colab": {
          "base_uri": "https://localhost:8080/"
        },
        "outputId": "bc9936ce-1d52-4c0f-f327-ebe8b57f0469"
      },
      "source": [
        "s = 'Hello'\n",
        "print(s[-2])"
      ],
      "execution_count": null,
      "outputs": [
        {
          "output_type": "stream",
          "text": [
            "o\n"
          ],
          "name": "stdout"
        }
      ]
    },
    {
      "cell_type": "markdown",
      "metadata": {
        "id": "XsLsIrucMCCf"
      },
      "source": [
        "There will be no error, and we will get the last symbol of the string. So basically with negative indexing we can read our string right to left."
      ]
    },
    {
      "cell_type": "code",
      "metadata": {
        "id": "9fimyjgDMBnU",
        "colab": {
          "base_uri": "https://localhost:8080/"
        },
        "outputId": "82c661d5-ad4b-44b6-9a1d-5762b9e80bbe"
      },
      "source": [
        "s = 'Hello'\n",
        "print(s[-1])  # The last symbol\n",
        "print(s[-2])  # Second from the end\n",
        "print(s[-3])\n",
        "print(s[-4])\n",
        "print(s[-5])"
      ],
      "execution_count": null,
      "outputs": [
        {
          "output_type": "stream",
          "text": [
            "o\n",
            "l\n",
            "l\n",
            "e\n",
            "H\n"
          ],
          "name": "stdout"
        }
      ]
    },
    {
      "cell_type": "markdown",
      "metadata": {
        "id": "ySz6uw8FMUYV"
      },
      "source": [
        "If we ask for a too small of an index, we will also get an IndexError.\n"
      ]
    },
    {
      "cell_type": "code",
      "metadata": {
        "id": "lzVqYfyTMkVn",
        "colab": {
          "base_uri": "https://localhost:8080/",
          "height": 186
        },
        "outputId": "eb13077e-f483-494a-a86b-54d1555f1120"
      },
      "source": [
        "s = 'Hello'\n",
        "print(s[-8]) # there is no -8 index, since there are only 5 symbols in our string"
      ],
      "execution_count": null,
      "outputs": [
        {
          "output_type": "error",
          "ename": "IndexError",
          "evalue": "ignored",
          "traceback": [
            "\u001b[0;31m---------------------------------------------------------------------------\u001b[0m",
            "\u001b[0;31mIndexError\u001b[0m                                Traceback (most recent call last)",
            "\u001b[0;32m<ipython-input-9-d56b65ea5170>\u001b[0m in \u001b[0;36m<module>\u001b[0;34m()\u001b[0m\n\u001b[1;32m      1\u001b[0m \u001b[0ms\u001b[0m \u001b[0;34m=\u001b[0m \u001b[0;34m'Hello'\u001b[0m\u001b[0;34m\u001b[0m\u001b[0;34m\u001b[0m\u001b[0m\n\u001b[0;32m----> 2\u001b[0;31m \u001b[0mprint\u001b[0m\u001b[0;34m(\u001b[0m\u001b[0ms\u001b[0m\u001b[0;34m[\u001b[0m\u001b[0;34m-\u001b[0m\u001b[0;36m8\u001b[0m\u001b[0;34m]\u001b[0m\u001b[0;34m)\u001b[0m \u001b[0;31m# there is now -8 index, since there only 5 symbols in our string\u001b[0m\u001b[0;34m\u001b[0m\u001b[0;34m\u001b[0m\u001b[0m\n\u001b[0m",
            "\u001b[0;31mIndexError\u001b[0m: string index out of range"
          ]
        }
      ]
    },
    {
      "cell_type": "markdown",
      "metadata": {
        "id": "Ld1U5h4xxmme"
      },
      "source": [
        "\n",
        "## Task 1\n",
        "Let's find out some information about Russian passport holder.\n",
        "\n",
        "The ID of Russian passports looks like this: 4612 796901, where the first two digits — an ID of the region, where it was issued. And the second pair of digits is the year, when it was issued."
      ]
    },
    {
      "cell_type": "code",
      "metadata": {
        "id": "tjE2sNcox7IQ"
      },
      "source": [
        "# input a passport ID number in a following format: four digits - space - six digits\n",
        "# store it into the `id` variable\n",
        "\n",
        "# store the first two digits into the variable `region`\n",
        "\n",
        "# store the third and the forth digit into the variable `year'`\n",
        "\n",
        "# print full passport ID number\n",
        "\n",
        "# print the string 'This passport was issued in', `year` variable, ' year.'\n",
        "\n",
        "# print the string 'This passport was issued in', `region` variable, ' region.'"
      ],
      "execution_count": null,
      "outputs": []
    },
    {
      "cell_type": "markdown",
      "metadata": {
        "id": "fj7vm204FP7Z"
      },
      "source": [
        "# How to print a pretty output"
      ]
    },
    {
      "cell_type": "code",
      "metadata": {
        "id": "edeLhKvOvWNm",
        "colab": {
          "base_uri": "https://localhost:8080/"
        },
        "outputId": "eecc675a-d138-484b-a6d8-fc64856602c8"
      },
      "source": [
        "first = input('What would you bring to a deserted island? ')\n",
        "second = input('And? ')\n",
        "third = input('Something else? ')\n",
        "\n",
        "print('To a deserted island you would bring' , end=\": \") # end=\": \" — This way we ask Python not to finish printed line with a \\n\n",
        "                                                         # but rather put ': ' in the end and start next printed line right after colon\n",
        "\n",
        "print(first, second, third, sep=\", \") # sep=\", \" — this way we aks Python to not simply print strings with space between them,\n",
        "                                      # but put there a comma with a space after"
      ],
      "execution_count": null,
      "outputs": [
        {
          "output_type": "stream",
          "text": [
            "What would you bring to a deserted island? A book\n",
            "And? a friend\n",
            "Something else? nintendo switch\n",
            "To a deserted island you would bring: A book, a friend, nintendo switch\n"
          ],
          "name": "stdout"
        }
      ]
    },
    {
      "cell_type": "markdown",
      "metadata": {
        "id": "8cOAzyzoxFIW"
      },
      "source": [
        "With a little help of words `sep` and `end` we are tuning `print()` function. We tell computer what do we want exactly. We do not know, how `print()` works, as we know nothing about the internal mechanism of the vending coffee machine. But with a help of `sep` and `end` we can specify how our text should be printed.\n",
        "\n",
        "Words `sep` and `end` are like `More sugar` and `Less sugar` buttons at the face of the coffee automat — they help us to tune what we will get as a result. Such words we would call **keyword arguments** or **function parameters**."
      ]
    },
    {
      "cell_type": "code",
      "metadata": {
        "id": "QKiGIOMxxg2D",
        "colab": {
          "base_uri": "https://localhost:8080/"
        },
        "outputId": "d7f3fc26-283c-4d3c-f313-2c83e53ad7a9"
      },
      "source": [
        "print('String here is also called an argument, but not a keyword argument')"
      ],
      "execution_count": null,
      "outputs": [
        {
          "output_type": "stream",
          "text": [
            "String here is also called an argument, but not a keyword argument\n"
          ],
          "name": "stdout"
        }
      ]
    },
    {
      "cell_type": "markdown",
      "metadata": {
        "id": "KuaMY9SDyfha"
      },
      "source": [
        "We already know that if we want to put a variable value into a string, we may use `+` operator to 'glue' strings together.\n"
      ]
    },
    {
      "cell_type": "code",
      "metadata": {
        "colab": {
          "base_uri": "https://localhost:8080/"
        },
        "id": "58v-pYuWEJkw",
        "outputId": "160cfbaa-2a08-4b38-8e1a-10c63f9122da"
      },
      "source": [
        "name = input('What is student\\'s name? ')\n",
        "print('Hi, ' + name)"
      ],
      "execution_count": null,
      "outputs": [
        {
          "output_type": "stream",
          "text": [
            "What is student's name? Anna\n",
            "Hi, Anna\n"
          ],
          "name": "stdout"
        }
      ]
    },
    {
      "cell_type": "markdown",
      "metadata": {
        "id": "v5LBxA-3EQRm"
      },
      "source": [
        "However, it is not always convenient. Sometimes we need to put that variable into many places. Or to put something after it. Here we can use so called `f-strings`.\n",
        "\n",
        "* We put f symbol before the quotation mark of our string.\n",
        "* Inside the string we put curly brackets and inside them the variable name that should be printed in that place.\n",
        "* Those curly brackets and f-symbol are technical symbols, they will not be printed but they will signal Python that we want put variable's contents inside the string."
      ]
    },
    {
      "cell_type": "markdown",
      "metadata": {
        "id": "q6ZKGGIXjzlm"
      },
      "source": []
    },
    {
      "cell_type": "code",
      "metadata": {
        "id": "RyVVcLXDxvv0",
        "colab": {
          "base_uri": "https://localhost:8080/"
        },
        "outputId": "ac87cecb-8477-4bb3-f4ae-37cbfe0afff7"
      },
      "source": [
        "name = input('What is student\\'s name? ')\n",
        "print(f'Привет, {name}')\n",
        "print(f'Hello, {name}!')\n",
        "print(f'おはようございます, {name}!')"
      ],
      "execution_count": null,
      "outputs": [
        {
          "output_type": "stream",
          "text": [
            "What is student's name? Anna\n",
            "Привет, Anna\n",
            "Hello, Anna!\n",
            "おはようございます, Anna!\n"
          ],
          "name": "stdout"
        }
      ]
    },
    {
      "cell_type": "markdown",
      "metadata": {
        "id": "eXoqvoMuleui"
      },
      "source": []
    },
    {
      "cell_type": "code",
      "metadata": {
        "id": "hJYb6NsX2f2a",
        "colab": {
          "base_uri": "https://localhost:8080/"
        },
        "outputId": "1a5b00dc-b22d-4755-fccd-00b2473867a0"
      },
      "source": [
        "name = input('What is student\\'s name? ')\n",
        "addr = input('Where will be the party? ')\n",
        "date = input('Day? ')\n",
        "time = input('Time? ')\n",
        "print(f'Hi, {name}! We want to invite you to a party. It will happen here: {addr}, on {date} at {time} pm. Looking forward!')"
      ],
      "execution_count": null,
      "outputs": [
        {
          "output_type": "stream",
          "text": [
            "What is student's name? Anna\n",
            "Where will be the party? Pokrovsky blv. 11\n",
            "Day? 5.02\n",
            "Time? 9\n",
            "Hi, Anna! We want to invite you to party. I will happen here: Pokrovsky blv. 11, on 5.02 at 9 pm. Looking forward!\n"
          ],
          "name": "stdout"
        }
      ]
    },
    {
      "cell_type": "markdown",
      "metadata": {
        "id": "7jj4Goa54Jvu"
      },
      "source": [
        "If we want to print it on several lines, we can add `\\n` symbols inside the text. It will break the text to the next line."
      ]
    },
    {
      "cell_type": "code",
      "metadata": {
        "id": "9h1NICwI4QIX",
        "colab": {
          "base_uri": "https://localhost:8080/"
        },
        "outputId": "86be5e73-b15f-4de4-d969-df4fa942ca82"
      },
      "source": [
        "print(f'Hi, {name}! We want to invite you to party.\\nIt will happen here: {addr}, on {date} at {time} pm.\\nLooking forward!')"
      ],
      "execution_count": null,
      "outputs": [
        {
          "output_type": "stream",
          "text": [
            "Hi, Anna! We want to invite you to party.\n",
            "It will happen here: Pokrovsky blv. 11, on 5.02 at 9 pm.\n",
            "Looking forward!\n"
          ],
          "name": "stdout"
        }
      ]
    }
  ]
}