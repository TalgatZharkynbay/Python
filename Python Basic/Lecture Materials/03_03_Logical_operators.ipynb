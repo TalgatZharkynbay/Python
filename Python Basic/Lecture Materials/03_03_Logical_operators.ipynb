{
  "nbformat": 4,
  "nbformat_minor": 0,
  "metadata": {
    "colab": {
      "provenance": []
    },
    "kernelspec": {
      "display_name": "Python 3",
      "language": "python",
      "name": "python3"
    },
    "language_info": {
      "codemirror_mode": {
        "name": "ipython",
        "version": 3
      },
      "file_extension": ".py",
      "mimetype": "text/x-python",
      "name": "python",
      "nbconvert_exporter": "python",
      "pygments_lexer": "ipython3",
      "version": "3.7.6"
    }
  },
  "cells": [
    {
      "cell_type": "markdown",
      "metadata": {
        "id": "XUQdbDXDDrDB"
      },
      "source": [
        "## Logical operators"
      ]
    },
    {
      "cell_type": "markdown",
      "metadata": {
        "id": "FigG5rWXDrDC"
      },
      "source": [
        "Now it's time to find our how to formulate more complex conditions which are based on several expressions."
      ]
    },
    {
      "cell_type": "markdown",
      "metadata": {
        "id": "0QeIw2luDrDD"
      },
      "source": [
        "We've talked about *arithmetic operators*, e.g. `+`, `-` and so on. We used them for numbers and strings.\n",
        "\n",
        "We also have talked about *comparison operators*, e.g. `==` or `>`. We used those again for numbers and strings.\n",
        "\n",
        "Now we will talk about *logical operators*. Those can be used to work with boolean variables to get another boolean variable.\n"
      ]
    },
    {
      "cell_type": "markdown",
      "metadata": {
        "id": "KhHMueZJ2w3p"
      },
      "source": [
        "When we might need something like this?\n",
        "\n",
        "Let's consider an example. *In order to organise a hiking trip we need no less than 7 but no more than 15 people to sign up.*"
      ]
    },
    {
      "cell_type": "markdown",
      "metadata": {
        "id": "mNtlqkkG2w3q"
      },
      "source": [
        "What can happen here?\n",
        "\n",
        "* The number of signed up students is more than 6 **AND** less than 16. Than our condition is True.\n",
        "* The number of signed up students is less than 7 **OR** more than 15. Than our condition is False.\n",
        "\n",
        "How to check whethere there are less than 7 students signed up we already know. **AND** and **OR** are logical operators that help us to connect to conditions. You may find them familiar if you've studied courses on logic before."
      ]
    },
    {
      "cell_type": "code",
      "metadata": {
        "id": "R7rhsSOzDrDO",
        "colab": {
          "base_uri": "https://localhost:8080/"
        },
        "outputId": "ab9d0163-617e-4015-95d9-f7467f4cb893"
      },
      "source": [
        "group = int(input('How many people did sign up? '))\n",
        "print(group > 6) # Did more than 6 people singed up? (no less than 7)\n",
        "print(group < 16)   # Did 15 or less people signed up?"
      ],
      "execution_count": null,
      "outputs": [
        {
          "output_type": "stream",
          "text": [
            "How many people signed up? 20\n",
            "True\n",
            "False\n"
          ],
          "name": "stdout"
        }
      ]
    },
    {
      "cell_type": "markdown",
      "metadata": {
        "id": "BjoAB8q7DrDU"
      },
      "source": [
        "Let's connect those expression via logical AND. Let's write the expression with AND that would be True in case that we can go hiking."
      ]
    },
    {
      "cell_type": "code",
      "metadata": {
        "id": "l7w-_rX7DrDV",
        "colab": {
          "base_uri": "https://localhost:8080/"
        },
        "outputId": "a11dce16-4a80-4bda-d37f-bf2b378ecb6a"
      },
      "source": [
        "group = int(input('How many people did sign up? '))\n",
        "print(group > 6 and group < 16) # checking if we can go hiking"
      ],
      "execution_count": null,
      "outputs": [
        {
          "output_type": "stream",
          "text": [
            "How many people did sign up? 15\n",
            "True\n"
          ],
          "name": "stdout"
        }
      ]
    },
    {
      "cell_type": "markdown",
      "metadata": {
        "id": "P9bnt89LDrDY"
      },
      "source": [
        "In this case the expression will be True then and only then if **both** logical values would be True.\n",
        "\n",
        "Let's write up the full program."
      ]
    },
    {
      "cell_type": "code",
      "metadata": {
        "id": "rH4JxrR62w35",
        "colab": {
          "base_uri": "https://localhost:8080/"
        },
        "outputId": "9152f9ef-28ad-4ebb-b571-d041519364b8"
      },
      "source": [
        "group = int(input('How many people did sign up? '))\n",
        "if group > 6 and group < 16:\n",
        "    print('We can go hiking!')\n",
        "else:\n",
        "    print('We cannot go hiking :(') # it will happen if too many or too few people signed up"
      ],
      "execution_count": null,
      "outputs": [
        {
          "output_type": "stream",
          "text": [
            "How many people did sign up? 20\n",
            "We cannot go hiking :(\n"
          ],
          "name": "stdout"
        }
      ]
    },
    {
      "cell_type": "markdown",
      "metadata": {
        "id": "02BThEhK6FW_"
      },
      "source": [
        "Now let's write the expression with logical OR for the case that it should be True if we cannot go hiking."
      ]
    },
    {
      "cell_type": "code",
      "metadata": {
        "id": "Y7NX3Un7DrDZ",
        "colab": {
          "base_uri": "https://localhost:8080/"
        },
        "outputId": "99871d09-536b-4589-ded9-1af4e8cc130d"
      },
      "source": [
        "group = int(input('How many people did sign up? '))\n",
        "print(group < 7 or group > 15) # checking if we cannot go hiking"
      ],
      "execution_count": null,
      "outputs": [
        {
          "output_type": "stream",
          "text": [
            "How many people did sign up? 20\n",
            "True\n"
          ],
          "name": "stdout"
        }
      ]
    },
    {
      "cell_type": "markdown",
      "metadata": {
        "id": "zugjkVPe2w34"
      },
      "source": [
        "This expression would be True then if **at least one** logical value is True.\n",
        "\n",
        "We also can use another logical operator **NOT** to express the statement which is True when we cannot go hiking. Let's take the statement which gives us True when we can go hiking and use logical NOT on it. It will flip the logical value: True to False and vice versa."
      ]
    },
    {
      "cell_type": "code",
      "metadata": {
        "id": "kC3WFpBs2w39",
        "colab": {
          "base_uri": "https://localhost:8080/"
        },
        "outputId": "e31bfedc-9108-4426-8b2a-ba9b21a317e5"
      },
      "source": [
        "group = int(input('How many people did sign up? '))\n",
        "is_hike_possible = group > 6 and group < 16 # checking that we can go hiking\n",
        "if not is_hike_possible: # flipping the variable contents\n",
        "  print('Cannot go hiking')\n",
        "else:\n",
        "  print('Can go hiking')"
      ],
      "execution_count": null,
      "outputs": [
        {
          "output_type": "stream",
          "text": [
            "How many people did sign up? 20\n",
            "Cannot go hiking\n"
          ],
          "name": "stdout"
        }
      ]
    },
    {
      "cell_type": "markdown",
      "metadata": {
        "id": "DGc073YcDrDg"
      },
      "source": [
        "### Usage of several logical operators whithin one expression\n",
        "\n",
        "We can write more complex expression.\n",
        "\n",
        "For example, in the previous program we can skip the step of variable assignment."
      ]
    },
    {
      "cell_type": "code",
      "metadata": {
        "id": "-0MSKGmZ-cU5",
        "colab": {
          "base_uri": "https://localhost:8080/"
        },
        "outputId": "d47dd393-058d-4329-c6d7-919c4b44f50b"
      },
      "source": [
        "group = int(input('How many people did sign up? '))\n",
        "if not group > 6 and group < 16:\n",
        "  print('Cannot go hiking')\n",
        "else:\n",
        "  print('Can go hiking')"
      ],
      "execution_count": null,
      "outputs": [
        {
          "output_type": "stream",
          "text": [
            "How many people did sign up? 20\n",
            "Can go hiking\n"
          ],
          "name": "stdout"
        }
      ]
    },
    {
      "cell_type": "markdown",
      "metadata": {
        "id": "tsCayKcO-z0B"
      },
      "source": [
        "Oops! Something went wrong. The problem is that in line\n",
        "\n",
        "```\n",
        "not group > 6 and group < 16\n",
        "```\n",
        "\n",
        "**not** is executed first and our expression then is evaluated like this:\n",
        "\n",
        "```\n",
        "group <= 6 and group < 16\n",
        "```\n",
        "\n",
        "which is virtually just *group <= 6*. It happens because logical operators have precedence, meaning that some of them are executed first. Like multiplication in relation to addition or subtraction.\n",
        "\n",
        "**not** has the highest precedence in relation to **and** and **or**. But we can fix that problem via parantheses the same way like we do with arithmetic operators."
      ]
    },
    {
      "cell_type": "code",
      "metadata": {
        "id": "koeIjNgeJ4oh",
        "colab": {
          "base_uri": "https://localhost:8080/"
        },
        "outputId": "fdf70664-d9a9-4910-fc16-dac526fb7046"
      },
      "source": [
        "group = int(input('How many people did sign up? '))\n",
        "if not(group > 6 and group < 16):\n",
        "  print('Cannot go hiking')\n",
        "else:\n",
        "  print('Can go hiking')"
      ],
      "execution_count": null,
      "outputs": [
        {
          "output_type": "stream",
          "text": [
            "How many people did sign up? 20\n",
            "Cannot go hiking\n"
          ],
          "name": "stdout"
        }
      ]
    },
    {
      "cell_type": "markdown",
      "metadata": {
        "id": "DWUh4Nh79zTg"
      },
      "source": [
        "Now let's check how **and** and **or** behave.\n",
        "\n",
        "Imagine that we want to bake berry pies (either with blueberry or with cherry). Let's start by checking that we have stuffing and some dough.\n",
        "\n",
        "We can solve something like this via nested condition."
      ]
    },
    {
      "cell_type": "code",
      "metadata": {
        "id": "c8FhCGGH2w4A",
        "colab": {
          "base_uri": "https://localhost:8080/"
        },
        "outputId": "a0480446-2e06-4e09-c6be-25c695747012"
      },
      "source": [
        "cherry = input('Do we have cherry? ')\n",
        "blueberry = input('Do we have blueberry? ')\n",
        "dough = input('Do we have any dough? ')\n",
        "\n",
        "if cherry == 'yes' or blueberry == 'yes': # checking that we have berries\n",
        "    if dough == 'yes': # checking that we have pastry\n",
        "        print('Baking pie')\n",
        "    else:\n",
        "        print('Not enough ingredients')\n",
        "else:\n",
        "    print('Not enough ingredients')"
      ],
      "execution_count": null,
      "outputs": [
        {
          "output_type": "stream",
          "text": [
            "Do we have cherry? yes\n",
            "Do we have blueberry? yes\n",
            "Do we have any dough? yes\n",
            "Baking pie\n"
          ],
          "name": "stdout"
        }
      ]
    },
    {
      "cell_type": "markdown",
      "metadata": {
        "id": "OPpx_sNS2w4D"
      },
      "source": [
        "Looks complicated. Also we wrote two similar sets of instructions in `else` statements.\n",
        "\n",
        "Let's write up several logical operators within one conditional statement."
      ]
    },
    {
      "cell_type": "code",
      "metadata": {
        "id": "ajYx-Hr42w4D",
        "colab": {
          "base_uri": "https://localhost:8080/"
        },
        "outputId": "3a44f671-ec30-4ab6-a609-d46401bb6faa"
      },
      "source": [
        "cherry = input('Do we have cherry? ')\n",
        "blueberry = input('Do we have blueberry? ')\n",
        "dough = input('Do we have any dough? ')\n",
        "\n",
        "if cherry == 'yes' or blueberry == 'yes' and dough == 'yes':\n",
        "    print('Baking pie')\n",
        "else:\n",
        "    print('Not enough ingredients')"
      ],
      "execution_count": null,
      "outputs": [
        {
          "output_type": "stream",
          "text": [
            "Do we have cherry? yes\n",
            "Do we have blueberry? no\n",
            "Do we have any dough? no\n",
            "Baking pie\n"
          ],
          "name": "stdout"
        }
      ]
    },
    {
      "cell_type": "markdown",
      "metadata": {
        "id": "qSWQI8Uq2w4H"
      },
      "source": [
        "A mistake! We have cherry and do not have any dough, but we still are 'baking pie'.\n",
        "\n",
        "It happend because **and** has higher precedence in relation to **or**.\n",
        "\n",
        "In our example **or** was executed after **and**, we virtually were evaluatig `True (we have cherry) or False (we have neither blueberry nor dough) `\n",
        "\n",
        "Let's put **or** expression within the parenthesis."
      ]
    },
    {
      "cell_type": "code",
      "metadata": {
        "id": "1-Uze9pE2w4I",
        "colab": {
          "base_uri": "https://localhost:8080/"
        },
        "outputId": "e02d9a5f-e23d-4117-d0a1-4af1091418d3"
      },
      "source": [
        "cherry = input('Do we have cherry? ')\n",
        "blueberry = input('Do we have blueberry? ')\n",
        "dough = input('Do we have any dough? ')\n",
        "\n",
        "if (cherry == 'yes' or blueberry == 'yes') and dough == 'yes':\n",
        "    print('Baking pie')\n",
        "else:\n",
        "    print('Not enough ingredients')"
      ],
      "execution_count": null,
      "outputs": [
        {
          "output_type": "stream",
          "text": [
            "Do we have cherry? yes\n",
            "Do we have blueberry? no\n",
            "Do we have any dough? no\n",
            "Baking pie\n"
          ],
          "name": "stdout"
        }
      ]
    },
    {
      "cell_type": "markdown",
      "metadata": {
        "id": "RJb-tRA_DrEB"
      },
      "source": [
        "Now it is correct!"
      ]
    },
    {
      "cell_type": "code",
      "metadata": {
        "id": "5hjwcnR_AwZS"
      },
      "source": [],
      "execution_count": null,
      "outputs": []
    }
  ]
}