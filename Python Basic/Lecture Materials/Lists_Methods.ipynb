{
  "nbformat": 4,
  "nbformat_minor": 0,
  "metadata": {
    "colab": {
      "provenance": []
    },
    "kernelspec": {
      "name": "python3",
      "display_name": "Python 3"
    }
  },
  "cells": [
    {
      "cell_type": "markdown",
      "metadata": {
        "id": "d2_faSOetK57"
      },
      "source": [
        "# Lists' methods\n",
        "\n",
        "Of course, methods are not something reserved only for strings. We will use a lot of methods specific for other data types as well. In this notebook you will find examples of lists' methods. The major difference of lists' methods from the strings' methods is that the majority of them **change the inititial list they were applied to**. So you will not need to save result of their work into a variable, it might even lead to errors."
      ]
    },
    {
      "cell_type": "code",
      "source": [
        "# mutable data type\n",
        "shopping_list = ['milk', 'bread', 'oranges']\n",
        "shopping_list[0] = 'water'\n",
        "shopping_list"
      ],
      "metadata": {
        "colab": {
          "base_uri": "https://localhost:8080/"
        },
        "id": "kXTDQ2JunkPz",
        "outputId": "8fcfdd4b-aea3-4e9d-e97d-4a2bff73b1c2"
      },
      "execution_count": null,
      "outputs": [
        {
          "output_type": "execute_result",
          "data": {
            "text/plain": [
              "['water', 'bread', 'oranges']"
            ]
          },
          "metadata": {},
          "execution_count": 1
        }
      ]
    },
    {
      "cell_type": "markdown",
      "metadata": {
        "id": "I6UnpG8Lt1iQ"
      },
      "source": [
        "## `.append()`\n",
        "\n",
        "That method allows us to append a new element to the end of the list. It takes one argument — what to append."
      ]
    },
    {
      "cell_type": "code",
      "metadata": {
        "colab": {
          "base_uri": "https://localhost:8080/"
        },
        "id": "oqsQaqU6vquB",
        "outputId": "368b3e00-ae62-41a6-c29a-34d97bd5ff66"
      },
      "source": [
        "shopping_list = ['milk'] # creates a list with one element\n",
        "print(shopping_list)     # checking our list before applying `.append()`\n",
        "shopping_list.append('bread')    # adding string 'bread' to the list\n",
        "print(shopping_list) # cheking our changed list"
      ],
      "execution_count": null,
      "outputs": [
        {
          "output_type": "stream",
          "name": "stdout",
          "text": [
            "['milk']\n",
            "['milk', 'bread']\n"
          ]
        }
      ]
    },
    {
      "cell_type": "code",
      "source": [
        "type(shopping_list.append('bread'))"
      ],
      "metadata": {
        "colab": {
          "base_uri": "https://localhost:8080/"
        },
        "id": "rRkENBwnoh7m",
        "outputId": "5f710e02-c025-4dcb-b526-47930ab37c0f"
      },
      "execution_count": null,
      "outputs": [
        {
          "output_type": "execute_result",
          "data": {
            "text/plain": [
              "NoneType"
            ]
          },
          "metadata": {},
          "execution_count": 3
        }
      ]
    },
    {
      "cell_type": "markdown",
      "metadata": {
        "id": "VO3OqyXtv99M"
      },
      "source": [
        "We will often use `.append()` within a loop to save multiple items to the list."
      ]
    },
    {
      "cell_type": "code",
      "metadata": {
        "id": "EgZYbKmd-Yt2",
        "colab": {
          "base_uri": "https://localhost:8080/"
        },
        "outputId": "f7adcac5-5209-4379-8ea7-3b42a71f177c"
      },
      "source": [
        "shopping_list = []      # creating an empty list\n",
        "\n",
        "for i in range(3):      # running the loop three times in a row\n",
        "    shopping_list.append(input(f'Add item #{i+1}: ')) # adding new item to our list\n",
        "# ', '.join(shopping_list)\n",
        "print(*shopping_list, sep=', ') # checking the final list"
      ],
      "execution_count": null,
      "outputs": [
        {
          "output_type": "stream",
          "name": "stdout",
          "text": [
            "Add item #1: bread\n",
            "Add item #2: milk\n",
            "Add item #3: apple\n",
            "bread, milk, apple\n"
          ]
        }
      ]
    },
    {
      "cell_type": "markdown",
      "metadata": {
        "id": "xlXid3DXwnEx"
      },
      "source": [
        "Of course you can use it within `while` loop as well."
      ]
    },
    {
      "cell_type": "code",
      "metadata": {
        "colab": {
          "base_uri": "https://localhost:8080/"
        },
        "id": "wXO3Hy1SwmsT",
        "outputId": "7f567d76-85df-4978-e31e-71bc43cfa500"
      },
      "source": [
        "shopping_list = []\n",
        "\n",
        "i = 1\n",
        "item = input(f'Add item #{i}: ')\n",
        "while item != 'end': # will be inputting items until 'end' is not entered\n",
        "  shopping_list.append(item)\n",
        "  i += 1\n",
        "  item = input(f'Add item #{i}: ')\n",
        "\n",
        "print(*shopping_list, sep=', ')"
      ],
      "execution_count": null,
      "outputs": [
        {
          "output_type": "stream",
          "text": [
            "Add item #1: bread\n",
            "Add item #2: milk\n",
            "Add item #3: oranges\n",
            "Add item #4: chocolate\n",
            "Add item #5: end\n",
            "bread, milk, oranges, chocolate\n"
          ],
          "name": "stdout"
        }
      ]
    },
    {
      "cell_type": "markdown",
      "metadata": {
        "id": "T9rLRuZtkE0y"
      },
      "source": [
        "## `.remove()`\n",
        "We can not only add elements to the list, but also remove them. `.remove()` requires one argument — what to remove. It removes the first occurence of that item within a list."
      ]
    },
    {
      "cell_type": "code",
      "metadata": {
        "colab": {
          "base_uri": "https://localhost:8080/"
        },
        "id": "2sfUvckDyvBn",
        "outputId": "b76cf39c-33b6-459c-c625-1304465be220"
      },
      "source": [
        "shopping_list = ['milk', 'bread', 'milk', 'chocolate']\n",
        "print(shopping_list) # printing list\n",
        "shopping_list.remove('milk') # removing 'milk' string\n",
        "print(shopping_list) # printing changed list, only the first 'milk' string was removed"
      ],
      "execution_count": null,
      "outputs": [
        {
          "output_type": "stream",
          "name": "stdout",
          "text": [
            "['milk', 'bread', 'milk', 'chocolate']\n",
            "['bread', 'milk', 'chocolate']\n"
          ]
        }
      ]
    },
    {
      "cell_type": "markdown",
      "metadata": {
        "id": "A1xVan5Sy87r"
      },
      "source": [
        "But be careful, if the list does not contain such element, you will get an error."
      ]
    },
    {
      "cell_type": "code",
      "metadata": {
        "colab": {
          "base_uri": "https://localhost:8080/",
          "height": 166
        },
        "id": "5cTX8Xddy8iz",
        "outputId": "03068ef1-a1d2-4f62-8328-0af557b0faf4"
      },
      "source": [
        "shopping_list = ['milk', 'bread', 'milk', 'chocolate']\n",
        "shopping_list.remove('oranges')"
      ],
      "execution_count": null,
      "outputs": [
        {
          "output_type": "error",
          "ename": "ValueError",
          "evalue": "list.remove(x): x not in list",
          "traceback": [
            "\u001b[0;31m---------------------------------------------------------------------------\u001b[0m",
            "\u001b[0;31mValueError\u001b[0m                                Traceback (most recent call last)",
            "\u001b[0;32m<ipython-input-5-9249da550962>\u001b[0m in \u001b[0;36m<cell line: 2>\u001b[0;34m()\u001b[0m\n\u001b[1;32m      1\u001b[0m \u001b[0mshopping_list\u001b[0m \u001b[0;34m=\u001b[0m \u001b[0;34m[\u001b[0m\u001b[0;34m'milk'\u001b[0m\u001b[0;34m,\u001b[0m \u001b[0;34m'bread'\u001b[0m\u001b[0;34m,\u001b[0m \u001b[0;34m'milk'\u001b[0m\u001b[0;34m,\u001b[0m \u001b[0;34m'chocolate'\u001b[0m\u001b[0;34m]\u001b[0m\u001b[0;34m\u001b[0m\u001b[0;34m\u001b[0m\u001b[0m\n\u001b[0;32m----> 2\u001b[0;31m \u001b[0mshopping_list\u001b[0m\u001b[0;34m.\u001b[0m\u001b[0mremove\u001b[0m\u001b[0;34m(\u001b[0m\u001b[0;34m'oranges'\u001b[0m\u001b[0;34m)\u001b[0m\u001b[0;34m\u001b[0m\u001b[0;34m\u001b[0m\u001b[0m\n\u001b[0m",
            "\u001b[0;31mValueError\u001b[0m: list.remove(x): x not in list"
          ]
        }
      ]
    },
    {
      "cell_type": "markdown",
      "metadata": {
        "id": "4Dvt1o8X-Yt8"
      },
      "source": [
        "## `.count()`\n",
        "\n",
        "`.count()` for lists works pretty similiar to the strings' method with the same name. The method requires an argument — what to count. The major difference, since lists may contain different data types, `.count()` can take other data types than string as an argument.\n",
        "\n",
        "It returns the number of the argument occurences within a list. Metod `.count()` works for tuples as well."
      ]
    },
    {
      "cell_type": "code",
      "metadata": {
        "id": "cEA62cCHeRTH",
        "colab": {
          "base_uri": "https://localhost:8080/"
        },
        "outputId": "872f51ba-6f29-4dcb-fa83-e43394194337"
      },
      "source": [
        "shopping_list = ['milk', 'milk', 'bread']\n",
        "print(f'Milk: {shopping_list.count(\"milk\")} pcs.') # counting strings 'milk' within a list\n",
        "print(shopping_list)"
      ],
      "execution_count": null,
      "outputs": [
        {
          "output_type": "stream",
          "name": "stdout",
          "text": [
            "Milk: 2 pcs.\n",
            "['milk', 'milk', 'bread']\n"
          ]
        }
      ]
    },
    {
      "cell_type": "code",
      "metadata": {
        "colab": {
          "base_uri": "https://localhost:8080/"
        },
        "id": "7y7oIG57yHIK",
        "outputId": "145a2af2-bf56-4156-d230-3dbd2dd4399b"
      },
      "source": [
        "marks = (10,10,8,9,10,7)\n",
        "print(marks.count(10)) # counting integers 10 within a tuple"
      ],
      "execution_count": null,
      "outputs": [
        {
          "output_type": "stream",
          "text": [
            "3\n"
          ],
          "name": "stdout"
        }
      ]
    },
    {
      "cell_type": "markdown",
      "metadata": {
        "id": "JemqzyuVojNp"
      },
      "source": [
        "## `.index()`\n",
        "Often we will need to find an index for an element within a list. `.index()` works a bit similiar to the strings `.find()` method. It takes one argument (what to look for) and returns an index for the first occurence of such element.\n",
        "\n",
        "The major difference with the strings' method behaviour is that `.index()` will throw an error if there is no such element within a list.\n",
        "\n",
        " Metod `.index()` works for tuples as well."
      ]
    },
    {
      "cell_type": "code",
      "metadata": {
        "id": "VHZ2tK45p3aj",
        "colab": {
          "base_uri": "https://localhost:8080/"
        },
        "outputId": "c1555111-49c5-4805-f165-383284485555"
      },
      "source": [
        "shopping_list = ['milk', 'milk', 'bread']\n",
        "print(shopping_list.index('milk')) # index for the first 'milk' string is returned"
      ],
      "execution_count": null,
      "outputs": [
        {
          "output_type": "stream",
          "name": "stdout",
          "text": [
            "0\n"
          ]
        }
      ]
    },
    {
      "cell_type": "code",
      "metadata": {
        "colab": {
          "base_uri": "https://localhost:8080/",
          "height": 166
        },
        "id": "mdETq7PH2U8k",
        "outputId": "801ab981-663a-4eee-a112-fd4a5fe4ec63"
      },
      "source": [
        "shopping_list = ['milk', 'milk', 'bread']\n",
        "print(shopping_list.index('oranges')) # will throw an error as there is no such item"
      ],
      "execution_count": null,
      "outputs": [
        {
          "output_type": "error",
          "ename": "ValueError",
          "evalue": "'oranges' is not in list",
          "traceback": [
            "\u001b[0;31m---------------------------------------------------------------------------\u001b[0m",
            "\u001b[0;31mValueError\u001b[0m                                Traceback (most recent call last)",
            "\u001b[0;32m<ipython-input-8-ee19a5b30053>\u001b[0m in \u001b[0;36m<cell line: 2>\u001b[0;34m()\u001b[0m\n\u001b[1;32m      1\u001b[0m \u001b[0mshopping_list\u001b[0m \u001b[0;34m=\u001b[0m \u001b[0;34m[\u001b[0m\u001b[0;34m'milk'\u001b[0m\u001b[0;34m,\u001b[0m \u001b[0;34m'milk'\u001b[0m\u001b[0;34m,\u001b[0m \u001b[0;34m'bread'\u001b[0m\u001b[0;34m]\u001b[0m\u001b[0;34m\u001b[0m\u001b[0;34m\u001b[0m\u001b[0m\n\u001b[0;32m----> 2\u001b[0;31m \u001b[0mprint\u001b[0m\u001b[0;34m(\u001b[0m\u001b[0mshopping_list\u001b[0m\u001b[0;34m.\u001b[0m\u001b[0mindex\u001b[0m\u001b[0;34m(\u001b[0m\u001b[0;34m'oranges'\u001b[0m\u001b[0;34m)\u001b[0m\u001b[0;34m)\u001b[0m \u001b[0;31m# will throw an error as there is no such item\u001b[0m\u001b[0;34m\u001b[0m\u001b[0;34m\u001b[0m\u001b[0m\n\u001b[0m",
            "\u001b[0;31mValueError\u001b[0m: 'oranges' is not in list"
          ]
        }
      ]
    },
    {
      "cell_type": "markdown",
      "metadata": {
        "id": "yJ-jMYtx2igp"
      },
      "source": [
        "So if you need to find an index for an item within a list, be sure to check first that the item belongs to the list."
      ]
    },
    {
      "cell_type": "code",
      "metadata": {
        "id": "Hv86VVPQrWZr",
        "colab": {
          "base_uri": "https://localhost:8080/"
        },
        "outputId": "3bc36059-65cf-44cf-cd63-105754614951"
      },
      "source": [
        "shopping_list = ['milk', 'oranges', 'bread']\n",
        "\n",
        "while True:\n",
        "  item = input('What are we looking for? ')\n",
        "  if item == 'end':\n",
        "    break\n",
        "  if item in shopping_list: # if the item in the list, then find its index\n",
        "    print(f'String \\'{item}\\' is stored under the index {shopping_list.index(item)}')\n",
        "  else:\n",
        "    print(f'String \\'{item}\\' is not in the list')"
      ],
      "execution_count": null,
      "outputs": [
        {
          "output_type": "stream",
          "text": [
            "What are we looking for? oranges\n",
            "String 'oranges' is stored under the index 1\n",
            "What are we looking for? milk\n",
            "String 'milk' is stored under the index 0\n",
            "What are we looking for? banana\n",
            "String 'banana' is not in the list\n",
            "What are we looking for? bread\n",
            "String 'bread' is stored under the index 2\n",
            "What are we looking for? end\n"
          ],
          "name": "stdout"
        }
      ]
    },
    {
      "cell_type": "markdown",
      "metadata": {
        "id": "QU4jbsZjjSpd"
      },
      "source": [
        "Let's solve another problem. Let's replace an element in our shopping list by finding its index first."
      ]
    },
    {
      "cell_type": "code",
      "metadata": {
        "id": "c4tUxgmijSF1",
        "colab": {
          "base_uri": "https://localhost:8080/"
        },
        "outputId": "e9886684-fd29-4b06-847a-7125ea8653d4"
      },
      "source": [
        "shopping_list = ['milk', 'oranges', 'bread']\n",
        "\n",
        "thing = input('What do we want to replace? ')\n",
        "new_thing = input('With what do we want to replace it? ')\n",
        "\n",
        "if thing in shopping_list: # checking that element is in the list\n",
        "    thing_index = shopping_list.index(thing) # finding its index\n",
        "    shopping_list[thing_index] = new_thing   # assigning new element to that index\n",
        "else:\n",
        "    print(f'String \\'{item}\\' is not in the list')\n",
        "\n",
        "print('Shopping list:', *shopping_list, sep=', ') # printing changed shopping list\n",
        "\n"
      ],
      "execution_count": null,
      "outputs": [
        {
          "output_type": "stream",
          "text": [
            "What we want to replace? oranges\n",
            "With what do we want to replace it? bananas\n",
            "Shopping list:, milk, bananas, bread\n"
          ],
          "name": "stdout"
        }
      ]
    }
  ]
}