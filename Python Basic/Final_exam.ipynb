{
 "cells": [
  {
   "cell_type": "code",
   "execution_count": null,
   "metadata": {},
   "outputs": [],
   "source": [
    "# Question 7\n",
    "first = [\n",
    "    'Top Gun, 2022', \n",
    "    'Barbi, 2023', \n",
    "    'Green Mile, 1999', \n",
    "    'Gentlemen, 2019', \n",
    "    'Spider-Man, 2002', \n",
    "    'Sinister, 2012', \n",
    "    'Green Mile, 2018'\n",
    "]\n",
    "\n",
    "for i, v in enumerate(first):\n",
    "        year = first[i].split(', ')[1]\n",
    "        if int(year) == 2018:\n",
    "                print(year)"
   ]
  },
  {
   "cell_type": "code",
   "execution_count": null,
   "metadata": {},
   "outputs": [],
   "source": [
    "cd"
   ]
  },
  {
   "cell_type": "code",
   "execution_count": 27,
   "metadata": {},
   "outputs": [],
   "source": [
    "serials = input().split('; ')\n",
    "count = 0\n",
    "for serial in serials:\n",
    "    duration, number = serial[serial.rfind(\":\")+1:].strip().split(', ')\n",
    "    count += int(duration)*int(number)\n",
    "print(count)"
   ]
  },
  {
   "cell_type": "code",
   "execution_count": null,
   "metadata": {},
   "outputs": [],
   "source": [
    "Hanks T.: 200, 350, 250; Depp J.: 150, 200; Freeman M.: 200, 250, 300, 249; Bale.K: 300\n"
   ]
  },
  {
   "cell_type": "code",
   "execution_count": null,
   "metadata": {},
   "outputs": [],
   "source": [
    "actors = input().split('; ')\n",
    "the_dict = {}\n",
    "for actor in actors:\n",
    "    name, money = actor.split(':')\n",
    "    money = list(map(int, money.strip().split(', ')))\n",
    "    the_dict[sum(money)] = name\n",
    "\n",
    "result = sorted(the_dict.items())\n",
    "print(*result, sep = '\\n')"
   ]
  },
  {
   "cell_type": "code",
   "execution_count": null,
   "metadata": {},
   "outputs": [],
   "source": [
    "Fox - 140.6; 139.7; 138.4, NBC - 130.5; 130.6; 131.9, CBS - 134.5; 135.7; 134.3, ABC - 127.2; 126.8; 126.3, Russia 24 - 132.1; 133.0; 132.0"
   ]
  },
  {
   "cell_type": "code",
   "execution_count": null,
   "metadata": {},
   "outputs": [],
   "source": [
    "channels = input().split(', ')\n",
    "the_dict = {}\n",
    "for channel in channels:\n",
    "    coverage_2020 = float(channel[channel.rfind(';')+1:].strip())\n",
    "    name = channel[:channel.rfind('-')].strip()\n",
    "    the_dict[name] = coverage_2020\n",
    "\n",
    "for k, v in sorted(the_dict.items(), key = lambda item: item[1], reverse = True):\n",
    "    print(k)"
   ]
  },
  {
   "cell_type": "code",
   "execution_count": null,
   "metadata": {},
   "outputs": [],
   "source": [
    "def get_salary(salary_list):\n",
    "    return 1.3 * salary_list[0] + 1.3 * salary_list[1] + 1.6 * salary_list[2]\n",
    "\n",
    "def get_data(dictionary:dict, minimum):\n",
    "    result = []\n",
    "    for key, value in dictionary.items():\n",
    "        if get_salary(value) > minimum:\n",
    "            result.append(key)\n",
    "    return result\n",
    "    \n",
    "get_data({\n",
    "    'screenwriter': [30, 10, 10], \n",
    "    'editor': [25, 5, 1], \n",
    "    'producer': [50, 15, 10], \n",
    "    'leading actor': [50, 24, 19],\n",
    "    'designer': [19, 0, 20]\n",
    "}, 40.6)"
   ]
  },
  {
   "cell_type": "code",
   "execution_count": null,
   "metadata": {},
   "outputs": [],
   "source": [
    "test = 'Crime, Drama'\n",
    "'Crime' in test"
   ]
  },
  {
   "cell_type": "code",
   "execution_count": null,
   "metadata": {},
   "outputs": [],
   "source": [
    "minimum = int(input())\n",
    "new_dict = {}\n",
    "with open ('films.txt', 'r', encoding = 'utf-8') as input_file:\n",
    "    for line in input_file:\n",
    "        line = line.strip()\n",
    "        name, duration, rating, genres, views = line.split(';')\n",
    "        views = int(views.replace(',' , ''))\n",
    "        duration = int(duration.split(' ')[0])\n",
    "        if (duration > minimum) & ('Crime' in genres):\n",
    "            new_dict[name] = views\n",
    "new_dict"
   ]
  },
  {
   "cell_type": "code",
   "execution_count": 30,
   "metadata": {},
   "outputs": [],
   "source": [
    "winners = sorted(new_dict.items(), key = lambda item: item[1], reverse=True)[0:3]"
   ]
  },
  {
   "cell_type": "code",
   "execution_count": 6,
   "metadata": {},
   "outputs": [],
   "source": [
    "n = int(input())\n",
    "names_dict = {'Russia 1':0, 'Russia 24':0, 'TNT':0, 'СТС':0, 'NTV':0}\n",
    "channels = [[] for i in range(n)]\n",
    "\n",
    "for i in range(n):\n",
    "    channels[i] = input()\n",
    "\n",
    "for channel in channels:\n",
    "    for key in names_dict.keys():\n",
    "        if channel.find(key) == -1:\n",
    "            names_dict[key] += 9999999999\n",
    "        else:\n",
    "            names_dict[key] += channel.find(key)\n",
    "\n",
    "result = [key for key, value in names_dict.items() if value == min(names_dict.values())]\n",
    "print(*result)"
   ]
  },
  {
   "cell_type": "code",
   "execution_count": 11,
   "metadata": {},
   "outputs": [],
   "source": [
    "import math"
   ]
  },
  {
   "cell_type": "code",
   "execution_count": 14,
   "metadata": {},
   "outputs": [
    {
     "data": {
      "text/plain": [
       "8.0"
      ]
     },
     "execution_count": 14,
     "metadata": {},
     "output_type": "execute_result"
    }
   ],
   "source": [
    "math.sqrt((6.4)**2 + (4.8)**2)"
   ]
  },
  {
   "cell_type": "code",
   "execution_count": null,
   "metadata": {},
   "outputs": [],
   "source": []
  },
  {
   "cell_type": "code",
   "execution_count": null,
   "metadata": {},
   "outputs": [],
   "source": []
  }
 ],
 "metadata": {
  "kernelspec": {
   "display_name": "Python 3",
   "language": "python",
   "name": "python3"
  },
  "language_info": {
   "codemirror_mode": {
    "name": "ipython",
    "version": 3
   },
   "file_extension": ".py",
   "mimetype": "text/x-python",
   "name": "python",
   "nbconvert_exporter": "python",
   "pygments_lexer": "ipython3",
   "version": "3.11.9"
  }
 },
 "nbformat": 4,
 "nbformat_minor": 2
}
