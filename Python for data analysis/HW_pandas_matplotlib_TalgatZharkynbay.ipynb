{
 "cells": [
  {
   "cell_type": "markdown",
   "metadata": {
    "id": "HcF9My_FhLuk"
   },
   "source": [
    "# **HW. Pandas and Matplotlib practice**\n",
    "### Course: Python for Data Analysis (MDS), 2024/2025, HSE"
   ]
  },
  {
   "cell_type": "markdown",
   "metadata": {
    "id": "G64TptyJhLuo"
   },
   "source": [
    "### About the assignment\n",
    "\n",
    "The assignment consists of two sections on working with tabular data using the pandas library and visualization using matplotlib. You will have to perform basic tasks using the above libraries. Points are given for completing individual items. Tasks within a section are recommended to be solved in the order in which they are given in the assignment.\n",
    "\n",
    "The assignment is aimed at mastering jupyter notebook, pandas and matplotlib libraries.\n",
    "\n",
    "### Assessment and penalties\n",
    "Each of the tasks has a certain “cost” (indicated in brackets near the task). The maximum allowable grade for a task is 10 points.\n",
    "\n",
    "The assignment is completed independently. “Similar” solutions are considered plagiarism and all students involved (including those who have been copied from) cannot receive more than 0 points for it. If you have found a solution to any of the assignments (or part of it) in an open source, you must provide a link to that source (most likely you will not be the only one who found it, so to exclude suspicion of plagiarism, a link to the source is required).\n",
    "\n",
    "If you used a generative model for finding a solution, you need to provide the link to the service used (browser version, tg bot, etc.), network name, the prompt(s) used and how you evaluate the performance of this model. Without this reflection the home assignment won't be graded.\n",
    "\n",
    "### Format of submission\n",
    "Assignments are submitted through the Smart LMS system. You should send a notebook with the completed assignment. Name the notebook itself in the format **HW_pandas_matplotlib_NameLastname.ipynb**, where Name and Lastname are your first and last name.\n",
    "\n",
    "For ease of checking yourself, calculate your maximum grade (based on the set of problems solved) and indicate it below.\n",
    "\n",
    "Score: **xx**"
   ]
  },
  {
   "cell_type": "markdown",
   "metadata": {
    "id": "BaXlfHE_hLup"
   },
   "source": [
    "## 0. Introduction"
   ]
  },
  {
   "cell_type": "markdown",
   "metadata": {
    "id": "wirAvJNxhLup"
   },
   "source": [
    "We are now in jupyter notebook (or ipython notebook). This is a convenient environment for writing code, running experiments, exploring data, building visualizations, and other needs not related to writing production code.\n",
    "\n",
    "The notebook consists of cells, each of which can be either a code cell or a marked-up and unmarked text cell. The text supports markdown markup and formulas in LaTeX.\n",
    "\n",
    "The *Edit mode* (*Edit mode*, activated by pressing **Enter** after selecting a cell) is used to manipulate cell contents, and *Command mode* (*Command mode*, activated by pressing **Esc**) is used to navigate between cells. The cell type can be set in the command mode either using hotkeys (**y** to code, **m** to markdown, **r** to edit raw text) or in the *Cell -> Cell type* menu.\n",
    "\n",
    "After filling the cell, press *Shift + Enter*, this command will process the cell contents: interpret the code or edit the marked text."
   ]
  },
  {
   "cell_type": "code",
   "execution_count": null,
   "metadata": {
    "colab": {
     "base_uri": "https://localhost:8080/"
    },
    "id": "aQ2_j3nkhLuq",
    "outputId": "22e72003-d146-46b8-8b22-ddefbd99b3f5"
   },
   "outputs": [],
   "source": [
    "# This is a cell with the code that will produce the output when executed\n",
    "2 + 2"
   ]
  },
  {
   "cell_type": "markdown",
   "metadata": {
    "id": "ZlulCwVKhLur"
   },
   "source": [
    "This is a cell with usual text."
   ]
  },
  {
   "cell_type": "markdown",
   "metadata": {
    "id": "A4wkVlIehLur"
   },
   "source": [
    "Try to create new cells, write some code and text with some formula."
   ]
  },
  {
   "cell_type": "code",
   "execution_count": 1,
   "metadata": {
    "id": "BIuaYSvqhLus"
   },
   "outputs": [
    {
     "name": "stdout",
     "output_type": "stream",
     "text": [
      "Hello Talgat!\n"
     ]
    }
   ],
   "source": [
    "print('Hello Talgat!')"
   ]
  },
  {
   "cell_type": "markdown",
   "metadata": {
    "id": "iWs6ljrIhLus"
   },
   "source": [
    "[Here](https://colab.research.google.com/github/Tanu-N-Prabhu/Python/blob/master/Cheat_sheet_for_Google_Colab.ipynb) is a cheat sheet about the Markdown markup language. It allows:\n",
    "\n",
    "0. Make ordered lists\n",
    "1. Highlight *text* <s>when</s> **necessary**.\n",
    "2. Add [links](hse.ru)\n",
    "\n",
    "\n",
    "* Make unordered lists\n",
    "  * To make\n",
    "    * Different degrees of nesting\n",
    "      * Use indents\n",
    "\n",
    "\n",
    "\n",
    "---\n",
    "\n",
    "\n",
    "\n",
    "Making inserts using LaTeX:\n",
    "\n",
    "simple $x = \\sin 2\\pi$\n",
    "\n",
    "or more complicated:\n",
    "\n",
    "$\\underset{\\{w_k\\}_1^K, \\beta}{\\mathrm{minimize}} \\frac{1}{2}\\sum\\limits_{i=1}^n (y_i - f(x_i))^2$,<br>\n",
    "where $f(x_i) = \\beta_0 + \\sum\\limits_{k=1}^K \\beta_k g(w_{k0} + \\sum\\limits_{j=1}^p w_{kj}x_{ij})$"
   ]
  },
  {
   "cell_type": "markdown",
   "metadata": {
    "id": "6fmTGcXOhLus"
   },
   "source": [
    "You can also insert pictures, or gifs, or whatever you want:\n",
    "\n",
    "<img src=\"https://media1.tenor.com/m/i1rNMdaKd7MAAAAC/gaussian-mixture-models-em-method-math.gif\" style=\"width: 300px\">"
   ]
  },
  {
   "cell_type": "markdown",
   "metadata": {
    "id": "sUe2vnFGhLuu"
   },
   "source": [
    "### 1. Tabular data and Pandas\n",
    "\n"
   ]
  },
  {
   "cell_type": "markdown",
   "metadata": {
    "id": "DJQzjjqJhLuu"
   },
   "source": [
    "Pandas is a handy library for working with tabular data in Python, as long as there is not too much data and it fits in your computer's RAM. Despite inefficient implementation and some problems, the library has become a standard in data analysis.\n",
    "\n",
    "The main object in pandas is a DataFrame, which is a table with named columns of various types, an index (can be multi-level). A DataFrame can be created by reading the table from a file or by setting manually from other objects.\n",
    "\n",
    "This part will require a few small tasks. There are two ways to go about it: you can study the materials first and then start the assignments, or you can do them as you go along. It's your choice.\n",
    "\n",
    "Materials:\n",
    "1. [Pandas in 10 minutes from the official guide](http://pandas.pydata.org/pandas-docs/stable/10min.html)\n",
    "2. [Documentation](http://pandas.pydata.org/pandas-docs/stable/index.html) (worth referring to if you don't understand how to call a particular method)\n",
    "\n",
    "Many of the tasks can be accomplished in several ways. There is no single right way, but try to use the Pandas arsenal as much as possible and focus on the simplicity and understandability of your code. We won't tell you what you should use for a particular task, try to find the necessary functionality yourself (the name of the method is most often obvious). ChatGPT, Documentation, internet search, [Stack Overflow](https://stackoverflow.com/), [StackExchange](https://stackexchange.com/) will help you."
   ]
  },
  {
   "cell_type": "code",
   "execution_count": 1,
   "metadata": {
    "colab": {
     "base_uri": "https://localhost:8080/"
    },
    "id": "26zbFY25hLuv",
    "outputId": "1aa26910-1b28-4c67-9e16-0cccf84ab961"
   },
   "outputs": [
    {
     "name": "stdout",
     "output_type": "stream",
     "text": [
      "Populating the interactive namespace from numpy and matplotlib\n"
     ]
    }
   ],
   "source": [
    "%pylab inline\n",
    "import pandas as pd"
   ]
  },
  {
   "cell_type": "markdown",
   "metadata": {
    "id": "ASRui--5EVZO"
   },
   "source": [
    "Let's load the dataset of Pokémon characters.\n",
    "\n",
    "\n",
    "<img src=\"https://storage.googleapis.com/kaggle-datasets-images/2756/4568/0e75fe00a8bd525f83ee2c2f44911fce/dataset-cover.jpg\" style=\"width: 300px\">\n",
    "\n",
    "By the way, the great resource to get datasets is [Google Dataset Search](https://datasetsearch.research.google.com). Try to [examine](https://datasetsearch.research.google.com/search?src=3&query=pokemon&docid=L2cvMTF2bHdmNHY0Yg%3D%3D) how the Pokémon dataset was obtaied."
   ]
  },
  {
   "cell_type": "markdown",
   "metadata": {
    "id": "RCiMd4N5Fjrm"
   },
   "source": [
    "Loading a CSV file from a URL into a Pandas DataFrame can be done in several ways, leveraging built-in functions in Pandas as well as additional libraries for more complex scenarios. The simplest way to load a CSV file from a URL is to use the `read_csv` function provided by Pandas, which supports URLs directly. In the future we will get acquainted with other methods."
   ]
  },
  {
   "cell_type": "code",
   "execution_count": null,
   "metadata": {
    "id": "O9-4Sm0eDkLd"
   },
   "outputs": [],
   "source": [
    "df = pd.read_csv('https://raw.githubusercontent.com/omelnikov/data/main/Pokemon/pokemon.csv')\n",
    "# The link was not working for me for some reason, so i downloaded the csv file from kaggle"
   ]
  },
  {
   "cell_type": "markdown",
   "metadata": {
    "id": "KAuyMuHyG_Fz"
   },
   "source": [
    "For each problem in this section, you must write code to get the answer, and give a textual answer if one is expected.\n",
    "\n",
    "For some questions you may be able to get an answer by looking closely at the output, but this will not count. You must get the answer using code anyway."
   ]
  },
  {
   "cell_type": "markdown",
   "metadata": {
    "id": "RKFNaSohGLB4"
   },
   "source": [
    "#### 1. [0 points] Open the file with the table (do not forget about its format). Print the last `10` rows."
   ]
  },
  {
   "cell_type": "code",
   "execution_count": 2,
   "metadata": {},
   "outputs": [
    {
     "data": {
      "text/html": [
       "<div>\n",
       "<style scoped>\n",
       "    .dataframe tbody tr th:only-of-type {\n",
       "        vertical-align: middle;\n",
       "    }\n",
       "\n",
       "    .dataframe tbody tr th {\n",
       "        vertical-align: top;\n",
       "    }\n",
       "\n",
       "    .dataframe thead th {\n",
       "        text-align: right;\n",
       "    }\n",
       "</style>\n",
       "<table border=\"1\" class=\"dataframe\">\n",
       "  <thead>\n",
       "    <tr style=\"text-align: right;\">\n",
       "      <th></th>\n",
       "      <th>abilities</th>\n",
       "      <th>against_bug</th>\n",
       "      <th>against_dark</th>\n",
       "      <th>against_dragon</th>\n",
       "      <th>against_electric</th>\n",
       "      <th>against_fairy</th>\n",
       "      <th>against_fight</th>\n",
       "      <th>against_fire</th>\n",
       "      <th>against_flying</th>\n",
       "      <th>against_ghost</th>\n",
       "      <th>...</th>\n",
       "      <th>percentage_male</th>\n",
       "      <th>pokedex_number</th>\n",
       "      <th>sp_attack</th>\n",
       "      <th>sp_defense</th>\n",
       "      <th>speed</th>\n",
       "      <th>type1</th>\n",
       "      <th>type2</th>\n",
       "      <th>weight_kg</th>\n",
       "      <th>generation</th>\n",
       "      <th>is_legendary</th>\n",
       "    </tr>\n",
       "  </thead>\n",
       "  <tbody>\n",
       "    <tr>\n",
       "      <th>791</th>\n",
       "      <td>['Shadow Shield']</td>\n",
       "      <td>1.00</td>\n",
       "      <td>4.0</td>\n",
       "      <td>1.0</td>\n",
       "      <td>1.0</td>\n",
       "      <td>1.0</td>\n",
       "      <td>0.0</td>\n",
       "      <td>1.0</td>\n",
       "      <td>1.0</td>\n",
       "      <td>4.0</td>\n",
       "      <td>...</td>\n",
       "      <td>NaN</td>\n",
       "      <td>792</td>\n",
       "      <td>137</td>\n",
       "      <td>107</td>\n",
       "      <td>97</td>\n",
       "      <td>psychic</td>\n",
       "      <td>ghost</td>\n",
       "      <td>120.0</td>\n",
       "      <td>7</td>\n",
       "      <td>1</td>\n",
       "    </tr>\n",
       "    <tr>\n",
       "      <th>792</th>\n",
       "      <td>['Beast Boost']</td>\n",
       "      <td>0.50</td>\n",
       "      <td>1.0</td>\n",
       "      <td>1.0</td>\n",
       "      <td>1.0</td>\n",
       "      <td>0.5</td>\n",
       "      <td>1.0</td>\n",
       "      <td>0.5</td>\n",
       "      <td>0.5</td>\n",
       "      <td>1.0</td>\n",
       "      <td>...</td>\n",
       "      <td>NaN</td>\n",
       "      <td>793</td>\n",
       "      <td>127</td>\n",
       "      <td>131</td>\n",
       "      <td>103</td>\n",
       "      <td>rock</td>\n",
       "      <td>poison</td>\n",
       "      <td>55.5</td>\n",
       "      <td>7</td>\n",
       "      <td>1</td>\n",
       "    </tr>\n",
       "    <tr>\n",
       "      <th>793</th>\n",
       "      <td>['Beast Boost']</td>\n",
       "      <td>0.50</td>\n",
       "      <td>0.5</td>\n",
       "      <td>1.0</td>\n",
       "      <td>1.0</td>\n",
       "      <td>2.0</td>\n",
       "      <td>0.5</td>\n",
       "      <td>2.0</td>\n",
       "      <td>4.0</td>\n",
       "      <td>1.0</td>\n",
       "      <td>...</td>\n",
       "      <td>NaN</td>\n",
       "      <td>794</td>\n",
       "      <td>53</td>\n",
       "      <td>53</td>\n",
       "      <td>79</td>\n",
       "      <td>bug</td>\n",
       "      <td>fighting</td>\n",
       "      <td>333.6</td>\n",
       "      <td>7</td>\n",
       "      <td>1</td>\n",
       "    </tr>\n",
       "    <tr>\n",
       "      <th>794</th>\n",
       "      <td>['Beast Boost']</td>\n",
       "      <td>0.50</td>\n",
       "      <td>0.5</td>\n",
       "      <td>1.0</td>\n",
       "      <td>1.0</td>\n",
       "      <td>2.0</td>\n",
       "      <td>0.5</td>\n",
       "      <td>2.0</td>\n",
       "      <td>4.0</td>\n",
       "      <td>1.0</td>\n",
       "      <td>...</td>\n",
       "      <td>NaN</td>\n",
       "      <td>795</td>\n",
       "      <td>137</td>\n",
       "      <td>37</td>\n",
       "      <td>151</td>\n",
       "      <td>bug</td>\n",
       "      <td>fighting</td>\n",
       "      <td>25.0</td>\n",
       "      <td>7</td>\n",
       "      <td>1</td>\n",
       "    </tr>\n",
       "    <tr>\n",
       "      <th>795</th>\n",
       "      <td>['Beast Boost']</td>\n",
       "      <td>1.00</td>\n",
       "      <td>1.0</td>\n",
       "      <td>1.0</td>\n",
       "      <td>0.5</td>\n",
       "      <td>1.0</td>\n",
       "      <td>1.0</td>\n",
       "      <td>1.0</td>\n",
       "      <td>0.5</td>\n",
       "      <td>1.0</td>\n",
       "      <td>...</td>\n",
       "      <td>NaN</td>\n",
       "      <td>796</td>\n",
       "      <td>173</td>\n",
       "      <td>71</td>\n",
       "      <td>83</td>\n",
       "      <td>electric</td>\n",
       "      <td>NaN</td>\n",
       "      <td>100.0</td>\n",
       "      <td>7</td>\n",
       "      <td>1</td>\n",
       "    </tr>\n",
       "    <tr>\n",
       "      <th>796</th>\n",
       "      <td>['Beast Boost']</td>\n",
       "      <td>0.25</td>\n",
       "      <td>1.0</td>\n",
       "      <td>0.5</td>\n",
       "      <td>2.0</td>\n",
       "      <td>0.5</td>\n",
       "      <td>1.0</td>\n",
       "      <td>2.0</td>\n",
       "      <td>0.5</td>\n",
       "      <td>1.0</td>\n",
       "      <td>...</td>\n",
       "      <td>NaN</td>\n",
       "      <td>797</td>\n",
       "      <td>107</td>\n",
       "      <td>101</td>\n",
       "      <td>61</td>\n",
       "      <td>steel</td>\n",
       "      <td>flying</td>\n",
       "      <td>999.9</td>\n",
       "      <td>7</td>\n",
       "      <td>1</td>\n",
       "    </tr>\n",
       "    <tr>\n",
       "      <th>797</th>\n",
       "      <td>['Beast Boost']</td>\n",
       "      <td>1.00</td>\n",
       "      <td>1.0</td>\n",
       "      <td>0.5</td>\n",
       "      <td>0.5</td>\n",
       "      <td>0.5</td>\n",
       "      <td>2.0</td>\n",
       "      <td>4.0</td>\n",
       "      <td>1.0</td>\n",
       "      <td>1.0</td>\n",
       "      <td>...</td>\n",
       "      <td>NaN</td>\n",
       "      <td>798</td>\n",
       "      <td>59</td>\n",
       "      <td>31</td>\n",
       "      <td>109</td>\n",
       "      <td>grass</td>\n",
       "      <td>steel</td>\n",
       "      <td>0.1</td>\n",
       "      <td>7</td>\n",
       "      <td>1</td>\n",
       "    </tr>\n",
       "    <tr>\n",
       "      <th>798</th>\n",
       "      <td>['Beast Boost']</td>\n",
       "      <td>2.00</td>\n",
       "      <td>0.5</td>\n",
       "      <td>2.0</td>\n",
       "      <td>0.5</td>\n",
       "      <td>4.0</td>\n",
       "      <td>2.0</td>\n",
       "      <td>0.5</td>\n",
       "      <td>1.0</td>\n",
       "      <td>0.5</td>\n",
       "      <td>...</td>\n",
       "      <td>NaN</td>\n",
       "      <td>799</td>\n",
       "      <td>97</td>\n",
       "      <td>53</td>\n",
       "      <td>43</td>\n",
       "      <td>dark</td>\n",
       "      <td>dragon</td>\n",
       "      <td>888.0</td>\n",
       "      <td>7</td>\n",
       "      <td>1</td>\n",
       "    </tr>\n",
       "    <tr>\n",
       "      <th>799</th>\n",
       "      <td>['Prism Armor']</td>\n",
       "      <td>2.00</td>\n",
       "      <td>2.0</td>\n",
       "      <td>1.0</td>\n",
       "      <td>1.0</td>\n",
       "      <td>1.0</td>\n",
       "      <td>0.5</td>\n",
       "      <td>1.0</td>\n",
       "      <td>1.0</td>\n",
       "      <td>2.0</td>\n",
       "      <td>...</td>\n",
       "      <td>NaN</td>\n",
       "      <td>800</td>\n",
       "      <td>127</td>\n",
       "      <td>89</td>\n",
       "      <td>79</td>\n",
       "      <td>psychic</td>\n",
       "      <td>NaN</td>\n",
       "      <td>230.0</td>\n",
       "      <td>7</td>\n",
       "      <td>1</td>\n",
       "    </tr>\n",
       "    <tr>\n",
       "      <th>800</th>\n",
       "      <td>['Soul-Heart']</td>\n",
       "      <td>0.25</td>\n",
       "      <td>0.5</td>\n",
       "      <td>0.0</td>\n",
       "      <td>1.0</td>\n",
       "      <td>0.5</td>\n",
       "      <td>1.0</td>\n",
       "      <td>2.0</td>\n",
       "      <td>0.5</td>\n",
       "      <td>1.0</td>\n",
       "      <td>...</td>\n",
       "      <td>NaN</td>\n",
       "      <td>801</td>\n",
       "      <td>130</td>\n",
       "      <td>115</td>\n",
       "      <td>65</td>\n",
       "      <td>steel</td>\n",
       "      <td>fairy</td>\n",
       "      <td>80.5</td>\n",
       "      <td>7</td>\n",
       "      <td>1</td>\n",
       "    </tr>\n",
       "  </tbody>\n",
       "</table>\n",
       "<p>10 rows × 41 columns</p>\n",
       "</div>"
      ],
      "text/plain": [
       "             abilities  against_bug  against_dark  against_dragon  \\\n",
       "791  ['Shadow Shield']         1.00           4.0             1.0   \n",
       "792    ['Beast Boost']         0.50           1.0             1.0   \n",
       "793    ['Beast Boost']         0.50           0.5             1.0   \n",
       "794    ['Beast Boost']         0.50           0.5             1.0   \n",
       "795    ['Beast Boost']         1.00           1.0             1.0   \n",
       "796    ['Beast Boost']         0.25           1.0             0.5   \n",
       "797    ['Beast Boost']         1.00           1.0             0.5   \n",
       "798    ['Beast Boost']         2.00           0.5             2.0   \n",
       "799    ['Prism Armor']         2.00           2.0             1.0   \n",
       "800     ['Soul-Heart']         0.25           0.5             0.0   \n",
       "\n",
       "     against_electric  against_fairy  against_fight  against_fire  \\\n",
       "791               1.0            1.0            0.0           1.0   \n",
       "792               1.0            0.5            1.0           0.5   \n",
       "793               1.0            2.0            0.5           2.0   \n",
       "794               1.0            2.0            0.5           2.0   \n",
       "795               0.5            1.0            1.0           1.0   \n",
       "796               2.0            0.5            1.0           2.0   \n",
       "797               0.5            0.5            2.0           4.0   \n",
       "798               0.5            4.0            2.0           0.5   \n",
       "799               1.0            1.0            0.5           1.0   \n",
       "800               1.0            0.5            1.0           2.0   \n",
       "\n",
       "     against_flying  against_ghost  ...  percentage_male  pokedex_number  \\\n",
       "791             1.0            4.0  ...              NaN             792   \n",
       "792             0.5            1.0  ...              NaN             793   \n",
       "793             4.0            1.0  ...              NaN             794   \n",
       "794             4.0            1.0  ...              NaN             795   \n",
       "795             0.5            1.0  ...              NaN             796   \n",
       "796             0.5            1.0  ...              NaN             797   \n",
       "797             1.0            1.0  ...              NaN             798   \n",
       "798             1.0            0.5  ...              NaN             799   \n",
       "799             1.0            2.0  ...              NaN             800   \n",
       "800             0.5            1.0  ...              NaN             801   \n",
       "\n",
       "     sp_attack  sp_defense  speed     type1     type2  weight_kg  generation  \\\n",
       "791        137         107     97   psychic     ghost      120.0           7   \n",
       "792        127         131    103      rock    poison       55.5           7   \n",
       "793         53          53     79       bug  fighting      333.6           7   \n",
       "794        137          37    151       bug  fighting       25.0           7   \n",
       "795        173          71     83  electric       NaN      100.0           7   \n",
       "796        107         101     61     steel    flying      999.9           7   \n",
       "797         59          31    109     grass     steel        0.1           7   \n",
       "798         97          53     43      dark    dragon      888.0           7   \n",
       "799        127          89     79   psychic       NaN      230.0           7   \n",
       "800        130         115     65     steel     fairy       80.5           7   \n",
       "\n",
       "     is_legendary  \n",
       "791             1  \n",
       "792             1  \n",
       "793             1  \n",
       "794             1  \n",
       "795             1  \n",
       "796             1  \n",
       "797             1  \n",
       "798             1  \n",
       "799             1  \n",
       "800             1  \n",
       "\n",
       "[10 rows x 41 columns]"
      ]
     },
     "execution_count": 2,
     "metadata": {},
     "output_type": "execute_result"
    }
   ],
   "source": [
    "import pandas as pd\n",
    "df = pd.read_csv(r'C:\\Users\\FS_talgat_2\\Desktop\\Python\\MyDataFiles\\pokemon.csv')\n",
    "df.tail(10)"
   ]
  },
  {
   "cell_type": "markdown",
   "metadata": {
    "id": "376lsONMULPf"
   },
   "source": [
    "#### 2. [0.5 points] You may have noticed that not all columns are displayed. How to make all of them visible?"
   ]
  },
  {
   "cell_type": "code",
   "execution_count": 3,
   "metadata": {
    "id": "k-oxiB22Uajc"
   },
   "outputs": [
    {
     "data": {
      "text/html": [
       "<div>\n",
       "<style scoped>\n",
       "    .dataframe tbody tr th:only-of-type {\n",
       "        vertical-align: middle;\n",
       "    }\n",
       "\n",
       "    .dataframe tbody tr th {\n",
       "        vertical-align: top;\n",
       "    }\n",
       "\n",
       "    .dataframe thead th {\n",
       "        text-align: right;\n",
       "    }\n",
       "</style>\n",
       "<table border=\"1\" class=\"dataframe\">\n",
       "  <thead>\n",
       "    <tr style=\"text-align: right;\">\n",
       "      <th></th>\n",
       "      <th>abilities</th>\n",
       "      <th>against_bug</th>\n",
       "      <th>against_dark</th>\n",
       "      <th>against_dragon</th>\n",
       "      <th>against_electric</th>\n",
       "      <th>against_fairy</th>\n",
       "      <th>against_fight</th>\n",
       "      <th>against_fire</th>\n",
       "      <th>against_flying</th>\n",
       "      <th>against_ghost</th>\n",
       "      <th>against_grass</th>\n",
       "      <th>against_ground</th>\n",
       "      <th>against_ice</th>\n",
       "      <th>against_normal</th>\n",
       "      <th>against_poison</th>\n",
       "      <th>against_psychic</th>\n",
       "      <th>against_rock</th>\n",
       "      <th>against_steel</th>\n",
       "      <th>against_water</th>\n",
       "      <th>attack</th>\n",
       "      <th>base_egg_steps</th>\n",
       "      <th>base_happiness</th>\n",
       "      <th>base_total</th>\n",
       "      <th>capture_rate</th>\n",
       "      <th>classfication</th>\n",
       "      <th>defense</th>\n",
       "      <th>experience_growth</th>\n",
       "      <th>height_m</th>\n",
       "      <th>hp</th>\n",
       "      <th>japanese_name</th>\n",
       "      <th>name</th>\n",
       "      <th>percentage_male</th>\n",
       "      <th>pokedex_number</th>\n",
       "      <th>sp_attack</th>\n",
       "      <th>sp_defense</th>\n",
       "      <th>speed</th>\n",
       "      <th>type1</th>\n",
       "      <th>type2</th>\n",
       "      <th>weight_kg</th>\n",
       "      <th>generation</th>\n",
       "      <th>is_legendary</th>\n",
       "    </tr>\n",
       "  </thead>\n",
       "  <tbody>\n",
       "    <tr>\n",
       "      <th>796</th>\n",
       "      <td>['Beast Boost']</td>\n",
       "      <td>0.25</td>\n",
       "      <td>1.0</td>\n",
       "      <td>0.5</td>\n",
       "      <td>2.0</td>\n",
       "      <td>0.5</td>\n",
       "      <td>1.0</td>\n",
       "      <td>2.0</td>\n",
       "      <td>0.5</td>\n",
       "      <td>1.0</td>\n",
       "      <td>0.25</td>\n",
       "      <td>0.0</td>\n",
       "      <td>1.0</td>\n",
       "      <td>0.5</td>\n",
       "      <td>0.0</td>\n",
       "      <td>0.5</td>\n",
       "      <td>1.0</td>\n",
       "      <td>0.5</td>\n",
       "      <td>1.0</td>\n",
       "      <td>101</td>\n",
       "      <td>30720</td>\n",
       "      <td>0</td>\n",
       "      <td>570</td>\n",
       "      <td>25</td>\n",
       "      <td>Launch Pokémon</td>\n",
       "      <td>103</td>\n",
       "      <td>1250000</td>\n",
       "      <td>9.2</td>\n",
       "      <td>97</td>\n",
       "      <td>Tekkaguyaテッカグヤ</td>\n",
       "      <td>Celesteela</td>\n",
       "      <td>NaN</td>\n",
       "      <td>797</td>\n",
       "      <td>107</td>\n",
       "      <td>101</td>\n",
       "      <td>61</td>\n",
       "      <td>steel</td>\n",
       "      <td>flying</td>\n",
       "      <td>999.9</td>\n",
       "      <td>7</td>\n",
       "      <td>1</td>\n",
       "    </tr>\n",
       "    <tr>\n",
       "      <th>797</th>\n",
       "      <td>['Beast Boost']</td>\n",
       "      <td>1.00</td>\n",
       "      <td>1.0</td>\n",
       "      <td>0.5</td>\n",
       "      <td>0.5</td>\n",
       "      <td>0.5</td>\n",
       "      <td>2.0</td>\n",
       "      <td>4.0</td>\n",
       "      <td>1.0</td>\n",
       "      <td>1.0</td>\n",
       "      <td>0.25</td>\n",
       "      <td>1.0</td>\n",
       "      <td>1.0</td>\n",
       "      <td>0.5</td>\n",
       "      <td>0.0</td>\n",
       "      <td>0.5</td>\n",
       "      <td>0.5</td>\n",
       "      <td>0.5</td>\n",
       "      <td>0.5</td>\n",
       "      <td>181</td>\n",
       "      <td>30720</td>\n",
       "      <td>0</td>\n",
       "      <td>570</td>\n",
       "      <td>255</td>\n",
       "      <td>Drawn Sword Pokémon</td>\n",
       "      <td>131</td>\n",
       "      <td>1250000</td>\n",
       "      <td>0.3</td>\n",
       "      <td>59</td>\n",
       "      <td>Kamiturugiカミツルギ</td>\n",
       "      <td>Kartana</td>\n",
       "      <td>NaN</td>\n",
       "      <td>798</td>\n",
       "      <td>59</td>\n",
       "      <td>31</td>\n",
       "      <td>109</td>\n",
       "      <td>grass</td>\n",
       "      <td>steel</td>\n",
       "      <td>0.1</td>\n",
       "      <td>7</td>\n",
       "      <td>1</td>\n",
       "    </tr>\n",
       "    <tr>\n",
       "      <th>798</th>\n",
       "      <td>['Beast Boost']</td>\n",
       "      <td>2.00</td>\n",
       "      <td>0.5</td>\n",
       "      <td>2.0</td>\n",
       "      <td>0.5</td>\n",
       "      <td>4.0</td>\n",
       "      <td>2.0</td>\n",
       "      <td>0.5</td>\n",
       "      <td>1.0</td>\n",
       "      <td>0.5</td>\n",
       "      <td>0.50</td>\n",
       "      <td>1.0</td>\n",
       "      <td>2.0</td>\n",
       "      <td>1.0</td>\n",
       "      <td>1.0</td>\n",
       "      <td>0.0</td>\n",
       "      <td>1.0</td>\n",
       "      <td>1.0</td>\n",
       "      <td>0.5</td>\n",
       "      <td>101</td>\n",
       "      <td>30720</td>\n",
       "      <td>0</td>\n",
       "      <td>570</td>\n",
       "      <td>15</td>\n",
       "      <td>Junkivore Pokémon</td>\n",
       "      <td>53</td>\n",
       "      <td>1250000</td>\n",
       "      <td>5.5</td>\n",
       "      <td>223</td>\n",
       "      <td>Akuzikingアクジキング</td>\n",
       "      <td>Guzzlord</td>\n",
       "      <td>NaN</td>\n",
       "      <td>799</td>\n",
       "      <td>97</td>\n",
       "      <td>53</td>\n",
       "      <td>43</td>\n",
       "      <td>dark</td>\n",
       "      <td>dragon</td>\n",
       "      <td>888.0</td>\n",
       "      <td>7</td>\n",
       "      <td>1</td>\n",
       "    </tr>\n",
       "    <tr>\n",
       "      <th>799</th>\n",
       "      <td>['Prism Armor']</td>\n",
       "      <td>2.00</td>\n",
       "      <td>2.0</td>\n",
       "      <td>1.0</td>\n",
       "      <td>1.0</td>\n",
       "      <td>1.0</td>\n",
       "      <td>0.5</td>\n",
       "      <td>1.0</td>\n",
       "      <td>1.0</td>\n",
       "      <td>2.0</td>\n",
       "      <td>1.00</td>\n",
       "      <td>1.0</td>\n",
       "      <td>1.0</td>\n",
       "      <td>1.0</td>\n",
       "      <td>1.0</td>\n",
       "      <td>0.5</td>\n",
       "      <td>1.0</td>\n",
       "      <td>1.0</td>\n",
       "      <td>1.0</td>\n",
       "      <td>107</td>\n",
       "      <td>30720</td>\n",
       "      <td>0</td>\n",
       "      <td>600</td>\n",
       "      <td>3</td>\n",
       "      <td>Prism Pokémon</td>\n",
       "      <td>101</td>\n",
       "      <td>1250000</td>\n",
       "      <td>2.4</td>\n",
       "      <td>97</td>\n",
       "      <td>Necrozmaネクロズマ</td>\n",
       "      <td>Necrozma</td>\n",
       "      <td>NaN</td>\n",
       "      <td>800</td>\n",
       "      <td>127</td>\n",
       "      <td>89</td>\n",
       "      <td>79</td>\n",
       "      <td>psychic</td>\n",
       "      <td>NaN</td>\n",
       "      <td>230.0</td>\n",
       "      <td>7</td>\n",
       "      <td>1</td>\n",
       "    </tr>\n",
       "    <tr>\n",
       "      <th>800</th>\n",
       "      <td>['Soul-Heart']</td>\n",
       "      <td>0.25</td>\n",
       "      <td>0.5</td>\n",
       "      <td>0.0</td>\n",
       "      <td>1.0</td>\n",
       "      <td>0.5</td>\n",
       "      <td>1.0</td>\n",
       "      <td>2.0</td>\n",
       "      <td>0.5</td>\n",
       "      <td>1.0</td>\n",
       "      <td>0.50</td>\n",
       "      <td>2.0</td>\n",
       "      <td>0.5</td>\n",
       "      <td>0.5</td>\n",
       "      <td>0.0</td>\n",
       "      <td>0.5</td>\n",
       "      <td>0.5</td>\n",
       "      <td>1.0</td>\n",
       "      <td>1.0</td>\n",
       "      <td>95</td>\n",
       "      <td>30720</td>\n",
       "      <td>0</td>\n",
       "      <td>600</td>\n",
       "      <td>3</td>\n",
       "      <td>Artificial Pokémon</td>\n",
       "      <td>115</td>\n",
       "      <td>1250000</td>\n",
       "      <td>1.0</td>\n",
       "      <td>80</td>\n",
       "      <td>Magearnaマギアナ</td>\n",
       "      <td>Magearna</td>\n",
       "      <td>NaN</td>\n",
       "      <td>801</td>\n",
       "      <td>130</td>\n",
       "      <td>115</td>\n",
       "      <td>65</td>\n",
       "      <td>steel</td>\n",
       "      <td>fairy</td>\n",
       "      <td>80.5</td>\n",
       "      <td>7</td>\n",
       "      <td>1</td>\n",
       "    </tr>\n",
       "  </tbody>\n",
       "</table>\n",
       "</div>"
      ],
      "text/plain": [
       "           abilities  against_bug  against_dark  against_dragon  \\\n",
       "796  ['Beast Boost']         0.25           1.0             0.5   \n",
       "797  ['Beast Boost']         1.00           1.0             0.5   \n",
       "798  ['Beast Boost']         2.00           0.5             2.0   \n",
       "799  ['Prism Armor']         2.00           2.0             1.0   \n",
       "800   ['Soul-Heart']         0.25           0.5             0.0   \n",
       "\n",
       "     against_electric  against_fairy  against_fight  against_fire  \\\n",
       "796               2.0            0.5            1.0           2.0   \n",
       "797               0.5            0.5            2.0           4.0   \n",
       "798               0.5            4.0            2.0           0.5   \n",
       "799               1.0            1.0            0.5           1.0   \n",
       "800               1.0            0.5            1.0           2.0   \n",
       "\n",
       "     against_flying  against_ghost  against_grass  against_ground  \\\n",
       "796             0.5            1.0           0.25             0.0   \n",
       "797             1.0            1.0           0.25             1.0   \n",
       "798             1.0            0.5           0.50             1.0   \n",
       "799             1.0            2.0           1.00             1.0   \n",
       "800             0.5            1.0           0.50             2.0   \n",
       "\n",
       "     against_ice  against_normal  against_poison  against_psychic  \\\n",
       "796          1.0             0.5             0.0              0.5   \n",
       "797          1.0             0.5             0.0              0.5   \n",
       "798          2.0             1.0             1.0              0.0   \n",
       "799          1.0             1.0             1.0              0.5   \n",
       "800          0.5             0.5             0.0              0.5   \n",
       "\n",
       "     against_rock  against_steel  against_water  attack  base_egg_steps  \\\n",
       "796           1.0            0.5            1.0     101           30720   \n",
       "797           0.5            0.5            0.5     181           30720   \n",
       "798           1.0            1.0            0.5     101           30720   \n",
       "799           1.0            1.0            1.0     107           30720   \n",
       "800           0.5            1.0            1.0      95           30720   \n",
       "\n",
       "     base_happiness  base_total capture_rate        classfication  defense  \\\n",
       "796               0         570           25       Launch Pokémon      103   \n",
       "797               0         570          255  Drawn Sword Pokémon      131   \n",
       "798               0         570           15    Junkivore Pokémon       53   \n",
       "799               0         600            3        Prism Pokémon      101   \n",
       "800               0         600            3   Artificial Pokémon      115   \n",
       "\n",
       "     experience_growth  height_m   hp    japanese_name        name  \\\n",
       "796            1250000       9.2   97   Tekkaguyaテッカグヤ  Celesteela   \n",
       "797            1250000       0.3   59  Kamiturugiカミツルギ     Kartana   \n",
       "798            1250000       5.5  223  Akuzikingアクジキング    Guzzlord   \n",
       "799            1250000       2.4   97    Necrozmaネクロズマ    Necrozma   \n",
       "800            1250000       1.0   80     Magearnaマギアナ    Magearna   \n",
       "\n",
       "     percentage_male  pokedex_number  sp_attack  sp_defense  speed    type1  \\\n",
       "796              NaN             797        107         101     61    steel   \n",
       "797              NaN             798         59          31    109    grass   \n",
       "798              NaN             799         97          53     43     dark   \n",
       "799              NaN             800        127          89     79  psychic   \n",
       "800              NaN             801        130         115     65    steel   \n",
       "\n",
       "      type2  weight_kg  generation  is_legendary  \n",
       "796  flying      999.9           7             1  \n",
       "797   steel        0.1           7             1  \n",
       "798  dragon      888.0           7             1  \n",
       "799     NaN      230.0           7             1  \n",
       "800   fairy       80.5           7             1  "
      ]
     },
     "execution_count": 3,
     "metadata": {},
     "output_type": "execute_result"
    }
   ],
   "source": [
    "pd.set_option('display.max_columns', None)\n",
    "df.tail()"
   ]
  },
  {
   "cell_type": "markdown",
   "metadata": {
    "id": "AJagvURZKs67"
   },
   "source": [
    "#### 2. [0.5 points] Are there any missing data? In which columns? How many are in each of these columns?"
   ]
  },
  {
   "cell_type": "code",
   "execution_count": 4,
   "metadata": {
    "colab": {
     "base_uri": "https://localhost:8080/",
     "height": 444
    },
    "id": "z0Qh9LCqKwx-",
    "outputId": "1d4d6e80-7973-453e-ce55-1d63f8867850"
   },
   "outputs": [
    {
     "data": {
      "text/html": [
       "<div>\n",
       "<style scoped>\n",
       "    .dataframe tbody tr th:only-of-type {\n",
       "        vertical-align: middle;\n",
       "    }\n",
       "\n",
       "    .dataframe tbody tr th {\n",
       "        vertical-align: top;\n",
       "    }\n",
       "\n",
       "    .dataframe thead th {\n",
       "        text-align: right;\n",
       "    }\n",
       "</style>\n",
       "<table border=\"1\" class=\"dataframe\">\n",
       "  <thead>\n",
       "    <tr style=\"text-align: right;\">\n",
       "      <th></th>\n",
       "      <th>Number of missing values</th>\n",
       "    </tr>\n",
       "  </thead>\n",
       "  <tbody>\n",
       "    <tr>\n",
       "      <th>type2</th>\n",
       "      <td>384</td>\n",
       "    </tr>\n",
       "    <tr>\n",
       "      <th>percentage_male</th>\n",
       "      <td>98</td>\n",
       "    </tr>\n",
       "    <tr>\n",
       "      <th>weight_kg</th>\n",
       "      <td>20</td>\n",
       "    </tr>\n",
       "    <tr>\n",
       "      <th>height_m</th>\n",
       "      <td>20</td>\n",
       "    </tr>\n",
       "    <tr>\n",
       "      <th>name</th>\n",
       "      <td>0</td>\n",
       "    </tr>\n",
       "    <tr>\n",
       "      <th>capture_rate</th>\n",
       "      <td>0</td>\n",
       "    </tr>\n",
       "    <tr>\n",
       "      <th>classfication</th>\n",
       "      <td>0</td>\n",
       "    </tr>\n",
       "    <tr>\n",
       "      <th>defense</th>\n",
       "      <td>0</td>\n",
       "    </tr>\n",
       "    <tr>\n",
       "      <th>experience_growth</th>\n",
       "      <td>0</td>\n",
       "    </tr>\n",
       "    <tr>\n",
       "      <th>hp</th>\n",
       "      <td>0</td>\n",
       "    </tr>\n",
       "    <tr>\n",
       "      <th>japanese_name</th>\n",
       "      <td>0</td>\n",
       "    </tr>\n",
       "    <tr>\n",
       "      <th>abilities</th>\n",
       "      <td>0</td>\n",
       "    </tr>\n",
       "    <tr>\n",
       "      <th>base_happiness</th>\n",
       "      <td>0</td>\n",
       "    </tr>\n",
       "    <tr>\n",
       "      <th>pokedex_number</th>\n",
       "      <td>0</td>\n",
       "    </tr>\n",
       "    <tr>\n",
       "      <th>sp_attack</th>\n",
       "      <td>0</td>\n",
       "    </tr>\n",
       "    <tr>\n",
       "      <th>sp_defense</th>\n",
       "      <td>0</td>\n",
       "    </tr>\n",
       "    <tr>\n",
       "      <th>speed</th>\n",
       "      <td>0</td>\n",
       "    </tr>\n",
       "    <tr>\n",
       "      <th>type1</th>\n",
       "      <td>0</td>\n",
       "    </tr>\n",
       "    <tr>\n",
       "      <th>generation</th>\n",
       "      <td>0</td>\n",
       "    </tr>\n",
       "    <tr>\n",
       "      <th>base_total</th>\n",
       "      <td>0</td>\n",
       "    </tr>\n",
       "    <tr>\n",
       "      <th>base_egg_steps</th>\n",
       "      <td>0</td>\n",
       "    </tr>\n",
       "    <tr>\n",
       "      <th>against_bug</th>\n",
       "      <td>0</td>\n",
       "    </tr>\n",
       "    <tr>\n",
       "      <th>attack</th>\n",
       "      <td>0</td>\n",
       "    </tr>\n",
       "    <tr>\n",
       "      <th>against_dark</th>\n",
       "      <td>0</td>\n",
       "    </tr>\n",
       "    <tr>\n",
       "      <th>against_dragon</th>\n",
       "      <td>0</td>\n",
       "    </tr>\n",
       "    <tr>\n",
       "      <th>against_electric</th>\n",
       "      <td>0</td>\n",
       "    </tr>\n",
       "    <tr>\n",
       "      <th>against_fairy</th>\n",
       "      <td>0</td>\n",
       "    </tr>\n",
       "    <tr>\n",
       "      <th>against_fight</th>\n",
       "      <td>0</td>\n",
       "    </tr>\n",
       "    <tr>\n",
       "      <th>against_fire</th>\n",
       "      <td>0</td>\n",
       "    </tr>\n",
       "    <tr>\n",
       "      <th>against_flying</th>\n",
       "      <td>0</td>\n",
       "    </tr>\n",
       "    <tr>\n",
       "      <th>against_ghost</th>\n",
       "      <td>0</td>\n",
       "    </tr>\n",
       "    <tr>\n",
       "      <th>against_grass</th>\n",
       "      <td>0</td>\n",
       "    </tr>\n",
       "    <tr>\n",
       "      <th>against_ground</th>\n",
       "      <td>0</td>\n",
       "    </tr>\n",
       "    <tr>\n",
       "      <th>against_ice</th>\n",
       "      <td>0</td>\n",
       "    </tr>\n",
       "    <tr>\n",
       "      <th>against_normal</th>\n",
       "      <td>0</td>\n",
       "    </tr>\n",
       "    <tr>\n",
       "      <th>against_poison</th>\n",
       "      <td>0</td>\n",
       "    </tr>\n",
       "    <tr>\n",
       "      <th>against_psychic</th>\n",
       "      <td>0</td>\n",
       "    </tr>\n",
       "    <tr>\n",
       "      <th>against_rock</th>\n",
       "      <td>0</td>\n",
       "    </tr>\n",
       "    <tr>\n",
       "      <th>against_steel</th>\n",
       "      <td>0</td>\n",
       "    </tr>\n",
       "    <tr>\n",
       "      <th>against_water</th>\n",
       "      <td>0</td>\n",
       "    </tr>\n",
       "    <tr>\n",
       "      <th>is_legendary</th>\n",
       "      <td>0</td>\n",
       "    </tr>\n",
       "  </tbody>\n",
       "</table>\n",
       "</div>"
      ],
      "text/plain": [
       "                   Number of missing values\n",
       "type2                                   384\n",
       "percentage_male                          98\n",
       "weight_kg                                20\n",
       "height_m                                 20\n",
       "name                                      0\n",
       "capture_rate                              0\n",
       "classfication                             0\n",
       "defense                                   0\n",
       "experience_growth                         0\n",
       "hp                                        0\n",
       "japanese_name                             0\n",
       "abilities                                 0\n",
       "base_happiness                            0\n",
       "pokedex_number                            0\n",
       "sp_attack                                 0\n",
       "sp_defense                                0\n",
       "speed                                     0\n",
       "type1                                     0\n",
       "generation                                0\n",
       "base_total                                0\n",
       "base_egg_steps                            0\n",
       "against_bug                               0\n",
       "attack                                    0\n",
       "against_dark                              0\n",
       "against_dragon                            0\n",
       "against_electric                          0\n",
       "against_fairy                             0\n",
       "against_fight                             0\n",
       "against_fire                              0\n",
       "against_flying                            0\n",
       "against_ghost                             0\n",
       "against_grass                             0\n",
       "against_ground                            0\n",
       "against_ice                               0\n",
       "against_normal                            0\n",
       "against_poison                            0\n",
       "against_psychic                           0\n",
       "against_rock                              0\n",
       "against_steel                             0\n",
       "against_water                             0\n",
       "is_legendary                              0"
      ]
     },
     "execution_count": 4,
     "metadata": {},
     "output_type": "execute_result"
    }
   ],
   "source": [
    "missing = pd.DataFrame(df.isna().sum())\n",
    "missing = missing.rename(columns = {0: 'Number of missing values'})\n",
    "missing.sort_values(by = 'Number of missing values', ascending = False)"
   ]
  },
  {
   "cell_type": "markdown",
   "metadata": {
    "id": "3VBPOnkZLMlK"
   },
   "source": [
    "#### 3. [1.0 points] Fill in the missing data with a blank for string columns and zero for numeric columns. Demonstrate that there are now no missing data in the entire dataframe.\n",
    "(Try to avoid listing all column names or repeating the code.)"
   ]
  },
  {
   "cell_type": "code",
   "execution_count": 5,
   "metadata": {
    "id": "MDzD0fXaLbr0"
   },
   "outputs": [],
   "source": [
    "import numpy as np\n",
    "for column in df.columns:\n",
    "    if df.dtypes[column] == 'object':\n",
    "        df[column] = np.where(df[column].isna(), '', df[column])\n",
    "    else:\n",
    "        df[column] = np.where(df[column].isna(), 0, df[column])"
   ]
  },
  {
   "cell_type": "code",
   "execution_count": 6,
   "metadata": {},
   "outputs": [
    {
     "data": {
      "text/plain": [
       "0"
      ]
     },
     "execution_count": 6,
     "metadata": {},
     "output_type": "execute_result"
    }
   ],
   "source": [
    "df.isna().sum().sum() # all na sums results in 0"
   ]
  },
  {
   "cell_type": "markdown",
   "metadata": {
    "id": "NeNShix0Vk86"
   },
   "source": [
    "#### 4. [0.5 points] How many legendary pokémon are there in the dataframe, and how many others?\n",
    "(Use `is_legendary` column.)"
   ]
  },
  {
   "cell_type": "code",
   "execution_count": 7,
   "metadata": {
    "id": "3rrf5PfYWkXJ"
   },
   "outputs": [
    {
     "data": {
      "text/plain": [
       "0    731\n",
       "1     70\n",
       "Name: is_legendary, dtype: int64"
      ]
     },
     "execution_count": 7,
     "metadata": {},
     "output_type": "execute_result"
    }
   ],
   "source": [
    "df['is_legendary'].value_counts() # 70 are legendary, 731 regular"
   ]
  },
  {
   "cell_type": "markdown",
   "metadata": {
    "id": "xQ1lly99aFgG"
   },
   "source": [
    "#### 5. [0.5 points] Display the maximum height of the legendary pokémons.\n",
    "\n",
    "(Use columns `height_m` and `is_legendary`.)"
   ]
  },
  {
   "cell_type": "code",
   "execution_count": 8,
   "metadata": {
    "id": "GUQAXoHSaso8"
   },
   "outputs": [
    {
     "data": {
      "text/plain": [
       "9.2"
      ]
     },
     "execution_count": 8,
     "metadata": {},
     "output_type": "execute_result"
    }
   ],
   "source": [
    "df[df['is_legendary'] == 1]['height_m'].max()"
   ]
  },
  {
   "cell_type": "markdown",
   "metadata": {
    "id": "9g37BTKYHoCP"
   },
   "source": [
    "#### 6. [0.5 points] Take a closer look at the 'abilities' column.\n",
    "\n",
    "What is the ability of the third pokémon counting from the end? Print it as an output of the code cell."
   ]
  },
  {
   "cell_type": "code",
   "execution_count": 9,
   "metadata": {
    "id": "IIQI2xC5e5sd"
   },
   "outputs": [
    {
     "name": "stdout",
     "output_type": "stream",
     "text": [
      "798    ['Beast Boost']\n",
      "Name: abilities, dtype: object\n"
     ]
    }
   ],
   "source": [
    "print(df['abilities'][-3::3])"
   ]
  },
  {
   "cell_type": "markdown",
   "metadata": {
    "id": "wBeczI2PhMfo"
   },
   "source": [
    "#### 7. [1 points] What is the hp value of the pokémon with the lowest attack value? Is there only one such pokémon?\n",
    "(Use `hp` and `attack` columns.)"
   ]
  },
  {
   "cell_type": "code",
   "execution_count": 10,
   "metadata": {
    "id": "Qvy9t4cwiQnS"
   },
   "outputs": [
    {
     "data": {
      "text/html": [
       "<div>\n",
       "<style scoped>\n",
       "    .dataframe tbody tr th:only-of-type {\n",
       "        vertical-align: middle;\n",
       "    }\n",
       "\n",
       "    .dataframe tbody tr th {\n",
       "        vertical-align: top;\n",
       "    }\n",
       "\n",
       "    .dataframe thead th {\n",
       "        text-align: right;\n",
       "    }\n",
       "</style>\n",
       "<table border=\"1\" class=\"dataframe\">\n",
       "  <thead>\n",
       "    <tr style=\"text-align: right;\">\n",
       "      <th></th>\n",
       "      <th>name</th>\n",
       "      <th>hp</th>\n",
       "      <th>attack</th>\n",
       "    </tr>\n",
       "  </thead>\n",
       "  <tbody>\n",
       "    <tr>\n",
       "      <th>112</th>\n",
       "      <td>Chansey</td>\n",
       "      <td>250</td>\n",
       "      <td>5</td>\n",
       "    </tr>\n",
       "    <tr>\n",
       "      <th>439</th>\n",
       "      <td>Happiny</td>\n",
       "      <td>100</td>\n",
       "      <td>5</td>\n",
       "    </tr>\n",
       "  </tbody>\n",
       "</table>\n",
       "</div>"
      ],
      "text/plain": [
       "        name   hp  attack\n",
       "112  Chansey  250       5\n",
       "439  Happiny  100       5"
      ]
     },
     "execution_count": 10,
     "metadata": {},
     "output_type": "execute_result"
    }
   ],
   "source": [
    "df[df['attack'] == df['attack'].min()][['name' , 'hp', 'attack']]\n",
    "# there are two such pokemons"
   ]
  },
  {
   "cell_type": "markdown",
   "metadata": {
    "id": "9rRGQDD-baDB"
   },
   "source": [
    "#### 8. [2 points] Which pokémon has the greatest total defense against different attacks? Display its Japanese name and total defense value.\n",
    "(Use the columns starting with `against_`. Try to avoid the use of loops and column enumeration. Use `japanese_name` column.)"
   ]
  },
  {
   "cell_type": "code",
   "execution_count": 11,
   "metadata": {},
   "outputs": [],
   "source": [
    "defense_columns = [col for col in df.columns if col.startswith('against_')]\n",
    "df['total_defense'] = df[defense_columns].sum(axis=1)"
   ]
  },
  {
   "cell_type": "code",
   "execution_count": 12,
   "metadata": {
    "id": "0sYbYmI6Kl3c"
   },
   "outputs": [
    {
     "data": {
      "text/html": [
       "<div>\n",
       "<style scoped>\n",
       "    .dataframe tbody tr th:only-of-type {\n",
       "        vertical-align: middle;\n",
       "    }\n",
       "\n",
       "    .dataframe tbody tr th {\n",
       "        vertical-align: top;\n",
       "    }\n",
       "\n",
       "    .dataframe thead th {\n",
       "        text-align: right;\n",
       "    }\n",
       "</style>\n",
       "<table border=\"1\" class=\"dataframe\">\n",
       "  <thead>\n",
       "    <tr style=\"text-align: right;\">\n",
       "      <th></th>\n",
       "      <th>japanese_name</th>\n",
       "      <th>name</th>\n",
       "      <th>total_defense</th>\n",
       "    </tr>\n",
       "  </thead>\n",
       "  <tbody>\n",
       "    <tr>\n",
       "      <th>697</th>\n",
       "      <td>Amarusアマルス</td>\n",
       "      <td>Amaura</td>\n",
       "      <td>26.0</td>\n",
       "    </tr>\n",
       "    <tr>\n",
       "      <th>698</th>\n",
       "      <td>Amarurugaアマルルガ</td>\n",
       "      <td>Aurorus</td>\n",
       "      <td>26.0</td>\n",
       "    </tr>\n",
       "  </tbody>\n",
       "</table>\n",
       "</div>"
      ],
      "text/plain": [
       "      japanese_name     name  total_defense\n",
       "697      Amarusアマルス   Amaura           26.0\n",
       "698  Amarurugaアマルルガ  Aurorus           26.0"
      ]
     },
     "execution_count": 12,
     "metadata": {},
     "output_type": "execute_result"
    }
   ],
   "source": [
    "df[df['total_defense'] == df['total_defense'].max()][['japanese_name', 'name', 'total_defense']]\n",
    "# there are two such pokemons"
   ]
  },
  {
   "cell_type": "markdown",
   "metadata": {
    "id": "uL45Tg5fhLu1"
   },
   "source": [
    "### Visualizations and matplotlib"
   ]
  },
  {
   "cell_type": "markdown",
   "metadata": {
    "id": "MY9lKmP2hLu1"
   },
   "source": [
    "When working with data, it is often awkward to draw any conclusions when looking at a table and numbers in particular, so it is important to be able to visualize data. This will outline the key rules of graphing for **all** homework assignments.\n",
    "\n",
    "matplotlib of course has [documentation](https://matplotlib.org/users/index.html) with lots of [examples](https://matplotlib.org/examples/), but it's enough to know about a few basic types of plots to get started:\n",
    "- `plot` - a regular dot plot, which can be used to represent curves or individual points;\n",
    "- `hist` - a histogram showing the distribution of some value;\n",
    "- `scatter` - a graph showing the relationship between two quantities;\n",
    "- `bar` - a bar chart showing the relationship between a quantitative value and a categorical value.\n",
    "\n",
    "In this assignment, you will try to construct one of them. Don't forget the basic principles of making decent graphs:\n",
    "- axes should be labeled, and not too small;\n",
    "- the graph should have a name;\n",
    "- if several graphs are shown, an explanatory legend is necessary;\n",
    "- all lines on the graphs must be clearly visible (no similar colors or colors that merge with the background);\n",
    "- if a value with an obvious range of values is displayed (for example, percentages can be from 0 to 100), it is desirable to scale the axis to the entire range of values (the exception is when you need to show a small difference that is not noticeable at such scales);\n",
    "- the grid on the graph helps to estimate point values by eye, this is usually useful, so it is better to draw it;\n",
    "- if the distribution on the histogram has heavy tails, it is better to use a logarithmic scale.\n",
    "\n",
    "Another library for visualization: [seaborn](https://seaborn.pydata.org/) (usually abbreviated to sns). It is a customization over matplotlib, sometimes it is more convenient and beautiful to make visualizations through it.\n",
    "\n",
    "**5 points after which your charts won't be the same:**\n",
    "- for a pretty picture <code>%config InlineBackend.figure_format = 'retina'</code>\n",
    "- set the size of (almost) all charts (you can choose other values) <code>plt.rcParams['figure.figsize'] = 8, 5</code>\n",
    "- font size of chart captions <code>plt.rcParams['font.size'] = 12</code>\n",
    "- format in which the image is saved <code>mpl.rcParams['savefig.format'] = 'pdf'</code>\n",
    "- sns - seaborn, adds a grid <code>sns.set_style('darkgrid')</code>\n",
    "\n",
    "\n",
    "Add these functions to the cell below. You will still have to customize each chart separately, but the above lines will greatly simplify the process."
   ]
  },
  {
   "cell_type": "code",
   "execution_count": 14,
   "metadata": {
    "id": "na9doUOFhLu1"
   },
   "outputs": [],
   "source": [
    "import matplotlib.pyplot as plt\n",
    "import matplotlib as mpl\n",
    "import seaborn as sns\n",
    "\n",
    "%config InlineBackend.figure_format\n",
    "plt.rcParams['figure.figsize'] = 8, 5\n",
    "plt.rcParams['font.size'] = 12\n",
    "mpl.rcParams['savefig.format'] = 'pdf'\n",
    "sns.set_style('darkgrid')"
   ]
  },
  {
   "cell_type": "markdown",
   "metadata": {
    "id": "kikwLpxfhLu1"
   },
   "source": [
    "#### 9. [2 points] Plot the average speed of pokémons of different generations.\n",
    "(Use bar plot and `speed` and `generation` columns.)"
   ]
  },
  {
   "cell_type": "code",
   "execution_count": 15,
   "metadata": {
    "id": "-JB0lr5KnPLi"
   },
   "outputs": [
    {
     "data": {
      "text/plain": [
       "<matplotlib.axes._subplots.AxesSubplot at 0x287ec9d22e0>"
      ]
     },
     "execution_count": 15,
     "metadata": {},
     "output_type": "execute_result"
    },
    {
     "data": {
      "image/png": "[encoded data removed]",
      "text/plain": [
       "<Figure size 576x360 with 1 Axes>"
      ]
     },
     "metadata": {},
     "output_type": "display_data"
    }
   ],
   "source": [
    "sns.barplot(data = df, y = 'speed', x = 'generation', estimator=np.average) # put in an estimator just in case"
   ]
  },
  {
   "cell_type": "markdown",
   "metadata": {
    "id": "IwL2cMewqU31"
   },
   "source": [
    "#### 10. [2 points] Plot the relationship between pokémon hp and weight. Highlight legendary pokémons points using fuchsia color."
   ]
  },
  {
   "cell_type": "code",
   "execution_count": 16,
   "metadata": {
    "id": "AEBemKgMp39i"
   },
   "outputs": [
    {
     "data": {
      "text/plain": [
       "<matplotlib.axes._subplots.AxesSubplot at 0x287efec5280>"
      ]
     },
     "execution_count": 16,
     "metadata": {},
     "output_type": "execute_result"
    },
    {
     "data": {
      "image/png": "[encoded data removed]",
      "text/plain": [
       "<Figure size 576x360 with 1 Axes>"
      ]
     },
     "metadata": {},
     "output_type": "display_data"
    }
   ],
   "source": [
    "sns.lineplot(data = df, y = 'hp', x = 'weight_kg', hue = 'is_legendary', palette = {1: 'fuchsia', 0:'green'})"
   ]
  },
  {
   "cell_type": "markdown",
   "metadata": {
    "id": "r3R7mXS8v1Co"
   },
   "source": [
    "#### 11. [0.5 points] Plot the distribution of pokémon height.\n",
    "(Use `height_m` column.)"
   ]
  },
  {
   "cell_type": "code",
   "execution_count": 17,
   "metadata": {},
   "outputs": [
    {
     "data": {
      "image/png": "[encoded data removed]",
      "text/plain": [
       "<Figure size 576x360 with 1 Axes>"
      ]
     },
     "metadata": {},
     "output_type": "display_data"
    }
   ],
   "source": [
    "plt.hist(df['height_m'])\n",
    "plt.xlabel('Height in meters')\n",
    "plt.ylabel('Frequency')\n",
    "plt.show()"
   ]
  },
  {
   "cell_type": "markdown",
   "metadata": {
    "id": "PWABZkSjr5vS"
   },
   "source": [
    "#### 12. [0.5 points] Plot the histogram of pokémon weight in logarithmic scale."
   ]
  },
  {
   "cell_type": "code",
   "execution_count": 64,
   "metadata": {
    "id": "SnO3iprrpm-D"
   },
   "outputs": [
    {
     "data": {
      "image/png": "[encoded data removed]",
      "text/plain": [
       "<Figure size 576x360 with 1 Axes>"
      ]
     },
     "metadata": {},
     "output_type": "display_data"
    }
   ],
   "source": [
    "plt.hist(df['weight_kg'])\n",
    "plt.yscale('log')\n",
    "plt.xlabel('Weight in Kilograms')\n",
    "plt.ylabel('Frequency')\n",
    "plt.show()"
   ]
  },
  {
   "cell_type": "markdown",
   "metadata": {
    "id": "q3fy8mXEwTdS"
   },
   "source": [
    "#### 12. [1 points] Plot the two-dimensional distribution of only small pokémon with height less than 3 and weight less than 200.\n",
    "(Use `height_m` and `weight_kg` columns.)"
   ]
  },
  {
   "cell_type": "code",
   "execution_count": 18,
   "metadata": {
    "id": "7iAXh8f0sgKn"
   },
   "outputs": [
    {
     "data": {
      "image/png": "[encoded data removed]",
      "text/plain": [
       "<Figure size 576x360 with 1 Axes>"
      ]
     },
     "metadata": {},
     "output_type": "display_data"
    }
   ],
   "source": [
    "# I took an inspiration from this tutorial: https://www.geeksforgeeks.org/plot-2-d-histogram-in-python-using-matplotlib-2/\n",
    "subset = df[(df['height_m'] < 3) & (df['weight_kg'] < 200)]\n",
    "plt.hist2d(x = subset['height_m'], y = subset['weight_kg'], bins=(30, 30), cmap='Reds')\n",
    "plt.xlabel('Height (less than 3 meters)')\n",
    "plt.ylabel('Weight (less than 200 kg)')\n",
    "plt.show() "
   ]
  },
  {
   "cell_type": "markdown",
   "metadata": {
    "id": "1xQjV9BuhLu6"
   },
   "source": [
    "That's all for this practice jupyter notebook.\n",
    "\n",
    "**Don't forget to rename the jupyter notebook to HW_pandas_matplotlib_NameLastname.ipynb, where Name and Lastname are your first and last name. Then send a jupyter notebook file to SmartLMS.**"
   ]
  },
  {
   "cell_type": "markdown",
   "metadata": {
    "id": "E3WRuhF7xTMu"
   },
   "source": [
    "<img src=\"https://media4.giphy.com/media/v1.Y2lkPTc5MGI3NjExMno5NWZ6bDNvcWI2dTJtN3h2NnIyejlmbDc1aXh0bWgxb2ZpOHZuOCZlcD12MV9pbnRlcm5hbF9naWZfYnlfaWQmY3Q9Zw/V1dH38rUl9yX7xU8nh/giphy.webp\" style=\"width: 300px\">"
   ]
  }
 ],
 "metadata": {
  "colab": {
   "provenance": []
  },
  "kernelspec": {
   "display_name": "Python 3.8.3 ('base')",
   "language": "python",
   "name": "python3"
  },
  "language_info": {
   "codemirror_mode": {
    "name": "ipython",
    "version": 3
   },
   "file_extension": ".py",
   "mimetype": "text/x-python",
   "name": "python",
   "nbconvert_exporter": "python",
   "pygments_lexer": "ipython3",
   "version": "3.8.3"
  },
  "varInspector": {
   "cols": {
    "lenName": 16,
    "lenType": 16,
    "lenVar": 40
   },
   "kernels_config": {
    "python": {
     "delete_cmd_postfix": "",
     "delete_cmd_prefix": "del ",
     "library": "var_list.py",
     "varRefreshCmd": "print(var_dic_list())"
    },
    "r": {
     "delete_cmd_postfix": ") ",
     "delete_cmd_prefix": "rm(",
     "library": "var_list.r",
     "varRefreshCmd": "cat(var_dic_list()) "
    }
   },
   "types_to_exclude": [
    "module",
    "function",
    "builtin_function_or_method",
    "instance",
    "_Feature"
   ],
   "window_display": false
  },
  "vscode": {
   "interpreter": {
    "hash": "ad2bdc8ecc057115af97d19610ffacc2b4e99fae6737bb82f5d7fb13d2f2c186"
   }
  }
 },
 "nbformat": 4,
 "nbformat_minor": 1
}
