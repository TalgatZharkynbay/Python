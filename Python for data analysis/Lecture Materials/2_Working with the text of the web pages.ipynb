{
 "cells": [
  {
   "cell_type": "markdown",
   "metadata": {
    "id": "yGjQIwz30jsP"
   },
   "source": [
    "# Calculating the statistics of the use of words on the site page\n",
    "\n",
    "Last time we learned how to connect to websites, get pages from the Internet and search for tags in the code of the received pages. Today we will learn how to search by page content.\n",
    "\n",
    "Let's assume that you and I have not read Harry Potter, but it is vital for us to understand who the main characters in this series of books are and how the characters interact with each other.\n",
    "\n",
    "Let's try to assume that there are more words dedicated to the main characters on fan sites — or, at least, those who are quite popular with the public — and that fans would not forget to mention the interactions between the characters in their biographies."
   ]
  },
  {
   "cell_type": "markdown",
   "metadata": {
    "id": "vDB3d9Qy_Tk_"
   },
   "source": [
    "Let's go through the pages and calculate the length of the texts that they contain, for this:\n",
    "1. download the main page;\n",
    "2. extract a list of links from it\n",
    "3. follow the links and check for each of them:\n",
    "    * that the link points to our site and\n",
    "    * that the link can be downloaded (it returns the response code 200):\n",
    "    1. for each of the selected links, calculate the length of the text on the page and\n",
    "    2. print the link name and the length of the text."
   ]
  },
  {
   "cell_type": "markdown",
   "metadata": {
    "id": "jqtT4iPuAOYN"
   },
   "source": [
    "Download the main page of the training site and build the addresses of the remaining links:"
   ]
  },
  {
   "cell_type": "code",
   "execution_count": 1,
   "metadata": {
    "colab": {
     "base_uri": "https://localhost:8080/",
     "height": 209
    },
    "executionInfo": {
     "elapsed": 2700,
     "status": "ok",
     "timestamp": 1602624367097,
     "user": {
      "displayName": "Tatiana Rogovich",
      "photoUrl": "https://lh3.googleusercontent.com/a-/AOh14Gjj1YqMwkiGsMOcK4XoZPpJp6kCbYZ6EqgvdL3EXA=s64",
      "userId": "08185984249235601298"
     },
     "user_tz": -180
    },
    "id": "qt_V_vSbAS7y",
    "outputId": "f4572ae6-4262-49cf-ec7a-6d1662315b30"
   },
   "outputs": [
    {
     "name": "stdout",
     "output_type": "stream",
     "text": [
      "https://online.hse.ru/python-as-foreign/1/1.html Гарри Поттер\n",
      "https://online.hse.ru/python-as-foreign/1/2.html Джинни Уизли\n",
      "https://online.hse.ru/python-as-foreign/1/3.html Лили Поттер\n",
      "https://online.hse.ru/python-as-foreign/1/4.html Гермиона Грейнджер\n",
      "https://online.hse.ru/python-as-foreign/1/5.html Сириус Блэк\n",
      "https://online.hse.ru/python-as-foreign/1/6.html Рубеус Хагрид\n",
      "https://online.hse.ru/python-as-foreign/1/7.html Рон Уизли\n",
      "https://online.hse.ru/python-as-foreign/1/8.html Астория Гринграсс\n",
      "https://online.hse.ru/python-as-foreign/1/9.html Люциус Малфой\n",
      "https://online.hse.ru/python-as-foreign/1/10.html Драко Малфой\n",
      "https://online.hse.ru/python-as-foreign/1/11.html Беллатриса Лестрейндж\n"
     ]
    }
   ],
   "source": [
    "import requests   \n",
    "from bs4 import BeautifulSoup\n",
    "\n",
    "base_url = 'https://online.hse.ru/python-as-foreign/1/'\n",
    "\n",
    "page = requests.get(base_url)\n",
    "page.encoding = 'utf-8'\n",
    "soup = BeautifulSoup(page.text)\n",
    "\n",
    "for link in soup.find_all('a'):\n",
    "    if link.get('href').endswith('html'):   # All links to our site end in .html\n",
    "        print(base_url+link.get('href'), link.text)"
   ]
  },
  {
   "cell_type": "markdown",
   "metadata": {
    "id": "CbmOjgd7Agae"
   },
   "source": [
    "Let's try to download each of them and check that they are downloaded correctly:"
   ]
  },
  {
   "cell_type": "code",
   "execution_count": 2,
   "metadata": {
    "colab": {
     "base_uri": "https://localhost:8080/",
     "height": 192
    },
    "executionInfo": {
     "elapsed": 18697,
     "status": "ok",
     "timestamp": 1602624424977,
     "user": {
      "displayName": "Tatiana Rogovich",
      "photoUrl": "https://lh3.googleusercontent.com/a-/AOh14Gjj1YqMwkiGsMOcK4XoZPpJp6kCbYZ6EqgvdL3EXA=s64",
      "userId": "08185984249235601298"
     },
     "user_tz": -180
    },
    "id": "4ceY4oSbAkzL",
    "outputId": "730f2581-2a76-43ac-9109-c74732658220"
   },
   "outputs": [
    {
     "name": "stdout",
     "output_type": "stream",
     "text": [
      "https://online.hse.ru/python-as-foreign/1/1.html Гарри Поттер\n",
      "https://online.hse.ru/python-as-foreign/1/2.html Джинни Уизли\n",
      "https://online.hse.ru/python-as-foreign/1/3.html Лили Поттер\n",
      "https://online.hse.ru/python-as-foreign/1/4.html Гермиона Грейнджер\n",
      "https://online.hse.ru/python-as-foreign/1/5.html Сириус Блэк\n",
      "https://online.hse.ru/python-as-foreign/1/6.html Рубеус Хагрид\n",
      "https://online.hse.ru/python-as-foreign/1/7.html Рон Уизли\n",
      "https://online.hse.ru/python-as-foreign/1/8.html Астория Гринграсс\n",
      "https://online.hse.ru/python-as-foreign/1/9.html Люциус Малфой\n",
      "https://online.hse.ru/python-as-foreign/1/10.html Драко Малфой\n"
     ]
    }
   ],
   "source": [
    "import requests   \n",
    "from bs4 import BeautifulSoup\n",
    "\n",
    "base_url = 'https://online.hse.ru/python-as-foreign/1/'\n",
    "\n",
    "page = requests.get(base_url)\n",
    "page.encoding = 'utf-8'\n",
    "soup = BeautifulSoup(page.text)\n",
    "\n",
    "for link in soup.find_all('a'):\n",
    "    if link.get('href').endswith('html'):   # All links to our site end in .html\n",
    "        page = requests.get(base_url+link.get('href'))\n",
    "        if page.status_code == 200:\n",
    "            print(base_url+link.get('href'), link.text)"
   ]
  },
  {
   "cell_type": "markdown",
   "metadata": {
    "id": "MkarlgeHBErF"
   },
   "source": [
    "Note that the page about Bellatrix Lestrange could not be loaded, since it is not on the site and the response code was 404, not 200.\n",
    "\n",
    "We will set the correct encoding for each of the loaded pages and calculate the length of the texts by referring to the `body` tag, inside which all visible content is located on the pages:"
   ]
  },
  {
   "cell_type": "code",
   "execution_count": 3,
   "metadata": {
    "colab": {
     "base_uri": "https://localhost:8080/",
     "height": 377
    },
    "executionInfo": {
     "elapsed": 10157,
     "status": "ok",
     "timestamp": 1602610401897,
     "user": {
      "displayName": "Дмитрий Широков",
      "photoUrl": "https://lh3.googleusercontent.com/a-/AOh14Gj5ZAs-5dMegnzmhLzTxoLXJmKnF6n7i3ZxETt9Vw=s64",
      "userId": "13642431705883450455"
     },
     "user_tz": -180
    },
    "id": "Ypaqh61vmZTB",
    "outputId": "d0e7abb8-449d-4a73-e894-35b18c53217e"
   },
   "outputs": [
    {
     "name": "stdout",
     "output_type": "stream",
     "text": [
      "Link path - 1.html and text \"Гарри Поттер\"\n",
      "The article length is 58609 symbols.\n",
      "Link path - 2.html and text \"Джинни Уизли\"\n",
      "The article length is 19644 symbols.\n",
      "Link path - 3.html and text \"Лили Поттер\"\n",
      "The article length is 23711 symbols.\n",
      "Link path - 4.html and text \"Гермиона Грейнджер\"\n",
      "The article length is 55545 symbols.\n",
      "Link path - 5.html and text \"Сириус Блэк\"\n",
      "The article length is 22988 symbols.\n",
      "Link path - 6.html and text \"Рубеус Хагрид\"\n",
      "The article length is 13522 symbols.\n",
      "Link path - 7.html and text \"Рон Уизли\"\n",
      "The article length is 46010 symbols.\n",
      "Link path - 8.html and text \"Астория Гринграсс\"\n",
      "The article length is 2318 symbols.\n",
      "Link path - 9.html and text \"Люциус Малфой\"\n",
      "The article length is 18883 symbols.\n",
      "Link path - 10.html and text \"Драко Малфой\"\n",
      "The article length is 56949 symbols.\n"
     ]
    }
   ],
   "source": [
    "import requests   \n",
    "from bs4 import BeautifulSoup\n",
    "\n",
    "base_url = 'https://online.hse.ru/python-as-foreign/1/'\n",
    "\n",
    "page = requests.get(base_url)\n",
    "page.encoding = 'utf-8'\n",
    "soup = BeautifulSoup(page.text)\n",
    "\n",
    "for link in soup.find_all('a'):\n",
    "    if link.get('href').endswith('html'):\n",
    "        page = requests.get(base_url+link.get('href'))\n",
    "        if page.status_code == 200:\n",
    "            print(f'Link path - {link.get(\"href\")} and text \"{link.text}\"')\n",
    "            page.encoding = 'utf-8'\n",
    "            s = BeautifulSoup(page.text)\n",
    "            print(f'The article length is {len(s.find(\"body\").text)} symbols.')"
   ]
  },
  {
   "cell_type": "markdown",
   "metadata": {
    "id": "rurE3zrIGN8G"
   },
   "source": [
    "Note that our hypothesis has been confirmed: the list of main characters includes Harry, Hermione, Draco and Ron, and the list of secondary characters includes Lily, Ginny, Sirius, Hagrid and Lucius. The episodic hero turned out to be Astoria Greengrass."
   ]
  },
  {
   "cell_type": "markdown",
   "metadata": {
    "id": "kHTwpqdHCKen"
   },
   "source": [
    "Now let's rework our program so that it tries to find mentions of others on the pages of some characters, to do this, we will finalize the existing program:\n",
    "1. create a list of the names of the heroes by which they can be found,\n",
    "2. let's create a dictionary of the Hero type: A lot of names of heroes that are mentioned on his biography page,\n",
    "3. let's go through all the pages of the biographies and on each page:\n",
    "    1. let's try to find a mention of each name from the list of heroes in the text of the page,\n",
    "    2. add the found names to our dictionary of sets\n",
    "4. At the end, we will display the statistics on the screen and compare it with the contents of the books (without spoilers)."
   ]
  },
  {
   "cell_type": "markdown",
   "metadata": {
    "id": "GzayVos5Do-E"
   },
   "source": [
    "Let's make a dictionary of names, taking only the unchangeable part from each name (on behalf of Harry Potter, we'll take the name Harry, but on behalf of Hermione Grager, we'll take only the line \"Hermione\"):"
   ]
  },
  {
   "cell_type": "code",
   "execution_count": 4,
   "metadata": {
    "id": "AHyAkLN0D2LJ"
   },
   "outputs": [],
   "source": [
    "import requests   \n",
    "from bs4 import BeautifulSoup\n",
    "\n",
    "base_url = 'https://online.hse.ru/python-as-foreign/1/'\n",
    "\n",
    "page = requests.get(base_url)\n",
    "page.encoding = 'utf-8'\n",
    "soup = BeautifulSoup(page.text)\n",
    "\n",
    "chars = ['Гарри', 'Рон', 'Гермион', 'Сириус', 'Хагрид', 'Джинн', 'Лили', 'Астори', 'Люциус', 'Драко']\n",
    "char_to_char = {} # Type of the dictionary: hero => set of other heroes with whom he communicates"
   ]
  },
  {
   "cell_type": "markdown",
   "metadata": {
    "id": "XtlEV7X6EHcg"
   },
   "source": [
    "Let's add a search for mentions of heroes to the already written code for viewing the texts of all biographies:"
   ]
  },
  {
   "cell_type": "code",
   "execution_count": 5,
   "metadata": {
    "colab": {
     "base_uri": "https://localhost:8080/",
     "height": 197
    },
    "executionInfo": {
     "elapsed": 8784,
     "status": "ok",
     "timestamp": 1602611762344,
     "user": {
      "displayName": "Дмитрий Широков",
      "photoUrl": "https://lh3.googleusercontent.com/a-/AOh14Gj5ZAs-5dMegnzmhLzTxoLXJmKnF6n7i3ZxETt9Vw=s64",
      "userId": "13642431705883450455"
     },
     "user_tz": -180
    },
    "id": "45yF3BNmslQw",
    "outputId": "2dc7cfc1-8256-4710-b794-581c2ecdbd3b"
   },
   "outputs": [
    {
     "name": "stdout",
     "output_type": "stream",
     "text": [
      "Гарри Поттер interacted with: Джинн, Люциус, Гермион, Хагрид, Сириус, Лили, Рон, Драко.\n",
      "Джинни Уизли interacted with: Люциус, Гермион, Гарри, Лили, Сириус, Рон, Драко.\n",
      "Лили Поттер interacted with: Джинн, Гарри, Хагрид, Сириус, Драко.\n",
      "Гермиона Грейнджер interacted with: Джинн, Гарри, Хагрид, Сириус, Лили, Рон, Драко.\n",
      "Сириус Блэк interacted with: Гермион, Гарри, Хагрид, Лили, Рон.\n",
      "Рубеус Хагрид interacted with: Рон, Драко, Гермион, Гарри.\n",
      "Рон Уизли interacted with: Джинн, Люциус, Гермион, Гарри, Хагрид, Сириус, Лили, Драко.\n",
      "Астория Гринграсс interacted with: Люциус, Драко.\n",
      "Люциус Малфой interacted with: Джинн, Гермион, Гарри, Астори, Хагрид, Сириус, Рон, Драко.\n",
      "Драко Малфой interacted with: Джинн, Люциус, Гермион, Гарри, Астори, Хагрид, Сириус, Рон.\n"
     ]
    }
   ],
   "source": [
    "import requests   \n",
    "from bs4 import BeautifulSoup\n",
    "\n",
    "base_url = 'https://online.hse.ru/python-as-foreign/1/'\n",
    "\n",
    "page = requests.get(base_url)\n",
    "page.encoding = 'utf-8'\n",
    "soup = BeautifulSoup(page.text)\n",
    "\n",
    "chars = ['Гарри', 'Рон', 'Гермион', 'Сириус', 'Хагрид', 'Джинн', 'Лили', 'Астори', 'Люциус', 'Драко']\n",
    "char_to_char = {} # Type of the dictionary: hero => set of other heroes with whom he communicates\n",
    "\n",
    "for link in soup.find_all('a'):\n",
    "    if link.get('href').endswith('html'):\n",
    "        page = requests.get(base_url+link.get('href'))\n",
    "        if page.status_code == 200:\n",
    "            page.encoding = 'utf-8'\n",
    "            s = BeautifulSoup(page.text)\n",
    "            \n",
    "            if link.text not in char_to_char:               # If in our dictionary of sets \n",
    "                                                            # there is no key for the hero being studied now —\n",
    "                char_to_char[link.text] = set()             # let's create this key\n",
    "            for char in chars:                              # Let's look at the list of names of the heroes\n",
    "                if char not in link.text:                   # If we don't look at the hero's biography page\n",
    "                    if char in s.find('body').text:         # and if the hero is mentioned on the page,\n",
    "                        char_to_char[link.text].add(char)   # let's add it to a lot of interactions\n",
    "\n",
    "for hero in char_to_char:\n",
    "    print(f'{hero} interacted with: {\", \".join(char_to_char[hero])}.')"
   ]
  },
  {
   "cell_type": "markdown",
   "metadata": {
    "id": "pWG3KBBOFqRO"
   },
   "source": [
    "It can be noted that Astoria Greengrass interacted only with members of her family (Malfoy), which corresponds to the text of the book:\n",
    "\n",
    "`Astoria Greengrass interacted with: Draco, Lucius.`"
   ]
  }
 ],
 "metadata": {
  "colab": {
   "collapsed_sections": [],
   "name": "9.12.3 Подсчёт статистики употребления слов на странице сайта.ipynb",
   "provenance": []
  },
  "kernelspec": {
   "display_name": "Python 3 (ipykernel)",
   "language": "python",
   "name": "python3"
  },
  "language_info": {
   "codemirror_mode": {
    "name": "ipython",
    "version": 3
   },
   "file_extension": ".py",
   "mimetype": "text/x-python",
   "name": "python",
   "nbconvert_exporter": "python",
   "pygments_lexer": "ipython3",
   "version": "3.9.13"
  }
 },
 "nbformat": 4,
 "nbformat_minor": 1
}
