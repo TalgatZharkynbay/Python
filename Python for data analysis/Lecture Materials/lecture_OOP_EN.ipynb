{
 "cells": [
  {
   "cell_type": "markdown",
   "metadata": {},
   "source": [
    "# Introduction to classes in Python"
   ]
  },
  {
   "cell_type": "markdown",
   "metadata": {},
   "source": [
    "## Object Oriented Programming (OOP)\n",
    "Object-oriented programming (OOP) is a software development methodology that is based on the concept of a class and an object, while the program itself is created as a collection of objects that interact with each other and with the outside world. Every object is an instance of some class. Classes form hierarchies. Classes, like functions, are created and used for convenience and simplification of program development. You can read more about the concept of OOP at [Wikipedia](https://ru.wikipedia.org/wiki/%D0%9E%D0%B1%D1%8A%D0%B5%D0%BA%D1%82%D0%BD%D0%BE-%D0%BE%D1%80%D0%B8%D0%B5%D0%BD%D1%82%D0%B8%D1%80%D0%BE%D0%B2%D0%B0%D0%BD%D0%BD%D0%BE%D0%B5_%D0%BF%D1%80%D0%BE%D0%B3%D1%80%D0%B0%D0%BC%D0%BC%D0%B8%D1%80%D0%BE%D0%B2%D0%B0%D0%BD%D0%B8%D0%B5).\n",
    "There are three main “pillars” of OOP: encapsulation, inheritance and polymorphism.\n",
    "\n",
    "### Encapsulation\n",
    "Encapsulation means hiding implementation details, data, etc. from the outside. For example, you can define a class `refrigerator`, which will contain the following data: `manufacturer`, `volume`, `number of storage compartments`, `power consumption`, etc., and methods: `open/close refrigerator`, ` enable/disable`, but at the same time the implementation of how to directly enable and disable it is not available to the user of your class, which allows you to change it without fear that this may affect the user of the class \"refrigerator\" program. In this case, the class becomes a new data type within the developed program. You can create variables of this new type, these variables are called objects.\n",
    "\n",
    "### Inheritance\n",
    "\n",
    "Inheritance means the ability to create a new class based on an existing one. In this case, the descendant class will contain the same attributes and methods as the base class, but it can (and should) be expanded by adding new methods and attributes.\n",
    "An example of a base class demonstrating inheritance is the class `car`, which has attributes: weight, engine power, fuel tank capacity and methods: start and stop. Such a class may have a descendant -`truck`, it will contain the same attributes and methods as the `car` class, and additional properties: number of axles, compressor power, etc.\n",
    "\n",
    "### Polymorphism\n",
    "Polymorphism allows objects that have the same interface to be treated equally, regardless of the object's internal implementation. For example, with an object of the class `truck` you can perform the same operations as with an object of the class `car`, because the first is the heir of the second, while the converse statement is not true (at least not always). In other words, polymorphism involves different implementations of methods with the same names. This is very useful when inheriting, when in a descendant class you can override the methods of the parent class. A simple example of polymorphism is the `count()` function, which performs the same action for different types of objects: `'abc'.count('a')` and `[1, 2, 'a'].count('a') `. The plus operator is polymorphic when adding numbers and when adding strings."
   ]
  },
  {
   "cell_type": "markdown",
   "metadata": {},
   "source": [
    "## Creating classes in Python\n",
    "\n",
    "Creating a class in Python begins with the `class` statement. This is what the minimum class will look like:"
   ]
  },
  {
   "cell_type": "code",
   "execution_count": null,
   "metadata": {},
   "outputs": [],
   "source": [
    "class Car:\n",
    "   \"\"\"Optional class docstring\"\"\"  \n",
    "   pass"
   ]
  },
  {
   "cell_type": "code",
   "execution_count": 2,
   "metadata": {},
   "outputs": [],
   "source": [
    "?Car"
   ]
  },
  {
   "cell_type": "markdown",
   "metadata": {},
   "source": [
    "A class consists of a declaration (the `class` instruction), a class name (in our case the name `Car`) and a class body that contains attributes and methods (our minimal class has only one `pass` instruction). It is also considered good form to describe what this class and its methods do immediately after it is declared.\n",
    "\n",
    "Despite the empty body of the `Car` class, it is already possible to create a specific object with a unique identifier based on it. To create a class object, you must use the following syntax:"
   ]
  },
  {
   "cell_type": "code",
   "execution_count": 2,
   "metadata": {},
   "outputs": [],
   "source": [
    "audi = Car()"
   ]
  },
  {
   "cell_type": "markdown",
   "metadata": {},
   "source": [
    "<img src='https://cs.sberuniversity.online/image/1000/auto/upsize/1bd35314-d56c-11ed-82f2-02420a0002a0'>"
   ]
  },
  {
   "cell_type": "markdown",
   "metadata": {},
   "source": [
    "Having defined a new class, you can create as many objects based on it as you like. As mentioned above, such a data structure may include certain properties, that is, variables that will be endowed with each instance of the class.\n",
    "\n",
    "Once again, note that a class is a template or instruction for creating instances. And an instance is an object with specific parameters. An analogy can be drawn with an assembly drawing of a car. The factory has one general drawing, but all the machines are unique. They can be of different colors and configurations. Also, a class is one general template that defines the data and behavior of each specific instance. At the same time, we have the right to change each copy in a unique way.\n",
    "\n",
    "### Static and dynamic class attributes\n",
    "\n",
    "As mentioned above, a class can contain `attributes` and `methods`. An `attribute` can be static or dynamic. The point is that to work with a static attribute, you do not need to create an instance of the class, but to work with a dynamic attribute, you do. For example, let's create a class like this `Car`:"
   ]
  },
  {
   "cell_type": "code",
   "execution_count": 2,
   "metadata": {},
   "outputs": [],
   "source": [
    "class Car:\n",
    "    default_color = \"green\"\n",
    "    \n",
    "    def __init__(self, color, brand, doors_num):\n",
    "        if color == None:\n",
    "            self.color = self.default_color\n",
    "        else:\n",
    "            self.color = color\n",
    "            \n",
    "        self.brand = brand\n",
    "        self.doors_num = doors_num"
   ]
  },
  {
   "cell_type": "markdown",
   "metadata": {},
   "source": [
    "In the class presented above, the default_color attribute is a static attribute, and, as mentioned above, access to it can be obtained without creating an object of the Car class"
   ]
  },
  {
   "cell_type": "code",
   "execution_count": 4,
   "metadata": {},
   "outputs": [
    {
     "data": {
      "text/plain": [
       "'green'"
      ]
     },
     "execution_count": 4,
     "metadata": {},
     "output_type": "execute_result"
    }
   ],
   "source": [
    "Car.default_color"
   ]
  },
  {
   "cell_type": "markdown",
   "metadata": {},
   "source": [
    "`color`, `brand` and `doors_num` are dynamic attributes and were created using the `self` keyword. We'll talk about `self` and the `def __init__` constructor later. Also note that inside the class we use the static attribute `default_color` to assign the color of the car if we haven't explicitly set it.\n",
    "\n",
    "`if color == None:\n",
    "    self.color = default_color\n",
    " else:\n",
    "    self.color = color`\n",
    "    \n",
    "To access `color`, `brand` and `doors_num` you first need to create an object of the Car class:"
   ]
  },
  {
   "cell_type": "code",
   "execution_count": 6,
   "metadata": {},
   "outputs": [
    {
     "name": "stdout",
     "output_type": "stream",
     "text": [
      "BMW\n",
      "green\n",
      "2\n"
     ]
    }
   ],
   "source": [
    "bmw = Car(None,\"BMW\", 2)\n",
    "print(bmw.brand)\n",
    "print(bmw.color)\n",
    "print(bmw.doors_num)"
   ]
  },
  {
   "cell_type": "markdown",
   "metadata": {},
   "source": [
    "We created a class object without giving it a specific color, so the default one was used.\n",
    "\n",
    "If we access it through the class, we will get an error:"
   ]
  },
  {
   "cell_type": "code",
   "execution_count": null,
   "metadata": {},
   "outputs": [],
   "source": [
    "Car.brand"
   ]
  },
  {
   "cell_type": "markdown",
   "metadata": {},
   "source": [
    "In other words, a static attribute is a standard attribute of a class that is common to all objects of this class. Let's assign a new value to the color."
   ]
  },
  {
   "cell_type": "code",
   "execution_count": 7,
   "metadata": {},
   "outputs": [],
   "source": [
    "Car.default_color = \"red\""
   ]
  },
  {
   "cell_type": "code",
   "execution_count": 8,
   "metadata": {},
   "outputs": [
    {
     "data": {
      "text/plain": [
       "'red'"
      ]
     },
     "execution_count": 8,
     "metadata": {},
     "output_type": "execute_result"
    }
   ],
   "source": [
    "Car.default_color"
   ]
  },
  {
   "cell_type": "markdown",
   "metadata": {},
   "source": [
    "Let's create two objects of the `Car` class and check that their `default_color` matches:"
   ]
  },
  {
   "cell_type": "code",
   "execution_count": 9,
   "metadata": {},
   "outputs": [],
   "source": [
    "bmw = Car(None,\"BMW\",2)\n",
    "audi = Car(None,\"AUDI\", 4)"
   ]
  },
  {
   "cell_type": "code",
   "execution_count": 10,
   "metadata": {},
   "outputs": [
    {
     "data": {
      "text/plain": [
       "'red'"
      ]
     },
     "execution_count": 10,
     "metadata": {},
     "output_type": "execute_result"
    }
   ],
   "source": [
    "bmw.default_color"
   ]
  },
  {
   "cell_type": "code",
   "execution_count": 11,
   "metadata": {},
   "outputs": [
    {
     "data": {
      "text/plain": [
       "'red'"
      ]
     },
     "execution_count": 11,
     "metadata": {},
     "output_type": "execute_result"
    }
   ],
   "source": [
    "audi.default_color"
   ]
  },
  {
   "cell_type": "markdown",
   "metadata": {},
   "source": [
    "If you change the value of default_color through the class name `Car`, then everything will be expected: for objects `bmw` and `audi` this value will change, but if you change it through an instance of the class, then an attribute with the same name will be created for the instance as a static one, and access to the latter will be lost:"
   ]
  },
  {
   "cell_type": "code",
   "execution_count": 12,
   "metadata": {},
   "outputs": [
    {
     "data": {
      "text/plain": [
       "'blue'"
      ]
     },
     "execution_count": 12,
     "metadata": {},
     "output_type": "execute_result"
    }
   ],
   "source": [
    "bmw.default_color = \"blue\"\n",
    "bmw.default_color"
   ]
  },
  {
   "cell_type": "markdown",
   "metadata": {},
   "source": [
    "But for `audi` and the class everything will remain the same:"
   ]
  },
  {
   "cell_type": "code",
   "execution_count": 13,
   "metadata": {},
   "outputs": [
    {
     "data": {
      "text/plain": [
       "'red'"
      ]
     },
     "execution_count": 13,
     "metadata": {},
     "output_type": "execute_result"
    }
   ],
   "source": [
    "audi.default_color"
   ]
  },
  {
   "cell_type": "code",
   "execution_count": 16,
   "metadata": {},
   "outputs": [
    {
     "data": {
      "text/plain": [
       "'red'"
      ]
     },
     "execution_count": 16,
     "metadata": {},
     "output_type": "execute_result"
    }
   ],
   "source": [
    "Car.default_color"
   ]
  },
  {
   "cell_type": "markdown",
   "metadata": {},
   "source": [
    "\n",
    "We can imagine our class as a car factory. All cars are initially made in one color `default_color = green` -green. If we buy a car and want to repaint it, we set the color `color` -Car(\"black\",\"BMW\",2). Those. we will repaint the car black, and if we don’t specify it, it will automatically be in the standard green color. After some time, the plant changes the standard color, for example to red -`Car.default_color = \"red\"` And now all cars will be created initially in red."
   ]
  },
  {
   "cell_type": "code",
   "execution_count": null,
   "metadata": {},
   "outputs": [],
   "source": [
    "# initially paint it green\n",
    "Car.default_color = \"green\"\n",
    "\n",
    "car1 = Car(None,\"Niva\",2)\n",
    "car2 = Car(None,\"Niva\",2)\n",
    "car3 = Car(None,\"Niva\",4)\n",
    "car4 = Car(\"black\",\"Niva\",4) # Painted the car a different color\n",
    "\n",
    "print(car1.color,car2.color,car3.color,car4.color)\n",
    "print('The plant switches to a new color\\n')\n",
    "\n",
    "# The factory switched to a new color\n",
    "Car.default_color = \"red\"\n",
    "\n",
    "car5 = Car(None,\"Niva\",2)\n",
    "car6 = Car(\"olive\",\"Niva\",2)\n",
    "car7 = Car(None,\"Niva\",4)\n",
    "car8 = Car(None,\"Niva\",4) # Painted the car a different color\n",
    "print(car1.color,car2.color,car3.color,car4.color)\n",
    "print(\"At the top are those released before the transition to a new car color, at the bottom after the transition.\")\n",
    "print(car5.color,car6.color,car7.color,car8.color)"
   ]
  },
  {
   "cell_type": "markdown",
   "metadata": {},
   "source": [
    "Is it possible to somehow view all the attributes of a class? Can! The first method that can be used is the `__dict__` magic method."
   ]
  },
  {
   "cell_type": "code",
   "execution_count": 5,
   "metadata": {},
   "outputs": [
    {
     "data": {
      "text/plain": [
       "mappingproxy({'__module__': '__main__',\n",
       "              'default_color': 'red',\n",
       "              '__init__': <function __main__.Car.__init__(self, color, brand, doors_num)>,\n",
       "              '__dict__': <attribute '__dict__' of 'Car' objects>,\n",
       "              '__weakref__': <attribute '__weakref__' of 'Car' objects>,\n",
       "              '__doc__': None})"
      ]
     },
     "execution_count": 5,
     "metadata": {},
     "output_type": "execute_result"
    }
   ],
   "source": [
    "Car.__dict__"
   ]
  },
  {
   "cell_type": "code",
   "execution_count": null,
   "metadata": {},
   "outputs": [
    {
     "data": {
      "text/plain": [
       "{'color': 'red', 'brand': 'Niva', 'doors_num': 2}"
      ]
     },
     "execution_count": 6,
     "metadata": {},
     "output_type": "execute_result"
    }
   ],
   "source": [
    "car5.__dict__ # attributes of a class instance can also be viewed!"
   ]
  },
  {
   "cell_type": "markdown",
   "metadata": {},
   "source": [
    "## Argument self\n",
    "\n",
    "Let's look at why it is needed and what `self` means in Python functions. Classes need a way to refer to themselves.  It is a way of communicating between instances. Because we must take the value of the class attribute of our own instance, and not someone else’s. `Self` thus replaces the object's identifier. You need to place it in each function in order to be able to call it on the current object. You can also use this keyword to access the fields of the class in the described method.\n",
    "\n",
    "We've already accessed `default_color` with `self` in our `Car` class."
   ]
  },
  {
   "cell_type": "code",
   "execution_count": 17,
   "metadata": {},
   "outputs": [
    {
     "data": {
      "text/plain": [
       "'green'"
      ]
     },
     "execution_count": 17,
     "metadata": {},
     "output_type": "execute_result"
    }
   ],
   "source": [
    "class Car:\n",
    "    default_color = \"green\"\n",
    "    \n",
    "    def __init__(self, color, brand, doors_num):\n",
    "        if color == None:\n",
    "            self.color = self.default_color\n",
    "        else:\n",
    "            self.color = color\n",
    "            \n",
    "        self.brand = brand\n",
    "        self.doors_num = doors_num\n",
    "        \n",
    "fiat = Car(None,\"Fiat\",5)\n",
    "fiat.color"
   ]
  },
  {
   "cell_type": "markdown",
   "metadata": {},
   "source": [
    "If `self` had not been specified as the first parameter, then when trying to create a class, an error would appear:"
   ]
  },
  {
   "cell_type": "code",
   "execution_count": null,
   "metadata": {},
   "outputs": [],
   "source": [
    "class Car:\n",
    "    default_color = \"green\"\n",
    "    \n",
    "    def __init__(self, color, brand, doors_num):\n",
    "        if color == None:\n",
    "            self.color = default_color # no call to self.default_color\n",
    "        else:\n",
    "            self.color = color\n",
    "            \n",
    "        self.brand = brand\n",
    "        self.doors_num = doors_num\n",
    "        \n",
    "fiat = Car(None,\"Fiat\",5)\n",
    "fiat.color"
   ]
  },
  {
   "cell_type": "markdown",
   "metadata": {},
   "source": [
    "The class does not know which class instance variable it is accessing, but `self` tells it to access the instance in which it is called/created."
   ]
  },
  {
   "cell_type": "markdown",
   "metadata": {},
   "source": [
    "## Class constructor\n",
    "\n",
    "Usually, when creating a class, we want to immediately initialize it with some data. For example, when we create a list `a = []`, we can immediately pass some values ​​into it -`a = [1,2,3,4,5]`. You can do the same thing with our self-written classes. For this purpose, OOP uses a constructor that takes the necessary parameters. Before this, we already created it in our class:"
   ]
  },
  {
   "cell_type": "code",
   "execution_count": null,
   "metadata": {},
   "outputs": [],
   "source": [
    "class Car:\n",
    "    default_color = \"green\"\n",
    "    \n",
    "    def __init__(self, color, brand, doors_num):\n",
    "        if color == None:\n",
    "            self.color = default_color\n",
    "        else:\n",
    "            self.color = color\n",
    "            \n",
    "        self.brand = brand\n",
    "        self.doors_num = doors_num\n",
    "\n",
    "ford = Car(\"yellow\", \"Ford\", 4)\n",
    "\n",
    "print(f\"Nice {ford.color} {ford.brand} with {ford.doors_num} doors\")"
   ]
  },
  {
   "cell_type": "markdown",
   "metadata": {},
   "source": [
    "Externally, a constructor is similar to a regular method, but it cannot be called explicitly. Instead, it fires automatically every time the program creates a new object for the class in which it is located. The name of each constructor is specified as the identifier `__init__`. The parameters it receives can be assigned to the fields of the future object using the `self` keyword, as in the example described above.\n",
    "Thus, the `Car` class contains three fields: `color` (color), `brand` (brand) and `doors_num` (number of doors). The constructor takes parameters to change these properties when initializing a new object called `ford`. Every class contains at least one default constructor if none has been specified explicitly (i.e. if we don't create a constructor in our class, then an empty default constructor will be used and the class will still work) ."
   ]
  },
  {
   "cell_type": "markdown",
   "metadata": {},
   "source": [
    "### Class methods\n",
    "\n",
    "Let's add methods to our class. A method is a function inside a class that does a specific job.\n",
    "\n",
    "Methods can be static, class, or class instance level (we will call them ordinary methods). A static method is created with the `@staticmethod` decorator, a class method is created with the `@classmethod` decorator, `cls` (a reference to the called class) is passed to it as the first argument, a regular method is created without a special decorator, `self` is passed to it as the first argument. You can read more about the decorators themselves [here](https://pythonworld.ru/osnovy/dekoratory.html)."
   ]
  },
  {
   "cell_type": "code",
   "execution_count": 21,
   "metadata": {},
   "outputs": [],
   "source": [
    "class Car:\n",
    "    \n",
    "    @staticmethod\n",
    "    def ex_static_method():\n",
    "        print(\"static method\")\n",
    "        \n",
    "    @classmethod\n",
    "    def ex_class_method(cls):\n",
    "        print(\"class method\")\n",
    "        \n",
    "    def ex_method(self):\n",
    "        print(\"method\")"
   ]
  },
  {
   "cell_type": "markdown",
   "metadata": {},
   "source": [
    "Static and class methods can be called without creating an instance of the class; calling ex_method() requires an object:"
   ]
  },
  {
   "cell_type": "code",
   "execution_count": null,
   "metadata": {},
   "outputs": [],
   "source": [
    "Car.ex_static_method()\n",
    "\n",
    "Car.ex_class_method()\n",
    "\n",
    "Car.ex_method()"
   ]
  },
  {
   "cell_type": "code",
   "execution_count": 23,
   "metadata": {
    "scrolled": true
   },
   "outputs": [
    {
     "name": "stdout",
     "output_type": "stream",
     "text": [
      "method\n"
     ]
    }
   ],
   "source": [
    "m = Car()\n",
    "m.ex_method()"
   ]
  },
  {
   "cell_type": "markdown",
   "metadata": {},
   "source": [
    "**Static methods**do not need a specific first argument (neither self nor cls). They can be thought of as methods that `don't know which class they belong to'.\n",
    "\n",
    "Thus, static methods are attached to a class only for convenience and cannot change the state of either the class or its instance. That is, static methods cannot access the parameters of a class or object. They work only with the data that is passed to them as arguments."
   ]
  },
  {
   "cell_type": "markdown",
   "metadata": {},
   "source": [
    "**Class methods**take a class as a parameter, which is usually denoted as `cls`. In this case, it points to the `Car` class, not to an object of that class.\n",
    "\n",
    "Class methods are bound to the class itself, not to its instance. They can change the state of a class, which will affect all objects of this class, but they cannot change a specific object.\n",
    "\n",
    "A built-in example of a class method—`dict.fromkeys()`—returns a new dictionary with the passed elements as keys."
   ]
  },
  {
   "cell_type": "code",
   "execution_count": 1,
   "metadata": {
    "scrolled": true
   },
   "outputs": [
    {
     "data": {
      "text/plain": [
       "{'A': None, 'E': None, 'I': None, 'O': None, 'U': None}"
      ]
     },
     "execution_count": 1,
     "metadata": {},
     "output_type": "execute_result"
    }
   ],
   "source": [
    "dict.fromkeys('AEIOU')  # <-called using the dict class"
   ]
  },
  {
   "cell_type": "code",
   "execution_count": 10,
   "metadata": {},
   "outputs": [],
   "source": [
    "?dict.fromkeys"
   ]
  },
  {
   "cell_type": "markdown",
   "metadata": {},
   "source": [
    "**Class instance method**is the most commonly used type of method. Class instance methods take an object of the class as the first argument, which is usually called `self` and which points to the instance itself. The number of method parameters is not limited.\n",
    "\n",
    "Using the `self` parameter, we can change the state of an object and access its other methods and parameters. In addition, using the `self.__class__` attribute, we gain access to the attributes of the class and the ability to change the state of the class itself. That is, methods of class instances allow you to change both the state of a specific object and the class.\n",
    "\n",
    "Built-in instance method example — str.upper()`:"
   ]
  },
  {
   "cell_type": "code",
   "execution_count": null,
   "metadata": {},
   "outputs": [
    {
     "data": {
      "text/plain": [
       "'WELCOME'"
      ]
     },
     "execution_count": 33,
     "metadata": {},
     "output_type": "execute_result"
    }
   ],
   "source": [
    "\"welcome\".upper()   # <-called on string data"
   ]
  },
  {
   "cell_type": "markdown",
   "metadata": {},
   "source": [
    "In addition to the `type()` function, which returns the type of the object passed to it in parentheses, Python has the `isinstance()` function, which takes two arguments: the object and the name of the data type to check. And it itself checks whether the passed object is an instance of the specified class."
   ]
  },
  {
   "cell_type": "code",
   "execution_count": 4,
   "metadata": {},
   "outputs": [
    {
     "name": "stdout",
     "output_type": "stream",
     "text": [
      "True\n",
      "False\n"
     ]
    }
   ],
   "source": [
    "a = 1\n",
    "\n",
    "print(isinstance(a, int))\n",
    "\n",
    "b = 1.3\n",
    "\n",
    "print(isinstance(b, int))"
   ]
  },
  {
   "cell_type": "markdown",
   "metadata": {},
   "source": [
    "### When to use which type of method\n",
    "\n",
    "Let's look at a more natural example and find out what the difference between the methods is."
   ]
  },
  {
   "cell_type": "code",
   "execution_count": 14,
   "metadata": {},
   "outputs": [],
   "source": [
    "from datetime import date\n",
    "\n",
    "class Car:\n",
    "    def __init__(self, brand, age):\n",
    "        self.brand = brand\n",
    "        self.age = age\n",
    "        \n",
    "    @classmethod\n",
    "    def from_production_year(cls, brand, prod_year):\n",
    "        return cls(brand, date.today().year - prod_year)\n",
    "    \n",
    "    @staticmethod\n",
    "    def is_warranty_active(age):\n",
    "        return age < 3\n",
    "    \n",
    "    def info(self):\n",
    "        print(\"Car: \" + self.brand)\n",
    "        print(\"Age: \" + str(self.age))\n",
    "        if self.is_warranty_active(self.age):\n",
    "            print(\"Warranty is ACTIVE\")\n",
    "        else:\n",
    "            print(\"Warranty is NOT active\")"
   ]
  },
  {
   "cell_type": "code",
   "execution_count": 15,
   "metadata": {},
   "outputs": [],
   "source": [
    "car1 = Car('Subaru', 5)\n",
    "car2 = Car.from_production_year('Skoda', 2018)"
   ]
  },
  {
   "cell_type": "code",
   "execution_count": 16,
   "metadata": {},
   "outputs": [
    {
     "data": {
      "text/plain": [
       "('Subaru', 5)"
      ]
     },
     "execution_count": 16,
     "metadata": {},
     "output_type": "execute_result"
    }
   ],
   "source": [
    "car1.brand, car1.age"
   ]
  },
  {
   "cell_type": "code",
   "execution_count": 17,
   "metadata": {},
   "outputs": [
    {
     "data": {
      "text/plain": [
       "('Skoda', 5)"
      ]
     },
     "execution_count": 17,
     "metadata": {},
     "output_type": "execute_result"
    }
   ],
   "source": [
    "car2.brand, car2.age"
   ]
  },
  {
   "cell_type": "code",
   "execution_count": 27,
   "metadata": {},
   "outputs": [
    {
     "data": {
      "text/plain": [
       "False"
      ]
     },
     "execution_count": 27,
     "metadata": {},
     "output_type": "execute_result"
    }
   ],
   "source": [
    "Car.is_warranty_active(25)"
   ]
  },
  {
   "cell_type": "code",
   "execution_count": 28,
   "metadata": {},
   "outputs": [
    {
     "name": "stdout",
     "output_type": "stream",
     "text": [
      "Car: Subaru\n",
      "Age: 5\n",
      "Warranty is NOT active\n"
     ]
    }
   ],
   "source": [
    "car1.info()"
   ]
  },
  {
   "cell_type": "code",
   "execution_count": 29,
   "metadata": {},
   "outputs": [
    {
     "name": "stdout",
     "output_type": "stream",
     "text": [
      "Car: Skoda\n",
      "Age: 5\n",
      "Warranty is NOT active\n"
     ]
    }
   ],
   "source": [
    "car2.info()"
   ]
  },
  {
   "cell_type": "markdown",
   "metadata": {},
   "source": [
    "The class method -`from_production_year` returns us an instance of the `Car` class CREATED inside the function with the calculated age. Because We cannot call the `Car` class inside the `Car` class, so we use `cls`.\n",
    "\n",
    "The static method `is_warranty_active` determines whether the warranty is still valid. As you can see, it does not refer to the age of the machine in the class, but takes it as an argument -`age`.\n",
    "The class instance method -`info`, accesses its attributes through `self`, calls a static function, passing the machine age there.\n",
    "\n",
    "Choosing which method to use can seem quite daunting. However, with experience this choice is much easier to make. Most often, a **class method**is used when you need a generating method that returns a class object. As you can see, the `from_production_year` class method is used to create an object of the `Car` class by the year of production of the car, and not by the specified age.\n",
    "Static methods are mainly used as helper functions and operate on the data that is passed to them.\n",
    "\n",
    "So:\n",
    "-Class instance methods access the class object via the `self` parameter and the class via `self.__class__`.\n",
    "-Class methods cannot access a specific object of the class, but have access to the class itself through `cls`.\n",
    "-Static methods work like regular functions, but belong to the class namespace. They have no access to the class itself or its instances."
   ]
  },
  {
   "cell_type": "markdown",
   "metadata": {},
   "source": [
    "## Destructor\n",
    "\n",
    "Working with a destructor is usually the preserve of languages ​​that provide more advanced memory management capabilities. Despite the competent work of the garbage collector, which ensures timely removal of unnecessary objects, calling the destructor is still available. You can override it in a class by specifying the name `__del__`."
   ]
  },
  {
   "cell_type": "code",
   "execution_count": 37,
   "metadata": {},
   "outputs": [
    {
     "name": "stdout",
     "output_type": "stream",
     "text": [
      "The object is destroyed\n"
     ]
    }
   ],
   "source": [
    "class Data:\n",
    "    def __del__(self):\n",
    "        print(\"The object is destroyed\")\n",
    "        \n",
    "data = Data()\n",
    "del(data)"
   ]
  },
  {
   "cell_type": "markdown",
   "metadata": {},
   "source": [
    "Like a constructor, a destructor can contain some custom code that indicates the method completed successfully. In this example, an instance of the `Data` class is created and its destructor is called, taking the object itself as a parameter."
   ]
  },
  {
   "cell_type": "markdown",
   "metadata": {},
   "source": [
    "## Attribute and Method Access Levels (Encapsulation)\n",
    "\n",
    "In the programming languages ​​Java, C#, C++, you can explicitly indicate for a variable that access to it from outside the class is prohibited; this is done using keywords (private, protected, etc.). \n",
    "\n",
    "Python has no such capabilities, and anyone can access the attributes and methods of your class if the need arises. This is a significant drawback of this language, because... one of the key principles of OOP is violated -encapsulation. It is considered good form that to read/change an attribute, special methods called `getter/setter` should be used; they can be implemented, but nothing will prevent you from changing the attribute directly. At the same time, there is an agreement that a method or attribute that begins with an `underscore` is hidden, and there is no need to touch it from outside the class (although this can be done).\n",
    "\n",
    "Let's make the appropriate changes to the Car class:"
   ]
  },
  {
   "cell_type": "code",
   "execution_count": 37,
   "metadata": {},
   "outputs": [],
   "source": [
    "class Car:\n",
    "    def __init__(self, brand, doors_num):\n",
    "        self._brand = brand\n",
    "        self._doors_num = doors_num\n",
    "        \n",
    "    def get_brand(self):\n",
    "        return self._brand\n",
    "    \n",
    "    def set_brand(self, b):\n",
    "        self._brand = b\n",
    "        \n",
    "    def get_doors(self):\n",
    "        return self._doors_num\n",
    "    \n",
    "    def set_doors(self, d):\n",
    "        self._doors = d\n",
    "        \n",
    "    def info(self):\n",
    "        return \"Nice car with \" + str(self._doors) + \" doors\""
   ]
  },
  {
   "cell_type": "markdown",
   "metadata": {},
   "source": [
    "The example above uses special methods to access `_brand` and `_doors_num`, but there is nothing stopping you from accessing them (the attributes) directly."
   ]
  },
  {
   "cell_type": "code",
   "execution_count": 50,
   "metadata": {
    "scrolled": true
   },
   "outputs": [
    {
     "data": {
      "text/plain": [
       "'Mersedes'"
      ]
     },
     "execution_count": 50,
     "metadata": {},
     "output_type": "execute_result"
    }
   ],
   "source": [
    "mersedes = Car(\"Mersedes\", 6)\n",
    "mersedes.get_brand()"
   ]
  },
  {
   "cell_type": "code",
   "execution_count": 51,
   "metadata": {},
   "outputs": [
    {
     "data": {
      "text/plain": [
       "'Mersedes'"
      ]
     },
     "execution_count": 51,
     "metadata": {},
     "output_type": "execute_result"
    }
   ],
   "source": [
    "mersedes._brand"
   ]
  },
  {
   "cell_type": "markdown",
   "metadata": {},
   "source": [
    "If an attribute or method begins with two underscores, then you can no longer access it directly (in a simple way). Let's modify our `Car` class:"
   ]
  },
  {
   "cell_type": "code",
   "execution_count": 31,
   "metadata": {},
   "outputs": [],
   "source": [
    "class Car:\n",
    "    def __init__(self, brand, doors_num):\n",
    "        self.__brand = brand\n",
    "        self.__doors_num = doors_num\n",
    "        \n",
    "    def get_brand(self):\n",
    "        return self.__brand\n",
    "    \n",
    "    def set_brand(self, b):\n",
    "        self.__brand = b\n",
    "    \n",
    "    def get_doors(self):\n",
    "        return self.__doors_num\n",
    "    \n",
    "    def set_doors(self, d):\n",
    "        self.__doors = d\n",
    "        \n",
    "    def info(self):\n",
    "        return \"Nice car with \" + str(self.__doors_num) + \" doors\""
   ]
  },
  {
   "cell_type": "markdown",
   "metadata": {},
   "source": [
    "Trying to access `__brand` directly will cause an error, you only need to work through get_brand():"
   ]
  },
  {
   "cell_type": "code",
   "execution_count": 32,
   "metadata": {},
   "outputs": [
    {
     "data": {
      "text/plain": [
       "'Mersedes'"
      ]
     },
     "execution_count": 32,
     "metadata": {},
     "output_type": "execute_result"
    }
   ],
   "source": [
    "mersedes = Car(\"Mersedes\", 6)\n",
    "mersedes.get_brand()"
   ]
  },
  {
   "cell_type": "code",
   "execution_count": null,
   "metadata": {
    "scrolled": true
   },
   "outputs": [],
   "source": [
    "mersedes.__brand"
   ]
  },
  {
   "cell_type": "markdown",
   "metadata": {},
   "source": [
    "But in fact, this can be done, it’s just that this attribute is now called for external use: `_Car__brand`:"
   ]
  },
  {
   "cell_type": "code",
   "execution_count": 34,
   "metadata": {
    "scrolled": true
   },
   "outputs": [
    {
     "data": {
      "text/plain": [
       "'Mersedes'"
      ]
     },
     "execution_count": 34,
     "metadata": {},
     "output_type": "execute_result"
    }
   ],
   "source": [
    "mersedes._Car__brand"
   ]
  },
  {
   "cell_type": "markdown",
   "metadata": {},
   "source": [
    "## Inheritance\n",
    "\n",
    "The ability for one class to act as a successor to another, thereby adopting its properties and methods, is an important feature of OOP. Thanks to this important feature, there is no need to rewrite code for similar or related classes.\n",
    "\n",
    "When inheriting classes in Python, one condition must be observed: the `heir class` must be a more special case of the `parent class`. The following example shows how the `Car` class is inherited by the `Truck` class. When declaring a subclass in Python, the name of the parent class is written in parentheses."
   ]
  },
  {
   "cell_type": "code",
   "execution_count": 35,
   "metadata": {},
   "outputs": [],
   "source": [
    "class Car:\n",
    "    def __init__(self, brand, doors_num):\n",
    "        self.__brand = brand\n",
    "        self.__doors_num = doors_num\n",
    "        \n",
    "    def get_brand(self):\n",
    "        return self.__brand\n",
    "    \n",
    "    def set_brand(self, b):\n",
    "        self.__brand = b\n",
    "    \n",
    "    def get_doors(self):\n",
    "        return self.__doors_num\n",
    "    \n",
    "    def set_doors(self, d):\n",
    "        self.__doors = d\n",
    "        \n",
    "    def info(self):\n",
    "        return \"Nice car with \" + str(self.__doors_num) + \" doors\""
   ]
  },
  {
   "cell_type": "code",
   "execution_count": 36,
   "metadata": {},
   "outputs": [],
   "source": [
    "class Truck(Car):\n",
    "    \n",
    "    def __init__(self, brand, doors_num, load_weight, axes):\n",
    "        super().__init__(brand, doors_num)\n",
    "        self.__load_weight = load_weight\n",
    "        self.__axes = axes\n",
    "    \n",
    "    def get_load(self):\n",
    "        return self.__load_weight\n",
    "    \n",
    "    def set_load(self, l):\n",
    "        self.__load_weight = l\n",
    "        \n",
    "    def get_axes(self):\n",
    "        return self.__axes\n",
    "    \n",
    "    def set_axes(self, a):\n",
    "        self.__axes = a"
   ]
  },
  {
   "cell_type": "markdown",
   "metadata": {},
   "source": [
    "We don't always need to completely override a base class method. Sometimes we just want to extend or complement an existing method in the base class. The `super()` function will help us with this. By calling this function in a child class, we are asking Python to go to the parent and call the method we are looking for.\n",
    "\n",
    "The parent class is `Car`, which when initialized takes the car brand and number of doors and exposes it through properties. `Truck` is a class derived from `Car`. Pay attention to its `__init__` method: the first thing it does is call the constructor of its parent class: `super().__init__(brand, doors_num)`\n",
    "\n",
    "`super()` is a keyword that is used to refer to the parent class. Now, in addition to the already familiar `brand` and `doors_num` properties, the `Truck` class object now has the `load_weight` and `axes` properties:"
   ]
  },
  {
   "cell_type": "code",
   "execution_count": 38,
   "metadata": {},
   "outputs": [
    {
     "data": {
      "text/plain": [
       "'Kamaz'"
      ]
     },
     "execution_count": 38,
     "metadata": {},
     "output_type": "execute_result"
    }
   ],
   "source": [
    "truck = Truck(\"Kamaz\",2,13000,6)\n",
    "\n",
    "truck.get_brand()"
   ]
  },
  {
   "cell_type": "markdown",
   "metadata": {},
   "source": [
    "And look, the methods from the parent class work!"
   ]
  },
  {
   "cell_type": "code",
   "execution_count": 39,
   "metadata": {},
   "outputs": [
    {
     "data": {
      "text/plain": [
       "13000"
      ]
     },
     "execution_count": 39,
     "metadata": {},
     "output_type": "execute_result"
    }
   ],
   "source": [
    "truck.get_load()"
   ]
  },
  {
   "cell_type": "code",
   "execution_count": 40,
   "metadata": {},
   "outputs": [
    {
     "data": {
      "text/plain": [
       "8"
      ]
     },
     "execution_count": 40,
     "metadata": {},
     "output_type": "execute_result"
    }
   ],
   "source": [
    "truck.set_axes(8)\n",
    "truck.get_axes()"
   ]
  },
  {
   "cell_type": "markdown",
   "metadata": {},
   "source": [
    "### Multiple inheritance\n",
    "\n",
    "You can inherit not only one class, but also several at the same time, thereby acquiring their properties and methods. In this example, the `Dog` class acts as a subclass of `Animal` and `Pet` because it can be both. From `Animal Dog` he gains the ability to sleep (the `sleep` method), while `Pet` gives him the ability to play with his owner (the `play` method). In turn, both parent classes inherit the `name` field from `Creature`. The `Dog` class also received this property and can use it. Since we do not use constructors in inherited classes, there is no need to call anything via `super()`. The constructor of the parent class will be called automatically."
   ]
  },
  {
   "cell_type": "code",
   "execution_count": 41,
   "metadata": {},
   "outputs": [
    {
     "name": "stdout",
     "output_type": "stream",
     "text": [
      "Buddy is sleeping\n",
      "Buddy is playing\n",
      "Buddy is barking\n"
     ]
    }
   ],
   "source": [
    "class Creature:\n",
    "    def __init__(self, name):\n",
    "        self.name = name\n",
    "        \n",
    "class Animal(Creature):\n",
    "    def sleep(self):\n",
    "        print(self.name + \" is sleeping\")\n",
    "        \n",
    "class Pet(Creature):\n",
    "    def play(self):\n",
    "        print(self.name + \" is playing\")\n",
    "        \n",
    "class Dog(Animal, Pet):\n",
    "    def bark(self):\n",
    "        print(self.name + \" is barking\")\n",
    "        \n",
    "beast = Dog(\"Buddy\")\n",
    "beast.sleep()\n",
    "beast.play()\n",
    "beast.bark()"
   ]
  },
  {
   "cell_type": "markdown",
   "metadata": {},
   "source": [
    "The above example creates an object of class `Dog`, which is named in the constructor. Then the `sleep`, `play` and `bark` methods are executed in turn, two of which were inherited. The ability to bark is a unique feature of a dog, as not every animal or pet can do it."
   ]
  },
  {
   "cell_type": "markdown",
   "metadata": {},
   "source": [
    "## Polymorphism\n",
    "\n",
    "<img src='https://cs.sberuniversity.online/image/1000/auto/upsize/88d08a5a-d633-11ed-bd83-0242ac120009'>\n",
    "\n",
    "As already mentioned in the introduction, within the framework of OOP, polymorphism is usually used from the position of overriding methods of the base class in the descendant class. The easiest way to see this is with an example. In our base class `Car` there is a method `info()`, which prints summary information on an object of the `Car` class and we will override this method in the `Truck` class, adding additional data to it:"
   ]
  },
  {
   "cell_type": "code",
   "execution_count": 42,
   "metadata": {},
   "outputs": [],
   "source": [
    "class Car:\n",
    "    def __init__(self, brand, doors_num):\n",
    "        self.__brand = brand\n",
    "        self.__doors_num = doors_num\n",
    "        \n",
    "    def get_brand(self):\n",
    "        return self.__brand\n",
    "    \n",
    "    def set_brand(self, b):\n",
    "        self.__brand = b\n",
    "    \n",
    "    def get_doors(self):\n",
    "        return self.__doors_num\n",
    "    \n",
    "    def set_doors(self, d):\n",
    "        self.__doors = d\n",
    "        \n",
    "    def info(self):\n",
    "        return \"Nice car with \" + str(self.__doors_num) + \" doors\""
   ]
  },
  {
   "cell_type": "code",
   "execution_count": 43,
   "metadata": {},
   "outputs": [],
   "source": [
    "class Truck(Car):\n",
    "    \n",
    "    def __init__(self, brand, doors_num, load_weight, axes):\n",
    "        super().__init__(brand, doors_num)\n",
    "        self.__load_weight = load_weight\n",
    "        self.__axes = axes\n",
    "        \n",
    "    def get_load(self):\n",
    "        return self.__load_weight\n",
    "    \n",
    "    def set_load(self, l):\n",
    "        self.__load_weight = l\n",
    "        \n",
    "    def get_axes(self):\n",
    "        return self.__axes\n",
    "    \n",
    "    def set_axes(self, a):\n",
    "        self.__axes = a\n",
    "        \n",
    "    def info(self):\n",
    "        return \"Nice car with \" + str(self.get_doors()) + \" doors and can carry \" + str(self.__load_weight) + \" kg of cargo\""
   ]
  },
  {
   "cell_type": "markdown",
   "metadata": {},
   "source": [
    "Let's see how it works"
   ]
  },
  {
   "cell_type": "code",
   "execution_count": 44,
   "metadata": {},
   "outputs": [
    {
     "data": {
      "text/plain": [
       "'Nice car with 4 doors'"
      ]
     },
     "execution_count": 44,
     "metadata": {},
     "output_type": "execute_result"
    }
   ],
   "source": [
    "audi = Car(\"Audi\", 4)\n",
    "audi.info()"
   ]
  },
  {
   "cell_type": "code",
   "execution_count": 45,
   "metadata": {},
   "outputs": [
    {
     "data": {
      "text/plain": [
       "'Nice car with 2 doors and can carry 6500 kg of cargo'"
      ]
     },
     "execution_count": 45,
     "metadata": {},
     "output_type": "execute_result"
    }
   ],
   "source": [
    "scania = Truck(\"Scania\",2,6500,4)\n",
    "scania.info()"
   ]
  },
  {
   "cell_type": "markdown",
   "metadata": {},
   "source": [
    "Thus, the descendant class can extend the functionality of the parent class."
   ]
  },
  {
   "cell_type": "markdown",
   "metadata": {},
   "source": [
    "## Abstract methods\n",
    "\n",
    "Since OOP has the ability to inherit the behavior of a parent class, sometimes there is a need for a specific implementation of the corresponding methods. An example is the following code, where the `Truck` and `Bus` classes are descendants of the `Car` class. As expected, they both inherit the `honk` method, but there is no implementation for it in the parent class.\n",
    "\n",
    "This is because the machine is an abstract concept, which means it is not capable of producing any specific beep. However, for trucks and buses this command often has a generally accepted meaning. In this case, one could argue that the `honk` method from `Car` is abstract because it does not have its own implementation body."
   ]
  },
  {
   "cell_type": "code",
   "execution_count": 48,
   "metadata": {},
   "outputs": [
    {
     "name": "stdout",
     "output_type": "stream",
     "text": [
      "UUUUUU\n",
      "RRRRrrrr\n"
     ]
    }
   ],
   "source": [
    "class Car:\n",
    "    def __init__(self, brand):\n",
    "        self.__brand = brand\n",
    "        \n",
    "    def honk(self):\n",
    "        pass\n",
    "    \n",
    "class Truck(Car):\n",
    "    def honk(self):\n",
    "        print(\"RRRRrrrr\")\n",
    "        \n",
    "class Bus(Car):\n",
    "    def honk(self):\n",
    "        print(\"UUUUUU\")\n",
    "        \n",
    "        \n",
    "Vanhool = Bus(\"Vanhool\")\n",
    "Iveco = Truck(\"Iveco\")\n",
    "\n",
    "Vanhool.honk()\n",
    "Iveco.honk()"
   ]
  },
  {
   "cell_type": "markdown",
   "metadata": {},
   "source": [
    "As you can see from the example, the children of `Truck` and `Bus` receive `honk`, and then each redefine it in their own way. This is the essence of polymorphism, which allows you to change the operation of a specific method based on the needs of a specific class. At the same time, his name remains common to all heirs, which helps to avoid confusion with names."
   ]
  },
  {
   "cell_type": "markdown",
   "metadata": {},
   "source": [
    "## Operator overloading\n",
    "\n",
    "To process primitive data types, programming languages ​​use special operators. For example, arithmetic operations are performed using the usual signs plus, minus, multiply, and divide. However, when working with your own types of information, you may well need the help of these operators. Thanks to special functions, you can independently customize them to suit your tasks.\n",
    "\n",
    "This example creates a `Point` class that has two fields: `x` and `y`. To compare two different objects of this type, you can write a special method or simply overload the corresponding operator. To do this, you will need to override the `__eq__` function in your own class, implementing the new behavior in its body."
   ]
  },
  {
   "cell_type": "code",
   "execution_count": 50,
   "metadata": {},
   "outputs": [
    {
     "name": "stdout",
     "output_type": "stream",
     "text": [
      "True\n",
      "False\n"
     ]
    }
   ],
   "source": [
    "class Point:\n",
    "    \n",
    "    def __init__(self, x, y):\n",
    "        self.x = x\n",
    "        self.y = y\n",
    "        \n",
    "    def __eq__(self, other):\n",
    "        return self.x == other.x and self.y == other.y\n",
    "    \n",
    "print(Point(2, 5) == Point(2, 5))\n",
    "print(Point(3, 8) == Point(4, 6))"
   ]
  },
  {
   "cell_type": "markdown",
   "metadata": {},
   "source": [
    "The overridden method returns the result of comparing two fields of different objects. Thanks to this, it became possible to compare two different points using just a regular operator. The result of its work is printed using the `print` method.\n",
    "\n",
    "Similar to comparison, you can implement overloading of addition, subtraction, and other arithmetic and logical operators in Python. You can also overload the standard functions str and len.\n",
    "If we do not overload the operator, our class will throw an error or work incorrectly:"
   ]
  },
  {
   "cell_type": "code",
   "execution_count": 49,
   "metadata": {
    "scrolled": true
   },
   "outputs": [
    {
     "name": "stdout",
     "output_type": "stream",
     "text": [
      "False\n",
      "False\n"
     ]
    }
   ],
   "source": [
    "class Point:\n",
    "    \n",
    "    def __init__(self, x, y):\n",
    "        self.x = x\n",
    "        self.y = y\n",
    "        \n",
    "    \n",
    "print(Point(2, 5) == Point(2, 5))\n",
    "print(Point(3, 8) == Point(4, 6))"
   ]
  },
  {
   "cell_type": "markdown",
   "metadata": {},
   "source": [
    "In the first case, the answer should have been `True`"
   ]
  },
  {
   "cell_type": "markdown",
   "metadata": {},
   "source": [
    "|Magic method|\tOperation|\tOperator|\n",
    "   |--|--|--|\n",
    "   __add__(self, other) |Addition|\t+\n",
    "   __sub__(self, other)|\tSubtraction|\t-\n",
    "   __mul__(self, other)|\tMultiplication|\t*\n",
    "   __floordiv__(self, other)|\tInteger division|\t//\n",
    "   __div__(self, other)|\tDivision|\t/\n",
    "   __mod__(self, other)|\tRemainder of division|\t%\n",
    "   __pow__(self, other)|\tExponentiation|\t**\n",
    "\n",
    "And as you might have guessed, the behavior of the `len()` function can also be determined for your class using the `__len__(self)` magic method."
   ]
  },
  {
   "cell_type": "markdown",
   "metadata": {},
   "source": [
    "Read the documentation about objects in Python: https://docs.python.org/3/reference/datamodel.html"
   ]
  },
  {
   "cell_type": "markdown",
   "metadata": {},
   "source": [
    "## Classes\n",
    "\n",
    "Classes in Python are a way to work with an object that needs to have a state. As a rule, you need to work with this condition somehow: modify or learn something. To do this, classes use methods: special functions that have access to the contents of your object."
   ]
  },
  {
   "cell_type": "markdown",
   "metadata": {},
   "source": [
    "Let's look at an example. Let's say you have a chain of hotels. And it would be very convenient for you to work with the hotel as a separate object. What is the condition of the hotel? For simplicity, we assume that only information about occupied/vacant rooms. Then we can describe the hotel as follows:\n",
    "\n",
    "```python\n",
    "class Hotel:\n",
    "    def __init__(self, num_of_rooms):\n",
    "        self.rooms = [0 for _ in range(num_of_rooms)]\n",
    "```\n",
    "\n",
    "When creating a `Hotel` object, it will need to be passed the number of rooms in this hotel. We will store information about free and occupied rooms in an array of length `num_of_rooms`, where 0 -the room is free, 1 -the room is occupied.\n",
    "\n",
    "What assistant functions do we need? We would probably like to be able to occupy rooms (when someone moves in) and vacate them. To do this, we will write two methods `occupy` and `realize`.\n",
    "\n",
    "```python\n",
    "class Hotel:\n",
    "    def __init__(self, num_of_rooms):\n",
    "self.rooms = [0 for _ in range(num_of_rooms)]\n",
    "        \n",
    "    def occupy(self, room_id):\n",
    "        self.rooms[room_id] = 1\n",
    "        \n",
    "    def free(self, room_id):\n",
    "        self.rooms[room_id] = 0\n",
    "```\n",
    "\n",
    "Great, now we can perform basic actions with our class. Try creating a class and occupying several rooms."
   ]
  },
  {
   "cell_type": "code",
   "execution_count": null,
   "metadata": {},
   "outputs": [],
   "source": [
    "class Hotel:\n",
    "    def __init__(self, num_of_rooms):\n",
    "        self.rooms = [0 for _ in range(num_of_rooms)]\n",
    "        \n",
    "    def occupy(self, room_id):\n",
    "        self.rooms[room_id] = 1\n",
    "        \n",
    "    def free(self, room_id):\n",
    "        self.rooms[room_id] = 0"
   ]
  },
  {
   "cell_type": "code",
   "execution_count": null,
   "metadata": {},
   "outputs": [],
   "source": [
    "h = Hotel(num_of_rooms=10)\n",
    "h2 = Hotel(num_of_rooms=12)"
   ]
  },
  {
   "cell_type": "code",
   "execution_count": null,
   "metadata": {},
   "outputs": [],
   "source": [
    "h.occupy(2)"
   ]
  },
  {
   "cell_type": "code",
   "execution_count": null,
   "metadata": {},
   "outputs": [],
   "source": [
    "h.rooms"
   ]
  },
  {
   "cell_type": "code",
   "execution_count": null,
   "metadata": {},
   "outputs": [],
   "source": [
    "h.free(2)"
   ]
  },
  {
   "cell_type": "code",
   "execution_count": null,
   "metadata": {},
   "outputs": [],
   "source": [
    "h.rooms"
   ]
  },
  {
   "cell_type": "markdown",
   "metadata": {},
   "source": [
    "Why do we need classes? After all, it was possible to write a function\n",
    "```python\n",
    "def occupy(rooms, room_id):\n",
    "    rooms[room_id] = 1\n",
    "    return rooms\n",
    "```\n",
    "\n",
    "The good thing about working with objects is that those using our class (including ourselves) don't have to think about how we implemented room storage. If at some point we want to change `list` to `dict` (for example, we noticed that this is faster), no one will notice anything. The user code will not change. The same goes for functionality -if we suddenly decide that we need to add a reservation for a date, we can do this and those who are already using our class will not notice anything. Nothing will break for them. And this is very important."
   ]
  },
  {
   "cell_type": "markdown",
   "metadata": {},
   "source": [
    "# Task 1\n",
    "\n",
    "Add several methods to the `Hotel` class.\n",
    "\n",
    "Write the `occupancy_rate` method. The method should return the proportion of rooms that are occupied.\n",
    "\n",
    "Write a `close` method. The method should release all rooms. If `occupancy_rate` is written correctly, then after `close` `occupancy_rate` should return 0."
   ]
  },
  {
   "cell_type": "code",
   "execution_count": null,
   "metadata": {},
   "outputs": [],
   "source": [
    "# TODO"
   ]
  },
  {
   "cell_type": "markdown",
   "metadata": {},
   "source": [
    "# Task 2\n",
    "\n",
    "We want to prevent the user of our class from doing anything stupid. For example, he did not try to occupy an already occupied room. Add the `occupy` and `free` methods. Check inside them that the state of the room is actually changing. Otherwise you should throw an exception with clear text.\n",
    "\n",
    "Let me remind you that an exception is a construct when a program terminates from a certain point. Typically when an error occurs.\n",
    "Syntax\n",
    "```python\n",
    "raise RuntimeError(\"Bad news\")\n",
    "```"
   ]
  },
  {
   "cell_type": "code",
   "execution_count": null,
   "metadata": {},
   "outputs": [],
   "source": [
    "# TODO"
   ]
  },
  {
   "cell_type": "markdown",
   "metadata": {},
   "source": [
    "# Task 3\n",
    "\n",
    "Add the ability to book rooms. Let's call the method `book(self, date, room_id)`. When you enter, you receive the date and room number and it becomes occupied. If the reservation fails, throw an exception. Please make sure the room is available before booking. To do this, write the method `is_booked(self, date, room_id)`."
   ]
  },
  {
   "cell_type": "code",
   "execution_count": null,
   "metadata": {},
   "outputs": [],
   "source": [
    "# TODO"
   ]
  },
  {
   "cell_type": "markdown",
   "metadata": {},
   "source": [
    "# Task 4\n",
    "\n",
    "We, as a hotel, want to know our revenue for a certain day. Write the `income(self, date)` method. He must return the amount of money the hotel earns that day. Let's imagine that the cost of all rooms is the same and equals $200."
   ]
  },
  {
   "cell_type": "code",
   "execution_count": null,
   "metadata": {},
   "outputs": [],
   "source": [
    "# TODO"
   ]
  },
  {
   "cell_type": "markdown",
   "metadata": {},
   "source": [
    "For a greater immersion in the topic of OOP, you can read topic 5 “Object-oriented programming” in the Yandex Education Python Handbook https://education.yandex.ru/handbook/python"
   ]
  }
 ],
 "metadata": {
  "kernelspec": {
   "display_name": "Python 3",
   "language": "python",
   "name": "python3"
  },
  "language_info": {
   "codemirror_mode": {
    "name": "ipython",
    "version": 3
   },
   "file_extension": ".py",
   "mimetype": "text/x-python",
   "name": "python",
   "nbconvert_exporter": "python",
   "pygments_lexer": "ipython3",
   "version": "3.8.3"
  },
  "toc": {
   "base_numbering": 1,
   "nav_menu": {},
   "number_sections": true,
   "sideBar": true,
   "skip_h1_title": false,
   "title_cell": "Table of Contents",
   "title_sidebar": "Contents",
   "toc_cell": false,
   "toc_position": {},
   "toc_section_display": true,
   "toc_window_display": true
  },
  "varInspector": {
   "cols": {
    "lenName": 16,
    "lenType": 16,
    "lenVar": 40
   },
   "kernels_config": {
    "python": {
     "delete_cmd_postfix": "",
     "delete_cmd_prefix": "del ",
     "library": "var_list.py",
     "varRefreshCmd": "print(var_dic_list())"
    },
    "r": {
     "delete_cmd_postfix": ") ",
     "delete_cmd_prefix": "rm(",
     "library": "var_list.r",
     "varRefreshCmd": "cat(var_dic_list()) "
    }
   },
   "types_to_exclude": [
    "module",
    "function",
    "builtin_function_or_method",
    "instance",
    "_Feature"
   ],
   "window_display": false
  }
 },
 "nbformat": 4,
 "nbformat_minor": 2
}
