{
  "cells": [
    {
      "cell_type": "markdown",
      "id": "a789a02f",
      "metadata": {
        "id": "a789a02f"
      },
      "source": [
        "# Creating a Telegram Bot\n",
        "\n",
        "* Working library: `python-telegram-bot`\n",
        "* Bot idea - task tracking:\n",
        "    1. Creating tasks\n",
        "    2. Marking tasks as complete\n",
        "    3. Deleting tasks\n",
        "    4. Viewing the entire task list\n",
        "\n",
        "* Information storage: a regular dictionary\n",
        "    - Alternatively, you can also use a table (Excel, CSV) or a connectable database like PostgreSQL/MySQL, etc.\n"
      ]
    },
    {
      "cell_type": "markdown",
      "id": "f443934e",
      "metadata": {
        "id": "f443934e"
      },
      "source": [
        "Let's install the necessary libraries"
      ]
    },
    {
      "cell_type": "code",
      "execution_count": null,
      "id": "f17fed8c",
      "metadata": {
        "id": "f17fed8c"
      },
      "outputs": [],
      "source": [
        "# pip install python-telegram-bot"
      ]
    },
    {
      "cell_type": "markdown",
      "id": "3a5e9e4a",
      "metadata": {
        "id": "3a5e9e4a"
      },
      "source": [
        "Let's import the necessary modules:"
      ]
    },
    {
      "cell_type": "code",
      "execution_count": null,
      "id": "95a78007",
      "metadata": {
        "id": "95a78007"
      },
      "outputs": [],
      "source": [
        "from telegram import Update, InlineKeyboardButton, InlineKeyboardMarkup\n",
        "from telegram.ext import Application, CommandHandler, CallbackQueryHandler, MessageHandler, Filters, ContextTypes"
      ]
    },
    {
      "cell_type": "markdown",
      "id": "9a63a106",
      "metadata": {
        "id": "9a63a106"
      },
      "source": [
        "Let's create an empty dictionary user_tasks, which will be used to store each user's tasks. The key will be the chat ID, and the values will be a list of tasks."
      ]
    },
    {
      "cell_type": "code",
      "execution_count": null,
      "id": "e28ceac1",
      "metadata": {
        "id": "e28ceac1"
      },
      "outputs": [],
      "source": [
        "user_tasks = {}\n",
        "\n",
        "# Example of what the dictionary will look like when users add task information\n",
        "{\n",
        "    'chat_id_1': [\n",
        "        {'Задача': Название задачи №..., 'Статус': 'выполнена/в процессе'},\n",
        "        {'Задача': Название задачи №..., 'Статус': 'выполнена/в процессе'},\n",
        "        {'Задача': Название задачи №..., 'Статус': 'выполнена/в процессе'},\n",
        "        {'Задача': Название задачи №..., 'Статус': 'выполнена/в процессе'},\n",
        "        {'Задача': Название задачи №..., 'Статус': 'выполнена/в процессе'}\n",
        "    'chat_id_2': [\n",
        "        {'Задача': Название задачи №..., 'Статус': 'выполнена/в процессе'},\n",
        "        {'Задача': Название задачи №..., 'Статус': 'выполнена/в процессе'},\n",
        "        {'Задача': Название задачи №..., 'Статус': 'выполнена/в процессе'},\n",
        "        {'Задача': Название задачи №..., 'Статус': 'выполнена/в процессе'},\n",
        "        {'Задача': Название задачи №..., 'Статус': 'выполнена/в процессе'}\n",
        "    ],\n",
        "    'chat_id_3': [\n",
        "        {'Задача': Название задачи №..., 'Статус': 'выполнена/в процессе'},\n",
        "        {'Задача': Название задачи №..., 'Статус': 'выполнена/в процессе'},\n",
        "        {'Задача': Название задачи №..., 'Статус': 'выполнена/в процессе'},\n",
        "        {'Задача': Название задачи №..., 'Статус': 'выполнена/в процессе'},\n",
        "        {'Задача': Название задачи №..., 'Статус': 'выполнена/в процессе'}\n",
        "    ],\n",
        "    ...\n",
        "}"
      ]
    },
    {
      "cell_type": "markdown",
      "id": "c3295145",
      "metadata": {
        "id": "c3295145"
      },
      "source": [
        "Before writing the bot code, it needs to be created on Telegram servers.\n",
        "The procedure is as follows:\n",
        "\n",
        "1. Go to @BotFather\n",
        "2. Click /start, then select /newbot\n",
        "3. The bot will send a message asking what to name the bot - this name will be displayed in the bot's name\n",
        "4. After you decide on the bot's name, you need to come up with a username for your bot - this is its nickname (i.e., it usually appears after the @ symbol for users/bots). Important:\n",
        "* The bot's username must be unique - otherwise, BotFather will not accept it and will inform you about it\n",
        "* The bot's username must end in bot/_bot/BOT\n",
        "* The bot's username should be understandable: if we are making a bot about tasks, it could be something like task_manager_bot\n",
        "5. Finally, BotFather will send you a message about the successful creation of your bot. In the message, it is important to copy your bot's TOKEN - it will be used to make requests to the TG server via the API"
      ]
    },
    {
      "cell_type": "markdown",
      "id": "95ce46f9",
      "metadata": {
        "id": "95ce46f9"
      },
      "source": [
        "## Writing the Bot Code"
      ]
    },
    {
      "cell_type": "markdown",
      "id": "6b50e610",
      "metadata": {
        "id": "6b50e610"
      },
      "source": [
        "### Handler of /start command\n",
        "\n",
        "The first thing to implement when creating a bot is what to do when the user clicks the /start button."
      ]
    },
    {
      "cell_type": "markdown",
      "id": "bea58300",
      "metadata": {
        "id": "bea58300"
      },
      "source": [
        "Let's define the **asynchronous** function start, which is launched when the user calls the `/start` command.\n",
        "\n",
        "\n",
        "#### mportant!\n",
        "\n",
        "All functions that imply direct interaction with the Telegram chat must be asynchronous - this way, the bot will be able to concurrently process requests from many users simultaneously (for example, I pressed the `/start` button, and at the same time someone else sent a text message to the bot in response to some question)\n",
        "\n",
        "\n",
        "Each function implying interaction with the chat has two parameters: `update` and `context`. Details:\n",
        "* `update` - contains information about the received update from Telegram. It can include various data, such as messages, commands, button presses, etc.\n",
        "\n",
        "   \n",
        "**Contents**: Depending on the type of update, the  `update` object may contain:\n",
        "- `update.message`: The message that was sent (if it's a text message).\n",
        "- `update.callback_query`: Data about a button press (if an inline button is used).\n",
        "- `update.chat`: Information about the chat.\n",
        "- `update.user`: Information about the user who sent the message.\n",
        "    \n",
        "* `context` - provides additional context for the handler (bot). It is used to pass information between handlers and may contain state or data that may be useful during processing.\n",
        "    \n",
        "**Contents**: The `context` bject may include:\n",
        "- `context.bot`: A reference to your bot instance, allowing you to send messages and perform other actions.\n",
        "- `context.args`: A list of arguments passed to the command.\n",
        "- `context.user_data`: A dictionary for storing user-specific data (e.g., temporary data that you want to save between calls).\n",
        "- `context.chat_data`: A dictionary for storing chat-specific data.\n",
        "- `context.bot_data`: A dictionary for storing bot-specific data."
      ]
    },
    {
      "cell_type": "markdown",
      "id": "36d0bac8",
      "metadata": {
        "id": "36d0bac8"
      },
      "source": [
        "Let's implement the **functionality** of what we want to do when the user clicks the  `/start` button:\n",
        "1. Let's take its chat_id (**not to be confused with the user's username**, chat_id - is a unique chat identifier)\n",
        "2. If the user is not in our general dictionary with all the information, add the chat ID as the key and an empty list as the value"
      ]
    },
    {
      "cell_type": "code",
      "execution_count": null,
      "id": "d281d77e",
      "metadata": {
        "id": "d281d77e"
      },
      "outputs": [],
      "source": [
        "async def start(update: Update, context: ContextTypes.DEFAULT_TYPE) -> None:\n",
        "    user_chat_id = update.message.chat.id\n",
        "    if user_chat_id not in user_tasks:\n",
        "        user_tasks[user_chat_id] = []"
      ]
    },
    {
      "cell_type": "markdown",
      "id": "404322de",
      "metadata": {
        "id": "404322de"
      },
      "source": [
        "When replying to the user, let's add a keyboard that we will attach to the text message. To do this, let's create a list of buttons, where it is important to specify two parameters:\n",
        "\n",
        "1. Button text (what will be written on the button)\n",
        "2. Button `callback_data`\n",
        "\n",
        "#### Important!\n",
        "`callback_data` - is a unique identifier for each button; it must not be repeated, otherwise, the bot will not understand which specific button was pressed\n",
        "\n",
        "Features of creating keyboards:\n",
        "* If you pay attention, then in general, the keyboard looks like a list of lists, where the inner list shows how many buttons will be **in EACH row**\n",
        "* If you want to create several buttons **in ONE row**, for this, in the list of the corresponding row, you need to pass several buttons. For example:\n",
        "\n",
        "`[\n",
        "    \n",
        "    [InlineKeyboardButton(\"Button 1\", callback_data='data_1'), InlineKeyboardButton(\"Button 2\", callback_data='data_2')]\n",
        "]\n",
        "`\n",
        "\n",
        "\n",
        "In our case, let's make 4 rows of 1 button each with the corresponding text:"
      ]
    },
    {
      "cell_type": "code",
      "execution_count": null,
      "id": "23d2bade",
      "metadata": {
        "id": "23d2bade"
      },
      "outputs": [],
      "source": [
        "keyboard = [\n",
        "    [InlineKeyboardButton(\"All tasks\", callback_data='all_tasks')],\n",
        "    [InlineKeyboardButton(\"Add task\", callback_data='add_task')],\n",
        "    [InlineKeyboardButton(\"Delete task\", callback_data='delete_task')],\n",
        "    [InlineKeyboardButton(\"Complete task\", callback_data='complete_task')],\n",
        "]"
      ]
    },
    {
      "cell_type": "markdown",
      "id": "2a0a5d99",
      "metadata": {
        "id": "2a0a5d99"
      },
      "source": [
        "\n",
        "After creating the keyboard skeleton/image, it is necessary to apply the `InlineKeyboardMarkup` function, which will turn the list of buttons into a full-fledged keyboard image so that Telegram understands us:"
      ]
    },
    {
      "cell_type": "code",
      "execution_count": null,
      "id": "14688424",
      "metadata": {
        "id": "14688424"
      },
      "outputs": [],
      "source": [
        "markup = InlineKeyboardMarkup(keyboard)"
      ]
    },
    {
      "cell_type": "markdown",
      "id": "8cb6fe12",
      "metadata": {
        "id": "8cb6fe12"
      },
      "source": [
        "After all the preparatory work is done, we are ready to send a message to the user in response to their pressing the`/start`button. To send a message **to the same** chat, the `reply_text` function of the `update.message` object is used. The required parameter is `text` - the text of your message  :)\n",
        "\n",
        "Additional parameters:\n",
        "* `reply_markup` - the parameter responsible for the keyboard. We will pass our created keyboard variable here.\n",
        "* `parse_mode` - the method for styling your text. `Markdown` or `MarkdownV2` is most often used. You can read more about text styling [here](https://habr.com/ru/sandbox/170069/)\n",
        "\n",
        "#### Important!\n",
        "\n",
        "Don't forget that sending a message is also an asynchronous action, so you need to put `await` before sending."
      ]
    },
    {
      "cell_type": "code",
      "execution_count": null,
      "id": "dcad8cd3",
      "metadata": {
        "id": "dcad8cd3"
      },
      "outputs": [],
      "source": [
        "await update.message.reply_text(\n",
        "    text=\"Hello! I am your personal task manager.\\nChoose an action:\",\n",
        "    reply_markup=markup\n",
        ")"
      ]
    },
    {
      "cell_type": "markdown",
      "id": "29ff4a7f",
      "metadata": {
        "id": "29ff4a7f"
      },
      "source": [
        "Since we used an `Inline` keyboard, we need to write a function that will understand what to do when a corresponding button is pressed.\n",
        "\n",
        "Let's create a function `button_handler`, which also takes `update` and `context` as input.\n",
        "\n"
      ]
    },
    {
      "cell_type": "code",
      "execution_count": null,
      "id": "7a2a9b93",
      "metadata": {
        "id": "7a2a9b93"
      },
      "outputs": [],
      "source": [
        "async def button_handler(update: Update, context: ContextTypes.DEFAULT_TYPE) -> None:\n",
        "    # some futher code"
      ]
    },
    {
      "cell_type": "markdown",
      "id": "e51ffbeb",
      "metadata": {
        "id": "e51ffbeb"
      },
      "source": [
        "### Button handler"
      ]
    },
    {
      "cell_type": "markdown",
      "id": "8fcd8bb2",
      "metadata": {
        "id": "8fcd8bb2"
      },
      "source": [
        "All information about which button was pressed is stored in the `update.callback_query`object, so to avoid carrying it everywhere, let's save it to a separate variable `query`.\n",
        "\n",
        "Next, we **must** write `await query.answer()`, thus letting Telegram know that the bot received information about the button and that Telegram doesn't need to show a notification about an unconfirmed response.\n"
      ]
    },
    {
      "cell_type": "code",
      "execution_count": null,
      "id": "fd2a458e",
      "metadata": {
        "id": "fd2a458e"
      },
      "outputs": [],
      "source": [
        "\n",
        "    query = update.callback_query\n",
        "    await query.answer()"
      ]
    },
    {
      "cell_type": "markdown",
      "id": "14bc1bbc",
      "metadata": {
        "id": "14bc1bbc"
      },
      "source": [
        "By analogy with the `start` function, we collect the necessary information about the user, but now from the `query` object. Namely, we take the user identifier - `chat_id`.\n",
        "\n"
      ]
    },
    {
      "cell_type": "code",
      "execution_count": null,
      "id": "a47a12df",
      "metadata": {
        "id": "a47a12df"
      },
      "outputs": [],
      "source": [
        "user_chat_id = query.from_user.id"
      ]
    },
    {
      "cell_type": "markdown",
      "id": "f49c6a0c",
      "metadata": {
        "id": "f49c6a0c"
      },
      "source": [
        "Remember that when creating the keyboard, we created the `callback_data` parameter - with its help we will get information about what to do depending on which button was pressed. This is stored in the `query.data` attribute.\n",
        "\n",
        "Let's write the functionality of processing what to do depending on the \"data\" of each button:\n"
      ]
    },
    {
      "cell_type": "code",
      "execution_count": null,
      "id": "48815fcf",
      "metadata": {
        "id": "48815fcf"
      },
      "outputs": [],
      "source": [
        "if query.data == 'all_tasks':\n",
        "    # do something if the add_task button was selected\n",
        "    # for example await show_tasks(query, user_chat_id)"
      ]
    },
    {
      "cell_type": "markdown",
      "id": "71fb2033",
      "metadata": {
        "id": "71fb2033"
      },
      "source": [
        "If the \"Add task\" button was pressed, we edit the message to request the text of the new task, and save the action in `context.user_data` to know that the user is going to add a task."
      ]
    },
    {
      "cell_type": "code",
      "execution_count": null,
      "id": "2a505c4c",
      "metadata": {
        "id": "2a505c4c"
      },
      "outputs": [],
      "source": [
        "elif query.data == 'add_task':\n",
        "    # do something if the add_task button was selected\n",
        "    # for example await query.edit_message_text(\"Enter the task text:\")\n",
        "    # context.user_data['action'] = 'add'"
      ]
    },
    {
      "cell_type": "code",
      "execution_count": null,
      "id": "90a2026f",
      "metadata": {
        "id": "90a2026f"
      },
      "outputs": [],
      "source": [
        "elif query.data == 'delete_task':\n",
        "    # do something if the delete_task button was selected\n",
        "    # for example await show_tasks(query, context, user_chat_id, delete=True)"
      ]
    },
    {
      "cell_type": "markdown",
      "id": "d728e2c7",
      "metadata": {
        "id": "d728e2c7"
      },
      "source": [
        "If the \"Complete task\" button is pressed, we call `show_tasks`, passing the `complete=True` parameter to show tasks for completion.\n"
      ]
    },
    {
      "cell_type": "code",
      "execution_count": null,
      "id": "f611f38e",
      "metadata": {
        "id": "f611f38e"
      },
      "outputs": [],
      "source": [
        "elif query.data == 'complete_task':\n",
        "    # do something if the complete_task button was selected\n",
        "    # for example await show_tasks(query, context, user_chat_id, complete=True)"
      ]
    },
    {
      "cell_type": "markdown",
      "id": "4ba85090",
      "metadata": {
        "id": "4ba85090"
      },
      "source": [
        "Let's consider the case where the user pressed the button with the `all_tasks` information:"
      ]
    },
    {
      "cell_type": "code",
      "execution_count": null,
      "id": "853bdb11",
      "metadata": {
        "id": "853bdb11"
      },
      "outputs": [],
      "source": [
        "if query.data == 'all_tasks':\n",
        "    await show_tasks(query, context, user_chat_id)"
      ]
    },
    {
      "cell_type": "markdown",
      "id": "4e752c41",
      "metadata": {
        "id": "4e752c41"
      },
      "source": [
        "In this case, we tell the bot that if a button with the `all_tasks` data is pressed, go to the `show_tasks` function, to which we pass as parameters:\n",
        "\n",
        "* query\n",
        "* context\n",
        "* user_chat_id\n",
        "\n",
        "Looking ahead, I will say that this function will send a message to the user, so before calling the function you need to put `await`. If the function did not involve any interaction with the chat and was only auxiliary, `await` would not be necessary.\n"
      ]
    },
    {
      "cell_type": "markdown",
      "id": "7cb66895",
      "metadata": {
        "id": "7cb66895"
      },
      "source": [
        "**Function for displaying tasks**"
      ]
    },
    {
      "cell_type": "markdown",
      "id": "33b426f6",
      "metadata": {
        "id": "33b426f6"
      },
      "source": [
        "#### Important\n",
        "\n",
        "Since Python goes FROM TOP TO BOTTOM, functions must be stored in its memory in this order. That is, first you define a function, then somewhere later in the code you call it. Thus, the structure of our code (so far) should look like this:\n",
        "\n",
        "\n",
        "1. import libraries\n",
        "2. creation of global variables (token/dictionary/variables)\n",
        "3. all working/auxiliary functions\n",
        "4. function for handling the `/start` command\n",
        "5. function for handling button presses\n"
      ]
    },
    {
      "cell_type": "markdown",
      "id": "9b4f3afa",
      "metadata": {
        "id": "9b4f3afa"
      },
      "source": [
        "What will our `show_tasks`function consist of?\n",
        "\n",
        "First, if we don't pass the `delete` and `complete` parameters (which are responsible for the flag that we want to delete/complete the task, respectively), our function will simply output a single message with all tasks in the format:\n",
        "\n",
        "Task list in progress:\n",
        "\n",
        "1. Task 1\n",
        "2. Task 2\n",
        "\n",
        "Completed task list:\n",
        "\n",
        "1. Task 3\n",
        "2. Task 4\n",
        "\n"
      ]
    },
    {
      "cell_type": "code",
      "execution_count": null,
      "id": "6cd9a4d6",
      "metadata": {
        "id": "6cd9a4d6"
      },
      "outputs": [],
      "source": [
        "async def show_tasks(update: Update, context, user_chat_id: int, delete=False, complete=False) -> None:"
      ]
    },
    {
      "cell_type": "markdown",
      "id": "8d7daef8",
      "metadata": {
        "id": "8d7daef8"
      },
      "source": [
        "We check if the user has any tasks. If not, we send a message and exit the function.\n"
      ]
    },
    {
      "cell_type": "code",
      "execution_count": null,
      "id": "800aa2b0",
      "metadata": {
        "id": "800aa2b0"
      },
      "outputs": [],
      "source": [
        "if len(user_tasks[user_chat_id]) == 0:\n",
        "    await update.message.reply_text(\"У вас еще нет задач.\")\n",
        "    return ConversationHandler.END # Forced conversation termination / chat end"
      ]
    },
    {
      "cell_type": "markdown",
      "id": "34b2610f",
      "metadata": {
        "id": "34b2610f"
      },
      "source": [
        "If the user has tasks, the `if` condition won't be met, and we proceed to the next part of the code where we get the user's task list.\n",
        "\n",
        "We create two lists: one for tasks with the status \"in progress\", the other for completed tasks.\n"
      ]
    },
    {
      "cell_type": "code",
      "execution_count": null,
      "id": "d5220367",
      "metadata": {
        "id": "d5220367"
      },
      "outputs": [],
      "source": [
        "tasks = user_tasks[user_chat_id]\n",
        "in_progress = [task for task in tasks if task['status'] == 'In progress']\n",
        "completed = [task for task in tasks if task['status'] == 'Completed']"
      ]
    },
    {
      "cell_type": "markdown",
      "id": "167bc093",
      "metadata": {
        "id": "167bc093"
      },
      "source": [
        "When we called the `show_tasks` function, we didn't pass the `delete` and `complete` parameters, so the following `if` conditions won't be met, and we'll \"jump\" to the bottom of the function.\n",
        "\n",
        "However, if the `delete=True` parameter is specified, we create a message that displays a list of all tasks `in progress`, so the user can choose which task they want to delete (= remove from the list in the dictionary):\n",
        "\n",
        "1. We form a string with the numbers and text of all tasks that are in progress. If there are no tasks, we show a corresponding message.\n",
        "2. We ask the user for the task number to delete and save the action in `context.user_data`.\n"
      ]
    },
    {
      "cell_type": "code",
      "execution_count": null,
      "id": "50456eb5",
      "metadata": {
        "id": "50456eb5"
      },
      "outputs": [],
      "source": [
        "if delete:\n",
        "    tasks_list = \"\\n\".join([f\"{i + 1}: {task['text']}\" for i, task in enumerate(in_progress)])\n",
        "    await update.message.reply_text(f\"Task list:\\n{tasks_list if tasks_list else 'No tasks to delete.'}\")\n",
        "\n",
        "    await update.message.reply_text(\"Select the task number to delete:\")\n",
        "    context.user_data['action'] = 'delete'"
      ]
    },
    {
      "cell_type": "markdown",
      "id": "08a0d226",
      "metadata": {
        "id": "08a0d226"
      },
      "source": [
        "If `complete=True`, we display the tasks to be completed.\n",
        "\n",
        "Similarly, we create a string with tasks to be completed.\n",
        "\n",
        "We request the task number to complete and save the action in `context.user_data`.\n",
        "\n"
      ]
    },
    {
      "cell_type": "code",
      "execution_count": null,
      "id": "25976109",
      "metadata": {
        "id": "25976109"
      },
      "outputs": [],
      "source": [
        "elif complete:\n",
        "    tasks_list = \"\\n\".join([f\"{i + 1}: {task['text']}\" for i, task in enumerate(in_progress)])\n",
        "    await update.message.reply_text(f\"List of tasks in progress:\\n{tasks_list if tasks_list else 'No tasks.'}\")\n",
        "\n",
        "    await update.message.reply_text(\"Select the task number to complete:\")\n",
        "    context.user_data['action'] = 'complete'"
      ]
    },
    {
      "cell_type": "markdown",
      "id": "e6633fef",
      "metadata": {
        "id": "e6633fef"
      },
      "source": [
        "If none of the conditions were met, we display the current tasks by status."
      ]
    },
    {
      "cell_type": "code",
      "execution_count": null,
      "id": "bab03056",
      "metadata": {
        "id": "bab03056"
      },
      "outputs": [],
      "source": [
        "else:\n",
        "    tasks_in_progress = \"\\n\".join([f\"{i + 1}: {task['text']}\" for i, task in enumerate(in_progress)])\n",
        "    tasks_completed = \"\\n\".join([f\"{i + 1}: {task['text']}\" for i, task in enumerate(completed)])\n",
        "\n",
        "    await update.message.reply_text(f\"Tasks in progress:\\n{tasks_in_progress if tasks_in_progress else 'No tasks.'}\\n\\nCompleted tasks:\\n{tasks_completed if tasks_completed else 'No tasks.'}\")"
      ]
    },
    {
      "cell_type": "markdown",
      "id": "9b8897a9",
      "metadata": {
        "id": "9b8897a9"
      },
      "source": [
        "I recommend trying to create a test dictionary in Jupyter and carefully study **step-by-step** how the functions used above work.\n",
        "\n",
        "\n",
        "\n",
        "\n"
      ]
    },
    {
      "cell_type": "markdown",
      "id": "e4c13e54",
      "metadata": {
        "id": "e4c13e54"
      },
      "source": [
        "\n",
        "Ultimately, our function should look like this:"
      ]
    },
    {
      "cell_type": "code",
      "execution_count": null,
      "id": "20840c2a",
      "metadata": {
        "id": "20840c2a"
      },
      "outputs": [],
      "source": [
        "async def show_tasks(update, context, user_chat_id: int, delete=False, complete=False) -> None:\n",
        "    if user_chat_id not in user_tasks:\n",
        "        await update.message.reply_text(\"You have no tasks yet.\")\n",
        "        return ConversationHandler.END\n",
        "\n",
        "    tasks = user_tasks[user_chat_id]\n",
        "    in_progress = [task for task in tasks if task['status'] == 'In progress']\n",
        "    completed = [task for task in tasks if task['status'] == 'Completed']\n",
        "\n",
        "    if delete:\n",
        "        tasks_list = \"\\n\".join([f\"{i + 1}: {task['text']}\" for i, task in enumerate(in_progress)])\n",
        "        await update.message.reply_text(f\"Task list:\\n{tasks_list if tasks_list else 'No tasks to delete.'}\")\n",
        "\n",
        "        await update.message.reply_text(\"Select the task number to delete:\")\n",
        "        context.user_data['action'] = 'delete'\n",
        "\n",
        "    elif complete:\n",
        "        tasks_list = \"\\n\".join([f\"{i + 1}: {task['text']}\" for i, task in enumerate(in_progress)])\n",
        "         await update.message.reply_text(f\"Tasks in progress:\\n{tasks_list if tasks_list else 'No tasks.'}\")\n",
        "\n",
        "        await update.message.reply_text(\"Select the task number to complete:\")\n",
        "        context.user_data['action'] = 'complete'\n",
        "    else:\n",
        "        tasks_in_progress = \"\\n\".join([f\"{i + 1}: {task['text']}\" for i, task in enumerate(in_progress)])\n",
        "        tasks_completed = \"\\n\".join([f\"{i + 1}: {task['text']}\" for i, task in enumerate(completed)])\n",
        "\n",
        "       await update.message.reply_text(\n",
        "            text=f\"Tasks in progress:\\n{tasks_in_progress if tasks_in_progress else 'No tasks.'}\\n\\nCompleted tasks:\\n{tasks_completed if tasks_completed else 'No tasks.'}\"\n",
        "      )"
      ]
    },
    {
      "cell_type": "markdown",
      "id": "01b4504e",
      "metadata": {
        "id": "01b4504e"
      },
      "source": [
        "#### Important!\n",
        "Note: inside the `delete` and `complete` cases, the code `context.user_data['action'] = ...` is used.\n",
        "\n",
        "\n",
        "Reminder: the `context` parameter can store **global** data with information about the user. `Context.user_data` is essentially the simplest dictionary. Thus, to store information throughout the user's interaction with the bot about what action the person performed, we created the `action` key, into the value of which we wrote `delete` and `complete` depending on what the user did (we will need this later).\n"
      ]
    },
    {
      "cell_type": "markdown",
      "id": "6612589d",
      "metadata": {
        "id": "6612589d"
      },
      "source": [
        "---"
      ]
    },
    {
      "cell_type": "markdown",
      "id": "ca198c1e",
      "metadata": {
        "id": "ca198c1e"
      },
      "source": [
        "Now let's discuss the case where the bot sends the user a message implying a keyboard response from the person, for example:\n",
        "* The bot asked to enter the task name.\n",
        "* The bot asked to enter the task number to delete.\n",
        "* The bot asked to enter the task number to mark as completed.\n",
        "\n",
        "The key idea is that the response to the bot's message will be **text input from the keyboard**.\n",
        "\n"
      ]
    },
    {
      "cell_type": "markdown",
      "id": "e2ae4de6",
      "metadata": {
        "id": "e2ae4de6"
      },
      "source": [
        "**Message Handling**"
      ]
    },
    {
      "cell_type": "markdown",
      "id": "635a0c87",
      "metadata": {
        "id": "635a0c87"
      },
      "source": [
        "Let's define an asynchronous function `handle_message` that handles text messages from the user.\n",
        "\n",
        "As usual, the function receives two parameters as input: `update` and `context`. We collect the chat ID and the current user action (this is where we need the use of `context.user_data`, which we defined earlier).\n",
        "\n"
      ]
    },
    {
      "cell_type": "code",
      "execution_count": null,
      "id": "88640b9d",
      "metadata": {
        "id": "88640b9d"
      },
      "outputs": [],
      "source": [
        "async def handle_message(update: Update, context: ContextTypes.DEFAULT_TYPE) -> None:\n",
        "    user_chat_id = update.effective_chat.id\n",
        "    action = context.user_data.get('action')"
      ]
    },
    {
      "cell_type": "markdown",
      "id": "2846dfab",
      "metadata": {
        "id": "2846dfab"
      },
      "source": [
        "\n",
        "If the current task is adding, we get the task text from the `update.message.text` object.\n",
        "\n",
        "Next, we add a **sub**dictionary to the user's task list (i.e., we access it by key - chat_id) in the format:\n",
        "\n",
        "`{'text': task name, 'status': task status}`\n",
        "\n",
        "* By default, we will assume that when a task is added, its status is **\"in progress\".**\n",
        "Then we send a message that the task has been added and reset the action.\n",
        "\n"
      ]
    },
    {
      "cell_type": "code",
      "execution_count": null,
      "id": "214708af",
      "metadata": {
        "id": "214708af"
      },
      "outputs": [],
      "source": [
        "if action == 'add':\n",
        "    task_text = update.message.text\n",
        "    user_tasks[user_chat_id].append({'text': task_text, 'status': 'in progress'})\n",
        "    await update.message.reply_text(\"Task added.\")\n",
        "    context.user_data['action'] = None"
      ]
    },
    {
      "cell_type": "markdown",
      "id": "1073d306",
      "metadata": {
        "id": "1073d306"
      },
      "source": [
        "**By analogy:**\n",
        "\n",
        "If the action is deletion, we get the task index from the message text (keeping in mind that the user, when answering the question, specified the number = task index), check its correctness, and delete it if it is valid.\n",
        "\n",
        "We send the corresponding message and reset the action.\n",
        "\n"
      ]
    },
    {
      "cell_type": "code",
      "execution_count": null,
      "id": "382fca3c",
      "metadata": {
        "id": "382fca3c"
      },
      "outputs": [],
      "source": [
        "elif action == 'delete':\n",
        "        task_index = int(update.message.text) - 1\n",
        "        if 0 <= task_index < len(user_tasks[user_chat_id]):\n",
        "            user_tasks[user_chat_id].pop(task_index)\n",
        "            await update.message.reply_text(\"Task deleted.\")\n",
        "        else:\n",
        "            await update.message.reply_text(\"Incorrect task number.\")\n",
        "        context.user_data['action'] = None"
      ]
    },
    {
      "cell_type": "markdown",
      "id": "f61177e4",
      "metadata": {
        "id": "f61177e4"
      },
      "source": [
        "If the action is task completion, similarly, we get the index, check it, and change the task status. We send a message about completion."
      ]
    },
    {
      "cell_type": "code",
      "execution_count": null,
      "id": "6cf94ccc",
      "metadata": {
        "id": "6cf94ccc"
      },
      "outputs": [],
      "source": [
        "elif action == 'complete':\n",
        "        task_index = int(update.message.text) - 1\n",
        "        if 0 <= task_index < len(user_tasks[user_chat_id]):\n",
        "            user_tasks[user_chat_id][task_index]['status'] = 'completed'\n",
        "            await update.message.reply_text(\"Task completed.\")\n",
        "        else:\n",
        "            await update.message.reply_text(\"Incorrect task number.\")\n",
        "        context.user_data['action'] = None"
      ]
    },
    {
      "cell_type": "markdown",
      "id": "ad173a39",
      "metadata": {
        "id": "ad173a39"
      },
      "source": [
        "## Main Function"
      ]
    },
    {
      "cell_type": "markdown",
      "id": "abe94e77",
      "metadata": {
        "id": "abe94e77"
      },
      "source": [
        "After we have written ALL the scenarios we want to consider, the last and main step remains - **to put everything together**. In other words, we\n",
        "\n",
        "1. Assemble the bot image.\n",
        "2. Pass information about which functions need to be run in which scenarios (triggers).\n",
        "3. Write the bot launch function.\n"
      ]
    },
    {
      "cell_type": "markdown",
      "id": "bbad1163",
      "metadata": {
        "id": "bbad1163"
      },
      "source": [
        "We define **the main asynchronous** function (usually `main`) - nothing needs to be passed into it.\n",
        "\n",
        "Next, we create an application instance using the bot token.\n"
      ]
    },
    {
      "cell_type": "code",
      "execution_count": null,
      "id": "aa9d6a68",
      "metadata": {
        "id": "aa9d6a68"
      },
      "outputs": [],
      "source": [
        "def main() -> None:\n",
        "    app = Application.builder().token(TOKEN).build()"
      ]
    },
    {
      "cell_type": "markdown",
      "id": "28587b5b",
      "metadata": {
        "id": "28587b5b"
      },
      "source": [
        "**Scenarios**\n",
        "\n",
        "\n",
        "Scenarios, or  **handlers** , are a way to give the bot information about which function to run in which cases. Namely, we remember that we have three types of interaction with the program:\n",
        "\n",
        "1. Pressing commands (`/start`, `/help`, `/rules`, etc.)\n",
        "    * **Important** - a separate function must be written for each command.\n",
        "2. Pressing `inline` buttons\n",
        "3. Sending text\n",
        "\n",
        "\n",
        "**More details:**:\n",
        "\n",
        "* To tell the bot that when the `/start` command is sent, the `start` function should be launched, the `CommandHandler(\"start\", start)` construct is used, where:\n",
        "  * The first parameter specifies the command name.\n",
        "  * The second parameter specifies the function to be called.\n",
        "\n",
        "\n",
        "* To tell the bot that the `button_handler` function should be called when buttons are pressed, the `CallbackQueryHandler(button_handler)` construct is used.\n",
        "\n",
        "\n",
        "**Important:**\n",
        "    \n",
        "* If you understand that you have only ONE function to handle ALL buttons, it is sufficient to specify the name of the function that will be launched when a button is pressed.\n",
        "* If you want to separate functions (i.e., conditionally, when buttons 1, 2 are pressed, function 1 will work, and when buttons 3, 4 are pressed - another), you can use regular expressions to directly specify which function to launch for the corresponding button. Example:\n",
        "\n",
        "\n",
        "`CallbackQueryHandler(button_handler_1, pattern='^(button_1|button_2$')`\n",
        "\n",
        "`CallbackQueryHandler(button_handler_2, pattern='^(button_3|button_4$')`\n",
        "\n",
        "In this case, if any of the buttons with `callback_data` = **button_1** or **button_2** is pressed, the `button_handler_1` function will be executed, otherwise - `button_handler_2`\n",
        "\n",
        "* To tell the bot that the `handle_message` function should be called when a text message is sent to the chat, the `MessageHandler(Filters.text & ~Filters.command, handle_message)`construct is used, where:\n",
        "\n",
        "    * `Filters.text & ~Filters.command` acts as a trigger indicating that text has been sent.\n",
        "\n",
        "    * `handle_message` is the function to be launched.\n",
        "\n",
        "\n",
        "**Important**\n",
        "\n",
        "Similar to `CallbackQueryHandler`, text \"patterns\" can be customized using regular expressions by specifying the corresponding value of the `pattern`. parameter. However, this only works if you know the format of keyboard input for sure."
      ]
    },
    {
      "cell_type": "markdown",
      "id": "6c35ca7d",
      "metadata": {
        "id": "6c35ca7d"
      },
      "source": [
        "After all three triggers have been defined, they need to be added to the bot's memory one by one using the `.add_handler(...)`  function.\n"
      ]
    },
    {
      "cell_type": "code",
      "execution_count": null,
      "id": "196e329e",
      "metadata": {
        "id": "196e329e"
      },
      "outputs": [],
      "source": [
        "app.add_handler(CommandHandler(\"start\", start))\n",
        "app.add_handler(CallbackQueryHandler(button_handler))\n",
        "app.add_handler(MessageHandler(Filters.text & ~Filters.command, handle_message))"
      ]
    },
    {
      "cell_type": "markdown",
      "id": "1f64ed09",
      "metadata": {
        "id": "1f64ed09"
      },
      "source": [
        "Finally, after adding all the \"handlers\", it only remains to tell the program that it is necessary to run the bot continuously:\n"
      ]
    },
    {
      "cell_type": "code",
      "execution_count": null,
      "id": "dc58d474",
      "metadata": {
        "id": "dc58d474"
      },
      "outputs": [],
      "source": [
        "app.run_polling()"
      ]
    },
    {
      "cell_type": "markdown",
      "id": "479cf6f2",
      "metadata": {
        "id": "479cf6f2"
      },
      "source": [
        "## Launch"
      ]
    },
    {
      "cell_type": "markdown",
      "id": "44f4ba71",
      "metadata": {
        "id": "44f4ba71"
      },
      "source": [
        "The final step is to call the function that will generate the bot, create all the scenarios, and launch our bot!"
      ]
    },
    {
      "cell_type": "code",
      "execution_count": null,
      "id": "1f5d7c04",
      "metadata": {
        "id": "1f5d7c04"
      },
      "outputs": [],
      "source": [
        "if __name__ == '__main__':\n",
        "    main()"
      ]
    },
    {
      "cell_type": "markdown",
      "id": "03e1cb1b",
      "metadata": {
        "id": "03e1cb1b"
      },
      "source": [
        "## Further Improvements"
      ]
    },
    {
      "cell_type": "markdown",
      "id": "55405809",
      "metadata": {
        "id": "55405809"
      },
      "source": [
        "What we covered today is just the tip of the iceberg in terms of creating functionality for Telegram bots. In addition to all this, bots allow you to:\n",
        "\n",
        "* Send files (e.g., tables) to the chat.\n",
        "* Receive files sent by the user from the chat.\n",
        "* Send/download images.\n",
        "* Interact with databases.\n",
        "* Perform scheduled actions using the `scheduler` library.\n",
        "* Perform actions according to a specific scenario (e.g., if button 1 was pressed first, then button 2, then special input from the user, etc.).\n",
        "\n",
        "\n",
        "#### Important\n",
        "\n",
        "Remember that when you write code on your computer, it acts as your \"host,\" the core of the computing power. As soon as you turn off your computer, the bot stops working. To fix this, programmers rent virtual machines to which they move their code so that it runs constantly. However, this is a separate topic and a completely different story!\n",
        "\n",
        "\n",
        "Don't be afraid to learn about Telegram bots to simplify and automate tasks you're interested in!\n",
        "\n",
        "And don't forget that bots have limitations - [more details](https://www.unisender.com/ru/blog/kakie-limity-est-v-telegram/)"
      ]
    }
  ],
  "metadata": {
    "kernelspec": {
      "display_name": "Python 3 (ipykernel)",
      "language": "python",
      "name": "python3"
    },
    "language_info": {
      "codemirror_mode": {
        "name": "ipython",
        "version": 3
      },
      "file_extension": ".py",
      "mimetype": "text/x-python",
      "name": "python",
      "nbconvert_exporter": "python",
      "pygments_lexer": "ipython3",
      "version": "3.11.5"
    },
    "colab": {
      "provenance": []
    }
  },
  "nbformat": 4,
  "nbformat_minor": 5
}