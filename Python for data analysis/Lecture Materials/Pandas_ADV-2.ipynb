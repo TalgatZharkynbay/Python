{
 "cells": [
  {
   "cell_type": "markdown",
   "id": "5594b4be",
   "metadata": {
    "id": "5594b4be"
   },
   "source": [
    "## Pandas Advanced"
   ]
  },
  {
   "cell_type": "code",
   "execution_count": null,
   "id": "a55a5ffa",
   "metadata": {
    "id": "a55a5ffa"
   },
   "outputs": [],
   "source": [
    "import pandas as pd\n",
    "import numpy as np"
   ]
  },
  {
   "cell_type": "markdown",
   "id": "94f540a0",
   "metadata": {
    "id": "94f540a0"
   },
   "source": [
    "### Seminar plan:\n",
    "\n",
    "1. Duplicates\n",
    "2. Gaps\n",
    "3. Frequency tables\n",
    "4. Aggregation methods\n",
    "5. Groups\n",
    "6. Pivot tables\n",
    "7. Merge + concat"
   ]
  },
  {
   "cell_type": "code",
   "execution_count": null,
   "id": "6659eb82",
   "metadata": {
    "id": "6659eb82"
   },
   "outputs": [],
   "source": [
    "# Create a DataFrame for demonstration\n",
    "data = {\n",
    "    'ID': [1, 2, 3, 4, 5, 6, 7, 8],\n",
    "    'Name': ['Alice', 'Bob', 'Charlie', 'David', 'David', 'Eva', 'Darbie', 'Frank'],\n",
    "    'Age': [23, 30, 22, 25, 25, 22, 20, 28],\n",
    "    'City': ['New York', 'Los Angeles', 'New York', 'San Francisco', 'San Francisco', 'Los Angeles', 'New York', 'New York']\n",
    "}\n",
    "\n",
    "df = pd.DataFrame(data)\n",
    "df"
   ]
  },
  {
   "cell_type": "markdown",
   "id": "be76e89c",
   "metadata": {
    "id": "be76e89c"
   },
   "source": [
    "# Dealing with duplicates\n",
    "\n",
    "Syntax:\n",
    "\n",
    "* `table.duplicated()` - searches for duplicates across all rows\n",
    "* `table.duplicated(subset=[column, column...]` - searches for duplicates by given columns"
   ]
  },
  {
   "cell_type": "code",
   "execution_count": null,
   "id": "1f1ecb59",
   "metadata": {
    "id": "1f1ecb59"
   },
   "outputs": [],
   "source": [
    "print(\"Duplicates in data:\")\n",
    "print(df.duplicated().sum())\n",
    "df.duplicated()"
   ]
  },
  {
   "cell_type": "code",
   "execution_count": null,
   "id": "9e88e4d1",
   "metadata": {
    "id": "9e88e4d1"
   },
   "outputs": [],
   "source": [
    "# Check for duplicates\n",
    "print(\"Duplicates in the city column:\")\n",
    "print(df.duplicated(subset=['City']).sum())\n",
    "df.duplicated(subset=['City'])"
   ]
  },
  {
   "cell_type": "markdown",
   "id": "5f007622",
   "metadata": {
    "id": "5f007622"
   },
   "source": [
    "* `df[ df.duplicated(...) ]` - tabular output of repeating rows:"
   ]
  },
  {
   "cell_type": "code",
   "execution_count": null,
   "id": "4c307f0f",
   "metadata": {
    "id": "4c307f0f"
   },
   "outputs": [],
   "source": [
    "# Check for duplicates\n",
    "print(\"Duplicates in the city column:\")\n",
    "df[df.duplicated(subset=['City'])]"
   ]
  },
  {
   "cell_type": "markdown",
   "id": "5998ef8a",
   "metadata": {
    "id": "5998ef8a"
   },
   "source": [
    "# Removing duplicates\n",
    "\n",
    "Syntax:\n",
    "* `table.drop_duplicates()` - removes all duplicates\n",
    "* `table.drop_duplicates(subset=[...])` - deletes duplicates for a specific column (columns)"
   ]
  },
  {
   "cell_type": "code",
   "execution_count": null,
   "id": "2eb14ff5",
   "metadata": {
    "id": "2eb14ff5"
   },
   "outputs": [],
   "source": [
    "# Removing duplicates\n",
    "df_no_duplicates = df.drop_duplicates()\n",
    "print(\"Data without duplicates:\")\n",
    "df_no_duplicates"
   ]
  },
  {
   "cell_type": "code",
   "execution_count": null,
   "id": "3e7b9b26",
   "metadata": {
    "id": "3e7b9b26"
   },
   "outputs": [],
   "source": [
    "# Removing duplicates\n",
    "df_no_duplicates_city = df.drop_duplicates(subset='City')\n",
    "print(\"Data without duplicates:\")\n",
    "df_no_duplicates_city"
   ]
  },
  {
   "cell_type": "markdown",
   "id": "457fd85c",
   "metadata": {
    "id": "457fd85c"
   },
   "source": [
    "# Gaps"
   ]
  },
  {
   "cell_type": "code",
   "execution_count": null,
   "id": "6fc0f4e6",
   "metadata": {
    "id": "6fc0f4e6"
   },
   "outputs": [],
   "source": [
    "# Add gaps to the data\n",
    "df_with_na = df.copy()\n",
    "df_with_na.loc[0, 'Age'] = np.nan\n",
    "df_with_na.loc[3, 'City'] = np.nan\n",
    "df_with_na"
   ]
  },
  {
   "cell_type": "markdown",
   "id": "12da6f89",
   "metadata": {
    "id": "12da6f89"
   },
   "source": [
    "# Gaps\n",
    "\n",
    "Syntax:\n",
    "* `table.isnull().sum()` - counting the number of gaps for each column\n",
    "* `table.isnull().sum().sum()` - count the number of gaps across the entire table\n",
    "---\n",
    "* `table[table.isnull() ]` - output rows where there is at least one gap in the row\n",
    "* `table[table[column].isnull() ]` - displays rows where there is at least one gap in the selected column\n",
    "---\n",
    "* `table.fillna(...)` - filling ALL gaps in the table with a specific value\n",
    "* `table[column].fillna(...)` - filling gaps in a COLUMN with a specific value"
   ]
  },
  {
   "cell_type": "code",
   "execution_count": null,
   "id": "30c5495f",
   "metadata": {
    "id": "30c5495f"
   },
   "outputs": [],
   "source": [
    "# Check for gaps\n",
    "print(\"Checking for gaps:\")\n",
    "df_with_na.isnull().sum()"
   ]
  },
  {
   "cell_type": "code",
   "execution_count": null,
   "id": "e48745bb",
   "metadata": {
    "id": "e48745bb"
   },
   "outputs": [],
   "source": [
    "# Check for gaps\n",
    "print(\"Total amount of gaps:\")\n",
    "df_with_na.isnull().sum().sum()"
   ]
  },
  {
   "cell_type": "code",
   "execution_count": null,
   "id": "29604651",
   "metadata": {
    "id": "29604651"
   },
   "outputs": [],
   "source": [
    "# Check for gaps\n",
    "print(\"Total amount of gaps:\")\n",
    "df_with_na[df_with_na['City'].isnull()]"
   ]
  },
  {
   "cell_type": "code",
   "execution_count": null,
   "id": "8c625d6c",
   "metadata": {
    "id": "8c625d6c"
   },
   "outputs": [],
   "source": [
    "# Filling gaps\n",
    "df_filled = df_with_na.fillna(\n",
    "    {'Age': df['Age'].mean(), 'City': 'Unknown'}\n",
    ")\n",
    "print(\"\\nData after filling in the gaps:\")\n",
    "df_filled"
   ]
  },
  {
   "cell_type": "markdown",
   "id": "63b69fb3",
   "metadata": {
    "id": "63b69fb3"
   },
   "source": [
    "# Frequency tables\n",
    "\n",
    "Syntax:\n",
    "* `table[column].value_counts()` - counting the number of values ​​in a column\n",
    "    * By default, data is arranged in descending order\n",
    "* `table[column].value_counts(ascending=True)` - counting the number of values ​​in a column **ascending**\n",
    "---\n",
    "\n",
    "#### Additional frequency table attributes\n",
    "* `table[column].value_counts().to_frame()` - transfer to **pd.DataFrame** object (beautiful looking)\n",
    "* `table[column].value_counts().index` - displays all unique values ​​by column in ascending order\n",
    "* `table[column].value_counts().values` - output values ​​= the number of times a particular value was encountered in a column\n",
    "* `table[column].value_counts().argmin()` - search for the value that occurred RARELY (least)\n",
    "* `table[column].value_counts().argmax()` - search for the value that occurred MOST OFTEN (most) of all"
   ]
  },
  {
   "cell_type": "code",
   "execution_count": null,
   "id": "987eb537",
   "metadata": {
    "id": "987eb537"
   },
   "outputs": [],
   "source": [
    "# Frequency table for the \"City\" column\n",
    "print(\"\\nFrequency table for the city:\")\n",
    "print(df['City'].value_counts())"
   ]
  },
  {
   "cell_type": "code",
   "execution_count": null,
   "id": "b3586f8b",
   "metadata": {
    "id": "b3586f8b"
   },
   "outputs": [],
   "source": [
    "# Frequency table for the \"City\" column\n",
    "print(\"\\nFrequency table for the city:\")\n",
    "df['City'].value_counts().to_frame()"
   ]
  },
  {
   "cell_type": "code",
   "execution_count": null,
   "id": "c39b72aa",
   "metadata": {
    "id": "c39b72aa"
   },
   "outputs": [],
   "source": [
    "# Frequency table for the \"City\" column\n",
    "print(\"Frequency table indexes = cities:\")\n",
    "df['City'].value_counts().index"
   ]
  },
  {
   "cell_type": "code",
   "execution_count": null,
   "id": "bc5ff16b",
   "metadata": {
    "id": "bc5ff16b"
   },
   "outputs": [],
   "source": [
    "# Frequency table for the \"City\" column\n",
    "print(\"Frequency table values ​​= quantity:\")\n",
    "df['City'].value_counts().values"
   ]
  },
  {
   "cell_type": "code",
   "execution_count": null,
   "id": "79684e05",
   "metadata": {
    "id": "79684e05"
   },
   "outputs": [],
   "source": [
    "# Frequency table for the \"City\" column\n",
    "print(\"Index of the city that was least frequently encountered:\")\n",
    "df['City'].value_counts().argmin()"
   ]
  },
  {
   "cell_type": "code",
   "execution_count": null,
   "id": "34ef459e",
   "metadata": {
    "id": "34ef459e"
   },
   "outputs": [],
   "source": [
    "# Frequency table for the \"City\" column\n",
    "print(\"Index of the city most frequently encountered:\")\n",
    "df['City'].value_counts().argmax()"
   ]
  },
  {
   "cell_type": "markdown",
   "id": "34456e0b",
   "metadata": {
    "id": "34456e0b"
   },
   "source": [
    "# Aggregation methods and grouping\n",
    "\n",
    "Syntax:\n",
    "* `table.groupby(column 1)[column 2].function` - grouping by column 1 using the count function for column 2 (column for count)\n",
    "    * Basic functions: `mean`, `min`, `max`, `sum`\n",
    "* `table.groupby([column 1, column 2...])[column 3].function` - grouping by several columns (column 1, 2) using the counting function for column 3 (column for count)\n",
    "* `table.groupby(column 1)[column 2, column 3...].function` - group by column 1 using the counting function for multiple columns (column for count)\n",
    "* `table.groupby(column 1).agg({'column 2': [function 1, function 2...]}')` - group by column 1 with multiple functions applied to column 2"
   ]
  },
  {
   "cell_type": "code",
   "execution_count": null,
   "id": "8c050599",
   "metadata": {
    "id": "8c050599"
   },
   "outputs": [],
   "source": [
    "# Applying aggregation\n",
    "agg_result = df.groupby('City')['Age'].mean()\n",
    "print(\"Aggregation by city:\")\n",
    "agg_result.to_frame()"
   ]
  },
  {
   "cell_type": "code",
   "execution_count": null,
   "id": "d6b12e0e",
   "metadata": {
    "id": "d6b12e0e"
   },
   "outputs": [],
   "source": [
    "# Applying aggregation\n",
    "agg_result = df.groupby(['City', 'Name'])['Age'].min()\n",
    "print(\"Aggregation by city + name:\")\n",
    "agg_result.to_frame()"
   ]
  },
  {
   "cell_type": "code",
   "execution_count": null,
   "id": "471ce528",
   "metadata": {
    "id": "471ce528"
   },
   "outputs": [],
   "source": [
    "# Applying aggregation\n",
    "agg_result = df.groupby('City')[['Age', 'Name']].count()\n",
    "print(\"Aggregation by city for 2 columns:\")\n",
    "agg_result"
   ]
  },
  {
   "cell_type": "code",
   "execution_count": null,
   "id": "9125e1ac",
   "metadata": {
    "id": "9125e1ac"
   },
   "outputs": [],
   "source": [
    "# Applying aggregation\n",
    "agg_result = df.groupby('City').agg({'Age': ['mean', 'std']})\n",
    "print(\"Aggregation by city with counting of different functions for the Age column:\")\n",
    "agg_result"
   ]
  },
  {
   "cell_type": "code",
   "execution_count": null,
   "id": "e90631b5",
   "metadata": {
    "id": "e90631b5"
   },
   "outputs": [],
   "source": [
    "# Applying aggregation\n",
    "agg_result = df.groupby('City').agg({'Age': ['mean', 'std'], 'Name': 'count'})\n",
    "print(\"Aggregation by city with counting of different functions for the Age column:\")\n",
    "agg_result"
   ]
  },
  {
   "cell_type": "markdown",
   "id": "92d964c3",
   "metadata": {
    "id": "92d964c3"
   },
   "source": [
    "# Pivot tables\n",
    "\n",
    "Syntax:\n",
    "* `pd.pivot_table(data=table, index=column 1, columns=column 2, values=column 3, aggfunc=function list)`\n",
    "    1. `data` - data, where to get information from\n",
    "    2. `index` - column by which values ​​should be grouped\n",
    "    3. `columns` - the column from which the values ​​for the PIVOT table columns will be taken\n",
    "    4. `values` - the column by which calculations will be made\n",
    "    5. `aggfunc` - function/list of functions that will be applied to the `values` column for calculation"
   ]
  },
  {
   "cell_type": "code",
   "execution_count": null,
   "id": "6571b9fe",
   "metadata": {
    "id": "6571b9fe"
   },
   "outputs": [],
   "source": [
    "# Creating pivot table\n",
    "pivot = pd.pivot_table(df, values='Age', index='City', aggfunc='mean')\n",
    "print(\"\\nSummary table by age and city:\")\n",
    "pivot"
   ]
  },
  {
   "cell_type": "markdown",
   "id": "35478257",
   "metadata": {
    "id": "35478257"
   },
   "source": [
    "# Merging tables\n",
    "\n",
    "Syntax:\n",
    "* `table 1.merge(table 2, on=common column, how=merge method)` - merging two tables using **one common column**\n",
    "* `table 1.merge(table 2, left_on=..., right_on=..., how=merge method)` - merging two tables using a common column, which is called differently in the tables\n",
    "    * `left_on` - refers to table 1\n",
    "    * `right_on` - refers to table 2\n",
    "    \n",
    "### Merge methods:\n",
    "1. `inner` - **general** lines by column used\n",
    "2. `outer` - **all** lines according to the used column (data that were not found will have gaps)\n",
    "3. `left` - information will be found only for those column values ​​that are in **table 1** (left)\n",
    "4. `right` - information will be found only for those column values ​​that are in **table 2** (right)\n",
    "    \n",
    "<img src=\"https://encrypted-tbn0.gstatic.com/images?q=tbn:ANd9GcQWmZHyJcXpOdcLJuU--1w2m8r-fdeoUzPvlQ&s\" width=400 height=400/>"
   ]
  },
  {
   "cell_type": "code",
   "execution_count": null,
   "id": "03f9fe67",
   "metadata": {
    "id": "03f9fe67"
   },
   "outputs": [],
   "source": [
    "# Let's create another DataFrame for merging\n",
    "df2 = pd.DataFrame({\n",
    "    'ID': [1, 2, 3, 5, 10],\n",
    "    'Salary': [50000, 60000, 70000, 75000, 55000]\n",
    "})"
   ]
  },
  {
   "cell_type": "markdown",
   "id": "0c9e627a",
   "metadata": {
    "id": "0c9e627a"
   },
   "source": [
    "##### Inner join"
   ]
  },
  {
   "cell_type": "code",
   "execution_count": null,
   "id": "801154fd",
   "metadata": {
    "id": "801154fd"
   },
   "outputs": [],
   "source": [
    "# Merge data by column 'ID'\n",
    "merged_df = pd.merge(df, df2, on='ID')\n",
    "print(\"Inner join data for the general ID column:\")\n",
    "merged_df"
   ]
  },
  {
   "cell_type": "markdown",
   "id": "8e5bc6ec",
   "metadata": {
    "id": "8e5bc6ec"
   },
   "source": [
    "##### Outer join"
   ]
  },
  {
   "cell_type": "code",
   "execution_count": null,
   "id": "b05dbe4a",
   "metadata": {
    "id": "b05dbe4a"
   },
   "outputs": [],
   "source": [
    "# Merge data by column 'ID'\n",
    "merged_df = pd.merge(df, df2, on='ID', how='outer')\n",
    "print(\"Outer join data for the general ID column:\")\n",
    "merged_df"
   ]
  },
  {
   "cell_type": "markdown",
   "id": "9af6e7ae",
   "metadata": {
    "id": "9af6e7ae"
   },
   "source": [
    "##### Left join"
   ]
  },
  {
   "cell_type": "code",
   "execution_count": null,
   "id": "36f2f098",
   "metadata": {
    "id": "36f2f098"
   },
   "outputs": [],
   "source": [
    "# Merge data by column 'ID'\n",
    "merged_df = pd.merge(df, df2, on='ID', how='left')\n",
    "print(\"Left join data for the general ID column:\")\n",
    "merged_df"
   ]
  },
  {
   "cell_type": "markdown",
   "id": "83e31313",
   "metadata": {
    "id": "83e31313"
   },
   "source": [
    "##### Right join"
   ]
  },
  {
   "cell_type": "code",
   "execution_count": null,
   "id": "3f9409dd",
   "metadata": {
    "id": "3f9409dd"
   },
   "outputs": [],
   "source": [
    "# Merge data by column 'ID'\n",
    "merged_df = pd.merge(df, df2, on='ID', how='right')\n",
    "print(\"Outer join data for the general ID column:\")\n",
    "merged_df"
   ]
  },
  {
   "cell_type": "markdown",
   "id": "44e4c4b4",
   "metadata": {
    "id": "44e4c4b4"
   },
   "source": [
    "# Concat\n",
    "\n",
    "Long story short - **gluing** tables\n",
    "\n",
    "Syntax:\n",
    "* `pd.concat([table 1, table 2])` - merging tables **vertically** (data from table 2 will be “glued” to table 1 below\n",
    "* `pd.concat([table 1, table 2], axis=1)` - merging tables **horizontally** (data from table 2 will be “glued” to table 1 on the right\n",
    "\n",
    "#### Additional attributes\n",
    "* `pd.concat([table 1, table 2], ignore_index=True/False)` - reset/ignore the index accordingly"
   ]
  },
  {
   "cell_type": "code",
   "execution_count": null,
   "id": "deb43df7",
   "metadata": {
    "id": "deb43df7"
   },
   "outputs": [],
   "source": [
    "# Create a second DataFrame for concat\n",
    "df3 = pd.DataFrame({\n",
    "    'ID': [7, 8],\n",
    "    'Name': ['Grace', 'Hannah'],\n",
    "    'Age': [24, 26],\n",
    "    'City': ['Chicago', 'Chicago']\n",
    "})"
   ]
  },
  {
   "cell_type": "code",
   "execution_count": null,
   "id": "ca2627f2",
   "metadata": {
    "id": "ca2627f2"
   },
   "outputs": [],
   "source": [
    "# Merging data vertically + reset index\n",
    "concat_vertical = pd.concat([df, df3], ignore_index=True)\n",
    "print(\"\\nMerging vertically:\")\n",
    "concat_vertical"
   ]
  },
  {
   "cell_type": "code",
   "execution_count": null,
   "id": "40434b16",
   "metadata": {
    "id": "40434b16"
   },
   "outputs": [],
   "source": [
    "# Merging data vertically + save index\n",
    "concat_vertical = pd.concat([df, df3], ignore_index=False)\n",
    "print(\"\\nMerging vertically:\")\n",
    "concat_vertical"
   ]
  },
  {
   "cell_type": "code",
   "execution_count": null,
   "id": "3a80aecb",
   "metadata": {
    "id": "3a80aecb"
   },
   "outputs": [],
   "source": [
    "# Merge horizontally\n",
    "concat_horizontal = pd.concat([df, df2], axis=1)\n",
    "print(\"\\nMerging horizontally:\")\n",
    "concat_horizontal"
   ]
  }
 ],
 "metadata": {
  "colab": {
   "provenance": []
  },
  "kernelspec": {
   "display_name": "Python 3 (ipykernel)",
   "language": "python",
   "name": "python3"
  },
  "language_info": {
   "codemirror_mode": {
    "name": "ipython",
    "version": 3
   },
   "file_extension": ".py",
   "mimetype": "text/x-python",
   "name": "python",
   "nbconvert_exporter": "python",
   "pygments_lexer": "ipython3",
   "version": "3.9.13"
  }
 },
 "nbformat": 4,
 "nbformat_minor": 5
}
