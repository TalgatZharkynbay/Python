{
 "cells": [
  {
   "cell_type": "markdown",
   "metadata": {
    "id": "mjuppesVBFPJ"
   },
   "source": [
    "# Request pages from the Internet, search by page\n",
    "1. Request the main page of the site\n",
    "2. Extract the list of links\n",
    "3. Let's go through all the pages, calculate their length\n",
    "4. Based on these data, let's try to find out who was the main character of the Harry Potter books\n",
    "\n",
    "Let's try to request the main page of our educational site from the Internet using the `requests` module:"
   ]
  },
  {
   "cell_type": "code",
   "execution_count": 1,
   "metadata": {},
   "outputs": [],
   "source": [
    "import requests   # Importing the requests module"
   ]
  },
  {
   "cell_type": "code",
   "execution_count": 2,
   "metadata": {
    "colab": {
     "base_uri": "https://localhost:8080/",
     "height": 34
    },
    "executionInfo": {
     "elapsed": 2025,
     "status": "ok",
     "timestamp": 1602498154552,
     "user": {
      "displayName": "Tatiana Rogovich",
      "photoUrl": "https://lh3.googleusercontent.com/a-/AOh14Gjj1YqMwkiGsMOcK4XoZPpJp6kCbYZ6EqgvdL3EXA=s64",
      "userId": "08185984249235601298"
     },
     "user_tz": -180
    },
    "id": "WnLKQMQHDlln",
    "outputId": "b1eec8dc-3f41-438f-ce4f-cf95489976b3"
   },
   "outputs": [
    {
     "name": "stdout",
     "output_type": "stream",
     "text": [
      "<Response [200]>\n"
     ]
    }
   ],
   "source": [
    "# Using the get function from the requests module, we will request the site page and save the result to the site variable\n",
    "site = requests.get('https://online.hse.ru/python-as-foreign/1/')  \n",
    "\n",
    "print(site)"
   ]
  },
  {
   "cell_type": "code",
   "execution_count": 3,
   "metadata": {},
   "outputs": [],
   "source": [
    "# error 404"
   ]
  },
  {
   "cell_type": "markdown",
   "metadata": {
    "id": "f14AzzFzBVzt"
   },
   "source": [
    "The number 200 means that the computer has \"successfully found and received a page from the Internet.\" Let's see what happens if you request a non-existent page:"
   ]
  },
  {
   "cell_type": "code",
   "execution_count": 4,
   "metadata": {
    "colab": {
     "base_uri": "https://localhost:8080/",
     "height": 34
    },
    "executionInfo": {
     "elapsed": 3146,
     "status": "ok",
     "timestamp": 1602439959183,
     "user": {
      "displayName": "Tatiana Rogovich",
      "photoUrl": "https://lh3.googleusercontent.com/a-/AOh14Gjj1YqMwkiGsMOcK4XoZPpJp6kCbYZ6EqgvdL3EXA=s64",
      "userId": "08185984249235601298"
     },
     "user_tz": -180
    },
    "id": "w2Lnb6f9sIlc",
    "outputId": "bee2c712-b97b-43ff-ee40-6a9220520352"
   },
   "outputs": [
    {
     "name": "stdout",
     "output_type": "stream",
     "text": [
      "<Response [404]>\n"
     ]
    }
   ],
   "source": [
    "print(requests.get('https://online.hse.ru/python-as-foreign/1/11.html'))"
   ]
  },
  {
   "cell_type": "markdown",
   "metadata": {
    "id": "HzkQNA_XsNTk"
   },
   "source": [
    "Число 404 означает, что \"страницу найти не удалось\". Вы могли видеть это число и сами во время попытки посмотреть на несуществующую страницу. Мы можем узнать, получилось ли найти страницу, обратившись к переменной `site.status_code`"
   ]
  },
  {
   "cell_type": "code",
   "execution_count": 5,
   "metadata": {
    "colab": {
     "base_uri": "https://localhost:8080/"
    },
    "executionInfo": {
     "elapsed": 1495,
     "status": "ok",
     "timestamp": 1602063391282,
     "user": {
      "displayName": "Дмитрий Широков",
      "photoUrl": "https://lh3.googleusercontent.com/a-/AOh14Gj5ZAs-5dMegnzmhLzTxoLXJmKnF6n7i3ZxETt9Vw=s64",
      "userId": "13642431705883450455"
     },
     "user_tz": -180
    },
    "id": "3xvbHmFKXeNy",
    "outputId": "abe863a0-40d8-48ce-a807-5017d785fb8d"
   },
   "outputs": [
    {
     "name": "stdout",
     "output_type": "stream",
     "text": [
      "200\n"
     ]
    }
   ],
   "source": [
    "print(site.status_code)"
   ]
  },
  {
   "cell_type": "markdown",
   "metadata": {
    "id": "UFeeMSCdXjyl"
   },
   "source": [
    "To get the text of the html code of the page, you need to access the variable `site.text`"
   ]
  },
  {
   "cell_type": "code",
   "execution_count": 6,
   "metadata": {
    "colab": {
     "base_uri": "https://localhost:8080/",
     "height": 367
    },
    "executionInfo": {
     "elapsed": 1096,
     "status": "ok",
     "timestamp": 1602439963712,
     "user": {
      "displayName": "Tatiana Rogovich",
      "photoUrl": "https://lh3.googleusercontent.com/a-/AOh14Gjj1YqMwkiGsMOcK4XoZPpJp6kCbYZ6EqgvdL3EXA=s64",
      "userId": "08185984249235601298"
     },
     "user_tz": -180
    },
    "id": "s1WuJ3WPBfix",
    "outputId": "fbd5bc61-c0e3-48eb-b97a-b6c446502dcf"
   },
   "outputs": [
    {
     "name": "stdout",
     "output_type": "stream",
     "text": [
      "<html>\n",
      "<head>\n",
      "    <meta charset=\"UTF-8\">\n",
      "    <title>Оглавление</title>\n",
      "</head>\n",
      "<body>\n",
      "    Статьи о персонажах: <a href=\"1.html\">Гарри Поттер</a>,\n",
      "    <a href=\"2.html\">Джинни Уизли</a>,\n",
      "    <a href=\"3.html\">Лили Поттер</a>,\n",
      "    <a href=\"4.html\">Гермиона Грейнджер</a>,\n",
      "    <a href=\"5.html\">Сириус Блэк</a>,\n",
      "    <a href=\"6.html\">Рубеус Хагрид</a>,\n",
      "    <a href=\"7.html\">Рон Уизли</a>,\n",
      "    <a href=\"8.html\">Астория Гринграсс</a>,\n",
      "    <a href=\"9.html\">Люциус Малфой</a>,\n",
      "    <a href=\"10.html\">Драко Малфой</a>,\n",
      "    <a href=\"11.html\">Беллатриса Лестрейндж</a>.<br>\n",
      "    По материалам <a href=\"https://harrypotter.fandom.com\">Гарри Поттер вики</a>. <br>Распространяется на условиях CC-BY-SA\n",
      "</body>\n",
      "</html>\n"
     ]
    }
   ],
   "source": [
    "print(site.text)"
   ]
  },
  {
   "cell_type": "markdown",
   "metadata": {
    "id": "v8fc_my-HKlB"
   },
   "source": [
    "Such variables are related to other variables, we will call **attributes**. Attributes are syntactically similar to methods — they are also written with a dot after the name of the variable to which they relate, but they do not have brackets, since they are not commands.\n",
    "\n",
    "It seems that something strange has loaded instead of the page: the page loaded in the wrong encoding, and the computer cannot read the Russian letters. We can look at the encoding by referring to the `encoding` attribute:"
   ]
  },
  {
   "cell_type": "code",
   "execution_count": 7,
   "metadata": {
    "colab": {
     "base_uri": "https://localhost:8080/",
     "height": 34
    },
    "executionInfo": {
     "elapsed": 1483,
     "status": "ok",
     "timestamp": 1602439981636,
     "user": {
      "displayName": "Tatiana Rogovich",
      "photoUrl": "https://lh3.googleusercontent.com/a-/AOh14Gjj1YqMwkiGsMOcK4XoZPpJp6kCbYZ6EqgvdL3EXA=s64",
      "userId": "08185984249235601298"
     },
     "user_tz": -180
    },
    "id": "AgqKCR8JbQRZ",
    "outputId": "c79acaed-e72f-4e5d-9793-677f81fbdc9c"
   },
   "outputs": [
    {
     "name": "stdout",
     "output_type": "stream",
     "text": [
      "The page loaded in encoding UTF-8\n"
     ]
    }
   ],
   "source": [
    "import requests   \n",
    "site = requests.get('https://online.hse.ru/python-as-foreign/1/')\n",
    "print(f'The page loaded in encoding {site.encoding}')"
   ]
  },
  {
   "cell_type": "markdown",
   "metadata": {
    "id": "LFXkiYT0bwMd"
   },
   "source": [
    "Let's fix the encoding by specifying [universal](https://ru.wikipedia.org/wiki/Юникод ), which supports all languages of the world:"
   ]
  },
  {
   "cell_type": "code",
   "execution_count": 8,
   "metadata": {
    "colab": {
     "base_uri": "https://localhost:8080/",
     "height": 397
    },
    "executionInfo": {
     "elapsed": 1145,
     "status": "ok",
     "timestamp": 1602445956646,
     "user": {
      "displayName": "Дмитрий Широков",
      "photoUrl": "https://lh3.googleusercontent.com/a-/AOh14Gj5ZAs-5dMegnzmhLzTxoLXJmKnF6n7i3ZxETt9Vw=s64",
      "userId": "13642431705883450455"
     },
     "user_tz": -180
    },
    "id": "qMazMdNGb7S5",
    "outputId": "67b1e801-b8d5-414c-f8b3-de5444ce5880"
   },
   "outputs": [
    {
     "name": "stdout",
     "output_type": "stream",
     "text": [
      "<html>\n",
      "<head>\n",
      "    <meta charset=\"UTF-8\">\n",
      "    <title>Оглавление</title>\n",
      "</head>\n",
      "<body>\n",
      "    Статьи о персонажах: <a href=\"1.html\">Гарри Поттер</a>,\n",
      "    <a href=\"2.html\">Джинни Уизли</a>,\n",
      "    <a href=\"3.html\">Лили Поттер</a>,\n",
      "    <a href=\"4.html\">Гермиона Грейнджер</a>,\n",
      "    <a href=\"5.html\">Сириус Блэк</a>,\n",
      "    <a href=\"6.html\">Рубеус Хагрид</a>,\n",
      "    <a href=\"7.html\">Рон Уизли</a>,\n",
      "    <a href=\"8.html\">Астория Гринграсс</a>,\n",
      "    <a href=\"9.html\">Люциус Малфой</a>,\n",
      "    <a href=\"10.html\">Драко Малфой</a>,\n",
      "    <a href=\"11.html\">Беллатриса Лестрейндж</a>.<br>\n",
      "    По материалам <a href=\"https://harrypotter.fandom.com\">Гарри Поттер вики</a>. <br>Распространяется на условиях CC-BY-SA\n",
      "</body>\n",
      "</html>\n"
     ]
    }
   ],
   "source": [
    "site.encoding = 'utf-8'\n",
    "print(site.text)"
   ]
  },
  {
   "cell_type": "markdown",
   "metadata": {
    "id": "ELdOcLiULlRW"
   },
   "source": [
    "Sometimes simply specifying the correct encoding is not enough, and then you need to explicitly force the computer to translate the page received from the Network into the correct encoding using the command `.content.decode()`:"
   ]
  },
  {
   "cell_type": "code",
   "execution_count": 9,
   "metadata": {
    "colab": {
     "base_uri": "https://localhost:8080/",
     "height": 397
    },
    "executionInfo": {
     "elapsed": 2811,
     "status": "ok",
     "timestamp": 1602445962119,
     "user": {
      "displayName": "Дмитрий Широков",
      "photoUrl": "https://lh3.googleusercontent.com/a-/AOh14Gj5ZAs-5dMegnzmhLzTxoLXJmKnF6n7i3ZxETt9Vw=s64",
      "userId": "13642431705883450455"
     },
     "user_tz": -180
    },
    "id": "IuCnnxscLxA7",
    "outputId": "600979ca-9112-42ae-e2a2-aa54b3bf8f11"
   },
   "outputs": [
    {
     "name": "stdout",
     "output_type": "stream",
     "text": [
      "<html>\n",
      "<head>\n",
      "    <meta charset=\"UTF-8\">\n",
      "    <title>Оглавление</title>\n",
      "</head>\n",
      "<body>\n",
      "    Статьи о персонажах: <a href=\"1.html\">Гарри Поттер</a>,\n",
      "    <a href=\"2.html\">Джинни Уизли</a>,\n",
      "    <a href=\"3.html\">Лили Поттер</a>,\n",
      "    <a href=\"4.html\">Гермиона Грейнджер</a>,\n",
      "    <a href=\"5.html\">Сириус Блэк</a>,\n",
      "    <a href=\"6.html\">Рубеус Хагрид</a>,\n",
      "    <a href=\"7.html\">Рон Уизли</a>,\n",
      "    <a href=\"8.html\">Астория Гринграсс</a>,\n",
      "    <a href=\"9.html\">Люциус Малфой</a>,\n",
      "    <a href=\"10.html\">Драко Малфой</a>,\n",
      "    <a href=\"11.html\">Беллатриса Лестрейндж</a>.<br>\n",
      "    По материалам <a href=\"https://harrypotter.fandom.com\">Гарри Поттер вики</a>. <br>Распространяется на условиях CC-BY-SA\n",
      "</body>\n",
      "</html>\n"
     ]
    }
   ],
   "source": [
    "import requests   \n",
    "site2 = requests.get('https://online.hse.ru/python-as-foreign/1/')\n",
    "site_text = site2.content.decode('utf-8')\n",
    "print(site_text)"
   ]
  },
  {
   "cell_type": "markdown",
   "metadata": {
    "id": "Mjs-DZXsXum7"
   },
   "source": [
    "Great, we can understand if a page has loaded, and if so, look at its text. To teach a computer how to work with this text, let's use the `BeautifulSoup` module:"
   ]
  },
  {
   "cell_type": "code",
   "execution_count": 10,
   "metadata": {
    "colab": {
     "base_uri": "https://localhost:8080/",
     "height": 397
    },
    "executionInfo": {
     "elapsed": 1069,
     "status": "ok",
     "timestamp": 1602445965500,
     "user": {
      "displayName": "Дмитрий Широков",
      "photoUrl": "https://lh3.googleusercontent.com/a-/AOh14Gj5ZAs-5dMegnzmhLzTxoLXJmKnF6n7i3ZxETt9Vw=s64",
      "userId": "13642431705883450455"
     },
     "user_tz": -180
    },
    "id": "N1KzHYOsXvFw",
    "outputId": "9d660314-1b9e-444e-e763-bbd5b84315e3"
   },
   "outputs": [
    {
     "name": "stdout",
     "output_type": "stream",
     "text": [
      "<html>\n",
      "<head>\n",
      "<meta charset=\"utf-8\"/>\n",
      "<title>Оглавление</title>\n",
      "</head>\n",
      "<body>\n",
      "    Статьи о персонажах: <a href=\"1.html\">Гарри Поттер</a>,\n",
      "    <a href=\"2.html\">Джинни Уизли</a>,\n",
      "    <a href=\"3.html\">Лили Поттер</a>,\n",
      "    <a href=\"4.html\">Гермиона Грейнджер</a>,\n",
      "    <a href=\"5.html\">Сириус Блэк</a>,\n",
      "    <a href=\"6.html\">Рубеус Хагрид</a>,\n",
      "    <a href=\"7.html\">Рон Уизли</a>,\n",
      "    <a href=\"8.html\">Астория Гринграсс</a>,\n",
      "    <a href=\"9.html\">Люциус Малфой</a>,\n",
      "    <a href=\"10.html\">Драко Малфой</a>,\n",
      "    <a href=\"11.html\">Беллатриса Лестрейндж</a>.<br/>\n",
      "    По материалам <a href=\"https://harrypotter.fandom.com\">Гарри Поттер вики</a>. <br/>Распространяется на условиях CC-BY-SA\n",
      "</body>\n",
      "</html>\n"
     ]
    }
   ],
   "source": [
    "from bs4 import BeautifulSoup\n",
    "\n",
    "# Let's ask the computer to recognize the html code of the site using BeautifulSoup\n",
    "soup = BeautifulSoup(site.text)\n",
    "\n",
    "print(soup)"
   ]
  },
  {
   "cell_type": "markdown",
   "metadata": {
    "id": "HVvkRVvVZ9E6"
   },
   "source": [
    "It seems that nothing has changed. But now we can search through our page. For example, we can find links to other pages. Let's ask the computer to find some kind of link (i.e. some tag \\<a\\>...\\</a\\>)"
   ]
  },
  {
   "cell_type": "code",
   "execution_count": 11,
   "metadata": {
    "colab": {
     "base_uri": "https://localhost:8080/",
     "height": 35
    },
    "executionInfo": {
     "elapsed": 1116,
     "status": "ok",
     "timestamp": 1598038825313,
     "user": {
      "displayName": "Дмитрий Широков",
      "photoUrl": "https://lh3.googleusercontent.com/a-/AOh14Gj5ZAs-5dMegnzmhLzTxoLXJmKnF6n7i3ZxETt9Vw=s64",
      "userId": "13642431705883450455"
     },
     "user_tz": -180
    },
    "id": "rRI2tvAJhU6S",
    "outputId": "1f4529d3-0ed3-4edb-d101-7cdd9071180b"
   },
   "outputs": [
    {
     "name": "stdout",
     "output_type": "stream",
     "text": [
      "<a href=\"1.html\">Гарри Поттер</a>\n"
     ]
    }
   ],
   "source": [
    "# Let's ask the computer to find the first link on the page\n",
    "print(soup.find('a'))"
   ]
  },
  {
   "cell_type": "markdown",
   "metadata": {
    "id": "nsCyqlL1iWKF"
   },
   "source": [
    "Let's ask the computer to write the page address separately (in our case, 1.html ) and the link text (Harry Potter):"
   ]
  },
  {
   "cell_type": "code",
   "execution_count": 12,
   "metadata": {
    "colab": {
     "base_uri": "https://localhost:8080/",
     "height": 34
    },
    "executionInfo": {
     "elapsed": 541,
     "status": "ok",
     "timestamp": 1602440023550,
     "user": {
      "displayName": "Tatiana Rogovich",
      "photoUrl": "https://lh3.googleusercontent.com/a-/AOh14Gjj1YqMwkiGsMOcK4XoZPpJp6kCbYZ6EqgvdL3EXA=s64",
      "userId": "08185984249235601298"
     },
     "user_tz": -180
    },
    "id": "o9CoP4m8oOUq",
    "outputId": "447b3e94-208a-4d9b-ff20-6d6a92b78365"
   },
   "outputs": [
    {
     "name": "stdout",
     "output_type": "stream",
     "text": [
      "File's link: 1.html, link text: Гарри Поттер\n"
     ]
    }
   ],
   "source": [
    "link = soup.find('a')\n",
    "\n",
    "# Using the link.get() method, we can find out the value of any attribute we are interested in.\n",
    "# The page address is in the href attribute, so we can find it through link.get('href')\n",
    "href = link.get('href')\n",
    "\n",
    "# The link text is in the link.text variable\n",
    "print(f\"File's link: {href}, link text: {link.text}\")"
   ]
  },
  {
   "cell_type": "markdown",
   "metadata": {
    "id": "RamMFcUIoejd"
   },
   "source": [
    "Simplify the code by getting rid of the `href` variable:"
   ]
  },
  {
   "cell_type": "code",
   "execution_count": 13,
   "metadata": {
    "colab": {
     "base_uri": "https://localhost:8080/",
     "height": 34
    },
    "executionInfo": {
     "elapsed": 573,
     "status": "ok",
     "timestamp": 1602440037655,
     "user": {
      "displayName": "Tatiana Rogovich",
      "photoUrl": "https://lh3.googleusercontent.com/a-/AOh14Gjj1YqMwkiGsMOcK4XoZPpJp6kCbYZ6EqgvdL3EXA=s64",
      "userId": "08185984249235601298"
     },
     "user_tz": -180
    },
    "id": "dIKzltjRicgJ",
    "outputId": "07810049-fa55-40d4-e470-112b03372f4c"
   },
   "outputs": [
    {
     "name": "stdout",
     "output_type": "stream",
     "text": [
      "File's path: 1.html, text link: Гарри Поттер\n"
     ]
    }
   ],
   "source": [
    "link = soup.find('a')\n",
    "\n",
    "# We use double quotes inside the f-string so that the computer doesn't get confused\n",
    "# quotation marks of the string and quotation marks around the name of the href attribute\n",
    "print(f'File\\'s path: {link.get(\"href\")}, text link: {link.text}')"
   ]
  },
  {
   "cell_type": "markdown",
   "metadata": {
    "id": "c8KF-zXBiqee"
   },
   "source": [
    "Well, we have learned how to work with one link. Let's ask the computer to find them all:"
   ]
  },
  {
   "cell_type": "code",
   "execution_count": 14,
   "metadata": {
    "colab": {
     "base_uri": "https://localhost:8080/"
    },
    "executionInfo": {
     "elapsed": 772,
     "status": "ok",
     "timestamp": 1602064170478,
     "user": {
      "displayName": "Дмитрий Широков",
      "photoUrl": "https://lh3.googleusercontent.com/a-/AOh14Gj5ZAs-5dMegnzmhLzTxoLXJmKnF6n7i3ZxETt9Vw=s64",
      "userId": "13642431705883450455"
     },
     "user_tz": -180
    },
    "id": "cJgua0BXaDRo",
    "outputId": "7634435a-778e-4a61-c0d0-d21ca400ffc7"
   },
   "outputs": [
    {
     "name": "stdout",
     "output_type": "stream",
     "text": [
      "[<a href=\"1.html\">Гарри Поттер</a>, <a href=\"2.html\">Джинни Уизли</a>, <a href=\"3.html\">Лили Поттер</a>, <a href=\"4.html\">Гермиона Грейнджер</a>, <a href=\"5.html\">Сириус Блэк</a>, <a href=\"6.html\">Рубеус Хагрид</a>, <a href=\"7.html\">Рон Уизли</a>, <a href=\"8.html\">Астория Гринграсс</a>, <a href=\"9.html\">Люциус Малфой</a>, <a href=\"10.html\">Драко Малфой</a>, <a href=\"11.html\">Беллатриса Лестрейндж</a>, <a href=\"https://harrypotter.fandom.com\">Гарри Поттер вики</a>]\n"
     ]
    }
   ],
   "source": [
    "# Let's ask the computer to find all the links on the page, and display a list of them\n",
    "print(soup.find_all('a'))"
   ]
  },
  {
   "cell_type": "markdown",
   "metadata": {
    "id": "85dupX-oIPQo"
   },
   "source": [
    "BeautifulSoup is able to search for information in the code of website pages with a huge number of methods, but in this course we will use the find and find_all method."
   ]
  },
  {
   "cell_type": "markdown",
   "metadata": {
    "id": "cATWMBc6hai1"
   },
   "source": [
    "Let's make the output more beautiful by going through all the links with a for loop:"
   ]
  },
  {
   "cell_type": "code",
   "execution_count": 15,
   "metadata": {
    "colab": {
     "base_uri": "https://localhost:8080/",
     "height": 236
    },
    "executionInfo": {
     "elapsed": 1002,
     "status": "ok",
     "timestamp": 1598039475854,
     "user": {
      "displayName": "Дмитрий Широков",
      "photoUrl": "https://lh3.googleusercontent.com/a-/AOh14Gj5ZAs-5dMegnzmhLzTxoLXJmKnF6n7i3ZxETt9Vw=s64",
      "userId": "13642431705883450455"
     },
     "user_tz": -180
    },
    "id": "8a4IJrK1hfKM",
    "outputId": "a6d6aaa9-18ac-4d77-8603-b3cbf6eedc07"
   },
   "outputs": [
    {
     "name": "stdout",
     "output_type": "stream",
     "text": [
      "Link path - 1.html and text \"Гарри Поттер\"\n",
      "Link path - 2.html and text \"Джинни Уизли\"\n",
      "Link path - 3.html and text \"Лили Поттер\"\n",
      "Link path - 4.html and text \"Гермиона Грейнджер\"\n",
      "Link path - 5.html and text \"Сириус Блэк\"\n",
      "Link path - 6.html and text \"Рубеус Хагрид\"\n",
      "Link path - 7.html and text \"Рон Уизли\"\n",
      "Link path - 8.html and text \"Астория Гринграсс\"\n",
      "Link path - 9.html and text \"Люциус Малфой\"\n",
      "Link path - 10.html and text \"Драко Малфой\"\n",
      "Link path - 11.html and text \"Беллатриса Лестрейндж\"\n",
      "Link path - https://harrypotter.fandom.com and text \"Гарри Поттер вики\"\n"
     ]
    }
   ],
   "source": [
    "for link in soup.find_all('a'):\n",
    "    print(f'Link path - {link.get(\"href\")} and text \"{link.text}\"')"
   ]
  },
  {
   "cell_type": "markdown",
   "metadata": {
    "id": "jEbXsADRmCO8"
   },
   "source": [
    "Next time we will learn how to analyze the connections between the characters by analyzing specific pages."
   ]
  },
  {
   "cell_type": "markdown",
   "metadata": {
    "id": "LdH2ixRKlSzQ"
   },
   "source": [
    "The final version of the notebook:"
   ]
  },
  {
   "cell_type": "code",
   "execution_count": 16,
   "metadata": {
    "colab": {
     "base_uri": "https://localhost:8080/",
     "height": 227
    },
    "executionInfo": {
     "elapsed": 2399,
     "status": "ok",
     "timestamp": 1602440053216,
     "user": {
      "displayName": "Tatiana Rogovich",
      "photoUrl": "https://lh3.googleusercontent.com/a-/AOh14Gjj1YqMwkiGsMOcK4XoZPpJp6kCbYZ6EqgvdL3EXA=s64",
      "userId": "08185984249235601298"
     },
     "user_tz": -180
    },
    "id": "7RquRdHflVNX",
    "outputId": "37807feb-d1d9-4c12-8684-8afbf9e2d7ac"
   },
   "outputs": [
    {
     "name": "stdout",
     "output_type": "stream",
     "text": [
      "Link path - 1.html and text \"Гарри Поттер\"\n",
      "Link path - 2.html and text \"Джинни Уизли\"\n",
      "Link path - 3.html and text \"Лили Поттер\"\n",
      "Link path - 4.html and text \"Гермиона Грейнджер\"\n",
      "Link path - 5.html and text \"Сириус Блэк\"\n",
      "Link path - 6.html and text \"Рубеус Хагрид\"\n",
      "Link path - 7.html and text \"Рон Уизли\"\n",
      "Link path - 8.html and text \"Астория Гринграсс\"\n",
      "Link path - 9.html and text \"Люциус Малфой\"\n",
      "Link path - 10.html and text \"Драко Малфой\"\n",
      "Link path - 11.html and text \"Беллатриса Лестрейндж\"\n",
      "Link path - https://harrypotter.fandom.com and text \"Гарри Поттер вики\"\n"
     ]
    }
   ],
   "source": [
    "# Importing the requests and BeautifulSoup modules\n",
    "import requests   \n",
    "from bs4 import BeautifulSoup\n",
    "\n",
    "# Using the get function from the requests module, we will request the site page and save it to the site variable\n",
    "site = requests.get('https://online.hse.ru/python-as-foreign/1/')  \n",
    "\n",
    "# Specify the universal character encoding\n",
    "site.encoding = 'utf-8'\n",
    "\n",
    "# Let's ask the computer to recognize the html code of the site using BeautifulSoup\n",
    "soup = BeautifulSoup(site.text)\n",
    "\n",
    "# Let's go through all the links found on the page and, saving each link under the name link, do the following:\n",
    "for link in soup.find_all('a'): \n",
    "    # Print the page address from the href attribute and the link text\n",
    "    print(f'Link path - {link.get(\"href\")} and text \"{link.text}\"')"
   ]
  }
 ],
 "metadata": {
  "colab": {
   "collapsed_sections": [],
   "name": "9.13.2 Запрос страницы из интернета.ipynb",
   "provenance": []
  },
  "kernelspec": {
   "display_name": "Python 3 (ipykernel)",
   "language": "python",
   "name": "python3"
  },
  "language_info": {
   "codemirror_mode": {
    "name": "ipython",
    "version": 3
   },
   "file_extension": ".py",
   "mimetype": "text/x-python",
   "name": "python",
   "nbconvert_exporter": "python",
   "pygments_lexer": "ipython3",
   "version": "3.9.13"
  }
 },
 "nbformat": 4,
 "nbformat_minor": 1
}
