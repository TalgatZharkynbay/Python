{
 "cells": [
  {
   "cell_type": "markdown",
   "metadata": {
    "id": "BE_MEbgQWtES"
   },
   "source": [
    "# Pandas"
   ]
  },
  {
   "cell_type": "code",
   "execution_count": null,
   "metadata": {
    "id": "Sn9WmLb-WtET"
   },
   "outputs": [],
   "source": [
    "import pandas as pd  # a new important element of data analysis"
   ]
  },
  {
   "cell_type": "markdown",
   "metadata": {
    "id": "Ue_9LItOWtEU"
   },
   "source": [
    "##  1. File system and python\n",
    "\n",
    "`os` - a package for working with the computer file system, in it you can create files,delete files and many-many more. For more details check the link below.\n",
    "\n",
    "We need this functional so we can uderstand where are we, and where are the files, which we want to open."
   ]
  },
  {
   "cell_type": "code",
   "execution_count": null,
   "metadata": {
    "id": "livwsv8oWtEV"
   },
   "outputs": [],
   "source": [
    "import os     # https://pythonworld.ru/moduli/modul-os.html\n",
    "\n",
    "# Lis of files in the current directory\n",
    "os.listdir()"
   ]
  },
  {
   "cell_type": "code",
   "execution_count": null,
   "metadata": {
    "id": "sH8fv6GGWtEV"
   },
   "outputs": [],
   "source": [
    "pwd  # to check in what folder you are"
   ]
  },
  {
   "cell_type": "markdown",
   "metadata": {
    "id": "YWaviFiyWtEV"
   },
   "source": [
    "## Tables\n",
    "\n",
    "The most common file types that store tabular data are:\n",
    "\n",
    "- `tsv` - text files where the columns are separated from each other by tab\n",
    "- `csv` - text files where the columns are separated from each other by comma\n",
    "- `xls` - excel files\n",
    "\n",
    "\n",
    "Nowadays in \"csv\" people use different signs to separate columns"
   ]
  },
  {
   "cell_type": "markdown",
   "metadata": {
    "id": "Jw-cnrmgWtEW"
   },
   "source": [
    "## Working with tables\n",
    "\n",
    "`pandas` - convenient package to work with the tables :)\n",
    "\n",
    "__P.s.__ read [seminar conspect](https://nbviewer.jupyter.org/github/hse-econ-data-science/dap_2021_spring/blob/main/sem08_pandas/sem08_pandas_intro.ipynb) and understand it throuroughly"
   ]
  },
  {
   "cell_type": "markdown",
   "metadata": {
    "id": "cIq7v5TXWtEW"
   },
   "source": [
    "Function to \"open\" tables - `pd.read_...`\n",
    "* `read_csv` - for files with the following separators: csv/tsv\n",
    "* `read_excel` - to open excel type tables\n",
    "\n",
    "Other variants:\n",
    "* `read_html` - to look for tables on a website\n",
    "* `read_parquet` - to open tables in the parquet format"
   ]
  },
  {
   "cell_type": "markdown",
   "metadata": {
    "id": "pvtgU0k-WtEX"
   },
   "source": [
    "To open table we need to define a path to the file, or name of the file:\n",
    "1. We define a path to the file if the file we need IS NOT in the same folder as our jupyter notebook;\n",
    "2. But if our notebook and sheets are in the same folder, it's enough to write name of the file."
   ]
  },
  {
   "cell_type": "code",
   "execution_count": null,
   "metadata": {
    "id": "urI3ZS2TWtEX"
   },
   "outputs": [],
   "source": [
    "df = pd.read_excel('Tasks_status.xlsx')\n",
    "df2 = pd.read_excel('Reposnsible_for_tasks.xlsx')"
   ]
  },
  {
   "cell_type": "code",
   "execution_count": null,
   "metadata": {
    "id": "UYBNnBguWtEX"
   },
   "outputs": [],
   "source": [
    "df.shape # size of the table: (number of rows, number of columns)"
   ]
  },
  {
   "cell_type": "code",
   "execution_count": null,
   "metadata": {
    "id": "PJPJ26pAWtEX"
   },
   "outputs": [],
   "source": [
    "df.info() # brief information about data in the columns"
   ]
  },
  {
   "cell_type": "markdown",
   "metadata": {
    "id": "JljKtTItWtEY"
   },
   "source": [
    "* `object` - str data\n",
    "* `int64 / float64` - integer and float data correspectively\n",
    "* `boolean` - boolean data\n",
    "* `datetime64[ns]` - data in date format"
   ]
  },
  {
   "cell_type": "code",
   "execution_count": null,
   "metadata": {
    "id": "oJvqFt4KWtEY"
   },
   "outputs": [],
   "source": [
    "df.head(n=...) # output of the first n amount of rows"
   ]
  },
  {
   "cell_type": "code",
   "execution_count": null,
   "metadata": {
    "id": "Lv2adKFSWtEY"
   },
   "outputs": [],
   "source": [
    "df.tail(n=...) # output of the first and last n rows"
   ]
  },
  {
   "cell_type": "code",
   "execution_count": null,
   "metadata": {
    "id": "0v8vOxJWWtEY"
   },
   "outputs": [],
   "source": [
    "df.describe() # descriptive statistics about numerical columns"
   ]
  },
  {
   "cell_type": "code",
   "execution_count": null,
   "metadata": {
    "id": "PExVMoPWWtEZ"
   },
   "outputs": [],
   "source": [
    "df.describe(include='object') # descriptive statistics about text type data"
   ]
  },
  {
   "cell_type": "markdown",
   "metadata": {
    "id": "kumBPEKnWtEZ"
   },
   "source": [
    "Any table has 3 main entities:\n",
    "* **values it stores**,\n",
    "* **column**,\n",
    "* **rows' names (indexes)**"
   ]
  },
  {
   "cell_type": "code",
   "execution_count": null,
   "metadata": {
    "id": "HGpplS64WtEZ"
   },
   "outputs": [],
   "source": [
    "df.values[0] # values (list of lists, where every list - value of the row)"
   ]
  },
  {
   "cell_type": "code",
   "execution_count": null,
   "metadata": {
    "id": "aOACicpKWtEZ"
   },
   "outputs": [],
   "source": [
    "df.columns # list of columns"
   ]
  },
  {
   "cell_type": "code",
   "execution_count": null,
   "metadata": {
    "id": "ZzijYqurWtEZ"
   },
   "outputs": [],
   "source": [
    "df.index # list of indexes"
   ]
  },
  {
   "cell_type": "markdown",
   "metadata": {
    "id": "_ZccF_xkWtEa"
   },
   "source": [
    "#### Highlighting rows by indexes"
   ]
  },
  {
   "cell_type": "code",
   "execution_count": null,
   "metadata": {
    "id": "-f3lZOwAWtEa"
   },
   "outputs": [],
   "source": [
    "df.loc # location - checking precise index\n",
    "df.iloc # index location - checking row by it's serial number"
   ]
  },
  {
   "cell_type": "code",
   "execution_count": null,
   "metadata": {
    "id": "b2Qz_MlLWtEa"
   },
   "outputs": [],
   "source": [
    "df.loc[0:4] # we can highlight few rows"
   ]
  },
  {
   "cell_type": "markdown",
   "metadata": {
    "id": "p-X6CfIfWtEb"
   },
   "source": [
    "#### Highlighting columns"
   ]
  },
  {
   "cell_type": "code",
   "execution_count": null,
   "metadata": {
    "id": "mTAnl451WtEb"
   },
   "outputs": [],
   "source": [
    "df['Columns name'] # observing 1 particular column"
   ]
  },
  {
   "cell_type": "code",
   "execution_count": null,
   "metadata": {
    "id": "zRf-VT7cWtEb"
   },
   "outputs": [],
   "source": [
    "df[ ['Column 1', 'Column 2', 'Column 3'] ] # choosing 2 and more columns"
   ]
  },
  {
   "cell_type": "markdown",
   "metadata": {
    "id": "whiJ2fKcWtEb"
   },
   "source": [
    "## 5. Basic oprations with tables"
   ]
  },
  {
   "cell_type": "markdown",
   "metadata": {
    "id": "2UgoJr-oWtEb"
   },
   "source": [
    "#### Filtering the data"
   ]
  },
  {
   "cell_type": "markdown",
   "metadata": {
    "id": "rJLUmMOvWtEb"
   },
   "source": [
    "* df[ `filter condition` ] - 1 filter\n",
    "\n",
    "* df[ (`filter 1`) & (`filter 2`) & (`filter 3`) ] - few filters\n",
    "    * & - `and`\n",
    "    * | - `or`"
   ]
  },
  {
   "cell_type": "code",
   "execution_count": null,
   "metadata": {
    "id": "IRBtSTkPWtEb"
   },
   "outputs": [],
   "source": [
    "df[ (df['Период'] == 'Q2') & (df['% исполнения'] > 0) ]"
   ]
  },
  {
   "cell_type": "markdown",
   "metadata": {
    "id": "BSeHt0J0WtEb"
   },
   "source": [
    "#### Sorting data"
   ]
  },
  {
   "cell_type": "markdown",
   "metadata": {
    "id": "SJsVA1HAWtEc"
   },
   "source": [
    "* Function `.sort_values()`\n",
    "    * `by` - we define by which column we do the sorting\n",
    "    * `ascending = True` - sorting in ascending order\n",
    "    * `ascending = False` - sorting in descending order"
   ]
  },
  {
   "cell_type": "code",
   "execution_count": null,
   "metadata": {
    "id": "rYfAi7VSWtEc"
   },
   "outputs": [],
   "source": [
    "df.sort_values(by=['Плановый срок', 'Задача'], ascending=[False, True])"
   ]
  },
  {
   "cell_type": "markdown",
   "metadata": {
    "id": "3JzxyUFyWtEc"
   },
   "source": [
    "#### Deleting null-objects"
   ]
  },
  {
   "cell_type": "markdown",
   "metadata": {
    "id": "pQvjckx5WtEc"
   },
   "source": [
    "* `.dropna()` - remove all rows where there are at least 1 miss\n",
    "* `.dropna(subset=[...])` - remove rows if it has a miss in a precise row/rows"
   ]
  },
  {
   "cell_type": "code",
   "execution_count": null,
   "metadata": {
    "id": "GnBbVqEoWtEc"
   },
   "outputs": [],
   "source": [
    "df.dropna(subset='Column')"
   ]
  },
  {
   "cell_type": "code",
   "execution_count": null,
   "metadata": {
    "id": "wIGlXRFfWtEc"
   },
   "outputs": [],
   "source": [
    "df.dropna(subset=['Column 1', 'Column 2'])"
   ]
  },
  {
   "cell_type": "markdown",
   "metadata": {
    "id": "I7_gAqDnWtEc"
   },
   "source": [
    "#### Filling the gaps"
   ]
  },
  {
   "cell_type": "markdown",
   "metadata": {
    "id": "zVaXP2NMWtEc"
   },
   "source": [
    "* `.fillna('значение')` - filling all the row with the defined value where there are at least 1 gap\n",
    "* `.fillna('значение', subset=[...])` - filling the rows where there is a gap in particular row"
   ]
  },
  {
   "cell_type": "code",
   "execution_count": null,
   "metadata": {
    "id": "HhKIlEVTWtEd"
   },
   "outputs": [],
   "source": [
    "df.fillna('No information')"
   ]
  },
  {
   "cell_type": "markdown",
   "metadata": {
    "id": "xRyJTTu9WtEd"
   },
   "source": [
    "#### Deleting rows and columns"
   ]
  },
  {
   "cell_type": "markdown",
   "metadata": {
    "id": "wrvnUUnWWtEd"
   },
   "source": [
    "* `.drop()` - function to delete data\n",
    "\n",
    "Parameters:\n",
    "1. `columns=[...]` - deletes defined columns\n",
    "2. `index=[...]` - deletes defined rows\n",
    "3. `axis=0` - deletes data by horizontal, `axis=1` - deletes data by vertical (with the help of axis we can no define parameters such as index/columns"
   ]
  },
  {
   "cell_type": "code",
   "execution_count": null,
   "metadata": {
    "id": "fcOzHps7WtEd"
   },
   "outputs": [],
   "source": [
    "df = df.drop(columns='Примечание')"
   ]
  },
  {
   "cell_type": "code",
   "execution_count": null,
   "metadata": {
    "id": "9RkUOCHgWtEd"
   },
   "outputs": [],
   "source": [
    "df.drop('Период', axis=1)"
   ]
  }
 ],
 "metadata": {
  "colab": {
   "provenance": []
  },
  "kernelspec": {
   "display_name": "Python 3 (ipykernel)",
   "language": "python",
   "name": "python3"
  },
  "language_info": {
   "codemirror_mode": {
    "name": "ipython",
    "version": 3
   },
   "file_extension": ".py",
   "mimetype": "text/x-python",
   "name": "python",
   "nbconvert_exporter": "python",
   "pygments_lexer": "ipython3",
   "version": "3.9.13"
  }
 },
 "nbformat": 4,
 "nbformat_minor": 1
}
