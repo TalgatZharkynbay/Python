{
 "cells": [
  {
   "cell_type": "markdown",
   "metadata": {},
   "source": [
    "Let's take a look at other usage examples of `selenium`. \n",
    "\n",
    "**Example.** Go to the bookstore's website and find all the books about Python. Download the library and web driver and open the page in the browser using Python."
   ]
  },
  {
   "cell_type": "code",
   "execution_count": 1,
   "metadata": {},
   "outputs": [],
   "source": [
    "from selenium import webdriver\n",
    "\n",
    "br = webdriver.Chrome()\n",
    "\n",
    "# открываем страницу в Chrome в автоматическом режиме\n",
    "br.get(\"http://www.biblio-globus.ru/\")"
   ]
  },
  {
   "cell_type": "markdown",
   "metadata": {},
   "source": [
    "Найдем с помощью CSS Selector'а (*SelectorGadget*) поле для ввода названия книги или автора. "
   ]
  },
  {
   "cell_type": "code",
   "execution_count": 2,
   "metadata": {},
   "outputs": [],
   "source": [
    "from selenium.webdriver.common.by import By"
   ]
  },
  {
   "cell_type": "code",
   "execution_count": 3,
   "metadata": {},
   "outputs": [],
   "source": [
    "field = br.find_element(By.CSS_SELECTOR, \"#SearchBooks\")"
   ]
  },
  {
   "cell_type": "markdown",
   "metadata": {},
   "source": [
    "Сохраним запрос:"
   ]
  },
  {
   "cell_type": "code",
   "execution_count": 4,
   "metadata": {},
   "outputs": [],
   "source": [
    "author = \"Python\"  # переменная author - условность"
   ]
  },
  {
   "cell_type": "markdown",
   "metadata": {},
   "source": [
    "Введем запрос в поле для поиска (`.send_keys`) и подождем чуть-чуть:"
   ]
  },
  {
   "cell_type": "code",
   "execution_count": 5,
   "metadata": {},
   "outputs": [],
   "source": [
    "field.send_keys(author)\n",
    "br.implicitly_wait(2)  # подождем пару секунд"
   ]
  },
  {
   "cell_type": "markdown",
   "metadata": {},
   "source": [
    "Теперь найдем кнопку для поиска (значок *лупа* рядом со строкой поиска) через CSS Selector:"
   ]
  },
  {
   "cell_type": "code",
   "execution_count": 6,
   "metadata": {},
   "outputs": [],
   "source": [
    "submit = br.find_element(By.CSS_SELECTOR, \"#SearchButton > i\")"
   ]
  },
  {
   "cell_type": "markdown",
   "metadata": {},
   "source": [
    "Кликнем на нее:"
   ]
  },
  {
   "cell_type": "code",
   "execution_count": 7,
   "metadata": {},
   "outputs": [],
   "source": [
    "submit.click()"
   ]
  },
  {
   "cell_type": "code",
   "execution_count": 8,
   "metadata": {},
   "outputs": [
    {
     "data": {
      "text/plain": [
       "selenium.webdriver.chrome.webdriver.WebDriver"
      ]
     },
     "execution_count": 8,
     "metadata": {},
     "output_type": "execute_result"
    }
   ],
   "source": [
    "type(br)"
   ]
  },
  {
   "cell_type": "markdown",
   "metadata": {},
   "source": [
    "Сохраним первую страницу с результатами в переменную `page1`."
   ]
  },
  {
   "cell_type": "code",
   "execution_count": 9,
   "metadata": {},
   "outputs": [],
   "source": [
    "page1 = br.page_source #разметка сайта"
   ]
  },
  {
   "cell_type": "code",
   "execution_count": 10,
   "metadata": {},
   "outputs": [
    {
     "data": {
      "text/plain": [
       "'<html prefix=\"og: http://ogp.me/ns#\"><head><meta http-equiv=\"origin-trial\" content=\"A/kargTFyk8MR5ueravczef/wIlTkbVk1qXQesp39nV+xNECPdLBVeYffxrM8TmZT6RArWGQVCJ0LRivD7glcAUAAACQeyJvcmlnaW4iOiJodHRwczovL2dvb2dsZS5jb206NDQzIiwiZmVhdHVyZSI6IkRpc2FibGVUaGlyZFBhcnR5U3RvcmFnZVBhcnRpdGlvbmluZzIiLCJleHBpcnkiOjE3NDIzNDIzOTksImlzU3ViZG9tYWluIjp0cnVlLCJpc1RoaXJkUGFydHkiOnRydWV9\">\\n    <meta charset=\"utf-8\">\\n    <meta http-equiv=\"X-UA-Compatible\" content=\"IE=edge\">\\n    <meta name=\"mailru-verification\" content=\"fd9a658378927472\">\\n\\n    <title>Результаты поиска: «Python»</title>\\n        <meta name=\"description\" content=\"\">\\n\\n\\n\\n    <meta name=\"viewport\" content=\"width=device-width, initial-scale=1\">\\n\\n        <meta name=\"robots\" content=\"all,follow\">\\n\\n    \\n    <script async=\"\" src=\"https://mc.yandex.ru/metrika/tag.js\"></script><script type=\"text/javascript\" async=\"\" src=\"https://www.googletagmanager.com/gtag/js?id=G-XQBB831D6S&amp;l=dataLayer&amp;cx=c&amp;gtm=45He4bk0v895486594za200\"></script><script async=\"\" src=\"https://www.googletagmanager.com/gtm.js?id=GTM-KK65ZMJ\"></script><script type=\"text/javascript\" async=\"\" charset=\"utf-8\" src=\"https://www.gstatic.com/recaptcha/releases/pPK749sccDmVW_9DSeTMVvh2/recaptcha__en.js\" crossorigin=\"anonymous\" integrity=\"sha384-BJuEtmqk8gvp2kvOiXzxtaoRQQS7QjSOSAczV0tKC29lpbOt/RFR43n1iVnzO4Em\"></script><script src=\"https://www.google.com/recaptcha/api.js?render=6LeAtKsiAAAAAB2-39qRtUXN68LwgjmLeY5q8I33\"></script>\\n\\n\\n\\n\\n        \\n\\n    <link rel=\"icon\" href=\"/favicon.png\" type=\"image/png\">\\n    <link rel=\"icon\" type=\"image/x-icon\" href=\"/favicon.ico\">\\n    <link rel=\"search\" type=\"application/opensearchdescription+xml\" href=\"/searchprovider.xml\" title=\"Biblio-Globus\">\\n\\n    <link rel=\"dns-prefetch\" href=\"https://static1.bgshop.ru\">\\n    <link rel=\"dns-prefetch\" href=\"https://static2.bgshop.ru\">\\n    <link rel=\"dns-prefetch\" href=\"https://fonts.googleapis.com\">\\n    <link rel=\"dns-prefetch\" href=\"https://www.google.com\">\\n    <link rel=\"dns-prefetch\" href=\"https://www.googletagmanager.com\">\\n    <link rel=\"dns-prefetch\" href=\"https://www.gstatic.com\">\\n    <link rel=\"dns-prefetch\" href=\"https://mc.yandex.ru\">\\n \\n\\n    <link rel=\"preconnect\" href=\"https://static1.bgshop.ru\">\\n    <link rel=\"preconnect\" href=\"https://static2.bgshop.ru\">\\n    <link rel=\"preconnect\" href=\"https://fonts.googleapis.com\">\\n    <link rel=\"preconnect\" href=\"https://www.google.com\">\\n    <link rel=\"preconnect\" href=\"https://www.googletagmanager.com\">\\n    <link rel=\"preconnect\" href=\"https://www.gstatic.com\">\\n    <link rel=\"preconnect\" href=\"https://mc.yandex.ru\">\\n\\n\\n    <link rel=\"stylesheet\" href=\"/content/bg/css/jquery.fancybox.min.css\">\\n    <link rel=\"stylesheet\" href=\"/content/bg/vendor/bootstrap/css/bootstrap.min.css\">\\n    <!-- <link rel=\"stylesheet\" href=\"/content/bg/vendor/font-awesome/css/all.min.css\"> \\n    <script src=\"https://kit.fontawesome.com/9a4d5f4a2b.js\" crossorigin=\"anonymous\"></script> -->\\n<link rel=\"stylesheet\" href=\"/content/fontawesome/css/all.min.css\">\\n    <link rel=\"stylesheet\" href=\"https://fonts.googleapis.com/css?family=Roboto:400,500,700,300,100\">\\n    <link rel=\"stylesheet\" href=\"https://fonts.googleapis.com/css?family=M+PLUS+1p\">\\n    <link rel=\"stylesheet\" href=\"/content/bg/vendor/owl.carousel/assets/owl.carousel.css\">\\n    <link rel=\"stylesheet\" href=\"/content/bg/vendor/owl.carousel/assets/owl.theme.default.css\">\\n    <link rel=\"stylesheet\" href=\"/content/bg/css/style.default.css?v=2017\" id=\"theme-stylesheet\"><link id=\"new-stylesheet\" rel=\"stylesheet\">\\n    <link rel=\"stylesheet\" href=\"/content/bg/css/custom.css\">\\n    <link rel=\"stylesheet\" href=\"/content/bg/css/suggestions.min.css\">\\n    <link rel=\"stylesheet\" href=\"/content/bg/css/fancybox.css\">\\n    <link rel=\"stylesheet\" href=\"/content/bg/css/fancy_carousel.css?v=1\">\\n    <link rel=\"stylesheet\" href=\"/content/bg/css/font_bootstrap-icons.css\">\\n    <link rel=\"stylesheet\" href=\"/content/bg/css/jquery-ui.css\">\\n    <link rel=\"stylesheet\" href=\"/content/bg/css/jquery-ui.theme.css\">\\n    <link rel=\"stylesheet\" href=\"/content/bg/css/jquery-ui.structure.css\">\\n    <link rel=\"stylesheet\" href=\"/content/bg/css/intlTelInput.css?v=1085\">\\n    <link rel=\"stylesheet\" href=\"/content/bg/css/flip.css?v=1025\">\\n    <link rel=\"stylesheet\" href=\"/Content/bg/datepicker/css/bootstrap-datepicker3.min.css\">\\n    <script>\\n        dataLayer = [];\\n    </script>\\n\\n            </head><body><text>\\n                <script>\\n            dataLayer.push({\\n                \\'ecommerce\\': {\\n                    \\'currencyCode\\': \\'RUB\\',\\n                    \\'impressions\\': [\\n                        {\\'name\\': \\'Символьные математические вычисления средствами SymPy Python\\',\\'id\\': \\'11014543\\',\\'price\\': \\'1358.00\\',\\'list\\': \\'Результаты поиска\\'},{\\'name\\': \\'Изучаем Python: программирование игр, визуализация данных, веб-приложения. \\',\\'id\\': \\'11018917\\',\\'price\\': \\'1819.00\\',\\'list\\': \\'Результаты поиска\\'},{\\'name\\': \\'Python для начинающих: учимся программировать с помощью мини-игр и загадок\\',\\'id\\': \\'11014618\\',\\'price\\': \\'2366.00\\',\\'list\\': \\'Результаты поиска\\'},{\\'name\\': \\'Быстрый доступ. Python: советы, функции, подсказки. Шпаргалка-буклет для начинающих (215х285 мм, 6 полос компактного буклета в европодвесе)\\',\\'id\\': \\'11015030\\',\\'price\\': \\'359.00\\',\\'list\\': \\'Результаты поиска\\'},{\\'name\\': \\'Python, например\\',\\'id\\': \\'10780215\\',\\'price\\': \\'1569.00\\',\\'list\\': \\'Результаты поиска\\'},{\\'name\\': \\'Надежный Python\\',\\'id\\': \\'10898149\\',\\'price\\': \\'1115.00\\',\\'list\\': \\'Результаты поиска\\'},{\\'name\\': \\'Сверхбыстрый PYTHON\\',\\'id\\': \\'10954900\\',\\'price\\': \\'3680.00\\',\\'list\\': \\'Результаты поиска\\'},{\\'name\\': \\'Знакомство с Python\\',\\'id\\': \\'10877909\\',\\'price\\': \\'2119.00\\',\\'list\\': \\'Результаты поиска\\'},{\\'name\\': \\'Python с нуля\\',\\'id\\': \\'10973493\\',\\'price\\': \\'1959.00\\',\\'list\\': \\'Результаты поиска\\'},{\\'name\\': \\'Python для Excel\\',\\'id\\': \\'10938051\\',\\'price\\': \\'1178.00\\',\\'list\\': \\'Результаты поиска\\'},{\\'name\\': \\'Python для гиков\\',\\'id\\': \\'10952299\\',\\'price\\': \\'1250.00\\',\\'list\\': \\'Результаты поиска\\'},{\\'name\\': \\'Python для чайников\\',\\'id\\': \\'10577094\\',\\'price\\': \\'1907.00\\',\\'list\\': \\'Результаты поиска\\'}\\n                    ]\\n                }\\n            });\\n                </script>\\n            </text>\\n        \\n\\n\\n    <!-- Google Tag Manager -->\\n    <script>\\n        (function (w, d, s, l, i) {\\n            w[l] = w[l] || []; w[l].push({\\n                \\'gtm.start\\':\\n                    new Date().getTime(), event: \\'gtm.js\\'\\n            }); var f = d.getElementsByTagName(s)[0],\\n                j = d.createElement(s), dl = l != \\'dataLayer\\' ? \\'&l=\\' + l : \\'\\'; j.async = true; j.src =\\n                    \\'https://www.googletagmanager.com/gtm.js?id=\\' + i + dl; f.parentNode.insertBefore(j, f);\\n        })(window, document, \\'script\\', \\'dataLayer\\', \\'GTM-KK65ZMJ\\');</script>\\n    <!-- End Google Tag Manager -->\\n    <!--[if lt IE 9]>\\n    <script src=\"https://oss.maxcdn.com/html5shiv/3.7.3/html5shiv.min.js\"></script>\\n    <script src=\"https://oss.maxcdn.com/respond/1.4.2/respond.min.js\"></script><![endif]-->\\n\\n\\n\\n    <!-- Google Tag Manager (noscript) -->\\n    <noscript>\\n        <iframe src=\"https://www.googletagmanager.com/ns.html?id=GTM-KK65ZMJ\"\\n                height=\"0\" width=\"0\" style=\"display:none;visibility:hidden\"></iframe>\\n    </noscript>\\n    <!-- End Google Tag Manager (noscript) -->\\n    <!-- navbar-->\\n    <header class=\"header top_header top-fixed top_header_mobile top_header_desktop\" id=\"top_header\">\\n\\n        <div id=\"top\">\\n\\n            <div class=\"container\">\\n\\n                <div class=\"row\">\\n                    <!-- <div class=\"col-lg-6 text-left text-lg-left\">\\n\\n                    </div> -->\\n\\n                    <div class=\"col-lg-12 text-right text-lg-right\">\\n                        <div class=\"contact_info\">\\n                            <div style=\"float:left;\">\\n                                <!-- <i class=\"fas fa-phone-square\"></i>&nbsp;<a class=\"contant_phone\" href=\"tel:+74957811912\"><span>+7 (495)</span> 781-19-12</a>\\n                                <span class=\"not_mobile\"><i class=\"far fa-envelope\"></i>&nbsp;<a class=\"contant_phone\" href=\"mailto:web.logist@bgshop.ru\">web.logist@bgshop.ru</a> </span> -->\\n                                <i class=\"fas fa-map-marker-alt\"></i>&nbsp;<a href=\"/information/trackinginfo\">Отследить</a>\\n                                <i class=\"fas fa-envelope\"></i>&nbsp;<a href=\"/mediacenter/about\">Подписаться</a>\\n                            </div>\\n                            <a class=\"not_mobile ext_info\" target=\"_blank\" style=\"padding-right: 20px;\" href=\"http://blog.biblio-globus.ru/profile/dc\">Активация дисконтной карты</a>\\n                            <a class=\"not_mobile ext_info\" target=\"_blank\" style=\"padding-right: 20px;\" href=\"http://blog.biblio-globus.ru/vendor/\">Кабинет поставщика</a>\\n                            <a class=\"\" style=\"padding-right: 0px;\" href=\"/information/corporate-customer-service\">Корпоративным клиентам</a>\\n                        </div>\\n\\n                    </div>\\n                </div>\\n            </div>\\n\\n\\n        </div>\\n\\n\\n        <div class=\"container\">\\n\\n            <div class=\"row service_nav_mobile\" id=\"service_nav_mobile\">\\n\\n                <div class=\"col-md-8 col-5\"></div>\\n                <div class=\"col-md-4 col-7\">\\n                    <div class=\"row\">\\n                        <div class=\"col-3\"></div>\\n                            <div class=\"col-3\"><div class=\"icon_mobile\" id=\"icon_cab1_mobile\"><i class=\"far fa-user-circle\" data-toggle=\"modal\" data-target=\"#login-modal\"></i></div></div>\\n                        <div class=\"col-3\">\\n                            <a href=\"/basket/detail\" class=\"icon_mobile\" id=\"icon_cab2_mobile\">\\n                                <i class=\"fas fa-shopping-cart\"></i>\\n                                    <div class=\"counter\">\\n                                        <span id=\"basket_quantity3\">\\n                                            0\\n                                        </span>\\n                                    </div>\\n                            </a>\\n                        </div>\\n\\n                        <div class=\"col-3\">\\n                            <a href=\"/favorites/list\" class=\"icon_mobile\" id=\"icon_cab2_mobile\">\\n                                <i class=\"fas fa-heart\"></i>\\n                                    <div class=\"counter\">\\n                                        <span id=\"wishlist_quantity3\">\\n                                            0\\n                                        </span>\\n                                    </div>\\n                            </a>\\n                        </div>\\n\\n                        \\n\\n                        <!-- <div class=\"col-3\"><a href=\"/information/trackinginfo\" class=\"icon_mobile\" id=\"icon_cab3_mobile\"><i class=\"fas fa-map-marker-alt\"></i></a></div> -->\\n\\n\\n                    </div>\\n                </div>\\n            </div>\\n\\n            <div class=\"row top_elements\">\\n                <div class=\"col-md-12 col-xl-4 col-lg-4 logo_mobile\" id=\"logo_mobile\">\\n                    <a href=\"/\" class=\"navbar-brand home\" title=\"Книжный интернет-магазин\">\\n                        <img src=\"/content/bg/img/logo.svg\" alt=\"Книжный интернет-магазин\" class=\"d-none d-md-none d-lg-inline-block d-xl-none logo_medium\">\\n                        <img src=\"/content/bg/img/logo.svg\" alt=\"Книжный интернет-магазин\" class=\"d-none d-md-none d-lg-none d-xl-inline-block logo_large\">\\n                        <img src=\"/content/bg/img/logo.svg\" alt=\"Книжный интернет-магазин\" class=\"d-md-inline-block d-md-none d-lg-none d-xl-none logo_small\">\\n                        <span class=\"sr-only\">bgshop.ru</span>\\n                    </a>\\n                </div>\\n                <div class=\"col-md-12 col-xl-5 col-lg-5\">\\n\\n                    <div id=\"search\" class=\"show\">\\n                        <div class=\"container search_mobile\" id=\"search_mobile\">\\n                            <div class=\"row\">\\n                                <div class=\"col-2 col-sm-2 d-lg-none\" style=\"padding-top:20px; padding-right:0; width:100%;\">\\n                                    <button class=\"btn btn-primary\" id=\"icon_cab4_mobile\" data-toggle=\"collapse\" data-target=\"#navigation2\"><i class=\"fas fa-bars\" style=\"font-size:1rem;\"></i></button>\\n\\n                                </div>\\n                                <div class=\"col-10 col-sm-10 col-md-10 col-lg-12\">\\n                                    <form action=\"/Search\" role=\"search\" id=\"searchForm\" class=\"ml-auto\" name=\"\" method=\"post\">\\n                                        <div class=\"input-group\" id=\"search_fields\">\\n\\n                                                    <div class=\"input-group-prepend\">\\n                                                        <div class=\"search-categories-btn-wrapper\">\\n                                                            <div class=\"search-categories-btn-active d-none\" id=\"searchCategoriesBtnActive\">\\n                                                                <span id=\"search-categories-btn-text-active\">Везде.</span> <i class=\"bi bi-x-circle-fill search-categories-btn-delete\"></i>\\n                                                            </div>\\n                                                            <div class=\"search-categories-btn\" id=\"searchCategoriesBtn\">\\n                                                                <span id=\"search-categories-btn-text\">Везде</span> <i class=\"fas fa-sort-down search-categories-btn-arrow\" aria-hidden=\"true\"></i>\\n                                                            </div>\\n                                                        </div>\\n                                                    </div>\\n                                                    <input type=\"hidden\" name=\"cat\" id=\"SearchCategory\">\\n\\n                                                <input type=\"text\" name=\"query\" id=\"SearchBooks\" placeholder=\"Поиск...\" value=\"Python\" class=\"form-control ui-autocomplete-input\" autocomplete=\"off\">\\n\\n                                            <div class=\"input-group-append\" style=\"cursor: pointer;\" id=\"clear-btn-wrapper\">\\n                                                <button tabindex=\"100\" title=\"\" class=\"btn btn-outline-search\" id=\"clear-btn\" type=\"button\">\\n                                                    <i class=\"fas fa-times\" id=\"clear-btn-icon\" style=\"visibility: visible;\"></i>\\n                                                </button>\\n                                            </div>\\n                                            <div class=\"input-group-append\">\\n                                                <button id=\"SearchButton\" type=\"submit\" class=\"btn btn-primary\"><i class=\"fa fa-search\"></i></button>\\n                                            </div>\\n                                        </div>\\n                                    </form>\\n                                </div>\\n                            </div>\\n                        </div>\\n                        <ul id=\"history\"></ul>\\n                    <ul id=\"ui-id-1\" tabindex=\"0\" class=\"ui-menu ui-widget ui-widget-content ui-autocomplete ui-front\" unselectable=\"on\" style=\"display: none;\"></ul></div>\\n\\n                    <!---->\\n                    <nav class=\"navbar navbar-expand-lg d-lg-none\">\\n\\n                        <div class=\"container\">\\n                            <div class=\"navbar-buttons\">\\n                                <button type=\"button\" data-toggle=\"collapse\" data-target=\"#navigation2\" class=\"btn btn-outline-secondary navbar-toggler nav_mobile\"><span class=\"sr-only\">Toggle navigation</span><i class=\"fa fa-align-justify\"></i></button>\\n                            </div>\\n                            <div id=\"navigation2\" class=\"collapse navbar-collapse\">\\n                                <ul class=\"navbar-nav mr-auto\">\\n                                    <li class=\"nav-item-top\"><a href=\"/catalog/categories\" class=\"nav-link\">Каталог</a></li>\\n                                    <li class=\"nav-item-top\"><a href=\"/information/page/akcii\" class=\"nav-link\">Акции</a></li>\\n                                    <li class=\"nav-item-top\"><a href=\"/catalog/group?id=444&amp;page=1&amp;sort=1\" class=\"nav-link\">Новинки</a></li>\\n                                    <li class=\"nav-item-top\"><a href=\"/catalog/group?id=535&amp;page=1&amp;sort=0&amp;inStock=on\" class=\"nav-link\">Лидеры&nbsp;продаж</a></li>\\n\\n                                    <!-- <li class=\"nav-item-top\"><a href=\"/information/news\" class=\"nav-link\">Библио-новости</a></li> -->\\n\\n\\n                                    <li class=\"nav-item-top dropdown\">\\n                                        <a class=\"nav-link dropdown-toggle\" href=\"#\" role=\"button\" data-toggle=\"dropdown\" aria-expanded=\"false\">\\n                                            Медиацентр\\n                                        </a>\\n                                        <div class=\"dropdown-menu\">\\n                                            <a class=\"dropdown-item\" href=\"/mediacenter/about\">О медиацентре </a>\\n                                            <a class=\"dropdown-item\" href=\"/mediacenter/events\">Анонсы</a>\\n                                            <a class=\"dropdown-item\" href=\"/mediacenter/news\">Новости </a>\\n                                            <a class=\"dropdown-item\" href=\"/mediacenter/videos/31/1\">Видео </a>\\n                                            <!--<a class=\"dropdown-item\" href=\"/information/page/forma-zayavki\">Форма заявки  </a>\\n                                            <a class=\"dropdown-item\" href=\"/information/page/kontakty-mediacentra\">Контакты медиацентра</a>-->\\n                                        </div>\\n                                    </li>\\n                                    <li class=\"nav-item-top\"><a href=\"/information/loyalty-program\" class=\"nav-link\">Программа лояльности</a></li>\\n                                    <li class=\"nav-item-top\"><a href=\"/catalog/antiques\" class=\"nav-link\">Антиквариат</a></li>\\n                                    <li class=\"nav-item-top\"><a href=\"/information/page/dostavka-i-oplata\" class=\"nav-link\">Доставка</a></li>\\n                                    <li class=\"nav-item-top\"><a href=\"/information/corporate-customer-service\" class=\"nav-link\">VIP</a></li>\\n                                    <li class=\"nav-item-top dropdown\">\\n                                        <a class=\"nav-link dropdown-toggle\" href=\"/information/page/o-kompanii\" role=\"button\" data-toggle=\"dropdown\" aria-expanded=\"false\">\\n                                            О компании\\n                                        </a>\\n                                        <div class=\"dropdown-menu\">\\n                                            <a class=\"dropdown-item\" href=\"/information/page/dokumenty\">Документы </a>\\n                                            <a class=\"dropdown-item\" href=\"/information/page/nashi-nagrady\">Наши награды </a>\\n                                            <a class=\"dropdown-item\" href=\"/information/page/vakansii\">Вакансии </a>\\n                                            <a class=\"dropdown-item\" href=\"/information/page/kontaktnaya-informaciya\">Контакты </a>\\n                                        </div>\\n\\n                                    </li>\\n                                    <li class=\"nav-item-top d-none\"><a href=\"/information/page/kontaktnaya-informaciya\" class=\"nav-link\">Контакты</a></li>\\n\\n                                </ul>\\n                            </div>\\n                        </div>\\n\\n                    </nav>\\n                    <!---->\\n\\n                </div>\\n                <div class=\"col-md-12 col-xl-3 col-lg-3 service_nav_desktop\">\\n                    <div class=\"row\">\\n                            <div class=\"col-xl-4 col-lg-4\" data-toggle=\"modal\" data-target=\"#login-modal\"><div class=\"icon\" id=\"icon_cab1\"><i class=\"far fa-user-circle\"></i><div class=\"icon_title\">Войти</div></div></div>\\n                        <div class=\"col-xl-4 col-lg-4\">\\n                            <a href=\"/basket/detail\" class=\"icon\" id=\"icon_cab2\">\\n                                <i class=\"fas fa-shopping-cart\"></i><div class=\"icon_title\">Корзина</div>\\n\\n                                    <div style=\"background:#d70834; position:absolute; top:-10px; right:-10px; text-align:center; vertical-align:middle;border-radius:4px; margin:0; padding:0 .4rem;\">\\n                                        <span id=\"basket_quantity1\" style=\"color:#ffffff; font-weight:bold; font-size:.75rem; line-height:1.2rem;\">\\n                                            0\\n                                        </span>\\n                                    </div>\\n                            </a>\\n                        </div>\\n\\n                        <div class=\"col-xl-4 col-lg-4\">\\n                            <a href=\"/favorites/list\" class=\"icon\" id=\"icon_cab2\">\\n                                <i class=\"fas fa-heart\" style=\"font-size: 1.2rem; color: #444; \"></i><div class=\"icon_title\" style=\"margin-left:-10px;\">Избранное</div>\\n\\n                                    <div style=\"background:#d70834; position:absolute; top:-10px; right:-10px; text-align:center; vertical-align:middle;border-radius:4px; margin:0; padding:0 .4rem;\">\\n                                        <span id=\"wishlist_quantity1\" style=\"color:#ffffff; font-weight:bold; font-size:.75rem; line-height:1.2rem;\">\\n                                            0\\n                                        </span>\\n                                    </div>\\n                            </a>\\n                        </div>\\n\\n                        \\n\\n                        <!-- <div class=\"col-xl-4 col-lg-4\"><a href=\"/information/trackinginfo\" class=\"icon\" id=\"icon_cab3\"><i class=\"fas fa-map-marker-alt\"></i><div class=\"icon_title\">Отследить</div></a></div> -->\\n\\n                    </div>\\n                </div>\\n\\n            </div>\\n        </div>\\n\\n        <nav class=\"navbar navbar-expand-md navbar-dark fixed-top bg-dark\" style=\"display:none;\">\\n\\n            <div class=\"container row wide\" style=\"margin:0 auto !important;\">\\n\\n                <div class=\"collapse navbar-collapse col-lg-9 col-xl-9 order-2 order-sm-2 order-md-2 order-lg-1 order-xl-1\" id=\"navbarsExample07XL\">\\n\\n                    <ul class=\"navbar-nav mr-auto\">\\n                        <li class=\"nav-item\">\\n                            <a class=\"nav-link\" href=\"\"></a>\\n                        </li>\\n                    </ul>\\n\\n                    <ul class=\"navbar-nav mr-auto mobile-nav\">\\n                        <li class=\"nav-item dropdown mobile-nav\">\\n                            <a class=\"nav-link dropdown-toggle\" href=\"#\" id=\"dropdown08XL\" data-toggle=\"dropdown\" aria-expanded=\"false\">Каталог</a>\\n                            <div class=\"dropdown-menu\" aria-labelledby=\"dropdown08XL\">\\n\\n                                <a class=\"dropdown-item\" href=\"\"><span class=\"fa-li\"><i class=\"fas fa-angle-right\"></i></span>&nbsp;</a>\\n\\n                            </div>\\n                        </li>\\n                    </ul>\\n\\n                </div>\\n\\n                <div class=\"col-sm-12 col-md-12 col-lg-3 col-xl-3 order-1 order-sm-1 order-md-1 order-lg-2 order-xl-2 wide search-form\">\\n                    <form method=\"get\" class=\"form-row\">\\n                        <div class=\"col-2 col-sm-2 col-md-2 d-lg-none d-xl-none\">\\n                            <button class=\"navbar-toggler btn-sm navbar-toggler-btn\" type=\"button\" data-toggle=\"collapse\" data-target=\"#navbarsExample07XL\" aria-controls=\"navbarsExample07XL\" aria-expanded=\"false\" aria-label=\"Toggle navigation\">\\n                                <i class=\"fa-solid fa-bars\"></i>\\n                            </button>\\n                        </div>\\n                        <div class=\"col-10 col-sm-10 col-md-10 col-lg-12 col-xl-12\">\\n                            <span role=\"status\" aria-live=\"polite\" class=\"ui-helper-hidden-accessible\"></span>\\n                            <input type=\"text\" id=\"search-text\" name=\"q\" placeholder=\"Поиск\" role=\"searchbox\" class=\"InputBox\" autocomplete=\"off\">\\n                            <button type=\"submit\" id=\"search-btn\" class=\"Button\"><i class=\"fa-solid fa-magnifying-glass\"></i></button>\\n                        </div>\\n\\n                    </form>\\n\\n                </div>\\n            </div>\\n\\n        </nav>\\n\\n        <nav class=\"navbar navbar-expand-lg\">\\n\\n            <div class=\"container\">\\n                <div class=\"navbar-buttons\">\\n                    <button type=\"button\" data-toggle=\"collapse\" data-target=\"#navigation\" class=\"btn btn-outline-secondary navbar-toggler nav_mobile\"><span class=\"sr-only\">Toggle navigation</span><i class=\"fa fa-align-justify\"></i></button>\\n                </div>\\n                <div id=\"navigation\" class=\"collapse navbar-collapse\">\\n                    <ul class=\"navbar-nav mr-auto\">\\n                        <li class=\"nav-item-top\"><a href=\"/catalog/categories\" class=\"nav-link\" style=\"padding-left:0;\">Каталог</a></li>\\n                        <li class=\"nav-item-top\"><a href=\"/information/page/akcii\" class=\"nav-link\">Акции</a></li>\\n\\n                        <!--\\n                        <li class=\"nav-item-top\"><a href=\"/catalog/group?id=444&page=1&sort=1\" class=\"nav-link\">Новинки</a></li>\\n                        <li class=\"nav-item-top\"><a href=\"/catalog/group?id=535&page=1&sort=0&inStock=on\" class=\"nav-link\">Лидеры&nbsp;продаж</a></li>\\n                            -->\\n                        <!-- <li class=\"nav-item-top\"><a href=\"/information/preorder\" class=\"nav-link\">Скоро в продаже</a></li> -->\\n\\n                        <li class=\"nav-item-top dropdown\">\\n                            <a class=\"nav-link dropdown-toggle\" href=\"#\" role=\"button\" data-toggle=\"dropdown\" aria-expanded=\"false\">\\n                                Медиацентр\\n                            </a>\\n                            <div class=\"dropdown-menu\">\\n                                <a class=\"dropdown-item\" href=\"/mediacenter/about\">О медиацентре </a>\\n                                <a class=\"dropdown-item\" href=\"/mediacenter/events\">Анонсы</a>\\n                                <a class=\"dropdown-item\" href=\"/mediacenter/news\">Новости </a>\\n                                <a class=\"dropdown-item\" href=\"/mediacenter/videos/31/1\">Видео </a>\\n                                <!--<a class=\"dropdown-item\" href=\"/information/page/forma-zayavki\">Форма заявки  </a>\\n                                <a class=\"dropdown-item\" href=\"/information/page/kontakty-mediacentra\">Контакты медиацентра</a> -->\\n                            </div>\\n                        </li>\\n\\n                        <li class=\"nav-item-top\"><a href=\"/information/loyalty-program\" class=\"nav-link\">Программа лояльности</a></li>\\n                        <li class=\"nav-item-top\"><a href=\"/catalog/antiques\" class=\"nav-link\">Антиквариат</a></li>\\n                        <li class=\"nav-item-top\"><a href=\"/information/page/dostavka-i-oplata\" class=\"nav-link\">Доставка</a></li>\\n                        <li class=\"nav-item-top\"><a href=\"/information/corporate-customer-service\" class=\"nav-link\">VIP</a></li>\\n                        <li class=\"nav-item-top dropdown\">\\n                            <a class=\"nav-link dropdown-toggle\" href=\"/information/page/o-kompanii\" role=\"button\" data-toggle=\"dropdown\" aria-expanded=\"false\">\\n                                О компании\\n                            </a>\\n                            <div class=\"dropdown-menu\">\\n                                <a class=\"dropdown-item\" href=\"/information/page/dokumenty\">Документы </a>\\n                                <a class=\"dropdown-item\" href=\"/information/page/nashi-nagrady\">Наши награды </a>\\n                                <a class=\"dropdown-item\" href=\"/information/page/vakansii\">Вакансии </a>\\n                                <a class=\"dropdown-item\" href=\"/information/page/kontaktnaya-informaciya\">Контакты </a>\\n                            </div>\\n\\n                        </li>\\n                        <li class=\"nav-item-top d-none\"><a href=\"/information/page/kontaktnaya-informaciya\" class=\"nav-link\">Контакты</a></li>\\n\\n                    </ul>\\n                </div>\\n            </div>\\n\\n        </nav>\\n    </header>\\n\\n\\n    <!-- -->\\n    <div class=\"modal fade text-center py-5\" id=\"subscribeModal\" tabindex=\"-1\" role=\"dialog\" aria-labelledby=\"exampleModalLabel\" aria-hidden=\"true\">\\n        <div class=\"modal-dialog modal-md\" role=\"document\">\\n            <div class=\"modal-content\">\\n                <div class=\"modal-body\">\\n                    <div class=\"top-strip\"></div>\\n                    <h3 id=\"feedback\" class=\"pt-5 mb-0 text-secondary\" style=\"padding-bottom:15px;\">Заказать обратный звонок</h3>\\n\\n                    <div class=\"input-group mb-3 w-75 mx-auto\">\\n                        <textarea placeholder=\"Ф.И.О.\" id=\"good\" class=\"form-control\"></textarea>\\n                    </div>\\n                    <div class=\"input-group mb-3 w-75 mx-auto\">\\n                        <textarea placeholder=\"Телефон\" id=\"bad\" class=\"form-control\"></textarea>\\n                    </div>\\n                    <div class=\"input-group mb-3 w-75 mx-auto\">\\n                        <textarea placeholder=\"E-mail\" id=\"change\" class=\"form-control\"></textarea>\\n                    </div>\\n                    <div class=\"input-group-append\" id=\"submit-btn\">\\n                        <button style=\"margin:0 auto;\" class=\"btn btn-primary\" type=\"button\" id=\"button-addon2\">Заказать <i class=\"fa fa-paper-plane\"></i></button>\\n                        <input type=\"hidden\" id=\"GoogleCaptchaToken\">\\n                    </div>\\n\\n                    <p class=\"pb-1 text-muted\" style=\"padding-top:10px;\"><small>&nbsp;</small></p>\\n                    <div class=\"bottom-strip\"></div>\\n                </div>\\n            </div>\\n        </div>\\n    </div>\\n    <!-- -->\\n    <div id=\"login-modal\" tabindex=\"-1\" role=\"dialog\" aria-labelledby=\"Login\" aria-hidden=\"true\" class=\"modal fade\">\\n        <div class=\"modal-dialog modal-sm\">\\n            <div class=\"modal-content\">\\n                <div class=\"modal-header\">\\n                    <h5 class=\"modal-title\">Вход в личный кабинет</h5>\\n                    <button type=\"button\" data-dismiss=\"modal\" aria-label=\"Close\" class=\"close\"><span aria-hidden=\"true\">×</span></button>\\n                </div>\\n                <div class=\"modal-body\">\\n<form action=\"/auth/login\" class=\"bootstrap-frm2\" method=\"post\">                        <div class=\"form-group\">\\n                            <input id=\"email-modal\" type=\"text\" name=\"UserName\" placeholder=\"Логин / Телефон / e-mail\" class=\"form-control\">\\n                        </div>\\n                        <div class=\"form-group\">\\n                            <div class=\"input-group\"><input id=\"password-modal\" type=\"password\" placeholder=\"Пароль\" name=\"Password\" data-toggle=\"password\" class=\"form-control\"><input type=\"text\" class=\"form-control\" placeholder=\"Пароль\" style=\"display: none;\"><div class=\"input-group-append\" style=\"cursor: pointer;\"><button tabindex=\"100\" title=\"\" class=\"btn btn-outline-secondary\" type=\"button\">\\n      <i class=\"icon-eye-open fa fa-eye\">\\n      \\n      </i></button></div></div>\\n                        </div>\\n                        <p class=\"text-center\" style=\"margin-block:15px;\">\\n                            <button class=\"btn btn-primary btn-block\" style=\"font-size:.9rem;\">Войти</button>\\n                        </p>\\n                        <p class=\"text-center text-muted\" style=\"font-size:.85rem; margin-bottom:0;\"><a href=\"/customer/restore\">Забыли пароль?</a></p>\\n</form>\\n                    <div class=\"extra-title\"><span>или</span></div>\\n\\n                    <a href=\"/register/register\" class=\"btn btn-primary btn-block d-none\" style=\"margin-bottom:15px;\">Зарегистрироваться</a>\\n\\n\\n                    <div class=\"row\">\\n                        <div class=\"col-6 pr-1\">\\n                            <a href=\"/register/register\" class=\"btn btn-primary btn-block\" style=\"margin-bottom:15px; line-height:16px;\"><span style=\"font-size:.9rem;\">Регистрация</span><br><span style=\"font-size:.7rem;\">физического лица</span></a>\\n                        </div>\\n                        <div class=\"col-6 pl-1\">\\n                            <a href=\"/register/registerlegalentity\" class=\"btn btn-primary btn-block\" style=\"margin-bottom: 15px; line-height: 16px;\"><span style=\"font-size:.9rem;\">Регистрация</span><br><span style=\"font-size:.7rem;\">юридического лица</span></a>\\n                        </div>\\n                    </div>\\n\\n                    <p class=\"text-left text-muted\" style=\"font-size:.8rem;\">\\n                        Регистрация позволит получить доступ к специальным предложениям biblio-globus.ru и упростить оформление следующих заказов.\\n                    </p>\\n\\n                </div>\\n            </div>\\n        </div>\\n    </div>\\n\\n\\n    <div id=\"smi-modal\" tabindex=\"-1\" role=\"dialog\" aria-labelledby=\"Login\" aria-hidden=\"true\" class=\"modal fade\">\\n        <div class=\"modal-dialog modal-md\">\\n            <div class=\"modal-content\">\\n                <div class=\"modal-header\">\\n                    <h5 class=\"modal-title\">Заявка на аккредитацию</h5>\\n                    <button type=\"button\" data-dismiss=\"modal\" aria-label=\"Close\" class=\"close\"><span aria-hidden=\"true\">×</span></button>\\n                </div>\\n                <div class=\"modal-body\">\\n\\n                    <div id=\"smi-result\"></div>\\n\\n                    <div id=\"smi-form\">\\n                        <div class=\"form-group\">\\n                            <input type=\"text\" name=\"SmiTitle\" id=\"smiTitle\" placeholder=\"Наименование СМИ\" class=\"form-control\">\\n                        </div>\\n\\n                        <div class=\"form-group\">\\n                            <input type=\"text\" name=\"SmiLastName\" id=\"smiLastName\" placeholder=\"Фамилия*\" class=\"form-control\">\\n                        </div>\\n\\n                        <div class=\"form-group\">\\n                            <input type=\"text\" name=\"SmiName\" id=\"smiName\" placeholder=\"Имя*\" class=\"form-control\">\\n                        </div>\\n\\n                        <div class=\"form-group\">\\n                            <input type=\"text\" name=\"SmiPhone\" id=\"smiPhone\" placeholder=\"Телефон*\" class=\"form-control\">\\n                        </div>\\n\\n                        <div class=\"form-group\">\\n                            <input type=\"text\" name=\"SmiEmail\" id=\"smiEmail\" placeholder=\"E-mail*\" class=\"form-control\">\\n                        </div>\\n\\n                        <div class=\"form-group\">\\n                            <input type=\"text\" name=\"SmiTarget\" id=\"smiTarget\" placeholder=\"Цель обращения*\" class=\"form-control\">\\n                        </div>\\n\\n                        <div class=\"form-group\">\\n                            <textarea type=\"text\" name=\"SmiComment\" id=\"smiComment\" placeholder=\"Комментарии\" class=\"form-control\"></textarea>\\n                        </div>\\n\\n                        <div class=\"input-group mb-3 \">\\n                            <!--\\n                            <input type=\"checkbox\" id=\"isAccept\" class=\"form-control\" name=\"isAccept\" />\\n                            <label for=\"isAccept\">Соглашаюсь c правилами публикации отзывов</label>\\n                            -->\\n                            <div class=\"form-check my-2\">\\n                                <input class=\"form-check-input\" type=\"checkbox\" id=\"smiIsAccept\" name=\"SmiIsAccept\">\\n                                <label class=\"form-check-label\" for=\"smiIsAccept\" id=\"smiIsAcceptLabel\" style=\"font-size:.8rem;\">\\n                                    Даю согласие на обработку персональных данных в соответствии с Политикой конфиденциальности  Медиацентра «БИБЛИО-ГЛОБУС»\\n                                </label>\\n                                <input type=\"hidden\" id=\"GoogleReCaptchaSmiToken\">\\n                            </div>\\n\\n                        </div>\\n\\n                        <p class=\"text-center\" id=\"smiSubmitwrapper\" style=\"margin-block:15px;\">\\n                            <button class=\"btn btn-primary btn-lg btn-block disabled\" id=\"smiSubmit\">Отправить</button>\\n                        </p>\\n                    </div>\\n\\n                </div>\\n            </div>\\n        </div>\\n    </div>\\n\\n\\n        <div id=\"in-stock-modal\" tabindex=\"-1\" role=\"dialog\" aria-labelledby=\"Login\" aria-hidden=\"true\" class=\"modal fade\">\\n            <div class=\"modal-dialog modal-dialog-centered modal-md\">\\n                <div class=\"modal-content\">\\n                    <div class=\"modal-header\">\\n                        <h5 class=\"modal-title\">Уведомление о поступлении в продажу</h5>\\n                        <button type=\"button\" data-dismiss=\"modal\" aria-label=\"Close\" class=\"close\"><span aria-hidden=\"true\">×</span></button>\\n                    </div>\\n                    <div class=\"modal-body\">\\n\\n                        <div id=\"in-stock-result\" class=\"py-2\"></div>\\n\\n\\n                        <div id=\"in-stock-form\">\\n\\n                            <div class=\"form-group\">\\n                                <input type=\"number\" name=\"InStockQuantity\" id=\"inStockQuantity\" placeholder=\"Количество экземпляров*\" class=\"form-control\">\\n                            </div>\\n\\n                            <div class=\"form-group\">\\n                                <input type=\"text\" name=\"InStockName\" id=\"inStockName\" placeholder=\"Имя*\" class=\"form-control\">\\n                            </div>\\n\\n                            <div class=\"form-group\">\\n                                <input type=\"text\" name=\"InStockPhone\" id=\"inStockPhone\" placeholder=\"Телефон*\" autocomplete=\"off\" class=\"form-control\">\\n                            </div>\\n\\n                            <div class=\"form-group\">\\n                                <input type=\"text\" name=\"InStockEmail\" id=\"inStockEmail\" placeholder=\"E-mail*\" class=\"form-control\">\\n                            </div>\\n\\n                            <div class=\"input-group mb-3 \">\\n                                <div class=\"form-check my-2\">\\n                                    <input class=\"form-check-input\" type=\"checkbox\" id=\"inStockIsAccept\" name=\"InStockIsAccept\">\\n                                    <label class=\"form-check-label\" for=\"inStockIsAccept\" id=\"inStockIsAcceptLabel\" style=\"font-size:.8rem;\">\\n                                        Даю согласие на обработку персональных данных в соответствии с <a href=\"/information/page/polzovatelskoe-soglashenie-o-konfidencialnosti\" target=\"_blank\">Политикой конфиденциальности «БИБЛИО-ГЛОБУС»</a>\\n                                    </label>\\n                                    <input type=\"hidden\" id=\"GoogleReCaptchaInStockToken\">\\n                                    <input type=\"hidden\" id=\"inStockNotifyProductId\">\\n                                </div>\\n                            </div>\\n\\n                            <p class=\"text-center\" id=\"inStockSubmitwrapper\" style=\"margin-block:15px;\">\\n                                <button class=\"btn btn-primary btn-lg btn-block disabled\" id=\"inStockSubmit\"><i class=\"bi bi-envelope-fill\"></i> Cообщить о поступлении</button>\\n                            </p>\\n                        </div>\\n                    </div>\\n                </div>\\n            </div>\\n        </div>\\n\\n\\n\\n    <div id=\"event-modal\" tabindex=\"-1\" role=\"dialog\" aria-labelledby=\"Login\" aria-hidden=\"true\" class=\"modal fade\">\\n        <div class=\"modal-dialog modal-md\">\\n            <div class=\"modal-content\">\\n                <div class=\"modal-header\">\\n                    <h5 class=\"modal-title\">Заявка на организацию мероприятий </h5>\\n                    <button type=\"button\" data-dismiss=\"modal\" aria-label=\"Close\" class=\"close\"><span aria-hidden=\"true\">×</span></button>\\n                </div>\\n                <div class=\"modal-body\">\\n\\n                    <div id=\"event-result\"></div>\\n                    <div id=\"event-form\">\\n                        <div class=\"form-group\">\\n                            <input type=\"text\" name=\"EventOrganization\" id=\"eventOrganization\" placeholder=\"Организация*\" class=\"form-control\">\\n                        </div>\\n\\n                        <div class=\"form-group\">\\n                            <input type=\"text\" name=\"EventLastName\" id=\"eventLastName\" placeholder=\"Фамилия*\" class=\"form-control\">\\n                        </div>\\n\\n                        <div class=\"form-group\">\\n                            <input type=\"text\" name=\"EventName\" id=\"eventName\" placeholder=\"Имя*\" class=\"form-control\">\\n                        </div>\\n\\n                        <div class=\"form-group\">\\n                            <input type=\"text\" name=\"EventPhone\" id=\"eventPhone\" placeholder=\"Телефон*\" class=\"form-control\">\\n                        </div>\\n\\n                        <div class=\"form-group\">\\n                            <input type=\"text\" name=\"EventEmail\" id=\"eventEmail\" placeholder=\"E-mail*\" class=\"form-control\">\\n                        </div>\\n\\n                        <div class=\"form-group\">\\n                            <input type=\"text\" name=\"EventType\" id=\"eventType\" placeholder=\"Тип мероприятия*\" class=\"form-control\">\\n                        </div>\\n\\n                        <div class=\"form-group\">\\n                            <input type=\"text\" name=\"EventDate\" id=\"eventDate\" placeholder=\"Предпочтительные даты/время*\" class=\"form-control\">\\n                        </div>\\n\\n                        <div class=\"form-group\">\\n                            <input type=\"text\" name=\"EventQty\" id=\"eventQty\" placeholder=\"Количество участников*\" class=\"form-control\">\\n                        </div>\\n\\n                        <div class=\"form-group\">\\n                            <textarea type=\"text\" name=\"EventDescription\" id=\"eventDescription\" placeholder=\"Описание мероприятия\" class=\"form-control\"></textarea>\\n                        </div>\\n\\n                        <div class=\"form-group\">\\n                            <input type=\"text\" name=\"EventBuffet\" id=\"eventBuffet\" placeholder=\"Фуршет\" class=\"form-control\">\\n                        </div>\\n\\n\\n                        <div class=\"form-check my-2\">\\n                            <input class=\"form-check-input\" type=\"checkbox\" id=\"eventIsAccept\" name=\"isAccept\">\\n                            <label class=\"form-check-label\" for=\"eventIsAccept\" id=\"eventIsAcceptLabel\" style=\"font-size:.8rem;\">\\n                                Даю согласие на обработку персональных данных в соответствии с Политикой конфиденциальности  Медиацентра «БИБЛИО-ГЛОБУС»\\n                            </label>\\n                            <input type=\"hidden\" id=\"GoogleReCaptchaEventToken\">\\n                        </div>\\n\\n                        <p class=\"text-center\" style=\"margin-block:15px; \" id=\"eventSubmitwrapper\">\\n                            <button class=\"btn btn-primary btn-lg btn-block disabled\" id=\"eventSubmit\">Отправить</button>\\n                        </p>\\n                    </div>\\n\\n                </div>\\n            </div>\\n        </div>\\n    </div>\\n\\n\\n    <iframe allow=\"join-ad-interest-group\" data-tagging-id=\"G-XQBB831D6S\" data-load-time=\"1732439067368\" height=\"0\" width=\"0\" src=\"https://td.doubleclick.net/td/ga/rul?tid=G-XQBB831D6S&amp;gacid=1964495392.1732438969&amp;gtm=45je4bk0v9134482317z8895486594za200zb895486594&amp;dma=0&amp;gcd=13l3l3l3l1l1&amp;npa=0&amp;pscdl=noapi&amp;aip=1&amp;fledge=1&amp;frm=0&amp;tag_exp=101925629~102067555~102067808~102077855~102081485&amp;z=1181658829\" style=\"display: none; visibility: hidden;\"></iframe><div class=\"all\" id=\"all\">\\n        <div id=\"content\" class=\"f_bl\">\\n            <div class=\"container\">\\n                <div class=\"row\">\\n                    \\n\\n\\n    \\n\\n\\n\\n\\n\\n\\n<div class=\"col-lg-12\"><nav><ol class=\"breadcrumb bg-highlight\"><li class=\"breadcrumb-item\"><span style=\"color:#a42921; font-weight:bold;\">Дополнительная скидка 10% для заказов со способом доставки «Самовывоз». <a style=\"text-decoration:underline;\" target=\"_blank\" href=\"https://www.biblio-globus.ru/information/page/dopolnitelnaya-skidka-10-dlya-zakazov-sposobom-samovyvoz-\">Подробнее об условиях акции</a></span></li></ol></nav></div>\\n\\n<div class=\"col-lg-3 cat_top\" id=\"bg_navigation\">\\n    <!--\\n    *** MENUS AND FILTERS ***\\n    _________________________________________________________\\n    -->\\n    <div class=\"card sidebar-menu mb-4\">\\n        <div class=\"card-header\">\\n            <h3 class=\"h4 card-title\">Каталог</h3>\\n        </div>\\n        <div class=\"card-body\">\\n            <ul class=\"nav nav-pills flex-column category-menu\">\\n\\n                        <li>\\n                            <a href=\"/catalog/index/101\" class=\"nav-link\">Художественная литература</a>\\n\\n                        </li>\\n                        <li>\\n                            <a href=\"/catalog/index/6088\" class=\"nav-link\">Психология</a>\\n\\n                        </li>\\n                        <li>\\n                            <a href=\"/catalog/index/6089\" class=\"nav-link\">Бизнес. Продвижение. Экономика</a>\\n\\n                        </li>\\n                        <li>\\n                            <a href=\"/catalog/index/2419\" class=\"nav-link\">Информационные технологии</a>\\n\\n                        </li>\\n                        <li>\\n                            <a href=\"/catalog/index/6087\" class=\"nav-link\">Философия. Эзотерика. Религия </a>\\n\\n                        </li>\\n                        <li>\\n                            <a href=\"/catalog/index/192\" class=\"nav-link\">Гуманитарные и общественные науки</a>\\n\\n                        </li>\\n                        <li>\\n                            <a href=\"/catalog/index/193\" class=\"nav-link\">Естественные науки.  Математика</a>\\n\\n                        </li>\\n                        <li>\\n                            <a href=\"/catalog/index/194\" class=\"nav-link\">Прикладные науки. Техника. Сельское хозяйство</a>\\n\\n                        </li>\\n                        <li>\\n                            <a href=\"/catalog/index/200\" class=\"nav-link\">Книги для детей</a>\\n\\n                        </li>\\n                        <li>\\n                            <a href=\"/catalog/index/197\" class=\"nav-link\">Искусство</a>\\n\\n                        </li>\\n                        <li>\\n                            <a href=\"/catalog/index/2266\" class=\"nav-link\">Английский язык</a>\\n\\n                        </li>\\n                        <li>\\n                            <a href=\"/catalog/index/2267\" class=\"nav-link\">Немецкий язык</a>\\n\\n                        </li>\\n                        <li>\\n                            <a href=\"/catalog/index/2268\" class=\"nav-link\">Французский язык</a>\\n\\n                        </li>\\n                        <li>\\n                            <a href=\"/catalog/index/2265\" class=\"nav-link\">Другие языки</a>\\n\\n                        </li>\\n                        <li>\\n                            <a href=\"/catalog/index/195\" class=\"nav-link\">Медицина. Здоровье</a>\\n\\n                        </li>\\n                        <li>\\n                            <a href=\"/catalog/index/7\" class=\"nav-link\">Канцелярские товары</a>\\n\\n                        </li>\\n                        <li>\\n                            <a href=\"/catalog/index/196\" class=\"nav-link\">Хобби. Путешествия. Кулинария</a>\\n\\n                        </li>\\n                        <li>\\n                            <a href=\"/catalog/index/6191\" class=\"nav-link\">Юриспруденция. Право</a>\\n\\n                        </li>\\n                        <li>\\n                            <a href=\"/catalog/index/6270\" class=\"nav-link\">Спорт. Красота. Здоровье</a>\\n\\n                        </li>\\n                        <li>\\n                            <a href=\"/catalog/index/2\" class=\"nav-link\">Учебники</a>\\n\\n                        </li>\\n                        <li>\\n                            <a href=\"/catalog/index/6\" class=\"nav-link\">Антиквариат. Товары для Коллекционеров. Букинистика. Подарки</a>\\n\\n                        </li>\\n                        <li>\\n                            <a href=\"/catalog/index/2009\" class=\"nav-link\">Постеры. Плакаты. Календари</a>\\n\\n                        </li>\\n                        <li>\\n                            <a href=\"/catalog/index/4\" class=\"nav-link\">Аудио/Видео</a>\\n\\n                        </li>\\n\\n            </ul>\\n        </div>\\n    </div>\\n\\n\\n\\n\\n    <!-- *** MENUS AND FILTERS END ***-->\\n    <!-- <div class=\"banner\"><a href=\"#\"><img src=\"img/banner.jpg\" alt=\"sales 2014\" class=\"img-fluid\"></a></div> -->\\n</div>\\n\\n\\n\\n<div class=\"col-lg-9\">\\n    <div class=\"box title_box\">\\n                <h1>\\n                    Вы искали: <b>«Python»</b><br>\\n                </h1>\\n                    <p class=\"search-result-msg\">Найдено: 128 товаров</p>\\n            <div class=\"row\" style=\"margin-top:10px; margin-bottom:10px;\">\\n                <!-- <div class=\"col-md-12 col-lg-4 products-showing\">Showing <strong>12</strong> of <strong>25</strong> products</div> -->\\n                <div class=\"col-md-12 col-lg-12 products-number-sort\">\\n                    <form action=\"/catalog/search\" method=\"get\" name=\"sorting\" id=\"sorting\" class=\"form-inline d-block d-lg-flex justify-content-between flex-column flex-md-row\">\\n\\n                        <div class=\"form-row align-items-center\">\\n                            <!-- <div class=\"products-number\"><strong>Show</strong><a href=\"#\" class=\"btn btn-sm btn-primary\">12</a><a href=\"#\" class=\"btn btn-outline-secondary btn-sm\">24</a><a href=\"#\" class=\"btn btn-outline-secondary btn-sm\">All</a><span>products</span></div> -->\\n                            <input type=\"hidden\" name=\"page\" value=\"1\">\\n                            <input type=\"hidden\" name=\"query\" value=\"Python\">\\n\\n                                <input type=\"hidden\" name=\"cat\" value=\"0\">\\n\\n                            <div class=\"col-auto my-1\">\\n\\n                                <!-- <strong>Сортировка&nbsp;</strong> -->\\n                                <select onchange=\"document.getElementById(\\'sorting\\').submit();\" name=\"sort\" class=\"form-control sort-list\">\\n                                    <option selected=\"\\'selected\\'\" value=\"0\">\\n                                        По релевантности\\n                                    </option>\\n                                    <option value=\"6\">\\n                                        По популярности\\n                                    </option>\\n                                    <option value=\"1\">\\n                                        Сначала новые\\n                                    </option>\\n                                    <option value=\"4\">\\n                                        По цене (от большей к меньшей)\\n                                    </option>\\n                                    <option value=\"5\">\\n                                        По цене (от меньшей к большей)\\n                                    </option>\\n                                </select>\\n\\n                            </div>\\n\\n                            <div class=\"col-auto my-1\">\\n                                <div class=\"custom-control custom-checkbox mr-sm-2\">\\n                                    <input onchange=\"document.getElementById(\\'sorting\\').submit();\" type=\"checkbox\" class=\"custom-control-input bg_custom\" name=\"inStock\" id=\"inStock\">\\n                                    <label class=\"custom-control-label\" for=\"inStock\">В&nbsp;наличии</label>\\n                                </div>\\n                            </div>\\n                            <div class=\"col-auto my-1\" style=\"display:none;\">\\n                                <div class=\"custom-control custom-checkbox mr-sm-2\">\\n                                    <input onchange=\"document.getElementById(\\'sorting\\').submit();\" type=\"checkbox\" class=\"custom-control-input bg_custom\" name=\"isDiscount\" id=\"isDiscount\">\\n                                    <label class=\"custom-control-label\" for=\"isDiscount\">Со&nbsp;скидкой</label>\\n                                </div>\\n                            </div>\\n\\n                        </div>\\n\\n                    </form>\\n                </div>\\n            </div>\\n    </div>\\n\\n    <!--\\n        <div class=\"box info-bar\">\\n            <div class=\"row\">\\n                <div class=\"col-md-12 col-lg-4 products-showing\">Showing <strong>12</strong> of <strong>25</strong> products</div>\\n                <div class=\"col-md-12 col-lg-7 products-number-sort\">\\n                    <form class=\"form-inline d-block d-lg-flex justify-content-between flex-column flex-md-row\">\\n                        <div class=\"products-number\"><strong>Show</strong><a href=\"#\" class=\"btn btn-sm btn-primary\">12</a><a href=\"#\" class=\"btn btn-outline-secondary btn-sm\">24</a><a href=\"#\" class=\"btn btn-outline-secondary btn-sm\">All</a><span>products</span></div>\\n                        <div class=\"products-sort-by mt-2 mt-lg-0\">\\n                            <strong>Sort by</strong>\\n                            <select name=\"sort-by\" class=\"form-control\">\\n                                <option>Price</option>\\n                                <option>Name</option>\\n                                <option>Sales first</option>\\n                            </select>\\n                        </div>\\n                    </form>\\n                </div>\\n            </div>\\n        </div>\\n    -->\\n        <div class=\"row products\">\\n\\n                <div class=\"col-lg-3 col-md-4 col-sm-6 col-6 wrp_mobile\">\\n                    <div class=\"product\">\\n\\n                                                                                                                                                                                                \\n                        <a class=\"img_link\" href=\"/product/11014543\"><img src=\"https://static1.bgshop.ru/imagehandler.ashx?fileName=11014543.jpg&amp;width=200\" alt=\"\" class=\"img-fluid\"></a>\\n                        <div class=\"text\">\\n                                <div class=\"product-sm-used-placeholder\"></div>\\n                                                            <div class=\"author\">Шакин В. Н.</div>\\n                                <h3><a href=\"/product/11014543\" id=\"p_title_11014543\">Символьные математические вычисления средствами SymPy Python</a></h3>\\n\\n\\n                            \\n                                        <div class=\"prices_item\">\\n                                                    <div class=\"price_item_wrapper\"><span class=\"price_item_title\">Цена на сайте:</span> <div class=\"price_item_block\"><s>1509&nbsp;₽</s>&nbsp;<span class=\"price_item_new price_item_with_discount\">1358&nbsp;₽</span></div></div>\\n                                        </div>\\n\\n\\n                            \\n\\n\\n\\n                            \\n\\n                                    <p class=\"status im_status_title\">\\n                                        <span style=\"color: #3ba155;\"> в наличии</span>\\n                                        <span class=\"product-qty\">1 шт.</span>\\n                                    </p>\\n\\n                            \\n                                <div class=\"buttons row\">\\n                                    <div class=\"col-9 pl-0\">\\n                                            <span id=\"add_11014543\" onclick=\"AddToBasket(11014543)\" class=\"btn btn-block btn-primary\">В корзину</span>\\n                                            <a href=\"/Basket/Detail\" class=\"btn btn-primary add_but\" id=\"added_11014543\">Оформить <i class=\"fa fa-chevron-right\"></i></a>\\n                                    </div>\\n\\n                                    <div class=\"col-3 p-0\">\\n                                        \\n\\n                                            <span id=\"add_wishlist_11014543\" onclick=\"AddToWishlist(11014543)\" class=\"btn btn-light btn-block\"><i class=\"far fa-heart\" style=\"color: #aeaeae;\"></i></span>\\n                                            <span id=\"added_wishlist_11014543\" onclick=\"DeleteFromWishlist(11014543,false)\" class=\"btn btn-light added_wishlist btn-block\"><i class=\"fas fa-heart\" style=\"color: #d70834;\"></i></span>\\n                                    </div>\\n                                </div>\\n\\n\\n                        </div>\\n                        <!-- /.text-->\\n                    </div>\\n                    <!-- /.product            -->\\n                </div>\\n                <div class=\"col-lg-3 col-md-4 col-sm-6 col-6 wrp_mobile\">\\n                    <div class=\"product\">\\n\\n                                                                                                                                                                                                \\n                        <a class=\"img_link\" href=\"/product/11018917\"><img src=\"https://static1.bgshop.ru/imagehandler.ashx?fileName=11018917.jpg&amp;width=200\" alt=\"\" class=\"img-fluid\"></a>\\n                        <div class=\"text\">\\n                                <div class=\"product-sm-used-placeholder\"></div>\\n                                                            <div class=\"author\">Мэтиз Э.</div>\\n                                <h3><a href=\"/product/11018917\" id=\"p_title_11018917\">Изучаем Python: программирование игр, визуализация данных, веб-приложения. </a></h3>\\n\\n\\n                            \\n                                    <div class=\"prices_item\">\\n                                                <div class=\"price_item_wrapper\"><span class=\"price_item_title\">Цена на сайте:</span> <div class=\"price_item_block\">&nbsp;<span class=\"price_item_new\">1819&nbsp;₽</span></div></div>\\n                                    </div>\\n\\n\\n                            \\n\\n\\n\\n                            \\n\\n                                        <p class=\"status im_status_title\">\\n                                            <span style=\"color: #3ba155;\"> в наличии</span>\\n                                            <span class=\"product-qty\">2 шт.</span>\\n                                        </p>\\n\\n                            \\n                                <div class=\"buttons row\">\\n                                    <div class=\"col-9 pl-0\">\\n                                            <span id=\"add_11018917\" onclick=\"AddToBasket(11018917)\" class=\"btn btn-block btn-primary\">В корзину</span>\\n                                            <a href=\"/Basket/Detail\" class=\"btn btn-primary add_but\" id=\"added_11018917\">Оформить <i class=\"fa fa-chevron-right\"></i></a>\\n                                    </div>\\n\\n                                    <div class=\"col-3 p-0\">\\n                                        \\n\\n                                            <span id=\"add_wishlist_11018917\" onclick=\"AddToWishlist(11018917)\" class=\"btn btn-light btn-block\"><i class=\"far fa-heart\" style=\"color: #aeaeae;\"></i></span>\\n                                            <span id=\"added_wishlist_11018917\" onclick=\"DeleteFromWishlist(11018917,false)\" class=\"btn btn-light added_wishlist btn-block\"><i class=\"fas fa-heart\" style=\"color: #d70834;\"></i></span>\\n                                    </div>\\n                                </div>\\n\\n\\n                        </div>\\n                        <!-- /.text-->\\n                    </div>\\n                    <!-- /.product            -->\\n                </div>\\n                <div class=\"col-lg-3 col-md-4 col-sm-6 col-6 wrp_mobile\">\\n                    <div class=\"product\">\\n\\n                                                                                                                                                                                                \\n                        <a class=\"img_link\" href=\"/product/11014618\"><img src=\"https://static1.bgshop.ru/imagehandler.ashx?fileName=11014618.jpg&amp;width=200\" alt=\"\" class=\"img-fluid\"></a>\\n                        <div class=\"text\">\\n                                <div class=\"product-sm-used-placeholder\"></div>\\n                                                            <div class=\"author\">Юэнс-Кларк К.</div>\\n                                <h3><a href=\"/product/11014618\" id=\"p_title_11014618\">Python для начинающих: учимся программировать с помощью мини-игр и загадок</a></h3>\\n\\n\\n                            \\n                                        <div class=\"prices_item\">\\n                                                    <div class=\"price_item_wrapper\"><span class=\"price_item_title\">Цена на сайте:</span> <div class=\"price_item_block\"><s>2629&nbsp;₽</s>&nbsp;<span class=\"price_item_new price_item_with_discount\">2366&nbsp;₽</span></div></div>\\n                                        </div>\\n\\n\\n                            \\n\\n\\n\\n                            \\n\\n                                        <p class=\"status im_status_title\">\\n                                            <span style=\"color: #3ba155;\"> в наличии</span>\\n                                            <span class=\"product-qty\">2 шт.</span>\\n                                        </p>\\n\\n                            \\n                                <div class=\"buttons row\">\\n                                    <div class=\"col-9 pl-0\">\\n                                            <span id=\"add_11014618\" onclick=\"AddToBasket(11014618)\" class=\"btn btn-block btn-primary\">В корзину</span>\\n                                            <a href=\"/Basket/Detail\" class=\"btn btn-primary add_but\" id=\"added_11014618\">Оформить <i class=\"fa fa-chevron-right\"></i></a>\\n                                    </div>\\n\\n                                    <div class=\"col-3 p-0\">\\n                                        \\n\\n                                            <span id=\"add_wishlist_11014618\" onclick=\"AddToWishlist(11014618)\" class=\"btn btn-light btn-block\"><i class=\"far fa-heart\" style=\"color: #aeaeae;\"></i></span>\\n                                            <span id=\"added_wishlist_11014618\" onclick=\"DeleteFromWishlist(11014618,false)\" class=\"btn btn-light added_wishlist btn-block\"><i class=\"fas fa-heart\" style=\"color: #d70834;\"></i></span>\\n                                    </div>\\n                                </div>\\n\\n\\n                        </div>\\n                        <!-- /.text-->\\n                    </div>\\n                    <!-- /.product            -->\\n                </div>\\n                <div class=\"col-lg-3 col-md-4 col-sm-6 col-6 wrp_mobile\">\\n                    <div class=\"product\">\\n\\n                                                                                                                                                                                                \\n                        <a class=\"img_link\" href=\"/product/11015030\"><img src=\"https://static1.bgshop.ru/imagehandler.ashx?fileName=11015030.jpg&amp;width=200\" alt=\"\" class=\"img-fluid\"></a>\\n                        <div class=\"text\">\\n                                <div class=\"product-sm-used-placeholder\"></div>\\n                                                            <div class=\"author\">Успенский К.Е. </div>\\n                                <h3><a href=\"/product/11015030\" id=\"p_title_11015030\">Быстрый доступ. Python: советы, функции, подсказки. Шпаргалка-буклет для начинающих (215х285 мм, 6 полос компактного буклета в европодвесе)</a></h3>\\n\\n\\n                            \\n                                        <div class=\"prices_item\">\\n                                                    <div class=\"price_item_wrapper\"><span class=\"price_item_title\">Цена на сайте:</span> <div class=\"price_item_block\"><s>399&nbsp;₽</s>&nbsp;<span class=\"price_item_new price_item_with_discount\">359&nbsp;₽</span></div></div>\\n                                        </div>\\n\\n\\n                            \\n\\n\\n\\n                            \\n\\n                                        <p class=\"status im_status_title\">\\n                                            <span style=\"color: #3ba155;\"> в наличии</span>\\n                                            <span class=\"product-qty\">2 шт.</span>\\n                                        </p>\\n\\n                            \\n                                <div class=\"buttons row\">\\n                                    <div class=\"col-9 pl-0\">\\n                                            <span id=\"add_11015030\" onclick=\"AddToBasket(11015030)\" class=\"btn btn-block btn-primary\">В корзину</span>\\n                                            <a href=\"/Basket/Detail\" class=\"btn btn-primary add_but\" id=\"added_11015030\">Оформить <i class=\"fa fa-chevron-right\"></i></a>\\n                                    </div>\\n\\n                                    <div class=\"col-3 p-0\">\\n                                        \\n\\n                                            <span id=\"add_wishlist_11015030\" onclick=\"AddToWishlist(11015030)\" class=\"btn btn-light btn-block\"><i class=\"far fa-heart\" style=\"color: #aeaeae;\"></i></span>\\n                                            <span id=\"added_wishlist_11015030\" onclick=\"DeleteFromWishlist(11015030,false)\" class=\"btn btn-light added_wishlist btn-block\"><i class=\"fas fa-heart\" style=\"color: #d70834;\"></i></span>\\n                                    </div>\\n                                </div>\\n\\n\\n                        </div>\\n                        <!-- /.text-->\\n                    </div>\\n                    <!-- /.product            -->\\n                </div>\\n                <div class=\"col-lg-3 col-md-4 col-sm-6 col-6 wrp_mobile\">\\n                    <div class=\"product\">\\n\\n                                                                                                                                                                                                \\n                        <a class=\"img_link\" href=\"/product/10780215\"><img src=\"https://static1.bgshop.ru/imagehandler.ashx?fileName=10780215.jpg&amp;width=200\" alt=\"\" class=\"img-fluid\"></a>\\n                        <div class=\"text\">\\n                                <div class=\"product-sm-used-placeholder\"></div>\\n                                                            <div class=\"author\">Лейси Н.</div>\\n                                <h3><a href=\"/product/10780215\" id=\"p_title_10780215\">Python, например</a></h3>\\n\\n\\n                            \\n                                    <div class=\"prices_item\">\\n                                                <div class=\"price_item_wrapper\"><span class=\"price_item_title\">Цена на сайте:</span> <div class=\"price_item_block\">&nbsp;<span class=\"price_item_new\">1569&nbsp;₽</span></div></div>\\n                                    </div>\\n\\n\\n                            \\n\\n\\n\\n                            \\n\\n                                    <p class=\"status im_status_title\">\\n                                        <span style=\"color: #3ba155;\"> в наличии</span>\\n                                        <span class=\"product-qty\">1 шт.</span>\\n                                    </p>\\n\\n                            \\n                                <div class=\"buttons row\">\\n                                    <div class=\"col-9 pl-0\">\\n                                            <span id=\"add_10780215\" onclick=\"AddToBasket(10780215)\" class=\"btn btn-block btn-primary\">В корзину</span>\\n                                            <a href=\"/Basket/Detail\" class=\"btn btn-primary add_but\" id=\"added_10780215\">Оформить <i class=\"fa fa-chevron-right\"></i></a>\\n                                    </div>\\n\\n                                    <div class=\"col-3 p-0\">\\n                                        \\n\\n                                            <span id=\"add_wishlist_10780215\" onclick=\"AddToWishlist(10780215)\" class=\"btn btn-light btn-block\"><i class=\"far fa-heart\" style=\"color: #aeaeae;\"></i></span>\\n                                            <span id=\"added_wishlist_10780215\" onclick=\"DeleteFromWishlist(10780215,false)\" class=\"btn btn-light added_wishlist btn-block\"><i class=\"fas fa-heart\" style=\"color: #d70834;\"></i></span>\\n                                    </div>\\n                                </div>\\n\\n\\n                        </div>\\n                        <!-- /.text-->\\n                    </div>\\n                    <!-- /.product            -->\\n                </div>\\n                <div class=\"col-lg-3 col-md-4 col-sm-6 col-6 wrp_mobile\">\\n                    <div class=\"product\">\\n\\n                                                                                                                                                                                                \\n                        <a class=\"img_link\" href=\"/product/10898149\"><img src=\"https://static1.bgshop.ru/imagehandler.ashx?fileName=10898149.jpg&amp;width=200\" alt=\"\" class=\"img-fluid\"></a>\\n                        <div class=\"text\">\\n                                <div class=\"product-sm-used-placeholder\"></div>\\n                                                            <div class=\"author\">Виафоре П.</div>\\n                                <h3><a href=\"/product/10898149\" id=\"p_title_10898149\">Надежный Python</a></h3>\\n\\n\\n                            \\n                                        <div class=\"prices_item\">\\n                                                    <div class=\"price_item_wrapper\"><span class=\"price_item_title\">Цена на сайте:</span> <div class=\"price_item_block\"><s>1239&nbsp;₽</s>&nbsp;<span class=\"price_item_new price_item_with_discount\">1115&nbsp;₽</span></div></div>\\n                                        </div>\\n\\n\\n                            \\n\\n\\n\\n                            \\n\\n                                        <p class=\"status im_status_title\">\\n                                            <span style=\"color: #3ba155;\"> в наличии</span>\\n                                            <span class=\"product-qty\">2 шт.</span>\\n                                        </p>\\n\\n                            \\n                                <div class=\"buttons row\">\\n                                    <div class=\"col-9 pl-0\">\\n                                            <span id=\"add_10898149\" onclick=\"AddToBasket(10898149)\" class=\"btn btn-block btn-primary\">В корзину</span>\\n                                            <a href=\"/Basket/Detail\" class=\"btn btn-primary add_but\" id=\"added_10898149\">Оформить <i class=\"fa fa-chevron-right\"></i></a>\\n                                    </div>\\n\\n                                    <div class=\"col-3 p-0\">\\n                                        \\n\\n                                            <span id=\"add_wishlist_10898149\" onclick=\"AddToWishlist(10898149)\" class=\"btn btn-light btn-block\"><i class=\"far fa-heart\" style=\"color: #aeaeae;\"></i></span>\\n                                            <span id=\"added_wishlist_10898149\" onclick=\"DeleteFromWishlist(10898149,false)\" class=\"btn btn-light added_wishlist btn-block\"><i class=\"fas fa-heart\" style=\"color: #d70834;\"></i></span>\\n                                    </div>\\n                                </div>\\n\\n\\n                        </div>\\n                        <!-- /.text-->\\n                    </div>\\n                    <!-- /.product            -->\\n                </div>\\n                <div class=\"col-lg-3 col-md-4 col-sm-6 col-6 wrp_mobile\">\\n                    <div class=\"product\">\\n\\n                                                                                                                                                                                                \\n                        <a class=\"img_link\" href=\"/product/10954900\"><img src=\"https://static1.bgshop.ru/imagehandler.ashx?fileName=10954900.jpg&amp;width=200\" alt=\"\" class=\"img-fluid\"></a>\\n                        <div class=\"text\">\\n                                <div class=\"product-sm-used-placeholder\"></div>\\n                                                            <div class=\"author\">Антао Т.</div>\\n                                <h3><a href=\"/product/10954900\" id=\"p_title_10954900\">Сверхбыстрый PYTHON</a></h3>\\n\\n\\n                            \\n                                        <div class=\"prices_item\">\\n                                                    <div class=\"price_item_wrapper\"><span class=\"price_item_title\">Цена на сайте:</span> <div class=\"price_item_block\"><s>4089&nbsp;₽</s>&nbsp;<span class=\"price_item_new price_item_with_discount\">3680&nbsp;₽</span></div></div>\\n                                        </div>\\n\\n\\n                            \\n\\n\\n\\n                            \\n\\n                                        <p class=\"status im_status_title\">\\n                                            <span style=\"color: #3ba155;\"> в наличии</span>\\n                                            <span class=\"product-qty\">1 шт.</span>\\n                                        </p>\\n\\n                            \\n                                <div class=\"buttons row\">\\n                                    <div class=\"col-9 pl-0\">\\n                                            <span id=\"add_10954900\" onclick=\"AddToBasket(10954900)\" class=\"btn btn-block btn-primary\">В корзину</span>\\n                                            <a href=\"/Basket/Detail\" class=\"btn btn-primary add_but\" id=\"added_10954900\">Оформить <i class=\"fa fa-chevron-right\"></i></a>\\n                                    </div>\\n\\n                                    <div class=\"col-3 p-0\">\\n                                        \\n\\n                                            <span id=\"add_wishlist_10954900\" onclick=\"AddToWishlist(10954900)\" class=\"btn btn-light btn-block\"><i class=\"far fa-heart\" style=\"color: #aeaeae;\"></i></span>\\n                                            <span id=\"added_wishlist_10954900\" onclick=\"DeleteFromWishlist(10954900,false)\" class=\"btn btn-light added_wishlist btn-block\"><i class=\"fas fa-heart\" style=\"color: #d70834;\"></i></span>\\n                                    </div>\\n                                </div>\\n\\n\\n                        </div>\\n                        <!-- /.text-->\\n                    </div>\\n                    <!-- /.product            -->\\n                </div>\\n                <div class=\"col-lg-3 col-md-4 col-sm-6 col-6 wrp_mobile\">\\n                    <div class=\"product\">\\n\\n                                                                                                                                                                                                \\n                        <a class=\"img_link\" href=\"/product/10877909\"><img src=\"https://static1.bgshop.ru/imagehandler.ashx?fileName=10877909.jpg&amp;width=200\" alt=\"\" class=\"img-fluid\"></a>\\n                        <div class=\"text\">\\n                                <div class=\"product-sm-used-placeholder\"></div>\\n                                                            <div class=\"author\">Бейдер Д.</div>\\n                                <h3><a href=\"/product/10877909\" id=\"p_title_10877909\">Знакомство с Python</a></h3>\\n\\n\\n                            \\n                                    <div class=\"prices_item\">\\n                                                <div class=\"price_item_wrapper\"><span class=\"price_item_title\">Цена на сайте:</span> <div class=\"price_item_block\">&nbsp;<span class=\"price_item_new\">2119&nbsp;₽</span></div></div>\\n                                    </div>\\n\\n\\n                            \\n\\n\\n\\n                            \\n\\n                                        <p class=\"status im_status_title\">\\n                                            <span style=\"color: #3ba155;\"> в наличии</span>\\n                                            <span class=\"product-qty\">1 шт.</span>\\n                                        </p>\\n\\n                            \\n                                <div class=\"buttons row\">\\n                                    <div class=\"col-9 pl-0\">\\n                                            <span id=\"add_10877909\" onclick=\"AddToBasket(10877909)\" class=\"btn btn-block btn-primary\">В корзину</span>\\n                                            <a href=\"/Basket/Detail\" class=\"btn btn-primary add_but\" id=\"added_10877909\">Оформить <i class=\"fa fa-chevron-right\"></i></a>\\n                                    </div>\\n\\n                                    <div class=\"col-3 p-0\">\\n                                        \\n\\n                                            <span id=\"add_wishlist_10877909\" onclick=\"AddToWishlist(10877909)\" class=\"btn btn-light btn-block\"><i class=\"far fa-heart\" style=\"color: #aeaeae;\"></i></span>\\n                                            <span id=\"added_wishlist_10877909\" onclick=\"DeleteFromWishlist(10877909,false)\" class=\"btn btn-light added_wishlist btn-block\"><i class=\"fas fa-heart\" style=\"color: #d70834;\"></i></span>\\n                                    </div>\\n                                </div>\\n\\n\\n                        </div>\\n                        <!-- /.text-->\\n                    </div>\\n                    <!-- /.product            -->\\n                </div>\\n                <div class=\"col-lg-3 col-md-4 col-sm-6 col-6 wrp_mobile\">\\n                    <div class=\"product\">\\n\\n                                                                                                                                                                                                \\n                        <a class=\"img_link\" href=\"/product/10973493\"><img src=\"https://static1.bgshop.ru/imagehandler.ashx?fileName=10973493.jpg&amp;width=200\" alt=\"\" class=\"img-fluid\"></a>\\n                        <div class=\"text\">\\n                                <div class=\"product-sm-used-placeholder\"></div>\\n                                                            <div class=\"author\">Левашов П. Ю.</div>\\n                                <h3><a href=\"/product/10973493\" id=\"p_title_10973493\">Python с нуля</a></h3>\\n\\n\\n                            \\n                                    <div class=\"prices_item\">\\n                                                <div class=\"price_item_wrapper\"><span class=\"price_item_title\">Цена на сайте:</span> <div class=\"price_item_block\">&nbsp;<span class=\"price_item_new\">1959&nbsp;₽</span></div></div>\\n                                    </div>\\n\\n\\n                            \\n\\n\\n\\n                            \\n\\n                                    <p class=\"status im_status_title\">\\n                                        <span style=\"color: #3ba155;\"> в наличии</span>\\n                                        <span class=\"product-qty\">1 шт.</span>\\n                                    </p>\\n\\n                            \\n                                <div class=\"buttons row\">\\n                                    <div class=\"col-9 pl-0\">\\n                                            <span id=\"add_10973493\" onclick=\"AddToBasket(10973493)\" class=\"btn btn-block btn-primary\">В корзину</span>\\n                                            <a href=\"/Basket/Detail\" class=\"btn btn-primary add_but\" id=\"added_10973493\">Оформить <i class=\"fa fa-chevron-right\"></i></a>\\n                                    </div>\\n\\n                                    <div class=\"col-3 p-0\">\\n                                        \\n\\n                                            <span id=\"add_wishlist_10973493\" onclick=\"AddToWishlist(10973493)\" class=\"btn btn-light btn-block\"><i class=\"far fa-heart\" style=\"color: #aeaeae;\"></i></span>\\n                                            <span id=\"added_wishlist_10973493\" onclick=\"DeleteFromWishlist(10973493,false)\" class=\"btn btn-light added_wishlist btn-block\"><i class=\"fas fa-heart\" style=\"color: #d70834;\"></i></span>\\n                                    </div>\\n                                </div>\\n\\n\\n                        </div>\\n                        <!-- /.text-->\\n                    </div>\\n                    <!-- /.product            -->\\n                </div>\\n                <div class=\"col-lg-3 col-md-4 col-sm-6 col-6 wrp_mobile\">\\n                    <div class=\"product\">\\n\\n                                                                                                                                                                                                \\n                        <a class=\"img_link\" href=\"/product/10938051\"><img src=\"https://static1.bgshop.ru/imagehandler.ashx?fileName=10938051.jpg&amp;width=200\" alt=\"\" class=\"img-fluid\"></a>\\n                        <div class=\"text\">\\n                                <div class=\"product-sm-used-placeholder\"></div>\\n                                                            <div class=\"author\">Зумштейн Ф.</div>\\n                                <h3><a href=\"/product/10938051\" id=\"p_title_10938051\">Python для Excel</a></h3>\\n\\n\\n                            \\n                                        <div class=\"prices_item\">\\n                                                    <div class=\"price_item_wrapper\"><span class=\"price_item_title\">Цена на сайте:</span> <div class=\"price_item_block\"><s>1309&nbsp;₽</s>&nbsp;<span class=\"price_item_new price_item_with_discount\">1178&nbsp;₽</span></div></div>\\n                                        </div>\\n\\n\\n                            \\n\\n\\n\\n                            \\n\\n                                        <p class=\"status im_status_title\">\\n                                            <span style=\"color: #3ba155;\"> в наличии</span>\\n                                            <span class=\"product-qty\">4 шт.</span>\\n                                        </p>\\n\\n                            \\n                                <div class=\"buttons row\">\\n                                    <div class=\"col-9 pl-0\">\\n                                            <span id=\"add_10938051\" onclick=\"AddToBasket(10938051)\" class=\"btn btn-block btn-primary\">В корзину</span>\\n                                            <a href=\"/Basket/Detail\" class=\"btn btn-primary add_but\" id=\"added_10938051\">Оформить <i class=\"fa fa-chevron-right\"></i></a>\\n                                    </div>\\n\\n                                    <div class=\"col-3 p-0\">\\n                                        \\n\\n                                            <span id=\"add_wishlist_10938051\" onclick=\"AddToWishlist(10938051)\" class=\"btn btn-light btn-block\"><i class=\"far fa-heart\" style=\"color: #aeaeae;\"></i></span>\\n                                            <span id=\"added_wishlist_10938051\" onclick=\"DeleteFromWishlist(10938051,false)\" class=\"btn btn-light added_wishlist btn-block\"><i class=\"fas fa-heart\" style=\"color: #d70834;\"></i></span>\\n                                    </div>\\n                                </div>\\n\\n\\n                        </div>\\n                        <!-- /.text-->\\n                    </div>\\n                    <!-- /.product            -->\\n                </div>\\n                <div class=\"col-lg-3 col-md-4 col-sm-6 col-6 wrp_mobile\">\\n                    <div class=\"product\">\\n\\n                                                                                                                                                                                                \\n                        <a class=\"img_link\" href=\"/product/10952299\"><img src=\"https://static1.bgshop.ru/imagehandler.ashx?fileName=10952299.jpg&amp;width=200\" alt=\"\" class=\"img-fluid\"></a>\\n                        <div class=\"text\">\\n                                <div class=\"product-sm-used-placeholder\"></div>\\n                                                            <div class=\"author\">Азиф М.</div>\\n                                <h3><a href=\"/product/10952299\" id=\"p_title_10952299\">Python для гиков</a></h3>\\n\\n\\n                            \\n                                        <div class=\"prices_item\">\\n                                                    <div class=\"price_item_wrapper\"><span class=\"price_item_title\">Цена на сайте:</span> <div class=\"price_item_block\"><s>1389&nbsp;₽</s>&nbsp;<span class=\"price_item_new price_item_with_discount\">1250&nbsp;₽</span></div></div>\\n                                        </div>\\n\\n\\n                            \\n\\n\\n\\n                            \\n\\n                                        <p class=\"status im_status_title\">\\n                                            <span style=\"color: #3ba155;\"> в наличии</span>\\n                                            <span class=\"product-qty\">2 шт.</span>\\n                                        </p>\\n\\n                            \\n                                <div class=\"buttons row\">\\n                                    <div class=\"col-9 pl-0\">\\n                                            <span id=\"add_10952299\" onclick=\"AddToBasket(10952299)\" class=\"btn btn-block btn-primary\">В корзину</span>\\n                                            <a href=\"/Basket/Detail\" class=\"btn btn-primary add_but\" id=\"added_10952299\">Оформить <i class=\"fa fa-chevron-right\"></i></a>\\n                                    </div>\\n\\n                                    <div class=\"col-3 p-0\">\\n                                        \\n\\n                                            <span id=\"add_wishlist_10952299\" onclick=\"AddToWishlist(10952299)\" class=\"btn btn-light btn-block\"><i class=\"far fa-heart\" style=\"color: #aeaeae;\"></i></span>\\n                                            <span id=\"added_wishlist_10952299\" onclick=\"DeleteFromWishlist(10952299,false)\" class=\"btn btn-light added_wishlist btn-block\"><i class=\"fas fa-heart\" style=\"color: #d70834;\"></i></span>\\n                                    </div>\\n                                </div>\\n\\n\\n                        </div>\\n                        <!-- /.text-->\\n                    </div>\\n                    <!-- /.product            -->\\n                </div>\\n                <div class=\"col-lg-3 col-md-4 col-sm-6 col-6 wrp_mobile\">\\n                    <div class=\"product\">\\n\\n                                                                                                                                                                                                \\n                        <a class=\"img_link\" href=\"/product/10577094\"><img src=\"https://static1.bgshop.ru/imagehandler.ashx?fileName=10577094.jpg&amp;width=200\" alt=\"\" class=\"img-fluid\"></a>\\n                        <div class=\"text\">\\n                                <div class=\"product-sm-used-placeholder\"></div>\\n                                                            <div class=\"author\">Мюллер Дж. </div>\\n                                <h3><a href=\"/product/10577094\" id=\"p_title_10577094\">Python для чайников</a></h3>\\n\\n\\n                            \\n                                        <div class=\"prices_item\">\\n                                                    <div class=\"price_item_wrapper\"><span class=\"price_item_title\">Цена на сайте:</span> <div class=\"price_item_block\"><s>2119&nbsp;₽</s>&nbsp;<span class=\"price_item_new price_item_with_discount\">1907&nbsp;₽</span></div></div>\\n                                        </div>\\n\\n\\n                            \\n\\n\\n\\n                            \\n\\n                                        <p class=\"status im_status_title\">\\n                                            <span style=\"color: #3ba155;\"> в наличии</span>\\n                                            <span class=\"product-qty\">1 шт.</span>\\n                                        </p>\\n\\n                            \\n                                <div class=\"buttons row\">\\n                                    <div class=\"col-9 pl-0\">\\n                                            <span id=\"add_10577094\" onclick=\"AddToBasket(10577094)\" class=\"btn btn-block btn-primary\">В корзину</span>\\n                                            <a href=\"/Basket/Detail\" class=\"btn btn-primary add_but\" id=\"added_10577094\">Оформить <i class=\"fa fa-chevron-right\"></i></a>\\n                                    </div>\\n\\n                                    <div class=\"col-3 p-0\">\\n                                        \\n\\n                                            <span id=\"add_wishlist_10577094\" onclick=\"AddToWishlist(10577094)\" class=\"btn btn-light btn-block\"><i class=\"far fa-heart\" style=\"color: #aeaeae;\"></i></span>\\n                                            <span id=\"added_wishlist_10577094\" onclick=\"DeleteFromWishlist(10577094,false)\" class=\"btn btn-light added_wishlist btn-block\"><i class=\"fas fa-heart\" style=\"color: #d70834;\"></i></span>\\n                                    </div>\\n                                </div>\\n\\n\\n                        </div>\\n                        <!-- /.text-->\\n                    </div>\\n                    <!-- /.product            -->\\n                </div>\\n\\n        </div>\\n        <div class=\"pages\">\\n\\n            <!--\\n            <p class=\"loadMore\"><a href=\"#\" class=\"btn btn-primary btn-lg\"><i class=\"fa fa-chevron-down\"></i> Load more</a></p>\\n\\n                <nav aria-label=\"Page navigation example\" class=\"d-flex justify-content-center\">\\n                    <ul class=\"pagination\">\\n                        <li class=\"page-item\"><a href=\"#\" aria-label=\"Previous\" class=\"page-link\"><span aria-hidden=\"true\">«</span><span class=\"sr-only\">Previous</span></a></li>\\n                        <li class=\"page-item active\"><a href=\"#\" class=\"page-link\">1</a></li>\\n                        <li class=\"page-item\"><a href=\"#\" class=\"page-link\">2</a></li>\\n                        <li class=\"page-item\"><a href=\"#\" class=\"page-link\">3</a></li>\\n                        <li class=\"page-item\"><a href=\"#\" class=\"page-link\">4</a></li>\\n                        <li class=\"page-item\"><a href=\"#\" class=\"page-link\">5</a></li>\\n                        <li class=\"page-item\"><a href=\"#\" aria-label=\"Next\" class=\"page-link\"><span aria-hidden=\"true\">»</span><span class=\"sr-only\">Next</span></a></li>\\n                    </ul>\\n                </nav>-->\\n\\n            <ul class=\"pagination justify-content-center\"><li class=\"page-item active\"><a class=\"page-link\" href=\"#\">1</a></li><li class=\"page-item\"><a class=\"page-link\" href=\"search?query=Python&amp;page=2&amp;sort=0&amp;instock=&amp;cat=0&amp;isdiscount=\">2<span class=\"left_corner\"></span></a></li><li class=\"page-item\"><a class=\"page-link\" href=\"search?query=Python&amp;page=3&amp;sort=0&amp;instock=&amp;cat=0&amp;isdiscount=\">3<span class=\"left_corner\"></span></a></li> <li class=\"page-item\"><a aria-label=\"Next\" class=\"page-link\" href=\"search?query=Python&amp;page=2&amp;sort=0&amp;instock=&amp;cat=0&amp;isdiscount=\"><span aria-hidden=\"true\">»</span><span class=\"sr-only\">Next</span></a></li><li class=\"page-item\"><a aria-label=\"Next\" class=\"page-link\" href=\"search?query=Python&amp;page=11&amp;sort=0&amp;instock=&amp;cat=0&amp;isdiscount=\"><span aria-hidden=\"true\">»»</span><span class=\"sr-only\">Next</span></a></li> <div class=\"clearer\"></div></ul>\\n\\n        </div>\\n\\n</div>\\n\\n\\n<div class=\"col-lg-3\">\\n    <!--\\n    *** MENUS AND FILTERS ***\\n    _________________________________________________________\\n    -->\\n    <div class=\"card sidebar-menu mb-4 cat_bottom\">\\n        <div class=\"card-header\">\\n            <h3 class=\"h4 card-title\">Каталог</h3>\\n        </div>\\n        <div class=\"card-body\">\\n            <ul class=\"nav nav-pills flex-column category-menu\">\\n\\n                            <li>\\n                                <a href=\"/catalog/index/101\" class=\"nav-link\">Художественная литература</a>\\n                                    <ul class=\"list-unstyled\">\\n                                            <li><a href=\"/Catalog/Index/182\" class=\"nav-link\">Классическая и современная проза</a></li>\\n                                            <li><a href=\"/Catalog/Index/185\" class=\"nav-link\">Детективы</a></li>\\n                                            <li><a href=\"/Catalog/Index/186\" class=\"nav-link\">Фантастика. Фэнтези</a></li>\\n                                            <li><a href=\"/Catalog/Index/189\" class=\"nav-link\">Любовные романы. Книги о любви </a></li>\\n                                            <li><a href=\"/Catalog/Index/6172\" class=\"nav-link\">Поэзия. Драматургия</a></li>\\n                                            <li><a href=\"/Catalog/Index/6175\" class=\"nav-link\">Публицистика. Биографии. Мемуары</a></li>\\n                                            <li><a href=\"/Catalog/Index/6180\" class=\"nav-link\">Исторические романы</a></li>\\n                                            <li><a href=\"/Catalog/Index/6181\" class=\"nav-link\">Приключения</a></li>\\n                                            <li><a href=\"/Catalog/Index/6182\" class=\"nav-link\">Комиксы и манга</a></li>\\n                                            <li><a href=\"/Catalog/Index/6183\" class=\"nav-link\">Юмор</a></li>\\n                                            <li><a href=\"/Catalog/Index/6184\" class=\"nav-link\">Афоризмы. цитаты</a></li>\\n                                            <li><a href=\"/Catalog/Index/6185\" class=\"nav-link\">Фольклор</a></li>\\n                                    </ul>\\n                            </li>\\n\\n            </ul>\\n        </div>\\n    </div>\\n\\n                </div>\\n            </div>\\n        </div>\\n    </div>\\n\\n    <div id=\"footer\">\\n        <div class=\"container\">\\n            <div class=\"row\">\\n\\n                <div class=\"col-lg-3 col-md-6\">\\n                    <h4 class=\"mb-3\">Дополнительная информация:</h4>\\n                    <ul class=\"list-unstyled\">\\n                        <!-- <li><a href=\"/catalog/all\">Каталог</a></li>\\n                        <li><a href=\"/information/news\">Новости</a></li>\\n                        <li><a href=\"/information/events\">Афиша</a></li>\\n                        <li><a href=\"/information/page/dostavka\">Доставка</a></li>\\n                        <li><a href=\"/information/page/oplata\">Оплата</a></li>\\n                        <li><a href=\"/information/page/domashnyaya-biblioteka\">Домашняя библиотека</a></li>\\n                        <li><a href=\"/catalog/group?id=535&page=1\">Лидеры продаж</a></li>\\n                        <li><a href=\"/information/page/o-kompanii\">О компании</a></li>\\n                        <li><a href=\"/catalog/group?id=633&page=1\" title=\"Купить золотые монеты в Москве\">Купить золотые монеты</a></li>\\n                        <li><a href=\"/information/page/polzovatelskoe-soglashenie-o-konfidencialnosti\">Пользовательское соглашение</a></li>-->\\n                        <li><a href=\"/information/page/dokumenty\">Документы</a></li>\\n                        <li><a href=\"/information/page/postavshhikam\">Поставщикам</a></li>\\n                        <li><a href=\"http://blog.biblio-globus.ru/vendor\" target=\"_blank\">«Кабинет поставщика»</a></li>\\n                        <li><a href=\"http://blog.biblio-globus.ru/comitent\" target=\"_blank\">«Кабинет комитента»</a></li>\\n                        <li><a href=\"/information/page/pravila-raboty-s-komitentami\">Правила работы с комитентами</a></li>\\n                        <li><a href=\"http://service.biblio-globus.ru/LibrarianCabinet/\" target=\"_blank\">«Кабинет библиотекаря»</a></li>\\n                        <li><a href=\"http://blog.biblio-globus.ru/profile/dc\" target=\"_blank\">Активация клубной (дисконтной) карты</a></li>\\n                        <li><a href=\"/information/page/dostavka-i-oplata\">Доставка</a></li>\\n                        <li><a href=\"/information/page/kontaktnaya-informaciya\">Контакты</a></li>\\n                        <li><a href=\"/information/page/polzovatelskoe-soglashenie-o-konfidencialnosti\">Пользовательское соглашение</a></li>\\n                        <li><a href=\"/information/page/korporativnaya-socialnaya-otvetstvennost\">Корпоративная ответственность</a></li>\\n                        <li><a href=\"/information/page/vakansii\">Вакансии</a></li>\\n                    </ul>\\n\\n                </div>\\n                <!-- /.col-lg-3-->\\n\\n                <div class=\"col-lg-5 col-md-6\">\\n                    <h4 class=\"mb-3\">Контактная информация:</h4>\\n                    <p>\\n                        <b>Наш адрес:</b><br>Россия, 101000, г. Москва, ул. Мясницкая, д. 6/3, стр. 1, Торговый Дом «БИБЛИО-ГЛОБУС» (<a href=\"/information/page/kontaktnaya-informaciya\">посмотреть на карте</a>).\\n\\n                        <!--\\n                        <b>Время работы службы выдачи заказов (<a href=\"https://www.biblio-globus.ru/information/page/usloviya-dostavki-zakazov\" target=\"_blank\">подробнее</a>)</b><br /><br />\\n                        -->\\n\\n                        <br><br>\\n                        <b>Справочная служба розничного магазина «Библио-Глобус»:</b><br>\\n                        <b>Телефон:</b> <a href=\"tel:+74957811900\">+7 (495) 781-19-00</a>\\n                        <br><b>E-mail:</b> <a href=\"mailto:mail@biblio-globus.ru\">mail@biblio-globus.ru</a>\\n                        <br><br>\\n                        <b>Интернет-магазин:</b><br>\\n                        <b>Телефон:</b> <a href=\"tel:+74957811912\">+7 (495) 781-19-12</a>\\n                        <br>\\n                        <b>E-mail:</b> <a href=\"mailto:web.logist@bgshop.ru\">web.logist@bgshop.ru</a>\\n                        <br><br>\\n                        <b>Время работы службы выдачи заказов:</b>\\n                        <br><b>м. Лубянка</b>\\n                        <br>ежедневно: 10:00 – 21:00\\n\\n                        <!--\\n                        <br /><b>м. Дмитровская</b>\\n                        <br />пн. – пт. 09:00 – 17:00, сб. – вс.: выходной -->\\n                        <!--\\n                        <br /><br />\\n\\n\\n                        Вход для физических лиц: <a href=\"/register/register\">«Кабинет покупателя»</a><br />\\n                        Вход для юридических лиц: <a href=\"/register/registerlegalentity\">«Кабинет юр. лица»</a><br />\\n\\n                        Вход для поставщиков: <a href=\"http://blog.biblio-globus.ru/vendor\" target=\"_blank\">«Кабинет поставщика»</a><br />\\n                        Вход для комитентов: <a href=\"http://blog.biblio-globus.ru/comitent\" target=\"_blank\">«Кабинет комитента»</a>\\n                        -->\\n\\n                    </p>\\n\\n                    <hr class=\"d-block d-md-none\">\\n\\n                </div>\\n                <!-- /.col-lg-3-->\\n                <div class=\"col-lg-4 col-md-6\">\\n\\n                    <h4 class=\"mb-3\">Способы оплаты:</h4>\\n                    <p><a href=\"/information/page/oplata\" class=\"payments\"></a></p>\\n                    <hr>\\n\\n                    <h4 class=\"mb-3\">Мы в социальных сетях:</h4>\\n                    <div class=\"social\">\\n                        <p>\\n                            <a href=\"https://vk.com/biblioglobus_msk\" target=\"_blank\" rel=\"nofollow\" class=\"gplus external\"><i class=\"fab fa-vk\"></i></a>\\n                            <a href=\"https://t.me/biblioglobus_1\" target=\"_blank\" rel=\"nofollow\" class=\"telegram external\"><i class=\"fab fa-telegram-plane\"></i></a>\\n                            <a href=\"https://www.youtube.com/user/BiblioGlobusStore\" target=\"_blank\" rel=\"nofollow\" class=\"youtube external\"><i class=\"fab fa-youtube\"></i></a>\\n                        </p>\\n                    </div>\\n                </div>\\n                <!-- /.col-lg-3-->\\n            </div>\\n            <!-- /.row-->\\n        </div>\\n    </div>\\n\\n    <div id=\"copyright\">\\n        <div class=\"container\">\\n            <div class=\"row\">\\n                <div class=\"col-lg-6 mb-2 mb-lg-0\">\\n                    <p class=\"text-center text-lg-left\">© 2005-2024 ООО «ТОРГОВЫЙ ДОМ БИБЛИО-ГЛОБУС».</p>\\n                </div>\\n                <div class=\"col-lg-6\">\\n                    <p class=\"text-center text-lg-right\">\\n\\n                    </p>\\n                </div>\\n            </div>\\n        </div>\\n    </div>\\n    <!-- *** COPYRIGHT END ***-->\\n    <!-- JavaScript files-->\\n    <script src=\"/content/bg/js/jquery.min.js\"></script>\\n    <script src=\"/content/bg/js/star.js?v=1\"></script>\\n    <script src=\"/content/bg/js/jquery.fancybox.min.js\"></script>\\n    <script src=\"/content/bg/vendor/popper.js/umd/popper.min.js\"></script>\\n    <script src=\"/content/bg/vendor/bootstrap/js/bootstrap.min.js\"></script>\\n    <script src=\"/content/bg/vendor/jquery.cookie/jquery.cookie.js\"></script>\\n    <script src=\"/content/bg/vendor/owl.carousel/owl.carousel.min.js\"></script>\\n    <script src=\"/content/bg/vendor/owl.carousel2.thumbs/owl.carousel2.thumbs.js\"></script>\\n    <script src=\"/content/bg/js/front.js?v=1074\"></script>\\n    <script src=\"/content/bg/js/jquery.maskedinput.min.js\"></script>\\n    <script src=\"/content/bg/js/jquery.suggestions.min.js\"></script>\\n    <script src=\"/content/bg/js/fancybox.umd.js\"></script>\\n    <script src=\"/content/bg/js/bootstrap-show-password.min.js\"></script>\\n\\n    <script src=\"/content/bg/js/jquery-ui.min.js\"></script>\\n    <script src=\"/content/bg/js/intlTelInput.min.js?v=1025\"></script>\\n    <script src=\"/content/bg/js/flip.min.js?v=1025\"></script>\\n    <script src=\"/Content/bg/datepicker/js/bootstrap-datepicker.min.js\"></script>\\n    <script src=\"/Content/bg/datepicker/locales/bootstrap-datepicker.ru.min.js\"></script>\\n\\n\\n\\n\\n\\n\\n            <script type=\"text/javascript\">\\n\\n\\n\\n        $(document).on(\\'submit\\', \\'form\\', function () {\\n            var buttons = $(this).find(\\'[type=\"submit\"]\\');\\n            buttons.each(function (btn) {\\n                if ($(buttons[btn]).attr(\"id\")!== \\'usualCheckout\\')\\n                    $(buttons[btn]).prop(\\'disabled\\', true);\\n                });\\n        });\\n\\n        $(function () {\\n            $(\\'[data-toggle=\"tooltip\"]\\').tooltip()\\n        })\\n        $(function () {\\n            $(\\'[data-toggle=\"popover\"]\\').popover()\\n        })\\n\\n        function copyToClipboard(element) {\\n            var $temp = $(\"<input>\");\\n            $(\"body\").append($temp);\\n            $temp.val($(element).text()).select();\\n            document.execCommand(\"copy\");\\n            $temp.remove();\\n        }\\n\\n        function PayAfterDelivery(orderId, email, redirectId) {\\n\\n                $.ajax({\\n                    type: \"POST\",\\n                    url: \\'/Checkout/PayAfterDelivery/\\',\\n                    data: \\'orderId=\\' + orderId + \\'&email=\\' + email,\\n                    success: function (data) {\\n                        if (data == true) {\\n                            if (redirectId == 2) {\\n                                window.location = \"https://www.biblio-globus.ru/information/page/spasibo-zakaz-otpravlen-na-komplektaciyu\";\\n                            }\\n                            else {\\n                                window.location = \"https://www.biblio-globus.ru/information/page/spasibo-zakaz-otpravlen-na-komplektaciyu\";\\n                            }\\n                        }\\n                    },\\n                    error: function () {\\n\\n                    }\\n                });\\n            }\\n\\n        function AddToBasket(id) {\\n\\n            var idAdd = \\'#add_\\' + id;\\n            var idAdded = \\'#added_\\' + id;\\n            var title = \\'#title_\\' + id;\\n\\n            var basket_quantity1 = Number($(\\'#basket_quantity1\\').text());\\n            var basket_quantity2 = Number($(\\'#basket_quantity2\\').text());\\n            var basket_quantity3 = Number($(\\'#basket_quantity3\\').text());\\n            $(\\'#basket_quantity1\\').html(basket_quantity1 + 1);\\n            $(\\'#basket_quantity2\\').html(basket_quantity2 + 1);\\n            $(\\'#basket_quantity3\\').html(basket_quantity3 + 1);\\n            //alert(\\'Добавлено!\\');\\n\\n            //$(idAdd).hide();\\n\\t        //$(idAdded).css(\"display\", \"inline-block\");\\n\\n            $.ajax({\\n                type: \"POST\",\\n                url: \\'/Basket/AddToBasket/\\',\\n                data: \"productId=\" + id,\\n                success: function (data) {\\n\\n\\n                        var pTitle = \\'#p_title_\\' + id;\\n                        var pPrice = \\'#p_price_\\' + id;\\n                        var pTitleValue = $.trim($(pTitle).text().replace(\"\\'\", \"\"));\\n                        var pPriceValue = $.trim($(pPrice).text().replace(\\' руб.\\', \\'\\').replace(\\',\\', \\'.\\'));\\n\\n                        dataLayer.push({\\n                            \\'event\\': \\'addToCart\\',\\n                            \\'ecommerce\\': {\\n                            \\'currencyCode\\': \\'RUB\\',\\n                            \\'add\\': {\\n                                \\'products\\': [{\\n                                \\'name\\': pTitleValue,\\n                                \\'id\\': id,\\n                                \\'price\\': pPriceValue,\\n                                \\'quantity\\': 1\\n                                }]\\n                            }\\n                            }\\n                        });\\n                    //window.location = \\'http://devbgtest/basket/detail\\';\\n                    window.location = \\'https://www.biblio-globus.ru/basket/detail\\';\\n                }\\n            });\\n    }\\n\\n        function AddRecomendedToBasket(id) {\\n\\n            var idAdd = \\'#add_\\' + id;\\n            var idAdded = \\'#added_\\' + id;\\n            var title = \\'#title_\\' + id;\\n\\n            var basket_quantity1 = Number($(\\'#basket_quantity1\\').text());\\n            var basket_quantity2 = Number($(\\'#basket_quantity2\\').text());\\n            var basket_quantity3 = Number($(\\'#basket_quantity3\\').text());\\n            $(\\'#basket_quantity1\\').html(basket_quantity1 + 1);\\n            $(\\'#basket_quantity2\\').html(basket_quantity2 + 1);\\n            $(\\'#basket_quantity3\\').html(basket_quantity3 + 1);\\n            //alert(\\'Добавлено!\\');\\n\\n            //$(idAdd).hide();\\n\\t        //$(idAdded).css(\"display\", \"inline-block\");\\n\\n            $.ajax({\\n                type: \"POST\",\\n                url: \\'/Basket/AddToBasket/\\',\\n                data: \"productId=\" + id,\\n                success: function (data) {\\n\\n\\n                        var pTitle = \\'#p_title_\\' + id;\\n                        var pPrice = \\'#p_price_\\' + id;\\n                        var pTitleValue = $.trim($(pTitle).text().replace(\"\\'\", \"\"));\\n                        var pPriceValue = $.trim($(pPrice).text().replace(\\' руб.\\', \\'\\').replace(\\',\\', \\'.\\'));\\n\\n                        dataLayer.push({\\n                            \\'event\\': \\'addToCart\\',\\n                            \\'ecommerce\\': {\\n                            \\'currencyCode\\': \\'RUB\\',\\n                            \\'add\\': {\\n                                \\'products\\': [{\\n                                \\'name\\': pTitleValue,\\n                                \\'id\\': id,\\n                                \\'price\\': pPriceValue,\\n                                \\'quantity\\': 1\\n                                }]\\n                            }\\n                            }\\n                        });\\n                    //window.location = \\'http://devbgtest/basket/detail\\';\\n                    $(idAdd).hide();\\n                    $(idAdded).show();\\n                    window.location = \\'https://www.biblio-globus.ru/basket/detail\\';\\n                }\\n            });\\n        }\\n\\n\\n        function AddToWishlist(id) {\\n\\n            var idAdd = \\'#add_wishlist_\\' + id;\\n            var idAdded = \\'#added_wishlist_\\' + id;\\n            var title = \\'#title_wishlist_\\' + id;\\n\\n            var basket_quantity1 = Number($(\\'#wishlist_quantity1\\').text());\\n            var basket_quantity2 = Number($(\\'#wishlist_quantity2\\').text());\\n            var basket_quantity3 = Number($(\\'#wishlist_quantity3\\').text());\\n            $(\\'#wishlist_quantity1\\').html(basket_quantity1 + 1);\\n            $(\\'#wishlist_quantity2\\').html(basket_quantity2 + 1);\\n            $(\\'#wishlist_quantity3\\').html(basket_quantity3 + 1);\\n            //alert(\\'Добавлено!\\');\\n\\n            $(idAdd).hide();\\n            // $(idAdded).show();\\n            $(idAdded).css(\"display\", \"inline-block\");\\n\\n            $.ajax({\\n                type: \"POST\",\\n                url: \\'/Wishlist/AddToWishlist/\\',\\n                data: \"productId=\" + id,\\n                success: function (data) {\\n                   // alert(\\'Добавлено!\\');\\n                   // idAdd.addClass(\"btn-highlight\");\\n                }\\n            });\\n        }\\n\\n        function DeleteFromWishlist(id,isRedirect) {\\n\\n            var idAdd = \\'#add_wishlist_\\' + id;\\n            var idAdded = \\'#added_wishlist_\\' + id;\\n            var title = \\'#title_wishlist_\\' + id;\\n\\n            var basket_quantity1 = Number($(\\'#wishlist_quantity1\\').text());\\n            var basket_quantity2 = Number($(\\'#wishlist_quantity2\\').text());\\n            var basket_quantity3 = Number($(\\'#wishlist_quantity3\\').text());\\n            $(\\'#wishlist_quantity1\\').html(basket_quantity1 - 1);\\n            $(\\'#wishlist_quantity2\\').html(basket_quantity2 - 1);\\n            $(\\'#wishlist_quantity3\\').html(basket_quantity3 - 1);\\n            //alert(\\'Добавлено!\\');\\n\\n            $(idAdd).hide();\\n            $(idAdded).css(\"display\", \"inline-block\");\\n\\n            $.ajax({\\n                type: \"POST\",\\n                url: \\'/Wishlist/DeleteFromWishlist/\\',\\n                data: \"productId=\" + id,\\n                success: function (data) {\\n                    //alert(\\'Удалено!\\');\\n                    if (isRedirect) {\\n                        window.location = \"https://www.biblio-globus.ru/favorites/list\";\\n                        //window.location = \"http://devbgtest/favorites/list\";\\n                    }\\n                    else {\\n                        $(idAdded).hide();\\n                        // $(idAdd).show();\\n                        $(idAdd).css(\"display\", \"inline-block\");\\n                    }\\n                }\\n            });\\n        }\\n\\n        $(document).ready(function () {\\n\\n            $(\\'#form-register .input-group.date\\').datepicker({\\n                format: \"dd.mm.yyyy\",\\n                startView: 2,\\n                maxViewMode: 2,\\n                language: \"ru\",\\n                endDate: \"0d\",\\n                autoclose: true,\\n                zIndexOffset: 1001,\\n                orientation: \"bottom\"\\n            });\\n\\n            const input = document.querySelector(\"#PhoneIntFmt\");\\n\\n            if (input != null) {\\n                var iti = window.intlTelInput(input, {\\n                    utilsScript: \\'/Content/bg/js/utils.js\\',\\n                    initialCountry: \"ru\",\\n                    useFullscreenPopup: false,\\n                    //separateDialCode: true,\\n                    localizedCountries: {\\n                        ru: \"Россия\",\\n                        by: \"Беларусь\",\\n                        kz: \"Казахстан\",\\n                        kg: \"Киргизия\",\\n                        am: \"Армения\",\\n                        tj: \"Таджикистан\",\\n                    },\\n                    onlyCountries: [\"ru\", \"by\", \"kz\", \"kg\", \"am\", \"tj\"],\\n                });\\n                var result = document.querySelector(\"#phone-validation\");\\n\\n                input.addEventListener(\"blur\", function () {\\n                    result.textContent = \"\";\\n                    var num = iti.getNumber(),\\n                        code = iti.getSelectedCountryData().iso2,\\n                        valid = iti.isValidNumber();\\n                    //result.textContent = \"Number: \" + num + \", valid: \" + valid;\\n                    if (valid != true) {\\n                        result.innerHTML = \\'Некорректно указан номер телефона\\';\\n                    }\\n                    else {\\n                        $(\\'#PhoneIntFmt\\').val(num);\\n                        $(\\'#CountryCode\\').val(code);\\n                    }\\n\\n                }, false);\\n\\n                input.addEventListener(\"focus\", function () {\\n                    result.textContent = \"\";\\n                }, false);\\n            }\\n            $(\\'#recently_viewed_products\\').owlCarousel({\\n                items: 1,\\n                dots: false,\\n                margin: 10,\\n                autoplay: false,\\n                loop: false,\\n                nav: true,\\n                responsive: {\\n                    0: {\\n                        items: 2\\n                    },\\n                    480: {\\n                        items: 2\\n                    },\\n                    765: {\\n                        items: 3\\n                    },\\n                    991: {\\n                        items: 4\\n                    },\\n                    1200: {\\n                        items: 5\\n                    }\\n                }\\n            });\\n\\n            $(\\'#same_products\\').owlCarousel({\\n                items: 1,\\n                dots: false,\\n                margin: 10,\\n                autoplay: false,\\n                loop: false,\\n                nav: true,\\n                responsive: {\\n                    0: {\\n                        items: 2\\n                    },\\n                    480: {\\n                        items: 2\\n                    },\\n                    765: {\\n                        items: 3\\n                    },\\n                    991: {\\n                        items: 4\\n                    },\\n                    1200: {\\n                        items: 5\\n                    }\\n                }\\n            });\\n\\n\\n            $(\\'#same_title_products\\').owlCarousel({\\n                items: 1,\\n                dots: false,\\n                margin: 10,\\n                autoplay: false,\\n                loop: false,\\n                nav: true,\\n                responsive: {\\n                    0: {\\n                        items: 2\\n                    },\\n                    480: {\\n                        items: 2\\n                    },\\n                    765: {\\n                        items: 3\\n                    },\\n                    991: {\\n                        items: 4\\n                    },\\n                    1200: {\\n                        items: 5\\n                    }\\n                }\\n            });\\n\\n            $(\\'#same_author_products\\').owlCarousel({\\n                items: 1,\\n                dots: false,\\n                margin: 10,\\n                autoplay: false,\\n                loop: false,\\n                nav: true,\\n                responsive: {\\n                    0: {\\n                        items: 2\\n                    },\\n                    480: {\\n                        items: 2\\n                    },\\n                    765: {\\n                        items: 3\\n                    },\\n                    991: {\\n                        items: 4\\n                    },\\n                    1200: {\\n                        items: 5\\n                    }\\n                }\\n            });\\n\\n            $(\\'#news_products\\').owlCarousel({\\n                items: 1,\\n                dots: false,\\n                margin: 10,\\n                autoplay: false,\\n                loop: false,\\n                nav: true,\\n                responsive: {\\n                    0: {\\n                        items: 2\\n                    },\\n                    480: {\\n                        items: 2\\n                    },\\n                    765: {\\n                        items: 3\\n                    },\\n                    991: {\\n                        items: 4\\n                    },\\n                    1200: {\\n                        items: 5\\n                    }\\n                }\\n            });\\n\\n            $(\\'#bestsellers_products\\').owlCarousel({\\n                items: 1,\\n                dots: false,\\n                margin: 10,\\n                autoplay: false,\\n                loop: false,\\n                nav: true,\\n                responsive: {\\n                    0: {\\n                        items: 2\\n                    },\\n                    480: {\\n                        items: 2\\n                    },\\n                    765: {\\n                        items: 3\\n                    },\\n                    991: {\\n                        items: 4\\n                    },\\n                    1200: {\\n                        items: 5\\n                    }\\n                }\\n            });\\n\\n\\n            $(\\'#mediacenter_awards\\').owlCarousel({\\n                items: 2,\\n                dots: false,\\n                margin: 12,\\n                autoplay: false,\\n                loop: false,\\n                nav: true,\\n                responsive: {\\n                    0: {\\n                        items: 1\\n                    },\\n                    480: {\\n                        items: 1\\n                    },\\n                    765: {\\n                        items: 1\\n                    },\\n                    991: {\\n                        items: 2\\n                    },\\n                    1200: {\\n                        items: 3\\n                    }\\n                }\\n            });\\n\\n            $(\\'#mediacenter_photos\\').owlCarousel({\\n                items: 2,\\n                dots: false,\\n                margin: 12,\\n                autoplay: true,\\n                loop: true,\\n                nav: true,\\n                responsive: {\\n                    0: {\\n                        items: 1\\n                    },\\n                    480: {\\n                        items: 1\\n                    },\\n                    765: {\\n                        items: 1\\n                    },\\n                    991: {\\n                        items: 2\\n                    },\\n                    1200: {\\n                        items: 3\\n                    }\\n                }\\n            });\\n\\n            $(\\'#antiques_photos\\').owlCarousel({\\n                items: 2,\\n                dots: false,\\n                margin: 12,\\n                autoplay: true,\\n                loop: true,\\n                nav: true,\\n                responsive: {\\n                    0: {\\n                        items: 1\\n                    },\\n                    480: {\\n                        items: 1\\n                    },\\n                    765: {\\n                        items: 1\\n                    },\\n                    991: {\\n                        items: 2\\n                    },\\n                    1200: {\\n                        items: 3\\n                    }\\n                }\\n            });\\n\\n            $(\\'#customer_service\\').owlCarousel({\\n                items: 2,\\n                dots: false,\\n                margin: 12,\\n                autoplay: false,\\n                loop: true,\\n                nav: true,\\n                responsive: {\\n                    0: {\\n                        items: 2\\n                    },\\n                    480: {\\n                        items: 3\\n                    },\\n                    765: {\\n                        items: 3\\n                    },\\n                    991: {\\n                        items: 5\\n                    },\\n                    1200: {\\n                        items: 5\\n                    }\\n                }\\n            });\\n\\n\\n            $(\\'#AddPromoCode\\').on(\\'click\\', function (e) {\\n                var jsonAddPromoCodeRequest = { PromoCode: $(\"#PromoCode\").val() };\\n                $.ajax({\\n                    type: \"POST\",\\n                    url: \\'/Basket/AddPromoCode/\\',\\n                    data: jsonAddPromoCodeRequest,\\n                    success: function (data) {\\n                        window.location = \"https://www.biblio-globus.ru/basket/detail\";\\n                        //window.location = \"http://devbgtest/basket/detail\";\\n                    }\\n                });\\n            });\\n\\n            $(\\'#DeletePromoCode\\').on(\\'click\\', function (e) {\\n                $.ajax({\\n                    type: \"POST\",\\n                    url: \\'/Basket/DeletePromoCode/\\',\\n                    success: function (data) {\\n                        window.location = \"https://www.biblio-globus.ru/basket/detail\";\\n                        //window.location = \"http://devbgtest/basket/detail\";\\n                    }\\n                });\\n            });\\n\\n            $(\\'[data-fancybox=\"gallery\"]\\').fancybox({\\n                buttons: [\\n                    \"slideShow\",\\n                    \"close\"\\n                ],\\n                loop: true\\n            });\\n\\n            $(\\'[data-fancybox=\"gallery2\"]\\').fancybox({\\n                buttons: [\\n                    \"slideShow\",\\n                    \"close\"\\n                ],\\n                iframe: {\\n                    preload: false\\n                },\\n                loop: true\\n            });\\n\\n            $(\"#courierCitiesList\").prop(\\'disabled\\', true);\\n            if ($(\"input[name=DeliveryType]\").on(\\'change\\', function (e) {\\n                if ($(\"input[name=DeliveryType][value=\\'37\\']\").prop(\"checked\")) {\\n                    $(\"#courierCitiesList\").prop(\\'disabled\\', false);\\n                    return;\\n                }\\n                $(\"#courierCitiesList\").prop(\\'disabled\\', true);\\n                $(\\'#courierCities option:first\\').prop(\\'selected\\', true);\\n            }));\\n\\n            if ($(\"#ThemeId\").on(\\'change\\', function (e) {\\n                var curTheme = $(\"#ThemeId\").val();\\n                window.location = \"https://www.biblio-globus.ru/mediacenter/events/\" + curTheme;\\n            }));\\n\\n\\n\\n            $(\"#extra_cities\").on(\\'click\\', function (e) {\\n                $(\".extra_cities_item\").show();\\n                $(\"#extra_cities\").hide();\\n            });\\n\\n            $(\"#isLegalCheck\").on(\"change\", \"#isLegal\", function () {\\n                if ($(\\'#isLegal\\').prop(\"checked\")) {\\n                    $(\\'#usualCheckout\\').hide();\\n                    $(\\'#legalCheckout\\').show();\\n                }\\n                else {\\n                    $(\\'#usualCheckout\\').show();\\n                    $(\\'#legalCheckout\\').hide();\\n                }\\n            })\\n\\n            if ($(\\'#back-to-top\\').length) {\\n                var scrollTrigger = 100,\\n                    backToTop = function () {\\n                        var scrollTop = $(window).scrollTop();\\n                        if (scrollTop > scrollTrigger) {\\n                            $(\\'#back-to-top\\').addClass(\\'show\\');\\n                        } else {\\n                            $(\\'#back-to-top\\').removeClass(\\'show\\');\\n                        }\\n                    };\\n                backToTop();\\n                $(window).on(\\'scroll\\', function () {\\n                    backToTop();\\n                });\\n                $(\\'#back-to-top\\').on(\\'click\\', function (e) {\\n                    e.preventDefault();\\n                    $(\\'html,body\\').animate({\\n                        scrollTop: 0\\n                    }, 700);\\n                });\\n            }\\n\\n            $(\"#isAccept\").on(\"click\", function () {\\n                if ($(\\'#isAccept\\').prop(\"checked\")) {\\n                    $(\\'#accept_btn\\').removeClass(\\'disabled\\');\\n                    $(\\'#submit-review-btn\\').removeClass(\\'disabled\\');\\n                }\\n                else {\\n                    $(\\'#accept_btn\\').addClass(\\'disabled\\');\\n                    $(\\'#submit-review-btn\\').addClass(\\'disabled\\');\\n                }\\n            });\\n\\n            $(\"#deliveryIsAccept\").on(\"click\", function () {\\n                if ($(\\'#deliveryIsAccept\\').prop(\"checked\")) {\\n                    $(\\'#usualCheckout\\').removeClass(\\'disabled\\');\\n                }\\n                else {\\n                    $(\\'#usualCheckout\\').addClass(\\'disabled\\');\\n                }\\n            });\\n\\n            $(\"#smiIsAccept\").on(\"click\", function () {\\n                if ($(\\'#smiIsAccept\\').prop(\"checked\")) {\\n                    $(\\'#smiSubmit\\').removeClass(\\'disabled\\');\\n                }\\n                else {\\n                    $(\\'#smiSubmit\\').addClass(\\'disabled\\');\\n                }\\n            });\\n\\n            $(\"#IsSubscription\").on(\"click\", function () {\\n                if ($(\\'#IsSubscription\\').prop(\"checked\")) {\\n                    $(\\'#subscriptionSettings\\').removeClass(\\'disabled\\');\\n                    $(\"#subscriptionSettings\").prop(\"disabled\", false);\\n                }\\n                else {\\n                    $(\\'#subscriptionSettings\\').addClass(\\'disabled\\');\\n                    $(\"#subscriptionSettings\").prop(\"disabled\", true);\\n                }\\n            });\\n\\n            $(\"#eventIsAccept\").on(\"click\", function () {\\n                if ($(\\'#eventIsAccept\\').prop(\"checked\")) {\\n                    $(\\'#eventSubmit\\').removeClass(\\'disabled\\');\\n                }\\n                else {\\n                    $(\\'#eventSubmit\\').addClass(\\'disabled\\');\\n                }\\n            });\\n\\n            $(\"#inStockIsAccept\").on(\"click\", function () {\\n                if ($(\\'#inStockIsAccept\\').prop(\"checked\")) {\\n                    $(\\'#inStockSubmit\\').removeClass(\\'disabled\\');\\n                }\\n                else {\\n                    $(\\'#inStockSubmit\\').addClass(\\'disabled\\');\\n                }\\n            });\\n\\n            $(\\'#fdb\\').on(\\'click\\', \\'#feedback_btn2\\', function () {\\n                $(\\'#subscribeModal\\').modal(\\'show\\');\\n            });\\n\\n            $(\\'#fdb3\\').on(\\'click\\', \\'#feedback_btn3\\', function () {\\n                $(\\'#subscribeModal\\').modal(\\'show\\');\\n            });\\n\\n            $(\\'#submit-btn\\').on(\\'click\\', \\'#button-addon2\\', function () {\\n\\n                var good = $(\\'#good\\').val();\\n                var bad = $(\\'#bad\\').val();\\n                var change = $(\\'#change\\').val();\\n                var googleCaptchaToken = $(\\'#GoogleCaptchaToken\\').val();\\n\\n                var jsonFeedbackInsertRequest = { Good: good, Bad: bad, Change: change, GoogleCaptchaToken: googleCaptchaToken };\\n\\n                if (good == \\'\\' && bad == \\'\\' && change == \\'\\') {\\n                    $(\\'#feedback\\').text(\\'Заполните все поля.\\');\\n                }\\n                else {\\n                    $.ajax({\\n                        type: \"POST\",\\n                        url: \\'/information/feedback/\\',\\n                        data: jsonFeedbackInsertRequest,\\n                        success: function (data) {\\n                            console.log(data);\\n                            if (data == true) {\\n\\n                                $(\\'#feedback\\').text(\\'Заявка принята.\\');\\n                                $(\\'.input-group-append\\').hide();\\n                                $(\\'.input-group\\').hide();\\n                                setTimeout(function () {\\n                                    $(\\'#subscribeModal\\').modal(\\'hide\\');\\n                                }, 1000);\\n                            }\\n                            else if (data == false)\\n                            {\\n                                $(\\'#feedback\\').text(\\'Произошла ошибка.\\');\\n                                $(\\'.input-group-append\\').hide();\\n                                $(\\'.input-group\\').hide();\\n                                setTimeout(function () {\\n                                    $(\\'#subscribeModal\\').modal(\\'hide\\');\\n                                }, 1000);\\n                            }\\n                        },\\n                        error: function () {\\n                            $(\\'#feedback\\').text(\\'Произошла ошибка. Попробуйте позже.\\');\\n                            $(\\'.input-group-append\\').hide();\\n                            $(\\'.input-group\\').hide();\\n                            setTimeout(function () {\\n                                $(\\'#subscribeModal\\').modal(\\'hide\\');\\n                            }, 1000);\\n                        }\\n                    });\\n                }\\n\\n\\n            });\\n\\n            $(\\'#inStockPhone\\').mask(\\'+7 (999) 999-9999\\').click(function () {\\n                $(this).focus();\\n            });\\n\\n            $(\\'#Phone\\').mask(\\'+7 (999) 999-9999\\').click(function () {\\n                $(this).focus();\\n            });\\n\\n            $(\\'#PhoneBasic\\').mask(\\'+7 (999) 999-9999\\').click(function () {\\n                $(this).focus();\\n            });\\n\\n            //$(\"#Phone\").mask(\"+7 (999) 999-9999\");\\n            //$(\"#PhoneBasic\").mask(\"+7 (999) 999-9999\");\\n\\n            $(\"#selected_points\").on(\"click\", \"#edit_point\", function () {\\n\\n                $(\"#selected_points\").html(\"\");\\n                $(\"#selected_points\").hide();\\n                $(\"#drh_title\").html(\"Выберите на карте пункт выдачи заказов *: \");\\n                $(\"#maps\").fadeIn();\\n\\n            });\\n\\n            $(\"#selected_points\").on(\"click\", \"#edit_point_sb\", function () {\\n\\n                $(\"#selected_points\").html(\"\");\\n                $(\"#selected_points\").hide();\\n                $(\"#drh_title\").html(\"Выберите на карте пункт выдачи заказов *: \");\\n                window.JCShiptorWidgetPvz.show();\\n                //window.JCShiptorWidgetPvz.refresh();\\n                $(\"#maps3\").fadeIn();\\n\\n            });\\n\\n            $(\"#selected_points\").on(\"click\", \"#edit_point_bx\", function () {\\n\\n                $(\"#selected_points\").html(\"\");\\n                $(\"#selected_points\").hide();\\n                $(\"#drh_title\").html(\"Выберите пункт выдачи на карте: \");\\n                $(\"#boxberry_map\").fadeIn();\\n\\n            });\\n\\n\\n            $(\"#selected_points-rp\").on(\"click\", \"#edit_point_rp\", function () {\\n\\n                $(\"#selected_points-rp\").html(\"\");\\n                $(\"#selected_points-rp\").hide();\\n                $(\"#drh_title\").html(\"Выберите пункт выдачи на карте: \");\\n                $(\"#russian-post-map\").fadeIn();\\n\\n            });\\n\\n            $(\"#selected_points-cdek\").on(\"click\", \"#edit_point_cdek\", function () {\\n\\n                $(\"#selected_points-cdek\").html(\"\");\\n                $(\"#selected_points-cdek\").hide();\\n                $(\"#drh_title\").html(\"Выберите пункт выдачи на карте: \");\\n                $(\"#cdek-map\").fadeIn();\\n\\n            });\\n\\n            $(\\'.card-body\\').on(\\'click\\', \\'.del\\', function () {\\n\\n                var currentId = this.id.replace(\"d_\", \"\");\\n                var trId = \"#tr_\" + currentId;\\n                var totalId = \"#total\";\\n\\n                var total = Number($(totalId).html().replace(\",\", \".\"));\\n\\n                var quantityId = \"#quantity_\" + currentId;\\n                var quantity = Number($(quantityId).val());\\n\\n                var positionPriceId = \"#position_price_\" + currentId;\\n                var positionPrice = $(positionPriceId).html();\\n                var lineTotalId = \"#line_total_\" + currentId;\\n                var item = \"#item_\" + currentId;\\n\\n                var jsonBasketQtyUpdateRequest = { BiblioNo: currentId, Quantity: 0 };\\n\\n                $.ajax({\\n                    type: \"POST\",\\n                    url: \\'/Basket/ChangeQuantity/\\',\\n                    data: jsonBasketQtyUpdateRequest,\\n                    success: function (data) {\\n\\n                        $(quantityId).html(quantity);\\n                        $(lineTotalId).html((Number(positionPrice.replace(\",\", \".\")) * quantity).toFixed(2));\\n                        $(totalId).html((total - (Number(positionPrice.replace(\",\", \".\"))) * quantity).toFixed(2));\\n                        var basket_quantity1 = Number($(\\'#basket_quantity1\\').text());\\n                        var basket_quantity3 = Number($(\\'#basket_quantity3\\').text());\\n                        $(\\'#basket_quantity1\\').html(basket_quantity1 - quantity);\\n                        $(\\'#basket_quantity3\\').html(basket_quantity3 - quantity);\\n                        //var basket_quantity2 = Number($(\\'#basket_quantity2\\').text());\\n\\n                        //$(\\'#basket_quantity2\\').html(basket_quantity2 - quantity);\\n                        $(item).fadeOut();\\n                        window.location.href = \"https://www.biblio-globus.ru/basket/detail\";\\n                        //window.location.href = \"http://devbgtest/basket/detail\";\\n                    },\\n                    error: function () { }\\n                });\\n\\n                var totalId = \"#total\";\\n                var total = Number($(totalId).html().replace(\",\", \".\"));\\n            });\\n\\n            $(\".card-body\").on(\\'click\\', \\'.minus\\', function () {\\n                var pId = \\'#\\' + this.id.replace(\"m_\", \"p_\");\\n                var currentId = this.id.replace(\"m_\", \"\");\\n                var quantityId = \"#quantity_\" + currentId;\\n\\n                $(pId).removeClass(\\'btn-disabled\\');\\n\\n                var quantity = Number($(quantityId).val());\\n                if ((quantity - 1) > 0) {\\n                    quantity = quantity - 1;\\n\\n                    var lineTotalId = \"#line_total_\" + currentId;\\n                    var positionPriceId = \"#position_price_\" + currentId;\\n                    var positionPrice = Number($(positionPriceId).html().replace(\",\", \".\"));\\n\\n                    var totalDiscountId = $(\"#totalDiscount\");\\n                    var totalDiscount = Number($(totalDiscountId).html().replace(\",\", \".\"));\\n                    var originalPriceId = \"#original_price_\" + currentId;\\n                    var originalPrice = Number($(originalPriceId).val().replace(\",\", \".\"));\\n\\n                    if (originalPrice > positionPrice) {\\n\\n                        totalDiscountId.html((totalDiscount - (originalPrice - positionPrice)).toFixed(2));\\n                    }\\n\\n                    var positionWeightId = \"#position_weight_\" + currentId;\\n                    var positionWeight = $(positionWeightId).html();\\n\\n                    var positionTotalWeightId = \"#position_total_weight_\" + currentId;\\n                    var positionTotalWeight = $(positionTotalWeightId).html();\\n\\n                    var totalId = \"#total\";\\n                    var totalId2 = \"#total2\";\\n                    var totalWeightId = \"#totalWeight\";\\n\\n                    var total = Number($(totalId).html().replace(\",\", \".\"));\\n                    var total2 = Number($(totalId2).html().replace(\",\", \".\"));\\n                    var totalWeight = Number($(totalWeightId).html().replace(\",\", \".\"))\\n\\n                    var jsonBasketQtyUpdateRequest = { BiblioNo: currentId, Quantity: quantity };\\n\\n                    $(quantityId).val(quantity);\\n\\n                    $(lineTotalId).html((positionPrice * quantity).toFixed(2));\\n                    $(totalId).html((total - positionPrice).toFixed(2));\\n                    $(totalId2).html((total2 - positionPrice).toFixed(2));\\n\\n                    $(totalWeightId).html((totalWeight - (Number(positionWeight.replace(\",\", \".\")))).toFixed(2));\\n\\n                    var orderTotalWeight = (totalWeight - (Number(positionWeight.replace(\",\", \".\")))).toFixed(2)\\n                    $(totalWeightId).html(orderTotalWeight);\\n\\n                    var currentTotalWeight = (Number(positionTotalWeight.replace(\",\", \".\")) - Number(positionWeight.replace(\",\", \".\"))).toFixed(2);\\n                    $(positionTotalWeightId).html(currentTotalWeight);\\n\\n                    var basket_quantity1 = Number($(\\'#basket_quantity1\\').text());\\n                    var basket_quantity3 = Number($(\\'#basket_quantity3\\').text());\\n                    var basket_quantity4 = Number($(\\'#basket_quantity4\\').text());\\n                    var basket_quantity5 = Number($(\\'#basket_quantity5\\').text());\\n                    //var basket_quantity2 = Number($(\\'#basket_quantity2\\').text());\\n                    $(\\'#basket_quantity1\\').html(basket_quantity1 - 1);\\n                    $(\\'#basket_quantity3\\').html(basket_quantity3 - 1);\\n                    $(\\'#basket_quantity4\\').html(basket_quantity4 - 1);\\n                    $(\\'#basket_quantity5\\').html(basket_quantity5 - 1);\\n                    //$(\\'#basket_quantity2\\').html(basket_quantity2 - 1);\\n\\n                    $.ajax({\\n                        type: \"POST\",\\n                        url: \\'/Basket/ChangeQuantity/\\',\\n                        data: jsonBasketQtyUpdateRequest,\\n                        success: function (data) {\\n                            if (orderTotalWeight < 10.00) {\\n                                $(\\'#totalWeightMsg\\').hide();\\n                                $(\\'#totalWeightMsg2\\').hide();\\n                                $(\\'#bx-lbl\\').hide();\\n                                $(\\'#bx-lbl2\\').css(\"display\", \"inline-block\");\\n                            }\\n                        },\\n                        error: function () { }\\n                    });\\n                }\\n                $(quantityId).html(quantity);\\n            });\\n\\n            $(\".card-body\").on(\\'click\\', \\'.plus\\', function () {\\n\\n                var cId = \\'#\\' + this.id;\\n                var currentId = this.id.replace(\"p_\", \"\");\\n                var quantityId = \"#quantity_\" + currentId;\\n                var quantity = Number($(quantityId).val()) + Number(1);\\n\\n                var maxAvailableQtyId = \"#max_val_\" + currentId;\\n                var maxAvailableQty = $(maxAvailableQtyId).val();\\n\\n                var pIconId = \"#p_icon_\" + currentId;\\n\\n                var lineTotalId = \"#line_total_\" + currentId;\\n                var positionPriceId = \"#position_price_\" + currentId;\\n                var positionPrice = Number($(positionPriceId).html().replace(\",\", \".\"));\\n\\n                var totalDiscountId = $(\"#totalDiscount\");\\n                var totalDiscount = Number($(totalDiscountId).html().replace(\",\", \".\"));\\n                var originalPriceId = \"#original_price_\" + currentId;\\n                var originalPrice = Number($(originalPriceId).val().replace(\",\", \".\"));\\n\\n                if (originalPrice > positionPrice && quantity <= maxAvailableQty) {\\n                    totalDiscountId.html((totalDiscount + (originalPrice - positionPrice)).toFixed(2));\\n                }\\n\\n                var positionWeightId = \"#position_weight_\" + currentId;\\n                var positionWeight = $(positionWeightId).html();\\n\\n                var positionTotalWeightId = \"#position_total_weight_\" + currentId;\\n                var positionTotalWeight = $(positionTotalWeightId).html();\\n\\n\\n                var totalId = \"#total\";\\n                var totalId2 = \"#total2\";\\n                var totalWeightId = \"#totalWeight\";\\n\\n                var total = Number($(totalId).html().replace(\",\", \".\"));\\n                var total2 = Number($(totalId2).html().replace(\",\", \".\"));\\n                var totalWeight = Number($(totalWeightId).html().replace(\",\", \".\"));\\n\\n                var jsonBasketQtyUpdateRequest = { BiblioNo: currentId, Quantity: quantity };\\n\\n\\n                if (quantity <= maxAvailableQty) {\\n\\n                    if (quantity == maxAvailableQty) {\\n\\n                        //$(pIconId).removeClass(\\'custom-fa-plus-circle\\');\\n                        //$(pIconId).addClass(\\'custom-fa-plus-circle-disabled\\');\\n                        $(cId).addClass(\\'btn-disabled\\');\\n                    }\\n\\n                    $(quantityId).val(quantity);\\n\\n                    $(lineTotalId).html((positionPrice * quantity).toFixed(2));\\n                    $(totalId).html((positionPrice + total).toFixed(2));\\n                    $(totalId2).html((positionPrice + total2).toFixed(2));\\n\\n                    var orderTotalWeight = ((Number(positionWeight.replace(\",\", \".\"))) + totalWeight).toFixed(2)\\n                    $(totalWeightId).html(orderTotalWeight);\\n\\n                    var currentTotalWeight = (Number(positionWeight.replace(\",\", \".\")) + Number(positionTotalWeight.replace(\",\", \".\"))).toFixed(2);\\n                    $(positionTotalWeightId).html(currentTotalWeight);\\n\\n                    var basket_quantity1 = Number($(\\'#basket_quantity1\\').text());\\n                    var basket_quantity3 = Number($(\\'#basket_quantity3\\').text());\\n                    var basket_quantity4 = Number($(\\'#basket_quantity4\\').text());\\n                    var basket_quantity5 = Number($(\\'#basket_quantity5\\').text());\\n                    //var basket_quantity2 = Number($(\\'#basket_quantity2\\').text());\\n\\n                    $(\\'#basket_quantity1\\').text(basket_quantity1 + 1);\\n                    $(\\'#basket_quantity3\\').text(basket_quantity3 + 1);\\n                    $(\\'#basket_quantity4\\').text(basket_quantity4 + 1);\\n                    $(\\'#basket_quantity5\\').text(basket_quantity5 + 1);\\n                    //$(\\'#basket_quantity2\\').text(basket_quantity2 + 1);\\n\\n                    $.ajax({\\n                        type: \"POST\",\\n                        url: \\'/Basket/ChangeQuantity/\\',\\n                        data: jsonBasketQtyUpdateRequest,\\n                        success: function (data) {\\n                            if (orderTotalWeight > 10.00) {\\n                                $(\\'#totalWeightMsg\\').fadeIn();\\n                                $(\\'#totalWeightMsg2\\').hide();\\n                                $(\\'#bx-lbl\\').hide();\\n                                $(\\'#bx-lbl2\\').hide();\\n                            }\\n                        },\\n                        error: function () {\\n                        }\\n                    });\\n                }\\n\\n                else {\\n                    //$(pIconId).removeClass(\\'custom-fa-plus-circle\\');\\n                    //$(pIconId).addClass(\\'custom-fa-plus-circle-disabled\\');\\n                }\\n\\n\\n            });\\n\\n\\n            $(\".card-body\").on(\\'focusout\\', \\'.qty-input\\', function () {\\n\\n                var currentId = this.id.replace(\"quantity_\", \"\");\\n                var quantityId = \"#quantity_\" + currentId;\\n                var quantity = Number($(quantityId).val());\\n\\n                var lineTotalId = \"#line_total_\" + currentId;\\n                var positionPriceId = \"#position_price_\" + currentId;\\n                var positionPrice = $(positionPriceId).html();\\n\\n                var totalId = \"#total\";\\n                var total = Number($(totalId).html().replace(\",\", \".\"));\\n                var jsonBasketQtyUpdateRequest = { BiblioNo: currentId, Quantity: quantity };\\n\\n                $(quantityId).val(quantity);\\n\\n                $(lineTotalId).html((Number(positionPrice.replace(\",\", \".\")) * quantity).toFixed(2));\\n                $(totalId).html(((Number(positionPrice.replace(\",\", \".\"))) + total).toFixed(2));\\n                var basket_quantity1 = Number($(\\'#basket_quantity1\\').text());\\n                var basket_quantity3 = Number($(\\'#basket_quantity3\\').text());\\n\\n                var qty = 0;\\n                var price = 0;\\n\\n                $(\".qty-input\").each(function () {\\n\\n                    qty = qty + Number($(this).val());\\n\\n                });\\n\\n                $(\\'#basket_quantity1\\').text(qty);\\n                $(\\'#basket_quantity3\\').text(qty);\\n\\n                $.ajax({\\n                    type: \"POST\",\\n                    url: \\'/Basket/ChangeQuantity/\\',\\n                    data: jsonBasketQtyUpdateRequest,\\n                    success: function (data) {\\n\\n                    },\\n                    error: function () {  }\\n                });\\n\\n\\n            });\\n\\n\\n            var CountryName = \\'\\';\\n            var CountryId = $(\\'#CountryId\\').val();\\n            var RegionId = $(\\'#RegionId\\').val();\\n            var CustomerCountryName = \\'\\';\\n            var CustomerCountryId = $(\\'#Customer_Address_CountryId\\').val();\\n            var CustomerRegionId = $(\\'#Customer_Address_RegionId\\').val();\\n            var DeliveryId = $(\\'#DeliveryId\\').val();\\n\\n            if (CountryId == \\'1\\' || CountryId == \\'643\\' ) {\\n\\n                $.ajax({\\n                    type: \"GET\",\\n                    url: \\'/Checkout/GetRegions/\\',\\n                    data: \"countryId=\" + CountryId + \"&deliveryId=\" + DeliveryId,\\n                    success: function (data) {\\n                        //if (data.Regions.length > 2) {\\n                            $(\\'#regionSelect\\').show();\\n                            $(\\'#RegionId option\\').remove();\\n                            $.each(data.Regions, function (i, item) {\\n                                $(\\'#RegionId\\').append($(\\'<option>\\', {\\n                                    value: item.Value,\\n                                    text: item.Text\\n                                }));\\n                            });\\n                        //}\\n                    },\\n                    error: function () {\\n                        alert(\\'Доставка в данный регион временно недоступна.\\');\\n                    }\\n                });\\n            }\\n            else {\\n                if (CustomerCountryId != \\'1\\' && CustomerCountryId != \\'643\\') {\\n                    $(\\'#regionSelectCustomer\\').hide();\\n                    $(\\'#regionInputCustomer\\').show();\\n                    $(\\'#citySelectCustomer\\').hide();\\n                    $(\\'#cityInputCustomer\\').show();\\n                }\\n                else {\\n                    $(\\'#regionSelectCustomer\\').show();\\n                    $(\\'#regionInputCustomer\\').hide();\\n                    $(\\'#citySelectCustomer\\').show();\\n                    $(\\'#cityInputCustomer\\').hide();\\n                }\\n            }\\n\\n            $(\\'#Customer_Address_CountryId\\').on(\\'change\\', function () {\\n                CustomerCountryName = $(\\'#Customer_Address_CountryId option:selected\\').text();\\n                CustomerCountryId = $(\\'#Customer_Address_CountryId\\').val();\\n                if (CustomerCountryId == \\'1\\' || CustomerCountryId == \\'643\\') {\\n                    $.ajax({\\n                        type: \"GET\",\\n                        url: \\'/Customer/GetRegions/\\',\\n                        data: \"countryId=\" + CustomerCountryId,\\n                        success: function (data) {\\n                            //$(\\'#Customer_Address_RegionId option\\').remove();\\n                            $(\\'#Customer_Address_RegionId\\').show();\\n                            $(\\'#regionSelectCustomer\\').show();\\n                            $(\\'#regionInputCustomer\\').hide();\\n                            $(\\'#citySelectCustomer\\').show();\\n                            $(\\'#cityInputCustomer\\').hide();\\n                            $(\\'#RegionId option\\').remove();\\n                            $.each(data.Regions, function (i, item) {\\n\\n                                $(\\'#Customer_Address_RegionId\\').append($(\\'<option>\\', {\\n                                    value: item.Id,\\n                                    text: item.Name\\n                                }));\\n                            });\\n\\n                        },\\n                        error: function () {\\n                            alert(\\'Доставка в данный регион временно недоступна.\\');\\n                        }\\n                    });\\n                }\\n                else {\\n                    $(\\'#Customer_Address_RegionId\\').hide();\\n                    $(\\'#regionSelectCustomer\\').hide();\\n                    $(\\'#RegionId option\\').remove();\\n                    $(\\'#regionInputCustomer\\').show();\\n                    $(\\'#CityId option\\').remove();\\n                    $(\\'#citySelectCustomer\\').hide();\\n                    $(\\'#cityInputCustomer\\').show();\\n                }\\n            });\\n\\n            $(\\'#CountryId\\').on(\\'change\\', function () {\\n                CountryName = $(\\'#CountryId option:selected\\').text();\\n                CountryId = $(\\'#CountryId\\').val();\\n                if ((CountryId == \\'1\\' && DeliveryId != \\'11\\') || CountryId == \\'643\\') {\\n                    $.ajax({\\n                        type: \"GET\",\\n                        url: \\'/Checkout/GetRegions/\\',\\n                        data: \"countryId=\" + CountryId + \"&deliveryId=\" + DeliveryId,\\n                        success: function (data) {\\n                            //if (data.Regions.length > 2) {\\n                                $(\\'#regionSelect\\').show();\\n                                $(\\'#regionInput\\').hide();\\n                                $(\\'#citySelect\\').hide();\\n                                $(\\'#cityInput\\').hide();\\n                                $(\\'#RegionId option\\').remove();\\n                                $.each(data.Regions, function (i, item) {\\n                                    $(\\'#RegionId\\').append($(\\'<option>\\', {\\n                                        value: item.Value,\\n                                        text: item.Text\\n                                    }));\\n                                });\\n                            //}\\n                        },\\n                        error: function () {\\n                            alert(\\'Доставка в данный регион временно недоступна.\\');\\n                        }\\n                    });\\n                }\\n                else {\\n                    //$(\\'#RegionId\\').hide();\\n                    $(\\'#regionSelect\\').hide();\\n                    $(\\'#RegionId option\\').remove();\\n                    $(\\'#regionInput\\').show();\\n                    $(\\'#CityId option\\').remove();\\n                    $(\\'#citySelect\\').hide();\\n                    $(\\'#cityInput\\').show();\\n                }\\n            });\\n\\n\\n            $(\\'#Customer_Address_RegionId\\').on(\\'change\\', function () {\\n                CustomerCountryId = $(\\'#Customer_Address_CountryId\\').val();\\n                CustomerRegionId = $(\\'#Customer_Address_RegionId\\').val();\\n                //alert(\"Customer_Address_RegionId\");\\n                $.ajax({\\n                    type: \"GET\",\\n                    url: \\'/Customer/GetCities/\\',\\n                    data: \"countryId=\" + CustomerCountryId + \"&regionId=\" + CustomerRegionId,\\n                    success: function (data) {\\n                        $(\\'#Customer_Address_SettlementId option\\').remove();\\n                        if (CustomerCountryId == \\'1\\' || CustomerCountryId == \\'643\\') {\\n                            //$(\\'#regionSelect\\').show();\\n                            //$(\\'#regionInput\\').hide();\\n                            if (data.Cities.length > 0) {\\n                                //$(\\'#cityInputCustomer\\').hide();\\n                                $(\\'#citySelectCustomer\\').show();\\n                            }\\n                            else\\n                            {\\n                                $(\\'#cityInputCustomer\\').show();\\n                                //$(\\'#citySelectCustomer\\').hide();\\n                            }\\n                        }\\n                        else {\\n                            //$(\\'#regionInput\\').show();\\n                            //$(\\'#regionSelect\\').hide();\\n                            //alert(\"else\");\\n                            $(\\'#cityInputCustomer\\').show();\\n                            $(\\'#citySelectCustomer\\').hide();\\n                        }\\n\\n                        $.each(data.Cities, function (i, item) {\\n                            $(\\'#Customer_Address_SettlementId\\').append($(\\'<option>\\', {\\n                                value: item.Id,\\n                                text: item.Name\\n                            }));\\n                        });\\n                    },\\n                    error: function (data) {\\n                        alert(\\'Доставка в данный регион временно недоступна.\\');\\n                    }\\n                });\\n\\n            });\\n\\n\\n            // 24.09.2019\\n\\n            var qty_settlements = $(\"#SettlementSelect select\").children().length;\\n\\n            if (qty_settlements > 0) {\\n                $(\\'#SettlementSelect\\').show();\\n            }\\n            else {\\n                $(\\'#SettlementSelect\\').hide();\\n            }\\n\\n           // $(\\'#SettlementSelect\\').hide();\\n            $(\\'#SettlementInput\\').hide();\\n\\n\\n            // Cities\\n            $(\\'#Regions2Id\\').on(\\'change\\', function () {\\n                CountryId = $(\\'#LegalEntity_CountriesId\\').val();\\n                RegionId = $(\\'#Regions2Id\\').val();\\n\\n                $.ajax({\\n                    type: \"GET\",\\n                    url: \\'/Customer/GetCities/\\',\\n                    data: \"countryId=\" + CountryId + \"&regionId=\" + RegionId,\\n                    success: function (data) {\\n                        $(\\'#SettlementId option\\').remove();\\n                        if (CountryId == \\'1\\' || CountryId == \\'643\\') {\\n                            if (data.Cities.length > 1) {\\n                                $(\\'#SettlementSelect\\').show();\\n\\t\\t\\t\\t\\t\\t\\t\\t$(\\'#SettlementInput\\').hide();\\n                            }\\n                            else\\n                            {\\n                                $(\\'#SettlementInput\\').show();\\n\\t\\t\\t\\t\\t\\t\\t\\t$(\\'#SettlementSelect\\').hide();\\n                            }\\n                        }\\n                        else {\\n\\t\\t\\t\\t\\t\\t    $(\\'#SettlementInput\\').show();\\n                            $(\\'#SettlementSelect\\').hide();\\n                        }\\n\\n                        $.each(data.Cities, function (i, item) {\\n                            $(\\'#SettlementId\\').append($(\\'<option>\\', {\\n                                value: item.Id,\\n                                text: item.Name\\n                            }));\\n                        });\\n                    },\\n                    error: function (data) {\\n                        alert(\\'Доставка в данный регион временно недоступна.\\');\\n                    }\\n                });\\n            });\\n            //--\\n            $(\\'#RegionsId\\').on(\\'change\\', function () {\\n                CountryId = $(\\'#CountriesId\\').val();\\n                RegionId = $(\\'#RegionsId\\').val();\\n\\n                $.ajax({\\n                    type: \"GET\",\\n                    url: \\'/Customer/GetCities/\\',\\n                    data: \"countryId=\" + CountryId + \"&regionId=\" + RegionId,\\n                    success: function (data) {\\n                        $(\\'#SettlementId option\\').remove();\\n                        if (CountryId == \\'1\\' || CountryId == \\'643\\') {\\n                            if (data.Cities.length > 1) {\\n                                $(\\'#SettlementSelect\\').show();\\n\\t\\t\\t\\t\\t\\t\\t\\t$(\\'#SettlementInput\\').hide();\\n                            }\\n                            else\\n                            {\\n                                $(\\'#SettlementInput\\').show();\\n\\t\\t\\t\\t\\t\\t\\t\\t$(\\'#SettlementSelect\\').hide();\\n                            }\\n                        }\\n                        else {\\n\\t\\t\\t\\t\\t\\t    $(\\'#SettlementInput\\').show();\\n                            $(\\'#SettlementSelect\\').hide();\\n                        }\\n\\n                        $.each(data.Cities, function (i, item) {\\n                            $(\\'#SettlementId\\').append($(\\'<option>\\', {\\n                                value: item.Id,\\n                                text: item.Name\\n                            }));\\n                        });\\n                    },\\n                    error: function (data) {\\n                        alert(\\'Доставка в данный регион временно недоступна.\\');\\n                    }\\n                });\\n            });\\n\\n            // $(\\'#RegionId\\').change(function () {\\n            $(\\'#RegionId\\').on(\\'change\\', function () {\\n                CountryId = $(\\'#CountryId\\').val();\\n                RegionId = $(\\'#RegionId\\').val();\\n                $.ajax({\\n                    type: \"GET\",\\n                    url: \\'/Checkout/GetCities/\\',\\n                    data: \"deliveryId=\" + DeliveryId + \"&countryId=\" + CountryId + \"&regionId=\" + RegionId,\\n                    success: function (data) {\\n                        $(\\'#CityId option\\').remove();\\n                        if (CountryId == \\'1\\' || CountryId == \\'643\\') {\\n                            $(\\'#regionSelect\\').show();\\n                            $(\\'#regionInput\\').hide();\\n                            $(\\'#cityInput\\').hide();\\n                            $(\\'#citySelect\\').show();\\n                        }\\n                        else {\\n                            $(\\'#regionInput\\').show();\\n                            $(\\'#regionSelect\\').hide();\\n                            $(\\'#cityInput\\').show();\\n                            $(\\'#citySelect\\').hide();\\n                        }\\n\\n                        $.each(data.Cities, function (i, item) {\\n                            $(\\'#CityId\\').append($(\\'<option>\\', {\\n                                value: item.Id,\\n                                text: item.Name\\n                            }));\\n                        });\\n                    },\\n                    error: function (data) {\\n                        alert(\\'Доставка в данный регион временно недоступна.\\');\\n                    }\\n                });\\n\\n            });\\n\\n\\n            var qty_settlements = $(\"#SettlementPostSelect select\").children().length;\\n\\n            if (qty_settlements > 0) {\\n                $(\\'#SettlementPostSelect\\').show();\\n            }\\n            else {\\n                $(\\'#SettlementPostSelect\\').hide();\\n            }\\n\\n            $(\\'#SettlementPostInput\\').hide();\\n\\n\\n            $(\\'#LegalEntity_RegionsPostId\\').on(\\'change\\', function () {\\n\\n                CountryId = $(\\'#LegalEntity_CountryPostId\\').val();\\n                RegionId = $(\\'#LegalEntity_RegionsPostId\\').val();\\n\\n                $.ajax({\\n                    type: \"GET\",\\n                    url: \\'/Customer/GetCities/\\',\\n                    data: \"countryId=\" + CountryId + \"&regionId=\" + RegionId,\\n                    success: function (data) {\\n                        $(\\'#SettlementPostId option\\').remove();\\n                        if (CountryId == \\'1\\' || CountryId == \\'643\\') {\\n                            if (data.Cities.length > 1) {\\n                                $(\\'#SettlementPostSelect\\').show();\\n\\t\\t\\t\\t\\t\\t\\t\\t$(\\'#SettlementPostInput\\').hide();\\n                            }\\n                            else\\n                            {\\n                                $(\\'#SettlementPostInput\\').show();\\n\\t\\t\\t\\t\\t\\t\\t\\t$(\\'#SettlementPostSelect\\').hide();\\n                            }\\n                        }\\n                        else {\\n\\t\\t\\t\\t\\t\\t    $(\\'#SettlementPostInput\\').show();\\n                            $(\\'#SettlementPostSelect\\').hide();\\n                        }\\n\\n                        $.each(data.Cities, function (i, item) {\\n                            $(\\'#SettlementPostId\\').append($(\\'<option>\\', {\\n                                value: item.Id,\\n                                text: item.Name\\n                            }));\\n                        });\\n                    },\\n                    error: function (data) {\\n                        alert(\\'Доставка в данный регион временно недоступна.\\');\\n                    }\\n                });\\n            });\\n\\n            $(\\'#RegionsPostId\\').on(\\'change\\', function () {\\n\\n                CountryId = $(\\'#CountryPostId\\').val();\\n                RegionId = $(\\'#RegionsPostId\\').val();\\n\\n                $.ajax({\\n                    type: \"GET\",\\n                    url: \\'/Customer/GetCities/\\',\\n                    data: \"countryId=\" + CountryId + \"&regionId=\" + RegionId,\\n                    success: function (data) {\\n                        $(\\'#SettlementPostId option\\').remove();\\n                        if (CountryId == \\'1\\' || CountryId == \\'643\\') {\\n                            if (data.Cities.length > 1) {\\n                                $(\\'#SettlementPostSelect\\').show();\\n\\t\\t\\t\\t\\t\\t\\t\\t$(\\'#SettlementPostInput\\').hide();\\n                            }\\n                            else\\n                            {\\n                                $(\\'#SettlementPostInput\\').show();\\n\\t\\t\\t\\t\\t\\t\\t\\t$(\\'#SettlementPostSelect\\').hide();\\n                            }\\n                        }\\n                        else {\\n\\t\\t\\t\\t\\t\\t    $(\\'#SettlementPostInput\\').show();\\n                            $(\\'#SettlementPostSelect\\').hide();\\n                        }\\n\\n                        $.each(data.Cities, function (i, item) {\\n                            $(\\'#SettlementPostId\\').append($(\\'<option>\\', {\\n                                value: item.Id,\\n                                text: item.Name\\n                            }));\\n                        });\\n                    },\\n                    error: function (data) {\\n                        alert(\\'Доставка в данный регион временно недоступна.\\');\\n                    }\\n                });\\n            });\\n\\n        });\\n\\n    </script>\\n\\n\\n    <!-- Yandex.Metrika counter -->\\n    <script type=\"text/javascript\">\\n        (function (m, e, t, r, i, k, a) {\\n            m[i] = m[i] || function () { (m[i].a = m[i].a || []).push(arguments) };\\n            m[i].l = 1 * new Date();\\n            for (var j = 0; j < document.scripts.length; j++) { if (document.scripts[j].src === r) { return; } }\\n            k = e.createElement(t), a = e.getElementsByTagName(t)[0], k.async = 1, k.src = r, a.parentNode.insertBefore(k, a)\\n        })\\n            (window, document, \"script\", \"https://mc.yandex.ru/metrika/tag.js\", \"ym\");\\n\\n        ym(11588953, \"init\", {\\n            clickmap: true,\\n            trackLinks: true,\\n            accurateTrackBounce: true,\\n            webvisor: true\\n        });\\n    </script>\\n    <noscript><div><img src=\"https://mc.yandex.ru/watch/11588953\" style=\"position:absolute; left:-9999px;\" alt=\"\" /></div></noscript>\\n    <!-- /Yandex.Metrika counter -->\\n\\n    <a href=\"#\" id=\"back-to-top\" title=\"Наверх\">↑</a>\\n\\n    <div id=\"address-content\" style=\"display:none;max-width:500px;\"></div>\\n\\n\\n    <div id=\"searchCategoriesModal\" tabindex=\"-1\" role=\"dialog\" aria-labelledby=\"searchCategories\" aria-hidden=\"true\" class=\"modal fade\">\\n        <div class=\"modal-dialog modal-lg modal-search-categories\">\\n            <div class=\"modal-content\">\\n                <!--<div class=\"modal-header\">\\n                <h5 class=\"modal-title\">Категории</h5>\\n\\n                     </div>-->\\n                <div class=\"modal-body\">\\n                    <div style=\"height:20px;padding-right:8px;\"><button type=\"button\" data-dismiss=\"modal\" aria-label=\"Close\" class=\"close\"><i class=\"bi bi-x-circle\"></i></button></div>\\n                    <div class=\"container-fluid search-categories-container\">\\n                        <div class=\"row\">\\n                            <div class=\"col-sm-12 col-md-12 col-lg-5 col-xl-5\" style=\"padding-bottom:15px;\">\\n                                <ul class=\"list-unstyled search-categories-list\">\\n                                    <li class=\"search-categories-list-item\" id=\"scli_0\"><i class=\"bi bi-search\"></i> <span id=\"scli_txt_0\">Везде</span></li>\\n                                </ul>\\n                            </div>\\n                        </div>\\n                        <div class=\"row\">\\n                            <div class=\"col-sm-12 col-md-12 col-lg-5 col-xl-5\">\\n                                <ul class=\"list-unstyled search-categories-list\">\\n                                    <li class=\"search-categories-list-item\" id=\"scli_5\"><i class=\"bi bi-book\"></i> <span id=\"scli_txt_5\">Книги</span></li>\\n                                    <li class=\"search-categories-list-item\" id=\"scli_10\"><i class=\"bi bi-globe-americas\"></i> <span id=\"scli_txt_10\">Путешествие и туризм</span></li>\\n                                    <li class=\"search-categories-list-item\" id=\"scli_8\"><i class=\"bi bi-newspaper\"></i> <span id=\"scli_txt_8\">Периодика</span></li>\\n                                    <li class=\"search-categories-list-item\" id=\"scli_2\"><i class=\"bi bi-calendar\"></i> <span id=\"scli_txt_2\">Календари</span></li>\\n                                    <li class=\"search-categories-list-item\" id=\"scli_3\"><i class=\"bi bi-pen\"></i> <span id=\"scli_txt_3\">Канцелярские товары</span></li>\\n                                    <li class=\"search-categories-list-item\" id=\"scli_12\"><i class=\"bi bi-x-diamond\"></i> <span id=\"scli_txt_12\">Разное</span></li>\\n                                </ul>\\n                            </div>\\n                            <div class=\"col-sm-12 col-md-12 col-lg-7 col-xl-7\">\\n                                <ul class=\"list-unstyled search-categories-list\">\\n                                    <li class=\"search-categories-list-item\" id=\"scli_1\"><i class=\"bi bi-feather\"></i> <span id=\"scli_txt_1\">Антиквариат и коллекционирование</span></li>\\n                                    <li class=\"search-categories-list-item\" id=\"scli_11\"><i class=\"bi bi-book-half\"></i> <span id=\"scli_txt_11\">Букинистика</span></li>\\n                                    <li class=\"search-categories-list-item\" id=\"scli_4\"><i class=\"bi bi-image\"></i> <span id=\"scli_txt_4\">Картины, копии картин, гравюры</span></li>\\n                                    <li class=\"search-categories-list-item\" id=\"scli_9\"><i class=\"bi bi-palette\"></i> <span id=\"scli_txt_9\">Прикладное искусство</span></li>\\n                                    <li class=\"search-categories-list-item\" id=\"scli_7\"><i class=\"bi bi-circle\"></i> <span id=\"scli_txt_7\">Монеты</span></li>\\n                                    <li class=\"search-categories-list-item\" id=\"scli_6\"><i class=\"bi bi-postage\"></i> <span id=\"scli_txt_6\">Марки</span></li>\\n                                </ul>\\n                            </div>\\n                        </div>\\n                    </div>\\n                </div>\\n            </div>\\n        </div>\\n    </div>\\n\\n\\n\\n\\n\\n</div><div><div class=\"grecaptcha-badge\" data-style=\"bottomright\" style=\"width: 256px; height: 60px; position: fixed; visibility: hidden; display: block; transition: right 0.3s; bottom: 14px; right: -186px; box-shadow: gray 0px 0px 5px; border-radius: 2px; overflow: hidden;\"><div class=\"grecaptcha-logo\"><iframe title=\"reCAPTCHA\" width=\"256\" height=\"60\" role=\"presentation\" name=\"a-lclyofkp5c7y\" frameborder=\"0\" scrolling=\"no\" sandbox=\"allow-forms allow-popups allow-same-origin allow-scripts allow-top-navigation allow-modals allow-popups-to-escape-sandbox allow-storage-access-by-user-activation\" src=\"https://www.google.com/recaptcha/api2/anchor?ar=1&amp;k=6LeAtKsiAAAAAB2-39qRtUXN68LwgjmLeY5q8I33&amp;co=aHR0cHM6Ly93d3cuYmlibGlvLWdsb2J1cy5ydTo0NDM.&amp;hl=en&amp;v=pPK749sccDmVW_9DSeTMVvh2&amp;size=invisible&amp;cb=a6bsanjyb1ho\"></iframe></div><div class=\"grecaptcha-error\"></div><textarea id=\"g-recaptcha-response-100000\" name=\"g-recaptcha-response\" class=\"g-recaptcha-response\" style=\"width: 250px; height: 40px; border: 1px solid rgb(193, 193, 193); margin: 10px 25px; padding: 0px; resize: none; display: none;\"></textarea></div><iframe style=\"display: none;\"></iframe></div><div role=\"status\" aria-live=\"assertive\" aria-relevant=\"additions\" class=\"ui-helper-hidden-accessible\"></div></body></html>'"
      ]
     },
     "execution_count": 10,
     "metadata": {},
     "output_type": "execute_result"
    }
   ],
   "source": [
    "page1"
   ]
  },
  {
   "cell_type": "markdown",
   "metadata": {},
   "source": [
    "Теперь обработаем эту страницу через `BeautifulSoup`:"
   ]
  },
  {
   "cell_type": "code",
   "execution_count": 11,
   "metadata": {},
   "outputs": [],
   "source": [
    "from bs4 import BeautifulSoup"
   ]
  },
  {
   "cell_type": "code",
   "execution_count": 12,
   "metadata": {},
   "outputs": [],
   "source": [
    "soup1 = BeautifulSoup(page1) #library XML"
   ]
  },
  {
   "cell_type": "code",
   "execution_count": 13,
   "metadata": {},
   "outputs": [
    {
     "data": {
      "text/plain": [
       "bs4.BeautifulSoup"
      ]
     },
     "execution_count": 13,
     "metadata": {},
     "output_type": "execute_result"
    }
   ],
   "source": [
    "type(soup1)"
   ]
  },
  {
   "cell_type": "markdown",
   "metadata": {},
   "source": [
    "Найдем все названия книг на этой странице. По исходному коду можно увидеть, что они имеют тэг `a` с атрибутом `class`, равным `name`:"
   ]
  },
  {
   "cell_type": "code",
   "execution_count": 14,
   "metadata": {
    "scrolled": false
   },
   "outputs": [
    {
     "name": "stdout",
     "output_type": "stream",
     "text": [
      "['Символьные математические вычисления средствами SymPy Python', 'Изучаем Python: программирование игр, визуализация данных, веб-приложения. ', 'Python для начинающих: учимся программировать с помощью мини-игр и загадок', 'Быстрый доступ. Python: советы, функции, подсказки. Шпаргалка-буклет для начинающих (215х285 мм, 6 полос компактного буклета в европодвесе)', 'Python, например', 'Надежный Python', 'Сверхбыстрый PYTHON', 'Знакомство с Python', 'Python с нуля', 'Python для Excel', 'Python для гиков', 'Python для чайников']\n"
     ]
    }
   ],
   "source": [
    "books1 = []\n",
    "titles = soup1.find_all('h3')\n",
    "for title in titles:\n",
    "    if 'p_title' in str(title):\n",
    "        books1.append(title.text)\n",
    "print(books1)"
   ]
  },
  {
   "cell_type": "markdown",
   "metadata": {},
   "source": [
    "Теперь аналогичным образом сгрузим информацию об авторах:"
   ]
  },
  {
   "cell_type": "code",
   "execution_count": 78,
   "metadata": {},
   "outputs": [],
   "source": [
    "# [a.text for a in soup1.find_all('div', {'class': 'author'})]\n",
    "# то же самое что и\n",
    "authors1 = []\n",
    "for a in soup1.find_all('div', {'class': 'author'}):\n",
    "    authors1.append(a.text)"
   ]
  },
  {
   "cell_type": "code",
   "execution_count": 56,
   "metadata": {},
   "outputs": [
    {
     "data": {
      "text/plain": [
       "['Лейси Н.',\n",
       " 'Виафоре П.',\n",
       " 'Антао Т.',\n",
       " 'Зумштейн Ф.',\n",
       " 'Левашов П. Ю.',\n",
       " 'Азиф М.',\n",
       " 'Мюллер Дж. ',\n",
       " 'Гэддис Т.',\n",
       " 'Фаррелл Д.',\n",
       " 'Голиков Д. В.',\n",
       " 'Кольцов Д. М.',\n",
       " ' ']"
      ]
     },
     "execution_count": 56,
     "metadata": {},
     "output_type": "execute_result"
    }
   ],
   "source": [
    "authors1"
   ]
  },
  {
   "cell_type": "code",
   "execution_count": 25,
   "metadata": {},
   "outputs": [
    {
     "data": {
      "text/plain": [
       "[<div class=\"author\">Лейси Н.</div>,\n",
       " <div class=\"author\">Виафоре П.</div>,\n",
       " <div class=\"author\">Антао Т.</div>,\n",
       " <div class=\"author\">Зумштейн Ф.</div>,\n",
       " <div class=\"author\">Левашов П. Ю.</div>,\n",
       " <div class=\"author\">Азиф М.</div>,\n",
       " <div class=\"author\">Мюллер Дж. </div>,\n",
       " <div class=\"author\">Гэддис Т.</div>,\n",
       " <div class=\"author\">Фаррелл Д.</div>,\n",
       " <div class=\"author\">Голиков Д. В.</div>,\n",
       " <div class=\"author\">Кольцов Д. М.</div>,\n",
       " <div class=\"author\"> </div>]"
      ]
     },
     "execution_count": 25,
     "metadata": {},
     "output_type": "execute_result"
    }
   ],
   "source": [
    "soup1.find_all('div', {'class': 'author'})"
   ]
  },
  {
   "cell_type": "code",
   "execution_count": 79,
   "metadata": {},
   "outputs": [],
   "source": [
    "authors1 = [a.text for a \n",
    "            in soup1.find_all('div', {'class': 'author'})]"
   ]
  },
  {
   "cell_type": "code",
   "execution_count": 80,
   "metadata": {},
   "outputs": [
    {
     "data": {
      "text/plain": [
       "['Лейси Н.',\n",
       " 'Виафоре П.',\n",
       " 'Антао Т.',\n",
       " 'Зумштейн Ф.',\n",
       " 'Левашов П. Ю.',\n",
       " 'Азиф М.',\n",
       " 'Мюллер Дж. ',\n",
       " 'Гэддис Т.',\n",
       " 'Фаррелл Д.',\n",
       " 'Голиков Д. В.',\n",
       " 'Кольцов Д. М.',\n",
       " ' ']"
      ]
     },
     "execution_count": 80,
     "metadata": {},
     "output_type": "execute_result"
    }
   ],
   "source": [
    "authors1"
   ]
  },
  {
   "cell_type": "markdown",
   "metadata": {},
   "source": [
    "И, конечно, цену:"
   ]
  },
  {
   "cell_type": "code",
   "execution_count": 81,
   "metadata": {},
   "outputs": [
    {
     "name": "stdout",
     "output_type": "stream",
     "text": [
      "['1569\\xa0₽', '1115\\xa0₽', 'Нет в наличии', '1178\\xa0₽', '1959\\xa0₽', '1250\\xa0₽', '1907\\xa0₽', '2501\\xa0₽', '1115\\xa0₽', '953\\xa0₽', '872\\xa0₽', '1160\\xa0₽']\n"
     ]
    }
   ],
   "source": [
    "price1 = []\n",
    "for p in soup1.find_all('span'):\n",
    "    if 'price_item_new' in str(p) or 'price-item' in str(p):\n",
    "        price1.append(p.text)\n",
    "print(price1)"
   ]
  },
  {
   "cell_type": "code",
   "execution_count": null,
   "metadata": {},
   "outputs": [],
   "source": [
    "for p in soup1.find('span')"
   ]
  },
  {
   "cell_type": "code",
   "execution_count": 68,
   "metadata": {},
   "outputs": [],
   "source": [
    "price1 = [p.text for p in soup1.find_all('span', {'class':'price_item_new price_item_with_discount'})]"
   ]
  },
  {
   "cell_type": "code",
   "execution_count": 69,
   "metadata": {},
   "outputs": [
    {
     "data": {
      "text/plain": [
       "['1115\\xa0₽',\n",
       " '1178\\xa0₽',\n",
       " '1250\\xa0₽',\n",
       " '1907\\xa0₽',\n",
       " '2501\\xa0₽',\n",
       " '1115\\xa0₽',\n",
       " '953\\xa0₽',\n",
       " '872\\xa0₽',\n",
       " '1160\\xa0₽']"
      ]
     },
     "execution_count": 69,
     "metadata": {},
     "output_type": "execute_result"
    }
   ],
   "source": [
    "price1"
   ]
  },
  {
   "cell_type": "markdown",
   "metadata": {},
   "source": [
    "Осталось пройтись по всем страницам, которые были выданы в результате поиска. Для примера перейдем на страницу 2 и на этом остановимся."
   ]
  },
  {
   "cell_type": "code",
   "execution_count": 82,
   "metadata": {},
   "outputs": [],
   "source": [
    "next_p = br.find_element(By.CSS_SELECTOR, '#content > div > div > div.col-lg-9 > div.pages > ul > li:nth-child(4) > a > span:nth-child(1)')"
   ]
  },
  {
   "cell_type": "code",
   "execution_count": 83,
   "metadata": {},
   "outputs": [],
   "source": [
    "next_p.click()"
   ]
  },
  {
   "cell_type": "markdown",
   "metadata": {},
   "source": [
    "Проделаем то же самое, что и с первой страницей. По-хорошему нужно написать функцию, которая будет искать на странице названия книг, их расположение и цену. Но оставим это в качестве задания читателю :)"
   ]
  },
  {
   "cell_type": "code",
   "execution_count": 85,
   "metadata": {},
   "outputs": [
    {
     "name": "stdout",
     "output_type": "stream",
     "text": [
      "['1569\\xa0₽', '1115\\xa0₽', 'Нет в наличии', '1178\\xa0₽', '1959\\xa0₽', '1250\\xa0₽', '1907\\xa0₽', '2501\\xa0₽', '1115\\xa0₽', '953\\xa0₽', '872\\xa0₽', '1160\\xa0₽']\n"
     ]
    }
   ],
   "source": [
    "page2 = br.page_source\n",
    "soup2 = BeautifulSoup(page2)\n",
    "books2 = []\n",
    "titles = soup1.find_all('h3')\n",
    "for title in titles:\n",
    "    if 'p_title' in str(title):\n",
    "        books2.append(title.text)\n",
    "author2 = [a.text for a in soup2.find_all('div', {'class': 'author'})]\n",
    "price2 = []\n",
    "for p in soup1.find_all('span'):\n",
    "    if 'price_item_new' in str(p) or 'price-item' in str(p):\n",
    "        price2.append(p.text)\n",
    "print(price2)"
   ]
  },
  {
   "cell_type": "markdown",
   "metadata": {},
   "source": [
    "Расширим списки результатов с первой страницы данными, полученными со второй страницы, используя метод `.extend()`."
   ]
  },
  {
   "cell_type": "code",
   "execution_count": 86,
   "metadata": {},
   "outputs": [
    {
     "data": {
      "text/plain": [
       "24"
      ]
     },
     "execution_count": 86,
     "metadata": {},
     "output_type": "execute_result"
    }
   ],
   "source": [
    "len(price1)"
   ]
  },
  {
   "cell_type": "code",
   "execution_count": 87,
   "metadata": {},
   "outputs": [],
   "source": [
    "books1.extend(books2) # books1 + books2\n",
    "authors1.extend(books2)\n",
    "# price1.extend(price2)"
   ]
  },
  {
   "cell_type": "code",
   "execution_count": 88,
   "metadata": {},
   "outputs": [
    {
     "data": {
      "text/plain": [
       "['1569\\xa0₽',\n",
       " '1115\\xa0₽',\n",
       " 'Нет в наличии',\n",
       " '1178\\xa0₽',\n",
       " '1959\\xa0₽',\n",
       " '1250\\xa0₽',\n",
       " '1907\\xa0₽',\n",
       " '2501\\xa0₽',\n",
       " '1115\\xa0₽',\n",
       " '953\\xa0₽',\n",
       " '872\\xa0₽',\n",
       " '1160\\xa0₽',\n",
       " '1569\\xa0₽',\n",
       " '1115\\xa0₽',\n",
       " 'Нет в наличии',\n",
       " '1178\\xa0₽',\n",
       " '1959\\xa0₽',\n",
       " '1250\\xa0₽',\n",
       " '1907\\xa0₽',\n",
       " '2501\\xa0₽',\n",
       " '1115\\xa0₽',\n",
       " '953\\xa0₽',\n",
       " '872\\xa0₽',\n",
       " '1160\\xa0₽']"
      ]
     },
     "execution_count": 88,
     "metadata": {},
     "output_type": "execute_result"
    }
   ],
   "source": [
    "price1"
   ]
  },
  {
   "cell_type": "markdown",
   "metadata": {},
   "source": [
    "Осталось импортировать библиотеку `pandas` и создать датафрейм."
   ]
  },
  {
   "cell_type": "code",
   "execution_count": 92,
   "metadata": {},
   "outputs": [],
   "source": [
    "import pandas as pd"
   ]
  },
  {
   "cell_type": "code",
   "execution_count": 89,
   "metadata": {},
   "outputs": [
    {
     "data": {
      "text/plain": [
       "24"
      ]
     },
     "execution_count": 89,
     "metadata": {},
     "output_type": "execute_result"
    }
   ],
   "source": [
    "len(books1)"
   ]
  },
  {
   "cell_type": "code",
   "execution_count": 90,
   "metadata": {},
   "outputs": [
    {
     "data": {
      "text/plain": [
       "24"
      ]
     },
     "execution_count": 90,
     "metadata": {},
     "output_type": "execute_result"
    }
   ],
   "source": [
    "len(authors1)"
   ]
  },
  {
   "cell_type": "code",
   "execution_count": 91,
   "metadata": {},
   "outputs": [
    {
     "data": {
      "text/plain": [
       "24"
      ]
     },
     "execution_count": 91,
     "metadata": {},
     "output_type": "execute_result"
    }
   ],
   "source": [
    "len(price1)"
   ]
  },
  {
   "cell_type": "markdown",
   "metadata": {},
   "source": [
    "Для разнообразия создадим датафрейм не из списка списков, а из словаря. Ключами словаря будут названия столбцов в таблице, а значениями – списки с сохраненной информацией (названия книг, цены и проч.)."
   ]
  },
  {
   "cell_type": "code",
   "execution_count": 93,
   "metadata": {},
   "outputs": [],
   "source": [
    "df = pd.DataFrame({'book': books1, 'author': authors1,\n",
    "                   'price': price1})"
   ]
  },
  {
   "cell_type": "code",
   "execution_count": 94,
   "metadata": {},
   "outputs": [
    {
     "data": {
      "text/html": [
       "<div>\n",
       "<style scoped>\n",
       "    .dataframe tbody tr th:only-of-type {\n",
       "        vertical-align: middle;\n",
       "    }\n",
       "\n",
       "    .dataframe tbody tr th {\n",
       "        vertical-align: top;\n",
       "    }\n",
       "\n",
       "    .dataframe thead th {\n",
       "        text-align: right;\n",
       "    }\n",
       "</style>\n",
       "<table border=\"1\" class=\"dataframe\">\n",
       "  <thead>\n",
       "    <tr style=\"text-align: right;\">\n",
       "      <th></th>\n",
       "      <th>book</th>\n",
       "      <th>author</th>\n",
       "      <th>price</th>\n",
       "    </tr>\n",
       "  </thead>\n",
       "  <tbody>\n",
       "    <tr>\n",
       "      <th>0</th>\n",
       "      <td>Python, например</td>\n",
       "      <td>Лейси Н.</td>\n",
       "      <td>1569 ₽</td>\n",
       "    </tr>\n",
       "    <tr>\n",
       "      <th>1</th>\n",
       "      <td>Надежный Python</td>\n",
       "      <td>Виафоре П.</td>\n",
       "      <td>1115 ₽</td>\n",
       "    </tr>\n",
       "    <tr>\n",
       "      <th>2</th>\n",
       "      <td>Сверхбыстрый PYTHON</td>\n",
       "      <td>Антао Т.</td>\n",
       "      <td>Нет в наличии</td>\n",
       "    </tr>\n",
       "    <tr>\n",
       "      <th>3</th>\n",
       "      <td>Python для Excel</td>\n",
       "      <td>Зумштейн Ф.</td>\n",
       "      <td>1178 ₽</td>\n",
       "    </tr>\n",
       "    <tr>\n",
       "      <th>4</th>\n",
       "      <td>Python с нуля</td>\n",
       "      <td>Левашов П. Ю.</td>\n",
       "      <td>1959 ₽</td>\n",
       "    </tr>\n",
       "    <tr>\n",
       "      <th>5</th>\n",
       "      <td>Python для гиков</td>\n",
       "      <td>Азиф М.</td>\n",
       "      <td>1250 ₽</td>\n",
       "    </tr>\n",
       "    <tr>\n",
       "      <th>6</th>\n",
       "      <td>Python для чайников</td>\n",
       "      <td>Мюллер Дж.</td>\n",
       "      <td>1907 ₽</td>\n",
       "    </tr>\n",
       "    <tr>\n",
       "      <th>7</th>\n",
       "      <td>Начинаем программировать на Python</td>\n",
       "      <td>Гэддис Т.</td>\n",
       "      <td>2501 ₽</td>\n",
       "    </tr>\n",
       "    <tr>\n",
       "      <th>8</th>\n",
       "      <td>Python. Как стать профессионалом</td>\n",
       "      <td>Фаррелл Д.</td>\n",
       "      <td>1115 ₽</td>\n",
       "    </tr>\n",
       "    <tr>\n",
       "      <th>9</th>\n",
       "      <td>Python для юных программистов</td>\n",
       "      <td>Голиков Д. В.</td>\n",
       "      <td>953 ₽</td>\n",
       "    </tr>\n",
       "  </tbody>\n",
       "</table>\n",
       "</div>"
      ],
      "text/plain": [
       "                                 book         author          price\n",
       "0                    Python, например       Лейси Н.         1569 ₽\n",
       "1                     Надежный Python     Виафоре П.         1115 ₽\n",
       "2                 Сверхбыстрый PYTHON       Антао Т.  Нет в наличии\n",
       "3                    Python для Excel    Зумштейн Ф.         1178 ₽\n",
       "4                       Python с нуля  Левашов П. Ю.         1959 ₽\n",
       "5                    Python для гиков        Азиф М.         1250 ₽\n",
       "6                 Python для чайников    Мюллер Дж.          1907 ₽\n",
       "7  Начинаем программировать на Python      Гэддис Т.         2501 ₽\n",
       "8    Python. Как стать профессионалом     Фаррелл Д.         1115 ₽\n",
       "9       Python для юных программистов  Голиков Д. В.          953 ₽"
      ]
     },
     "execution_count": 94,
     "metadata": {},
     "output_type": "execute_result"
    }
   ],
   "source": [
    "df.head(10)"
   ]
  },
  {
   "cell_type": "code",
   "execution_count": 95,
   "metadata": {},
   "outputs": [
    {
     "name": "stdout",
     "output_type": "stream",
     "text": [
      "<class 'pandas.core.frame.DataFrame'>\n",
      "RangeIndex: 24 entries, 0 to 23\n",
      "Data columns (total 3 columns):\n",
      " #   Column  Non-Null Count  Dtype \n",
      "---  ------  --------------  ----- \n",
      " 0   book    24 non-null     object\n",
      " 1   author  24 non-null     object\n",
      " 2   price   24 non-null     object\n",
      "dtypes: object(3)\n",
      "memory usage: 704.0+ bytes\n"
     ]
    }
   ],
   "source": [
    "df.info()"
   ]
  },
  {
   "cell_type": "code",
   "execution_count": 96,
   "metadata": {},
   "outputs": [],
   "source": [
    "df['price'] = df['price'].apply(lambda x: str(x).split()[0])"
   ]
  },
  {
   "cell_type": "code",
   "execution_count": 98,
   "metadata": {},
   "outputs": [
    {
     "data": {
      "text/html": [
       "<div>\n",
       "<style scoped>\n",
       "    .dataframe tbody tr th:only-of-type {\n",
       "        vertical-align: middle;\n",
       "    }\n",
       "\n",
       "    .dataframe tbody tr th {\n",
       "        vertical-align: top;\n",
       "    }\n",
       "\n",
       "    .dataframe thead th {\n",
       "        text-align: right;\n",
       "    }\n",
       "</style>\n",
       "<table border=\"1\" class=\"dataframe\">\n",
       "  <thead>\n",
       "    <tr style=\"text-align: right;\">\n",
       "      <th></th>\n",
       "      <th>book</th>\n",
       "      <th>author</th>\n",
       "      <th>price</th>\n",
       "    </tr>\n",
       "  </thead>\n",
       "  <tbody>\n",
       "    <tr>\n",
       "      <th>0</th>\n",
       "      <td>Python, например</td>\n",
       "      <td>Лейси Н.</td>\n",
       "      <td>1569</td>\n",
       "    </tr>\n",
       "    <tr>\n",
       "      <th>1</th>\n",
       "      <td>Надежный Python</td>\n",
       "      <td>Виафоре П.</td>\n",
       "      <td>1115</td>\n",
       "    </tr>\n",
       "    <tr>\n",
       "      <th>2</th>\n",
       "      <td>Сверхбыстрый PYTHON</td>\n",
       "      <td>Антао Т.</td>\n",
       "      <td>Нет</td>\n",
       "    </tr>\n",
       "    <tr>\n",
       "      <th>3</th>\n",
       "      <td>Python для Excel</td>\n",
       "      <td>Зумштейн Ф.</td>\n",
       "      <td>1178</td>\n",
       "    </tr>\n",
       "    <tr>\n",
       "      <th>4</th>\n",
       "      <td>Python с нуля</td>\n",
       "      <td>Левашов П. Ю.</td>\n",
       "      <td>1959</td>\n",
       "    </tr>\n",
       "    <tr>\n",
       "      <th>5</th>\n",
       "      <td>Python для гиков</td>\n",
       "      <td>Азиф М.</td>\n",
       "      <td>1250</td>\n",
       "    </tr>\n",
       "    <tr>\n",
       "      <th>6</th>\n",
       "      <td>Python для чайников</td>\n",
       "      <td>Мюллер Дж.</td>\n",
       "      <td>1907</td>\n",
       "    </tr>\n",
       "    <tr>\n",
       "      <th>7</th>\n",
       "      <td>Начинаем программировать на Python</td>\n",
       "      <td>Гэддис Т.</td>\n",
       "      <td>2501</td>\n",
       "    </tr>\n",
       "    <tr>\n",
       "      <th>8</th>\n",
       "      <td>Python. Как стать профессионалом</td>\n",
       "      <td>Фаррелл Д.</td>\n",
       "      <td>1115</td>\n",
       "    </tr>\n",
       "    <tr>\n",
       "      <th>9</th>\n",
       "      <td>Python для юных программистов</td>\n",
       "      <td>Голиков Д. В.</td>\n",
       "      <td>953</td>\n",
       "    </tr>\n",
       "  </tbody>\n",
       "</table>\n",
       "</div>"
      ],
      "text/plain": [
       "                                 book         author price\n",
       "0                    Python, например       Лейси Н.  1569\n",
       "1                     Надежный Python     Виафоре П.  1115\n",
       "2                 Сверхбыстрый PYTHON       Антао Т.   Нет\n",
       "3                    Python для Excel    Зумштейн Ф.  1178\n",
       "4                       Python с нуля  Левашов П. Ю.  1959\n",
       "5                    Python для гиков        Азиф М.  1250\n",
       "6                 Python для чайников    Мюллер Дж.   1907\n",
       "7  Начинаем программировать на Python      Гэддис Т.  2501\n",
       "8    Python. Как стать профессионалом     Фаррелл Д.  1115\n",
       "9       Python для юных программистов  Голиков Д. В.   953"
      ]
     },
     "execution_count": 98,
     "metadata": {},
     "output_type": "execute_result"
    }
   ],
   "source": [
    "df.head(10)"
   ]
  },
  {
   "cell_type": "code",
   "execution_count": 99,
   "metadata": {},
   "outputs": [],
   "source": [
    "df['price'] = df['price'].apply(lambda x: \n",
    "                                0 if x =='Нет' else x)"
   ]
  },
  {
   "cell_type": "code",
   "execution_count": 102,
   "metadata": {},
   "outputs": [],
   "source": [
    "df['price'] = df['price'].astype(int)"
   ]
  },
  {
   "cell_type": "code",
   "execution_count": 103,
   "metadata": {},
   "outputs": [
    {
     "name": "stdout",
     "output_type": "stream",
     "text": [
      "<class 'pandas.core.frame.DataFrame'>\n",
      "RangeIndex: 24 entries, 0 to 23\n",
      "Data columns (total 3 columns):\n",
      " #   Column  Non-Null Count  Dtype \n",
      "---  ------  --------------  ----- \n",
      " 0   book    24 non-null     object\n",
      " 1   author  24 non-null     object\n",
      " 2   price   24 non-null     int64 \n",
      "dtypes: int64(1), object(2)\n",
      "memory usage: 704.0+ bytes\n"
     ]
    }
   ],
   "source": [
    "df.info()"
   ]
  },
  {
   "cell_type": "code",
   "execution_count": 104,
   "metadata": {},
   "outputs": [
    {
     "data": {
      "text/plain": [
       "1298.25"
      ]
     },
     "execution_count": 104,
     "metadata": {},
     "output_type": "execute_result"
    }
   ],
   "source": [
    "df['price'].mean()"
   ]
  },
  {
   "cell_type": "code",
   "execution_count": 68,
   "metadata": {},
   "outputs": [
    {
     "name": "stdout",
     "output_type": "stream",
     "text": [
      "<class 'pandas.core.frame.DataFrame'>\n",
      "RangeIndex: 24 entries, 0 to 23\n",
      "Data columns (total 3 columns):\n",
      " #   Column  Non-Null Count  Dtype \n",
      "---  ------  --------------  ----- \n",
      " 0   book    24 non-null     object\n",
      " 1   author  24 non-null     object\n",
      " 2   price   24 non-null     int64 \n",
      "dtypes: int64(1), object(2)\n",
      "memory usage: 704.0+ bytes\n"
     ]
    }
   ],
   "source": [
    "df.info() #object ~ string"
   ]
  },
  {
   "cell_type": "code",
   "execution_count": 69,
   "metadata": {},
   "outputs": [
    {
     "data": {
      "text/html": [
       "<div>\n",
       "<style scoped>\n",
       "    .dataframe tbody tr th:only-of-type {\n",
       "        vertical-align: middle;\n",
       "    }\n",
       "\n",
       "    .dataframe tbody tr th {\n",
       "        vertical-align: top;\n",
       "    }\n",
       "\n",
       "    .dataframe thead th {\n",
       "        text-align: right;\n",
       "    }\n",
       "</style>\n",
       "<table border=\"1\" class=\"dataframe\">\n",
       "  <thead>\n",
       "    <tr style=\"text-align: right;\">\n",
       "      <th></th>\n",
       "      <th>book</th>\n",
       "      <th>author</th>\n",
       "      <th>price</th>\n",
       "    </tr>\n",
       "  </thead>\n",
       "  <tbody>\n",
       "    <tr>\n",
       "      <th>0</th>\n",
       "      <td>Python, например</td>\n",
       "      <td>Лейси Н.</td>\n",
       "      <td>1115</td>\n",
       "    </tr>\n",
       "    <tr>\n",
       "      <th>1</th>\n",
       "      <td>Надежный Python</td>\n",
       "      <td>Виафоре П.</td>\n",
       "      <td>4247</td>\n",
       "    </tr>\n",
       "    <tr>\n",
       "      <th>2</th>\n",
       "      <td>Сверхбыстрый PYTHON</td>\n",
       "      <td>Антао Т.</td>\n",
       "      <td>1178</td>\n",
       "    </tr>\n",
       "    <tr>\n",
       "      <th>3</th>\n",
       "      <td>Python для Excel</td>\n",
       "      <td>Зумштейн Ф.</td>\n",
       "      <td>1250</td>\n",
       "    </tr>\n",
       "    <tr>\n",
       "      <th>4</th>\n",
       "      <td>Python с нуля</td>\n",
       "      <td>Левашов П. Ю.</td>\n",
       "      <td>1907</td>\n",
       "    </tr>\n",
       "  </tbody>\n",
       "</table>\n",
       "</div>"
      ],
      "text/plain": [
       "                  book         author  price\n",
       "0     Python, например       Лейси Н.   1115\n",
       "1      Надежный Python     Виафоре П.   4247\n",
       "2  Сверхбыстрый PYTHON       Антао Т.   1178\n",
       "3     Python для Excel    Зумштейн Ф.   1250\n",
       "4        Python с нуля  Левашов П. Ю.   1907"
      ]
     },
     "execution_count": 69,
     "metadata": {},
     "output_type": "execute_result"
    }
   ],
   "source": [
    "df.head()"
   ]
  },
  {
   "cell_type": "markdown",
   "metadata": {},
   "source": [
    "Давайте приведем столбец с ценой к числовому типу. Уберем слова *Цена* и *руб*, а потом сконвертируем строки в числа с плавающей точкой. Напишем функцию `get_price()`,"
   ]
  },
  {
   "cell_type": "code",
   "execution_count": null,
   "metadata": {},
   "outputs": [],
   "source": [
    "#iloc = index location"
   ]
  },
  {
   "cell_type": "code",
   "execution_count": 105,
   "metadata": {},
   "outputs": [
    {
     "data": {
      "text/html": [
       "<div>\n",
       "<style scoped>\n",
       "    .dataframe tbody tr th:only-of-type {\n",
       "        vertical-align: middle;\n",
       "    }\n",
       "\n",
       "    .dataframe tbody tr th {\n",
       "        vertical-align: top;\n",
       "    }\n",
       "\n",
       "    .dataframe thead th {\n",
       "        text-align: right;\n",
       "    }\n",
       "</style>\n",
       "<table border=\"1\" class=\"dataframe\">\n",
       "  <thead>\n",
       "    <tr style=\"text-align: right;\">\n",
       "      <th></th>\n",
       "      <th>book</th>\n",
       "      <th>author</th>\n",
       "      <th>price</th>\n",
       "    </tr>\n",
       "  </thead>\n",
       "  <tbody>\n",
       "    <tr>\n",
       "      <th>1</th>\n",
       "      <td>Надежный Python</td>\n",
       "      <td>Виафоре П.</td>\n",
       "      <td>1115</td>\n",
       "    </tr>\n",
       "    <tr>\n",
       "      <th>2</th>\n",
       "      <td>Сверхбыстрый PYTHON</td>\n",
       "      <td>Антао Т.</td>\n",
       "      <td>0</td>\n",
       "    </tr>\n",
       "    <tr>\n",
       "      <th>3</th>\n",
       "      <td>Python для Excel</td>\n",
       "      <td>Зумштейн Ф.</td>\n",
       "      <td>1178</td>\n",
       "    </tr>\n",
       "  </tbody>\n",
       "</table>\n",
       "</div>"
      ],
      "text/plain": [
       "                  book       author  price\n",
       "1      Надежный Python   Виафоре П.   1115\n",
       "2  Сверхбыстрый PYTHON     Антао Т.      0\n",
       "3     Python для Excel  Зумштейн Ф.   1178"
      ]
     },
     "execution_count": 105,
     "metadata": {},
     "output_type": "execute_result"
    }
   ],
   "source": [
    "df.iloc[1:4]"
   ]
  },
  {
   "cell_type": "code",
   "execution_count": 108,
   "metadata": {},
   "outputs": [
    {
     "data": {
      "text/plain": [
       "1    1115\n",
       "2       0\n",
       "3    1178\n",
       "Name: price, dtype: int64"
      ]
     },
     "execution_count": 108,
     "metadata": {},
     "output_type": "execute_result"
    }
   ],
   "source": [
    "df.iloc[1:4]['price']"
   ]
  },
  {
   "cell_type": "code",
   "execution_count": 109,
   "metadata": {},
   "outputs": [
    {
     "data": {
      "text/plain": [
       "1115"
      ]
     },
     "execution_count": 109,
     "metadata": {},
     "output_type": "execute_result"
    }
   ],
   "source": [
    "df.iloc[1, -1] #срез - первое значение номер строки \n",
    "        #по конкретному индесу, 2е – номер колонки"
   ]
  },
  {
   "cell_type": "code",
   "execution_count": 66,
   "metadata": {},
   "outputs": [
    {
     "data": {
      "text/plain": [
       "['Цена:', '2239,00', 'руб.']"
      ]
     },
     "execution_count": 66,
     "metadata": {},
     "output_type": "execute_result"
    }
   ],
   "source": [
    "df.iloc[1, 3].split()"
   ]
  },
  {
   "cell_type": "code",
   "execution_count": 67,
   "metadata": {},
   "outputs": [
    {
     "data": {
      "text/plain": [
       "'2239,00'"
      ]
     },
     "execution_count": 67,
     "metadata": {},
     "output_type": "execute_result"
    }
   ],
   "source": [
    "df.iloc[1, 3].split()[1]"
   ]
  },
  {
   "cell_type": "code",
   "execution_count": 68,
   "metadata": {},
   "outputs": [
    {
     "data": {
      "text/plain": [
       "'2239.00'"
      ]
     },
     "execution_count": 68,
     "metadata": {},
     "output_type": "execute_result"
    }
   ],
   "source": [
    "df.iloc[1, 3].split()[1].replace(',','.')"
   ]
  },
  {
   "cell_type": "code",
   "execution_count": 75,
   "metadata": {},
   "outputs": [
    {
     "data": {
      "text/plain": [
       "2239.0"
      ]
     },
     "execution_count": 75,
     "metadata": {},
     "output_type": "execute_result"
    }
   ],
   "source": [
    "float(df.iloc[1, 3].split()[1].replace(',', '.'))"
   ]
  },
  {
   "cell_type": "code",
   "execution_count": 81,
   "metadata": {},
   "outputs": [],
   "source": [
    "import re"
   ]
  },
  {
   "cell_type": "code",
   "execution_count": 79,
   "metadata": {},
   "outputs": [
    {
     "data": {
      "text/plain": [
       "'2239.00'"
      ]
     },
     "execution_count": 79,
     "metadata": {},
     "output_type": "execute_result"
    }
   ],
   "source": [
    "'.'.join(re.findall(r'\\d+', df.iloc[1, 3]))"
   ]
  },
  {
   "cell_type": "code",
   "execution_count": 80,
   "metadata": {},
   "outputs": [
    {
     "data": {
      "text/plain": [
       "2239.0"
      ]
     },
     "execution_count": 80,
     "metadata": {},
     "output_type": "execute_result"
    }
   ],
   "source": [
    "float('.'.join(re.findall(r'\\d+', df.iloc[1, 3])))"
   ]
  },
  {
   "cell_type": "code",
   "execution_count": null,
   "metadata": {},
   "outputs": [],
   "source": [
    "re.findall(r'\\d+', df.iloc[1, 3])"
   ]
  },
  {
   "cell_type": "code",
   "execution_count": null,
   "metadata": {},
   "outputs": [],
   "source": [
    "float(df.iloc[1, 3].split()[1].replace(',', '.'))"
   ]
  },
  {
   "cell_type": "code",
   "execution_count": 81,
   "metadata": {},
   "outputs": [],
   "source": [
    "def get_price(price):\n",
    "    book_price = price.split(' ')[1]  # разобьем строку по пробелу и возьмем второй элемент\n",
    "    book_price = book_price.replace(',', '.')  # заменим запятую на точку\n",
    "    price_num = float(book_price)  # сконвертируем в float\n",
    "    return price_num"
   ]
  },
  {
   "cell_type": "code",
   "execution_count": 82,
   "metadata": {},
   "outputs": [],
   "source": [
    "def price(x):\n",
    "    return float('.'.join(re.findall(r'\\d+',x)))"
   ]
  },
  {
   "cell_type": "code",
   "execution_count": 83,
   "metadata": {},
   "outputs": [
    {
     "data": {
      "text/plain": [
       "2619.0"
      ]
     },
     "execution_count": 83,
     "metadata": {},
     "output_type": "execute_result"
    }
   ],
   "source": [
    "# проверка\n",
    "get_price(df.price[0])"
   ]
  },
  {
   "cell_type": "code",
   "execution_count": 84,
   "metadata": {},
   "outputs": [
    {
     "data": {
      "text/plain": [
       "2619.0"
      ]
     },
     "execution_count": 84,
     "metadata": {},
     "output_type": "execute_result"
    }
   ],
   "source": [
    "price(df.price[0])"
   ]
  },
  {
   "cell_type": "markdown",
   "metadata": {},
   "source": [
    "Всё отлично работает! Применим функцию к столбцу *price* и создадим новый столбец *nprice*."
   ]
  },
  {
   "cell_type": "code",
   "execution_count": 85,
   "metadata": {},
   "outputs": [
    {
     "data": {
      "text/html": [
       "<div>\n",
       "<style scoped>\n",
       "    .dataframe tbody tr th:only-of-type {\n",
       "        vertical-align: middle;\n",
       "    }\n",
       "\n",
       "    .dataframe tbody tr th {\n",
       "        vertical-align: top;\n",
       "    }\n",
       "\n",
       "    .dataframe thead th {\n",
       "        text-align: right;\n",
       "    }\n",
       "</style>\n",
       "<table border=\"1\" class=\"dataframe\">\n",
       "  <thead>\n",
       "    <tr style=\"text-align: right;\">\n",
       "      <th></th>\n",
       "      <th>book</th>\n",
       "      <th>author</th>\n",
       "      <th>placement</th>\n",
       "      <th>price</th>\n",
       "    </tr>\n",
       "  </thead>\n",
       "  <tbody>\n",
       "    <tr>\n",
       "      <th>0</th>\n",
       "      <td>Практическое введение в решение дифференциальн...</td>\n",
       "      <td>Н. М. Ершов</td>\n",
       "      <td>Расположение в торговом зале: Уровень 1, зал №...</td>\n",
       "      <td>Цена: 2619,00 руб.</td>\n",
       "    </tr>\n",
       "    <tr>\n",
       "      <th>1</th>\n",
       "      <td>Python. Чистый код для продолжающих</td>\n",
       "      <td>Э. Свейгарт</td>\n",
       "      <td>None</td>\n",
       "      <td>Цена: 2239,00 руб.</td>\n",
       "    </tr>\n",
       "  </tbody>\n",
       "</table>\n",
       "</div>"
      ],
      "text/plain": [
       "                                                book       author  \\\n",
       "0  Практическое введение в решение дифференциальн...  Н. М. Ершов   \n",
       "1                Python. Чистый код для продолжающих  Э. Свейгарт   \n",
       "\n",
       "                                           placement               price  \n",
       "0  Расположение в торговом зале: Уровень 1, зал №...  Цена: 2619,00 руб.  \n",
       "1                                               None  Цена: 2239,00 руб.  "
      ]
     },
     "execution_count": 85,
     "metadata": {},
     "output_type": "execute_result"
    }
   ],
   "source": [
    "df.head(2)"
   ]
  },
  {
   "cell_type": "code",
   "execution_count": 88,
   "metadata": {},
   "outputs": [],
   "source": [
    "df['nprice'] = df.price.apply(get_price)"
   ]
  },
  {
   "cell_type": "code",
   "execution_count": 89,
   "metadata": {},
   "outputs": [
    {
     "data": {
      "text/html": [
       "<div>\n",
       "<style scoped>\n",
       "    .dataframe tbody tr th:only-of-type {\n",
       "        vertical-align: middle;\n",
       "    }\n",
       "\n",
       "    .dataframe tbody tr th {\n",
       "        vertical-align: top;\n",
       "    }\n",
       "\n",
       "    .dataframe thead th {\n",
       "        text-align: right;\n",
       "    }\n",
       "</style>\n",
       "<table border=\"1\" class=\"dataframe\">\n",
       "  <thead>\n",
       "    <tr style=\"text-align: right;\">\n",
       "      <th></th>\n",
       "      <th>book</th>\n",
       "      <th>author</th>\n",
       "      <th>placement</th>\n",
       "      <th>price</th>\n",
       "      <th>nprice</th>\n",
       "    </tr>\n",
       "  </thead>\n",
       "  <tbody>\n",
       "    <tr>\n",
       "      <th>0</th>\n",
       "      <td>Практическое введение в решение дифференциальн...</td>\n",
       "      <td>Н. М. Ершов</td>\n",
       "      <td>Расположение в торговом зале: Уровень 1, зал №...</td>\n",
       "      <td>Цена: 2619,00 руб.</td>\n",
       "      <td>2619.0</td>\n",
       "    </tr>\n",
       "    <tr>\n",
       "      <th>1</th>\n",
       "      <td>Python. Чистый код для продолжающих</td>\n",
       "      <td>Э. Свейгарт</td>\n",
       "      <td>None</td>\n",
       "      <td>Цена: 2239,00 руб.</td>\n",
       "      <td>2239.0</td>\n",
       "    </tr>\n",
       "    <tr>\n",
       "      <th>2</th>\n",
       "      <td>Python - это просто. Пошаговое руководство по ...</td>\n",
       "      <td>Н. Нисчал</td>\n",
       "      <td>Расположение в торговом зале: Уровень 1, зал №...</td>\n",
       "      <td>Цена: 1189,00 руб.</td>\n",
       "      <td>1189.0</td>\n",
       "    </tr>\n",
       "    <tr>\n",
       "      <th>3</th>\n",
       "      <td>Python.Создаем программы и игры</td>\n",
       "      <td>Д. М. Кольцов</td>\n",
       "      <td>Расположение в торговом зале: Уровень 1, зал №...</td>\n",
       "      <td>Цена: 679,00 руб.</td>\n",
       "      <td>679.0</td>\n",
       "    </tr>\n",
       "    <tr>\n",
       "      <th>4</th>\n",
       "      <td>Алгоритмы Data Science и их практическая реали...</td>\n",
       "      <td>А. В. Протодьяконов, П. А. Пылов, В. Е. Садовн...</td>\n",
       "      <td>Расположение в торговом зале: Уровень 1, зал №...</td>\n",
       "      <td>Цена: 3459,00 руб.</td>\n",
       "      <td>3459.0</td>\n",
       "    </tr>\n",
       "  </tbody>\n",
       "</table>\n",
       "</div>"
      ],
      "text/plain": [
       "                                                book  \\\n",
       "0  Практическое введение в решение дифференциальн...   \n",
       "1                Python. Чистый код для продолжающих   \n",
       "2  Python - это просто. Пошаговое руководство по ...   \n",
       "3                    Python.Создаем программы и игры   \n",
       "4  Алгоритмы Data Science и их практическая реали...   \n",
       "\n",
       "                                              author  \\\n",
       "0                                        Н. М. Ершов   \n",
       "1                                        Э. Свейгарт   \n",
       "2                                          Н. Нисчал   \n",
       "3                                     Д. М. Кольцов    \n",
       "4  А. В. Протодьяконов, П. А. Пылов, В. Е. Садовн...   \n",
       "\n",
       "                                           placement               price  \\\n",
       "0  Расположение в торговом зале: Уровень 1, зал №...  Цена: 2619,00 руб.   \n",
       "1                                               None  Цена: 2239,00 руб.   \n",
       "2  Расположение в торговом зале: Уровень 1, зал №...  Цена: 1189,00 руб.   \n",
       "3  Расположение в торговом зале: Уровень 1, зал №...   Цена: 679,00 руб.   \n",
       "4  Расположение в торговом зале: Уровень 1, зал №...  Цена: 3459,00 руб.   \n",
       "\n",
       "   nprice  \n",
       "0  2619.0  \n",
       "1  2239.0  \n",
       "2  1189.0  \n",
       "3   679.0  \n",
       "4  3459.0  "
      ]
     },
     "execution_count": 89,
     "metadata": {},
     "output_type": "execute_result"
    }
   ],
   "source": [
    "df.head()"
   ]
  },
  {
   "cell_type": "code",
   "execution_count": 90,
   "metadata": {},
   "outputs": [
    {
     "name": "stdout",
     "output_type": "stream",
     "text": [
      "<class 'pandas.core.frame.DataFrame'>\n",
      "RangeIndex: 20 entries, 0 to 19\n",
      "Data columns (total 5 columns):\n",
      " #   Column     Non-Null Count  Dtype  \n",
      "---  ------     --------------  -----  \n",
      " 0   book       20 non-null     object \n",
      " 1   author     20 non-null     object \n",
      " 2   placement  19 non-null     object \n",
      " 3   price      20 non-null     object \n",
      " 4   nprice     20 non-null     float64\n",
      "dtypes: float64(1), object(4)\n",
      "memory usage: 928.0+ bytes\n"
     ]
    }
   ],
   "source": [
    "df.info()"
   ]
  },
  {
   "cell_type": "code",
   "execution_count": 91,
   "metadata": {},
   "outputs": [
    {
     "data": {
      "text/html": [
       "<div>\n",
       "<style scoped>\n",
       "    .dataframe tbody tr th:only-of-type {\n",
       "        vertical-align: middle;\n",
       "    }\n",
       "\n",
       "    .dataframe tbody tr th {\n",
       "        vertical-align: top;\n",
       "    }\n",
       "\n",
       "    .dataframe thead th {\n",
       "        text-align: right;\n",
       "    }\n",
       "</style>\n",
       "<table border=\"1\" class=\"dataframe\">\n",
       "  <thead>\n",
       "    <tr style=\"text-align: right;\">\n",
       "      <th></th>\n",
       "      <th>nprice</th>\n",
       "    </tr>\n",
       "  </thead>\n",
       "  <tbody>\n",
       "    <tr>\n",
       "      <th>count</th>\n",
       "      <td>20.000000</td>\n",
       "    </tr>\n",
       "    <tr>\n",
       "      <th>mean</th>\n",
       "      <td>1846.500000</td>\n",
       "    </tr>\n",
       "    <tr>\n",
       "      <th>std</th>\n",
       "      <td>1113.561735</td>\n",
       "    </tr>\n",
       "    <tr>\n",
       "      <th>min</th>\n",
       "      <td>499.000000</td>\n",
       "    </tr>\n",
       "    <tr>\n",
       "      <th>25%</th>\n",
       "      <td>1046.500000</td>\n",
       "    </tr>\n",
       "    <tr>\n",
       "      <th>50%</th>\n",
       "      <td>1514.000000</td>\n",
       "    </tr>\n",
       "    <tr>\n",
       "      <th>75%</th>\n",
       "      <td>2334.000000</td>\n",
       "    </tr>\n",
       "    <tr>\n",
       "      <th>max</th>\n",
       "      <td>4459.000000</td>\n",
       "    </tr>\n",
       "  </tbody>\n",
       "</table>\n",
       "</div>"
      ],
      "text/plain": [
       "            nprice\n",
       "count    20.000000\n",
       "mean   1846.500000\n",
       "std    1113.561735\n",
       "min     499.000000\n",
       "25%    1046.500000\n",
       "50%    1514.000000\n",
       "75%    2334.000000\n",
       "max    4459.000000"
      ]
     },
     "execution_count": 91,
     "metadata": {},
     "output_type": "execute_result"
    }
   ],
   "source": [
    "df.describe() #для количеств признаков возвращает статистики"
   ]
  },
  {
   "cell_type": "markdown",
   "metadata": {},
   "source": [
    "Теперь можем расположить книги по цене в порядке возрастания:"
   ]
  },
  {
   "cell_type": "code",
   "execution_count": 93,
   "metadata": {},
   "outputs": [
    {
     "data": {
      "text/html": [
       "<div>\n",
       "<style scoped>\n",
       "    .dataframe tbody tr th:only-of-type {\n",
       "        vertical-align: middle;\n",
       "    }\n",
       "\n",
       "    .dataframe tbody tr th {\n",
       "        vertical-align: top;\n",
       "    }\n",
       "\n",
       "    .dataframe thead th {\n",
       "        text-align: right;\n",
       "    }\n",
       "</style>\n",
       "<table border=\"1\" class=\"dataframe\">\n",
       "  <thead>\n",
       "    <tr style=\"text-align: right;\">\n",
       "      <th></th>\n",
       "      <th>book</th>\n",
       "      <th>author</th>\n",
       "      <th>placement</th>\n",
       "      <th>price</th>\n",
       "      <th>nprice</th>\n",
       "    </tr>\n",
       "  </thead>\n",
       "  <tbody>\n",
       "    <tr>\n",
       "      <th>14</th>\n",
       "      <td>Изучаем Python, том 1</td>\n",
       "      <td>Изучаем Python, том 1</td>\n",
       "      <td>Расположение в торговом зале: Уровень 1, зал №...</td>\n",
       "      <td>Цена: 4459,00 руб.</td>\n",
       "      <td>4459.0</td>\n",
       "    </tr>\n",
       "    <tr>\n",
       "      <th>17</th>\n",
       "      <td>Стандартная библиотека Python 3</td>\n",
       "      <td>Стандартная библиотека Python 3</td>\n",
       "      <td>Расположение в торговом зале: Уровень 1, зал №...</td>\n",
       "      <td>Цена: 4109,00 руб.</td>\n",
       "      <td>4109.0</td>\n",
       "    </tr>\n",
       "    <tr>\n",
       "      <th>4</th>\n",
       "      <td>Алгоритмы Data Science и их практическая реали...</td>\n",
       "      <td>А. В. Протодьяконов, П. А. Пылов, В. Е. Садовн...</td>\n",
       "      <td>Расположение в торговом зале: Уровень 1, зал №...</td>\n",
       "      <td>Цена: 3459,00 руб.</td>\n",
       "      <td>3459.0</td>\n",
       "    </tr>\n",
       "    <tr>\n",
       "      <th>0</th>\n",
       "      <td>Практическое введение в решение дифференциальн...</td>\n",
       "      <td>Н. М. Ершов</td>\n",
       "      <td>Расположение в торговом зале: Уровень 1, зал №...</td>\n",
       "      <td>Цена: 2619,00 руб.</td>\n",
       "      <td>2619.0</td>\n",
       "    </tr>\n",
       "    <tr>\n",
       "      <th>7</th>\n",
       "      <td>Начинаем программировать на Python</td>\n",
       "      <td>Т. Гэддис</td>\n",
       "      <td>Расположение в торговом зале: Уровень 1, зал №...</td>\n",
       "      <td>Цена: 2619,00 руб.</td>\n",
       "      <td>2619.0</td>\n",
       "    </tr>\n",
       "    <tr>\n",
       "      <th>1</th>\n",
       "      <td>Python. Чистый код для продолжающих</td>\n",
       "      <td>Э. Свейгарт</td>\n",
       "      <td>None</td>\n",
       "      <td>Цена: 2239,00 руб.</td>\n",
       "      <td>2239.0</td>\n",
       "    </tr>\n",
       "    <tr>\n",
       "      <th>13</th>\n",
       "      <td>Простой Python. Современный стиль программиров...</td>\n",
       "      <td>Простой Python. Современный стиль программиров...</td>\n",
       "      <td>Расположение в торговом зале: Уровень 1, зал №...</td>\n",
       "      <td>Цена: 2019,00 руб.</td>\n",
       "      <td>2019.0</td>\n",
       "    </tr>\n",
       "    <tr>\n",
       "      <th>9</th>\n",
       "      <td>Изучаем программирование на Python</td>\n",
       "      <td>П. Бэрри</td>\n",
       "      <td>Расположение в торговом зале: Уровень 1, зал №...</td>\n",
       "      <td>Цена: 1859,00 руб.</td>\n",
       "      <td>1859.0</td>\n",
       "    </tr>\n",
       "    <tr>\n",
       "      <th>19</th>\n",
       "      <td>Большая книга проектов Python</td>\n",
       "      <td>Большая книга проектов Python</td>\n",
       "      <td>Расположение в торговом зале: Уровень 1, зал №...</td>\n",
       "      <td>Цена: 1669,00 руб.</td>\n",
       "      <td>1669.0</td>\n",
       "    </tr>\n",
       "    <tr>\n",
       "      <th>6</th>\n",
       "      <td>Python для детей : самоучитель по программиров...</td>\n",
       "      <td>Дж. Бриггс</td>\n",
       "      <td>Расположение в торговом зале: Уровень 1, зал №...</td>\n",
       "      <td>Цена: 1569,00 руб.</td>\n",
       "      <td>1569.0</td>\n",
       "    </tr>\n",
       "    <tr>\n",
       "      <th>16</th>\n",
       "      <td>Чистый Python. Тонкости программирования для п...</td>\n",
       "      <td>Чистый Python. Тонкости программирования для п...</td>\n",
       "      <td>Расположение в торговом зале: Уровень 1, зал №...</td>\n",
       "      <td>Цена: 1459,00 руб.</td>\n",
       "      <td>1459.0</td>\n",
       "    </tr>\n",
       "    <tr>\n",
       "      <th>5</th>\n",
       "      <td>Программируем на Python</td>\n",
       "      <td>М. Доусон</td>\n",
       "      <td>Расположение в торговом зале: Уровень 1, зал №...</td>\n",
       "      <td>Цена: 1359,00 руб.</td>\n",
       "      <td>1359.0</td>\n",
       "    </tr>\n",
       "    <tr>\n",
       "      <th>15</th>\n",
       "      <td>Python 3   Самое необходимое</td>\n",
       "      <td>Python 3   Самое необходимое</td>\n",
       "      <td>Расположение в торговом зале: Уровень 1, зал №...</td>\n",
       "      <td>Цена: 1329,00 руб.</td>\n",
       "      <td>1329.0</td>\n",
       "    </tr>\n",
       "    <tr>\n",
       "      <th>2</th>\n",
       "      <td>Python - это просто. Пошаговое руководство по ...</td>\n",
       "      <td>Н. Нисчал</td>\n",
       "      <td>Расположение в торговом зале: Уровень 1, зал №...</td>\n",
       "      <td>Цена: 1189,00 руб.</td>\n",
       "      <td>1189.0</td>\n",
       "    </tr>\n",
       "    <tr>\n",
       "      <th>10</th>\n",
       "      <td>Python для юных программистов</td>\n",
       "      <td>Python для юных программистов</td>\n",
       "      <td>Расположение в торговом зале: Уровень 1, зал №...</td>\n",
       "      <td>Цена: 1059,00 руб.</td>\n",
       "      <td>1059.0</td>\n",
       "    </tr>\n",
       "    <tr>\n",
       "      <th>12</th>\n",
       "      <td>Python: быстрый старт</td>\n",
       "      <td>Python: быстрый старт</td>\n",
       "      <td>Расположение в торговом зале: Уровень 1, зал №...</td>\n",
       "      <td>Цена: 1009,00 руб.</td>\n",
       "      <td>1009.0</td>\n",
       "    </tr>\n",
       "    <tr>\n",
       "      <th>8</th>\n",
       "      <td>Машинное обучение: карманный справочник. Кратк...</td>\n",
       "      <td>М. Харрисон</td>\n",
       "      <td>Расположение в торговом зале: Уровень 1, зал №...</td>\n",
       "      <td>Цена: 939,00 руб.</td>\n",
       "      <td>939.0</td>\n",
       "    </tr>\n",
       "    <tr>\n",
       "      <th>18</th>\n",
       "      <td>Программирование на Python для начинающих</td>\n",
       "      <td>Программирование на Python для начинающих</td>\n",
       "      <td>Расположение в торговом зале: Уровень 1, зал №...</td>\n",
       "      <td>Цена: 789,00 руб.</td>\n",
       "      <td>789.0</td>\n",
       "    </tr>\n",
       "    <tr>\n",
       "      <th>3</th>\n",
       "      <td>Python.Создаем программы и игры</td>\n",
       "      <td>Д. М. Кольцов</td>\n",
       "      <td>Расположение в торговом зале: Уровень 1, зал №...</td>\n",
       "      <td>Цена: 679,00 руб.</td>\n",
       "      <td>679.0</td>\n",
       "    </tr>\n",
       "    <tr>\n",
       "      <th>11</th>\n",
       "      <td>Справочник PYTHON.  Кратко, быстро, под рукой</td>\n",
       "      <td>Справочник PYTHON.  Кратко, быстро, под рукой</td>\n",
       "      <td>Расположение в торговом зале: Уровень 1, зал №...</td>\n",
       "      <td>Цена: 499,00 руб.</td>\n",
       "      <td>499.0</td>\n",
       "    </tr>\n",
       "  </tbody>\n",
       "</table>\n",
       "</div>"
      ],
      "text/plain": [
       "                                                 book  \\\n",
       "14                              Изучаем Python, том 1   \n",
       "17                    Стандартная библиотека Python 3   \n",
       "4   Алгоритмы Data Science и их практическая реали...   \n",
       "0   Практическое введение в решение дифференциальн...   \n",
       "7                  Начинаем программировать на Python   \n",
       "1                 Python. Чистый код для продолжающих   \n",
       "13  Простой Python. Современный стиль программиров...   \n",
       "9                  Изучаем программирование на Python   \n",
       "19                      Большая книга проектов Python   \n",
       "6   Python для детей : самоучитель по программиров...   \n",
       "16  Чистый Python. Тонкости программирования для п...   \n",
       "5                             Программируем на Python   \n",
       "15                      Python 3   Самое необходимое    \n",
       "2   Python - это просто. Пошаговое руководство по ...   \n",
       "10                      Python для юных программистов   \n",
       "12                              Python: быстрый старт   \n",
       "8   Машинное обучение: карманный справочник. Кратк...   \n",
       "18          Программирование на Python для начинающих   \n",
       "3                     Python.Создаем программы и игры   \n",
       "11      Справочник PYTHON.  Кратко, быстро, под рукой   \n",
       "\n",
       "                                               author  \\\n",
       "14                              Изучаем Python, том 1   \n",
       "17                    Стандартная библиотека Python 3   \n",
       "4   А. В. Протодьяконов, П. А. Пылов, В. Е. Садовн...   \n",
       "0                                         Н. М. Ершов   \n",
       "7                                          Т. Гэддис    \n",
       "1                                         Э. Свейгарт   \n",
       "13  Простой Python. Современный стиль программиров...   \n",
       "9                                            П. Бэрри   \n",
       "19                      Большая книга проектов Python   \n",
       "6                                          Дж. Бриггс   \n",
       "16  Чистый Python. Тонкости программирования для п...   \n",
       "5                                           М. Доусон   \n",
       "15                      Python 3   Самое необходимое    \n",
       "2                                           Н. Нисчал   \n",
       "10                      Python для юных программистов   \n",
       "12                              Python: быстрый старт   \n",
       "8                                         М. Харрисон   \n",
       "18          Программирование на Python для начинающих   \n",
       "3                                      Д. М. Кольцов    \n",
       "11      Справочник PYTHON.  Кратко, быстро, под рукой   \n",
       "\n",
       "                                            placement               price  \\\n",
       "14  Расположение в торговом зале: Уровень 1, зал №...  Цена: 4459,00 руб.   \n",
       "17  Расположение в торговом зале: Уровень 1, зал №...  Цена: 4109,00 руб.   \n",
       "4   Расположение в торговом зале: Уровень 1, зал №...  Цена: 3459,00 руб.   \n",
       "0   Расположение в торговом зале: Уровень 1, зал №...  Цена: 2619,00 руб.   \n",
       "7   Расположение в торговом зале: Уровень 1, зал №...  Цена: 2619,00 руб.   \n",
       "1                                                None  Цена: 2239,00 руб.   \n",
       "13  Расположение в торговом зале: Уровень 1, зал №...  Цена: 2019,00 руб.   \n",
       "9   Расположение в торговом зале: Уровень 1, зал №...  Цена: 1859,00 руб.   \n",
       "19  Расположение в торговом зале: Уровень 1, зал №...  Цена: 1669,00 руб.   \n",
       "6   Расположение в торговом зале: Уровень 1, зал №...  Цена: 1569,00 руб.   \n",
       "16  Расположение в торговом зале: Уровень 1, зал №...  Цена: 1459,00 руб.   \n",
       "5   Расположение в торговом зале: Уровень 1, зал №...  Цена: 1359,00 руб.   \n",
       "15  Расположение в торговом зале: Уровень 1, зал №...  Цена: 1329,00 руб.   \n",
       "2   Расположение в торговом зале: Уровень 1, зал №...  Цена: 1189,00 руб.   \n",
       "10  Расположение в торговом зале: Уровень 1, зал №...  Цена: 1059,00 руб.   \n",
       "12  Расположение в торговом зале: Уровень 1, зал №...  Цена: 1009,00 руб.   \n",
       "8   Расположение в торговом зале: Уровень 1, зал №...   Цена: 939,00 руб.   \n",
       "18  Расположение в торговом зале: Уровень 1, зал №...   Цена: 789,00 руб.   \n",
       "3   Расположение в торговом зале: Уровень 1, зал №...   Цена: 679,00 руб.   \n",
       "11  Расположение в торговом зале: Уровень 1, зал №...   Цена: 499,00 руб.   \n",
       "\n",
       "    nprice  \n",
       "14  4459.0  \n",
       "17  4109.0  \n",
       "4   3459.0  \n",
       "0   2619.0  \n",
       "7   2619.0  \n",
       "1   2239.0  \n",
       "13  2019.0  \n",
       "9   1859.0  \n",
       "19  1669.0  \n",
       "6   1569.0  \n",
       "16  1459.0  \n",
       "5   1359.0  \n",
       "15  1329.0  \n",
       "2   1189.0  \n",
       "10  1059.0  \n",
       "12  1009.0  \n",
       "8    939.0  \n",
       "18   789.0  \n",
       "3    679.0  \n",
       "11   499.0  "
      ]
     },
     "execution_count": 93,
     "metadata": {},
     "output_type": "execute_result"
    }
   ],
   "source": [
    "df.sort_values('nprice', ascending=False)"
   ]
  },
  {
   "cell_type": "markdown",
   "metadata": {},
   "source": [
    "И сохраним всю таблицу в csv-файл:"
   ]
  },
  {
   "cell_type": "code",
   "execution_count": 94,
   "metadata": {},
   "outputs": [],
   "source": [
    "df.to_csv(\"books.csv\", index=False)"
   ]
  },
  {
   "cell_type": "code",
   "execution_count": 95,
   "metadata": {},
   "outputs": [],
   "source": [
    "df.to_excel(\"books.xlsx\", index=False)"
   ]
  },
  {
   "cell_type": "code",
   "execution_count": 96,
   "metadata": {},
   "outputs": [],
   "source": [
    "br.close()"
   ]
  },
  {
   "cell_type": "code",
   "execution_count": null,
   "metadata": {},
   "outputs": [],
   "source": []
  },
  {
   "cell_type": "code",
   "execution_count": null,
   "metadata": {
    "scrolled": true
   },
   "outputs": [],
   "source": [
    "from selenium import webdriver\n",
    "from webdriver_manager.chrome import ChromeDriverManager\n",
    "\n",
    "br = webdriver.Chrome(ChromeDriverManager().install())\n",
    "\n",
    "# открываем страницу в Chrome в автоматическом режиме\n",
    "br.get(\"http://www.biblio-globus.ru/\")"
   ]
  },
  {
   "cell_type": "code",
   "execution_count": null,
   "metadata": {},
   "outputs": [],
   "source": [
    "books = '//*[@id=\"TableMRight\"]/tbody/tr/td/table/tbody/tr[2]/td[2]/a'"
   ]
  },
  {
   "cell_type": "code",
   "execution_count": null,
   "metadata": {},
   "outputs": [],
   "source": [
    "books_el = br.find_element_by_xpath(books)"
   ]
  },
  {
   "cell_type": "code",
   "execution_count": null,
   "metadata": {},
   "outputs": [],
   "source": [
    "books_el.click()"
   ]
  },
  {
   "cell_type": "code",
   "execution_count": null,
   "metadata": {},
   "outputs": [],
   "source": [
    "det_css = 'body > table > tbody > tr:nth-child(2) > td.column_right > div > div.card-columns > div:nth-child(1) > div > ul > li > ul > li:nth-child(2) > ul > li:nth-child(2) > a'"
   ]
  },
  {
   "cell_type": "code",
   "execution_count": null,
   "metadata": {},
   "outputs": [],
   "source": [
    "det_el = br.find_element_by_css_selector(det_css)"
   ]
  },
  {
   "cell_type": "code",
   "execution_count": null,
   "metadata": {},
   "outputs": [],
   "source": [
    "det_el.click()"
   ]
  },
  {
   "cell_type": "code",
   "execution_count": null,
   "metadata": {},
   "outputs": [],
   "source": [
    "page1 = BeautifulSoup(br.page_source)"
   ]
  },
  {
   "cell_type": "code",
   "execution_count": null,
   "metadata": {},
   "outputs": [],
   "source": [
    "books_p1 = page1.find_all('div', {'class': 'details_1'})"
   ]
  },
  {
   "cell_type": "code",
   "execution_count": null,
   "metadata": {},
   "outputs": [],
   "source": [
    "len(books_p1)"
   ]
  },
  {
   "cell_type": "code",
   "execution_count": null,
   "metadata": {},
   "outputs": [],
   "source": [
    "books_p1[0]"
   ]
  },
  {
   "cell_type": "code",
   "execution_count": null,
   "metadata": {},
   "outputs": [],
   "source": [
    "books_p1[0].div is not None"
   ]
  },
  {
   "cell_type": "code",
   "execution_count": null,
   "metadata": {},
   "outputs": [],
   "source": [
    "books_p1[0].find('div', {'class': 'author'}).text"
   ]
  },
  {
   "cell_type": "code",
   "execution_count": null,
   "metadata": {},
   "outputs": [],
   "source": [
    "books_p1[0].a.text"
   ]
  },
  {
   "cell_type": "code",
   "execution_count": null,
   "metadata": {},
   "outputs": [],
   "source": [
    "books_p1[0].find('div', {'class': 'placement'}).text"
   ]
  },
  {
   "cell_type": "code",
   "execution_count": null,
   "metadata": {},
   "outputs": [],
   "source": [
    "books_p1[0].find('div', {'class': 'title_data price'}).text"
   ]
  },
  {
   "cell_type": "code",
   "execution_count": null,
   "metadata": {},
   "outputs": [],
   "source": [
    "books_p1[0].find('div', {'class': 'title_data pricee'}) is None"
   ]
  },
  {
   "cell_type": "code",
   "execution_count": null,
   "metadata": {},
   "outputs": [],
   "source": [
    "titles = []\n",
    "authors = []\n",
    "prices = []\n",
    "for book in books_p1:\n",
    "    if book.find('div', {'class': 'author'}) is not None:\n",
    "        authors.append(book.find('div', {'class': 'author'}).text)\n",
    "    else:\n",
    "        authors.append('')\n",
    "        \n",
    "    if book.a is not None:\n",
    "        titles.append(book.a.text)\n",
    "    else:\n",
    "        titles.append('')\n",
    "        \n",
    "    if book.find('div', {'class': 'title_data price'}) is not None:\n",
    "        prices.append(book.find('div', {'class': 'title_data price'}).text)\n",
    "    else:\n",
    "        prices.append('')"
   ]
  },
  {
   "cell_type": "code",
   "execution_count": null,
   "metadata": {
    "scrolled": false
   },
   "outputs": [],
   "source": [
    "titles"
   ]
  },
  {
   "cell_type": "code",
   "execution_count": null,
   "metadata": {},
   "outputs": [],
   "source": [
    "def get_page_info(books_p):\n",
    "    titles = []\n",
    "    authors = []\n",
    "    places = []\n",
    "    prices = []\n",
    "    for book in books_p:\n",
    "        if book.div is not None:\n",
    "            authors.append(book.div.text)\n",
    "        else:\n",
    "            authors.append('')\n",
    "\n",
    "        if book.a is not None:\n",
    "            titles.append(book.a.text)\n",
    "        else:\n",
    "            titles.append('')\n",
    "\n",
    "        if book.find('div', {'class': 'placement'}) is not None:\n",
    "            places.append(book.find('div', {'class': 'placement'}).text)\n",
    "        else:\n",
    "            places.append('')\n",
    "\n",
    "        if book.find('div', {'class': 'title_data price'}) is not None:\n",
    "            prices.append(book.find('div', {'class': 'title_data price'}).text)\n",
    "        else:\n",
    "            prices.append('')\n",
    "            \n",
    "    return titles, authors, places, prices"
   ]
  },
  {
   "cell_type": "code",
   "execution_count": null,
   "metadata": {},
   "outputs": [],
   "source": [
    "next_page = '//*[@id=\"main_wrapper\"]/ul/li[4]/a'"
   ]
  },
  {
   "cell_type": "code",
   "execution_count": null,
   "metadata": {},
   "outputs": [],
   "source": [
    "page2 = br.find_element_by_xpath(next_page)"
   ]
  },
  {
   "cell_type": "code",
   "execution_count": null,
   "metadata": {},
   "outputs": [],
   "source": [
    "page2.click()"
   ]
  },
  {
   "cell_type": "code",
   "execution_count": null,
   "metadata": {},
   "outputs": [],
   "source": [
    "# next_page_2 = '//*[@id=\"main_wrapper\"]/ul/li[8]/a'\n",
    "# next_page_2 = br.find_element_by_xpath(next_page_2)\n",
    "# next_page_2.click()"
   ]
  },
  {
   "cell_type": "code",
   "execution_count": null,
   "metadata": {},
   "outputs": [],
   "source": [
    "from time import sleep"
   ]
  },
  {
   "cell_type": "code",
   "execution_count": null,
   "metadata": {},
   "outputs": [],
   "source": [
    "np_xpath = '//*[@id=\"main_wrapper\"]/ul/li[8]/a/span[1]'"
   ]
  },
  {
   "cell_type": "code",
   "execution_count": 113,
   "metadata": {},
   "outputs": [
    {
     "data": {
      "text/plain": [
       "[2, 2, 3]"
      ]
     },
     "execution_count": 113,
     "metadata": {},
     "output_type": "execute_result"
    }
   ],
   "source": [
    "a = [2]\n",
    "a += [2, 3]\n",
    "a"
   ]
  },
  {
   "cell_type": "code",
   "execution_count": null,
   "metadata": {},
   "outputs": [],
   "source": [
    "for _ in range(3):\n",
    "    try:\n",
    "        page = BeautifulSoup(br.page_source)\n",
    "        books = page.find_all('div', {'class': 'details_1'})\n",
    "        t, a, pl, pr = get_page_info(books)\n",
    "        titles.extend(t)\n",
    "        authors.extend(a)\n",
    "        places.extend(pl)\n",
    "        prices.extend(pr)\n",
    "        np = br.find_element_by_xpath(np_xpath)\n",
    "        sleep(3)\n",
    "        np.click()\n",
    "    except:\n",
    "        print('all pages parsed')\n",
    "        break"
   ]
  },
  {
   "cell_type": "code",
   "execution_count": null,
   "metadata": {},
   "outputs": [],
   "source": [
    "df = pd.DataFrame({'book': titles, 'author': authors,\n",
    "                   'placement': places, 'price': prices})"
   ]
  },
  {
   "cell_type": "code",
   "execution_count": null,
   "metadata": {},
   "outputs": [],
   "source": [
    "df.head()"
   ]
  },
  {
   "cell_type": "code",
   "execution_count": null,
   "metadata": {},
   "outputs": [],
   "source": [
    "df.shape"
   ]
  },
  {
   "cell_type": "code",
   "execution_count": 85,
   "metadata": {},
   "outputs": [],
   "source": [
    "br.close()"
   ]
  },
  {
   "cell_type": "code",
   "execution_count": null,
   "metadata": {},
   "outputs": [],
   "source": []
  }
 ],
 "metadata": {
  "kernelspec": {
   "display_name": "Python 3 (ipykernel)",
   "language": "python",
   "name": "python3"
  },
  "language_info": {
   "codemirror_mode": {
    "name": "ipython",
    "version": 3
   },
   "file_extension": ".py",
   "mimetype": "text/x-python",
   "name": "python",
   "nbconvert_exporter": "python",
   "pygments_lexer": "ipython3",
   "version": "3.9.13"
  },
  "toc": {
   "base_numbering": 1,
   "nav_menu": {},
   "number_sections": true,
   "sideBar": true,
   "skip_h1_title": false,
   "title_cell": "Table of Contents",
   "title_sidebar": "Contents",
   "toc_cell": false,
   "toc_position": {},
   "toc_section_display": true,
   "toc_window_display": false
  },
  "varInspector": {
   "cols": {
    "lenName": 16,
    "lenType": 16,
    "lenVar": 40
   },
   "kernels_config": {
    "python": {
     "delete_cmd_postfix": "",
     "delete_cmd_prefix": "del ",
     "library": "var_list.py",
     "varRefreshCmd": "print(var_dic_list())"
    },
    "r": {
     "delete_cmd_postfix": ") ",
     "delete_cmd_prefix": "rm(",
     "library": "var_list.r",
     "varRefreshCmd": "cat(var_dic_list()) "
    }
   },
   "types_to_exclude": [
    "module",
    "function",
    "builtin_function_or_method",
    "instance",
    "_Feature"
   ],
   "window_display": false
  }
 },
 "nbformat": 4,
 "nbformat_minor": 2
}
